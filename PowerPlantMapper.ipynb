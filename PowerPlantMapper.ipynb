{
 "cells": [
  {
   "cell_type": "markdown",
   "metadata": {},
   "source": [
    "# Please Initialize the application by clicking on 'Cell' in the menu bar and selecting 'Run All'.\n",
    "\n",
    "### This application easily produces publication ready bubble maps displaying the types and sizes of grid-connected generators in any country. \n",
    "### All without touching a line of code!\n",
    "\n",
    "### Basic Instructions:\n",
    "\n",
    "1. Initialize the application by clicking on 'Cell' in the menu bar and selecting 'Run All'.\n",
    "\n",
    "\n",
    "2. Enter the __Country Name__.\n",
    "\n",
    "\n",
    "3. Choose the desired level of __Simplification__ for resource type:\n",
    "    -  *Simple* breaks resources into 'Renewable', 'Fossil', and 'Nuclear'.\n",
    "    -  *Mixed* subdivides renewables (solar, wind, etc.) but keeps 'Fossil' together. \n",
    "    -  *Complex* labels every resource type.\n",
    "    \n",
    "\n",
    "4. Press the __Update Plot__ button. Be patient, it can take a few seconds.\n",
    "\n",
    "\n",
    "5. Drag the legend to a better location, if needed (this can be a little wonky––try clicking after moving to ).\n",
    "\n",
    "\n",
    "6. To save the image, click the power symbol in the upper right portion of the map. Then right click on the map and select 'Save Image As'. \n",
    "\n",
    "\n",
    "### Advanced Instructions:\n",
    "\n",
    "1. __Coordinate System__ sets the crs used in the map projection. The default value is *spherical* which uses EPSG:3857. *Geo* can also be entered for a standard mercator projection (ESPG:4326). A custom CRS can be used by entering the EPSG integer. For example, *5940* (a crs designed for Russia) can be entered to avoid having Russia wrap around the side of the map. Visit __[EPSG](https://epsg.io/3857)__ to find custom coordinate systems. *Default Value: spherical*\n",
    "\n",
    "\n",
    "2. __Number of Legend Columns__. *Default Value: 1*\n",
    "\n",
    "\n",
    "\n",
    "3. __Sort Legend By__ sorts the resources in the legend (not the size indicators) by either *alphabetical* or by the sum of the *capacity* of the resource for the selected country. *Default Value: capacity*\n",
    "\n",
    "\n",
    "\n",
    "4. __Zoom Level__ changes the size of the map portion of the plot. This can be useful to adjust the map for different sized screens, or to provide a bigger map for the purpose of saving. *__WARNING:__* making this value large enough to produce an image wider than the width of the console will result in erratic results! *Default Value: 1.5*\n",
    "\n",
    "\n",
    "\n",
    "5. __Island Size Thresh__ creates a minimum threshold (in km^2) for the geometry of islands to be included in the map. *largest* can also be entered to only select the largest geometry for the country. For example, plotting Canada with the default values includes a number of arctic islands that are useless for the purpose of a power plant map (sorry Baffin island). Setting __Island Size Thresh__ to either *largest* or *8000000* will only display the continental portions of Canada. *Default Value: 200 (km^2)*\n",
    "\n",
    "\n",
    "\n",
    "6. __Show Populated Places__ can be used to draw points on the map in the location of populated cities. Data is drawn from the __[Natural Earth](https://www.naturalearthdata.com/downloads/10m-cultural-vectors/10m-populated-places/)__ database of populated places which includes data for an astonishing number of locations. Additionally, arrows are drawn labeling the name of these points (*__HINT:__* these labels are draggable, although it doesn't work the best!). __Show Populated Places__ can either be *False* (i.e. off), or an integer value which sets the minimum population threshold for a city to be included on the map. *Default Value: False*\n",
    "\n",
    "\n",
    "\n",
    "7. __Bubble Opacity__ is used to change the opacity of the powerplant bubbles. Setting it lower can be useful for countries with a large number of overlapping bubbles (i.e. the United States). *Default Value: 0.5*\n",
    "\n",
    "\n",
    "\n",
    "8. __Country Precursor__ allows you to enter a word (or series of words) to appear before the country name in the title of the plot. For instance, if you entered 'Philippines' as the __Country Name__ but want the title to be 'Power Plants in The Philippines' you could enter *\"The \"* into __Country Precursor__. *Default Value: None*\n",
    "\n",
    "\n",
    "\n",
    "9. __Title On__ turns the title at the top on or off. *Default: True*\n",
    "\n",
    "\n",
    "\n",
    "10. __Source On__ turns the source at the bottom on or off. *Default: True*\n",
    "\n",
    "\n",
    "\n",
    "Please email me at sam.koebrich@NREL.gov with any bugs, comments, or feature requests!"
   ]
  },
  {
   "cell_type": "code",
   "execution_count": 1,
   "metadata": {
    "init_cell": true,
    "scrolled": true
   },
   "outputs": [
    {
     "data": {
      "text/html": [
       "<style>.container { width:85% !important; }</style>"
      ],
      "text/plain": [
       "<IPython.core.display.HTML object>"
      ]
     },
     "metadata": {},
     "output_type": "display_data"
    },
    {
     "data": {
      "application/vnd.jupyter.widget-view+json": {
       "model_id": "61403d5276d141339aca7c9f494a8e61",
       "version_major": 2,
       "version_minor": 0
      },
      "text/plain": [
       "Text(value='India', description='Country Name:', placeholder='Type a country name', style=DescriptionStyle(des…"
      ]
     },
     "metadata": {},
     "output_type": "display_data"
    },
    {
     "data": {
      "application/vnd.jupyter.widget-view+json": {
       "model_id": "28655db3a6ac47f69ef01ed42bc0519f",
       "version_major": 2,
       "version_minor": 0
      },
      "text/plain": [
       "ToggleButtons(description='Simplification Level:', index=1, options=('Simple', 'Mixed', 'Complex'), style=Togg…"
      ]
     },
     "metadata": {},
     "output_type": "display_data"
    }
   ],
   "source": [
    "import parameterwidgets as pw\n",
    "pw.showbasicwidgets()"
   ]
  },
  {
   "cell_type": "code",
   "execution_count": 2,
   "metadata": {
    "init_cell": true
   },
   "outputs": [
    {
     "data": {
      "application/vnd.jupyter.widget-view+json": {
       "model_id": "f98b6f51a9fc476a83839a240bd3a53e",
       "version_major": 2,
       "version_minor": 0
      },
      "text/plain": [
       "Text(value='spherical', description='Coordinate System:', placeholder='Type something', style=DescriptionStyle…"
      ]
     },
     "metadata": {},
     "output_type": "display_data"
    },
    {
     "data": {
      "application/vnd.jupyter.widget-view+json": {
       "model_id": "1663eda87371478681654de132c4de5f",
       "version_major": 2,
       "version_minor": 0
      },
      "text/plain": [
       "IntSlider(value=1, continuous_update=False, description='Number of Legend Columns:', max=3, min=1, style=Slide…"
      ]
     },
     "metadata": {},
     "output_type": "display_data"
    },
    {
     "data": {
      "application/vnd.jupyter.widget-view+json": {
       "model_id": "0bd1ed2ed09646928cb20cfd9124467a",
       "version_major": 2,
       "version_minor": 0
      },
      "text/plain": [
       "Dropdown(description='Sort Legend By:', options=('capacity', 'alphabetical'), style=DescriptionStyle(descripti…"
      ]
     },
     "metadata": {},
     "output_type": "display_data"
    },
    {
     "data": {
      "application/vnd.jupyter.widget-view+json": {
       "model_id": "8c437c435fec4fe39c132c04638ecaf4",
       "version_major": 2,
       "version_minor": 0
      },
      "text/plain": [
       "FloatSlider(value=1.0, continuous_update=False, description='Zoom Level:', max=3.0, min=0.5, readout_format='.…"
      ]
     },
     "metadata": {},
     "output_type": "display_data"
    },
    {
     "data": {
      "application/vnd.jupyter.widget-view+json": {
       "model_id": "e4951031267c447797f6a3f1e4d37585",
       "version_major": 2,
       "version_minor": 0
      },
      "text/plain": [
       "Text(value='5000', description='Island Size Thresh:', placeholder='Type a island thresh', style=DescriptionSty…"
      ]
     },
     "metadata": {},
     "output_type": "display_data"
    },
    {
     "data": {
      "application/vnd.jupyter.widget-view+json": {
       "model_id": "f7d04e8e46e24651b8f3dd5f6bb24789",
       "version_major": 2,
       "version_minor": 0
      },
      "text/plain": [
       "Text(value='False', description='Show Populated Places:', placeholder='Type something', style=DescriptionStyle…"
      ]
     },
     "metadata": {},
     "output_type": "display_data"
    },
    {
     "data": {
      "application/vnd.jupyter.widget-view+json": {
       "model_id": "435dfb525eef44969902ebea4969881a",
       "version_major": 2,
       "version_minor": 0
      },
      "text/plain": [
       "FloatSlider(value=0.5, continuous_update=False, description='Bubble Opacity:', max=1.0, readout_format='.1f', …"
      ]
     },
     "metadata": {},
     "output_type": "display_data"
    },
    {
     "data": {
      "application/vnd.jupyter.widget-view+json": {
       "model_id": "9adc84106b794d7680f7f26e49f21f35",
       "version_major": 2,
       "version_minor": 0
      },
      "text/plain": [
       "Text(value='', description='Country Precursor:', placeholder='Precursor to Country Name', style=DescriptionSty…"
      ]
     },
     "metadata": {},
     "output_type": "display_data"
    },
    {
     "data": {
      "application/vnd.jupyter.widget-view+json": {
       "model_id": "5587446d4eed4455bb341972e83fce8b",
       "version_major": 2,
       "version_minor": 0
      },
      "text/plain": [
       "RadioButtons(description='Title On:', options=(True, False), value=True)"
      ]
     },
     "metadata": {},
     "output_type": "display_data"
    },
    {
     "data": {
      "application/vnd.jupyter.widget-view+json": {
       "model_id": "8729e2e37e064ba68e488cc58740ae5a",
       "version_major": 2,
       "version_minor": 0
      },
      "text/plain": [
       "RadioButtons(description='Source On:', options=(True, False), value=True)"
      ]
     },
     "metadata": {},
     "output_type": "display_data"
    },
    {
     "data": {
      "application/vnd.jupyter.widget-view+json": {
       "model_id": "697f17111b674c08acbb8536849c6578",
       "version_major": 2,
       "version_minor": 0
      },
      "text/plain": [
       "RadioButtons(description='Include Disputed Territories:', options=(True, False), value=True)"
      ]
     },
     "metadata": {},
     "output_type": "display_data"
    }
   ],
   "source": [
    "pw.showadvancedwidgets()"
   ]
  },
  {
   "cell_type": "code",
   "execution_count": 3,
   "metadata": {
    "init_cell": true,
    "scrolled": false
   },
   "outputs": [
    {
     "data": {
      "application/vnd.jupyter.widget-view+json": {
       "model_id": "983f4d657eb742519f2788a71b99cc3e",
       "version_major": 2,
       "version_minor": 0
      },
      "text/plain": [
       "Button(description='Update Plot', icon='check', layout=Layout(height='80px', width='70%'), style=ButtonStyle()…"
      ]
     },
     "metadata": {},
     "output_type": "display_data"
    },
    {
     "data": {
      "application/javascript": [
       "/* Put everything inside the global mpl namespace */\n",
       "window.mpl = {};\n",
       "\n",
       "\n",
       "mpl.get_websocket_type = function() {\n",
       "    if (typeof(WebSocket) !== 'undefined') {\n",
       "        return WebSocket;\n",
       "    } else if (typeof(MozWebSocket) !== 'undefined') {\n",
       "        return MozWebSocket;\n",
       "    } else {\n",
       "        alert('Your browser does not have WebSocket support. ' +\n",
       "              'Please try Chrome, Safari or Firefox ≥ 6. ' +\n",
       "              'Firefox 4 and 5 are also supported but you ' +\n",
       "              'have to enable WebSockets in about:config.');\n",
       "    };\n",
       "}\n",
       "\n",
       "mpl.figure = function(figure_id, websocket, ondownload, parent_element) {\n",
       "    this.id = figure_id;\n",
       "\n",
       "    this.ws = websocket;\n",
       "\n",
       "    this.supports_binary = (this.ws.binaryType != undefined);\n",
       "\n",
       "    if (!this.supports_binary) {\n",
       "        var warnings = document.getElementById(\"mpl-warnings\");\n",
       "        if (warnings) {\n",
       "            warnings.style.display = 'block';\n",
       "            warnings.textContent = (\n",
       "                \"This browser does not support binary websocket messages. \" +\n",
       "                    \"Performance may be slow.\");\n",
       "        }\n",
       "    }\n",
       "\n",
       "    this.imageObj = new Image();\n",
       "\n",
       "    this.context = undefined;\n",
       "    this.message = undefined;\n",
       "    this.canvas = undefined;\n",
       "    this.rubberband_canvas = undefined;\n",
       "    this.rubberband_context = undefined;\n",
       "    this.format_dropdown = undefined;\n",
       "\n",
       "    this.image_mode = 'full';\n",
       "\n",
       "    this.root = $('<div/>');\n",
       "    this._root_extra_style(this.root)\n",
       "    this.root.attr('style', 'display: inline-block');\n",
       "\n",
       "    $(parent_element).append(this.root);\n",
       "\n",
       "    this._init_header(this);\n",
       "    this._init_canvas(this);\n",
       "    this._init_toolbar(this);\n",
       "\n",
       "    var fig = this;\n",
       "\n",
       "    this.waiting = false;\n",
       "\n",
       "    this.ws.onopen =  function () {\n",
       "            fig.send_message(\"supports_binary\", {value: fig.supports_binary});\n",
       "            fig.send_message(\"send_image_mode\", {});\n",
       "            if (mpl.ratio != 1) {\n",
       "                fig.send_message(\"set_dpi_ratio\", {'dpi_ratio': mpl.ratio});\n",
       "            }\n",
       "            fig.send_message(\"refresh\", {});\n",
       "        }\n",
       "\n",
       "    this.imageObj.onload = function() {\n",
       "            if (fig.image_mode == 'full') {\n",
       "                // Full images could contain transparency (where diff images\n",
       "                // almost always do), so we need to clear the canvas so that\n",
       "                // there is no ghosting.\n",
       "                fig.context.clearRect(0, 0, fig.canvas.width, fig.canvas.height);\n",
       "            }\n",
       "            fig.context.drawImage(fig.imageObj, 0, 0);\n",
       "        };\n",
       "\n",
       "    this.imageObj.onunload = function() {\n",
       "        fig.ws.close();\n",
       "    }\n",
       "\n",
       "    this.ws.onmessage = this._make_on_message_function(this);\n",
       "\n",
       "    this.ondownload = ondownload;\n",
       "}\n",
       "\n",
       "mpl.figure.prototype._init_header = function() {\n",
       "    var titlebar = $(\n",
       "        '<div class=\"ui-dialog-titlebar ui-widget-header ui-corner-all ' +\n",
       "        'ui-helper-clearfix\"/>');\n",
       "    var titletext = $(\n",
       "        '<div class=\"ui-dialog-title\" style=\"width: 100%; ' +\n",
       "        'text-align: center; padding: 3px;\"/>');\n",
       "    titlebar.append(titletext)\n",
       "    this.root.append(titlebar);\n",
       "    this.header = titletext[0];\n",
       "}\n",
       "\n",
       "\n",
       "\n",
       "mpl.figure.prototype._canvas_extra_style = function(canvas_div) {\n",
       "\n",
       "}\n",
       "\n",
       "\n",
       "mpl.figure.prototype._root_extra_style = function(canvas_div) {\n",
       "\n",
       "}\n",
       "\n",
       "mpl.figure.prototype._init_canvas = function() {\n",
       "    var fig = this;\n",
       "\n",
       "    var canvas_div = $('<div/>');\n",
       "\n",
       "    canvas_div.attr('style', 'position: relative; clear: both; outline: 0');\n",
       "\n",
       "    function canvas_keyboard_event(event) {\n",
       "        return fig.key_event(event, event['data']);\n",
       "    }\n",
       "\n",
       "    canvas_div.keydown('key_press', canvas_keyboard_event);\n",
       "    canvas_div.keyup('key_release', canvas_keyboard_event);\n",
       "    this.canvas_div = canvas_div\n",
       "    this._canvas_extra_style(canvas_div)\n",
       "    this.root.append(canvas_div);\n",
       "\n",
       "    var canvas = $('<canvas/>');\n",
       "    canvas.addClass('mpl-canvas');\n",
       "    canvas.attr('style', \"left: 0; top: 0; z-index: 0; outline: 0\")\n",
       "\n",
       "    this.canvas = canvas[0];\n",
       "    this.context = canvas[0].getContext(\"2d\");\n",
       "\n",
       "    var backingStore = this.context.backingStorePixelRatio ||\n",
       "\tthis.context.webkitBackingStorePixelRatio ||\n",
       "\tthis.context.mozBackingStorePixelRatio ||\n",
       "\tthis.context.msBackingStorePixelRatio ||\n",
       "\tthis.context.oBackingStorePixelRatio ||\n",
       "\tthis.context.backingStorePixelRatio || 1;\n",
       "\n",
       "    mpl.ratio = (window.devicePixelRatio || 1) / backingStore;\n",
       "\n",
       "    var rubberband = $('<canvas/>');\n",
       "    rubberband.attr('style', \"position: absolute; left: 0; top: 0; z-index: 1;\")\n",
       "\n",
       "    var pass_mouse_events = true;\n",
       "\n",
       "    canvas_div.resizable({\n",
       "        start: function(event, ui) {\n",
       "            pass_mouse_events = false;\n",
       "        },\n",
       "        resize: function(event, ui) {\n",
       "            fig.request_resize(ui.size.width, ui.size.height);\n",
       "        },\n",
       "        stop: function(event, ui) {\n",
       "            pass_mouse_events = true;\n",
       "            fig.request_resize(ui.size.width, ui.size.height);\n",
       "        },\n",
       "    });\n",
       "\n",
       "    function mouse_event_fn(event) {\n",
       "        if (pass_mouse_events)\n",
       "            return fig.mouse_event(event, event['data']);\n",
       "    }\n",
       "\n",
       "    rubberband.mousedown('button_press', mouse_event_fn);\n",
       "    rubberband.mouseup('button_release', mouse_event_fn);\n",
       "    // Throttle sequential mouse events to 1 every 20ms.\n",
       "    rubberband.mousemove('motion_notify', mouse_event_fn);\n",
       "\n",
       "    rubberband.mouseenter('figure_enter', mouse_event_fn);\n",
       "    rubberband.mouseleave('figure_leave', mouse_event_fn);\n",
       "\n",
       "    canvas_div.on(\"wheel\", function (event) {\n",
       "        event = event.originalEvent;\n",
       "        event['data'] = 'scroll'\n",
       "        if (event.deltaY < 0) {\n",
       "            event.step = 1;\n",
       "        } else {\n",
       "            event.step = -1;\n",
       "        }\n",
       "        mouse_event_fn(event);\n",
       "    });\n",
       "\n",
       "    canvas_div.append(canvas);\n",
       "    canvas_div.append(rubberband);\n",
       "\n",
       "    this.rubberband = rubberband;\n",
       "    this.rubberband_canvas = rubberband[0];\n",
       "    this.rubberband_context = rubberband[0].getContext(\"2d\");\n",
       "    this.rubberband_context.strokeStyle = \"#000000\";\n",
       "\n",
       "    this._resize_canvas = function(width, height) {\n",
       "        // Keep the size of the canvas, canvas container, and rubber band\n",
       "        // canvas in synch.\n",
       "        canvas_div.css('width', width)\n",
       "        canvas_div.css('height', height)\n",
       "\n",
       "        canvas.attr('width', width * mpl.ratio);\n",
       "        canvas.attr('height', height * mpl.ratio);\n",
       "        canvas.attr('style', 'width: ' + width + 'px; height: ' + height + 'px;');\n",
       "\n",
       "        rubberband.attr('width', width);\n",
       "        rubberband.attr('height', height);\n",
       "    }\n",
       "\n",
       "    // Set the figure to an initial 600x600px, this will subsequently be updated\n",
       "    // upon first draw.\n",
       "    this._resize_canvas(600, 600);\n",
       "\n",
       "    // Disable right mouse context menu.\n",
       "    $(this.rubberband_canvas).bind(\"contextmenu\",function(e){\n",
       "        return false;\n",
       "    });\n",
       "\n",
       "    function set_focus () {\n",
       "        canvas.focus();\n",
       "        canvas_div.focus();\n",
       "    }\n",
       "\n",
       "    window.setTimeout(set_focus, 100);\n",
       "}\n",
       "\n",
       "mpl.figure.prototype._init_toolbar = function() {\n",
       "    var fig = this;\n",
       "\n",
       "    var nav_element = $('<div/>');\n",
       "    nav_element.attr('style', 'width: 100%');\n",
       "    this.root.append(nav_element);\n",
       "\n",
       "    // Define a callback function for later on.\n",
       "    function toolbar_event(event) {\n",
       "        return fig.toolbar_button_onclick(event['data']);\n",
       "    }\n",
       "    function toolbar_mouse_event(event) {\n",
       "        return fig.toolbar_button_onmouseover(event['data']);\n",
       "    }\n",
       "\n",
       "    for(var toolbar_ind in mpl.toolbar_items) {\n",
       "        var name = mpl.toolbar_items[toolbar_ind][0];\n",
       "        var tooltip = mpl.toolbar_items[toolbar_ind][1];\n",
       "        var image = mpl.toolbar_items[toolbar_ind][2];\n",
       "        var method_name = mpl.toolbar_items[toolbar_ind][3];\n",
       "\n",
       "        if (!name) {\n",
       "            // put a spacer in here.\n",
       "            continue;\n",
       "        }\n",
       "        var button = $('<button/>');\n",
       "        button.addClass('ui-button ui-widget ui-state-default ui-corner-all ' +\n",
       "                        'ui-button-icon-only');\n",
       "        button.attr('role', 'button');\n",
       "        button.attr('aria-disabled', 'false');\n",
       "        button.click(method_name, toolbar_event);\n",
       "        button.mouseover(tooltip, toolbar_mouse_event);\n",
       "\n",
       "        var icon_img = $('<span/>');\n",
       "        icon_img.addClass('ui-button-icon-primary ui-icon');\n",
       "        icon_img.addClass(image);\n",
       "        icon_img.addClass('ui-corner-all');\n",
       "\n",
       "        var tooltip_span = $('<span/>');\n",
       "        tooltip_span.addClass('ui-button-text');\n",
       "        tooltip_span.html(tooltip);\n",
       "\n",
       "        button.append(icon_img);\n",
       "        button.append(tooltip_span);\n",
       "\n",
       "        nav_element.append(button);\n",
       "    }\n",
       "\n",
       "    var fmt_picker_span = $('<span/>');\n",
       "\n",
       "    var fmt_picker = $('<select/>');\n",
       "    fmt_picker.addClass('mpl-toolbar-option ui-widget ui-widget-content');\n",
       "    fmt_picker_span.append(fmt_picker);\n",
       "    nav_element.append(fmt_picker_span);\n",
       "    this.format_dropdown = fmt_picker[0];\n",
       "\n",
       "    for (var ind in mpl.extensions) {\n",
       "        var fmt = mpl.extensions[ind];\n",
       "        var option = $(\n",
       "            '<option/>', {selected: fmt === mpl.default_extension}).html(fmt);\n",
       "        fmt_picker.append(option);\n",
       "    }\n",
       "\n",
       "    // Add hover states to the ui-buttons\n",
       "    $( \".ui-button\" ).hover(\n",
       "        function() { $(this).addClass(\"ui-state-hover\");},\n",
       "        function() { $(this).removeClass(\"ui-state-hover\");}\n",
       "    );\n",
       "\n",
       "    var status_bar = $('<span class=\"mpl-message\"/>');\n",
       "    nav_element.append(status_bar);\n",
       "    this.message = status_bar[0];\n",
       "}\n",
       "\n",
       "mpl.figure.prototype.request_resize = function(x_pixels, y_pixels) {\n",
       "    // Request matplotlib to resize the figure. Matplotlib will then trigger a resize in the client,\n",
       "    // which will in turn request a refresh of the image.\n",
       "    this.send_message('resize', {'width': x_pixels, 'height': y_pixels});\n",
       "}\n",
       "\n",
       "mpl.figure.prototype.send_message = function(type, properties) {\n",
       "    properties['type'] = type;\n",
       "    properties['figure_id'] = this.id;\n",
       "    this.ws.send(JSON.stringify(properties));\n",
       "}\n",
       "\n",
       "mpl.figure.prototype.send_draw_message = function() {\n",
       "    if (!this.waiting) {\n",
       "        this.waiting = true;\n",
       "        this.ws.send(JSON.stringify({type: \"draw\", figure_id: this.id}));\n",
       "    }\n",
       "}\n",
       "\n",
       "\n",
       "mpl.figure.prototype.handle_save = function(fig, msg) {\n",
       "    var format_dropdown = fig.format_dropdown;\n",
       "    var format = format_dropdown.options[format_dropdown.selectedIndex].value;\n",
       "    fig.ondownload(fig, format);\n",
       "}\n",
       "\n",
       "\n",
       "mpl.figure.prototype.handle_resize = function(fig, msg) {\n",
       "    var size = msg['size'];\n",
       "    if (size[0] != fig.canvas.width || size[1] != fig.canvas.height) {\n",
       "        fig._resize_canvas(size[0], size[1]);\n",
       "        fig.send_message(\"refresh\", {});\n",
       "    };\n",
       "}\n",
       "\n",
       "mpl.figure.prototype.handle_rubberband = function(fig, msg) {\n",
       "    var x0 = msg['x0'] / mpl.ratio;\n",
       "    var y0 = (fig.canvas.height - msg['y0']) / mpl.ratio;\n",
       "    var x1 = msg['x1'] / mpl.ratio;\n",
       "    var y1 = (fig.canvas.height - msg['y1']) / mpl.ratio;\n",
       "    x0 = Math.floor(x0) + 0.5;\n",
       "    y0 = Math.floor(y0) + 0.5;\n",
       "    x1 = Math.floor(x1) + 0.5;\n",
       "    y1 = Math.floor(y1) + 0.5;\n",
       "    var min_x = Math.min(x0, x1);\n",
       "    var min_y = Math.min(y0, y1);\n",
       "    var width = Math.abs(x1 - x0);\n",
       "    var height = Math.abs(y1 - y0);\n",
       "\n",
       "    fig.rubberband_context.clearRect(\n",
       "        0, 0, fig.canvas.width, fig.canvas.height);\n",
       "\n",
       "    fig.rubberband_context.strokeRect(min_x, min_y, width, height);\n",
       "}\n",
       "\n",
       "mpl.figure.prototype.handle_figure_label = function(fig, msg) {\n",
       "    // Updates the figure title.\n",
       "    fig.header.textContent = msg['label'];\n",
       "}\n",
       "\n",
       "mpl.figure.prototype.handle_cursor = function(fig, msg) {\n",
       "    var cursor = msg['cursor'];\n",
       "    switch(cursor)\n",
       "    {\n",
       "    case 0:\n",
       "        cursor = 'pointer';\n",
       "        break;\n",
       "    case 1:\n",
       "        cursor = 'default';\n",
       "        break;\n",
       "    case 2:\n",
       "        cursor = 'crosshair';\n",
       "        break;\n",
       "    case 3:\n",
       "        cursor = 'move';\n",
       "        break;\n",
       "    }\n",
       "    fig.rubberband_canvas.style.cursor = cursor;\n",
       "}\n",
       "\n",
       "mpl.figure.prototype.handle_message = function(fig, msg) {\n",
       "    fig.message.textContent = msg['message'];\n",
       "}\n",
       "\n",
       "mpl.figure.prototype.handle_draw = function(fig, msg) {\n",
       "    // Request the server to send over a new figure.\n",
       "    fig.send_draw_message();\n",
       "}\n",
       "\n",
       "mpl.figure.prototype.handle_image_mode = function(fig, msg) {\n",
       "    fig.image_mode = msg['mode'];\n",
       "}\n",
       "\n",
       "mpl.figure.prototype.updated_canvas_event = function() {\n",
       "    // Called whenever the canvas gets updated.\n",
       "    this.send_message(\"ack\", {});\n",
       "}\n",
       "\n",
       "// A function to construct a web socket function for onmessage handling.\n",
       "// Called in the figure constructor.\n",
       "mpl.figure.prototype._make_on_message_function = function(fig) {\n",
       "    return function socket_on_message(evt) {\n",
       "        if (evt.data instanceof Blob) {\n",
       "            /* FIXME: We get \"Resource interpreted as Image but\n",
       "             * transferred with MIME type text/plain:\" errors on\n",
       "             * Chrome.  But how to set the MIME type?  It doesn't seem\n",
       "             * to be part of the websocket stream */\n",
       "            evt.data.type = \"image/png\";\n",
       "\n",
       "            /* Free the memory for the previous frames */\n",
       "            if (fig.imageObj.src) {\n",
       "                (window.URL || window.webkitURL).revokeObjectURL(\n",
       "                    fig.imageObj.src);\n",
       "            }\n",
       "\n",
       "            fig.imageObj.src = (window.URL || window.webkitURL).createObjectURL(\n",
       "                evt.data);\n",
       "            fig.updated_canvas_event();\n",
       "            fig.waiting = false;\n",
       "            return;\n",
       "        }\n",
       "        else if (typeof evt.data === 'string' && evt.data.slice(0, 21) == \"data:image/png;base64\") {\n",
       "            fig.imageObj.src = evt.data;\n",
       "            fig.updated_canvas_event();\n",
       "            fig.waiting = false;\n",
       "            return;\n",
       "        }\n",
       "\n",
       "        var msg = JSON.parse(evt.data);\n",
       "        var msg_type = msg['type'];\n",
       "\n",
       "        // Call the  \"handle_{type}\" callback, which takes\n",
       "        // the figure and JSON message as its only arguments.\n",
       "        try {\n",
       "            var callback = fig[\"handle_\" + msg_type];\n",
       "        } catch (e) {\n",
       "            console.log(\"No handler for the '\" + msg_type + \"' message type: \", msg);\n",
       "            return;\n",
       "        }\n",
       "\n",
       "        if (callback) {\n",
       "            try {\n",
       "                // console.log(\"Handling '\" + msg_type + \"' message: \", msg);\n",
       "                callback(fig, msg);\n",
       "            } catch (e) {\n",
       "                console.log(\"Exception inside the 'handler_\" + msg_type + \"' callback:\", e, e.stack, msg);\n",
       "            }\n",
       "        }\n",
       "    };\n",
       "}\n",
       "\n",
       "// from http://stackoverflow.com/questions/1114465/getting-mouse-location-in-canvas\n",
       "mpl.findpos = function(e) {\n",
       "    //this section is from http://www.quirksmode.org/js/events_properties.html\n",
       "    var targ;\n",
       "    if (!e)\n",
       "        e = window.event;\n",
       "    if (e.target)\n",
       "        targ = e.target;\n",
       "    else if (e.srcElement)\n",
       "        targ = e.srcElement;\n",
       "    if (targ.nodeType == 3) // defeat Safari bug\n",
       "        targ = targ.parentNode;\n",
       "\n",
       "    // jQuery normalizes the pageX and pageY\n",
       "    // pageX,Y are the mouse positions relative to the document\n",
       "    // offset() returns the position of the element relative to the document\n",
       "    var x = e.pageX - $(targ).offset().left;\n",
       "    var y = e.pageY - $(targ).offset().top;\n",
       "\n",
       "    return {\"x\": x, \"y\": y};\n",
       "};\n",
       "\n",
       "/*\n",
       " * return a copy of an object with only non-object keys\n",
       " * we need this to avoid circular references\n",
       " * http://stackoverflow.com/a/24161582/3208463\n",
       " */\n",
       "function simpleKeys (original) {\n",
       "  return Object.keys(original).reduce(function (obj, key) {\n",
       "    if (typeof original[key] !== 'object')\n",
       "        obj[key] = original[key]\n",
       "    return obj;\n",
       "  }, {});\n",
       "}\n",
       "\n",
       "mpl.figure.prototype.mouse_event = function(event, name) {\n",
       "    var canvas_pos = mpl.findpos(event)\n",
       "\n",
       "    if (name === 'button_press')\n",
       "    {\n",
       "        this.canvas.focus();\n",
       "        this.canvas_div.focus();\n",
       "    }\n",
       "\n",
       "    var x = canvas_pos.x * mpl.ratio;\n",
       "    var y = canvas_pos.y * mpl.ratio;\n",
       "\n",
       "    this.send_message(name, {x: x, y: y, button: event.button,\n",
       "                             step: event.step,\n",
       "                             guiEvent: simpleKeys(event)});\n",
       "\n",
       "    /* This prevents the web browser from automatically changing to\n",
       "     * the text insertion cursor when the button is pressed.  We want\n",
       "     * to control all of the cursor setting manually through the\n",
       "     * 'cursor' event from matplotlib */\n",
       "    event.preventDefault();\n",
       "    return false;\n",
       "}\n",
       "\n",
       "mpl.figure.prototype._key_event_extra = function(event, name) {\n",
       "    // Handle any extra behaviour associated with a key event\n",
       "}\n",
       "\n",
       "mpl.figure.prototype.key_event = function(event, name) {\n",
       "\n",
       "    // Prevent repeat events\n",
       "    if (name == 'key_press')\n",
       "    {\n",
       "        if (event.which === this._key)\n",
       "            return;\n",
       "        else\n",
       "            this._key = event.which;\n",
       "    }\n",
       "    if (name == 'key_release')\n",
       "        this._key = null;\n",
       "\n",
       "    var value = '';\n",
       "    if (event.ctrlKey && event.which != 17)\n",
       "        value += \"ctrl+\";\n",
       "    if (event.altKey && event.which != 18)\n",
       "        value += \"alt+\";\n",
       "    if (event.shiftKey && event.which != 16)\n",
       "        value += \"shift+\";\n",
       "\n",
       "    value += 'k';\n",
       "    value += event.which.toString();\n",
       "\n",
       "    this._key_event_extra(event, name);\n",
       "\n",
       "    this.send_message(name, {key: value,\n",
       "                             guiEvent: simpleKeys(event)});\n",
       "    return false;\n",
       "}\n",
       "\n",
       "mpl.figure.prototype.toolbar_button_onclick = function(name) {\n",
       "    if (name == 'download') {\n",
       "        this.handle_save(this, null);\n",
       "    } else {\n",
       "        this.send_message(\"toolbar_button\", {name: name});\n",
       "    }\n",
       "};\n",
       "\n",
       "mpl.figure.prototype.toolbar_button_onmouseover = function(tooltip) {\n",
       "    this.message.textContent = tooltip;\n",
       "};\n",
       "mpl.toolbar_items = [[\"Home\", \"Reset original view\", \"fa fa-home icon-home\", \"home\"], [\"Back\", \"Back to previous view\", \"fa fa-arrow-left icon-arrow-left\", \"back\"], [\"Forward\", \"Forward to next view\", \"fa fa-arrow-right icon-arrow-right\", \"forward\"], [\"\", \"\", \"\", \"\"], [\"Pan\", \"Pan axes with left mouse, zoom with right\", \"fa fa-arrows icon-move\", \"pan\"], [\"Zoom\", \"Zoom to rectangle\", \"fa fa-square-o icon-check-empty\", \"zoom\"], [\"\", \"\", \"\", \"\"], [\"Download\", \"Download plot\", \"fa fa-floppy-o icon-save\", \"download\"]];\n",
       "\n",
       "mpl.extensions = [\"eps\", \"jpeg\", \"pdf\", \"png\", \"ps\", \"raw\", \"svg\", \"tif\"];\n",
       "\n",
       "mpl.default_extension = \"png\";var comm_websocket_adapter = function(comm) {\n",
       "    // Create a \"websocket\"-like object which calls the given IPython comm\n",
       "    // object with the appropriate methods. Currently this is a non binary\n",
       "    // socket, so there is still some room for performance tuning.\n",
       "    var ws = {};\n",
       "\n",
       "    ws.close = function() {\n",
       "        comm.close()\n",
       "    };\n",
       "    ws.send = function(m) {\n",
       "        //console.log('sending', m);\n",
       "        comm.send(m);\n",
       "    };\n",
       "    // Register the callback with on_msg.\n",
       "    comm.on_msg(function(msg) {\n",
       "        //console.log('receiving', msg['content']['data'], msg);\n",
       "        // Pass the mpl event to the overridden (by mpl) onmessage function.\n",
       "        ws.onmessage(msg['content']['data'])\n",
       "    });\n",
       "    return ws;\n",
       "}\n",
       "\n",
       "mpl.mpl_figure_comm = function(comm, msg) {\n",
       "    // This is the function which gets called when the mpl process\n",
       "    // starts-up an IPython Comm through the \"matplotlib\" channel.\n",
       "\n",
       "    var id = msg.content.data.id;\n",
       "    // Get hold of the div created by the display call when the Comm\n",
       "    // socket was opened in Python.\n",
       "    var element = $(\"#\" + id);\n",
       "    var ws_proxy = comm_websocket_adapter(comm)\n",
       "\n",
       "    function ondownload(figure, format) {\n",
       "        window.open(figure.imageObj.src);\n",
       "    }\n",
       "\n",
       "    var fig = new mpl.figure(id, ws_proxy,\n",
       "                           ondownload,\n",
       "                           element.get(0));\n",
       "\n",
       "    // Call onopen now - mpl needs it, as it is assuming we've passed it a real\n",
       "    // web socket which is closed, not our websocket->open comm proxy.\n",
       "    ws_proxy.onopen();\n",
       "\n",
       "    fig.parent_element = element.get(0);\n",
       "    fig.cell_info = mpl.find_output_cell(\"<div id='\" + id + \"'></div>\");\n",
       "    if (!fig.cell_info) {\n",
       "        console.error(\"Failed to find cell for figure\", id, fig);\n",
       "        return;\n",
       "    }\n",
       "\n",
       "    var output_index = fig.cell_info[2]\n",
       "    var cell = fig.cell_info[0];\n",
       "\n",
       "};\n",
       "\n",
       "mpl.figure.prototype.handle_close = function(fig, msg) {\n",
       "    var width = fig.canvas.width/mpl.ratio\n",
       "    fig.root.unbind('remove')\n",
       "\n",
       "    // Update the output cell to use the data from the current canvas.\n",
       "    fig.push_to_output();\n",
       "    var dataURL = fig.canvas.toDataURL();\n",
       "    // Re-enable the keyboard manager in IPython - without this line, in FF,\n",
       "    // the notebook keyboard shortcuts fail.\n",
       "    IPython.keyboard_manager.enable()\n",
       "    $(fig.parent_element).html('<img src=\"' + dataURL + '\" width=\"' + width + '\">');\n",
       "    fig.close_ws(fig, msg);\n",
       "}\n",
       "\n",
       "mpl.figure.prototype.close_ws = function(fig, msg){\n",
       "    fig.send_message('closing', msg);\n",
       "    // fig.ws.close()\n",
       "}\n",
       "\n",
       "mpl.figure.prototype.push_to_output = function(remove_interactive) {\n",
       "    // Turn the data on the canvas into data in the output cell.\n",
       "    var width = this.canvas.width/mpl.ratio\n",
       "    var dataURL = this.canvas.toDataURL();\n",
       "    this.cell_info[1]['text/html'] = '<img src=\"' + dataURL + '\" width=\"' + width + '\">';\n",
       "}\n",
       "\n",
       "mpl.figure.prototype.updated_canvas_event = function() {\n",
       "    // Tell IPython that the notebook contents must change.\n",
       "    IPython.notebook.set_dirty(true);\n",
       "    this.send_message(\"ack\", {});\n",
       "    var fig = this;\n",
       "    // Wait a second, then push the new image to the DOM so\n",
       "    // that it is saved nicely (might be nice to debounce this).\n",
       "    setTimeout(function () { fig.push_to_output() }, 1000);\n",
       "}\n",
       "\n",
       "mpl.figure.prototype._init_toolbar = function() {\n",
       "    var fig = this;\n",
       "\n",
       "    var nav_element = $('<div/>');\n",
       "    nav_element.attr('style', 'width: 100%');\n",
       "    this.root.append(nav_element);\n",
       "\n",
       "    // Define a callback function for later on.\n",
       "    function toolbar_event(event) {\n",
       "        return fig.toolbar_button_onclick(event['data']);\n",
       "    }\n",
       "    function toolbar_mouse_event(event) {\n",
       "        return fig.toolbar_button_onmouseover(event['data']);\n",
       "    }\n",
       "\n",
       "    for(var toolbar_ind in mpl.toolbar_items){\n",
       "        var name = mpl.toolbar_items[toolbar_ind][0];\n",
       "        var tooltip = mpl.toolbar_items[toolbar_ind][1];\n",
       "        var image = mpl.toolbar_items[toolbar_ind][2];\n",
       "        var method_name = mpl.toolbar_items[toolbar_ind][3];\n",
       "\n",
       "        if (!name) { continue; };\n",
       "\n",
       "        var button = $('<button class=\"btn btn-default\" href=\"#\" title=\"' + name + '\"><i class=\"fa ' + image + ' fa-lg\"></i></button>');\n",
       "        button.click(method_name, toolbar_event);\n",
       "        button.mouseover(tooltip, toolbar_mouse_event);\n",
       "        nav_element.append(button);\n",
       "    }\n",
       "\n",
       "    // Add the status bar.\n",
       "    var status_bar = $('<span class=\"mpl-message\" style=\"text-align:right; float: right;\"/>');\n",
       "    nav_element.append(status_bar);\n",
       "    this.message = status_bar[0];\n",
       "\n",
       "    // Add the close button to the window.\n",
       "    var buttongrp = $('<div class=\"btn-group inline pull-right\"></div>');\n",
       "    var button = $('<button class=\"btn btn-mini btn-primary\" href=\"#\" title=\"Stop Interaction\"><i class=\"fa fa-power-off icon-remove icon-large\"></i></button>');\n",
       "    button.click(function (evt) { fig.handle_close(fig, {}); } );\n",
       "    button.mouseover('Stop Interaction', toolbar_mouse_event);\n",
       "    buttongrp.append(button);\n",
       "    var titlebar = this.root.find($('.ui-dialog-titlebar'));\n",
       "    titlebar.prepend(buttongrp);\n",
       "}\n",
       "\n",
       "mpl.figure.prototype._root_extra_style = function(el){\n",
       "    var fig = this\n",
       "    el.on(\"remove\", function(){\n",
       "\tfig.close_ws(fig, {});\n",
       "    });\n",
       "}\n",
       "\n",
       "mpl.figure.prototype._canvas_extra_style = function(el){\n",
       "    // this is important to make the div 'focusable\n",
       "    el.attr('tabindex', 0)\n",
       "    // reach out to IPython and tell the keyboard manager to turn it's self\n",
       "    // off when our div gets focus\n",
       "\n",
       "    // location in version 3\n",
       "    if (IPython.notebook.keyboard_manager) {\n",
       "        IPython.notebook.keyboard_manager.register_events(el);\n",
       "    }\n",
       "    else {\n",
       "        // location in version 2\n",
       "        IPython.keyboard_manager.register_events(el);\n",
       "    }\n",
       "\n",
       "}\n",
       "\n",
       "mpl.figure.prototype._key_event_extra = function(event, name) {\n",
       "    var manager = IPython.notebook.keyboard_manager;\n",
       "    if (!manager)\n",
       "        manager = IPython.keyboard_manager;\n",
       "\n",
       "    // Check for shift+enter\n",
       "    if (event.shiftKey && event.which == 13) {\n",
       "        this.canvas_div.blur();\n",
       "        event.shiftKey = false;\n",
       "        // Send a \"J\" for go to next cell\n",
       "        event.which = 74;\n",
       "        event.keyCode = 74;\n",
       "        manager.command_mode();\n",
       "        manager.handle_keydown(event);\n",
       "    }\n",
       "}\n",
       "\n",
       "mpl.figure.prototype.handle_save = function(fig, msg) {\n",
       "    fig.ondownload(fig, null);\n",
       "}\n",
       "\n",
       "\n",
       "mpl.find_output_cell = function(html_output) {\n",
       "    // Return the cell and output element which can be found *uniquely* in the notebook.\n",
       "    // Note - this is a bit hacky, but it is done because the \"notebook_saving.Notebook\"\n",
       "    // IPython event is triggered only after the cells have been serialised, which for\n",
       "    // our purposes (turning an active figure into a static one), is too late.\n",
       "    var cells = IPython.notebook.get_cells();\n",
       "    var ncells = cells.length;\n",
       "    for (var i=0; i<ncells; i++) {\n",
       "        var cell = cells[i];\n",
       "        if (cell.cell_type === 'code'){\n",
       "            for (var j=0; j<cell.output_area.outputs.length; j++) {\n",
       "                var data = cell.output_area.outputs[j];\n",
       "                if (data.data) {\n",
       "                    // IPython >= 3 moved mimebundle to data attribute of output\n",
       "                    data = data.data;\n",
       "                }\n",
       "                if (data['text/html'] == html_output) {\n",
       "                    return [cell, data, j];\n",
       "                }\n",
       "            }\n",
       "        }\n",
       "    }\n",
       "}\n",
       "\n",
       "// Register the function which deals with the matplotlib target/channel.\n",
       "// The kernel may be null if the page has been refreshed.\n",
       "if (IPython.notebook.kernel != null) {\n",
       "    IPython.notebook.kernel.comm_manager.register_target('matplotlib', mpl.mpl_figure_comm);\n",
       "}\n"
      ],
      "text/plain": [
       "<IPython.core.display.Javascript object>"
      ]
     },
     "metadata": {},
     "output_type": "display_data"
    },
    {
     "data": {
      "text/html": [
       "<img src=\"data:image/png;base64,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\" width=\"768\">"
      ],
      "text/plain": [
       "<IPython.core.display.HTML object>"
      ]
     },
     "metadata": {},
     "output_type": "display_data"
    }
   ],
   "source": [
    "%matplotlib notebook\n",
    "pw.updateplot()"
   ]
  },
  {
   "cell_type": "markdown",
   "metadata": {},
   "source": [
    "Powerplant data from: \n",
    "Global Energy Observatory, Google, KTH Royal Institute of Technology in Stockholm, Enipedia, World Resources Institute. 2018. Global Power Plant Database. Published on Resource Watch and Google Earth Engine.\n",
    "\n",
    "Written in &#128013; with &#128149;"
   ]
  },
  {
   "cell_type": "code",
   "execution_count": 4,
   "metadata": {},
   "outputs": [
    {
     "data": {
      "text/html": [
       "<div id=\"hidestuff\">  \n",
       "    <script type=\"text/javascript\">\n",
       "        // clever, you found my secret stash\n",
       "        $('div .cell').has('#hidestuff').hide();\n",
       "        var read_only = ['#Country-Power-Plant-Mapper'];\n",
       "        read_only.map(function(hide_id) {\n",
       "            $('div .cell').has(hide_id).unbind('click');\n",
       "            $('div .cell').has(hide_id).unbind('dblclick');\n",
       "        });\n",
       "    </script>\n",
       "</div>  \n"
      ],
      "text/plain": [
       "<IPython.core.display.HTML object>"
      ]
     },
     "metadata": {},
     "output_type": "display_data"
    }
   ],
   "source": [
    "%%HTML\n",
    "<div id=\"hidestuff\">  \n",
    "    <script type=\"text/javascript\">\n",
    "        // clever, you found my secret stash\n",
    "        $('div .cell').has('#hidestuff').hide();\n",
    "        var read_only = ['#Country-Power-Plant-Mapper'];\n",
    "        read_only.map(function(hide_id) {\n",
    "            $('div .cell').has(hide_id).unbind('click');\n",
    "            $('div .cell').has(hide_id).unbind('dblclick');\n",
    "        });\n",
    "    </script>\n",
    "</div>  "
   ]
  }
 ],
 "metadata": {
  "kernelspec": {
   "display_name": "Python 3",
   "language": "python",
   "name": "python3"
  },
  "language_info": {
   "codemirror_mode": {
    "name": "ipython",
    "version": 3
   },
   "file_extension": ".py",
   "mimetype": "text/x-python",
   "name": "python",
   "nbconvert_exporter": "python",
   "pygments_lexer": "ipython3",
   "version": "3.7.4"
  },
  "widgets": {
   "application/vnd.jupyter.widget-state+json": {
    "state": {
     "008a1643615d4f60a365eadbe616435e": {
      "model_module": "@jupyter-widgets/controls",
      "model_module_version": "1.2.0",
      "model_name": "DescriptionStyleModel",
      "state": {
       "description_width": "initial"
      }
     },
     "00a0fe164d5741d1a4e4e1bdb1dc6fc3": {
      "model_module": "@jupyter-widgets/base",
      "model_module_version": "1.0.0",
      "model_name": "LayoutModel",
      "state": {}
     },
     "010ed1c7bf0a4848948e308eb71fc2fc": {
      "model_module": "@jupyter-widgets/base",
      "model_module_version": "1.0.0",
      "model_name": "LayoutModel",
      "state": {}
     },
     "0208475c29da452b8db936f288ecc9a4": {
      "model_module": "@jupyter-widgets/controls",
      "model_module_version": "1.2.0",
      "model_name": "DescriptionStyleModel",
      "state": {
       "description_width": "initial"
      }
     },
     "026819be8241445bbd386d386be5c74c": {
      "model_module": "@jupyter-widgets/controls",
      "model_module_version": "1.2.0",
      "model_name": "TextModel",
      "state": {
       "description": "Country Name:",
       "layout": "IPY_MODEL_513bc87f9ab649b4ba5a72fe00327221",
       "placeholder": "Type a country name",
       "style": "IPY_MODEL_28cbbbd7562949e9b7d3fdfe10d54ba4",
       "value": "India"
      }
     },
     "02b8a3844d794aed9133f3180581b508": {
      "model_module": "@jupyter-widgets/base",
      "model_module_version": "1.0.0",
      "model_name": "LayoutModel",
      "state": {}
     },
     "02e7bdda780149e18af0ed938d98ce76": {
      "model_module": "@jupyter-widgets/controls",
      "model_module_version": "1.2.0",
      "model_name": "DescriptionStyleModel",
      "state": {
       "description_width": "initial"
      }
     },
     "030b665cb63e4611a9a0323573e7feff": {
      "model_module": "@jupyter-widgets/controls",
      "model_module_version": "1.2.0",
      "model_name": "IntSliderModel",
      "state": {
       "continuous_update": false,
       "description": "Number of Legend Columns:",
       "layout": "IPY_MODEL_825e7d3d608846609d7f7879b11646ec",
       "max": 3,
       "min": 1,
       "style": "IPY_MODEL_b73c8681e52740e2bdaf0547e6323f38",
       "value": 1
      }
     },
     "03964d30965240698f1b63c53b8913b3": {
      "model_module": "@jupyter-widgets/controls",
      "model_module_version": "1.2.0",
      "model_name": "TextModel",
      "state": {
       "description": "Show Populated Places:",
       "layout": "IPY_MODEL_3be8ca91e55846d580591fe5ca605939",
       "placeholder": "Type something",
       "style": "IPY_MODEL_2dbb5657ff7a40d28d64070e1974037d",
       "value": "False"
      }
     },
     "03fb3b8af45648618f2fa20cc790a9e2": {
      "model_module": "@jupyter-widgets/controls",
      "model_module_version": "1.2.0",
      "model_name": "TextModel",
      "state": {
       "description": "Coordinate System:",
       "layout": "IPY_MODEL_1e16c9faea564cbaaa9910989b11b520",
       "placeholder": "Type something",
       "style": "IPY_MODEL_a33747bcdd354e29ad2026dc6e2fb03a",
       "value": "spherical"
      }
     },
     "04226d812b18439fbfa628605f632f0d": {
      "model_module": "@jupyter-widgets/controls",
      "model_module_version": "1.2.0",
      "model_name": "TextModel",
      "state": {
       "description": "Country Name:",
       "layout": "IPY_MODEL_d9a04ba480054b1a895809736f504cf7",
       "placeholder": "Type a country name",
       "style": "IPY_MODEL_61840571609f4503b3ac19a367c0d121",
       "value": "India"
      }
     },
     "04865814a1d54bc9bc50285a10137973": {
      "model_module": "@jupyter-widgets/controls",
      "model_module_version": "1.2.0",
      "model_name": "DescriptionStyleModel",
      "state": {
       "description_width": "initial"
      }
     },
     "04d58663103742c7a689e599b32c18f6": {
      "model_module": "@jupyter-widgets/base",
      "model_module_version": "1.0.0",
      "model_name": "LayoutModel",
      "state": {
       "height": "80px",
       "width": "70%"
      }
     },
     "05073f91aaec49b89b708c69c580add3": {
      "model_module": "@jupyter-widgets/controls",
      "model_module_version": "1.2.0",
      "model_name": "FloatSliderModel",
      "state": {
       "continuous_update": false,
       "description": "Bubble Opacity:",
       "layout": "IPY_MODEL_884fb414b3ea4fb9bc3af0b028f0d911",
       "max": 1,
       "readout_format": ".1f",
       "step": 0.1,
       "style": "IPY_MODEL_48daf4a326ab4342b1a71a55b86dcd80",
       "value": 0.5
      }
     },
     "058ce894c7e74461bdbc607e48e0bade": {
      "model_module": "@jupyter-widgets/controls",
      "model_module_version": "1.2.0",
      "model_name": "DescriptionStyleModel",
      "state": {
       "description_width": "initial"
      }
     },
     "058d54805c20450eafbc9db231c5c754": {
      "model_module": "@jupyter-widgets/controls",
      "model_module_version": "1.2.0",
      "model_name": "DescriptionStyleModel",
      "state": {
       "description_width": "initial"
      }
     },
     "058f5e24f7a543f1bcd0062ad4646253": {
      "model_module": "@jupyter-widgets/base",
      "model_module_version": "1.0.0",
      "model_name": "LayoutModel",
      "state": {}
     },
     "05b1dde4066f47d6becce585e4d4ab42": {
      "model_module": "@jupyter-widgets/base",
      "model_module_version": "1.0.0",
      "model_name": "LayoutModel",
      "state": {}
     },
     "05cf403f1c984ed785a57914e07b3ed4": {
      "model_module": "@jupyter-widgets/base",
      "model_module_version": "1.0.0",
      "model_name": "LayoutModel",
      "state": {
       "height": "80px",
       "width": "70%"
      }
     },
     "05fe6c7e4644497d96712f8749c984dd": {
      "model_module": "@jupyter-widgets/controls",
      "model_module_version": "1.2.0",
      "model_name": "IntSliderModel",
      "state": {
       "continuous_update": false,
       "description": "DPI (resolution):",
       "layout": "IPY_MODEL_39da3254ff9046c282ac8321bbbebbe9",
       "max": 500,
       "min": 100,
       "style": "IPY_MODEL_e92934faa2d441c7a9153d6a17ce394e",
       "value": 300
      }
     },
     "06118f99537c4ae08632ff6b629349a0": {
      "model_module": "@jupyter-widgets/base",
      "model_module_version": "1.0.0",
      "model_name": "LayoutModel",
      "state": {}
     },
     "06bd382645484c09b1d8d37196626553": {
      "model_module": "@jupyter-widgets/controls",
      "model_module_version": "1.2.0",
      "model_name": "TextModel",
      "state": {
       "description": "Island Size Thresh:",
       "layout": "IPY_MODEL_5b6ca703bcf24356aeb4d9369f8c715d",
       "placeholder": "Type a island thresh",
       "style": "IPY_MODEL_e5d78cd9587246ce909469e26c6017a0",
       "value": "largest"
      }
     },
     "071c0c2c17c648d099d748f1e9ea0805": {
      "model_module": "@jupyter-widgets/base",
      "model_module_version": "1.0.0",
      "model_name": "LayoutModel",
      "state": {}
     },
     "072e9de93fec444f90439560c09f7403": {
      "model_module": "@jupyter-widgets/controls",
      "model_module_version": "1.2.0",
      "model_name": "DescriptionStyleModel",
      "state": {
       "description_width": "initial"
      }
     },
     "0780789672354ae1bd55d4f361e35663": {
      "model_module": "@jupyter-widgets/controls",
      "model_module_version": "1.2.0",
      "model_name": "FloatSliderModel",
      "state": {
       "continuous_update": false,
       "description": "Bubble Opacity:",
       "layout": "IPY_MODEL_a324fd71c2ca47ed8fc34bd529c3a9b9",
       "max": 1,
       "readout_format": ".1f",
       "step": 0.1,
       "style": "IPY_MODEL_b83ee6fc77f54aef8bb077a8fdf556b3",
       "value": 0.4
      }
     },
     "07d4e4a18cc346ce93b9a10849d918d9": {
      "model_module": "@jupyter-widgets/base",
      "model_module_version": "1.0.0",
      "model_name": "LayoutModel",
      "state": {
       "height": "80px",
       "width": "70%"
      }
     },
     "083a7ffeba7b4bc2931fa493aac2b9c2": {
      "model_module": "@jupyter-widgets/controls",
      "model_module_version": "1.2.0",
      "model_name": "TextModel",
      "state": {
       "description": "Coordinate System:",
       "layout": "IPY_MODEL_8e369e9e95b0412a956edc2eec5ca3ee",
       "placeholder": "Type something",
       "style": "IPY_MODEL_ed2ba2283910438e9213d39295c6c66d",
       "value": "spherical"
      }
     },
     "084c7a34828842e69c192d5c034ba910": {
      "model_module": "@jupyter-widgets/base",
      "model_module_version": "1.0.0",
      "model_name": "LayoutModel",
      "state": {}
     },
     "08c7675c4ecf4a01a87ceb25c82e53ba": {
      "model_module": "@jupyter-widgets/controls",
      "model_module_version": "1.2.0",
      "model_name": "FloatSliderModel",
      "state": {
       "continuous_update": false,
       "description": "Zoom Level:",
       "layout": "IPY_MODEL_8b08b1a8318a4de8900c36bf0be41a6c",
       "max": 3,
       "min": 0.5,
       "readout_format": ".1f",
       "step": 0.1,
       "style": "IPY_MODEL_564c54091ce74ffa88608941f8a0e4dc",
       "value": 1
      }
     },
     "08d38e75c54641acaa4b34459dc63631": {
      "model_module": "@jupyter-widgets/controls",
      "model_module_version": "1.2.0",
      "model_name": "DescriptionStyleModel",
      "state": {
       "description_width": "initial"
      }
     },
     "08da95e4843345d6b3366fdfcab13588": {
      "model_module": "@jupyter-widgets/controls",
      "model_module_version": "1.2.0",
      "model_name": "IntSliderModel",
      "state": {
       "continuous_update": false,
       "description": "DPI (resolution):",
       "layout": "IPY_MODEL_bb0c0a45afe04d779f78c99195697d15",
       "max": 500,
       "min": 100,
       "style": "IPY_MODEL_108c056375b9441699b30204037dcac9",
       "value": 300
      }
     },
     "09d63f1c9e914e07b15fd44343ee0c5a": {
      "model_module": "@jupyter-widgets/controls",
      "model_module_version": "1.2.0",
      "model_name": "SliderStyleModel",
      "state": {
       "description_width": "initial"
      }
     },
     "0a158a000eb841de97f47b8ee7f14c5a": {
      "model_module": "@jupyter-widgets/base",
      "model_module_version": "1.0.0",
      "model_name": "LayoutModel",
      "state": {}
     },
     "0a1d77feea0d400287758ec9c3d91338": {
      "model_module": "@jupyter-widgets/base",
      "model_module_version": "1.0.0",
      "model_name": "LayoutModel",
      "state": {}
     },
     "0a8b967da57045f1ad6e412a1c03b490": {
      "model_module": "@jupyter-widgets/base",
      "model_module_version": "1.0.0",
      "model_name": "LayoutModel",
      "state": {}
     },
     "0acc006b7cd94ccc9f802082e81a6246": {
      "model_module": "@jupyter-widgets/controls",
      "model_module_version": "1.2.0",
      "model_name": "ButtonModel",
      "state": {
       "description": "Update Plot",
       "icon": "check",
       "layout": "IPY_MODEL_60d0bea213104c0795ca26b47a296401",
       "style": "IPY_MODEL_3c94099d48ab42ca84dc4a23626e1468",
       "tooltip": "Update Plot"
      }
     },
     "0b11809745334060a7e21a1f63f05fc6": {
      "model_module": "@jupyter-widgets/controls",
      "model_module_version": "1.2.0",
      "model_name": "TextModel",
      "state": {
       "description": "Show Populated Places:",
       "layout": "IPY_MODEL_ba623c8bd12444cebf6412b616460b60",
       "placeholder": "Type something",
       "style": "IPY_MODEL_0208475c29da452b8db936f288ecc9a4",
       "value": "False"
      }
     },
     "0b25fb4cc08e49b188bf27c269e29e2e": {
      "model_module": "@jupyter-widgets/base",
      "model_module_version": "1.0.0",
      "model_name": "LayoutModel",
      "state": {}
     },
     "0b4622c9ea7d4c03874b56cacb424dcd": {
      "model_module": "@jupyter-widgets/controls",
      "model_module_version": "1.2.0",
      "model_name": "TextModel",
      "state": {
       "description": "Country Precursor:",
       "layout": "IPY_MODEL_7eebd21cecfd4f438cda8b39232357ff",
       "placeholder": "Precursor to Country Name",
       "style": "IPY_MODEL_40c9e9c61a9d49d988156905625739cc"
      }
     },
     "0beff752fed84020bc817f17c2ecaa1d": {
      "model_module": "@jupyter-widgets/base",
      "model_module_version": "1.0.0",
      "model_name": "LayoutModel",
      "state": {}
     },
     "0c10a1110bec4d93b0eb26c40c06e592": {
      "model_module": "@jupyter-widgets/base",
      "model_module_version": "1.0.0",
      "model_name": "LayoutModel",
      "state": {}
     },
     "0c2eb0882e754f2bb3d5c021963431dd": {
      "model_module": "@jupyter-widgets/controls",
      "model_module_version": "1.2.0",
      "model_name": "RadioButtonsModel",
      "state": {
       "_options_labels": [
        "True",
        "False"
       ],
       "description": "Title On:",
       "index": 0,
       "layout": "IPY_MODEL_71f067f0547e4b8fb4e56b7dffc3ab80",
       "style": "IPY_MODEL_65d3af4171c4432d9a86a0fe7412a1e3"
      }
     },
     "0c58bff1bfc04203af16f1e85a6c01c4": {
      "model_module": "@jupyter-widgets/controls",
      "model_module_version": "1.2.0",
      "model_name": "DescriptionStyleModel",
      "state": {
       "description_width": "initial"
      }
     },
     "0d0710a4eef64b13a4b5b359ccae9602": {
      "model_module": "@jupyter-widgets/controls",
      "model_module_version": "1.2.0",
      "model_name": "DescriptionStyleModel",
      "state": {
       "description_width": "initial"
      }
     },
     "0d57034cc43c42579fcd6411c4f71338": {
      "model_module": "@jupyter-widgets/base",
      "model_module_version": "1.0.0",
      "model_name": "LayoutModel",
      "state": {}
     },
     "0d96b0589ceb49508c42f9950a7f7311": {
      "model_module": "@jupyter-widgets/base",
      "model_module_version": "1.0.0",
      "model_name": "LayoutModel",
      "state": {}
     },
     "0dfdfc302b374b028ccf0ed87e3dcecb": {
      "model_module": "@jupyter-widgets/controls",
      "model_module_version": "1.2.0",
      "model_name": "TextModel",
      "state": {
       "description": "Country Name:",
       "layout": "IPY_MODEL_6fae948966f94ccf98916bcf8d9a0c1d",
       "placeholder": "Type a country name",
       "style": "IPY_MODEL_81830a18813143978c743c22e5bc272d",
       "value": "India"
      }
     },
     "0e26a70a887d4ce5abeef123bd4ef841": {
      "model_module": "@jupyter-widgets/controls",
      "model_module_version": "1.2.0",
      "model_name": "TextModel",
      "state": {
       "description": "Island Size Thresh:",
       "layout": "IPY_MODEL_1d1ba97b801b42baa884592fa6352e35",
       "placeholder": "Type a island thresh",
       "style": "IPY_MODEL_2173330b00b949b5a4d00827f2ee1da8",
       "value": "5000"
      }
     },
     "0e65082586054d3b9c6b26f2278431f8": {
      "model_module": "@jupyter-widgets/controls",
      "model_module_version": "1.2.0",
      "model_name": "TextModel",
      "state": {
       "description": "Show Populated Places:",
       "layout": "IPY_MODEL_5e75f0d2624e448b9075cf58a21ebe0d",
       "placeholder": "Type something",
       "style": "IPY_MODEL_9f183a11da9847ce8956b6caa06ab79a",
       "value": "False"
      }
     },
     "0f39668def504504af46ab5b62031eb1": {
      "model_module": "@jupyter-widgets/controls",
      "model_module_version": "1.2.0",
      "model_name": "FloatSliderModel",
      "state": {
       "continuous_update": false,
       "description": "Bubble Opacity:",
       "layout": "IPY_MODEL_1e8cd5ee04864bbf90da3e25be29763d",
       "max": 1,
       "readout_format": ".1f",
       "step": 0.1,
       "style": "IPY_MODEL_3cafe9e87f1b431b9eb0e873414f5be7",
       "value": 0.5
      }
     },
     "0f4489f7f65d4947a594c5c24adfc05b": {
      "model_module": "@jupyter-widgets/controls",
      "model_module_version": "1.2.0",
      "model_name": "ToggleButtonsModel",
      "state": {
       "_options_labels": [
        "Simple",
        "Mixed",
        "Complex"
       ],
       "button_style": "",
       "description": "Simplification Level:",
       "icons": [],
       "index": 1,
       "layout": "IPY_MODEL_b69296eeb19b49b2bb6a27d6d0efdb6d",
       "style": "IPY_MODEL_8cf0bf08c24644919fcc1d6edd391c71",
       "tooltips": [
        "Renewables, Fossil, and Nuclear",
        "Solar, Wind, Hydro, Geothermal,Biomass, Wave and Tidal,\n Storage, Fossil, Nuclear",
        "Solar, Wind, Hydro, Geothermal,Biomass, Wave and Tidal,\n Storage, Fossil, Nuclear, Coal, Gas, Oil, Waste, Cogeneration"
       ]
      }
     },
     "0f486a410ccd413d903252616dc606f3": {
      "model_module": "@jupyter-widgets/controls",
      "model_module_version": "1.2.0",
      "model_name": "FloatSliderModel",
      "state": {
       "continuous_update": false,
       "description": "Bubble Opacity:",
       "layout": "IPY_MODEL_ed748724e69043e6b6b9290c21e750fc",
       "max": 1,
       "readout_format": ".1f",
       "step": 0.1,
       "style": "IPY_MODEL_1a4ed045f62748fbb73330749aa865ba",
       "value": 0.5
      }
     },
     "0f8c804dbc69423e81ddddc9088bff72": {
      "model_module": "@jupyter-widgets/controls",
      "model_module_version": "1.2.0",
      "model_name": "SliderStyleModel",
      "state": {
       "description_width": "initial"
      }
     },
     "0fb037dadede4062b5e1b728b3db43bf": {
      "model_module": "@jupyter-widgets/controls",
      "model_module_version": "1.2.0",
      "model_name": "DescriptionStyleModel",
      "state": {
       "description_width": "initial"
      }
     },
     "1038a7a79c4f4339928cf3eca426265d": {
      "model_module": "@jupyter-widgets/controls",
      "model_module_version": "1.2.0",
      "model_name": "TextModel",
      "state": {
       "description": "Show Populated Places:",
       "layout": "IPY_MODEL_893588eccb564a26b2026e0d63bb40d0",
       "placeholder": "Type something",
       "style": "IPY_MODEL_288060d3e82c4d9e995a8e6eb516dbd6",
       "value": "False"
      }
     },
     "10538f39d0924e1b9bdea9ed7ad06192": {
      "model_module": "@jupyter-widgets/base",
      "model_module_version": "1.0.0",
      "model_name": "LayoutModel",
      "state": {
       "height": "80px",
       "width": "70%"
      }
     },
     "10680869c8764e4b973a1f02759afb6b": {
      "model_module": "@jupyter-widgets/controls",
      "model_module_version": "1.2.0",
      "model_name": "DescriptionStyleModel",
      "state": {
       "description_width": "initial"
      }
     },
     "108c056375b9441699b30204037dcac9": {
      "model_module": "@jupyter-widgets/controls",
      "model_module_version": "1.2.0",
      "model_name": "SliderStyleModel",
      "state": {
       "description_width": "initial"
      }
     },
     "10939cd7c0ba4b7f813bbd234f5886ca": {
      "model_module": "@jupyter-widgets/controls",
      "model_module_version": "1.2.0",
      "model_name": "DescriptionStyleModel",
      "state": {
       "description_width": "initial"
      }
     },
     "109d31f70ca84d888591250c0905c01c": {
      "model_module": "@jupyter-widgets/base",
      "model_module_version": "1.0.0",
      "model_name": "LayoutModel",
      "state": {}
     },
     "10d2814d3e2a4514be2f21a0f26f9f9a": {
      "model_module": "@jupyter-widgets/controls",
      "model_module_version": "1.2.0",
      "model_name": "ButtonStyleModel",
      "state": {}
     },
     "11097373d92549de9cd24c5a2218e54b": {
      "model_module": "@jupyter-widgets/base",
      "model_module_version": "1.0.0",
      "model_name": "LayoutModel",
      "state": {}
     },
     "1139872ede47432984e37f976fe7a4ef": {
      "model_module": "@jupyter-widgets/base",
      "model_module_version": "1.0.0",
      "model_name": "LayoutModel",
      "state": {}
     },
     "125ef0dd2b614e468111d3c28974076a": {
      "model_module": "@jupyter-widgets/base",
      "model_module_version": "1.0.0",
      "model_name": "LayoutModel",
      "state": {}
     },
     "12b8b3adb0454383bb82c961e846082a": {
      "model_module": "@jupyter-widgets/controls",
      "model_module_version": "1.2.0",
      "model_name": "SliderStyleModel",
      "state": {
       "description_width": "initial"
      }
     },
     "12e0922dd6844b0badf0173a79d455ba": {
      "model_module": "@jupyter-widgets/base",
      "model_module_version": "1.0.0",
      "model_name": "LayoutModel",
      "state": {}
     },
     "132e7f4a13dc4193b134932ab52ffef3": {
      "model_module": "@jupyter-widgets/controls",
      "model_module_version": "1.2.0",
      "model_name": "DropdownModel",
      "state": {
       "_options_labels": [
        "capacity",
        "alphabetical"
       ],
       "description": "Sort Legend By:",
       "index": 0,
       "layout": "IPY_MODEL_7f8fd98facf14931b1fb7ef863719047",
       "style": "IPY_MODEL_f27a21530a7f4f00bbd53d9d02ff1906"
      }
     },
     "13644f9dd64e42ddb808a4e0125e4286": {
      "model_module": "@jupyter-widgets/base",
      "model_module_version": "1.0.0",
      "model_name": "LayoutModel",
      "state": {}
     },
     "13b54d8fb9e846e599dc2bcd95405ffe": {
      "model_module": "@jupyter-widgets/controls",
      "model_module_version": "1.2.0",
      "model_name": "IntSliderModel",
      "state": {
       "continuous_update": false,
       "description": "DPI (resolution):",
       "layout": "IPY_MODEL_c9de134adf164af8a75468c516e1e68b",
       "max": 500,
       "min": 100,
       "style": "IPY_MODEL_2b16b126bb3a42b98a976e395247fa55",
       "value": 300
      }
     },
     "13deba104b124a58808102cf5ca3385b": {
      "model_module": "@jupyter-widgets/controls",
      "model_module_version": "1.2.0",
      "model_name": "ToggleButtonsModel",
      "state": {
       "_options_labels": [
        "Simple",
        "Mixed",
        "Complex"
       ],
       "button_style": "",
       "description": "Simplification Level:",
       "icons": [],
       "index": 1,
       "layout": "IPY_MODEL_3bf6e31885ee4afeafec97f2f5f3953e",
       "style": "IPY_MODEL_34e9edea2dff4ec7b7718a1e90f3e475",
       "tooltips": [
        "Renewables, Fossil, and Nuclear",
        "Solar, Wind, Hydro, Geothermal,Biomass, Wave and Tidal,\n Storage, Fossil, Nuclear",
        "Solar, Wind, Hydro, Geothermal,Biomass, Wave and Tidal,\n Storage, Fossil, Nuclear, Coal, Gas, Oil, Waste, Cogeneration"
       ]
      }
     },
     "144fabdbbbc3476b9d56ecdbf30f5b1d": {
      "model_module": "@jupyter-widgets/base",
      "model_module_version": "1.0.0",
      "model_name": "LayoutModel",
      "state": {}
     },
     "14687117d7aa4b5eac89019b7a7a76ca": {
      "model_module": "@jupyter-widgets/controls",
      "model_module_version": "1.2.0",
      "model_name": "RadioButtonsModel",
      "state": {
       "_options_labels": [
        "True",
        "False"
       ],
       "description": "Title On:",
       "index": 0,
       "layout": "IPY_MODEL_8f877667a02442788a9979864ba78d8e",
       "style": "IPY_MODEL_a120d80849bd4298be4834c88a259bfb"
      }
     },
     "14e316bba7b646ec8d29b2f2b9376a70": {
      "model_module": "@jupyter-widgets/controls",
      "model_module_version": "1.2.0",
      "model_name": "DropdownModel",
      "state": {
       "_options_labels": [
        "capacity",
        "alphabetical"
       ],
       "description": "Sort Legend By:",
       "index": 0,
       "layout": "IPY_MODEL_40d16b65d8df44c4b895c47fa60b5ba9",
       "style": "IPY_MODEL_7b7d7fa6e7a34a5daa8b2d4705aa3538"
      }
     },
     "1523ed924c1341aa98cdb27208cd6fcf": {
      "model_module": "@jupyter-widgets/controls",
      "model_module_version": "1.2.0",
      "model_name": "ToggleButtonsStyleModel",
      "state": {
       "button_width": "",
       "description_width": "initial"
      }
     },
     "1593d4e0693d485f989443ce2e9d8bdd": {
      "model_module": "@jupyter-widgets/controls",
      "model_module_version": "1.2.0",
      "model_name": "DropdownModel",
      "state": {
       "_options_labels": [
        "capacity",
        "alphabetical"
       ],
       "description": "Sort Legend By:",
       "index": 0,
       "layout": "IPY_MODEL_bb67daead6684a909bdc5f2cab587e18",
       "style": "IPY_MODEL_f9fc6cc099334417a40eb2d3aa0f28e0"
      }
     },
     "15cca243e06d4d6298c1b05405ea42c2": {
      "model_module": "@jupyter-widgets/base",
      "model_module_version": "1.0.0",
      "model_name": "LayoutModel",
      "state": {}
     },
     "16b0c417099e4e1fb9797faaf460cdab": {
      "model_module": "@jupyter-widgets/controls",
      "model_module_version": "1.2.0",
      "model_name": "DescriptionStyleModel",
      "state": {
       "description_width": "initial"
      }
     },
     "17001cca00194e0cafdee261752dbcdd": {
      "model_module": "@jupyter-widgets/base",
      "model_module_version": "1.0.0",
      "model_name": "LayoutModel",
      "state": {}
     },
     "170eb88a372c4622b038d47f5ef7e7f4": {
      "model_module": "@jupyter-widgets/controls",
      "model_module_version": "1.2.0",
      "model_name": "SliderStyleModel",
      "state": {
       "description_width": "initial"
      }
     },
     "17cfd8f1296e440997763791964e07cd": {
      "model_module": "@jupyter-widgets/controls",
      "model_module_version": "1.2.0",
      "model_name": "SliderStyleModel",
      "state": {
       "description_width": "initial"
      }
     },
     "17fda476d83d451b96a27382b43017db": {
      "model_module": "@jupyter-widgets/controls",
      "model_module_version": "1.2.0",
      "model_name": "DescriptionStyleModel",
      "state": {
       "description_width": "initial"
      }
     },
     "181063281f014ef2ae44ab2ab5599dab": {
      "model_module": "@jupyter-widgets/base",
      "model_module_version": "1.0.0",
      "model_name": "LayoutModel",
      "state": {}
     },
     "18abf0131e2d42f4bd5bfd6468ffb41f": {
      "model_module": "@jupyter-widgets/controls",
      "model_module_version": "1.2.0",
      "model_name": "TextModel",
      "state": {
       "description": "Path to save to:",
       "layout": "IPY_MODEL_563d1b0fa7b54cf2bd2e3dd22ada300b",
       "placeholder": "Type the complete path to save to",
       "style": "IPY_MODEL_e3f1c5f3e441422e980659f39121cd2b",
       "value": "/Users/skoebric/Downloads/XYZ.png"
      }
     },
     "18e37dd631e84d1c8a1572e0227ca2f5": {
      "model_module": "@jupyter-widgets/base",
      "model_module_version": "1.0.0",
      "model_name": "LayoutModel",
      "state": {}
     },
     "197f28acc0e948989773be7de9d1a9ad": {
      "model_module": "@jupyter-widgets/controls",
      "model_module_version": "1.2.0",
      "model_name": "TextModel",
      "state": {
       "description": "Coordinate System:",
       "layout": "IPY_MODEL_45693c972b784eada25056ffd580f9be",
       "placeholder": "Type something",
       "style": "IPY_MODEL_9de1e3f5b2944f1b984cae49530eacd9",
       "value": "spherical"
      }
     },
     "19c1c4d6d92c4ce68abfd1bda05d99f2": {
      "model_module": "@jupyter-widgets/controls",
      "model_module_version": "1.2.0",
      "model_name": "SliderStyleModel",
      "state": {
       "description_width": "initial"
      }
     },
     "19e49aee4a0644c3b55c42c5e9e807c5": {
      "model_module": "@jupyter-widgets/controls",
      "model_module_version": "1.2.0",
      "model_name": "DescriptionStyleModel",
      "state": {
       "description_width": "initial"
      }
     },
     "1a3630ea810a42349f1d58ee37d8e0f1": {
      "model_module": "@jupyter-widgets/controls",
      "model_module_version": "1.2.0",
      "model_name": "ToggleButtonsModel",
      "state": {
       "_options_labels": [
        "Simple",
        "Mixed",
        "Complex"
       ],
       "button_style": "",
       "description": "Simplification Level:",
       "icons": [],
       "index": 1,
       "layout": "IPY_MODEL_aaf34c87bba44221b6121106ba60d5bd",
       "style": "IPY_MODEL_48adc495a4ae44fd92abe113e3481fd1",
       "tooltips": [
        "Renewables, Fossil, and Nuclear",
        "Solar, Wind, Hydro, Geothermal,Biomass, Wave and Tidal,\n Storage, Fossil, Nuclear",
        "Solar, Wind, Hydro, Geothermal,Biomass, Wave and Tidal,\n Storage, Fossil, Nuclear, Coal, Gas, Oil, Waste, Cogeneration"
       ]
      }
     },
     "1a4944b730414972b8e78ccc5f174728": {
      "model_module": "@jupyter-widgets/controls",
      "model_module_version": "1.2.0",
      "model_name": "SliderStyleModel",
      "state": {
       "description_width": "initial"
      }
     },
     "1a4ed045f62748fbb73330749aa865ba": {
      "model_module": "@jupyter-widgets/controls",
      "model_module_version": "1.2.0",
      "model_name": "SliderStyleModel",
      "state": {
       "description_width": "initial"
      }
     },
     "1b01a670083f45dbbf021c60c9dc7124": {
      "model_module": "@jupyter-widgets/base",
      "model_module_version": "1.0.0",
      "model_name": "LayoutModel",
      "state": {}
     },
     "1b0ea0b2b7464ed1b8cbe979839ced9b": {
      "model_module": "@jupyter-widgets/base",
      "model_module_version": "1.0.0",
      "model_name": "LayoutModel",
      "state": {}
     },
     "1b1af95fda874a35830da77937472a16": {
      "model_module": "@jupyter-widgets/controls",
      "model_module_version": "1.2.0",
      "model_name": "DescriptionStyleModel",
      "state": {
       "description_width": "initial"
      }
     },
     "1badd01a72334645bda0a4e4d07c9b9c": {
      "model_module": "@jupyter-widgets/controls",
      "model_module_version": "1.2.0",
      "model_name": "ButtonStyleModel",
      "state": {}
     },
     "1c32c0f068db4867b791f1e9e4d6b95b": {
      "model_module": "@jupyter-widgets/base",
      "model_module_version": "1.0.0",
      "model_name": "LayoutModel",
      "state": {}
     },
     "1c7d46f61d7a4bb5abfd9299ba36f3b7": {
      "model_module": "@jupyter-widgets/base",
      "model_module_version": "1.0.0",
      "model_name": "LayoutModel",
      "state": {
       "height": "80px",
       "width": "70%"
      }
     },
     "1c94b696932e4bebbd10ee724bb923e5": {
      "model_module": "@jupyter-widgets/base",
      "model_module_version": "1.0.0",
      "model_name": "LayoutModel",
      "state": {}
     },
     "1c957067d7324b30918c86e50c61b55e": {
      "model_module": "@jupyter-widgets/base",
      "model_module_version": "1.0.0",
      "model_name": "LayoutModel",
      "state": {}
     },
     "1c9ec4c4fcfa42bca53c1bff114c9ae0": {
      "model_module": "@jupyter-widgets/base",
      "model_module_version": "1.0.0",
      "model_name": "LayoutModel",
      "state": {}
     },
     "1cc561e5eec842e7995a560d02be85d4": {
      "model_module": "@jupyter-widgets/controls",
      "model_module_version": "1.2.0",
      "model_name": "ButtonModel",
      "state": {
       "description": "Update Plot",
       "icon": "check",
       "layout": "IPY_MODEL_890318aab5cb4ad9ba4bee74825097f5",
       "style": "IPY_MODEL_fa2bbe276f3744e1b839af5aaecb377b",
       "tooltip": "Update Plot"
      }
     },
     "1cf980be96e547c3ae28633307a99e83": {
      "model_module": "@jupyter-widgets/base",
      "model_module_version": "1.0.0",
      "model_name": "LayoutModel",
      "state": {}
     },
     "1d1ba97b801b42baa884592fa6352e35": {
      "model_module": "@jupyter-widgets/base",
      "model_module_version": "1.0.0",
      "model_name": "LayoutModel",
      "state": {}
     },
     "1d60820c7e2d498dabecfeed4a69bab8": {
      "model_module": "@jupyter-widgets/controls",
      "model_module_version": "1.2.0",
      "model_name": "TextModel",
      "state": {
       "description": "Show Populated Places:",
       "layout": "IPY_MODEL_bdc63513cbff4f5fbdda1d8d0cc26b7e",
       "placeholder": "Type something",
       "style": "IPY_MODEL_47519c7860cd479f8965e8fad4852d58",
       "value": "False"
      }
     },
     "1d666bed73af4d91a2c32fdb664bccb0": {
      "model_module": "@jupyter-widgets/controls",
      "model_module_version": "1.2.0",
      "model_name": "DescriptionStyleModel",
      "state": {
       "description_width": "initial"
      }
     },
     "1db2e196417545b29b35d9c44de609f1": {
      "model_module": "@jupyter-widgets/base",
      "model_module_version": "1.0.0",
      "model_name": "LayoutModel",
      "state": {}
     },
     "1e16c9faea564cbaaa9910989b11b520": {
      "model_module": "@jupyter-widgets/base",
      "model_module_version": "1.0.0",
      "model_name": "LayoutModel",
      "state": {}
     },
     "1e66f6186980498eaa44aeca0dcc79e2": {
      "model_module": "@jupyter-widgets/base",
      "model_module_version": "1.0.0",
      "model_name": "LayoutModel",
      "state": {}
     },
     "1e7dd346e1c141a9a67604d6c8207bfe": {
      "model_module": "@jupyter-widgets/controls",
      "model_module_version": "1.2.0",
      "model_name": "DescriptionStyleModel",
      "state": {
       "description_width": "initial"
      }
     },
     "1e8cd5ee04864bbf90da3e25be29763d": {
      "model_module": "@jupyter-widgets/base",
      "model_module_version": "1.0.0",
      "model_name": "LayoutModel",
      "state": {}
     },
     "1e93b0abab7a4e84b16ad1769b8e5647": {
      "model_module": "@jupyter-widgets/base",
      "model_module_version": "1.0.0",
      "model_name": "LayoutModel",
      "state": {}
     },
     "1ebcbc129f174ce48f0645123da97ee0": {
      "model_module": "@jupyter-widgets/base",
      "model_module_version": "1.0.0",
      "model_name": "LayoutModel",
      "state": {}
     },
     "1f0ee5c34001498fbcde7e7ca6c8f9e5": {
      "model_module": "@jupyter-widgets/base",
      "model_module_version": "1.0.0",
      "model_name": "LayoutModel",
      "state": {}
     },
     "1f36b9b2b18846de9bb8e9c60445f3cd": {
      "model_module": "@jupyter-widgets/controls",
      "model_module_version": "1.2.0",
      "model_name": "SliderStyleModel",
      "state": {
       "description_width": "initial"
      }
     },
     "1f3a75432f9240a8a6602ddf6f2545e1": {
      "model_module": "@jupyter-widgets/controls",
      "model_module_version": "1.2.0",
      "model_name": "TextModel",
      "state": {
       "description": "Coordinate System:",
       "layout": "IPY_MODEL_a5408c6bf9b64b219918168a2f63d21a",
       "placeholder": "Type something",
       "style": "IPY_MODEL_8744aae140644701a9461f9daf5c44d6",
       "value": "spherical"
      }
     },
     "1f49bad8231f4743bcc17f306b169d11": {
      "model_module": "@jupyter-widgets/base",
      "model_module_version": "1.0.0",
      "model_name": "LayoutModel",
      "state": {}
     },
     "1fabb84a19d34e9db16d7f6fafc80d51": {
      "model_module": "@jupyter-widgets/controls",
      "model_module_version": "1.2.0",
      "model_name": "ButtonModel",
      "state": {
       "description": "Update Plot",
       "icon": "check",
       "layout": "IPY_MODEL_7f9bf6dbe7e14010b2690230fa643a59",
       "style": "IPY_MODEL_94a880a70bfd4aacb4ba03bf1d59ae92",
       "tooltip": "Update Plot"
      }
     },
     "1fafaa51c40143ca8ae0471f5a0ff386": {
      "model_module": "@jupyter-widgets/controls",
      "model_module_version": "1.2.0",
      "model_name": "ToggleButtonsModel",
      "state": {
       "_options_labels": [
        "Simple",
        "Mixed",
        "Complex"
       ],
       "button_style": "",
       "description": "Simplification Level:",
       "icons": [],
       "index": 1,
       "layout": "IPY_MODEL_a0e6de593c864e3baaeb47f27630b6b4",
       "style": "IPY_MODEL_bc8a25cf061749beb89ad02fe478c9df",
       "tooltips": [
        "Renewables, Fossil, and Nuclear",
        "Solar, Wind, Hydro, Geothermal,Biomass, Wave and Tidal,\n Storage, Fossil, Nuclear",
        "Solar, Wind, Hydro, Geothermal,Biomass, Wave and Tidal,\n Storage, Fossil, Nuclear, Coal, Gas, Oil, Waste, Cogeneration"
       ]
      }
     },
     "1fb24064cc024efe87441a5642f2fd0b": {
      "model_module": "@jupyter-widgets/controls",
      "model_module_version": "1.2.0",
      "model_name": "ButtonModel",
      "state": {
       "description": "Update Plot",
       "icon": "check",
       "layout": "IPY_MODEL_e165f1a4874f45ba93f0dd0083000291",
       "style": "IPY_MODEL_5c0980ace2bb4689a61f236870640b5a",
       "tooltip": "Update Plot"
      }
     },
     "2047af4f13bd47618ab2f40016356107": {
      "model_module": "@jupyter-widgets/controls",
      "model_module_version": "1.2.0",
      "model_name": "ButtonStyleModel",
      "state": {}
     },
     "20a0e8e6329c4f89aaa66ba7c2ae500c": {
      "model_module": "@jupyter-widgets/controls",
      "model_module_version": "1.2.0",
      "model_name": "ToggleButtonsStyleModel",
      "state": {
       "button_width": "",
       "description_width": "initial"
      }
     },
     "20c0b02b04e34dd9b34f180989f95329": {
      "model_module": "@jupyter-widgets/controls",
      "model_module_version": "1.2.0",
      "model_name": "ButtonStyleModel",
      "state": {}
     },
     "20c9c3560d1a4fddbfa364d69d3e57db": {
      "model_module": "@jupyter-widgets/base",
      "model_module_version": "1.0.0",
      "model_name": "LayoutModel",
      "state": {}
     },
     "20d7a650f22145d39f6cefed74b5056c": {
      "model_module": "@jupyter-widgets/base",
      "model_module_version": "1.0.0",
      "model_name": "LayoutModel",
      "state": {}
     },
     "2128d5b459314cb39ed7691a015a6c0d": {
      "model_module": "@jupyter-widgets/controls",
      "model_module_version": "1.2.0",
      "model_name": "DropdownModel",
      "state": {
       "_options_labels": [
        "capacity",
        "alphabetical"
       ],
       "description": "Sort Legend By:",
       "index": 0,
       "layout": "IPY_MODEL_d1df1a0d03eb484bbffb1fb0ef719870",
       "style": "IPY_MODEL_79cdd44eeb2d46659cfa88ab6f65b717"
      }
     },
     "2140a773dce74efb93a6c033791cfcad": {
      "model_module": "@jupyter-widgets/controls",
      "model_module_version": "1.2.0",
      "model_name": "SliderStyleModel",
      "state": {
       "description_width": "initial"
      }
     },
     "2173330b00b949b5a4d00827f2ee1da8": {
      "model_module": "@jupyter-widgets/controls",
      "model_module_version": "1.2.0",
      "model_name": "DescriptionStyleModel",
      "state": {
       "description_width": "initial"
      }
     },
     "21a47d71fcd54e3cb48a6a7c6a4eb009": {
      "model_module": "@jupyter-widgets/controls",
      "model_module_version": "1.2.0",
      "model_name": "DescriptionStyleModel",
      "state": {
       "description_width": ""
      }
     },
     "2229d91b3b144114860bd1a3e8d9486f": {
      "model_module": "@jupyter-widgets/base",
      "model_module_version": "1.0.0",
      "model_name": "LayoutModel",
      "state": {}
     },
     "22bfdf4a2f414abe9e1aacbd8f0acaa2": {
      "model_module": "@jupyter-widgets/controls",
      "model_module_version": "1.2.0",
      "model_name": "DescriptionStyleModel",
      "state": {
       "description_width": ""
      }
     },
     "22c9263fba2c4d72b6b55ecd9fa2e1ec": {
      "model_module": "@jupyter-widgets/controls",
      "model_module_version": "1.2.0",
      "model_name": "DescriptionStyleModel",
      "state": {
       "description_width": "initial"
      }
     },
     "23326e45c0584ff49f26ca3405dc269c": {
      "model_module": "@jupyter-widgets/controls",
      "model_module_version": "1.2.0",
      "model_name": "DescriptionStyleModel",
      "state": {
       "description_width": "initial"
      }
     },
     "2338122c08364d769c02c7fab7389250": {
      "model_module": "@jupyter-widgets/controls",
      "model_module_version": "1.2.0",
      "model_name": "TextModel",
      "state": {
       "description": "Country Precursor:",
       "layout": "IPY_MODEL_a3c95242761945adb32c6e5ef2517b36",
       "placeholder": "Precursor to Country Name",
       "style": "IPY_MODEL_08d38e75c54641acaa4b34459dc63631"
      }
     },
     "233b72ab8292489c83f3a1f740d0064f": {
      "model_module": "@jupyter-widgets/controls",
      "model_module_version": "1.2.0",
      "model_name": "FloatSliderModel",
      "state": {
       "continuous_update": false,
       "description": "Zoom Level:",
       "layout": "IPY_MODEL_b9a6e3dfa8a541ce94cebe2c3edbba6e",
       "max": 3,
       "min": 0.5,
       "readout_format": ".1f",
       "step": 0.1,
       "style": "IPY_MODEL_a6e96b6d7a6c46e8b27d235feb08f811",
       "value": 1
      }
     },
     "2344148f185542baab361a4f527b319e": {
      "model_module": "@jupyter-widgets/controls",
      "model_module_version": "1.2.0",
      "model_name": "IntSliderModel",
      "state": {
       "continuous_update": false,
       "description": "DPI (resolution):",
       "layout": "IPY_MODEL_60b669a6781448419c3e601100701fa4",
       "max": 500,
       "min": 100,
       "style": "IPY_MODEL_3a23d1df34f04cdd987e39090f02df11",
       "value": 300
      }
     },
     "23bd409b408a4e63a70c5a3e33c69b16": {
      "model_module": "@jupyter-widgets/controls",
      "model_module_version": "1.2.0",
      "model_name": "SliderStyleModel",
      "state": {
       "description_width": "initial"
      }
     },
     "23d0d1bac2b7434c98857fc758279dae": {
      "model_module": "@jupyter-widgets/controls",
      "model_module_version": "1.2.0",
      "model_name": "ButtonModel",
      "state": {
       "description": "Update Plot",
       "icon": "check",
       "layout": "IPY_MODEL_1c7d46f61d7a4bb5abfd9299ba36f3b7",
       "style": "IPY_MODEL_20c0b02b04e34dd9b34f180989f95329",
       "tooltip": "Update Plot"
      }
     },
     "242a44fc5f814b96a94b5a8111cb9d32": {
      "model_module": "@jupyter-widgets/controls",
      "model_module_version": "1.2.0",
      "model_name": "SliderStyleModel",
      "state": {
       "description_width": "initial"
      }
     },
     "2438d43716ff41689d8e552b9cf826bd": {
      "model_module": "@jupyter-widgets/base",
      "model_module_version": "1.0.0",
      "model_name": "LayoutModel",
      "state": {}
     },
     "247bf49424d84e15a01c99dc430e7c52": {
      "model_module": "@jupyter-widgets/base",
      "model_module_version": "1.0.0",
      "model_name": "LayoutModel",
      "state": {}
     },
     "2486b02fa5cd4f198acbf887153201a6": {
      "model_module": "@jupyter-widgets/controls",
      "model_module_version": "1.2.0",
      "model_name": "TextModel",
      "state": {
       "description": "Island Size Thresh:",
       "layout": "IPY_MODEL_97eef8891cae42d684ad21deba43532c",
       "placeholder": "Type a island thresh",
       "style": "IPY_MODEL_c2b081a544784122a1aa3c8d66bb9f1e",
       "value": "5000"
      }
     },
     "24ee941e6e104ee3a69b0b0ad2973313": {
      "model_module": "@jupyter-widgets/base",
      "model_module_version": "1.0.0",
      "model_name": "LayoutModel",
      "state": {}
     },
     "253d266a06c448fd8d89ec4507f30f5f": {
      "model_module": "@jupyter-widgets/controls",
      "model_module_version": "1.2.0",
      "model_name": "TextModel",
      "state": {
       "description": "Island Size Thresh:",
       "layout": "IPY_MODEL_b92f0fd626454d4490f1be3bb4eead2b",
       "placeholder": "Type a island thresh",
       "style": "IPY_MODEL_fc33ff048f9a49dc83612882ace305f7",
       "value": "5000"
      }
     },
     "25a1dd0c43384fcb88fe90710a8a2143": {
      "model_module": "@jupyter-widgets/base",
      "model_module_version": "1.0.0",
      "model_name": "LayoutModel",
      "state": {}
     },
     "25a6042b27a347d49282f884fb5c66b0": {
      "model_module": "@jupyter-widgets/controls",
      "model_module_version": "1.2.0",
      "model_name": "DropdownModel",
      "state": {
       "_options_labels": [
        "capacity",
        "alphabetical"
       ],
       "description": "Sort Legend By:",
       "index": 0,
       "layout": "IPY_MODEL_bc79ac807728455794d3a4ac51ee278c",
       "style": "IPY_MODEL_f0b29ead72d3464c8cd1f76085d64cf0"
      }
     },
     "25b28757048749a1a8ca748508ccbc51": {
      "model_module": "@jupyter-widgets/controls",
      "model_module_version": "1.2.0",
      "model_name": "IntSliderModel",
      "state": {
       "continuous_update": false,
       "description": "DPI (resolution):",
       "layout": "IPY_MODEL_76d728711e264125a884a5b1d2186216",
       "max": 500,
       "min": 100,
       "style": "IPY_MODEL_74dcc5c6ec6d4ee9a4b8294ef2492ea7",
       "value": 300
      }
     },
     "25d1f83077d440f39ad08f583e944887": {
      "model_module": "@jupyter-widgets/base",
      "model_module_version": "1.0.0",
      "model_name": "LayoutModel",
      "state": {}
     },
     "263822d472954a13bbe3bb1a89e1375a": {
      "model_module": "@jupyter-widgets/controls",
      "model_module_version": "1.2.0",
      "model_name": "DescriptionStyleModel",
      "state": {
       "description_width": "initial"
      }
     },
     "264eb5ca498b4f00bab4fd79999c2181": {
      "model_module": "@jupyter-widgets/controls",
      "model_module_version": "1.2.0",
      "model_name": "ToggleButtonsStyleModel",
      "state": {
       "button_width": "",
       "description_width": "initial"
      }
     },
     "266ac184081a4ffe9d9ad121565600a1": {
      "model_module": "@jupyter-widgets/base",
      "model_module_version": "1.0.0",
      "model_name": "LayoutModel",
      "state": {}
     },
     "2744a9a4245e4ce392b7da3458773886": {
      "model_module": "@jupyter-widgets/base",
      "model_module_version": "1.0.0",
      "model_name": "LayoutModel",
      "state": {
       "height": "80px",
       "width": "70%"
      }
     },
     "274d04bcf93e429d9cc72981ef262820": {
      "model_module": "@jupyter-widgets/controls",
      "model_module_version": "1.2.0",
      "model_name": "DescriptionStyleModel",
      "state": {
       "description_width": ""
      }
     },
     "27923732d28842fb833d024bd04ffcef": {
      "model_module": "@jupyter-widgets/controls",
      "model_module_version": "1.2.0",
      "model_name": "ToggleButtonsStyleModel",
      "state": {
       "button_width": "",
       "description_width": "initial"
      }
     },
     "27ef84e5420642d9b33e32f6bc1e5da1": {
      "model_module": "@jupyter-widgets/controls",
      "model_module_version": "1.2.0",
      "model_name": "TextModel",
      "state": {
       "description": "Island Size Thresh:",
       "layout": "IPY_MODEL_2e4c0909af51453fbd5352f3bd7b63a1",
       "placeholder": "Type a island thresh",
       "style": "IPY_MODEL_a9a77687b84b4893a550942d58efb7bc",
       "value": "5000"
      }
     },
     "280e70524b2c4487b22c78d4cb7e10cc": {
      "model_module": "@jupyter-widgets/controls",
      "model_module_version": "1.2.0",
      "model_name": "ButtonModel",
      "state": {
       "description": "Update Plot",
       "icon": "check",
       "layout": "IPY_MODEL_a5aee77e9be945e6bf97c2cc42c614ae",
       "style": "IPY_MODEL_7e4d73ac38f24f84a00c081267fce9e4",
       "tooltip": "Update Plot"
      }
     },
     "288060d3e82c4d9e995a8e6eb516dbd6": {
      "model_module": "@jupyter-widgets/controls",
      "model_module_version": "1.2.0",
      "model_name": "DescriptionStyleModel",
      "state": {
       "description_width": "initial"
      }
     },
     "288c77d0130d4650b1d94ad829f27b9c": {
      "model_module": "@jupyter-widgets/controls",
      "model_module_version": "1.2.0",
      "model_name": "SliderStyleModel",
      "state": {
       "description_width": "initial"
      }
     },
     "28a6418d2bad41238c4a69d1ba96f409": {
      "model_module": "@jupyter-widgets/base",
      "model_module_version": "1.0.0",
      "model_name": "LayoutModel",
      "state": {}
     },
     "28cbbbd7562949e9b7d3fdfe10d54ba4": {
      "model_module": "@jupyter-widgets/controls",
      "model_module_version": "1.2.0",
      "model_name": "DescriptionStyleModel",
      "state": {
       "description_width": "initial"
      }
     },
     "28f913c3920948f0bcc9aea000849396": {
      "model_module": "@jupyter-widgets/controls",
      "model_module_version": "1.2.0",
      "model_name": "ButtonStyleModel",
      "state": {}
     },
     "294f9b5e068f4c6bb977afd48aa22cd7": {
      "model_module": "@jupyter-widgets/controls",
      "model_module_version": "1.2.0",
      "model_name": "DropdownModel",
      "state": {
       "_options_labels": [
        "capacity",
        "alphabetical"
       ],
       "description": "Sort Legend By:",
       "index": 0,
       "layout": "IPY_MODEL_efec90a7596e4dcf87ce9e92e30d8a11",
       "style": "IPY_MODEL_2f9b60c27e0e41fbb1c6a2e7b33862ec"
      }
     },
     "29add54988604a7999b603dd9cb7d054": {
      "model_module": "@jupyter-widgets/controls",
      "model_module_version": "1.2.0",
      "model_name": "TextModel",
      "state": {
       "description": "Country Name:",
       "layout": "IPY_MODEL_12e0922dd6844b0badf0173a79d455ba",
       "placeholder": "Type a country name",
       "style": "IPY_MODEL_a93b116b59be4920bb2e511b49aa7f77",
       "value": "India"
      }
     },
     "29b11690dd9f48ddaacc00a838e3aed8": {
      "model_module": "@jupyter-widgets/base",
      "model_module_version": "1.0.0",
      "model_name": "LayoutModel",
      "state": {}
     },
     "29d3e64748bf48148710bb6aa8adbfff": {
      "model_module": "@jupyter-widgets/controls",
      "model_module_version": "1.2.0",
      "model_name": "DescriptionStyleModel",
      "state": {
       "description_width": ""
      }
     },
     "2a01c9a5373040e9b39ea42aff60b170": {
      "model_module": "@jupyter-widgets/controls",
      "model_module_version": "1.2.0",
      "model_name": "DescriptionStyleModel",
      "state": {
       "description_width": "initial"
      }
     },
     "2a3164795ea544ecb3999fe612ee5414": {
      "model_module": "@jupyter-widgets/base",
      "model_module_version": "1.0.0",
      "model_name": "LayoutModel",
      "state": {
       "height": "80px",
       "width": "70%"
      }
     },
     "2a5273cb02a1405c97af99110189e7d6": {
      "model_module": "@jupyter-widgets/controls",
      "model_module_version": "1.2.0",
      "model_name": "SliderStyleModel",
      "state": {
       "description_width": "initial"
      }
     },
     "2a7abfe0461a45c19e07e9062ec396b6": {
      "model_module": "@jupyter-widgets/controls",
      "model_module_version": "1.2.0",
      "model_name": "RadioButtonsModel",
      "state": {
       "_options_labels": [
        "True",
        "False"
       ],
       "description": "Title On:",
       "index": 0,
       "layout": "IPY_MODEL_6c0e9c7733b3431d8c1505eb2754cb6f",
       "style": "IPY_MODEL_83a1bb82708549718ddfe67dd878390b"
      }
     },
     "2aacc748de1345e19b508d83be0b8d4e": {
      "model_module": "@jupyter-widgets/base",
      "model_module_version": "1.0.0",
      "model_name": "LayoutModel",
      "state": {
       "height": "80px",
       "width": "70%"
      }
     },
     "2aea0746ef12438da44b1095ea8889e7": {
      "model_module": "@jupyter-widgets/controls",
      "model_module_version": "1.2.0",
      "model_name": "ButtonStyleModel",
      "state": {}
     },
     "2b16b126bb3a42b98a976e395247fa55": {
      "model_module": "@jupyter-widgets/controls",
      "model_module_version": "1.2.0",
      "model_name": "SliderStyleModel",
      "state": {
       "description_width": "initial"
      }
     },
     "2b6bcf71909143c59b6215f8f209b9ab": {
      "model_module": "@jupyter-widgets/controls",
      "model_module_version": "1.2.0",
      "model_name": "RadioButtonsModel",
      "state": {
       "_options_labels": [
        "True",
        "False"
       ],
       "description": "Source On:",
       "index": 0,
       "layout": "IPY_MODEL_38b3ae319a25443db3430c8484d39efd",
       "style": "IPY_MODEL_a3053ac4dc474a35bfaa08902b8df08c"
      }
     },
     "2ba98c4a32ac4242b214644e7898f26b": {
      "model_module": "@jupyter-widgets/base",
      "model_module_version": "1.0.0",
      "model_name": "LayoutModel",
      "state": {}
     },
     "2bafa6351b9045a2a9bf212871912c7e": {
      "model_module": "@jupyter-widgets/controls",
      "model_module_version": "1.2.0",
      "model_name": "IntSliderModel",
      "state": {
       "continuous_update": false,
       "description": "Number of Legend Columns:",
       "layout": "IPY_MODEL_73c61e62236546379381715c89153640",
       "max": 3,
       "min": 1,
       "style": "IPY_MODEL_a8af5a4db811411db959cbfd18d59ad6",
       "value": 1
      }
     },
     "2bb02a1adcd64f2ab9de86f214b0e4d5": {
      "model_module": "@jupyter-widgets/controls",
      "model_module_version": "1.2.0",
      "model_name": "DescriptionStyleModel",
      "state": {
       "description_width": "initial"
      }
     },
     "2bed295554ad4e8fa3c0a8ce7917c1aa": {
      "model_module": "@jupyter-widgets/base",
      "model_module_version": "1.0.0",
      "model_name": "LayoutModel",
      "state": {
       "height": "80px",
       "width": "70%"
      }
     },
     "2c5c3575d41b4722b6eda80196399edd": {
      "model_module": "@jupyter-widgets/controls",
      "model_module_version": "1.2.0",
      "model_name": "DescriptionStyleModel",
      "state": {
       "description_width": "initial"
      }
     },
     "2c63d68041474abb95e160f11c5270ff": {
      "model_module": "@jupyter-widgets/base",
      "model_module_version": "1.0.0",
      "model_name": "LayoutModel",
      "state": {}
     },
     "2c7e6690c2e94e2daf27aa5a0cc9150a": {
      "model_module": "@jupyter-widgets/base",
      "model_module_version": "1.0.0",
      "model_name": "LayoutModel",
      "state": {}
     },
     "2c9b5a54fcde4bd9ac04673be88f948f": {
      "model_module": "@jupyter-widgets/base",
      "model_module_version": "1.0.0",
      "model_name": "LayoutModel",
      "state": {}
     },
     "2cceffdd72c144a7a01632b153a66613": {
      "model_module": "@jupyter-widgets/controls",
      "model_module_version": "1.2.0",
      "model_name": "TextModel",
      "state": {
       "description": "Path to save to:",
       "layout": "IPY_MODEL_b2602dc773cc4d6c85a1941d24befb80",
       "placeholder": "Type the complete path to save to",
       "style": "IPY_MODEL_0d0710a4eef64b13a4b5b359ccae9602",
       "value": "/Users/skoebric/Downloads/XYZ.png"
      }
     },
     "2d337731ad6d4ce982133ff41156943a": {
      "model_module": "@jupyter-widgets/controls",
      "model_module_version": "1.2.0",
      "model_name": "DropdownModel",
      "state": {
       "_options_labels": [
        "capacity",
        "alphabetical"
       ],
       "description": "Sort Legend By:",
       "index": 0,
       "layout": "IPY_MODEL_b3bb7b926b324118b0e816f0d75a850e",
       "style": "IPY_MODEL_719b507434654aab9e606d91144e312a"
      }
     },
     "2d4c8d9240dd4db384a264898f125769": {
      "model_module": "@jupyter-widgets/base",
      "model_module_version": "1.0.0",
      "model_name": "LayoutModel",
      "state": {}
     },
     "2d8014c48b5a4740b47b895f621dc9a1": {
      "model_module": "@jupyter-widgets/controls",
      "model_module_version": "1.2.0",
      "model_name": "ButtonStyleModel",
      "state": {}
     },
     "2da0146bb4f540b3a214b2144e5caf2c": {
      "model_module": "@jupyter-widgets/controls",
      "model_module_version": "1.2.0",
      "model_name": "TextModel",
      "state": {
       "description": "Path to save to:",
       "layout": "IPY_MODEL_42a008bd4ee1484d86cdca8f08339b36",
       "placeholder": "Type the complete path to save to",
       "style": "IPY_MODEL_0c58bff1bfc04203af16f1e85a6c01c4",
       "value": "/Users/skoebric/Downloads/XYZ.png"
      }
     },
     "2dbb5657ff7a40d28d64070e1974037d": {
      "model_module": "@jupyter-widgets/controls",
      "model_module_version": "1.2.0",
      "model_name": "DescriptionStyleModel",
      "state": {
       "description_width": "initial"
      }
     },
     "2e2027dcfad842f383e31fcb5dda4655": {
      "model_module": "@jupyter-widgets/base",
      "model_module_version": "1.0.0",
      "model_name": "LayoutModel",
      "state": {}
     },
     "2e2a9a1fc3f5406bb2d6d79e4998473d": {
      "model_module": "@jupyter-widgets/controls",
      "model_module_version": "1.2.0",
      "model_name": "TextModel",
      "state": {
       "description": "Coordinate System:",
       "layout": "IPY_MODEL_74556d23560749cd83b628ca17c17a03",
       "placeholder": "Type something",
       "style": "IPY_MODEL_f84040bc3716473781a18b5d45ed7a9a",
       "value": "spherical"
      }
     },
     "2e4c0909af51453fbd5352f3bd7b63a1": {
      "model_module": "@jupyter-widgets/base",
      "model_module_version": "1.0.0",
      "model_name": "LayoutModel",
      "state": {}
     },
     "2e67e284122e45f38820600135fbe5bc": {
      "model_module": "@jupyter-widgets/controls",
      "model_module_version": "1.2.0",
      "model_name": "DescriptionStyleModel",
      "state": {
       "description_width": ""
      }
     },
     "2e70ceb529b94e07988a85647dc39de1": {
      "model_module": "@jupyter-widgets/controls",
      "model_module_version": "1.2.0",
      "model_name": "ButtonModel",
      "state": {
       "description": "Update Plot",
       "icon": "check",
       "layout": "IPY_MODEL_f1be5247a81f44d9b555bdd629227d9e",
       "style": "IPY_MODEL_7737918c06004642a341382f0e725dda",
       "tooltip": "Update Plot"
      }
     },
     "2f18e878c9b541dab027f24ce3fc8e38": {
      "model_module": "@jupyter-widgets/controls",
      "model_module_version": "1.2.0",
      "model_name": "IntSliderModel",
      "state": {
       "continuous_update": false,
       "description": "DPI (resolution):",
       "layout": "IPY_MODEL_266ac184081a4ffe9d9ad121565600a1",
       "max": 500,
       "min": 100,
       "style": "IPY_MODEL_242a44fc5f814b96a94b5a8111cb9d32",
       "value": 300
      }
     },
     "2f2d508ad25346fea80e9d8de7c998fe": {
      "model_module": "@jupyter-widgets/base",
      "model_module_version": "1.0.0",
      "model_name": "LayoutModel",
      "state": {}
     },
     "2f60981103c64b1284a7c6df3db435ea": {
      "model_module": "@jupyter-widgets/controls",
      "model_module_version": "1.2.0",
      "model_name": "TextModel",
      "state": {
       "description": "Country Precursor:",
       "layout": "IPY_MODEL_930433d00e4e467aa5d7e2a9bf519a68",
       "placeholder": "Precursor to Country Name",
       "style": "IPY_MODEL_ca829e71cbe04177a4a5c4aed50b270c"
      }
     },
     "2f6629529078457db334226140d36d61": {
      "model_module": "@jupyter-widgets/base",
      "model_module_version": "1.0.0",
      "model_name": "LayoutModel",
      "state": {}
     },
     "2f9b60c27e0e41fbb1c6a2e7b33862ec": {
      "model_module": "@jupyter-widgets/controls",
      "model_module_version": "1.2.0",
      "model_name": "DescriptionStyleModel",
      "state": {
       "description_width": "initial"
      }
     },
     "2fc97ffe1b454c87b90218cf52aa4138": {
      "model_module": "@jupyter-widgets/controls",
      "model_module_version": "1.2.0",
      "model_name": "TextModel",
      "state": {
       "description": "Show Populated Places:",
       "layout": "IPY_MODEL_bbcbaf8962f849248fbf21cc15737f84",
       "placeholder": "Type something",
       "style": "IPY_MODEL_b456539470ff45718b750450b197834c",
       "value": "False"
      }
     },
     "2fe415dc7de54d6190176de0a7175b33": {
      "model_module": "@jupyter-widgets/controls",
      "model_module_version": "1.2.0",
      "model_name": "DescriptionStyleModel",
      "state": {
       "description_width": "initial"
      }
     },
     "30d6471269fc40a1a4f860fdfc8b610e": {
      "model_module": "@jupyter-widgets/base",
      "model_module_version": "1.0.0",
      "model_name": "LayoutModel",
      "state": {}
     },
     "3125f5cd27a7450c98c9f988dd85cb7f": {
      "model_module": "@jupyter-widgets/controls",
      "model_module_version": "1.2.0",
      "model_name": "DropdownModel",
      "state": {
       "_options_labels": [
        "capacity",
        "alphabetical"
       ],
       "description": "Sort Legend By:",
       "index": 0,
       "layout": "IPY_MODEL_49bd67dc24854b889918a23b15b00f85",
       "style": "IPY_MODEL_a750b2ac585544419b8e637c8e885f82"
      }
     },
     "31350430751643e5814fc8980af761cc": {
      "model_module": "@jupyter-widgets/controls",
      "model_module_version": "1.2.0",
      "model_name": "TextModel",
      "state": {
       "description": "Coordinate System:",
       "layout": "IPY_MODEL_53d81026ac3646c2814129596f41f012",
       "placeholder": "Type something",
       "style": "IPY_MODEL_ef32c488276b4ee49436f14c7eb80224",
       "value": "spherical"
      }
     },
     "3276b1fac15245f89458fd34b4456117": {
      "model_module": "@jupyter-widgets/controls",
      "model_module_version": "1.2.0",
      "model_name": "ButtonModel",
      "state": {
       "description": "Update Plot",
       "icon": "check",
       "layout": "IPY_MODEL_fbef8c4c9b4b46b3acf050564b45be5e",
       "style": "IPY_MODEL_914edea9d2444b79a2e5aaa0cf90343f",
       "tooltip": "Update Plot"
      }
     },
     "32813d718b8b4877b22465b9545b86de": {
      "model_module": "@jupyter-widgets/controls",
      "model_module_version": "1.2.0",
      "model_name": "DescriptionStyleModel",
      "state": {
       "description_width": ""
      }
     },
     "3294e7b317744b7e9c1507895e98ad3d": {
      "model_module": "@jupyter-widgets/base",
      "model_module_version": "1.0.0",
      "model_name": "LayoutModel",
      "state": {}
     },
     "329b3dcff7b64629a5001a80160ba4bb": {
      "model_module": "@jupyter-widgets/base",
      "model_module_version": "1.0.0",
      "model_name": "LayoutModel",
      "state": {}
     },
     "32eee66133bd4c23850aa6981c02dd25": {
      "model_module": "@jupyter-widgets/controls",
      "model_module_version": "1.2.0",
      "model_name": "SliderStyleModel",
      "state": {
       "description_width": "initial"
      }
     },
     "337621efd13740bc8f8f8cd9b5783c68": {
      "model_module": "@jupyter-widgets/base",
      "model_module_version": "1.0.0",
      "model_name": "LayoutModel",
      "state": {}
     },
     "3393bdca9acd4a3aa9db45edbc8da76e": {
      "model_module": "@jupyter-widgets/controls",
      "model_module_version": "1.2.0",
      "model_name": "TextModel",
      "state": {
       "description": "Country Name:",
       "layout": "IPY_MODEL_18e37dd631e84d1c8a1572e0227ca2f5",
       "placeholder": "Type a country name",
       "style": "IPY_MODEL_537f1bd0e2ad45e9b841ecf61c980f2f",
       "value": "India"
      }
     },
     "339ee14ddd864efabafa4777e196b00d": {
      "model_module": "@jupyter-widgets/controls",
      "model_module_version": "1.2.0",
      "model_name": "DescriptionStyleModel",
      "state": {
       "description_width": "initial"
      }
     },
     "34014df9fcdc47df8e33f6b7b35b0974": {
      "model_module": "@jupyter-widgets/controls",
      "model_module_version": "1.2.0",
      "model_name": "TextModel",
      "state": {
       "description": "Show Populated Places:",
       "layout": "IPY_MODEL_109d31f70ca84d888591250c0905c01c",
       "placeholder": "Type something",
       "style": "IPY_MODEL_16b0c417099e4e1fb9797faaf460cdab",
       "value": "False"
      }
     },
     "3455a7b0455e4fcdab8fec810f05b67c": {
      "model_module": "@jupyter-widgets/controls",
      "model_module_version": "1.2.0",
      "model_name": "SliderStyleModel",
      "state": {
       "description_width": "initial"
      }
     },
     "34e9edea2dff4ec7b7718a1e90f3e475": {
      "model_module": "@jupyter-widgets/controls",
      "model_module_version": "1.2.0",
      "model_name": "ToggleButtonsStyleModel",
      "state": {
       "button_width": "",
       "description_width": "initial"
      }
     },
     "358b85675660437d91780d8aa0097a00": {
      "model_module": "@jupyter-widgets/base",
      "model_module_version": "1.0.0",
      "model_name": "LayoutModel",
      "state": {}
     },
     "366cec21c9064cc4b475d2ab927a07f7": {
      "model_module": "@jupyter-widgets/controls",
      "model_module_version": "1.2.0",
      "model_name": "IntSliderModel",
      "state": {
       "continuous_update": false,
       "description": "DPI (resolution):",
       "layout": "IPY_MODEL_591839c9b4f141d5a28d4cf3452b40c6",
       "max": 500,
       "min": 100,
       "style": "IPY_MODEL_9afbc86f13914158a03d293a830ee70d",
       "value": 300
      }
     },
     "36aa9788b34a48528759cef84d66e7e8": {
      "model_module": "@jupyter-widgets/controls",
      "model_module_version": "1.2.0",
      "model_name": "ToggleButtonsStyleModel",
      "state": {
       "button_width": "",
       "description_width": "initial"
      }
     },
     "36ba98e2ddf0466faee1ce96ea24b906": {
      "model_module": "@jupyter-widgets/base",
      "model_module_version": "1.0.0",
      "model_name": "LayoutModel",
      "state": {
       "height": "80px",
       "width": "70%"
      }
     },
     "36eae348f7224cb1b05bee38a1c2be8c": {
      "model_module": "@jupyter-widgets/controls",
      "model_module_version": "1.2.0",
      "model_name": "DescriptionStyleModel",
      "state": {
       "description_width": "initial"
      }
     },
     "36f970beb18348b8a0fd96c386fea7a7": {
      "model_module": "@jupyter-widgets/controls",
      "model_module_version": "1.2.0",
      "model_name": "SliderStyleModel",
      "state": {
       "description_width": "initial"
      }
     },
     "373ad26c46ca4d96a803580c61f4b6ea": {
      "model_module": "@jupyter-widgets/controls",
      "model_module_version": "1.2.0",
      "model_name": "RadioButtonsModel",
      "state": {
       "_options_labels": [
        "True",
        "False"
       ],
       "description": "Source On:",
       "index": 0,
       "layout": "IPY_MODEL_29b11690dd9f48ddaacc00a838e3aed8",
       "style": "IPY_MODEL_7f5c2c2769ff4e2596c2b3b525fe71bd"
      }
     },
     "373e70998f9a4b2ea5f2faaa3c07a132": {
      "model_module": "@jupyter-widgets/controls",
      "model_module_version": "1.2.0",
      "model_name": "SliderStyleModel",
      "state": {
       "description_width": "initial"
      }
     },
     "375fcecc1872407f98f0cf7ca4cd416d": {
      "model_module": "@jupyter-widgets/controls",
      "model_module_version": "1.2.0",
      "model_name": "TextModel",
      "state": {
       "description": "Coordinate System:",
       "layout": "IPY_MODEL_e9305f35e0fd483887baf0b326df7b95",
       "placeholder": "Type something",
       "style": "IPY_MODEL_ae3b3f6fbb1a4b26b0ffe7d4b9f72de8",
       "value": "spherical"
      }
     },
     "37a45b38bc39446ca265e135d3f602c1": {
      "model_module": "@jupyter-widgets/controls",
      "model_module_version": "1.2.0",
      "model_name": "IntSliderModel",
      "state": {
       "continuous_update": false,
       "description": "DPI (resolution):",
       "layout": "IPY_MODEL_8b0651bcb3f34a45aee053d8282ca6f7",
       "max": 500,
       "min": 100,
       "style": "IPY_MODEL_23bd409b408a4e63a70c5a3e33c69b16",
       "value": 300
      }
     },
     "381edaaa4aaa4cfa9fcaf0ccd54e9de5": {
      "model_module": "@jupyter-widgets/controls",
      "model_module_version": "1.2.0",
      "model_name": "ToggleButtonsStyleModel",
      "state": {
       "button_width": "",
       "description_width": "initial"
      }
     },
     "38b3ae319a25443db3430c8484d39efd": {
      "model_module": "@jupyter-widgets/base",
      "model_module_version": "1.0.0",
      "model_name": "LayoutModel",
      "state": {}
     },
     "38c9e5de121244a091509240fad715ea": {
      "model_module": "@jupyter-widgets/controls",
      "model_module_version": "1.2.0",
      "model_name": "ToggleButtonsModel",
      "state": {
       "_options_labels": [
        "Simple",
        "Mixed",
        "Complex"
       ],
       "button_style": "",
       "description": "Simplification Level:",
       "icons": [],
       "index": 1,
       "layout": "IPY_MODEL_aa0c8c304fd64d5bbc500e3871d5379e",
       "style": "IPY_MODEL_36aa9788b34a48528759cef84d66e7e8",
       "tooltips": [
        "Renewables, Fossil, and Nuclear",
        "Solar, Wind, Hydro, Geothermal,Biomass, Wave and Tidal,\n Storage, Fossil, Nuclear",
        "Solar, Wind, Hydro, Geothermal,Biomass, Wave and Tidal,\n Storage, Fossil, Nuclear, Coal, Gas, Oil, Waste, Cogeneration"
       ]
      }
     },
     "392d6d93e7e04897afab79bf3498b9d4": {
      "model_module": "@jupyter-widgets/controls",
      "model_module_version": "1.2.0",
      "model_name": "DescriptionStyleModel",
      "state": {
       "description_width": "initial"
      }
     },
     "39314d66a61543e38cbea796106431d2": {
      "model_module": "@jupyter-widgets/controls",
      "model_module_version": "1.2.0",
      "model_name": "TextModel",
      "state": {
       "description": "Country Name:",
       "layout": "IPY_MODEL_06118f99537c4ae08632ff6b629349a0",
       "placeholder": "Type a country name",
       "style": "IPY_MODEL_b94fd70300e24429a98dd2119303d870",
       "value": "India"
      }
     },
     "39d3668eb93e4ae9a594c8b728b1e3ce": {
      "model_module": "@jupyter-widgets/controls",
      "model_module_version": "1.2.0",
      "model_name": "FloatSliderModel",
      "state": {
       "continuous_update": false,
       "description": "Bubble Opacity:",
       "layout": "IPY_MODEL_329b3dcff7b64629a5001a80160ba4bb",
       "max": 1,
       "readout_format": ".1f",
       "step": 0.1,
       "style": "IPY_MODEL_09d63f1c9e914e07b15fd44343ee0c5a",
       "value": 0.5
      }
     },
     "39da3254ff9046c282ac8321bbbebbe9": {
      "model_module": "@jupyter-widgets/base",
      "model_module_version": "1.0.0",
      "model_name": "LayoutModel",
      "state": {}
     },
     "3a219a6c9f5641f581b665e62bc5593c": {
      "model_module": "@jupyter-widgets/controls",
      "model_module_version": "1.2.0",
      "model_name": "FloatSliderModel",
      "state": {
       "continuous_update": false,
       "description": "Zoom Level:",
       "layout": "IPY_MODEL_2229d91b3b144114860bd1a3e8d9486f",
       "max": 3,
       "min": 0.5,
       "readout_format": ".1f",
       "step": 0.1,
       "style": "IPY_MODEL_170eb88a372c4622b038d47f5ef7e7f4",
       "value": 1
      }
     },
     "3a23d1df34f04cdd987e39090f02df11": {
      "model_module": "@jupyter-widgets/controls",
      "model_module_version": "1.2.0",
      "model_name": "SliderStyleModel",
      "state": {
       "description_width": "initial"
      }
     },
     "3a63fdbdd8214cc0b691533658252e18": {
      "model_module": "@jupyter-widgets/controls",
      "model_module_version": "1.2.0",
      "model_name": "DescriptionStyleModel",
      "state": {
       "description_width": "initial"
      }
     },
     "3a9f4e26237d4d80a7056fc43bcd0bba": {
      "model_module": "@jupyter-widgets/base",
      "model_module_version": "1.0.0",
      "model_name": "LayoutModel",
      "state": {}
     },
     "3ac19f4e881245928f26151a525ce171": {
      "model_module": "@jupyter-widgets/controls",
      "model_module_version": "1.2.0",
      "model_name": "SliderStyleModel",
      "state": {
       "description_width": "initial"
      }
     },
     "3b02cbdca733420bb0abb22b3b073d07": {
      "model_module": "@jupyter-widgets/controls",
      "model_module_version": "1.2.0",
      "model_name": "TextModel",
      "state": {
       "description": "Show Populated Places:",
       "layout": "IPY_MODEL_d4ad19b8a2f04f589aa20a7ccc92ac75",
       "placeholder": "Type something",
       "style": "IPY_MODEL_9ab1fe573e8445949f69aa4030771271",
       "value": "False"
      }
     },
     "3bb1357ecb26479e8d311fd1a7d3123c": {
      "model_module": "@jupyter-widgets/controls",
      "model_module_version": "1.2.0",
      "model_name": "TextModel",
      "state": {
       "description": "Path to save to:",
       "layout": "IPY_MODEL_4e3a21b319924026b3c8eac6f7e02932",
       "placeholder": "Type the complete path to save to",
       "style": "IPY_MODEL_db0e0be6bce145bb8f7504d04e446c73",
       "value": "/Users/skoebric/Downloads/XYZ.png"
      }
     },
     "3bcdc2e9071e47f6b59fef3edfba57ad": {
      "model_module": "@jupyter-widgets/controls",
      "model_module_version": "1.2.0",
      "model_name": "DescriptionStyleModel",
      "state": {
       "description_width": "initial"
      }
     },
     "3bd709e19d6b403a9141997cf49a334b": {
      "model_module": "@jupyter-widgets/controls",
      "model_module_version": "1.2.0",
      "model_name": "ToggleButtonsModel",
      "state": {
       "_options_labels": [
        "Simple",
        "Mixed",
        "Complex"
       ],
       "button_style": "",
       "description": "Simplification Level:",
       "icons": [],
       "index": 1,
       "layout": "IPY_MODEL_a8989658fb2c4b2184ef232094269785",
       "style": "IPY_MODEL_20a0e8e6329c4f89aaa66ba7c2ae500c",
       "tooltips": [
        "Renewables, Fossil, and Nuclear",
        "Solar, Wind, Hydro, Geothermal,Biomass, Wave and Tidal,\n Storage, Fossil, Nuclear",
        "Solar, Wind, Hydro, Geothermal,Biomass, Wave and Tidal,\n Storage, Fossil, Nuclear, Coal, Gas, Oil, Waste, Cogeneration"
       ]
      }
     },
     "3be8ca91e55846d580591fe5ca605939": {
      "model_module": "@jupyter-widgets/base",
      "model_module_version": "1.0.0",
      "model_name": "LayoutModel",
      "state": {}
     },
     "3bf6e31885ee4afeafec97f2f5f3953e": {
      "model_module": "@jupyter-widgets/base",
      "model_module_version": "1.0.0",
      "model_name": "LayoutModel",
      "state": {}
     },
     "3c524ba768e44724a48be3a1fc998a8f": {
      "model_module": "@jupyter-widgets/controls",
      "model_module_version": "1.2.0",
      "model_name": "FloatSliderModel",
      "state": {
       "continuous_update": false,
       "description": "Bubble Opacity:",
       "layout": "IPY_MODEL_ba8f446e4041414098dd3a33af91dd51",
       "max": 1,
       "readout_format": ".1f",
       "step": 0.1,
       "style": "IPY_MODEL_79d03f3abf1f43c8b341fd3630893899",
       "value": 0.5
      }
     },
     "3c57055b40df44d3bae5c673fd9d6b0d": {
      "model_module": "@jupyter-widgets/base",
      "model_module_version": "1.0.0",
      "model_name": "LayoutModel",
      "state": {}
     },
     "3c94099d48ab42ca84dc4a23626e1468": {
      "model_module": "@jupyter-widgets/controls",
      "model_module_version": "1.2.0",
      "model_name": "ButtonStyleModel",
      "state": {}
     },
     "3c96f40bfe404913bb8a556bc94eceb5": {
      "model_module": "@jupyter-widgets/controls",
      "model_module_version": "1.2.0",
      "model_name": "FloatSliderModel",
      "state": {
       "continuous_update": false,
       "description": "Zoom Level:",
       "layout": "IPY_MODEL_dbbfa7595efb435a920d2df2c4ed014f",
       "max": 3,
       "min": 0.5,
       "readout_format": ".1f",
       "step": 0.1,
       "style": "IPY_MODEL_d125a30ae17d43409f6d391ec5d09566",
       "value": 1.5
      }
     },
     "3ca480bca4ff411dbd12be7919d1794d": {
      "model_module": "@jupyter-widgets/controls",
      "model_module_version": "1.2.0",
      "model_name": "SliderStyleModel",
      "state": {
       "description_width": "initial"
      }
     },
     "3cafe9e87f1b431b9eb0e873414f5be7": {
      "model_module": "@jupyter-widgets/controls",
      "model_module_version": "1.2.0",
      "model_name": "SliderStyleModel",
      "state": {
       "description_width": "initial"
      }
     },
     "3ce25d4b89904195985c5a22c00a3658": {
      "model_module": "@jupyter-widgets/base",
      "model_module_version": "1.0.0",
      "model_name": "LayoutModel",
      "state": {}
     },
     "3d51e0f1fc6b414fa8ad6bd5d0351d49": {
      "model_module": "@jupyter-widgets/controls",
      "model_module_version": "1.2.0",
      "model_name": "TextModel",
      "state": {
       "description": "Country Precursor:",
       "layout": "IPY_MODEL_803e919c674e4c4da6d309aaa366c2e8",
       "placeholder": "Precursor to Country Name",
       "style": "IPY_MODEL_392d6d93e7e04897afab79bf3498b9d4"
      }
     },
     "3dd102149f174e368ddc81c151e6284a": {
      "model_module": "@jupyter-widgets/controls",
      "model_module_version": "1.2.0",
      "model_name": "DescriptionStyleModel",
      "state": {
       "description_width": "initial"
      }
     },
     "3e0962b637c642c69ec1d883f0dcef82": {
      "model_module": "@jupyter-widgets/controls",
      "model_module_version": "1.2.0",
      "model_name": "TextModel",
      "state": {
       "description": "Show Populated Places:",
       "layout": "IPY_MODEL_1c32c0f068db4867b791f1e9e4d6b95b",
       "placeholder": "Type something",
       "style": "IPY_MODEL_42603aeaaf444730807aaac95f45d46a",
       "value": "False"
      }
     },
     "3e2987f989e8407db1502c1b282e670d": {
      "model_module": "@jupyter-widgets/controls",
      "model_module_version": "1.2.0",
      "model_name": "TextModel",
      "state": {
       "description": "Show Populated Places:",
       "layout": "IPY_MODEL_d7a0bf6b67d6433b840f2e55e595a447",
       "placeholder": "Type something",
       "style": "IPY_MODEL_10680869c8764e4b973a1f02759afb6b",
       "value": "False"
      }
     },
     "3f4638dc468a46d1a9b08b786c98bc02": {
      "model_module": "@jupyter-widgets/controls",
      "model_module_version": "1.2.0",
      "model_name": "FloatSliderModel",
      "state": {
       "continuous_update": false,
       "description": "Bubble Opacity:",
       "layout": "IPY_MODEL_eaeac9182ae84920902d6fff016ce678",
       "max": 1,
       "readout_format": ".1f",
       "step": 0.1,
       "style": "IPY_MODEL_57ffcee2fe574257854e56bfb297757a",
       "value": 0.5
      }
     },
     "3f50e791dfe84c56971a0e3510ab2462": {
      "model_module": "@jupyter-widgets/base",
      "model_module_version": "1.0.0",
      "model_name": "LayoutModel",
      "state": {}
     },
     "3f579b7851934a07a065bd8da87b9af6": {
      "model_module": "@jupyter-widgets/controls",
      "model_module_version": "1.2.0",
      "model_name": "DescriptionStyleModel",
      "state": {
       "description_width": ""
      }
     },
     "3f7608e3993a4c56a695280557020ffe": {
      "model_module": "@jupyter-widgets/base",
      "model_module_version": "1.0.0",
      "model_name": "LayoutModel",
      "state": {}
     },
     "404fa7aea082404abab4644e4b45f57d": {
      "model_module": "@jupyter-widgets/base",
      "model_module_version": "1.0.0",
      "model_name": "LayoutModel",
      "state": {}
     },
     "405e8db8d9c541d9803af2f491508344": {
      "model_module": "@jupyter-widgets/controls",
      "model_module_version": "1.2.0",
      "model_name": "DescriptionStyleModel",
      "state": {
       "description_width": "initial"
      }
     },
     "40c9e9c61a9d49d988156905625739cc": {
      "model_module": "@jupyter-widgets/controls",
      "model_module_version": "1.2.0",
      "model_name": "DescriptionStyleModel",
      "state": {
       "description_width": "initial"
      }
     },
     "40d16b65d8df44c4b895c47fa60b5ba9": {
      "model_module": "@jupyter-widgets/base",
      "model_module_version": "1.0.0",
      "model_name": "LayoutModel",
      "state": {}
     },
     "40dc94a95601491abcf844dd11888759": {
      "model_module": "@jupyter-widgets/controls",
      "model_module_version": "1.2.0",
      "model_name": "TextModel",
      "state": {
       "description": "Island Size Thresh:",
       "layout": "IPY_MODEL_e02b352a68e3494690944d946eb06533",
       "placeholder": "Type a island thresh",
       "style": "IPY_MODEL_5f935645e5e94ff19184979a212d8143",
       "value": "5000"
      }
     },
     "4124c7dc4bb44a1582f74b08eb13ee88": {
      "model_module": "@jupyter-widgets/controls",
      "model_module_version": "1.2.0",
      "model_name": "TextModel",
      "state": {
       "description": "Country Precursor:",
       "layout": "IPY_MODEL_2f2d508ad25346fea80e9d8de7c998fe",
       "placeholder": "Precursor to Country Name",
       "style": "IPY_MODEL_d4b353a6457a4d68a1d38e9c30a0cbbc"
      }
     },
     "414d1c6ba68544dca7b10a55bcc45567": {
      "model_module": "@jupyter-widgets/controls",
      "model_module_version": "1.2.0",
      "model_name": "SliderStyleModel",
      "state": {
       "description_width": "initial"
      }
     },
     "4197a36350e44e8884e6d03f0fd81d02": {
      "model_module": "@jupyter-widgets/controls",
      "model_module_version": "1.2.0",
      "model_name": "IntSliderModel",
      "state": {
       "continuous_update": false,
       "description": "Number of Legend Columns:",
       "layout": "IPY_MODEL_df0a7df36720420099cf241215262e40",
       "max": 3,
       "min": 1,
       "style": "IPY_MODEL_414d1c6ba68544dca7b10a55bcc45567",
       "value": 1
      }
     },
     "421ce2c74ee84abfb76a8f091158fcc0": {
      "model_module": "@jupyter-widgets/controls",
      "model_module_version": "1.2.0",
      "model_name": "DescriptionStyleModel",
      "state": {
       "description_width": "initial"
      }
     },
     "422a67d6f82449c5881680c31f8d43ff": {
      "model_module": "@jupyter-widgets/base",
      "model_module_version": "1.0.0",
      "model_name": "LayoutModel",
      "state": {}
     },
     "4231ce3932e4443991c96252087d6691": {
      "model_module": "@jupyter-widgets/controls",
      "model_module_version": "1.2.0",
      "model_name": "TextModel",
      "state": {
       "description": "Country Precursor:",
       "layout": "IPY_MODEL_0d96b0589ceb49508c42f9950a7f7311",
       "placeholder": "Precursor to Country Name",
       "style": "IPY_MODEL_2bb02a1adcd64f2ab9de86f214b0e4d5"
      }
     },
     "42603aeaaf444730807aaac95f45d46a": {
      "model_module": "@jupyter-widgets/controls",
      "model_module_version": "1.2.0",
      "model_name": "DescriptionStyleModel",
      "state": {
       "description_width": "initial"
      }
     },
     "42657007b7114e6b837670dfae32e3e7": {
      "model_module": "@jupyter-widgets/controls",
      "model_module_version": "1.2.0",
      "model_name": "DescriptionStyleModel",
      "state": {
       "description_width": ""
      }
     },
     "42a008bd4ee1484d86cdca8f08339b36": {
      "model_module": "@jupyter-widgets/base",
      "model_module_version": "1.0.0",
      "model_name": "LayoutModel",
      "state": {}
     },
     "42f460ffb9c24cc7a456fe7aa6cd1351": {
      "model_module": "@jupyter-widgets/controls",
      "model_module_version": "1.2.0",
      "model_name": "SliderStyleModel",
      "state": {
       "description_width": "initial"
      }
     },
     "4327de5775234d0087fde8595b173f01": {
      "model_module": "@jupyter-widgets/controls",
      "model_module_version": "1.2.0",
      "model_name": "ButtonStyleModel",
      "state": {}
     },
     "432a103699904db7963d0a9bbc7e17f2": {
      "model_module": "@jupyter-widgets/controls",
      "model_module_version": "1.2.0",
      "model_name": "ButtonModel",
      "state": {
       "description": "Update Plot",
       "icon": "check",
       "layout": "IPY_MODEL_07d4e4a18cc346ce93b9a10849d918d9",
       "style": "IPY_MODEL_5db54fa15a92462eaef5fb688a8e939b",
       "tooltip": "Update Plot"
      }
     },
     "432bb2514cae4ed281f36b143a7325e0": {
      "model_module": "@jupyter-widgets/controls",
      "model_module_version": "1.2.0",
      "model_name": "RadioButtonsModel",
      "state": {
       "_options_labels": [
        "True",
        "False"
       ],
       "description": "Title On:",
       "index": 0,
       "layout": "IPY_MODEL_850346a028ab4871a22e8cd25b3b35db",
       "style": "IPY_MODEL_32813d718b8b4877b22465b9545b86de"
      }
     },
     "43c0776b576542c9b0b0b5e04f3f7c57": {
      "model_module": "@jupyter-widgets/controls",
      "model_module_version": "1.2.0",
      "model_name": "RadioButtonsModel",
      "state": {
       "_options_labels": [
        "True",
        "False"
       ],
       "description": "Title On:",
       "index": 0,
       "layout": "IPY_MODEL_05b1dde4066f47d6becce585e4d4ab42",
       "style": "IPY_MODEL_88a3122b6f3848c2a2f6e91a5eaedca0"
      }
     },
     "43d02a41bd7a4de4992b058737b6302f": {
      "model_module": "@jupyter-widgets/controls",
      "model_module_version": "1.2.0",
      "model_name": "TextModel",
      "state": {
       "description": "Path to save to:",
       "layout": "IPY_MODEL_7d8d5133f57346deb21974a0a242f2ee",
       "placeholder": "Type the complete path to save to",
       "style": "IPY_MODEL_a723d99706924ff7a0ca2a6ef05b9924",
       "value": "/Users/skoebric/Downloads/XYZ.png"
      }
     },
     "43d62ef7e5de4d448fca63f50f5d0f21": {
      "model_module": "@jupyter-widgets/base",
      "model_module_version": "1.0.0",
      "model_name": "LayoutModel",
      "state": {}
     },
     "441bc17789cb4a4580509a58f94ad4ce": {
      "model_module": "@jupyter-widgets/controls",
      "model_module_version": "1.2.0",
      "model_name": "RadioButtonsModel",
      "state": {
       "_options_labels": [
        "True",
        "False"
       ],
       "description": "Source On:",
       "index": 0,
       "layout": "IPY_MODEL_337621efd13740bc8f8f8cd9b5783c68",
       "style": "IPY_MODEL_5f6faf4b6d8d42fa8c2672d7397d80bf"
      }
     },
     "44346589414645859369b5e1fa42d0c7": {
      "model_module": "@jupyter-widgets/controls",
      "model_module_version": "1.2.0",
      "model_name": "FloatSliderModel",
      "state": {
       "continuous_update": false,
       "description": "Bubble Opacity:",
       "layout": "IPY_MODEL_c9d44f8ba4694d58ad8f1389c8e98fee",
       "max": 1,
       "readout_format": ".1f",
       "step": 0.1,
       "style": "IPY_MODEL_913e1a4e88e04142b158f48560f047b0",
       "value": 0.5
      }
     },
     "4464bf6a161c4da2a3bdeb51b9c2236f": {
      "model_module": "@jupyter-widgets/controls",
      "model_module_version": "1.2.0",
      "model_name": "IntSliderModel",
      "state": {
       "continuous_update": false,
       "description": "DPI (resolution):",
       "layout": "IPY_MODEL_e049d766137c40259284a47d021bc3e9",
       "max": 500,
       "min": 100,
       "style": "IPY_MODEL_e3e4a53d72db43b18f5cbeaa4cb3e88e",
       "value": 300
      }
     },
     "44a227bc72664797a8a007e8abbbac91": {
      "model_module": "@jupyter-widgets/controls",
      "model_module_version": "1.2.0",
      "model_name": "IntSliderModel",
      "state": {
       "continuous_update": false,
       "description": "DPI (resolution):",
       "layout": "IPY_MODEL_82035f79afbc4637b0bce9a88d290b03",
       "max": 500,
       "min": 100,
       "style": "IPY_MODEL_4d8d72b2631841e598ffc8304fabd4ec",
       "value": 300
      }
     },
     "44db9351f5b24a118a8d9b80d4cd7037": {
      "model_module": "@jupyter-widgets/controls",
      "model_module_version": "1.2.0",
      "model_name": "DescriptionStyleModel",
      "state": {
       "description_width": "initial"
      }
     },
     "45145fd840e343269f4298bcfcaff6b5": {
      "model_module": "@jupyter-widgets/controls",
      "model_module_version": "1.2.0",
      "model_name": "ButtonStyleModel",
      "state": {}
     },
     "451487319fec4505bf6313eb0d592d6b": {
      "model_module": "@jupyter-widgets/controls",
      "model_module_version": "1.2.0",
      "model_name": "TextModel",
      "state": {
       "description": "Island Size Thresh:",
       "layout": "IPY_MODEL_48bf1199c90c4b2ebc700328b1a50510",
       "placeholder": "Type a island thresh",
       "style": "IPY_MODEL_c87435d397a34ba89a47fafe87401d0d",
       "value": "5000"
      }
     },
     "45693c972b784eada25056ffd580f9be": {
      "model_module": "@jupyter-widgets/base",
      "model_module_version": "1.0.0",
      "model_name": "LayoutModel",
      "state": {}
     },
     "45745b9fd8744720aafc048fdb42536b": {
      "model_module": "@jupyter-widgets/base",
      "model_module_version": "1.0.0",
      "model_name": "LayoutModel",
      "state": {}
     },
     "4617cea24f664032a7982f464a4dd0a1": {
      "model_module": "@jupyter-widgets/controls",
      "model_module_version": "1.2.0",
      "model_name": "FloatSliderModel",
      "state": {
       "continuous_update": false,
       "description": "Zoom Level:",
       "layout": "IPY_MODEL_46ec278795a7438dade33a89e1e1bf50",
       "max": 3,
       "min": 0.5,
       "readout_format": ".1f",
       "step": 0.1,
       "style": "IPY_MODEL_0f8c804dbc69423e81ddddc9088bff72",
       "value": 1
      }
     },
     "46278d5b091c4166b3984f0c245bad2d": {
      "model_module": "@jupyter-widgets/controls",
      "model_module_version": "1.2.0",
      "model_name": "TextModel",
      "state": {
       "description": "Path to save to:",
       "layout": "IPY_MODEL_7ddc92e61fbc4f82990fbe5d0bb632c6",
       "placeholder": "Type the complete path to save to",
       "style": "IPY_MODEL_a0167f6a4d574f0ab63d52658e485f1d",
       "value": "/Users/skoebric/Downloads/XYZ.png"
      }
     },
     "46834292510b46f3a806a189b6851cfd": {
      "model_module": "@jupyter-widgets/base",
      "model_module_version": "1.0.0",
      "model_name": "LayoutModel",
      "state": {}
     },
     "46ae4478c31f4e94b1935ac9d06f4320": {
      "model_module": "@jupyter-widgets/controls",
      "model_module_version": "1.2.0",
      "model_name": "TextModel",
      "state": {
       "description": "Island Size Thresh:",
       "layout": "IPY_MODEL_0a158a000eb841de97f47b8ee7f14c5a",
       "placeholder": "Type a island thresh",
       "style": "IPY_MODEL_c17885a9718b4721bbbfab07543fd658",
       "value": "200"
      }
     },
     "46d1c09daef8449db7296f7e48705885": {
      "model_module": "@jupyter-widgets/base",
      "model_module_version": "1.0.0",
      "model_name": "LayoutModel",
      "state": {}
     },
     "46ec278795a7438dade33a89e1e1bf50": {
      "model_module": "@jupyter-widgets/base",
      "model_module_version": "1.0.0",
      "model_name": "LayoutModel",
      "state": {}
     },
     "47519c7860cd479f8965e8fad4852d58": {
      "model_module": "@jupyter-widgets/controls",
      "model_module_version": "1.2.0",
      "model_name": "DescriptionStyleModel",
      "state": {
       "description_width": "initial"
      }
     },
     "4785582298ca4005b4341dbef40b1e66": {
      "model_module": "@jupyter-widgets/controls",
      "model_module_version": "1.2.0",
      "model_name": "TextModel",
      "state": {
       "description": "Path to save to:",
       "layout": "IPY_MODEL_3f7608e3993a4c56a695280557020ffe",
       "placeholder": "Type the complete path to save to",
       "style": "IPY_MODEL_cba255f1ffa64a3ea2a126fe710df82a",
       "value": "/Users/skoebric/Downloads/XYZ.png"
      }
     },
     "48adc495a4ae44fd92abe113e3481fd1": {
      "model_module": "@jupyter-widgets/controls",
      "model_module_version": "1.2.0",
      "model_name": "ToggleButtonsStyleModel",
      "state": {
       "button_width": "",
       "description_width": "initial"
      }
     },
     "48bf1199c90c4b2ebc700328b1a50510": {
      "model_module": "@jupyter-widgets/base",
      "model_module_version": "1.0.0",
      "model_name": "LayoutModel",
      "state": {}
     },
     "48daf4a326ab4342b1a71a55b86dcd80": {
      "model_module": "@jupyter-widgets/controls",
      "model_module_version": "1.2.0",
      "model_name": "SliderStyleModel",
      "state": {
       "description_width": "initial"
      }
     },
     "49249539e93b48e995e2dbbc77d80506": {
      "model_module": "@jupyter-widgets/base",
      "model_module_version": "1.0.0",
      "model_name": "LayoutModel",
      "state": {}
     },
     "49587416d15b403da929243ec95d0239": {
      "model_module": "@jupyter-widgets/controls",
      "model_module_version": "1.2.0",
      "model_name": "SliderStyleModel",
      "state": {
       "description_width": "initial"
      }
     },
     "49b6b75d5bd347c89286ebffd49e3f9a": {
      "model_module": "@jupyter-widgets/controls",
      "model_module_version": "1.2.0",
      "model_name": "ButtonModel",
      "state": {
       "description": "Update Plot",
       "icon": "check",
       "layout": "IPY_MODEL_a22c4e081b5f414d878555709e742130",
       "style": "IPY_MODEL_63188a9729fe43bfbf3d484000133813",
       "tooltip": "Update Plot"
      }
     },
     "49bd67dc24854b889918a23b15b00f85": {
      "model_module": "@jupyter-widgets/base",
      "model_module_version": "1.0.0",
      "model_name": "LayoutModel",
      "state": {}
     },
     "4a4c05f3541848adac12987f9423700e": {
      "model_module": "@jupyter-widgets/controls",
      "model_module_version": "1.2.0",
      "model_name": "DescriptionStyleModel",
      "state": {
       "description_width": "initial"
      }
     },
     "4ab81f5bc0784995b4845a8d39b21895": {
      "model_module": "@jupyter-widgets/controls",
      "model_module_version": "1.2.0",
      "model_name": "ToggleButtonsStyleModel",
      "state": {
       "button_width": "",
       "description_width": "initial"
      }
     },
     "4ac5669036d443f1b81f56a619fd90ec": {
      "model_module": "@jupyter-widgets/controls",
      "model_module_version": "1.2.0",
      "model_name": "IntSliderModel",
      "state": {
       "continuous_update": false,
       "description": "DPI (resolution):",
       "layout": "IPY_MODEL_058f5e24f7a543f1bcd0062ad4646253",
       "max": 500,
       "min": 100,
       "style": "IPY_MODEL_64f0616cff344098a4b2aa18d568e83b",
       "value": 300
      }
     },
     "4ac96ec979fe47639f251dcd613730b4": {
      "model_module": "@jupyter-widgets/base",
      "model_module_version": "1.0.0",
      "model_name": "LayoutModel",
      "state": {}
     },
     "4c140e5bc06941e3b534818a76df35d2": {
      "model_module": "@jupyter-widgets/controls",
      "model_module_version": "1.2.0",
      "model_name": "ToggleButtonsModel",
      "state": {
       "_options_labels": [
        "Simple",
        "Mixed",
        "Complex"
       ],
       "button_style": "",
       "description": "Simplification Level:",
       "icons": [],
       "index": 1,
       "layout": "IPY_MODEL_817ccc7172614df5b4416465fa91d5a6",
       "style": "IPY_MODEL_e8218894dc02488aa9225f6cbd617c4f",
       "tooltips": [
        "Renewables, Fossil, and Nuclear",
        "Solar, Wind, Hydro, Geothermal,Biomass, Wave and Tidal,\n Storage, Fossil, Nuclear",
        "Solar, Wind, Hydro, Geothermal,Biomass, Wave and Tidal,\n Storage, Fossil, Nuclear, Coal, Gas, Oil, Waste, Cogeneration"
       ]
      }
     },
     "4c2c013aac0741198bedf845481be965": {
      "model_module": "@jupyter-widgets/controls",
      "model_module_version": "1.2.0",
      "model_name": "TextModel",
      "state": {
       "description": "Path to save to:",
       "layout": "IPY_MODEL_99404f0ff0eb411485db84bbde2c57fd",
       "placeholder": "Type the complete path to save to",
       "style": "IPY_MODEL_04865814a1d54bc9bc50285a10137973",
       "value": "/Users/skoebric/Downloads/XYZ.png"
      }
     },
     "4ce80951631f465cad3e89db2e06de93": {
      "model_module": "@jupyter-widgets/controls",
      "model_module_version": "1.2.0",
      "model_name": "DropdownModel",
      "state": {
       "_options_labels": [
        "capacity",
        "alphabetical"
       ],
       "description": "Sort Legend By:",
       "index": 0,
       "layout": "IPY_MODEL_a8dd812c37ad4be6a9dc543837179910",
       "style": "IPY_MODEL_63804dd7e1ff4c549ddabc9f81688093"
      }
     },
     "4ce81b013d4141ad92803eb4d0952a3f": {
      "model_module": "@jupyter-widgets/controls",
      "model_module_version": "1.2.0",
      "model_name": "DescriptionStyleModel",
      "state": {
       "description_width": "initial"
      }
     },
     "4d8d72b2631841e598ffc8304fabd4ec": {
      "model_module": "@jupyter-widgets/controls",
      "model_module_version": "1.2.0",
      "model_name": "SliderStyleModel",
      "state": {
       "description_width": "initial"
      }
     },
     "4e21174173d546378b1f0cea50ff9fa6": {
      "model_module": "@jupyter-widgets/controls",
      "model_module_version": "1.2.0",
      "model_name": "IntSliderModel",
      "state": {
       "continuous_update": false,
       "description": "Number of Legend Columns:",
       "layout": "IPY_MODEL_8bb9540728644984919b3f6410ac25fb",
       "max": 3,
       "min": 1,
       "style": "IPY_MODEL_f567fbf99f234642a79f32db8c8df088",
       "value": 1
      }
     },
     "4e3a21b319924026b3c8eac6f7e02932": {
      "model_module": "@jupyter-widgets/base",
      "model_module_version": "1.0.0",
      "model_name": "LayoutModel",
      "state": {}
     },
     "4e556bd65deb42708c9d7b59e550d8d8": {
      "model_module": "@jupyter-widgets/controls",
      "model_module_version": "1.2.0",
      "model_name": "DropdownModel",
      "state": {
       "_options_labels": [
        "capacity",
        "alphabetical"
       ],
       "description": "Sort Legend By:",
       "index": 0,
       "layout": "IPY_MODEL_b16b186596f94f9d8a66c90765ffffff",
       "style": "IPY_MODEL_8cf780eb55a64858930abb97f954cb7b"
      }
     },
     "4e99db7fb06847b4971ffa15bbbc8df3": {
      "model_module": "@jupyter-widgets/controls",
      "model_module_version": "1.2.0",
      "model_name": "DescriptionStyleModel",
      "state": {
       "description_width": "initial"
      }
     },
     "4ec3e174451741f9b57b5e2bfa9fa7e4": {
      "model_module": "@jupyter-widgets/base",
      "model_module_version": "1.0.0",
      "model_name": "LayoutModel",
      "state": {}
     },
     "4ef621d69b0746bd97b334fbff6917d7": {
      "model_module": "@jupyter-widgets/controls",
      "model_module_version": "1.2.0",
      "model_name": "DescriptionStyleModel",
      "state": {
       "description_width": ""
      }
     },
     "4f0805d1a13a4a2a86cc19a613d20722": {
      "model_module": "@jupyter-widgets/controls",
      "model_module_version": "1.2.0",
      "model_name": "ButtonModel",
      "state": {
       "description": "Update Plot",
       "icon": "check",
       "layout": "IPY_MODEL_c882831c921e4202b5a8f11257430005",
       "style": "IPY_MODEL_d8c2ccce4e6f4904b0d90e04459b19ad",
       "tooltip": "Update Plot"
      }
     },
     "4f257e99d3e949af99805896f656097d": {
      "model_module": "@jupyter-widgets/base",
      "model_module_version": "1.0.0",
      "model_name": "LayoutModel",
      "state": {}
     },
     "4f67f5e54e9848f2a29055f2338e10eb": {
      "model_module": "@jupyter-widgets/controls",
      "model_module_version": "1.2.0",
      "model_name": "ButtonModel",
      "state": {
       "description": "Update Plot",
       "icon": "check",
       "layout": "IPY_MODEL_b02c35743def4136a7294be2dd34fb32",
       "style": "IPY_MODEL_9a93d7bdd7c94b129d96672b4b55ee04",
       "tooltip": "Update Plot"
      }
     },
     "4fcf08906f0a4b36999d29eeebdbb940": {
      "model_module": "@jupyter-widgets/base",
      "model_module_version": "1.0.0",
      "model_name": "LayoutModel",
      "state": {}
     },
     "4ff89135a74a40dab2ebb851d5f79f7c": {
      "model_module": "@jupyter-widgets/controls",
      "model_module_version": "1.2.0",
      "model_name": "RadioButtonsModel",
      "state": {
       "_options_labels": [
        "True",
        "False"
       ],
       "description": "Title On:",
       "index": 0,
       "layout": "IPY_MODEL_422a67d6f82449c5881680c31f8d43ff",
       "style": "IPY_MODEL_b2ac316393e7402489c2a7446409c3f6"
      }
     },
     "5009749402144d6fb54c80bfbd8bd283": {
      "model_module": "@jupyter-widgets/controls",
      "model_module_version": "1.2.0",
      "model_name": "SliderStyleModel",
      "state": {
       "description_width": "initial"
      }
     },
     "500e242a5e6b4c9ebae641cd2ea5fa56": {
      "model_module": "@jupyter-widgets/controls",
      "model_module_version": "1.2.0",
      "model_name": "FloatSliderModel",
      "state": {
       "continuous_update": false,
       "description": "Bubble Opacity:",
       "layout": "IPY_MODEL_d9feb0fafc7a44a9a935bc3a2a89b603",
       "max": 1,
       "readout_format": ".1f",
       "step": 0.1,
       "style": "IPY_MODEL_7049da7a4ce9403984b51bfc4cf37041",
       "value": 0.5
      }
     },
     "50696cb0c10d4437aecc924c27943409": {
      "model_module": "@jupyter-widgets/base",
      "model_module_version": "1.0.0",
      "model_name": "LayoutModel",
      "state": {}
     },
     "5084b737350b40dd90dc374a79f16461": {
      "model_module": "@jupyter-widgets/controls",
      "model_module_version": "1.2.0",
      "model_name": "SliderStyleModel",
      "state": {
       "description_width": "initial"
      }
     },
     "50a0e16163154f838dcbe668a6383097": {
      "model_module": "@jupyter-widgets/base",
      "model_module_version": "1.0.0",
      "model_name": "LayoutModel",
      "state": {}
     },
     "50e71048da8b4d71aee00dea526c2d56": {
      "model_module": "@jupyter-widgets/controls",
      "model_module_version": "1.2.0",
      "model_name": "ToggleButtonsStyleModel",
      "state": {
       "button_width": "",
       "description_width": "initial"
      }
     },
     "51014d006bb84891bead873351ff1d01": {
      "model_module": "@jupyter-widgets/controls",
      "model_module_version": "1.2.0",
      "model_name": "DropdownModel",
      "state": {
       "_options_labels": [
        "capacity",
        "alphabetical"
       ],
       "description": "Sort Legend By:",
       "index": 0,
       "layout": "IPY_MODEL_80a60a4f0d544959bb6b9dbda2230dc4",
       "style": "IPY_MODEL_a605d0d3081642aeb98a5b8209c792d3"
      }
     },
     "51089ccd7e0e41068d5697d448cd1b72": {
      "model_module": "@jupyter-widgets/controls",
      "model_module_version": "1.2.0",
      "model_name": "TextModel",
      "state": {
       "description": "Coordinate System:",
       "layout": "IPY_MODEL_9dafbd9e184b45999d4a8ad3ee8480a6",
       "placeholder": "Type something",
       "style": "IPY_MODEL_a6f9ade656444b998277083375215ae3",
       "value": "spherical"
      }
     },
     "513bc87f9ab649b4ba5a72fe00327221": {
      "model_module": "@jupyter-widgets/base",
      "model_module_version": "1.0.0",
      "model_name": "LayoutModel",
      "state": {}
     },
     "5192bdb420604284b5f67be530d8c84b": {
      "model_module": "@jupyter-widgets/controls",
      "model_module_version": "1.2.0",
      "model_name": "TextModel",
      "state": {
       "description": "Path to save to:",
       "layout": "IPY_MODEL_b8595dc3439044c0870fd71021cea30d",
       "placeholder": "Type the complete path to save to",
       "style": "IPY_MODEL_02e7bdda780149e18af0ed938d98ce76",
       "value": "/Users/skoebric/Downloads/XYZ.png"
      }
     },
     "51aad100766c496397ba998cdedc03e0": {
      "model_module": "@jupyter-widgets/base",
      "model_module_version": "1.0.0",
      "model_name": "LayoutModel",
      "state": {}
     },
     "51d5c7003f234b8c910c7f5b0492c377": {
      "model_module": "@jupyter-widgets/controls",
      "model_module_version": "1.2.0",
      "model_name": "FloatSliderModel",
      "state": {
       "continuous_update": false,
       "description": "Bubble Opacity:",
       "layout": "IPY_MODEL_010ed1c7bf0a4848948e308eb71fc2fc",
       "max": 1,
       "readout_format": ".1f",
       "step": 0.1,
       "style": "IPY_MODEL_f5a0a62cb8df476c8ffc4110bc5cd6cb",
       "value": 0.5
      }
     },
     "51f7fd51aed64ffc9241568695c0100d": {
      "model_module": "@jupyter-widgets/base",
      "model_module_version": "1.0.0",
      "model_name": "LayoutModel",
      "state": {}
     },
     "5221a1a38da04a329dd1d360ddc1ec4d": {
      "model_module": "@jupyter-widgets/controls",
      "model_module_version": "1.2.0",
      "model_name": "SliderStyleModel",
      "state": {
       "description_width": "initial"
      }
     },
     "52284d52f0dc43d785b9b004633c5ffe": {
      "model_module": "@jupyter-widgets/controls",
      "model_module_version": "1.2.0",
      "model_name": "FloatSliderModel",
      "state": {
       "continuous_update": false,
       "description": "Zoom Level:",
       "layout": "IPY_MODEL_a5e8082e719c403088f76e1726a3f122",
       "max": 3,
       "min": 0.5,
       "readout_format": ".1f",
       "step": 0.1,
       "style": "IPY_MODEL_74835e75e2bf4b759b4f6577f2b2020c",
       "value": 1
      }
     },
     "5284d8eea13445708d6a969622d8445f": {
      "model_module": "@jupyter-widgets/controls",
      "model_module_version": "1.2.0",
      "model_name": "ButtonModel",
      "state": {
       "description": "Update Plot",
       "icon": "check",
       "layout": "IPY_MODEL_36ba98e2ddf0466faee1ce96ea24b906",
       "style": "IPY_MODEL_1badd01a72334645bda0a4e4d07c9b9c",
       "tooltip": "Update Plot"
      }
     },
     "52ef401e3e844b99ab2ae778706af52e": {
      "model_module": "@jupyter-widgets/controls",
      "model_module_version": "1.2.0",
      "model_name": "DropdownModel",
      "state": {
       "_options_labels": [
        "capacity",
        "alphabetical"
       ],
       "description": "Sort Legend By:",
       "index": 0,
       "layout": "IPY_MODEL_5b71a7b2808d4c6ebc19136dfb72eeda",
       "style": "IPY_MODEL_f60ef9e529304772881cdcdef472606d"
      }
     },
     "537f1bd0e2ad45e9b841ecf61c980f2f": {
      "model_module": "@jupyter-widgets/controls",
      "model_module_version": "1.2.0",
      "model_name": "DescriptionStyleModel",
      "state": {
       "description_width": "initial"
      }
     },
     "53c6da83a1964799a6d6d76fd725c74e": {
      "model_module": "@jupyter-widgets/controls",
      "model_module_version": "1.2.0",
      "model_name": "RadioButtonsModel",
      "state": {
       "_options_labels": [
        "True",
        "False"
       ],
       "description": "Title On:",
       "index": 0,
       "layout": "IPY_MODEL_e2a7324e685147d18ffe56eb582d7cd1",
       "style": "IPY_MODEL_22bfdf4a2f414abe9e1aacbd8f0acaa2"
      }
     },
     "53cc56b26b9044279dd603a94b52151e": {
      "model_module": "@jupyter-widgets/controls",
      "model_module_version": "1.2.0",
      "model_name": "ToggleButtonsStyleModel",
      "state": {
       "button_width": "",
       "description_width": "initial"
      }
     },
     "53d81026ac3646c2814129596f41f012": {
      "model_module": "@jupyter-widgets/base",
      "model_module_version": "1.0.0",
      "model_name": "LayoutModel",
      "state": {}
     },
     "5427751a98194061829a398f8c7e45c5": {
      "model_module": "@jupyter-widgets/controls",
      "model_module_version": "1.2.0",
      "model_name": "IntSliderModel",
      "state": {
       "continuous_update": false,
       "description": "DPI (resolution):",
       "layout": "IPY_MODEL_6aeffe8344d845fd98becbfb836cc23c",
       "max": 500,
       "min": 100,
       "style": "IPY_MODEL_373e70998f9a4b2ea5f2faaa3c07a132",
       "value": 300
      }
     },
     "54ff99d43ff44aab99fc4cbd1421c1c3": {
      "model_module": "@jupyter-widgets/base",
      "model_module_version": "1.0.0",
      "model_name": "LayoutModel",
      "state": {}
     },
     "5524dbc4c70c480aa0dab21d8e09d233": {
      "model_module": "@jupyter-widgets/base",
      "model_module_version": "1.0.0",
      "model_name": "LayoutModel",
      "state": {}
     },
     "55c85ca762e849c2bee6e11e8bb6a40f": {
      "model_module": "@jupyter-widgets/controls",
      "model_module_version": "1.2.0",
      "model_name": "FloatSliderModel",
      "state": {
       "continuous_update": false,
       "description": "Bubble Opacity:",
       "layout": "IPY_MODEL_bbba558ee1f54b899eda207cef28a55a",
       "max": 1,
       "readout_format": ".1f",
       "step": 0.1,
       "style": "IPY_MODEL_5084b737350b40dd90dc374a79f16461",
       "value": 0.5
      }
     },
     "55de93028c8d4253af8900a64f2c18bd": {
      "model_module": "@jupyter-widgets/controls",
      "model_module_version": "1.2.0",
      "model_name": "DescriptionStyleModel",
      "state": {
       "description_width": "initial"
      }
     },
     "55fcdda962984cfb85a1a6e58cb0715e": {
      "model_module": "@jupyter-widgets/controls",
      "model_module_version": "1.2.0",
      "model_name": "ButtonModel",
      "state": {
       "description": "Update Plot",
       "icon": "check",
       "layout": "IPY_MODEL_6f8dbc6bec15489cb6b391b3611c1ca5",
       "style": "IPY_MODEL_f2b5b91d54c94f749aaf3d8612dddbb4",
       "tooltip": "Update Plot"
      }
     },
     "5604210dd35d465ebaac3ba495bdd3c6": {
      "model_module": "@jupyter-widgets/controls",
      "model_module_version": "1.2.0",
      "model_name": "DescriptionStyleModel",
      "state": {
       "description_width": "initial"
      }
     },
     "563d1b0fa7b54cf2bd2e3dd22ada300b": {
      "model_module": "@jupyter-widgets/base",
      "model_module_version": "1.0.0",
      "model_name": "LayoutModel",
      "state": {}
     },
     "564c54091ce74ffa88608941f8a0e4dc": {
      "model_module": "@jupyter-widgets/controls",
      "model_module_version": "1.2.0",
      "model_name": "SliderStyleModel",
      "state": {
       "description_width": "initial"
      }
     },
     "569beb1a07e4415682072e6e310c621b": {
      "model_module": "@jupyter-widgets/base",
      "model_module_version": "1.0.0",
      "model_name": "LayoutModel",
      "state": {}
     },
     "56bfd6c6578946468900e845aaf9c26c": {
      "model_module": "@jupyter-widgets/base",
      "model_module_version": "1.0.0",
      "model_name": "LayoutModel",
      "state": {}
     },
     "56ddc84b3cdf427bb67bbcb87647ff44": {
      "model_module": "@jupyter-widgets/controls",
      "model_module_version": "1.2.0",
      "model_name": "SliderStyleModel",
      "state": {
       "description_width": "initial"
      }
     },
     "57f98d81985943ebb9233853dd4a23f0": {
      "model_module": "@jupyter-widgets/controls",
      "model_module_version": "1.2.0",
      "model_name": "ToggleButtonsStyleModel",
      "state": {
       "button_width": "",
       "description_width": "initial"
      }
     },
     "57ffcee2fe574257854e56bfb297757a": {
      "model_module": "@jupyter-widgets/controls",
      "model_module_version": "1.2.0",
      "model_name": "SliderStyleModel",
      "state": {
       "description_width": "initial"
      }
     },
     "5907fb5ea9804f719263c7fd2887a7d4": {
      "model_module": "@jupyter-widgets/base",
      "model_module_version": "1.0.0",
      "model_name": "LayoutModel",
      "state": {}
     },
     "591839c9b4f141d5a28d4cf3452b40c6": {
      "model_module": "@jupyter-widgets/base",
      "model_module_version": "1.0.0",
      "model_name": "LayoutModel",
      "state": {}
     },
     "59420138f5c443688f9971e1e65bcff6": {
      "model_module": "@jupyter-widgets/controls",
      "model_module_version": "1.2.0",
      "model_name": "DescriptionStyleModel",
      "state": {
       "description_width": "initial"
      }
     },
     "595665a428f7484780da6c27597354c3": {
      "model_module": "@jupyter-widgets/controls",
      "model_module_version": "1.2.0",
      "model_name": "SliderStyleModel",
      "state": {
       "description_width": "initial"
      }
     },
     "599d008790b34160930093938adcf17f": {
      "model_module": "@jupyter-widgets/controls",
      "model_module_version": "1.2.0",
      "model_name": "SliderStyleModel",
      "state": {
       "description_width": "initial"
      }
     },
     "59a4ff60ebaa4d40af2dd5a5325f89c1": {
      "model_module": "@jupyter-widgets/base",
      "model_module_version": "1.0.0",
      "model_name": "LayoutModel",
      "state": {}
     },
     "5a72c47948fd488b831d36ae1219fd4f": {
      "model_module": "@jupyter-widgets/controls",
      "model_module_version": "1.2.0",
      "model_name": "DescriptionStyleModel",
      "state": {
       "description_width": "initial"
      }
     },
     "5a8b6e07f21b4a12a09dc8c73eef0d48": {
      "model_module": "@jupyter-widgets/base",
      "model_module_version": "1.0.0",
      "model_name": "LayoutModel",
      "state": {}
     },
     "5a93ccd062b04ff6a3e286b94466c630": {
      "model_module": "@jupyter-widgets/controls",
      "model_module_version": "1.2.0",
      "model_name": "ButtonModel",
      "state": {
       "description": "Update Plot",
       "icon": "check",
       "layout": "IPY_MODEL_8c610c681d8b4afcbb445d8907abf344",
       "style": "IPY_MODEL_b2d829bdcc84405f9f5a429072d068b9",
       "tooltip": "Update Plot"
      }
     },
     "5b233d34e9214b0fb7e071a0f56f354f": {
      "model_module": "@jupyter-widgets/controls",
      "model_module_version": "1.2.0",
      "model_name": "DescriptionStyleModel",
      "state": {
       "description_width": "initial"
      }
     },
     "5b3512c168624d36ba7e51b2dbcc6c77": {
      "model_module": "@jupyter-widgets/controls",
      "model_module_version": "1.2.0",
      "model_name": "SliderStyleModel",
      "state": {
       "description_width": "initial"
      }
     },
     "5b686939d749494c8824733c9f381cb7": {
      "model_module": "@jupyter-widgets/controls",
      "model_module_version": "1.2.0",
      "model_name": "IntSliderModel",
      "state": {
       "continuous_update": false,
       "description": "DPI (resolution):",
       "layout": "IPY_MODEL_1c9ec4c4fcfa42bca53c1bff114c9ae0",
       "max": 500,
       "min": 100,
       "style": "IPY_MODEL_8b92dd81381f4efb88f1476b46147087",
       "value": 300
      }
     },
     "5b6ca703bcf24356aeb4d9369f8c715d": {
      "model_module": "@jupyter-widgets/base",
      "model_module_version": "1.0.0",
      "model_name": "LayoutModel",
      "state": {}
     },
     "5b71a7b2808d4c6ebc19136dfb72eeda": {
      "model_module": "@jupyter-widgets/base",
      "model_module_version": "1.0.0",
      "model_name": "LayoutModel",
      "state": {}
     },
     "5b7ce13e79aa4ab0b9b4c5f6bfd15ec3": {
      "model_module": "@jupyter-widgets/controls",
      "model_module_version": "1.2.0",
      "model_name": "FloatSliderModel",
      "state": {
       "continuous_update": false,
       "description": "Zoom Level:",
       "layout": "IPY_MODEL_86180b5f6c09448e9405b0dd50cb83be",
       "max": 3,
       "min": 0.5,
       "readout_format": ".1f",
       "step": 0.1,
       "style": "IPY_MODEL_c1761a83c028452db93416353cb004ba",
       "value": 1.3
      }
     },
     "5b819e0b42f34b1e9730fbd28fe6d8d1": {
      "model_module": "@jupyter-widgets/controls",
      "model_module_version": "1.2.0",
      "model_name": "TextModel",
      "state": {
       "description": "Island Size Thresh:",
       "layout": "IPY_MODEL_c870c16b581947f49459fff4f5bcad37",
       "placeholder": "Type a island thresh",
       "style": "IPY_MODEL_f3b74ccd814b427fb5383b5f00c6e23d",
       "value": "200"
      }
     },
     "5b82a63ab2b4453293d5908678557a0a": {
      "model_module": "@jupyter-widgets/controls",
      "model_module_version": "1.2.0",
      "model_name": "ToggleButtonsModel",
      "state": {
       "_options_labels": [
        "Simple",
        "Mixed",
        "Complex"
       ],
       "button_style": "",
       "description": "Simplification Level:",
       "icons": [],
       "index": 1,
       "layout": "IPY_MODEL_65c2c9652b0a46469336ec28d5fb3c90",
       "style": "IPY_MODEL_381edaaa4aaa4cfa9fcaf0ccd54e9de5",
       "tooltips": [
        "Renewables, Fossil, and Nuclear",
        "Solar, Wind, Hydro, Geothermal,Biomass, Wave and Tidal,\n Storage, Fossil, Nuclear",
        "Solar, Wind, Hydro, Geothermal,Biomass, Wave and Tidal,\n Storage, Fossil, Nuclear, Coal, Gas, Oil, Waste, Cogeneration"
       ]
      }
     },
     "5bc40838e6f4495894055c8e364bf0bc": {
      "model_module": "@jupyter-widgets/base",
      "model_module_version": "1.0.0",
      "model_name": "LayoutModel",
      "state": {}
     },
     "5c0980ace2bb4689a61f236870640b5a": {
      "model_module": "@jupyter-widgets/controls",
      "model_module_version": "1.2.0",
      "model_name": "ButtonStyleModel",
      "state": {}
     },
     "5c4184c4faca424aa612d6865e36e44d": {
      "model_module": "@jupyter-widgets/base",
      "model_module_version": "1.0.0",
      "model_name": "LayoutModel",
      "state": {}
     },
     "5d1dbb1695cf4d49a063e6b54374a284": {
      "model_module": "@jupyter-widgets/controls",
      "model_module_version": "1.2.0",
      "model_name": "TextModel",
      "state": {
       "description": "Path to save to:",
       "layout": "IPY_MODEL_084c7a34828842e69c192d5c034ba910",
       "placeholder": "Type the complete path to save to",
       "style": "IPY_MODEL_a1021b79a44d4b4bae394d1c0e5e6c25",
       "value": "/Users/skoebric/Downloads/XYZ.png"
      }
     },
     "5d5c70c261a14357b167e42fc1d21d6f": {
      "model_module": "@jupyter-widgets/controls",
      "model_module_version": "1.2.0",
      "model_name": "ButtonStyleModel",
      "state": {}
     },
     "5d7a958c50e648eb89e831310f889020": {
      "model_module": "@jupyter-widgets/controls",
      "model_module_version": "1.2.0",
      "model_name": "TextModel",
      "state": {
       "description": "Path to save to:",
       "layout": "IPY_MODEL_1f0ee5c34001498fbcde7e7ca6c8f9e5",
       "placeholder": "Type the complete path to save to",
       "style": "IPY_MODEL_6af47c5cf079478dab6b79b1a0a6afa1",
       "value": "/Users/skoebric/Downloads/XYZ.png"
      }
     },
     "5d8481f9b3834ec3afe531a153110000": {
      "model_module": "@jupyter-widgets/base",
      "model_module_version": "1.0.0",
      "model_name": "LayoutModel",
      "state": {
       "height": "80px",
       "width": "70%"
      }
     },
     "5d895e4cab684b92bc71e076aa24873c": {
      "model_module": "@jupyter-widgets/controls",
      "model_module_version": "1.2.0",
      "model_name": "ToggleButtonsModel",
      "state": {
       "_options_labels": [
        "Simple",
        "Mixed",
        "Complex"
       ],
       "button_style": "",
       "description": "Simplification Level:",
       "icons": [],
       "index": 1,
       "layout": "IPY_MODEL_83f4d537feec42b9bed87fae26361045",
       "style": "IPY_MODEL_a63e995885b14af7bbc97b1997d0c21c",
       "tooltips": [
        "Renewables, Fossil, and Nuclear",
        "Solar, Wind, Hydro, Geothermal,Biomass, Wave and Tidal,\n Storage, Fossil, Nuclear",
        "Solar, Wind, Hydro, Geothermal,Biomass, Wave and Tidal,\n Storage, Fossil, Nuclear, Coal, Gas, Oil, Waste, Cogeneration"
       ]
      }
     },
     "5da5487b19ac40189443993e844cdb1b": {
      "model_module": "@jupyter-widgets/controls",
      "model_module_version": "1.2.0",
      "model_name": "ToggleButtonsStyleModel",
      "state": {
       "button_width": "",
       "description_width": "initial"
      }
     },
     "5db54fa15a92462eaef5fb688a8e939b": {
      "model_module": "@jupyter-widgets/controls",
      "model_module_version": "1.2.0",
      "model_name": "ButtonStyleModel",
      "state": {}
     },
     "5dc99c4918fa40c5bbd1ee3d60fc3644": {
      "model_module": "@jupyter-widgets/base",
      "model_module_version": "1.0.0",
      "model_name": "LayoutModel",
      "state": {}
     },
     "5dd8ac7130824542ae50b6288e72d8ee": {
      "model_module": "@jupyter-widgets/controls",
      "model_module_version": "1.2.0",
      "model_name": "DescriptionStyleModel",
      "state": {
       "description_width": "initial"
      }
     },
     "5df478c464124c33aba7b8d70461578d": {
      "model_module": "@jupyter-widgets/controls",
      "model_module_version": "1.2.0",
      "model_name": "DropdownModel",
      "state": {
       "_options_labels": [
        "capacity",
        "alphabetical"
       ],
       "description": "Sort Legend By:",
       "index": 0,
       "layout": "IPY_MODEL_cade51b96736449eaff8c2ff51219f4e",
       "style": "IPY_MODEL_b32444897b4946c1a7b84177a01a023f"
      }
     },
     "5e72c273b0a0478eae072e9dee0edfa1": {
      "model_module": "@jupyter-widgets/controls",
      "model_module_version": "1.2.0",
      "model_name": "TextModel",
      "state": {
       "description": "Coordinate System:",
       "layout": "IPY_MODEL_6906c38325ca41329ce8606b46baac7e",
       "placeholder": "Type something",
       "style": "IPY_MODEL_68f81cd479854372864cbab754bbe897",
       "value": "spherical"
      }
     },
     "5e75f0d2624e448b9075cf58a21ebe0d": {
      "model_module": "@jupyter-widgets/base",
      "model_module_version": "1.0.0",
      "model_name": "LayoutModel",
      "state": {}
     },
     "5eb0ff5db45b421180d878d1b3646ffa": {
      "model_module": "@jupyter-widgets/controls",
      "model_module_version": "1.2.0",
      "model_name": "SliderStyleModel",
      "state": {
       "description_width": "initial"
      }
     },
     "5ee429b1adfe45dfa6b883d23bdd80c2": {
      "model_module": "@jupyter-widgets/base",
      "model_module_version": "1.0.0",
      "model_name": "LayoutModel",
      "state": {}
     },
     "5f6faf4b6d8d42fa8c2672d7397d80bf": {
      "model_module": "@jupyter-widgets/controls",
      "model_module_version": "1.2.0",
      "model_name": "DescriptionStyleModel",
      "state": {
       "description_width": ""
      }
     },
     "5f935645e5e94ff19184979a212d8143": {
      "model_module": "@jupyter-widgets/controls",
      "model_module_version": "1.2.0",
      "model_name": "DescriptionStyleModel",
      "state": {
       "description_width": "initial"
      }
     },
     "5fb8b70cecb74e27ad33eacffba239cd": {
      "model_module": "@jupyter-widgets/base",
      "model_module_version": "1.0.0",
      "model_name": "LayoutModel",
      "state": {}
     },
     "5fcb70cac1cf48d3a57d9f2586e10033": {
      "model_module": "@jupyter-widgets/base",
      "model_module_version": "1.0.0",
      "model_name": "LayoutModel",
      "state": {
       "height": "80px",
       "width": "70%"
      }
     },
     "5fe9e9c34c0a43529c9b3db8ca18d4ea": {
      "model_module": "@jupyter-widgets/controls",
      "model_module_version": "1.2.0",
      "model_name": "DescriptionStyleModel",
      "state": {
       "description_width": ""
      }
     },
     "6018080da1d54394b3dbd48fa66a60c5": {
      "model_module": "@jupyter-widgets/controls",
      "model_module_version": "1.2.0",
      "model_name": "FloatSliderModel",
      "state": {
       "continuous_update": false,
       "description": "Zoom Level:",
       "layout": "IPY_MODEL_11097373d92549de9cd24c5a2218e54b",
       "max": 3,
       "min": 0.5,
       "readout_format": ".1f",
       "step": 0.1,
       "style": "IPY_MODEL_5b3512c168624d36ba7e51b2dbcc6c77",
       "value": 1
      }
     },
     "601ddb9105db4ca6b63de66f3ef64719": {
      "model_module": "@jupyter-widgets/controls",
      "model_module_version": "1.2.0",
      "model_name": "DescriptionStyleModel",
      "state": {
       "description_width": "initial"
      }
     },
     "606ca9404aa64178bc0e81300fe16e70": {
      "model_module": "@jupyter-widgets/controls",
      "model_module_version": "1.2.0",
      "model_name": "IntSliderModel",
      "state": {
       "continuous_update": false,
       "description": "DPI (resolution):",
       "layout": "IPY_MODEL_edabaef891a742adbbefc0fd5d5f800b",
       "max": 500,
       "min": 100,
       "style": "IPY_MODEL_8097eb290d1d4e6093667c51954a03bc",
       "value": 300
      }
     },
     "607a6e59d9804276aa154647bd4e2501": {
      "model_module": "@jupyter-widgets/base",
      "model_module_version": "1.0.0",
      "model_name": "LayoutModel",
      "state": {}
     },
     "607f7912168e4d5fb0c09cac1ae2b72b": {
      "model_module": "@jupyter-widgets/controls",
      "model_module_version": "1.2.0",
      "model_name": "FloatSliderModel",
      "state": {
       "continuous_update": false,
       "description": "Zoom Level:",
       "layout": "IPY_MODEL_1f49bad8231f4743bcc17f306b169d11",
       "max": 3,
       "min": 0.5,
       "readout_format": ".1f",
       "step": 0.1,
       "style": "IPY_MODEL_eb13c3658333424caa0fba6f0d8c7015",
       "value": 1
      }
     },
     "6094ec9dd9974241b15fec9b7bbeb195": {
      "model_module": "@jupyter-widgets/base",
      "model_module_version": "1.0.0",
      "model_name": "LayoutModel",
      "state": {}
     },
     "60b669a6781448419c3e601100701fa4": {
      "model_module": "@jupyter-widgets/base",
      "model_module_version": "1.0.0",
      "model_name": "LayoutModel",
      "state": {}
     },
     "60d0bea213104c0795ca26b47a296401": {
      "model_module": "@jupyter-widgets/base",
      "model_module_version": "1.0.0",
      "model_name": "LayoutModel",
      "state": {
       "height": "80px",
       "width": "70%"
      }
     },
     "616e70b4d9e7438b8ca9de2d2d24b6ca": {
      "model_module": "@jupyter-widgets/controls",
      "model_module_version": "1.2.0",
      "model_name": "DescriptionStyleModel",
      "state": {
       "description_width": "initial"
      }
     },
     "61840571609f4503b3ac19a367c0d121": {
      "model_module": "@jupyter-widgets/controls",
      "model_module_version": "1.2.0",
      "model_name": "DescriptionStyleModel",
      "state": {
       "description_width": "initial"
      }
     },
     "61b5e42241674c2fa15fe9371c2b4406": {
      "model_module": "@jupyter-widgets/base",
      "model_module_version": "1.0.0",
      "model_name": "LayoutModel",
      "state": {}
     },
     "62120a2667734b24bf68ce5c6e279941": {
      "model_module": "@jupyter-widgets/controls",
      "model_module_version": "1.2.0",
      "model_name": "ToggleButtonsStyleModel",
      "state": {
       "button_width": "",
       "description_width": "initial"
      }
     },
     "6224455a541843b1b4fd0ad4e24a5e86": {
      "model_module": "@jupyter-widgets/controls",
      "model_module_version": "1.2.0",
      "model_name": "IntSliderModel",
      "state": {
       "continuous_update": false,
       "description": "DPI (resolution):",
       "layout": "IPY_MODEL_59a4ff60ebaa4d40af2dd5a5325f89c1",
       "max": 500,
       "min": 100,
       "style": "IPY_MODEL_a863b76fab18496c98933ccd4bac1142",
       "value": 300
      }
     },
     "627a8cb84c534526a3a728d7c07223d0": {
      "model_module": "@jupyter-widgets/controls",
      "model_module_version": "1.2.0",
      "model_name": "TextModel",
      "state": {
       "description": "Path to save to:",
       "layout": "IPY_MODEL_7c97edc2cf9c408e9aa61e18fa7a449c",
       "placeholder": "Type the complete path to save to",
       "style": "IPY_MODEL_55de93028c8d4253af8900a64f2c18bd",
       "value": "/Users/skoebric/Downloads/XYZ.png"
      }
     },
     "628264a9983647099c8512f38619c2ce": {
      "model_module": "@jupyter-widgets/base",
      "model_module_version": "1.0.0",
      "model_name": "LayoutModel",
      "state": {}
     },
     "62ef68bbfb2d49feb206725a2f1a57a8": {
      "model_module": "@jupyter-widgets/base",
      "model_module_version": "1.0.0",
      "model_name": "LayoutModel",
      "state": {}
     },
     "63188a9729fe43bfbf3d484000133813": {
      "model_module": "@jupyter-widgets/controls",
      "model_module_version": "1.2.0",
      "model_name": "ButtonStyleModel",
      "state": {}
     },
     "6325bd96782944ffa14ec7212759233f": {
      "model_module": "@jupyter-widgets/controls",
      "model_module_version": "1.2.0",
      "model_name": "RadioButtonsModel",
      "state": {
       "_options_labels": [
        "True",
        "False"
       ],
       "description": "Title On:",
       "index": 0,
       "layout": "IPY_MODEL_8e182ac748fe4d1ab398cda5f8afc2da",
       "style": "IPY_MODEL_5fe9e9c34c0a43529c9b3db8ca18d4ea"
      }
     },
     "6339473f24dd4d9583ac713224b8cf6a": {
      "model_module": "@jupyter-widgets/controls",
      "model_module_version": "1.2.0",
      "model_name": "DescriptionStyleModel",
      "state": {
       "description_width": ""
      }
     },
     "635ac4f560a24d7cbd45e8a8178107cb": {
      "model_module": "@jupyter-widgets/controls",
      "model_module_version": "1.2.0",
      "model_name": "TextModel",
      "state": {
       "description": "Path to save to:",
       "layout": "IPY_MODEL_25d1f83077d440f39ad08f583e944887",
       "placeholder": "Type the complete path to save to",
       "style": "IPY_MODEL_c909a46f24bb45d99fb7ebb0bd02e870",
       "value": "/Users/skoebric/Downloads/XYZ.png"
      }
     },
     "635dd6ef19e74fe6b2ea0af061cebcdd": {
      "model_module": "@jupyter-widgets/controls",
      "model_module_version": "1.2.0",
      "model_name": "TextModel",
      "state": {
       "description": "Coordinate System:",
       "layout": "IPY_MODEL_f10e3ad7a0d245298c4728eb6dcc62e6",
       "placeholder": "Type something",
       "style": "IPY_MODEL_058ce894c7e74461bdbc607e48e0bade",
       "value": "spherical"
      }
     },
     "636f64dbb9194f27a7fcae8b377fedce": {
      "model_module": "@jupyter-widgets/controls",
      "model_module_version": "1.2.0",
      "model_name": "TextModel",
      "state": {
       "description": "Path to save to:",
       "layout": "IPY_MODEL_f1717553bcf44eeea4ad9964d002a26a",
       "placeholder": "Type the complete path to save to",
       "style": "IPY_MODEL_36eae348f7224cb1b05bee38a1c2be8c",
       "value": "/Users/skoebric/Downloads/XYZ.png"
      }
     },
     "63804dd7e1ff4c549ddabc9f81688093": {
      "model_module": "@jupyter-widgets/controls",
      "model_module_version": "1.2.0",
      "model_name": "DescriptionStyleModel",
      "state": {
       "description_width": "initial"
      }
     },
     "63f915dae25b4a11975aaf2aceb02cbf": {
      "model_module": "@jupyter-widgets/controls",
      "model_module_version": "1.2.0",
      "model_name": "DescriptionStyleModel",
      "state": {
       "description_width": "initial"
      }
     },
     "63fa5fbd212f4f07a6ac6a22d158690f": {
      "model_module": "@jupyter-widgets/controls",
      "model_module_version": "1.2.0",
      "model_name": "ButtonModel",
      "state": {
       "description": "Update Plot",
       "icon": "check",
       "layout": "IPY_MODEL_2aacc748de1345e19b508d83be0b8d4e",
       "style": "IPY_MODEL_4327de5775234d0087fde8595b173f01",
       "tooltip": "Update Plot"
      }
     },
     "6432569873f34594b29c0c10a57b539f": {
      "model_module": "@jupyter-widgets/base",
      "model_module_version": "1.0.0",
      "model_name": "LayoutModel",
      "state": {}
     },
     "64dea73eab154db69b1fb677d91c449f": {
      "model_module": "@jupyter-widgets/controls",
      "model_module_version": "1.2.0",
      "model_name": "FloatSliderModel",
      "state": {
       "continuous_update": false,
       "description": "Bubble Opacity:",
       "layout": "IPY_MODEL_46834292510b46f3a806a189b6851cfd",
       "max": 1,
       "readout_format": ".1f",
       "step": 0.1,
       "style": "IPY_MODEL_a9c8648bf0244eb8968597be79d0b4d7",
       "value": 0.5
      }
     },
     "64f0616cff344098a4b2aa18d568e83b": {
      "model_module": "@jupyter-widgets/controls",
      "model_module_version": "1.2.0",
      "model_name": "SliderStyleModel",
      "state": {
       "description_width": "initial"
      }
     },
     "654d0508149d4f72b815910bdeede6f1": {
      "model_module": "@jupyter-widgets/controls",
      "model_module_version": "1.2.0",
      "model_name": "ToggleButtonsModel",
      "state": {
       "_options_labels": [
        "Simple",
        "Mixed",
        "Complex"
       ],
       "button_style": "",
       "description": "Simplification Level:",
       "icons": [],
       "index": 1,
       "layout": "IPY_MODEL_1e66f6186980498eaa44aeca0dcc79e2",
       "style": "IPY_MODEL_50e71048da8b4d71aee00dea526c2d56",
       "tooltips": [
        "Renewables, Fossil, and Nuclear",
        "Solar, Wind, Hydro, Geothermal,Biomass, Wave and Tidal,\n Storage, Fossil, Nuclear",
        "Solar, Wind, Hydro, Geothermal,Biomass, Wave and Tidal,\n Storage, Fossil, Nuclear, Coal, Gas, Oil, Waste, Cogeneration"
       ]
      }
     },
     "65c2c9652b0a46469336ec28d5fb3c90": {
      "model_module": "@jupyter-widgets/base",
      "model_module_version": "1.0.0",
      "model_name": "LayoutModel",
      "state": {}
     },
     "65d3af4171c4432d9a86a0fe7412a1e3": {
      "model_module": "@jupyter-widgets/controls",
      "model_module_version": "1.2.0",
      "model_name": "DescriptionStyleModel",
      "state": {
       "description_width": ""
      }
     },
     "65dfe841f64449c89cae0bf6c44b4813": {
      "model_module": "@jupyter-widgets/base",
      "model_module_version": "1.0.0",
      "model_name": "LayoutModel",
      "state": {}
     },
     "65ef3fe9c86d4f409473ed7b0b488939": {
      "model_module": "@jupyter-widgets/base",
      "model_module_version": "1.0.0",
      "model_name": "LayoutModel",
      "state": {}
     },
     "66748a47bd2d41d8a65fac3a8ba3903f": {
      "model_module": "@jupyter-widgets/controls",
      "model_module_version": "1.2.0",
      "model_name": "TextModel",
      "state": {
       "description": "Country Precursor:",
       "layout": "IPY_MODEL_0c10a1110bec4d93b0eb26c40c06e592",
       "placeholder": "Precursor to Country Name",
       "style": "IPY_MODEL_2c5c3575d41b4722b6eda80196399edd"
      }
     },
     "669584764b2747e3800bddc8153de74a": {
      "model_module": "@jupyter-widgets/controls",
      "model_module_version": "1.2.0",
      "model_name": "TextModel",
      "state": {
       "description": "Country Precursor:",
       "layout": "IPY_MODEL_b161b2c71ae84140b2a28fa9a32b4ca5",
       "placeholder": "Precursor to Country Name",
       "style": "IPY_MODEL_945974a230824d69a38a83944d843970"
      }
     },
     "66b7077707ed4605ba53941fe63ef0d6": {
      "model_module": "@jupyter-widgets/controls",
      "model_module_version": "1.2.0",
      "model_name": "SliderStyleModel",
      "state": {
       "description_width": "initial"
      }
     },
     "671feb368ed64d689200326fc1bca844": {
      "model_module": "@jupyter-widgets/controls",
      "model_module_version": "1.2.0",
      "model_name": "TextModel",
      "state": {
       "description": "Island Size Thresh:",
       "layout": "IPY_MODEL_5dc99c4918fa40c5bbd1ee3d60fc3644",
       "placeholder": "Type a island thresh",
       "style": "IPY_MODEL_d5db70abe66a463cbcbc4c14ffeb3fbe",
       "value": "200"
      }
     },
     "6775d26edb544efea5ec75038847a00b": {
      "model_module": "@jupyter-widgets/controls",
      "model_module_version": "1.2.0",
      "model_name": "SliderStyleModel",
      "state": {
       "description_width": "initial"
      }
     },
     "68f81cd479854372864cbab754bbe897": {
      "model_module": "@jupyter-widgets/controls",
      "model_module_version": "1.2.0",
      "model_name": "DescriptionStyleModel",
      "state": {
       "description_width": "initial"
      }
     },
     "6906c38325ca41329ce8606b46baac7e": {
      "model_module": "@jupyter-widgets/base",
      "model_module_version": "1.0.0",
      "model_name": "LayoutModel",
      "state": {}
     },
     "69a2869d50cc4cb2a41eafc70b4f41d2": {
      "model_module": "@jupyter-widgets/controls",
      "model_module_version": "1.2.0",
      "model_name": "TextModel",
      "state": {
       "description": "Country Name:",
       "layout": "IPY_MODEL_ee930139d1f047a8a177b19da9b7eaae",
       "placeholder": "Type a country name",
       "style": "IPY_MODEL_23326e45c0584ff49f26ca3405dc269c",
       "value": "India"
      }
     },
     "6a24a82825eb4236aa0bb3cd20d4809e": {
      "model_module": "@jupyter-widgets/controls",
      "model_module_version": "1.2.0",
      "model_name": "ButtonModel",
      "state": {
       "description": "Update Plot",
       "icon": "check",
       "layout": "IPY_MODEL_2a3164795ea544ecb3999fe612ee5414",
       "style": "IPY_MODEL_eab0ba454c37404891d7818f67598e53",
       "tooltip": "Update Plot"
      }
     },
     "6a6843ca6b454e5a8e9c59a74b17b99f": {
      "model_module": "@jupyter-widgets/controls",
      "model_module_version": "1.2.0",
      "model_name": "IntSliderModel",
      "state": {
       "continuous_update": false,
       "description": "Number of Legend Columns:",
       "layout": "IPY_MODEL_740aff3c6d7149ebb40c47f0952fb366",
       "max": 3,
       "min": 1,
       "style": "IPY_MODEL_36f970beb18348b8a0fd96c386fea7a7",
       "value": 1
      }
     },
     "6aa963271c584809ad44f83ea0cd765b": {
      "model_module": "@jupyter-widgets/controls",
      "model_module_version": "1.2.0",
      "model_name": "TextModel",
      "state": {
       "description": "Path to save to:",
       "layout": "IPY_MODEL_46d1c09daef8449db7296f7e48705885",
       "placeholder": "Type the complete path to save to",
       "style": "IPY_MODEL_616e70b4d9e7438b8ca9de2d2d24b6ca",
       "value": "/Users/skoebric/Downloads/XYZ.png"
      }
     },
     "6aeffe8344d845fd98becbfb836cc23c": {
      "model_module": "@jupyter-widgets/base",
      "model_module_version": "1.0.0",
      "model_name": "LayoutModel",
      "state": {}
     },
     "6af47c5cf079478dab6b79b1a0a6afa1": {
      "model_module": "@jupyter-widgets/controls",
      "model_module_version": "1.2.0",
      "model_name": "DescriptionStyleModel",
      "state": {
       "description_width": "initial"
      }
     },
     "6b9437aecae346fd88c73379052f7c40": {
      "model_module": "@jupyter-widgets/controls",
      "model_module_version": "1.2.0",
      "model_name": "ButtonStyleModel",
      "state": {}
     },
     "6b95c217148f41fb9efcc669c5552a66": {
      "model_module": "@jupyter-widgets/base",
      "model_module_version": "1.0.0",
      "model_name": "LayoutModel",
      "state": {}
     },
     "6b9bbe2ea1f34687be26f8beb0d6aeaa": {
      "model_module": "@jupyter-widgets/base",
      "model_module_version": "1.0.0",
      "model_name": "LayoutModel",
      "state": {}
     },
     "6bd3c1c4d04d4455b114d23a9c64c391": {
      "model_module": "@jupyter-widgets/base",
      "model_module_version": "1.0.0",
      "model_name": "LayoutModel",
      "state": {}
     },
     "6c0e9c7733b3431d8c1505eb2754cb6f": {
      "model_module": "@jupyter-widgets/base",
      "model_module_version": "1.0.0",
      "model_name": "LayoutModel",
      "state": {}
     },
     "6ce2c4a3778f49d1a8d43508ce4779d1": {
      "model_module": "@jupyter-widgets/controls",
      "model_module_version": "1.2.0",
      "model_name": "DescriptionStyleModel",
      "state": {
       "description_width": ""
      }
     },
     "6cfe6b2216bc43668f473e38caadd609": {
      "model_module": "@jupyter-widgets/base",
      "model_module_version": "1.0.0",
      "model_name": "LayoutModel",
      "state": {}
     },
     "6df82960901543d2976aef70b60214cd": {
      "model_module": "@jupyter-widgets/controls",
      "model_module_version": "1.2.0",
      "model_name": "ToggleButtonsModel",
      "state": {
       "_options_labels": [
        "Simple",
        "Mixed",
        "Complex"
       ],
       "button_style": "",
       "description": "Simplification Level:",
       "icons": [],
       "index": 1,
       "layout": "IPY_MODEL_56bfd6c6578946468900e845aaf9c26c",
       "style": "IPY_MODEL_264eb5ca498b4f00bab4fd79999c2181",
       "tooltips": [
        "Renewables, Fossil, and Nuclear",
        "Solar, Wind, Hydro, Geothermal,Biomass, Wave and Tidal,\n Storage, Fossil, Nuclear",
        "Solar, Wind, Hydro, Geothermal,Biomass, Wave and Tidal,\n Storage, Fossil, Nuclear, Coal, Gas, Oil, Waste, Cogeneration"
       ]
      }
     },
     "6e0066f71a424980bc13024c53718326": {
      "model_module": "@jupyter-widgets/base",
      "model_module_version": "1.0.0",
      "model_name": "LayoutModel",
      "state": {}
     },
     "6e3350ca5e2d45e7b9d802a4b277076e": {
      "model_module": "@jupyter-widgets/controls",
      "model_module_version": "1.2.0",
      "model_name": "IntSliderModel",
      "state": {
       "continuous_update": false,
       "description": "DPI (resolution):",
       "layout": "IPY_MODEL_5907fb5ea9804f719263c7fd2887a7d4",
       "max": 500,
       "min": 100,
       "style": "IPY_MODEL_883cf5e88f4c44329bdce1e336a39253",
       "value": 300
      }
     },
     "6e5bca7f6dbb46a1a4dd72e0e5c4adb7": {
      "model_module": "@jupyter-widgets/controls",
      "model_module_version": "1.2.0",
      "model_name": "DescriptionStyleModel",
      "state": {
       "description_width": "initial"
      }
     },
     "6ed5f3e0fa4f4bfd9ccd6bf9299d1932": {
      "model_module": "@jupyter-widgets/controls",
      "model_module_version": "1.2.0",
      "model_name": "DescriptionStyleModel",
      "state": {
       "description_width": "initial"
      }
     },
     "6ef544a0f23f448ea61d76827ddf554f": {
      "model_module": "@jupyter-widgets/base",
      "model_module_version": "1.0.0",
      "model_name": "LayoutModel",
      "state": {}
     },
     "6f41f8a6608f4ec28cd44858c4ea3256": {
      "model_module": "@jupyter-widgets/controls",
      "model_module_version": "1.2.0",
      "model_name": "IntSliderModel",
      "state": {
       "continuous_update": false,
       "description": "DPI (resolution):",
       "layout": "IPY_MODEL_df89d84d897a465abd3a2e8e5b730dc3",
       "max": 500,
       "min": 100,
       "style": "IPY_MODEL_b301360ef3c2432f827ca714817d9f4a",
       "value": 300
      }
     },
     "6f8dbc6bec15489cb6b391b3611c1ca5": {
      "model_module": "@jupyter-widgets/base",
      "model_module_version": "1.0.0",
      "model_name": "LayoutModel",
      "state": {
       "height": "80px",
       "width": "70%"
      }
     },
     "6fae948966f94ccf98916bcf8d9a0c1d": {
      "model_module": "@jupyter-widgets/base",
      "model_module_version": "1.0.0",
      "model_name": "LayoutModel",
      "state": {}
     },
     "7049da7a4ce9403984b51bfc4cf37041": {
      "model_module": "@jupyter-widgets/controls",
      "model_module_version": "1.2.0",
      "model_name": "SliderStyleModel",
      "state": {
       "description_width": "initial"
      }
     },
     "7051d38eec5b4fdcb1ed986dbd37f79d": {
      "model_module": "@jupyter-widgets/controls",
      "model_module_version": "1.2.0",
      "model_name": "RadioButtonsModel",
      "state": {
       "_options_labels": [
        "True",
        "False"
       ],
       "description": "Title On:",
       "index": 1,
       "layout": "IPY_MODEL_1e93b0abab7a4e84b16ad1769b8e5647",
       "style": "IPY_MODEL_8190f6e3e477429e8dd885b5b4d38d64"
      }
     },
     "70cc6e06d94a43e8bea4f3d0c7c31f26": {
      "model_module": "@jupyter-widgets/controls",
      "model_module_version": "1.2.0",
      "model_name": "FloatSliderModel",
      "state": {
       "continuous_update": false,
       "description": "Bubble Opacity:",
       "layout": "IPY_MODEL_98ab47b8023343c698deacbc4ab4cbe9",
       "max": 1,
       "readout_format": ".1f",
       "step": 0.1,
       "style": "IPY_MODEL_ee93017a10b24dc9b0182a6e30e8d01a",
       "value": 0.5
      }
     },
     "70d9c24df54746ce9b537ced9ed30285": {
      "model_module": "@jupyter-widgets/controls",
      "model_module_version": "1.2.0",
      "model_name": "SliderStyleModel",
      "state": {
       "description_width": "initial"
      }
     },
     "70f835acc44b48bca641026b22334af2": {
      "model_module": "@jupyter-widgets/controls",
      "model_module_version": "1.2.0",
      "model_name": "DescriptionStyleModel",
      "state": {
       "description_width": ""
      }
     },
     "719b507434654aab9e606d91144e312a": {
      "model_module": "@jupyter-widgets/controls",
      "model_module_version": "1.2.0",
      "model_name": "DescriptionStyleModel",
      "state": {
       "description_width": "initial"
      }
     },
     "71dc84637a1a4a5fa09721663c609035": {
      "model_module": "@jupyter-widgets/controls",
      "model_module_version": "1.2.0",
      "model_name": "IntSliderModel",
      "state": {
       "continuous_update": false,
       "description": "Number of Legend Columns:",
       "layout": "IPY_MODEL_8a792adcdcd24b42baa0d3518b64bb69",
       "max": 3,
       "min": 1,
       "style": "IPY_MODEL_5221a1a38da04a329dd1d360ddc1ec4d",
       "value": 1
      }
     },
     "71f067f0547e4b8fb4e56b7dffc3ab80": {
      "model_module": "@jupyter-widgets/base",
      "model_module_version": "1.0.0",
      "model_name": "LayoutModel",
      "state": {}
     },
     "728a2b15464f4a55a7a63cea57e12d1d": {
      "model_module": "@jupyter-widgets/controls",
      "model_module_version": "1.2.0",
      "model_name": "DescriptionStyleModel",
      "state": {
       "description_width": ""
      }
     },
     "72e25ca2377b4dfda61090e3e0d27dc2": {
      "model_module": "@jupyter-widgets/controls",
      "model_module_version": "1.2.0",
      "model_name": "DescriptionStyleModel",
      "state": {
       "description_width": "initial"
      }
     },
     "72e371d069bb4da9a2dbc7143650aec3": {
      "model_module": "@jupyter-widgets/controls",
      "model_module_version": "1.2.0",
      "model_name": "ButtonModel",
      "state": {
       "description": "Update Plot",
       "icon": "check",
       "layout": "IPY_MODEL_d95b60d2d0bb496fb9de8de820725ea7",
       "style": "IPY_MODEL_ade1275f884b4e1da9e7f726b20d9fbe",
       "tooltip": "Update Plot"
      }
     },
     "7331fc29195b4e3d8a637dd804a5f447": {
      "model_module": "@jupyter-widgets/base",
      "model_module_version": "1.0.0",
      "model_name": "LayoutModel",
      "state": {}
     },
     "735bd5cf91f341a0aaa7053f80bdd2b2": {
      "model_module": "@jupyter-widgets/base",
      "model_module_version": "1.0.0",
      "model_name": "LayoutModel",
      "state": {}
     },
     "73c61e62236546379381715c89153640": {
      "model_module": "@jupyter-widgets/base",
      "model_module_version": "1.0.0",
      "model_name": "LayoutModel",
      "state": {}
     },
     "73d1d183159e4eb7bfa4536e3f59f1f5": {
      "model_module": "@jupyter-widgets/controls",
      "model_module_version": "1.2.0",
      "model_name": "SliderStyleModel",
      "state": {
       "description_width": "initial"
      }
     },
     "73f6816fd9404bd497f08e976d10891a": {
      "model_module": "@jupyter-widgets/controls",
      "model_module_version": "1.2.0",
      "model_name": "DescriptionStyleModel",
      "state": {
       "description_width": "initial"
      }
     },
     "740aff3c6d7149ebb40c47f0952fb366": {
      "model_module": "@jupyter-widgets/base",
      "model_module_version": "1.0.0",
      "model_name": "LayoutModel",
      "state": {}
     },
     "74556d23560749cd83b628ca17c17a03": {
      "model_module": "@jupyter-widgets/base",
      "model_module_version": "1.0.0",
      "model_name": "LayoutModel",
      "state": {}
     },
     "74835e75e2bf4b759b4f6577f2b2020c": {
      "model_module": "@jupyter-widgets/controls",
      "model_module_version": "1.2.0",
      "model_name": "SliderStyleModel",
      "state": {
       "description_width": "initial"
      }
     },
     "74ac13abc0a746b88d82ff69f483e592": {
      "model_module": "@jupyter-widgets/controls",
      "model_module_version": "1.2.0",
      "model_name": "ToggleButtonsModel",
      "state": {
       "_options_labels": [
        "Simple",
        "Mixed",
        "Complex"
       ],
       "button_style": "",
       "description": "Simplification Level:",
       "icons": [],
       "index": 1,
       "layout": "IPY_MODEL_358b85675660437d91780d8aa0097a00",
       "style": "IPY_MODEL_c44f3f66ec554097bfc60ee48f027378",
       "tooltips": [
        "Renewables, Fossil, and Nuclear",
        "Solar, Wind, Hydro, Geothermal,Biomass, Wave and Tidal,\n Storage, Fossil, Nuclear",
        "Solar, Wind, Hydro, Geothermal,Biomass, Wave and Tidal,\n Storage, Fossil, Nuclear, Coal, Gas, Oil, Waste, Cogeneration"
       ]
      }
     },
     "74ae4d6a8e554dd495161472cefba67f": {
      "model_module": "@jupyter-widgets/controls",
      "model_module_version": "1.2.0",
      "model_name": "IntSliderModel",
      "state": {
       "continuous_update": false,
       "description": "Number of Legend Columns:",
       "layout": "IPY_MODEL_e939a14180474b2782bf7f2024bc33aa",
       "max": 3,
       "min": 1,
       "style": "IPY_MODEL_cebc6e0301c447b5a6980e762b8105cb",
       "value": 1
      }
     },
     "74dcc5c6ec6d4ee9a4b8294ef2492ea7": {
      "model_module": "@jupyter-widgets/controls",
      "model_module_version": "1.2.0",
      "model_name": "SliderStyleModel",
      "state": {
       "description_width": "initial"
      }
     },
     "755c67be886e4130bf04bf9f42fd18e1": {
      "model_module": "@jupyter-widgets/controls",
      "model_module_version": "1.2.0",
      "model_name": "TextModel",
      "state": {
       "description": "Country Name:",
       "layout": "IPY_MODEL_6b9bbe2ea1f34687be26f8beb0d6aeaa",
       "placeholder": "Type a country name",
       "style": "IPY_MODEL_c95c794d51334ab6aa8da60025868338",
       "value": "India"
      }
     },
     "755d0b3f7812438aa5c260b54cf52caa": {
      "model_module": "@jupyter-widgets/controls",
      "model_module_version": "1.2.0",
      "model_name": "DropdownModel",
      "state": {
       "_options_labels": [
        "capacity",
        "alphabetical"
       ],
       "description": "Sort Legend By:",
       "index": 0,
       "layout": "IPY_MODEL_607a6e59d9804276aa154647bd4e2501",
       "style": "IPY_MODEL_b6e9fac3fc5c4d488529e69839187160"
      }
     },
     "75d38b2429324837a69e0a1ce0e2e67e": {
      "model_module": "@jupyter-widgets/controls",
      "model_module_version": "1.2.0",
      "model_name": "DescriptionStyleModel",
      "state": {
       "description_width": "initial"
      }
     },
     "7618737d939c4e36b0b4f5b7bb048297": {
      "model_module": "@jupyter-widgets/controls",
      "model_module_version": "1.2.0",
      "model_name": "SliderStyleModel",
      "state": {
       "description_width": "initial"
      }
     },
     "76988d77c1004561bcde475c19ce7e9f": {
      "model_module": "@jupyter-widgets/controls",
      "model_module_version": "1.2.0",
      "model_name": "DropdownModel",
      "state": {
       "_options_labels": [
        "capacity",
        "alphabetical"
       ],
       "description": "Sort Legend By:",
       "index": 0,
       "layout": "IPY_MODEL_5a8b6e07f21b4a12a09dc8c73eef0d48",
       "style": "IPY_MODEL_2a01c9a5373040e9b39ea42aff60b170"
      }
     },
     "76d728711e264125a884a5b1d2186216": {
      "model_module": "@jupyter-widgets/base",
      "model_module_version": "1.0.0",
      "model_name": "LayoutModel",
      "state": {}
     },
     "773597eaa0c44d739e7feb9ccd7dc03b": {
      "model_module": "@jupyter-widgets/controls",
      "model_module_version": "1.2.0",
      "model_name": "DescriptionStyleModel",
      "state": {
       "description_width": "initial"
      }
     },
     "7737918c06004642a341382f0e725dda": {
      "model_module": "@jupyter-widgets/controls",
      "model_module_version": "1.2.0",
      "model_name": "ButtonStyleModel",
      "state": {}
     },
     "77cab9e4aebd4029a03a46f5d1843a4b": {
      "model_module": "@jupyter-widgets/base",
      "model_module_version": "1.0.0",
      "model_name": "LayoutModel",
      "state": {}
     },
     "78e38ab79c874a74ab8522fd282f67fc": {
      "model_module": "@jupyter-widgets/base",
      "model_module_version": "1.0.0",
      "model_name": "LayoutModel",
      "state": {}
     },
     "79c82f2ba432476db59670e1b4cf9f5b": {
      "model_module": "@jupyter-widgets/base",
      "model_module_version": "1.0.0",
      "model_name": "LayoutModel",
      "state": {}
     },
     "79c8bb2961a54b9cb38ce85da73f7e0d": {
      "model_module": "@jupyter-widgets/controls",
      "model_module_version": "1.2.0",
      "model_name": "TextModel",
      "state": {
       "description": "Island Size Thresh:",
       "layout": "IPY_MODEL_43d62ef7e5de4d448fca63f50f5d0f21",
       "placeholder": "Type a island thresh",
       "style": "IPY_MODEL_a3442ce13948432e8cc77853bf254d31",
       "value": "5000"
      }
     },
     "79cdd44eeb2d46659cfa88ab6f65b717": {
      "model_module": "@jupyter-widgets/controls",
      "model_module_version": "1.2.0",
      "model_name": "DescriptionStyleModel",
      "state": {
       "description_width": "initial"
      }
     },
     "79d03f3abf1f43c8b341fd3630893899": {
      "model_module": "@jupyter-widgets/controls",
      "model_module_version": "1.2.0",
      "model_name": "SliderStyleModel",
      "state": {
       "description_width": "initial"
      }
     },
     "7a0d6dde09db48c39701276c8b81191d": {
      "model_module": "@jupyter-widgets/controls",
      "model_module_version": "1.2.0",
      "model_name": "TextModel",
      "state": {
       "description": "Show Populated Places:",
       "layout": "IPY_MODEL_1cf980be96e547c3ae28633307a99e83",
       "placeholder": "Type something",
       "style": "IPY_MODEL_5604210dd35d465ebaac3ba495bdd3c6",
       "value": "False"
      }
     },
     "7a48b50215ea42b6bb1f7187a472844c": {
      "model_module": "@jupyter-widgets/base",
      "model_module_version": "1.0.0",
      "model_name": "LayoutModel",
      "state": {}
     },
     "7aec7fc355204be394f975af30341b70": {
      "model_module": "@jupyter-widgets/controls",
      "model_module_version": "1.2.0",
      "model_name": "SliderStyleModel",
      "state": {
       "description_width": "initial"
      }
     },
     "7b690176320b4de4b69756517fcedee1": {
      "model_module": "@jupyter-widgets/controls",
      "model_module_version": "1.2.0",
      "model_name": "ButtonStyleModel",
      "state": {}
     },
     "7b7d7fa6e7a34a5daa8b2d4705aa3538": {
      "model_module": "@jupyter-widgets/controls",
      "model_module_version": "1.2.0",
      "model_name": "DescriptionStyleModel",
      "state": {
       "description_width": "initial"
      }
     },
     "7ba4cc77530740e5a28746b63d0a8b3e": {
      "model_module": "@jupyter-widgets/controls",
      "model_module_version": "1.2.0",
      "model_name": "RadioButtonsModel",
      "state": {
       "_options_labels": [
        "True",
        "False"
       ],
       "description": "Title On:",
       "index": 0,
       "layout": "IPY_MODEL_181063281f014ef2ae44ab2ab5599dab",
       "style": "IPY_MODEL_42657007b7114e6b837670dfae32e3e7"
      }
     },
     "7bab429d27c54cbaaa34c0442f95640d": {
      "model_module": "@jupyter-widgets/base",
      "model_module_version": "1.0.0",
      "model_name": "LayoutModel",
      "state": {}
     },
     "7c97edc2cf9c408e9aa61e18fa7a449c": {
      "model_module": "@jupyter-widgets/base",
      "model_module_version": "1.0.0",
      "model_name": "LayoutModel",
      "state": {}
     },
     "7c9f3830640643c7a87a0d6ba3e6b3de": {
      "model_module": "@jupyter-widgets/controls",
      "model_module_version": "1.2.0",
      "model_name": "RadioButtonsModel",
      "state": {
       "_options_labels": [
        "True",
        "False"
       ],
       "description": "Source On:",
       "index": 0,
       "layout": "IPY_MODEL_6ef544a0f23f448ea61d76827ddf554f",
       "style": "IPY_MODEL_d17cbb87c6574121b663a72758917e96"
      }
     },
     "7cdd10a8b6164c11a0eb264138ab0cf8": {
      "model_module": "@jupyter-widgets/controls",
      "model_module_version": "1.2.0",
      "model_name": "SliderStyleModel",
      "state": {
       "description_width": "initial"
      }
     },
     "7d20ae9a5a024904b73d29284e391e86": {
      "model_module": "@jupyter-widgets/controls",
      "model_module_version": "1.2.0",
      "model_name": "FloatSliderModel",
      "state": {
       "continuous_update": false,
       "description": "Zoom Level:",
       "layout": "IPY_MODEL_0beff752fed84020bc817f17c2ecaa1d",
       "max": 3,
       "min": 0.5,
       "readout_format": ".1f",
       "step": 0.1,
       "style": "IPY_MODEL_a2aeac8fd2a44505a83688aa0828e4ef",
       "value": 1.5
      }
     },
     "7d8d5133f57346deb21974a0a242f2ee": {
      "model_module": "@jupyter-widgets/base",
      "model_module_version": "1.0.0",
      "model_name": "LayoutModel",
      "state": {}
     },
     "7da1bcbd095e4333bd52e2821c255a5a": {
      "model_module": "@jupyter-widgets/base",
      "model_module_version": "1.0.0",
      "model_name": "LayoutModel",
      "state": {}
     },
     "7ddc92e61fbc4f82990fbe5d0bb632c6": {
      "model_module": "@jupyter-widgets/base",
      "model_module_version": "1.0.0",
      "model_name": "LayoutModel",
      "state": {}
     },
     "7e1b639ee9cb4cb28347d914f0d7f19b": {
      "model_module": "@jupyter-widgets/controls",
      "model_module_version": "1.2.0",
      "model_name": "RadioButtonsModel",
      "state": {
       "_options_labels": [
        "True",
        "False"
       ],
       "description": "Source On:",
       "index": 0,
       "layout": "IPY_MODEL_6b95c217148f41fb9efcc669c5552a66",
       "style": "IPY_MODEL_a53713030ab54ac3973e0aca89a09285"
      }
     },
     "7e4d73ac38f24f84a00c081267fce9e4": {
      "model_module": "@jupyter-widgets/controls",
      "model_module_version": "1.2.0",
      "model_name": "ButtonStyleModel",
      "state": {}
     },
     "7e549bbdcc914a5dbb2f4f73a7501483": {
      "model_module": "@jupyter-widgets/controls",
      "model_module_version": "1.2.0",
      "model_name": "ButtonModel",
      "state": {
       "description": "Update Plot",
       "icon": "check",
       "layout": "IPY_MODEL_05cf403f1c984ed785a57914e07b3ed4",
       "style": "IPY_MODEL_5d5c70c261a14357b167e42fc1d21d6f",
       "tooltip": "Update Plot"
      }
     },
     "7eebd21cecfd4f438cda8b39232357ff": {
      "model_module": "@jupyter-widgets/base",
      "model_module_version": "1.0.0",
      "model_name": "LayoutModel",
      "state": {}
     },
     "7f20be3a9ad5443480abf467c51df891": {
      "model_module": "@jupyter-widgets/controls",
      "model_module_version": "1.2.0",
      "model_name": "DescriptionStyleModel",
      "state": {
       "description_width": "initial"
      }
     },
     "7f5c2c2769ff4e2596c2b3b525fe71bd": {
      "model_module": "@jupyter-widgets/controls",
      "model_module_version": "1.2.0",
      "model_name": "DescriptionStyleModel",
      "state": {
       "description_width": ""
      }
     },
     "7f8fd98facf14931b1fb7ef863719047": {
      "model_module": "@jupyter-widgets/base",
      "model_module_version": "1.0.0",
      "model_name": "LayoutModel",
      "state": {}
     },
     "7f9bf6dbe7e14010b2690230fa643a59": {
      "model_module": "@jupyter-widgets/base",
      "model_module_version": "1.0.0",
      "model_name": "LayoutModel",
      "state": {
       "height": "80px",
       "width": "70%"
      }
     },
     "7fd399169c1b4b78953e4883039d919b": {
      "model_module": "@jupyter-widgets/controls",
      "model_module_version": "1.2.0",
      "model_name": "ButtonModel",
      "state": {
       "description": "Save Plot",
       "icon": "check",
       "layout": "IPY_MODEL_5fcb70cac1cf48d3a57d9f2586e10033",
       "style": "IPY_MODEL_2d8014c48b5a4740b47b895f621dc9a1",
       "tooltip": "Save Plot"
      }
     },
     "80032675e88d4dd4bbcd7c89205270cf": {
      "model_module": "@jupyter-widgets/controls",
      "model_module_version": "1.2.0",
      "model_name": "SliderStyleModel",
      "state": {
       "description_width": "initial"
      }
     },
     "803e919c674e4c4da6d309aaa366c2e8": {
      "model_module": "@jupyter-widgets/base",
      "model_module_version": "1.0.0",
      "model_name": "LayoutModel",
      "state": {}
     },
     "80584b831d434dbdbc7e902b8b24dae2": {
      "model_module": "@jupyter-widgets/controls",
      "model_module_version": "1.2.0",
      "model_name": "TextModel",
      "state": {
       "description": "Country Name:",
       "layout": "IPY_MODEL_c9d409efbcc64adfb585a74f16d55f1a",
       "placeholder": "Type a country name",
       "style": "IPY_MODEL_f0fce0215ce14a779d1d1b189dcd5b9b",
       "value": "India"
      }
     },
     "8097eb290d1d4e6093667c51954a03bc": {
      "model_module": "@jupyter-widgets/controls",
      "model_module_version": "1.2.0",
      "model_name": "SliderStyleModel",
      "state": {
       "description_width": "initial"
      }
     },
     "80a60a4f0d544959bb6b9dbda2230dc4": {
      "model_module": "@jupyter-widgets/base",
      "model_module_version": "1.0.0",
      "model_name": "LayoutModel",
      "state": {}
     },
     "812d4122eae54d6ab77db4992c2c465c": {
      "model_module": "@jupyter-widgets/controls",
      "model_module_version": "1.2.0",
      "model_name": "TextModel",
      "state": {
       "description": "Island Size Thresh:",
       "layout": "IPY_MODEL_fd12f7200d614261911ba9e54207e1c3",
       "placeholder": "Type a island thresh",
       "style": "IPY_MODEL_a939cb5b8d0a4653b7d92c7d38386a92",
       "value": "5000"
      }
     },
     "817ccc7172614df5b4416465fa91d5a6": {
      "model_module": "@jupyter-widgets/base",
      "model_module_version": "1.0.0",
      "model_name": "LayoutModel",
      "state": {}
     },
     "81830a18813143978c743c22e5bc272d": {
      "model_module": "@jupyter-widgets/controls",
      "model_module_version": "1.2.0",
      "model_name": "DescriptionStyleModel",
      "state": {
       "description_width": "initial"
      }
     },
     "8183701606334a04a1f0f44f49c8d1d4": {
      "model_module": "@jupyter-widgets/base",
      "model_module_version": "1.0.0",
      "model_name": "LayoutModel",
      "state": {}
     },
     "8190f6e3e477429e8dd885b5b4d38d64": {
      "model_module": "@jupyter-widgets/controls",
      "model_module_version": "1.2.0",
      "model_name": "DescriptionStyleModel",
      "state": {
       "description_width": ""
      }
     },
     "819f7c21d2b742cbb788f2955e68b749": {
      "model_module": "@jupyter-widgets/base",
      "model_module_version": "1.0.0",
      "model_name": "LayoutModel",
      "state": {}
     },
     "82035f79afbc4637b0bce9a88d290b03": {
      "model_module": "@jupyter-widgets/base",
      "model_module_version": "1.0.0",
      "model_name": "LayoutModel",
      "state": {}
     },
     "825e7d3d608846609d7f7879b11646ec": {
      "model_module": "@jupyter-widgets/base",
      "model_module_version": "1.0.0",
      "model_name": "LayoutModel",
      "state": {}
     },
     "82caf84b50874dfa9ddbd6802a0c6a62": {
      "model_module": "@jupyter-widgets/controls",
      "model_module_version": "1.2.0",
      "model_name": "IntSliderModel",
      "state": {
       "continuous_update": false,
       "description": "DPI (resolution):",
       "layout": "IPY_MODEL_b42072e9f2e341f3b1d204410dbcfc7e",
       "max": 500,
       "min": 100,
       "style": "IPY_MODEL_5eb0ff5db45b421180d878d1b3646ffa",
       "value": 300
      }
     },
     "82f7d84d69794a77989d4ac2532b3585": {
      "model_module": "@jupyter-widgets/controls",
      "model_module_version": "1.2.0",
      "model_name": "SliderStyleModel",
      "state": {
       "description_width": "initial"
      }
     },
     "83225c7106444133be9f3d6a7257ad6e": {
      "model_module": "@jupyter-widgets/base",
      "model_module_version": "1.0.0",
      "model_name": "LayoutModel",
      "state": {}
     },
     "837136d7f6d645b282b942cd7c4aae5d": {
      "model_module": "@jupyter-widgets/base",
      "model_module_version": "1.0.0",
      "model_name": "LayoutModel",
      "state": {}
     },
     "83a1bb82708549718ddfe67dd878390b": {
      "model_module": "@jupyter-widgets/controls",
      "model_module_version": "1.2.0",
      "model_name": "DescriptionStyleModel",
      "state": {
       "description_width": ""
      }
     },
     "83dbea14b7674523b2e4200a2dde9851": {
      "model_module": "@jupyter-widgets/base",
      "model_module_version": "1.0.0",
      "model_name": "LayoutModel",
      "state": {}
     },
     "83f4d537feec42b9bed87fae26361045": {
      "model_module": "@jupyter-widgets/base",
      "model_module_version": "1.0.0",
      "model_name": "LayoutModel",
      "state": {}
     },
     "83f98594930c41ed80f1a0d031d20de8": {
      "model_module": "@jupyter-widgets/base",
      "model_module_version": "1.0.0",
      "model_name": "LayoutModel",
      "state": {}
     },
     "846435c573dd4e8eabd4a80c555fb8fe": {
      "model_module": "@jupyter-widgets/controls",
      "model_module_version": "1.2.0",
      "model_name": "FloatSliderModel",
      "state": {
       "continuous_update": false,
       "description": "Zoom Level:",
       "layout": "IPY_MODEL_a9e64cc6a4e84f83b4a59dcb79cba70e",
       "max": 3,
       "min": 0.5,
       "readout_format": ".1f",
       "step": 0.1,
       "style": "IPY_MODEL_f5e200ea06ab4c90b79f56a68abc7ab3",
       "value": 1.5
      }
     },
     "848d71a376ff4d83a09b5f7f5c18dee7": {
      "model_module": "@jupyter-widgets/controls",
      "model_module_version": "1.2.0",
      "model_name": "FloatSliderModel",
      "state": {
       "continuous_update": false,
       "description": "Bubble Opacity:",
       "layout": "IPY_MODEL_8638caa2ac804152b752288b6fe7990e",
       "max": 1,
       "readout_format": ".1f",
       "step": 0.1,
       "style": "IPY_MODEL_12b8b3adb0454383bb82c961e846082a",
       "value": 0.5
      }
     },
     "84a11243ae76401f8b71d2567005c6e9": {
      "model_module": "@jupyter-widgets/controls",
      "model_module_version": "1.2.0",
      "model_name": "DescriptionStyleModel",
      "state": {
       "description_width": "initial"
      }
     },
     "850346a028ab4871a22e8cd25b3b35db": {
      "model_module": "@jupyter-widgets/base",
      "model_module_version": "1.0.0",
      "model_name": "LayoutModel",
      "state": {}
     },
     "858a00cf01134bdba3f767756a2be961": {
      "model_module": "@jupyter-widgets/controls",
      "model_module_version": "1.2.0",
      "model_name": "DescriptionStyleModel",
      "state": {
       "description_width": "initial"
      }
     },
     "86058b2f07fe4dddaf737f805c1be68b": {
      "model_module": "@jupyter-widgets/controls",
      "model_module_version": "1.2.0",
      "model_name": "TextModel",
      "state": {
       "description": "Island Size Thresh:",
       "layout": "IPY_MODEL_3c57055b40df44d3bae5c673fd9d6b0d",
       "placeholder": "Type a island thresh",
       "style": "IPY_MODEL_5dd8ac7130824542ae50b6288e72d8ee",
       "value": "5000"
      }
     },
     "86180b5f6c09448e9405b0dd50cb83be": {
      "model_module": "@jupyter-widgets/base",
      "model_module_version": "1.0.0",
      "model_name": "LayoutModel",
      "state": {}
     },
     "8638caa2ac804152b752288b6fe7990e": {
      "model_module": "@jupyter-widgets/base",
      "model_module_version": "1.0.0",
      "model_name": "LayoutModel",
      "state": {}
     },
     "86687faedddf4dcf9276de9831cd8c80": {
      "model_module": "@jupyter-widgets/controls",
      "model_module_version": "1.2.0",
      "model_name": "TextModel",
      "state": {
       "description": "Show Populated Places:",
       "layout": "IPY_MODEL_54ff99d43ff44aab99fc4cbd1421c1c3",
       "placeholder": "Type something",
       "style": "IPY_MODEL_263822d472954a13bbe3bb1a89e1375a",
       "value": "False"
      }
     },
     "8713fdbea88e4f1db2aa56ca4d3c6c2b": {
      "model_module": "@jupyter-widgets/controls",
      "model_module_version": "1.2.0",
      "model_name": "RadioButtonsModel",
      "state": {
       "_options_labels": [
        "True",
        "False"
       ],
       "description": "Source On:",
       "index": 1,
       "layout": "IPY_MODEL_e761b416f68b492bac0ec93e8c282bc0",
       "style": "IPY_MODEL_d21305a21e554fefbd64159bfa2cbf70"
      }
     },
     "8744aae140644701a9461f9daf5c44d6": {
      "model_module": "@jupyter-widgets/controls",
      "model_module_version": "1.2.0",
      "model_name": "DescriptionStyleModel",
      "state": {
       "description_width": "initial"
      }
     },
     "874719580fca4fc08cb83eb70f630d04": {
      "model_module": "@jupyter-widgets/controls",
      "model_module_version": "1.2.0",
      "model_name": "DescriptionStyleModel",
      "state": {
       "description_width": ""
      }
     },
     "8836b2a3d8a34e60946bc10cd65210f2": {
      "model_module": "@jupyter-widgets/controls",
      "model_module_version": "1.2.0",
      "model_name": "ButtonModel",
      "state": {
       "description": "Save Plot",
       "icon": "check",
       "layout": "IPY_MODEL_a44dd498dc6747bd86857fb7d5f9df5b",
       "style": "IPY_MODEL_10d2814d3e2a4514be2f21a0f26f9f9a",
       "tooltip": "Save Plot"
      }
     },
     "883cf5e88f4c44329bdce1e336a39253": {
      "model_module": "@jupyter-widgets/controls",
      "model_module_version": "1.2.0",
      "model_name": "SliderStyleModel",
      "state": {
       "description_width": "initial"
      }
     },
     "884fb414b3ea4fb9bc3af0b028f0d911": {
      "model_module": "@jupyter-widgets/base",
      "model_module_version": "1.0.0",
      "model_name": "LayoutModel",
      "state": {}
     },
     "88a3122b6f3848c2a2f6e91a5eaedca0": {
      "model_module": "@jupyter-widgets/controls",
      "model_module_version": "1.2.0",
      "model_name": "DescriptionStyleModel",
      "state": {
       "description_width": ""
      }
     },
     "890318aab5cb4ad9ba4bee74825097f5": {
      "model_module": "@jupyter-widgets/base",
      "model_module_version": "1.0.0",
      "model_name": "LayoutModel",
      "state": {
       "height": "80px",
       "width": "70%"
      }
     },
     "893588eccb564a26b2026e0d63bb40d0": {
      "model_module": "@jupyter-widgets/base",
      "model_module_version": "1.0.0",
      "model_name": "LayoutModel",
      "state": {}
     },
     "8959ff100ee445a78e496817cfc5ecb7": {
      "model_module": "@jupyter-widgets/controls",
      "model_module_version": "1.2.0",
      "model_name": "TextModel",
      "state": {
       "description": "Path to save to:",
       "layout": "IPY_MODEL_f3abe3be76044e9b9fb7f71e53f968a8",
       "placeholder": "Type the complete path to save to",
       "style": "IPY_MODEL_a8cd86d012424d2b8cfe370ad72fa4e2",
       "value": "/Users/skoebric/Downloads/XYZ.png"
      }
     },
     "89922072791843079824a9c79b707815": {
      "model_module": "@jupyter-widgets/controls",
      "model_module_version": "1.2.0",
      "model_name": "RadioButtonsModel",
      "state": {
       "_options_labels": [
        "True",
        "False"
       ],
       "description": "Title On:",
       "index": 0,
       "layout": "IPY_MODEL_24ee941e6e104ee3a69b0b0ad2973313",
       "style": "IPY_MODEL_8dfa61e509124d2993d840058b23561c"
      }
     },
     "89ae9a7c40b34c319da0d0a71b1cf288": {
      "model_module": "@jupyter-widgets/controls",
      "model_module_version": "1.2.0",
      "model_name": "ButtonModel",
      "state": {
       "description": "Update Plot",
       "icon": "check",
       "layout": "IPY_MODEL_5d8481f9b3834ec3afe531a153110000",
       "style": "IPY_MODEL_7b690176320b4de4b69756517fcedee1",
       "tooltip": "Update Plot"
      }
     },
     "8a74ef72a6a64ee3b542b9ea951e68c2": {
      "model_module": "@jupyter-widgets/base",
      "model_module_version": "1.0.0",
      "model_name": "LayoutModel",
      "state": {}
     },
     "8a792adcdcd24b42baa0d3518b64bb69": {
      "model_module": "@jupyter-widgets/base",
      "model_module_version": "1.0.0",
      "model_name": "LayoutModel",
      "state": {}
     },
     "8ab9c247c0d945d49190471914a03182": {
      "model_module": "@jupyter-widgets/base",
      "model_module_version": "1.0.0",
      "model_name": "LayoutModel",
      "state": {}
     },
     "8ad372ade238496f9e5d13b26318a7aa": {
      "model_module": "@jupyter-widgets/controls",
      "model_module_version": "1.2.0",
      "model_name": "SliderStyleModel",
      "state": {
       "description_width": "initial"
      }
     },
     "8aebe6e07a1b4931aa2befdb6cf8384f": {
      "model_module": "@jupyter-widgets/controls",
      "model_module_version": "1.2.0",
      "model_name": "DescriptionStyleModel",
      "state": {
       "description_width": ""
      }
     },
     "8b0651bcb3f34a45aee053d8282ca6f7": {
      "model_module": "@jupyter-widgets/base",
      "model_module_version": "1.0.0",
      "model_name": "LayoutModel",
      "state": {}
     },
     "8b08b1a8318a4de8900c36bf0be41a6c": {
      "model_module": "@jupyter-widgets/base",
      "model_module_version": "1.0.0",
      "model_name": "LayoutModel",
      "state": {}
     },
     "8b2f9a33762b4b15ae4f4393d069d6ca": {
      "model_module": "@jupyter-widgets/controls",
      "model_module_version": "1.2.0",
      "model_name": "IntSliderModel",
      "state": {
       "continuous_update": false,
       "description": "Number of Legend Columns:",
       "layout": "IPY_MODEL_d5a29190c7d64b3785f3face249e1e97",
       "max": 3,
       "min": 1,
       "style": "IPY_MODEL_d98e39b0546441fb8d0ebcd3c1fbe018",
       "value": 1
      }
     },
     "8b92dd81381f4efb88f1476b46147087": {
      "model_module": "@jupyter-widgets/controls",
      "model_module_version": "1.2.0",
      "model_name": "SliderStyleModel",
      "state": {
       "description_width": "initial"
      }
     },
     "8bb9540728644984919b3f6410ac25fb": {
      "model_module": "@jupyter-widgets/base",
      "model_module_version": "1.0.0",
      "model_name": "LayoutModel",
      "state": {}
     },
     "8c610c681d8b4afcbb445d8907abf344": {
      "model_module": "@jupyter-widgets/base",
      "model_module_version": "1.0.0",
      "model_name": "LayoutModel",
      "state": {
       "height": "80px",
       "width": "70%"
      }
     },
     "8cf0bf08c24644919fcc1d6edd391c71": {
      "model_module": "@jupyter-widgets/controls",
      "model_module_version": "1.2.0",
      "model_name": "ToggleButtonsStyleModel",
      "state": {
       "button_width": "",
       "description_width": "initial"
      }
     },
     "8cf780eb55a64858930abb97f954cb7b": {
      "model_module": "@jupyter-widgets/controls",
      "model_module_version": "1.2.0",
      "model_name": "DescriptionStyleModel",
      "state": {
       "description_width": "initial"
      }
     },
     "8dbda3e6b9744783af3803ca4a4c938e": {
      "model_module": "@jupyter-widgets/controls",
      "model_module_version": "1.2.0",
      "model_name": "DescriptionStyleModel",
      "state": {
       "description_width": "initial"
      }
     },
     "8dfa61e509124d2993d840058b23561c": {
      "model_module": "@jupyter-widgets/controls",
      "model_module_version": "1.2.0",
      "model_name": "DescriptionStyleModel",
      "state": {
       "description_width": ""
      }
     },
     "8e182ac748fe4d1ab398cda5f8afc2da": {
      "model_module": "@jupyter-widgets/base",
      "model_module_version": "1.0.0",
      "model_name": "LayoutModel",
      "state": {}
     },
     "8e275aae4fe3460a82f0aec3dc41c30f": {
      "model_module": "@jupyter-widgets/controls",
      "model_module_version": "1.2.0",
      "model_name": "TextModel",
      "state": {
       "description": "Show Populated Places:",
       "layout": "IPY_MODEL_fc0b6ce126f8448ea1ea67389d804e9c",
       "placeholder": "Type something",
       "style": "IPY_MODEL_fb9917d7c06646d6a1be1ce5f725e1e2",
       "value": "False"
      }
     },
     "8e2bb488b03347f990be99fe03832f84": {
      "model_module": "@jupyter-widgets/controls",
      "model_module_version": "1.2.0",
      "model_name": "TextModel",
      "state": {
       "description": "Coordinate System:",
       "layout": "IPY_MODEL_f5c9b35aab294d5880b48b3364375fbb",
       "placeholder": "Type something",
       "style": "IPY_MODEL_5a72c47948fd488b831d36ae1219fd4f",
       "value": "spherical"
      }
     },
     "8e369e9e95b0412a956edc2eec5ca3ee": {
      "model_module": "@jupyter-widgets/base",
      "model_module_version": "1.0.0",
      "model_name": "LayoutModel",
      "state": {}
     },
     "8e46a15b7e9248189c4bb5ecc5556f95": {
      "model_module": "@jupyter-widgets/controls",
      "model_module_version": "1.2.0",
      "model_name": "SliderStyleModel",
      "state": {
       "description_width": "initial"
      }
     },
     "8ed7df5e7a844766ad6424c209f2f0be": {
      "model_module": "@jupyter-widgets/controls",
      "model_module_version": "1.2.0",
      "model_name": "TextModel",
      "state": {
       "description": "Show Populated Places:",
       "layout": "IPY_MODEL_20c9c3560d1a4fddbfa364d69d3e57db",
       "placeholder": "Type something",
       "style": "IPY_MODEL_17fda476d83d451b96a27382b43017db",
       "value": "False"
      }
     },
     "8f7aedbe778345b09abadafdf90473fb": {
      "model_module": "@jupyter-widgets/controls",
      "model_module_version": "1.2.0",
      "model_name": "DescriptionStyleModel",
      "state": {
       "description_width": "initial"
      }
     },
     "8f877667a02442788a9979864ba78d8e": {
      "model_module": "@jupyter-widgets/base",
      "model_module_version": "1.0.0",
      "model_name": "LayoutModel",
      "state": {}
     },
     "8f953bc479884ae7b9cd0fd7bdcfd043": {
      "model_module": "@jupyter-widgets/controls",
      "model_module_version": "1.2.0",
      "model_name": "FloatSliderModel",
      "state": {
       "continuous_update": false,
       "description": "Zoom Level:",
       "layout": "IPY_MODEL_98f59c058828408fb3864c18e80c79f9",
       "max": 3,
       "min": 0.5,
       "readout_format": ".1f",
       "step": 0.1,
       "style": "IPY_MODEL_b5fb5748fb12484a8cc8b54b3df01bd3",
       "value": 1
      }
     },
     "8fc51a5b88174f0a98789e289a6e6f5d": {
      "model_module": "@jupyter-widgets/controls",
      "model_module_version": "1.2.0",
      "model_name": "TextModel",
      "state": {
       "description": "Coordinate System:",
       "layout": "IPY_MODEL_d598a65034034c44b45929b36411b4f9",
       "placeholder": "Type something",
       "style": "IPY_MODEL_ad48dda1a9444b19b3047c773600afef",
       "value": "spherical"
      }
     },
     "907594db91324fe2b8859881494a224e": {
      "model_module": "@jupyter-widgets/base",
      "model_module_version": "1.0.0",
      "model_name": "LayoutModel",
      "state": {}
     },
     "913e1a4e88e04142b158f48560f047b0": {
      "model_module": "@jupyter-widgets/controls",
      "model_module_version": "1.2.0",
      "model_name": "SliderStyleModel",
      "state": {
       "description_width": "initial"
      }
     },
     "914edea9d2444b79a2e5aaa0cf90343f": {
      "model_module": "@jupyter-widgets/controls",
      "model_module_version": "1.2.0",
      "model_name": "ButtonStyleModel",
      "state": {}
     },
     "915cb366beb24be685222eef2fff64ff": {
      "model_module": "@jupyter-widgets/base",
      "model_module_version": "1.0.0",
      "model_name": "LayoutModel",
      "state": {}
     },
     "9195d87c955f440fa9f87adc604cc07d": {
      "model_module": "@jupyter-widgets/base",
      "model_module_version": "1.0.0",
      "model_name": "LayoutModel",
      "state": {}
     },
     "919965e9953443cb8366be26c6435b8f": {
      "model_module": "@jupyter-widgets/controls",
      "model_module_version": "1.2.0",
      "model_name": "IntSliderModel",
      "state": {
       "continuous_update": false,
       "description": "DPI (resolution):",
       "layout": "IPY_MODEL_d391a542eb154a8f976f70192d816b53",
       "max": 500,
       "min": 100,
       "style": "IPY_MODEL_1f36b9b2b18846de9bb8e9c60445f3cd",
       "value": 300
      }
     },
     "91d018b0c50a42a3ad9699c58b3c16ea": {
      "model_module": "@jupyter-widgets/controls",
      "model_module_version": "1.2.0",
      "model_name": "FloatSliderModel",
      "state": {
       "continuous_update": false,
       "description": "Bubble Opacity:",
       "layout": "IPY_MODEL_51aad100766c496397ba998cdedc03e0",
       "max": 1,
       "readout_format": ".1f",
       "step": 0.1,
       "style": "IPY_MODEL_dcd03308b05542d9a2ccef6eaee46fc1",
       "value": 0.5
      }
     },
     "92e7ecf1b75d493bb209130d907d9789": {
      "model_module": "@jupyter-widgets/controls",
      "model_module_version": "1.2.0",
      "model_name": "IntSliderModel",
      "state": {
       "continuous_update": false,
       "description": "Number of Legend Columns:",
       "layout": "IPY_MODEL_a5e47502d02842a3b59352b4bb1543ad",
       "max": 3,
       "min": 1,
       "style": "IPY_MODEL_9dc6de970eac4d33aec5471189779d33",
       "value": 1
      }
     },
     "930433d00e4e467aa5d7e2a9bf519a68": {
      "model_module": "@jupyter-widgets/base",
      "model_module_version": "1.0.0",
      "model_name": "LayoutModel",
      "state": {}
     },
     "94041037c4984306a39e2e3c519602e6": {
      "model_module": "@jupyter-widgets/base",
      "model_module_version": "1.0.0",
      "model_name": "LayoutModel",
      "state": {}
     },
     "945974a230824d69a38a83944d843970": {
      "model_module": "@jupyter-widgets/controls",
      "model_module_version": "1.2.0",
      "model_name": "DescriptionStyleModel",
      "state": {
       "description_width": "initial"
      }
     },
     "94774508857a4904bf9da3b8d4aadace": {
      "model_module": "@jupyter-widgets/controls",
      "model_module_version": "1.2.0",
      "model_name": "SliderStyleModel",
      "state": {
       "description_width": "initial"
      }
     },
     "94a880a70bfd4aacb4ba03bf1d59ae92": {
      "model_module": "@jupyter-widgets/controls",
      "model_module_version": "1.2.0",
      "model_name": "ButtonStyleModel",
      "state": {}
     },
     "94aa4b7816374ba7a9489cb605577512": {
      "model_module": "@jupyter-widgets/controls",
      "model_module_version": "1.2.0",
      "model_name": "RadioButtonsModel",
      "state": {
       "_options_labels": [
        "True",
        "False"
       ],
       "description": "Title On:",
       "index": 0,
       "layout": "IPY_MODEL_3294e7b317744b7e9c1507895e98ad3d",
       "style": "IPY_MODEL_728a2b15464f4a55a7a63cea57e12d1d"
      }
     },
     "954d4b46a2dc4468a4356d14cf7dfd28": {
      "model_module": "@jupyter-widgets/base",
      "model_module_version": "1.0.0",
      "model_name": "LayoutModel",
      "state": {}
     },
     "95dee208edd845d69214f79f93d9c024": {
      "model_module": "@jupyter-widgets/base",
      "model_module_version": "1.0.0",
      "model_name": "LayoutModel",
      "state": {}
     },
     "965765d4bde74a61ab38fbd5857b8b83": {
      "model_module": "@jupyter-widgets/controls",
      "model_module_version": "1.2.0",
      "model_name": "TextModel",
      "state": {
       "description": "Island Size Thresh:",
       "layout": "IPY_MODEL_fed9b0e964f04423bea13b87a9116a31",
       "placeholder": "Type a island thresh",
       "style": "IPY_MODEL_4a4c05f3541848adac12987f9423700e",
       "value": "5000"
      }
     },
     "969b72f9f7d64ad4b854e9a4fe99223a": {
      "model_module": "@jupyter-widgets/controls",
      "model_module_version": "1.2.0",
      "model_name": "DropdownModel",
      "state": {
       "_options_labels": [
        "capacity",
        "alphabetical"
       ],
       "description": "Sort Legend By:",
       "index": 0,
       "layout": "IPY_MODEL_bf2f14644d2d4417ba9ed3b44c01d22f",
       "style": "IPY_MODEL_59420138f5c443688f9971e1e65bcff6"
      }
     },
     "970ad0e45ac349c7a3e9897195736587": {
      "model_module": "@jupyter-widgets/controls",
      "model_module_version": "1.2.0",
      "model_name": "TextModel",
      "state": {
       "description": "Island Size Thresh:",
       "layout": "IPY_MODEL_4ac96ec979fe47639f251dcd613730b4",
       "placeholder": "Type a island thresh",
       "style": "IPY_MODEL_22c9263fba2c4d72b6b55ecd9fa2e1ec",
       "value": "5000"
      }
     },
     "97389ded853a41938f1ce898908aee11": {
      "model_module": "@jupyter-widgets/controls",
      "model_module_version": "1.2.0",
      "model_name": "IntSliderModel",
      "state": {
       "continuous_update": false,
       "description": "DPI (resolution):",
       "layout": "IPY_MODEL_7da1bcbd095e4333bd52e2821c255a5a",
       "max": 500,
       "min": 100,
       "style": "IPY_MODEL_8e46a15b7e9248189c4bb5ecc5556f95",
       "value": 300
      }
     },
     "97eef8891cae42d684ad21deba43532c": {
      "model_module": "@jupyter-widgets/base",
      "model_module_version": "1.0.0",
      "model_name": "LayoutModel",
      "state": {}
     },
     "98204c696dfb42f98ed606d3ba4d4542": {
      "model_module": "@jupyter-widgets/controls",
      "model_module_version": "1.2.0",
      "model_name": "DescriptionStyleModel",
      "state": {
       "description_width": "initial"
      }
     },
     "984196380b85499aa6ce0c4ea9b447c2": {
      "model_module": "@jupyter-widgets/controls",
      "model_module_version": "1.2.0",
      "model_name": "TextModel",
      "state": {
       "description": "Show Populated Places:",
       "layout": "IPY_MODEL_247bf49424d84e15a01c99dc430e7c52",
       "placeholder": "Type something",
       "style": "IPY_MODEL_d9d2ad81508b43acadb296279c19b1a4",
       "value": "False"
      }
     },
     "98ab47b8023343c698deacbc4ab4cbe9": {
      "model_module": "@jupyter-widgets/base",
      "model_module_version": "1.0.0",
      "model_name": "LayoutModel",
      "state": {}
     },
     "98b3e8a75cb244b1a50b5bff1eb0aff1": {
      "model_module": "@jupyter-widgets/base",
      "model_module_version": "1.0.0",
      "model_name": "LayoutModel",
      "state": {}
     },
     "98c2a89be7a043c4b91ced5cf7d22f51": {
      "model_module": "@jupyter-widgets/base",
      "model_module_version": "1.0.0",
      "model_name": "LayoutModel",
      "state": {
       "height": "80px",
       "width": "70%"
      }
     },
     "98f59c058828408fb3864c18e80c79f9": {
      "model_module": "@jupyter-widgets/base",
      "model_module_version": "1.0.0",
      "model_name": "LayoutModel",
      "state": {}
     },
     "992f0c50e1034e45b1dc3da8be7496e4": {
      "model_module": "@jupyter-widgets/base",
      "model_module_version": "1.0.0",
      "model_name": "LayoutModel",
      "state": {}
     },
     "99404f0ff0eb411485db84bbde2c57fd": {
      "model_module": "@jupyter-widgets/base",
      "model_module_version": "1.0.0",
      "model_name": "LayoutModel",
      "state": {}
     },
     "9972794d884c4fc7a27ee6ccc3515cdf": {
      "model_module": "@jupyter-widgets/controls",
      "model_module_version": "1.2.0",
      "model_name": "IntSliderModel",
      "state": {
       "continuous_update": false,
       "description": "DPI (resolution):",
       "layout": "IPY_MODEL_d2ccbb5118974813a765fa611b59d555",
       "max": 500,
       "min": 100,
       "style": "IPY_MODEL_c54ce305678e4aad99e2ebb611367999",
       "value": 300
      }
     },
     "999d9f60b477495788ea812ca406f577": {
      "model_module": "@jupyter-widgets/controls",
      "model_module_version": "1.2.0",
      "model_name": "FloatSliderModel",
      "state": {
       "continuous_update": false,
       "description": "Zoom Level:",
       "layout": "IPY_MODEL_f7a594726e20497d9ac9df38db0b7142",
       "max": 3,
       "min": 0.5,
       "readout_format": ".1f",
       "step": 0.1,
       "style": "IPY_MODEL_70d9c24df54746ce9b537ced9ed30285",
       "value": 1
      }
     },
     "99a64a9c93d84a17a5c1384644a1ecc3": {
      "model_module": "@jupyter-widgets/controls",
      "model_module_version": "1.2.0",
      "model_name": "ButtonModel",
      "state": {
       "description": "Update Plot",
       "icon": "check",
       "layout": "IPY_MODEL_b9c568d290684f7aa4671947d77f8e21",
       "style": "IPY_MODEL_feb06c0c3e894536819e43823020e7db",
       "tooltip": "Update Plot"
      }
     },
     "9a37aa0749964f879c61b493ec502d2d": {
      "model_module": "@jupyter-widgets/controls",
      "model_module_version": "1.2.0",
      "model_name": "TextModel",
      "state": {
       "description": "Path to save to:",
       "layout": "IPY_MODEL_9c4e3f2ec7b34d3abd88281338858839",
       "placeholder": "Type the complete path to save to",
       "style": "IPY_MODEL_8dbda3e6b9744783af3803ca4a4c938e",
       "value": "/Users/skoebric/Downloads/XYZ.png"
      }
     },
     "9a42e3ed21f14285a8724d7fb2be872a": {
      "model_module": "@jupyter-widgets/controls",
      "model_module_version": "1.2.0",
      "model_name": "DescriptionStyleModel",
      "state": {
       "description_width": "initial"
      }
     },
     "9a93d7bdd7c94b129d96672b4b55ee04": {
      "model_module": "@jupyter-widgets/controls",
      "model_module_version": "1.2.0",
      "model_name": "ButtonStyleModel",
      "state": {}
     },
     "9ab1fe573e8445949f69aa4030771271": {
      "model_module": "@jupyter-widgets/controls",
      "model_module_version": "1.2.0",
      "model_name": "DescriptionStyleModel",
      "state": {
       "description_width": "initial"
      }
     },
     "9ad294fb6be14fd48999accff7b000e8": {
      "model_module": "@jupyter-widgets/controls",
      "model_module_version": "1.2.0",
      "model_name": "TextModel",
      "state": {
       "description": "Coordinate System:",
       "layout": "IPY_MODEL_f5c5c994833e40d9b8027e5ffcc60f0b",
       "placeholder": "Type something",
       "style": "IPY_MODEL_a289908436944fc2bf8b994e5148a33c",
       "value": "spherical"
      }
     },
     "9af10a1711da45a09bec923d20f35840": {
      "model_module": "@jupyter-widgets/controls",
      "model_module_version": "1.2.0",
      "model_name": "ButtonModel",
      "state": {
       "description": "Update Plot",
       "icon": "check",
       "layout": "IPY_MODEL_c07edbf484224ae492216cb79ac420f3",
       "style": "IPY_MODEL_b207f461bc514fe79cbede5ce596bf1a",
       "tooltip": "Update Plot"
      }
     },
     "9afbc86f13914158a03d293a830ee70d": {
      "model_module": "@jupyter-widgets/controls",
      "model_module_version": "1.2.0",
      "model_name": "SliderStyleModel",
      "state": {
       "description_width": "initial"
      }
     },
     "9afec400fca6418cb4cc9d595a955dca": {
      "model_module": "@jupyter-widgets/controls",
      "model_module_version": "1.2.0",
      "model_name": "SliderStyleModel",
      "state": {
       "description_width": "initial"
      }
     },
     "9b1a4d4bd6834951a050b5bd6eacc2ae": {
      "model_module": "@jupyter-widgets/controls",
      "model_module_version": "1.2.0",
      "model_name": "RadioButtonsModel",
      "state": {
       "_options_labels": [
        "True",
        "False"
       ],
       "description": "Title On:",
       "index": 0,
       "layout": "IPY_MODEL_e999d189a0b3431290a255ef963307c7",
       "style": "IPY_MODEL_2e67e284122e45f38820600135fbe5bc"
      }
     },
     "9b452957eec74de8b1ddfa0b9b970be7": {
      "model_module": "@jupyter-widgets/controls",
      "model_module_version": "1.2.0",
      "model_name": "RadioButtonsModel",
      "state": {
       "_options_labels": [
        "True",
        "False"
       ],
       "description": "Source On:",
       "index": 0,
       "layout": "IPY_MODEL_1b01a670083f45dbbf021c60c9dc7124",
       "style": "IPY_MODEL_6ce2c4a3778f49d1a8d43508ce4779d1"
      }
     },
     "9b904e2e6e9342e2852f6de2aa4f9ebb": {
      "model_module": "@jupyter-widgets/controls",
      "model_module_version": "1.2.0",
      "model_name": "FloatSliderModel",
      "state": {
       "continuous_update": false,
       "description": "Bubble Opacity:",
       "layout": "IPY_MODEL_02b8a3844d794aed9133f3180581b508",
       "max": 1,
       "readout_format": ".1f",
       "step": 0.1,
       "style": "IPY_MODEL_9c7c305d475e478ebea7ac75a3f593ba",
       "value": 0.5
      }
     },
     "9c4e3f2ec7b34d3abd88281338858839": {
      "model_module": "@jupyter-widgets/base",
      "model_module_version": "1.0.0",
      "model_name": "LayoutModel",
      "state": {}
     },
     "9c60bee8798a4e7f8c90d24960124e3c": {
      "model_module": "@jupyter-widgets/base",
      "model_module_version": "1.0.0",
      "model_name": "LayoutModel",
      "state": {}
     },
     "9c7c305d475e478ebea7ac75a3f593ba": {
      "model_module": "@jupyter-widgets/controls",
      "model_module_version": "1.2.0",
      "model_name": "SliderStyleModel",
      "state": {
       "description_width": "initial"
      }
     },
     "9c802342e3ef40c588c6d3260b452777": {
      "model_module": "@jupyter-widgets/controls",
      "model_module_version": "1.2.0",
      "model_name": "ToggleButtonsModel",
      "state": {
       "_options_labels": [
        "Simple",
        "Mixed",
        "Complex"
       ],
       "button_style": "",
       "description": "Simplification Level:",
       "icons": [],
       "index": 1,
       "layout": "IPY_MODEL_9c60bee8798a4e7f8c90d24960124e3c",
       "style": "IPY_MODEL_e783fc82ca5b4b76b58945a2eb559b84",
       "tooltips": [
        "Renewables, Fossil, and Nuclear",
        "Solar, Wind, Hydro, Geothermal,Biomass, Wave and Tidal,\n Storage, Fossil, Nuclear",
        "Solar, Wind, Hydro, Geothermal,Biomass, Wave and Tidal,\n Storage, Fossil, Nuclear, Coal, Gas, Oil, Waste, Cogeneration"
       ]
      }
     },
     "9da689946cf74d4bba483f5465628bd3": {
      "model_module": "@jupyter-widgets/controls",
      "model_module_version": "1.2.0",
      "model_name": "DescriptionStyleModel",
      "state": {
       "description_width": "initial"
      }
     },
     "9dafbd9e184b45999d4a8ad3ee8480a6": {
      "model_module": "@jupyter-widgets/base",
      "model_module_version": "1.0.0",
      "model_name": "LayoutModel",
      "state": {}
     },
     "9dc6de970eac4d33aec5471189779d33": {
      "model_module": "@jupyter-widgets/controls",
      "model_module_version": "1.2.0",
      "model_name": "SliderStyleModel",
      "state": {
       "description_width": "initial"
      }
     },
     "9dd8c5c681444041b02f2b2084169202": {
      "model_module": "@jupyter-widgets/controls",
      "model_module_version": "1.2.0",
      "model_name": "TextModel",
      "state": {
       "description": "Country Precursor:",
       "layout": "IPY_MODEL_907594db91324fe2b8859881494a224e",
       "placeholder": "Precursor to Country Name",
       "style": "IPY_MODEL_b8b7370c21f64cfab016be68ddd42ccf"
      }
     },
     "9de1e3f5b2944f1b984cae49530eacd9": {
      "model_module": "@jupyter-widgets/controls",
      "model_module_version": "1.2.0",
      "model_name": "DescriptionStyleModel",
      "state": {
       "description_width": "initial"
      }
     },
     "9e1f28bc71734eaea6acf9896583ef44": {
      "model_module": "@jupyter-widgets/controls",
      "model_module_version": "1.2.0",
      "model_name": "SliderStyleModel",
      "state": {
       "description_width": "initial"
      }
     },
     "9eda990a19bc46bc9e1a80b3b86afc1f": {
      "model_module": "@jupyter-widgets/controls",
      "model_module_version": "1.2.0",
      "model_name": "IntSliderModel",
      "state": {
       "continuous_update": false,
       "description": "DPI (resolution):",
       "layout": "IPY_MODEL_125ef0dd2b614e468111d3c28974076a",
       "max": 500,
       "min": 100,
       "style": "IPY_MODEL_cafa6b702bdb4ce68bee8de02b64990c",
       "value": 300
      }
     },
     "9ee4a3134ea94993a80f3cc3359b9ef9": {
      "model_module": "@jupyter-widgets/controls",
      "model_module_version": "1.2.0",
      "model_name": "TextModel",
      "state": {
       "description": "Path to save to:",
       "layout": "IPY_MODEL_5524dbc4c70c480aa0dab21d8e09d233",
       "placeholder": "Type the complete path to save to",
       "style": "IPY_MODEL_858a00cf01134bdba3f767756a2be961",
       "value": "/Users/skoebric/Downloads/XYZ.png"
      }
     },
     "9f183a11da9847ce8956b6caa06ab79a": {
      "model_module": "@jupyter-widgets/controls",
      "model_module_version": "1.2.0",
      "model_name": "DescriptionStyleModel",
      "state": {
       "description_width": "initial"
      }
     },
     "9f9a7d0ce4a342a38f869b5ce296e39f": {
      "model_module": "@jupyter-widgets/controls",
      "model_module_version": "1.2.0",
      "model_name": "RadioButtonsModel",
      "state": {
       "_options_labels": [
        "True",
        "False"
       ],
       "description": "Source On:",
       "index": 0,
       "layout": "IPY_MODEL_5c4184c4faca424aa612d6865e36e44d",
       "style": "IPY_MODEL_eb59f877b3764bfab9c12b83637a8030"
      }
     },
     "9fb7ca89aa5147aebc0fe99c3c35b53e": {
      "model_module": "@jupyter-widgets/controls",
      "model_module_version": "1.2.0",
      "model_name": "IntSliderModel",
      "state": {
       "continuous_update": false,
       "description": "DPI (resolution):",
       "layout": "IPY_MODEL_61b5e42241674c2fa15fe9371c2b4406",
       "max": 500,
       "min": 100,
       "style": "IPY_MODEL_9afec400fca6418cb4cc9d595a955dca",
       "value": 300
      }
     },
     "9fe14b112e7449779121ffe9bf720456": {
      "model_module": "@jupyter-widgets/controls",
      "model_module_version": "1.2.0",
      "model_name": "ToggleButtonsModel",
      "state": {
       "_options_labels": [
        "Simple",
        "Mixed",
        "Complex"
       ],
       "button_style": "",
       "description": "Simplification Level:",
       "icons": [],
       "index": 1,
       "layout": "IPY_MODEL_5ee429b1adfe45dfa6b883d23bdd80c2",
       "style": "IPY_MODEL_f540d8b53d98419490e948fcc147f6fb",
       "tooltips": [
        "Renewables, Fossil, and Nuclear",
        "Solar, Wind, Hydro, Geothermal,Biomass, Wave and Tidal,\n Storage, Fossil, Nuclear",
        "Solar, Wind, Hydro, Geothermal,Biomass, Wave and Tidal,\n Storage, Fossil, Nuclear, Coal, Gas, Oil, Waste, Cogeneration"
       ]
      }
     },
     "a0167f6a4d574f0ab63d52658e485f1d": {
      "model_module": "@jupyter-widgets/controls",
      "model_module_version": "1.2.0",
      "model_name": "DescriptionStyleModel",
      "state": {
       "description_width": "initial"
      }
     },
     "a0a10ec583144003a6dbcb332f1aae7c": {
      "model_module": "@jupyter-widgets/controls",
      "model_module_version": "1.2.0",
      "model_name": "DescriptionStyleModel",
      "state": {
       "description_width": "initial"
      }
     },
     "a0e6de593c864e3baaeb47f27630b6b4": {
      "model_module": "@jupyter-widgets/base",
      "model_module_version": "1.0.0",
      "model_name": "LayoutModel",
      "state": {}
     },
     "a1021b79a44d4b4bae394d1c0e5e6c25": {
      "model_module": "@jupyter-widgets/controls",
      "model_module_version": "1.2.0",
      "model_name": "DescriptionStyleModel",
      "state": {
       "description_width": "initial"
      }
     },
     "a120d80849bd4298be4834c88a259bfb": {
      "model_module": "@jupyter-widgets/controls",
      "model_module_version": "1.2.0",
      "model_name": "DescriptionStyleModel",
      "state": {
       "description_width": ""
      }
     },
     "a1a6f214584d40f788f8c132f7a2d77f": {
      "model_module": "@jupyter-widgets/base",
      "model_module_version": "1.0.0",
      "model_name": "LayoutModel",
      "state": {}
     },
     "a1eb4647c3c04621a1f88dd90de401be": {
      "model_module": "@jupyter-widgets/controls",
      "model_module_version": "1.2.0",
      "model_name": "DescriptionStyleModel",
      "state": {
       "description_width": "initial"
      }
     },
     "a22c4e081b5f414d878555709e742130": {
      "model_module": "@jupyter-widgets/base",
      "model_module_version": "1.0.0",
      "model_name": "LayoutModel",
      "state": {
       "height": "80px",
       "width": "70%"
      }
     },
     "a244dc64e0fb422f912817f828bf8790": {
      "model_module": "@jupyter-widgets/controls",
      "model_module_version": "1.2.0",
      "model_name": "DescriptionStyleModel",
      "state": {
       "description_width": "initial"
      }
     },
     "a289908436944fc2bf8b994e5148a33c": {
      "model_module": "@jupyter-widgets/controls",
      "model_module_version": "1.2.0",
      "model_name": "DescriptionStyleModel",
      "state": {
       "description_width": "initial"
      }
     },
     "a28fc1c97c8a4568af8e55671a1bc0e4": {
      "model_module": "@jupyter-widgets/controls",
      "model_module_version": "1.2.0",
      "model_name": "IntSliderModel",
      "state": {
       "continuous_update": false,
       "description": "DPI (resolution):",
       "layout": "IPY_MODEL_aabada7d9ad0471eaeddd4a526d2cfcc",
       "max": 500,
       "min": 100,
       "style": "IPY_MODEL_cb19b72f892e40299b2459889a02df3f",
       "value": 300
      }
     },
     "a2aeac8fd2a44505a83688aa0828e4ef": {
      "model_module": "@jupyter-widgets/controls",
      "model_module_version": "1.2.0",
      "model_name": "SliderStyleModel",
      "state": {
       "description_width": "initial"
      }
     },
     "a3053ac4dc474a35bfaa08902b8df08c": {
      "model_module": "@jupyter-widgets/controls",
      "model_module_version": "1.2.0",
      "model_name": "DescriptionStyleModel",
      "state": {
       "description_width": ""
      }
     },
     "a324fd71c2ca47ed8fc34bd529c3a9b9": {
      "model_module": "@jupyter-widgets/base",
      "model_module_version": "1.0.0",
      "model_name": "LayoutModel",
      "state": {}
     },
     "a333d0bb23d44307a5ce8f0b62288f7e": {
      "model_module": "@jupyter-widgets/controls",
      "model_module_version": "1.2.0",
      "model_name": "DropdownModel",
      "state": {
       "_options_labels": [
        "capacity",
        "alphabetical"
       ],
       "description": "Sort Legend By:",
       "index": 0,
       "layout": "IPY_MODEL_f70332aea0de48aa804be93b1583d5d9",
       "style": "IPY_MODEL_4ce81b013d4141ad92803eb4d0952a3f"
      }
     },
     "a33747bcdd354e29ad2026dc6e2fb03a": {
      "model_module": "@jupyter-widgets/controls",
      "model_module_version": "1.2.0",
      "model_name": "DescriptionStyleModel",
      "state": {
       "description_width": "initial"
      }
     },
     "a338b1a1aeb94e9bb157cf8dc10a5c2c": {
      "model_module": "@jupyter-widgets/controls",
      "model_module_version": "1.2.0",
      "model_name": "RadioButtonsModel",
      "state": {
       "_options_labels": [
        "True",
        "False"
       ],
       "description": "Title On:",
       "index": 0,
       "layout": "IPY_MODEL_a1a6f214584d40f788f8c132f7a2d77f",
       "style": "IPY_MODEL_21a47d71fcd54e3cb48a6a7c6a4eb009"
      }
     },
     "a3442ce13948432e8cc77853bf254d31": {
      "model_module": "@jupyter-widgets/controls",
      "model_module_version": "1.2.0",
      "model_name": "DescriptionStyleModel",
      "state": {
       "description_width": "initial"
      }
     },
     "a3c95242761945adb32c6e5ef2517b36": {
      "model_module": "@jupyter-widgets/base",
      "model_module_version": "1.0.0",
      "model_name": "LayoutModel",
      "state": {}
     },
     "a3e8128f25eb4d07b7a0c1d9cb22782f": {
      "model_module": "@jupyter-widgets/base",
      "model_module_version": "1.0.0",
      "model_name": "LayoutModel",
      "state": {}
     },
     "a43deb5f4ea34220bc499ac5398b8bea": {
      "model_module": "@jupyter-widgets/controls",
      "model_module_version": "1.2.0",
      "model_name": "SliderStyleModel",
      "state": {
       "description_width": "initial"
      }
     },
     "a44dd498dc6747bd86857fb7d5f9df5b": {
      "model_module": "@jupyter-widgets/base",
      "model_module_version": "1.0.0",
      "model_name": "LayoutModel",
      "state": {
       "height": "80px",
       "width": "70%"
      }
     },
     "a4ccc02fce1a4f9f9d81d431a50a657c": {
      "model_module": "@jupyter-widgets/base",
      "model_module_version": "1.0.0",
      "model_name": "LayoutModel",
      "state": {
       "height": "80px",
       "width": "70%"
      }
     },
     "a4e48d1735f14553afb9748d3959d7c5": {
      "model_module": "@jupyter-widgets/controls",
      "model_module_version": "1.2.0",
      "model_name": "DescriptionStyleModel",
      "state": {
       "description_width": "initial"
      }
     },
     "a4e6fa48d7034827b0eeed1d284528f2": {
      "model_module": "@jupyter-widgets/base",
      "model_module_version": "1.0.0",
      "model_name": "LayoutModel",
      "state": {}
     },
     "a53713030ab54ac3973e0aca89a09285": {
      "model_module": "@jupyter-widgets/controls",
      "model_module_version": "1.2.0",
      "model_name": "DescriptionStyleModel",
      "state": {
       "description_width": ""
      }
     },
     "a5408c6bf9b64b219918168a2f63d21a": {
      "model_module": "@jupyter-widgets/base",
      "model_module_version": "1.0.0",
      "model_name": "LayoutModel",
      "state": {}
     },
     "a5aee77e9be945e6bf97c2cc42c614ae": {
      "model_module": "@jupyter-widgets/base",
      "model_module_version": "1.0.0",
      "model_name": "LayoutModel",
      "state": {
       "height": "80px",
       "width": "70%"
      }
     },
     "a5b2b01196fc4b0a9dcf4b8f0cd41b48": {
      "model_module": "@jupyter-widgets/controls",
      "model_module_version": "1.2.0",
      "model_name": "DescriptionStyleModel",
      "state": {
       "description_width": "initial"
      }
     },
     "a5d7e5e0ce7b41759cc30c300610be12": {
      "model_module": "@jupyter-widgets/controls",
      "model_module_version": "1.2.0",
      "model_name": "IntSliderModel",
      "state": {
       "continuous_update": false,
       "description": "Number of Legend Columns:",
       "layout": "IPY_MODEL_992f0c50e1034e45b1dc3da8be7496e4",
       "max": 3,
       "min": 1,
       "style": "IPY_MODEL_3ca480bca4ff411dbd12be7919d1794d",
       "value": 2
      }
     },
     "a5e47502d02842a3b59352b4bb1543ad": {
      "model_module": "@jupyter-widgets/base",
      "model_module_version": "1.0.0",
      "model_name": "LayoutModel",
      "state": {}
     },
     "a5e8082e719c403088f76e1726a3f122": {
      "model_module": "@jupyter-widgets/base",
      "model_module_version": "1.0.0",
      "model_name": "LayoutModel",
      "state": {}
     },
     "a605d0d3081642aeb98a5b8209c792d3": {
      "model_module": "@jupyter-widgets/controls",
      "model_module_version": "1.2.0",
      "model_name": "DescriptionStyleModel",
      "state": {
       "description_width": "initial"
      }
     },
     "a636cd7d4e0b46c98f65a99800473e93": {
      "model_module": "@jupyter-widgets/controls",
      "model_module_version": "1.2.0",
      "model_name": "TextModel",
      "state": {
       "description": "Show Populated Places:",
       "layout": "IPY_MODEL_d33bf1712c6d49c8ac5f784b9f5de9cf",
       "placeholder": "Type something",
       "style": "IPY_MODEL_405e8db8d9c541d9803af2f491508344",
       "value": "False"
      }
     },
     "a63e995885b14af7bbc97b1997d0c21c": {
      "model_module": "@jupyter-widgets/controls",
      "model_module_version": "1.2.0",
      "model_name": "ToggleButtonsStyleModel",
      "state": {
       "button_width": "",
       "description_width": "initial"
      }
     },
     "a69dfeb9353f46eeb8a47550bd0872d5": {
      "model_module": "@jupyter-widgets/controls",
      "model_module_version": "1.2.0",
      "model_name": "RadioButtonsModel",
      "state": {
       "_options_labels": [
        "True",
        "False"
       ],
       "description": "Source On:",
       "index": 0,
       "layout": "IPY_MODEL_e30950ab71bd49ac9d28a72aca63ae30",
       "style": "IPY_MODEL_d6495b8837214ad4adadf84426f38767"
      }
     },
     "a6e96b6d7a6c46e8b27d235feb08f811": {
      "model_module": "@jupyter-widgets/controls",
      "model_module_version": "1.2.0",
      "model_name": "SliderStyleModel",
      "state": {
       "description_width": "initial"
      }
     },
     "a6f9ade656444b998277083375215ae3": {
      "model_module": "@jupyter-widgets/controls",
      "model_module_version": "1.2.0",
      "model_name": "DescriptionStyleModel",
      "state": {
       "description_width": "initial"
      }
     },
     "a723d99706924ff7a0ca2a6ef05b9924": {
      "model_module": "@jupyter-widgets/controls",
      "model_module_version": "1.2.0",
      "model_name": "DescriptionStyleModel",
      "state": {
       "description_width": "initial"
      }
     },
     "a73447805f734cf69b11ffd71d5f0eb7": {
      "model_module": "@jupyter-widgets/base",
      "model_module_version": "1.0.0",
      "model_name": "LayoutModel",
      "state": {}
     },
     "a750b2ac585544419b8e637c8e885f82": {
      "model_module": "@jupyter-widgets/controls",
      "model_module_version": "1.2.0",
      "model_name": "DescriptionStyleModel",
      "state": {
       "description_width": "initial"
      }
     },
     "a75cd6f09ade4c7ea5e13e281c396515": {
      "model_module": "@jupyter-widgets/controls",
      "model_module_version": "1.2.0",
      "model_name": "TextModel",
      "state": {
       "description": "Country Precursor:",
       "layout": "IPY_MODEL_a4e6fa48d7034827b0eeed1d284528f2",
       "placeholder": "Precursor to Country Name",
       "style": "IPY_MODEL_bcc7f530d1b548389114436733f04acf"
      }
     },
     "a7a620d15f634ba8815eb9de486a7017": {
      "model_module": "@jupyter-widgets/controls",
      "model_module_version": "1.2.0",
      "model_name": "TextModel",
      "state": {
       "description": "Country Name:",
       "layout": "IPY_MODEL_c0c961584cf64801b091a11184b09a5c",
       "placeholder": "Type a country name",
       "style": "IPY_MODEL_f2b09f5367524c3099d70cfe9449e7bd",
       "value": "United States"
      }
     },
     "a863b76fab18496c98933ccd4bac1142": {
      "model_module": "@jupyter-widgets/controls",
      "model_module_version": "1.2.0",
      "model_name": "SliderStyleModel",
      "state": {
       "description_width": "initial"
      }
     },
     "a8711251c9d046a1ab72f2245c881504": {
      "model_module": "@jupyter-widgets/controls",
      "model_module_version": "1.2.0",
      "model_name": "TextModel",
      "state": {
       "description": "Show Populated Places:",
       "layout": "IPY_MODEL_da6cb41089c14cb089304d41439efd82",
       "placeholder": "Type something",
       "style": "IPY_MODEL_44db9351f5b24a118a8d9b80d4cd7037",
       "value": "False"
      }
     },
     "a8770e1796f948558471f81cc701f5d4": {
      "model_module": "@jupyter-widgets/controls",
      "model_module_version": "1.2.0",
      "model_name": "IntSliderModel",
      "state": {
       "continuous_update": false,
       "description": "Number of Legend Columns:",
       "layout": "IPY_MODEL_569beb1a07e4415682072e6e310c621b",
       "max": 3,
       "min": 1,
       "style": "IPY_MODEL_49587416d15b403da929243ec95d0239",
       "value": 1
      }
     },
     "a8989658fb2c4b2184ef232094269785": {
      "model_module": "@jupyter-widgets/base",
      "model_module_version": "1.0.0",
      "model_name": "LayoutModel",
      "state": {}
     },
     "a8af5a4db811411db959cbfd18d59ad6": {
      "model_module": "@jupyter-widgets/controls",
      "model_module_version": "1.2.0",
      "model_name": "SliderStyleModel",
      "state": {
       "description_width": "initial"
      }
     },
     "a8cd86d012424d2b8cfe370ad72fa4e2": {
      "model_module": "@jupyter-widgets/controls",
      "model_module_version": "1.2.0",
      "model_name": "DescriptionStyleModel",
      "state": {
       "description_width": "initial"
      }
     },
     "a8dd812c37ad4be6a9dc543837179910": {
      "model_module": "@jupyter-widgets/base",
      "model_module_version": "1.0.0",
      "model_name": "LayoutModel",
      "state": {}
     },
     "a930678d8e454f079abfebc16a36c414": {
      "model_module": "@jupyter-widgets/controls",
      "model_module_version": "1.2.0",
      "model_name": "FloatSliderModel",
      "state": {
       "continuous_update": false,
       "description": "Zoom Level:",
       "layout": "IPY_MODEL_ef9a73385d5e44f98d5b834775056728",
       "max": 3,
       "min": 0.5,
       "readout_format": ".1f",
       "step": 0.1,
       "style": "IPY_MODEL_fee5a3a78cf5455abb69bd438fb5452d",
       "value": 1.5
      }
     },
     "a939cb5b8d0a4653b7d92c7d38386a92": {
      "model_module": "@jupyter-widgets/controls",
      "model_module_version": "1.2.0",
      "model_name": "DescriptionStyleModel",
      "state": {
       "description_width": "initial"
      }
     },
     "a93b116b59be4920bb2e511b49aa7f77": {
      "model_module": "@jupyter-widgets/controls",
      "model_module_version": "1.2.0",
      "model_name": "DescriptionStyleModel",
      "state": {
       "description_width": "initial"
      }
     },
     "a9a77687b84b4893a550942d58efb7bc": {
      "model_module": "@jupyter-widgets/controls",
      "model_module_version": "1.2.0",
      "model_name": "DescriptionStyleModel",
      "state": {
       "description_width": "initial"
      }
     },
     "a9c8648bf0244eb8968597be79d0b4d7": {
      "model_module": "@jupyter-widgets/controls",
      "model_module_version": "1.2.0",
      "model_name": "SliderStyleModel",
      "state": {
       "description_width": "initial"
      }
     },
     "a9e64cc6a4e84f83b4a59dcb79cba70e": {
      "model_module": "@jupyter-widgets/base",
      "model_module_version": "1.0.0",
      "model_name": "LayoutModel",
      "state": {}
     },
     "aa0c8c304fd64d5bbc500e3871d5379e": {
      "model_module": "@jupyter-widgets/base",
      "model_module_version": "1.0.0",
      "model_name": "LayoutModel",
      "state": {}
     },
     "aa74d558ead4409d895abb1f344b6845": {
      "model_module": "@jupyter-widgets/controls",
      "model_module_version": "1.2.0",
      "model_name": "DropdownModel",
      "state": {
       "_options_labels": [
        "capacity",
        "alphabetical"
       ],
       "description": "Sort Legend By:",
       "index": 0,
       "layout": "IPY_MODEL_f6bf2976c79642f3830402d11dd6b9e4",
       "style": "IPY_MODEL_df9437f9b1c2441a817fbc9ecb9bf941"
      }
     },
     "aab3efea2d5640e2a6b5d7e2595daa56": {
      "model_module": "@jupyter-widgets/controls",
      "model_module_version": "1.2.0",
      "model_name": "FloatSliderModel",
      "state": {
       "continuous_update": false,
       "description": "Zoom Level:",
       "layout": "IPY_MODEL_f31d4c0391b64b51a873d640bcafe001",
       "max": 3,
       "min": 0.5,
       "readout_format": ".1f",
       "step": 0.1,
       "style": "IPY_MODEL_595665a428f7484780da6c27597354c3",
       "value": 1
      }
     },
     "aabada7d9ad0471eaeddd4a526d2cfcc": {
      "model_module": "@jupyter-widgets/base",
      "model_module_version": "1.0.0",
      "model_name": "LayoutModel",
      "state": {}
     },
     "aaf34c87bba44221b6121106ba60d5bd": {
      "model_module": "@jupyter-widgets/base",
      "model_module_version": "1.0.0",
      "model_name": "LayoutModel",
      "state": {}
     },
     "ab316b0fbe2b40b986bfb3ff82e3a75c": {
      "model_module": "@jupyter-widgets/controls",
      "model_module_version": "1.2.0",
      "model_name": "IntSliderModel",
      "state": {
       "continuous_update": false,
       "description": "DPI (resolution):",
       "layout": "IPY_MODEL_628264a9983647099c8512f38619c2ce",
       "max": 500,
       "min": 100,
       "style": "IPY_MODEL_f167a40f398a4c2793b3477378eb3946",
       "value": 300
      }
     },
     "ab6b047ec91946468db30ab6bd90b8d9": {
      "model_module": "@jupyter-widgets/controls",
      "model_module_version": "1.2.0",
      "model_name": "FloatSliderModel",
      "state": {
       "continuous_update": false,
       "description": "Bubble Opacity:",
       "layout": "IPY_MODEL_e6c3ac873f0846c19ca55edff40cdcf0",
       "max": 1,
       "readout_format": ".1f",
       "step": 0.1,
       "style": "IPY_MODEL_7618737d939c4e36b0b4f5b7bb048297",
       "value": 0.5
      }
     },
     "ab894b1071364719b9406ed1a84328e0": {
      "model_module": "@jupyter-widgets/controls",
      "model_module_version": "1.2.0",
      "model_name": "DescriptionStyleModel",
      "state": {
       "description_width": "initial"
      }
     },
     "abd364332a434779b5017979a59c2f17": {
      "model_module": "@jupyter-widgets/controls",
      "model_module_version": "1.2.0",
      "model_name": "TextModel",
      "state": {
       "description": "Country Name:",
       "layout": "IPY_MODEL_d683fbabafd74faba901db1733ae2d36",
       "placeholder": "Type a country name",
       "style": "IPY_MODEL_601ddb9105db4ca6b63de66f3ef64719",
       "value": "India"
      }
     },
     "ad48dda1a9444b19b3047c773600afef": {
      "model_module": "@jupyter-widgets/controls",
      "model_module_version": "1.2.0",
      "model_name": "DescriptionStyleModel",
      "state": {
       "description_width": "initial"
      }
     },
     "ad6d0de5bae64a318a0c6b37b38dd715": {
      "model_module": "@jupyter-widgets/base",
      "model_module_version": "1.0.0",
      "model_name": "LayoutModel",
      "state": {}
     },
     "add5aca5680448eaaf7390da7e82d6ad": {
      "model_module": "@jupyter-widgets/controls",
      "model_module_version": "1.2.0",
      "model_name": "IntSliderModel",
      "state": {
       "continuous_update": false,
       "description": "Number of Legend Columns:",
       "layout": "IPY_MODEL_de2ffcf7a6554d4bb99b5b968ea338f0",
       "max": 3,
       "min": 1,
       "style": "IPY_MODEL_1a4944b730414972b8e78ccc5f174728",
       "value": 1
      }
     },
     "ade1275f884b4e1da9e7f726b20d9fbe": {
      "model_module": "@jupyter-widgets/controls",
      "model_module_version": "1.2.0",
      "model_name": "ButtonStyleModel",
      "state": {}
     },
     "ae3b3f6fbb1a4b26b0ffe7d4b9f72de8": {
      "model_module": "@jupyter-widgets/controls",
      "model_module_version": "1.2.0",
      "model_name": "DescriptionStyleModel",
      "state": {
       "description_width": "initial"
      }
     },
     "ae52561084454e038e0f68c29a36f8b6": {
      "model_module": "@jupyter-widgets/controls",
      "model_module_version": "1.2.0",
      "model_name": "TextModel",
      "state": {
       "description": "Country Name:",
       "layout": "IPY_MODEL_954d4b46a2dc4468a4356d14cf7dfd28",
       "placeholder": "Type a country name",
       "style": "IPY_MODEL_072e9de93fec444f90439560c09f7403",
       "value": "India"
      }
     },
     "aebf6162d2004efaa9548fe1ed049bc4": {
      "model_module": "@jupyter-widgets/controls",
      "model_module_version": "1.2.0",
      "model_name": "TextModel",
      "state": {
       "description": "Path to save to:",
       "layout": "IPY_MODEL_2c63d68041474abb95e160f11c5270ff",
       "placeholder": "Type the complete path to save to",
       "style": "IPY_MODEL_8f7aedbe778345b09abadafdf90473fb",
       "value": "/Users/skoebric/Downloads/XYZ.png"
      }
     },
     "af3518d1dce044eeba6b79026046f753": {
      "model_module": "@jupyter-widgets/base",
      "model_module_version": "1.0.0",
      "model_name": "LayoutModel",
      "state": {}
     },
     "af380b0320c64e7ea2166fb8973ac6e4": {
      "model_module": "@jupyter-widgets/controls",
      "model_module_version": "1.2.0",
      "model_name": "ToggleButtonsModel",
      "state": {
       "_options_labels": [
        "Simple",
        "Mixed",
        "Complex"
       ],
       "button_style": "",
       "description": "Simplification Level:",
       "icons": [],
       "index": 1,
       "layout": "IPY_MODEL_af3518d1dce044eeba6b79026046f753",
       "style": "IPY_MODEL_4ab81f5bc0784995b4845a8d39b21895",
       "tooltips": [
        "Renewables, Fossil, and Nuclear",
        "Solar, Wind, Hydro, Geothermal,Biomass, Wave and Tidal,\n Storage, Fossil, Nuclear",
        "Solar, Wind, Hydro, Geothermal,Biomass, Wave and Tidal,\n Storage, Fossil, Nuclear, Coal, Gas, Oil, Waste, Cogeneration"
       ]
      }
     },
     "af5ff9162ad7415183addff3ecb4d46f": {
      "model_module": "@jupyter-widgets/controls",
      "model_module_version": "1.2.0",
      "model_name": "TextModel",
      "state": {
       "description": "Country Name:",
       "layout": "IPY_MODEL_7a48b50215ea42b6bb1f7187a472844c",
       "placeholder": "Type a country name",
       "style": "IPY_MODEL_a0a10ec583144003a6dbcb332f1aae7c",
       "value": "India"
      }
     },
     "b02c35743def4136a7294be2dd34fb32": {
      "model_module": "@jupyter-widgets/base",
      "model_module_version": "1.0.0",
      "model_name": "LayoutModel",
      "state": {
       "height": "80px",
       "width": "70%"
      }
     },
     "b08ced56b4954f1cb7bbabd23749f4f0": {
      "model_module": "@jupyter-widgets/controls",
      "model_module_version": "1.2.0",
      "model_name": "SliderStyleModel",
      "state": {
       "description_width": "initial"
      }
     },
     "b1433046e48245baa42f8d7468e62276": {
      "model_module": "@jupyter-widgets/controls",
      "model_module_version": "1.2.0",
      "model_name": "TextModel",
      "state": {
       "description": "Country Name:",
       "layout": "IPY_MODEL_beb52625b9d14e66987e5e618a9500d8",
       "placeholder": "Type a country name",
       "style": "IPY_MODEL_75d38b2429324837a69e0a1ce0e2e67e",
       "value": "India"
      }
     },
     "b161b2c71ae84140b2a28fa9a32b4ca5": {
      "model_module": "@jupyter-widgets/base",
      "model_module_version": "1.0.0",
      "model_name": "LayoutModel",
      "state": {}
     },
     "b16b186596f94f9d8a66c90765ffffff": {
      "model_module": "@jupyter-widgets/base",
      "model_module_version": "1.0.0",
      "model_name": "LayoutModel",
      "state": {}
     },
     "b1f880ae0bfc46d0a77a3bdc3778a66f": {
      "model_module": "@jupyter-widgets/controls",
      "model_module_version": "1.2.0",
      "model_name": "TextModel",
      "state": {
       "description": "Path to save to:",
       "layout": "IPY_MODEL_ffd8beec813f443c97b3b531e32b7276",
       "placeholder": "Type the complete path to save to",
       "style": "IPY_MODEL_bb732c95c6634e479dfba3e651852210",
       "value": "/Users/skoebric/Downloads/XYZ.png"
      }
     },
     "b207f461bc514fe79cbede5ce596bf1a": {
      "model_module": "@jupyter-widgets/controls",
      "model_module_version": "1.2.0",
      "model_name": "ButtonStyleModel",
      "state": {}
     },
     "b23296a9a88b43d4a4362728a2e5e7d4": {
      "model_module": "@jupyter-widgets/base",
      "model_module_version": "1.0.0",
      "model_name": "LayoutModel",
      "state": {}
     },
     "b259c64511254f6c9983b1c53e36bb40": {
      "model_module": "@jupyter-widgets/controls",
      "model_module_version": "1.2.0",
      "model_name": "TextModel",
      "state": {
       "description": "Coordinate System:",
       "layout": "IPY_MODEL_e35c40f31d924d1896a7938451d171eb",
       "placeholder": "Type something",
       "style": "IPY_MODEL_1d666bed73af4d91a2c32fdb664bccb0",
       "value": "spherical"
      }
     },
     "b25e6bc6a565463ab820d68e21598960": {
      "model_module": "@jupyter-widgets/controls",
      "model_module_version": "1.2.0",
      "model_name": "FloatSliderModel",
      "state": {
       "continuous_update": false,
       "description": "Zoom Level:",
       "layout": "IPY_MODEL_915cb366beb24be685222eef2fff64ff",
       "max": 3,
       "min": 0.5,
       "readout_format": ".1f",
       "step": 0.1,
       "style": "IPY_MODEL_c4c6b1a82b7846e1a6528c91e8bd35c9",
       "value": 1
      }
     },
     "b2602dc773cc4d6c85a1941d24befb80": {
      "model_module": "@jupyter-widgets/base",
      "model_module_version": "1.0.0",
      "model_name": "LayoutModel",
      "state": {}
     },
     "b263c17cfe444c0eb4ca8b10edc495b8": {
      "model_module": "@jupyter-widgets/controls",
      "model_module_version": "1.2.0",
      "model_name": "TextModel",
      "state": {
       "description": "Coordinate System:",
       "layout": "IPY_MODEL_65dfe841f64449c89cae0bf6c44b4813",
       "placeholder": "Type something",
       "style": "IPY_MODEL_98204c696dfb42f98ed606d3ba4d4542",
       "value": "spherical"
      }
     },
     "b2ac316393e7402489c2a7446409c3f6": {
      "model_module": "@jupyter-widgets/controls",
      "model_module_version": "1.2.0",
      "model_name": "DescriptionStyleModel",
      "state": {
       "description_width": ""
      }
     },
     "b2c95b5512f0495b8b5ac6915c5fb615": {
      "model_module": "@jupyter-widgets/controls",
      "model_module_version": "1.2.0",
      "model_name": "DescriptionStyleModel",
      "state": {
       "description_width": "initial"
      }
     },
     "b2d829bdcc84405f9f5a429072d068b9": {
      "model_module": "@jupyter-widgets/controls",
      "model_module_version": "1.2.0",
      "model_name": "ButtonStyleModel",
      "state": {}
     },
     "b301360ef3c2432f827ca714817d9f4a": {
      "model_module": "@jupyter-widgets/controls",
      "model_module_version": "1.2.0",
      "model_name": "SliderStyleModel",
      "state": {
       "description_width": "initial"
      }
     },
     "b32444897b4946c1a7b84177a01a023f": {
      "model_module": "@jupyter-widgets/controls",
      "model_module_version": "1.2.0",
      "model_name": "DescriptionStyleModel",
      "state": {
       "description_width": "initial"
      }
     },
     "b3286d14004c42a7afe1b295a786c8ef": {
      "model_module": "@jupyter-widgets/controls",
      "model_module_version": "1.2.0",
      "model_name": "ButtonModel",
      "state": {
       "description": "Update Plot",
       "icon": "check",
       "layout": "IPY_MODEL_2bed295554ad4e8fa3c0a8ce7917c1aa",
       "style": "IPY_MODEL_28f913c3920948f0bcc9aea000849396",
       "tooltip": "Update Plot"
      }
     },
     "b337b3b951a44b70a0fe1c3456192595": {
      "model_module": "@jupyter-widgets/base",
      "model_module_version": "1.0.0",
      "model_name": "LayoutModel",
      "state": {}
     },
     "b3bb7b926b324118b0e816f0d75a850e": {
      "model_module": "@jupyter-widgets/base",
      "model_module_version": "1.0.0",
      "model_name": "LayoutModel",
      "state": {}
     },
     "b42072e9f2e341f3b1d204410dbcfc7e": {
      "model_module": "@jupyter-widgets/base",
      "model_module_version": "1.0.0",
      "model_name": "LayoutModel",
      "state": {}
     },
     "b456539470ff45718b750450b197834c": {
      "model_module": "@jupyter-widgets/controls",
      "model_module_version": "1.2.0",
      "model_name": "DescriptionStyleModel",
      "state": {
       "description_width": "initial"
      }
     },
     "b4c7d918dfda48d492841fddeb96d0a7": {
      "model_module": "@jupyter-widgets/base",
      "model_module_version": "1.0.0",
      "model_name": "LayoutModel",
      "state": {}
     },
     "b59c135654f2426586e665344af4ffab": {
      "model_module": "@jupyter-widgets/controls",
      "model_module_version": "1.2.0",
      "model_name": "TextModel",
      "state": {
       "description": "Country Precursor:",
       "layout": "IPY_MODEL_feb8bb93fa6f4c508cce727cd79e2483",
       "placeholder": "Precursor to Country Name",
       "style": "IPY_MODEL_e1cf39037f774b868287526d2ab9d2d7"
      }
     },
     "b5dbae1c737243f7ac200e95afce4693": {
      "model_module": "@jupyter-widgets/controls",
      "model_module_version": "1.2.0",
      "model_name": "FloatSliderModel",
      "state": {
       "continuous_update": false,
       "description": "Bubble Opacity:",
       "layout": "IPY_MODEL_13644f9dd64e42ddb808a4e0125e4286",
       "max": 1,
       "readout_format": ".1f",
       "step": 0.1,
       "style": "IPY_MODEL_e3c38deb4606483ca95ce403a255fa02",
       "value": 0.5
      }
     },
     "b5ef4d43e4ff4d47b3451cd85d91eee7": {
      "model_module": "@jupyter-widgets/controls",
      "model_module_version": "1.2.0",
      "model_name": "DescriptionStyleModel",
      "state": {
       "description_width": "initial"
      }
     },
     "b5fb5748fb12484a8cc8b54b3df01bd3": {
      "model_module": "@jupyter-widgets/controls",
      "model_module_version": "1.2.0",
      "model_name": "SliderStyleModel",
      "state": {
       "description_width": "initial"
      }
     },
     "b61448a69b274ce5b6150bbb6a453db4": {
      "model_module": "@jupyter-widgets/controls",
      "model_module_version": "1.2.0",
      "model_name": "FloatSliderModel",
      "state": {
       "continuous_update": false,
       "description": "Zoom Level:",
       "layout": "IPY_MODEL_5fb8b70cecb74e27ad33eacffba239cd",
       "max": 3,
       "min": 0.5,
       "readout_format": ".1f",
       "step": 0.1,
       "style": "IPY_MODEL_288c77d0130d4650b1d94ad829f27b9c",
       "value": 1
      }
     },
     "b6834b9c61d04288a1fbe38a0249b998": {
      "model_module": "@jupyter-widgets/controls",
      "model_module_version": "1.2.0",
      "model_name": "TextModel",
      "state": {
       "description": "Country Precursor:",
       "layout": "IPY_MODEL_bc82f7b6521445e68c98ca812655c854",
       "placeholder": "Precursor to Country Name",
       "style": "IPY_MODEL_e6074492c7cc4040ad3cb358ae512305"
      }
     },
     "b69296eeb19b49b2bb6a27d6d0efdb6d": {
      "model_module": "@jupyter-widgets/base",
      "model_module_version": "1.0.0",
      "model_name": "LayoutModel",
      "state": {}
     },
     "b6e9fac3fc5c4d488529e69839187160": {
      "model_module": "@jupyter-widgets/controls",
      "model_module_version": "1.2.0",
      "model_name": "DescriptionStyleModel",
      "state": {
       "description_width": "initial"
      }
     },
     "b707193cffa84ab5a91b3283acbd194d": {
      "model_module": "@jupyter-widgets/base",
      "model_module_version": "1.0.0",
      "model_name": "LayoutModel",
      "state": {}
     },
     "b73c8681e52740e2bdaf0547e6323f38": {
      "model_module": "@jupyter-widgets/controls",
      "model_module_version": "1.2.0",
      "model_name": "SliderStyleModel",
      "state": {
       "description_width": "initial"
      }
     },
     "b75f567f81954bcfa937171f697a5784": {
      "model_module": "@jupyter-widgets/controls",
      "model_module_version": "1.2.0",
      "model_name": "ButtonModel",
      "state": {
       "description": "Update Plot",
       "icon": "check",
       "layout": "IPY_MODEL_98c2a89be7a043c4b91ced5cf7d22f51",
       "style": "IPY_MODEL_6b9437aecae346fd88c73379052f7c40",
       "tooltip": "Update Plot"
      }
     },
     "b808e4e3305340ffa9ceb48edc5fcc95": {
      "model_module": "@jupyter-widgets/base",
      "model_module_version": "1.0.0",
      "model_name": "LayoutModel",
      "state": {}
     },
     "b83ee6fc77f54aef8bb077a8fdf556b3": {
      "model_module": "@jupyter-widgets/controls",
      "model_module_version": "1.2.0",
      "model_name": "SliderStyleModel",
      "state": {
       "description_width": "initial"
      }
     },
     "b84625b13a1a48a1b917dd7a92afd5c4": {
      "model_module": "@jupyter-widgets/controls",
      "model_module_version": "1.2.0",
      "model_name": "SliderStyleModel",
      "state": {
       "description_width": "initial"
      }
     },
     "b8595dc3439044c0870fd71021cea30d": {
      "model_module": "@jupyter-widgets/base",
      "model_module_version": "1.0.0",
      "model_name": "LayoutModel",
      "state": {}
     },
     "b8b7370c21f64cfab016be68ddd42ccf": {
      "model_module": "@jupyter-widgets/controls",
      "model_module_version": "1.2.0",
      "model_name": "DescriptionStyleModel",
      "state": {
       "description_width": "initial"
      }
     },
     "b92f0fd626454d4490f1be3bb4eead2b": {
      "model_module": "@jupyter-widgets/base",
      "model_module_version": "1.0.0",
      "model_name": "LayoutModel",
      "state": {}
     },
     "b93174ef329240a3844b300d0b2f8103": {
      "model_module": "@jupyter-widgets/controls",
      "model_module_version": "1.2.0",
      "model_name": "TextModel",
      "state": {
       "description": "Show Populated Places:",
       "layout": "IPY_MODEL_4f257e99d3e949af99805896f656097d",
       "placeholder": "Type something",
       "style": "IPY_MODEL_6e5bca7f6dbb46a1a4dd72e0e5c4adb7",
       "value": "False"
      }
     },
     "b93dcbfb6e6f4148889bde039caca0bb": {
      "model_module": "@jupyter-widgets/controls",
      "model_module_version": "1.2.0",
      "model_name": "IntSliderModel",
      "state": {
       "continuous_update": false,
       "description": "Number of Legend Columns:",
       "layout": "IPY_MODEL_0b25fb4cc08e49b188bf27c269e29e2e",
       "max": 3,
       "min": 1,
       "style": "IPY_MODEL_f1b934e7f98a424b8ba4e3e18778dd69",
       "value": 1
      }
     },
     "b94fd70300e24429a98dd2119303d870": {
      "model_module": "@jupyter-widgets/controls",
      "model_module_version": "1.2.0",
      "model_name": "DescriptionStyleModel",
      "state": {
       "description_width": "initial"
      }
     },
     "b983357ef1ea48b2858517de320d32cb": {
      "model_module": "@jupyter-widgets/controls",
      "model_module_version": "1.2.0",
      "model_name": "DescriptionStyleModel",
      "state": {
       "description_width": "initial"
      }
     },
     "b9a6e3dfa8a541ce94cebe2c3edbba6e": {
      "model_module": "@jupyter-widgets/base",
      "model_module_version": "1.0.0",
      "model_name": "LayoutModel",
      "state": {}
     },
     "b9c568d290684f7aa4671947d77f8e21": {
      "model_module": "@jupyter-widgets/base",
      "model_module_version": "1.0.0",
      "model_name": "LayoutModel",
      "state": {
       "height": "80px",
       "width": "70%"
      }
     },
     "b9ff931e5d834687ad85c52e6c2b9a5c": {
      "model_module": "@jupyter-widgets/base",
      "model_module_version": "1.0.0",
      "model_name": "LayoutModel",
      "state": {}
     },
     "b9fff4a7667141e8a209317104a3246e": {
      "model_module": "@jupyter-widgets/controls",
      "model_module_version": "1.2.0",
      "model_name": "ToggleButtonsModel",
      "state": {
       "_options_labels": [
        "Simple",
        "Mixed",
        "Complex"
       ],
       "button_style": "",
       "description": "Simplification Level:",
       "icons": [],
       "index": 1,
       "layout": "IPY_MODEL_7331fc29195b4e3d8a637dd804a5f447",
       "style": "IPY_MODEL_5da5487b19ac40189443993e844cdb1b",
       "tooltips": [
        "Renewables, Fossil, and Nuclear",
        "Solar, Wind, Hydro, Geothermal,Biomass, Wave and Tidal,\n Storage, Fossil, Nuclear",
        "Solar, Wind, Hydro, Geothermal,Biomass, Wave and Tidal,\n Storage, Fossil, Nuclear, Coal, Gas, Oil, Waste, Cogeneration"
       ]
      }
     },
     "ba623c8bd12444cebf6412b616460b60": {
      "model_module": "@jupyter-widgets/base",
      "model_module_version": "1.0.0",
      "model_name": "LayoutModel",
      "state": {}
     },
     "ba8f446e4041414098dd3a33af91dd51": {
      "model_module": "@jupyter-widgets/base",
      "model_module_version": "1.0.0",
      "model_name": "LayoutModel",
      "state": {}
     },
     "baf52c92a86a4f92be7a33d246e85c0b": {
      "model_module": "@jupyter-widgets/controls",
      "model_module_version": "1.2.0",
      "model_name": "SliderStyleModel",
      "state": {
       "description_width": "initial"
      }
     },
     "bb04d6ef5455490f964556cd53d1d61d": {
      "model_module": "@jupyter-widgets/controls",
      "model_module_version": "1.2.0",
      "model_name": "TextModel",
      "state": {
       "description": "Island Size Thresh:",
       "layout": "IPY_MODEL_fc0bab5a38904c1fba240e51d9566eab",
       "placeholder": "Type a island thresh",
       "style": "IPY_MODEL_5b233d34e9214b0fb7e071a0f56f354f",
       "value": "200"
      }
     },
     "bb0c0a45afe04d779f78c99195697d15": {
      "model_module": "@jupyter-widgets/base",
      "model_module_version": "1.0.0",
      "model_name": "LayoutModel",
      "state": {}
     },
     "bb67daead6684a909bdc5f2cab587e18": {
      "model_module": "@jupyter-widgets/base",
      "model_module_version": "1.0.0",
      "model_name": "LayoutModel",
      "state": {}
     },
     "bb732c95c6634e479dfba3e651852210": {
      "model_module": "@jupyter-widgets/controls",
      "model_module_version": "1.2.0",
      "model_name": "DescriptionStyleModel",
      "state": {
       "description_width": "initial"
      }
     },
     "bbba558ee1f54b899eda207cef28a55a": {
      "model_module": "@jupyter-widgets/base",
      "model_module_version": "1.0.0",
      "model_name": "LayoutModel",
      "state": {}
     },
     "bbcbaf8962f849248fbf21cc15737f84": {
      "model_module": "@jupyter-widgets/base",
      "model_module_version": "1.0.0",
      "model_name": "LayoutModel",
      "state": {}
     },
     "bc79ac807728455794d3a4ac51ee278c": {
      "model_module": "@jupyter-widgets/base",
      "model_module_version": "1.0.0",
      "model_name": "LayoutModel",
      "state": {}
     },
     "bc82f7b6521445e68c98ca812655c854": {
      "model_module": "@jupyter-widgets/base",
      "model_module_version": "1.0.0",
      "model_name": "LayoutModel",
      "state": {}
     },
     "bc8a25cf061749beb89ad02fe478c9df": {
      "model_module": "@jupyter-widgets/controls",
      "model_module_version": "1.2.0",
      "model_name": "ToggleButtonsStyleModel",
      "state": {
       "button_width": "",
       "description_width": "initial"
      }
     },
     "bcc7f530d1b548389114436733f04acf": {
      "model_module": "@jupyter-widgets/controls",
      "model_module_version": "1.2.0",
      "model_name": "DescriptionStyleModel",
      "state": {
       "description_width": "initial"
      }
     },
     "bdc63513cbff4f5fbdda1d8d0cc26b7e": {
      "model_module": "@jupyter-widgets/base",
      "model_module_version": "1.0.0",
      "model_name": "LayoutModel",
      "state": {}
     },
     "be1276a719eb401895fc7dc04a1ff3ea": {
      "model_module": "@jupyter-widgets/controls",
      "model_module_version": "1.2.0",
      "model_name": "ButtonModel",
      "state": {
       "description": "Update Plot",
       "icon": "check",
       "layout": "IPY_MODEL_10538f39d0924e1b9bdea9ed7ad06192",
       "style": "IPY_MODEL_2aea0746ef12438da44b1095ea8889e7",
       "tooltip": "Update Plot"
      }
     },
     "be41e91c77bb4843a619e3aabfaf5a9d": {
      "model_module": "@jupyter-widgets/controls",
      "model_module_version": "1.2.0",
      "model_name": "TextModel",
      "state": {
       "description": "Country Name:",
       "layout": "IPY_MODEL_78e38ab79c874a74ab8522fd282f67fc",
       "placeholder": "Type a country name",
       "style": "IPY_MODEL_a5b2b01196fc4b0a9dcf4b8f0cd41b48",
       "value": "India"
      }
     },
     "be53b8bc5f394caeb37900e9b22bbc2f": {
      "model_module": "@jupyter-widgets/controls",
      "model_module_version": "1.2.0",
      "model_name": "FloatSliderModel",
      "state": {
       "continuous_update": false,
       "description": "Bubble Opacity:",
       "layout": "IPY_MODEL_404fa7aea082404abab4644e4b45f57d",
       "max": 1,
       "readout_format": ".1f",
       "step": 0.1,
       "style": "IPY_MODEL_ee316c314bfc4d6797074694ac08c047",
       "value": 0.5
      }
     },
     "bea89de17ac84342b747c1681188281d": {
      "model_module": "@jupyter-widgets/controls",
      "model_module_version": "1.2.0",
      "model_name": "ToggleButtonsStyleModel",
      "state": {
       "button_width": "",
       "description_width": "initial"
      }
     },
     "beb52625b9d14e66987e5e618a9500d8": {
      "model_module": "@jupyter-widgets/base",
      "model_module_version": "1.0.0",
      "model_name": "LayoutModel",
      "state": {}
     },
     "bf2f14644d2d4417ba9ed3b44c01d22f": {
      "model_module": "@jupyter-widgets/base",
      "model_module_version": "1.0.0",
      "model_name": "LayoutModel",
      "state": {}
     },
     "bf5a328e8a704319bafb1457c661a492": {
      "model_module": "@jupyter-widgets/controls",
      "model_module_version": "1.2.0",
      "model_name": "SliderStyleModel",
      "state": {
       "description_width": "initial"
      }
     },
     "c014af86e5ab4e8e8de3a1f4b82c887e": {
      "model_module": "@jupyter-widgets/controls",
      "model_module_version": "1.2.0",
      "model_name": "TextModel",
      "state": {
       "description": "Coordinate System:",
       "layout": "IPY_MODEL_4ec3e174451741f9b57b5e2bfa9fa7e4",
       "placeholder": "Type something",
       "style": "IPY_MODEL_cb1767cf107d458ab310d045850c5180",
       "value": "spherical"
      }
     },
     "c07edbf484224ae492216cb79ac420f3": {
      "model_module": "@jupyter-widgets/base",
      "model_module_version": "1.0.0",
      "model_name": "LayoutModel",
      "state": {
       "height": "80px",
       "width": "70%"
      }
     },
     "c091215079a84417b98e38fc7b6ff03c": {
      "model_module": "@jupyter-widgets/controls",
      "model_module_version": "1.2.0",
      "model_name": "ButtonModel",
      "state": {
       "description": "Update Plot",
       "icon": "check",
       "layout": "IPY_MODEL_a4ccc02fce1a4f9f9d81d431a50a657c",
       "style": "IPY_MODEL_c0debf8a615b489f8cf8ea23cad747da",
       "tooltip": "Update Plot"
      }
     },
     "c0c961584cf64801b091a11184b09a5c": {
      "model_module": "@jupyter-widgets/base",
      "model_module_version": "1.0.0",
      "model_name": "LayoutModel",
      "state": {}
     },
     "c0de9a148c91472ab9f01a78e93b8279": {
      "model_module": "@jupyter-widgets/controls",
      "model_module_version": "1.2.0",
      "model_name": "RadioButtonsModel",
      "state": {
       "_options_labels": [
        "True",
        "False"
       ],
       "description": "Source On:",
       "index": 0,
       "layout": "IPY_MODEL_2ba98c4a32ac4242b214644e7898f26b",
       "style": "IPY_MODEL_3f579b7851934a07a065bd8da87b9af6"
      }
     },
     "c0debf8a615b489f8cf8ea23cad747da": {
      "model_module": "@jupyter-widgets/controls",
      "model_module_version": "1.2.0",
      "model_name": "ButtonStyleModel",
      "state": {}
     },
     "c0ed58f44e1d402c80383dfffc184066": {
      "model_module": "@jupyter-widgets/base",
      "model_module_version": "1.0.0",
      "model_name": "LayoutModel",
      "state": {
       "height": "80px",
       "width": "70%"
      }
     },
     "c1761a83c028452db93416353cb004ba": {
      "model_module": "@jupyter-widgets/controls",
      "model_module_version": "1.2.0",
      "model_name": "SliderStyleModel",
      "state": {
       "description_width": "initial"
      }
     },
     "c17885a9718b4721bbbfab07543fd658": {
      "model_module": "@jupyter-widgets/controls",
      "model_module_version": "1.2.0",
      "model_name": "DescriptionStyleModel",
      "state": {
       "description_width": "initial"
      }
     },
     "c1e7b54a78464d4ca63e730ac801f85d": {
      "model_module": "@jupyter-widgets/base",
      "model_module_version": "1.0.0",
      "model_name": "LayoutModel",
      "state": {}
     },
     "c2062d503ed14be4b0a598e200482592": {
      "model_module": "@jupyter-widgets/controls",
      "model_module_version": "1.2.0",
      "model_name": "RadioButtonsModel",
      "state": {
       "_options_labels": [
        "True",
        "False"
       ],
       "description": "Source On:",
       "index": 0,
       "layout": "IPY_MODEL_45745b9fd8744720aafc048fdb42536b",
       "style": "IPY_MODEL_874719580fca4fc08cb83eb70f630d04"
      }
     },
     "c221e59640dd4869aab18623ddea1371": {
      "model_module": "@jupyter-widgets/controls",
      "model_module_version": "1.2.0",
      "model_name": "DescriptionStyleModel",
      "state": {
       "description_width": "initial"
      }
     },
     "c2b081a544784122a1aa3c8d66bb9f1e": {
      "model_module": "@jupyter-widgets/controls",
      "model_module_version": "1.2.0",
      "model_name": "DescriptionStyleModel",
      "state": {
       "description_width": "initial"
      }
     },
     "c302feddd1ba4b39912199ee9c144db7": {
      "model_module": "@jupyter-widgets/controls",
      "model_module_version": "1.2.0",
      "model_name": "SliderStyleModel",
      "state": {
       "description_width": "initial"
      }
     },
     "c3522c9f182447ef8017be465c1c25f8": {
      "model_module": "@jupyter-widgets/controls",
      "model_module_version": "1.2.0",
      "model_name": "RadioButtonsModel",
      "state": {
       "_options_labels": [
        "True",
        "False"
       ],
       "description": "Source On:",
       "index": 0,
       "layout": "IPY_MODEL_9195d87c955f440fa9f87adc604cc07d",
       "style": "IPY_MODEL_70f835acc44b48bca641026b22334af2"
      }
     },
     "c3582214d48a4b49957cf8c6cef38759": {
      "model_module": "@jupyter-widgets/base",
      "model_module_version": "1.0.0",
      "model_name": "LayoutModel",
      "state": {}
     },
     "c417283ddf7d407784bbbd34a9232763": {
      "model_module": "@jupyter-widgets/controls",
      "model_module_version": "1.2.0",
      "model_name": "TextModel",
      "state": {
       "description": "Show Populated Places:",
       "layout": "IPY_MODEL_da5eedffb0234eebbc8757c48dd22918",
       "placeholder": "Type something",
       "style": "IPY_MODEL_c221e59640dd4869aab18623ddea1371",
       "value": "False"
      }
     },
     "c4296d1015e44fc989f15d4a2d5dce62": {
      "model_module": "@jupyter-widgets/controls",
      "model_module_version": "1.2.0",
      "model_name": "FloatSliderModel",
      "state": {
       "continuous_update": false,
       "description": "Bubble Opacity:",
       "layout": "IPY_MODEL_2c7e6690c2e94e2daf27aa5a0cc9150a",
       "max": 1,
       "readout_format": ".1f",
       "step": 0.1,
       "style": "IPY_MODEL_80032675e88d4dd4bbcd7c89205270cf",
       "value": 0.5
      }
     },
     "c44f3f66ec554097bfc60ee48f027378": {
      "model_module": "@jupyter-widgets/controls",
      "model_module_version": "1.2.0",
      "model_name": "ToggleButtonsStyleModel",
      "state": {
       "button_width": "",
       "description_width": "initial"
      }
     },
     "c475c73739194fb39810694e9a0b9ab4": {
      "model_module": "@jupyter-widgets/controls",
      "model_module_version": "1.2.0",
      "model_name": "IntSliderModel",
      "state": {
       "continuous_update": false,
       "description": "DPI (resolution):",
       "layout": "IPY_MODEL_98b3e8a75cb244b1a50b5bff1eb0aff1",
       "max": 500,
       "min": 100,
       "style": "IPY_MODEL_b08ced56b4954f1cb7bbabd23749f4f0",
       "value": 300
      }
     },
     "c47fb7de66e74245b3a0f0e360b2956d": {
      "model_module": "@jupyter-widgets/base",
      "model_module_version": "1.0.0",
      "model_name": "LayoutModel",
      "state": {}
     },
     "c488274fbc0247cebba7ab09422e9738": {
      "model_module": "@jupyter-widgets/controls",
      "model_module_version": "1.2.0",
      "model_name": "DescriptionStyleModel",
      "state": {
       "description_width": "initial"
      }
     },
     "c4a77d044f5f49e68647b68826d8ab37": {
      "model_module": "@jupyter-widgets/controls",
      "model_module_version": "1.2.0",
      "model_name": "IntSliderModel",
      "state": {
       "continuous_update": false,
       "description": "DPI (resolution):",
       "layout": "IPY_MODEL_144fabdbbbc3476b9d56ecdbf30f5b1d",
       "max": 500,
       "min": 100,
       "style": "IPY_MODEL_56ddc84b3cdf427bb67bbcb87647ff44",
       "value": 300
      }
     },
     "c4c6b1a82b7846e1a6528c91e8bd35c9": {
      "model_module": "@jupyter-widgets/controls",
      "model_module_version": "1.2.0",
      "model_name": "SliderStyleModel",
      "state": {
       "description_width": "initial"
      }
     },
     "c51bb00c63c948f8984619f1b5f959d6": {
      "model_module": "@jupyter-widgets/controls",
      "model_module_version": "1.2.0",
      "model_name": "TextModel",
      "state": {
       "description": "Country Name:",
       "layout": "IPY_MODEL_83f98594930c41ed80f1a0d031d20de8",
       "placeholder": "Type a country name",
       "style": "IPY_MODEL_84a11243ae76401f8b71d2567005c6e9",
       "value": "India"
      }
     },
     "c54ce305678e4aad99e2ebb611367999": {
      "model_module": "@jupyter-widgets/controls",
      "model_module_version": "1.2.0",
      "model_name": "SliderStyleModel",
      "state": {
       "description_width": "initial"
      }
     },
     "c5d105423fe1411a9a7de2e2580083f8": {
      "model_module": "@jupyter-widgets/controls",
      "model_module_version": "1.2.0",
      "model_name": "TextModel",
      "state": {
       "description": "Show Populated Places:",
       "layout": "IPY_MODEL_cc593f5ee3774fad84db856be6777dc4",
       "placeholder": "Type something",
       "style": "IPY_MODEL_ab894b1071364719b9406ed1a84328e0",
       "value": "False"
      }
     },
     "c69a7fe9e3df4e139592191dd8193870": {
      "model_module": "@jupyter-widgets/controls",
      "model_module_version": "1.2.0",
      "model_name": "DescriptionStyleModel",
      "state": {
       "description_width": "initial"
      }
     },
     "c6c3debd2eff4e428f46cdd89a3ca347": {
      "model_module": "@jupyter-widgets/controls",
      "model_module_version": "1.2.0",
      "model_name": "TextModel",
      "state": {
       "description": "Country Precursor:",
       "layout": "IPY_MODEL_83dbea14b7674523b2e4200a2dde9851",
       "placeholder": "Precursor to Country Name",
       "style": "IPY_MODEL_19e49aee4a0644c3b55c42c5e9e807c5"
      }
     },
     "c70d18a2b4a5490681d273f2113fd1b2": {
      "model_module": "@jupyter-widgets/controls",
      "model_module_version": "1.2.0",
      "model_name": "DropdownModel",
      "state": {
       "_options_labels": [
        "capacity",
        "alphabetical"
       ],
       "description": "Sort Legend By:",
       "index": 0,
       "layout": "IPY_MODEL_c3582214d48a4b49957cf8c6cef38759",
       "style": "IPY_MODEL_2fe415dc7de54d6190176de0a7175b33"
      }
     },
     "c870c16b581947f49459fff4f5bcad37": {
      "model_module": "@jupyter-widgets/base",
      "model_module_version": "1.0.0",
      "model_name": "LayoutModel",
      "state": {}
     },
     "c87435d397a34ba89a47fafe87401d0d": {
      "model_module": "@jupyter-widgets/controls",
      "model_module_version": "1.2.0",
      "model_name": "DescriptionStyleModel",
      "state": {
       "description_width": "initial"
      }
     },
     "c882831c921e4202b5a8f11257430005": {
      "model_module": "@jupyter-widgets/base",
      "model_module_version": "1.0.0",
      "model_name": "LayoutModel",
      "state": {
       "height": "80px",
       "width": "70%"
      }
     },
     "c909a46f24bb45d99fb7ebb0bd02e870": {
      "model_module": "@jupyter-widgets/controls",
      "model_module_version": "1.2.0",
      "model_name": "DescriptionStyleModel",
      "state": {
       "description_width": "initial"
      }
     },
     "c95c794d51334ab6aa8da60025868338": {
      "model_module": "@jupyter-widgets/controls",
      "model_module_version": "1.2.0",
      "model_name": "DescriptionStyleModel",
      "state": {
       "description_width": "initial"
      }
     },
     "c9d409efbcc64adfb585a74f16d55f1a": {
      "model_module": "@jupyter-widgets/base",
      "model_module_version": "1.0.0",
      "model_name": "LayoutModel",
      "state": {}
     },
     "c9d44f8ba4694d58ad8f1389c8e98fee": {
      "model_module": "@jupyter-widgets/base",
      "model_module_version": "1.0.0",
      "model_name": "LayoutModel",
      "state": {}
     },
     "c9de134adf164af8a75468c516e1e68b": {
      "model_module": "@jupyter-widgets/base",
      "model_module_version": "1.0.0",
      "model_name": "LayoutModel",
      "state": {}
     },
     "ca2ec8bd89ea4e8b991ace94d1cb4d05": {
      "model_module": "@jupyter-widgets/controls",
      "model_module_version": "1.2.0",
      "model_name": "FloatSliderModel",
      "state": {
       "continuous_update": false,
       "description": "Zoom Level:",
       "layout": "IPY_MODEL_83225c7106444133be9f3d6a7257ad6e",
       "max": 3,
       "min": 0.5,
       "readout_format": ".1f",
       "step": 0.1,
       "style": "IPY_MODEL_da7059db8bc446a1ab3aeefb36e46fe1",
       "value": 1
      }
     },
     "ca829e71cbe04177a4a5c4aed50b270c": {
      "model_module": "@jupyter-widgets/controls",
      "model_module_version": "1.2.0",
      "model_name": "DescriptionStyleModel",
      "state": {
       "description_width": "initial"
      }
     },
     "cab966b7fa834f52b73f9e7e57484e20": {
      "model_module": "@jupyter-widgets/base",
      "model_module_version": "1.0.0",
      "model_name": "LayoutModel",
      "state": {}
     },
     "cacd61f783414a1eae36b1c7bd3e4d2f": {
      "model_module": "@jupyter-widgets/controls",
      "model_module_version": "1.2.0",
      "model_name": "FloatSliderModel",
      "state": {
       "continuous_update": false,
       "description": "Bubble Opacity:",
       "layout": "IPY_MODEL_819f7c21d2b742cbb788f2955e68b749",
       "max": 1,
       "readout_format": ".1f",
       "step": 0.1,
       "style": "IPY_MODEL_5009749402144d6fb54c80bfbd8bd283",
       "value": 0.5
      }
     },
     "cade51b96736449eaff8c2ff51219f4e": {
      "model_module": "@jupyter-widgets/base",
      "model_module_version": "1.0.0",
      "model_name": "LayoutModel",
      "state": {}
     },
     "cafa6b702bdb4ce68bee8de02b64990c": {
      "model_module": "@jupyter-widgets/controls",
      "model_module_version": "1.2.0",
      "model_name": "SliderStyleModel",
      "state": {
       "description_width": "initial"
      }
     },
     "cb1767cf107d458ab310d045850c5180": {
      "model_module": "@jupyter-widgets/controls",
      "model_module_version": "1.2.0",
      "model_name": "DescriptionStyleModel",
      "state": {
       "description_width": "initial"
      }
     },
     "cb19b72f892e40299b2459889a02df3f": {
      "model_module": "@jupyter-widgets/controls",
      "model_module_version": "1.2.0",
      "model_name": "SliderStyleModel",
      "state": {
       "description_width": "initial"
      }
     },
     "cba255f1ffa64a3ea2a126fe710df82a": {
      "model_module": "@jupyter-widgets/controls",
      "model_module_version": "1.2.0",
      "model_name": "DescriptionStyleModel",
      "state": {
       "description_width": "initial"
      }
     },
     "cbaf00dc902f4137a52087651bbea162": {
      "model_module": "@jupyter-widgets/controls",
      "model_module_version": "1.2.0",
      "model_name": "IntSliderModel",
      "state": {
       "continuous_update": false,
       "description": "DPI (resolution):",
       "layout": "IPY_MODEL_51f7fd51aed64ffc9241568695c0100d",
       "max": 500,
       "min": 100,
       "style": "IPY_MODEL_b84625b13a1a48a1b917dd7a92afd5c4",
       "value": 300
      }
     },
     "cc222e8a0a4b4afb9cbe6d3151ba9e39": {
      "model_module": "@jupyter-widgets/controls",
      "model_module_version": "1.2.0",
      "model_name": "IntSliderModel",
      "state": {
       "continuous_update": false,
       "description": "Number of Legend Columns:",
       "layout": "IPY_MODEL_b337b3b951a44b70a0fe1c3456192595",
       "max": 3,
       "min": 1,
       "style": "IPY_MODEL_73d1d183159e4eb7bfa4536e3f59f1f5",
       "value": 1
      }
     },
     "cc593f5ee3774fad84db856be6777dc4": {
      "model_module": "@jupyter-widgets/base",
      "model_module_version": "1.0.0",
      "model_name": "LayoutModel",
      "state": {}
     },
     "cc7ce56d1504420f934d741192090318": {
      "model_module": "@jupyter-widgets/base",
      "model_module_version": "1.0.0",
      "model_name": "LayoutModel",
      "state": {}
     },
     "cca8bfc272914ed39dd55117d313ccbc": {
      "model_module": "@jupyter-widgets/controls",
      "model_module_version": "1.2.0",
      "model_name": "TextModel",
      "state": {
       "description": "Country Name:",
       "layout": "IPY_MODEL_15cca243e06d4d6298c1b05405ea42c2",
       "placeholder": "Type a country name",
       "style": "IPY_MODEL_da46b236733949e9b0c971e29bbca98f",
       "value": "India"
      }
     },
     "cd2ade8c87a446109ada62b53fd06a76": {
      "model_module": "@jupyter-widgets/controls",
      "model_module_version": "1.2.0",
      "model_name": "TextModel",
      "state": {
       "description": "Coordinate System:",
       "layout": "IPY_MODEL_2c9b5a54fcde4bd9ac04673be88f948f",
       "placeholder": "Type something",
       "style": "IPY_MODEL_72e25ca2377b4dfda61090e3e0d27dc2",
       "value": "spherical"
      }
     },
     "ce054e897c6d4e9c9cd4f9964a2a7958": {
      "model_module": "@jupyter-widgets/controls",
      "model_module_version": "1.2.0",
      "model_name": "TextModel",
      "state": {
       "description": "Country Precursor:",
       "layout": "IPY_MODEL_30d6471269fc40a1a4f860fdfc8b610e",
       "placeholder": "Precursor to Country Name",
       "style": "IPY_MODEL_1b1af95fda874a35830da77937472a16"
      }
     },
     "ce41e0084c264b518cdd3bc7d81da9ff": {
      "model_module": "@jupyter-widgets/controls",
      "model_module_version": "1.2.0",
      "model_name": "TextModel",
      "state": {
       "description": "Country Name:",
       "layout": "IPY_MODEL_ad6d0de5bae64a318a0c6b37b38dd715",
       "placeholder": "Type a country name",
       "style": "IPY_MODEL_008a1643615d4f60a365eadbe616435e",
       "value": "India"
      }
     },
     "ce6032d4d5f8430f9ba928147bd6256f": {
      "model_module": "@jupyter-widgets/controls",
      "model_module_version": "1.2.0",
      "model_name": "TextModel",
      "state": {
       "description": "Path to save to:",
       "layout": "IPY_MODEL_1db2e196417545b29b35d9c44de609f1",
       "placeholder": "Type the complete path to save to",
       "style": "IPY_MODEL_ec994e8d3570460aa3489ad3e67d5580",
       "value": "/Users/skoebric/Downloads/XYZ.png"
      }
     },
     "ce7dc05fbc8c40f1bc26ba28f039c6f1": {
      "model_module": "@jupyter-widgets/base",
      "model_module_version": "1.0.0",
      "model_name": "LayoutModel",
      "state": {}
     },
     "cebc6e0301c447b5a6980e762b8105cb": {
      "model_module": "@jupyter-widgets/controls",
      "model_module_version": "1.2.0",
      "model_name": "SliderStyleModel",
      "state": {
       "description_width": "initial"
      }
     },
     "d027039d36254a32a84ab027a4e0ae04": {
      "model_module": "@jupyter-widgets/base",
      "model_module_version": "1.0.0",
      "model_name": "LayoutModel",
      "state": {}
     },
     "d02ff9eafd7c47ed836c9b25bc032416": {
      "model_module": "@jupyter-widgets/controls",
      "model_module_version": "1.2.0",
      "model_name": "IntSliderModel",
      "state": {
       "continuous_update": false,
       "description": "DPI (resolution):",
       "layout": "IPY_MODEL_3a9f4e26237d4d80a7056fc43bcd0bba",
       "max": 500,
       "min": 100,
       "style": "IPY_MODEL_19c1c4d6d92c4ce68abfd1bda05d99f2",
       "value": 300
      }
     },
     "d06ee01a6e0d4615b441d45812ffbc5c": {
      "model_module": "@jupyter-widgets/controls",
      "model_module_version": "1.2.0",
      "model_name": "IntSliderModel",
      "state": {
       "continuous_update": false,
       "description": "Number of Legend Columns:",
       "layout": "IPY_MODEL_b23296a9a88b43d4a4362728a2e5e7d4",
       "max": 3,
       "min": 1,
       "style": "IPY_MODEL_66b7077707ed4605ba53941fe63ef0d6",
       "value": 1
      }
     },
     "d0709d3d61ec4bdeaa7eeebe8efce8bf": {
      "model_module": "@jupyter-widgets/controls",
      "model_module_version": "1.2.0",
      "model_name": "TextModel",
      "state": {
       "description": "Island Size Thresh:",
       "layout": "IPY_MODEL_cc7ce56d1504420f934d741192090318",
       "placeholder": "Type a island thresh",
       "style": "IPY_MODEL_b2c95b5512f0495b8b5ac6915c5fb615",
       "value": "5000"
      }
     },
     "d0807774317c4aff80725f88f053f4ab": {
      "model_module": "@jupyter-widgets/controls",
      "model_module_version": "1.2.0",
      "model_name": "TextModel",
      "state": {
       "description": "Island Size Thresh:",
       "layout": "IPY_MODEL_a73447805f734cf69b11ffd71d5f0eb7",
       "placeholder": "Type a island thresh",
       "style": "IPY_MODEL_058d54805c20450eafbc9db231c5c754",
       "value": "200"
      }
     },
     "d125a30ae17d43409f6d391ec5d09566": {
      "model_module": "@jupyter-widgets/controls",
      "model_module_version": "1.2.0",
      "model_name": "SliderStyleModel",
      "state": {
       "description_width": "initial"
      }
     },
     "d17cbb87c6574121b663a72758917e96": {
      "model_module": "@jupyter-widgets/controls",
      "model_module_version": "1.2.0",
      "model_name": "DescriptionStyleModel",
      "state": {
       "description_width": ""
      }
     },
     "d1df1a0d03eb484bbffb1fb0ef719870": {
      "model_module": "@jupyter-widgets/base",
      "model_module_version": "1.0.0",
      "model_name": "LayoutModel",
      "state": {}
     },
     "d21305a21e554fefbd64159bfa2cbf70": {
      "model_module": "@jupyter-widgets/controls",
      "model_module_version": "1.2.0",
      "model_name": "DescriptionStyleModel",
      "state": {
       "description_width": ""
      }
     },
     "d264652da7164c3986cf320208e50fd8": {
      "model_module": "@jupyter-widgets/controls",
      "model_module_version": "1.2.0",
      "model_name": "ToggleButtonsModel",
      "state": {
       "_options_labels": [
        "Simple",
        "Mixed",
        "Complex"
       ],
       "button_style": "",
       "description": "Simplification Level:",
       "icons": [],
       "index": 1,
       "layout": "IPY_MODEL_b4c7d918dfda48d492841fddeb96d0a7",
       "style": "IPY_MODEL_53cc56b26b9044279dd603a94b52151e",
       "tooltips": [
        "Renewables, Fossil, and Nuclear",
        "Solar, Wind, Hydro, Geothermal,Biomass, Wave and Tidal,\n Storage, Fossil, Nuclear",
        "Solar, Wind, Hydro, Geothermal,Biomass, Wave and Tidal,\n Storage, Fossil, Nuclear, Coal, Gas, Oil, Waste, Cogeneration"
       ]
      }
     },
     "d29fd62b51e84915a8046372996bf7f5": {
      "model_module": "@jupyter-widgets/controls",
      "model_module_version": "1.2.0",
      "model_name": "TextModel",
      "state": {
       "description": "Country Name:",
       "layout": "IPY_MODEL_28a6418d2bad41238c4a69d1ba96f409",
       "placeholder": "Type a country name",
       "style": "IPY_MODEL_421ce2c74ee84abfb76a8f091158fcc0",
       "value": "India"
      }
     },
     "d2ccbb5118974813a765fa611b59d555": {
      "model_module": "@jupyter-widgets/base",
      "model_module_version": "1.0.0",
      "model_name": "LayoutModel",
      "state": {}
     },
     "d33bf1712c6d49c8ac5f784b9f5de9cf": {
      "model_module": "@jupyter-widgets/base",
      "model_module_version": "1.0.0",
      "model_name": "LayoutModel",
      "state": {}
     },
     "d34b1e0b2c994a84b715e77f44f3eff7": {
      "model_module": "@jupyter-widgets/controls",
      "model_module_version": "1.2.0",
      "model_name": "IntSliderModel",
      "state": {
       "continuous_update": false,
       "description": "DPI (resolution):",
       "layout": "IPY_MODEL_77cab9e4aebd4029a03a46f5d1843a4b",
       "max": 500,
       "min": 100,
       "style": "IPY_MODEL_42f460ffb9c24cc7a456fe7aa6cd1351",
       "value": 300
      }
     },
     "d391a542eb154a8f976f70192d816b53": {
      "model_module": "@jupyter-widgets/base",
      "model_module_version": "1.0.0",
      "model_name": "LayoutModel",
      "state": {}
     },
     "d4ad19b8a2f04f589aa20a7ccc92ac75": {
      "model_module": "@jupyter-widgets/base",
      "model_module_version": "1.0.0",
      "model_name": "LayoutModel",
      "state": {}
     },
     "d4b1d28f4161476aad35fcaaccbe124b": {
      "model_module": "@jupyter-widgets/controls",
      "model_module_version": "1.2.0",
      "model_name": "FloatSliderModel",
      "state": {
       "continuous_update": false,
       "description": "Bubble Opacity:",
       "layout": "IPY_MODEL_62ef68bbfb2d49feb206725a2f1a57a8",
       "max": 1,
       "readout_format": ".1f",
       "step": 0.1,
       "style": "IPY_MODEL_2a5273cb02a1405c97af99110189e7d6",
       "value": 0.5
      }
     },
     "d4b353a6457a4d68a1d38e9c30a0cbbc": {
      "model_module": "@jupyter-widgets/controls",
      "model_module_version": "1.2.0",
      "model_name": "DescriptionStyleModel",
      "state": {
       "description_width": "initial"
      }
     },
     "d4c2c2a8821741beb980cfc5d729a05b": {
      "model_module": "@jupyter-widgets/controls",
      "model_module_version": "1.2.0",
      "model_name": "IntSliderModel",
      "state": {
       "continuous_update": false,
       "description": "DPI (resolution):",
       "layout": "IPY_MODEL_e77c1383f75e4ac698a2043482269935",
       "max": 500,
       "min": 100,
       "style": "IPY_MODEL_c302feddd1ba4b39912199ee9c144db7",
       "value": 300
      }
     },
     "d52e48a327b7455295e87b8f3aa9bd36": {
      "model_module": "@jupyter-widgets/controls",
      "model_module_version": "1.2.0",
      "model_name": "IntSliderModel",
      "state": {
       "continuous_update": false,
       "description": "DPI (resolution):",
       "layout": "IPY_MODEL_b808e4e3305340ffa9ceb48edc5fcc95",
       "max": 500,
       "min": 100,
       "style": "IPY_MODEL_82f7d84d69794a77989d4ac2532b3585",
       "value": 300
      }
     },
     "d598a65034034c44b45929b36411b4f9": {
      "model_module": "@jupyter-widgets/base",
      "model_module_version": "1.0.0",
      "model_name": "LayoutModel",
      "state": {}
     },
     "d5a29190c7d64b3785f3face249e1e97": {
      "model_module": "@jupyter-widgets/base",
      "model_module_version": "1.0.0",
      "model_name": "LayoutModel",
      "state": {}
     },
     "d5db70abe66a463cbcbc4c14ffeb3fbe": {
      "model_module": "@jupyter-widgets/controls",
      "model_module_version": "1.2.0",
      "model_name": "DescriptionStyleModel",
      "state": {
       "description_width": "initial"
      }
     },
     "d6495b8837214ad4adadf84426f38767": {
      "model_module": "@jupyter-widgets/controls",
      "model_module_version": "1.2.0",
      "model_name": "DescriptionStyleModel",
      "state": {
       "description_width": ""
      }
     },
     "d683fbabafd74faba901db1733ae2d36": {
      "model_module": "@jupyter-widgets/base",
      "model_module_version": "1.0.0",
      "model_name": "LayoutModel",
      "state": {}
     },
     "d7a0bf6b67d6433b840f2e55e595a447": {
      "model_module": "@jupyter-widgets/base",
      "model_module_version": "1.0.0",
      "model_name": "LayoutModel",
      "state": {}
     },
     "d7a4d9d3a524444793519544cbdc730b": {
      "model_module": "@jupyter-widgets/controls",
      "model_module_version": "1.2.0",
      "model_name": "DropdownModel",
      "state": {
       "_options_labels": [
        "capacity",
        "alphabetical"
       ],
       "description": "Sort Legend By:",
       "index": 0,
       "layout": "IPY_MODEL_2e2027dcfad842f383e31fcb5dda4655",
       "style": "IPY_MODEL_a244dc64e0fb422f912817f828bf8790"
      }
     },
     "d84d5f22007747d79c20caee025c73a7": {
      "model_module": "@jupyter-widgets/controls",
      "model_module_version": "1.2.0",
      "model_name": "IntSliderModel",
      "state": {
       "continuous_update": false,
       "description": "DPI (resolution):",
       "layout": "IPY_MODEL_f360df7c8e5b4ec0aff72985c60dbb91",
       "max": 500,
       "min": 100,
       "style": "IPY_MODEL_599d008790b34160930093938adcf17f",
       "value": 300
      }
     },
     "d8c2ccce4e6f4904b0d90e04459b19ad": {
      "model_module": "@jupyter-widgets/controls",
      "model_module_version": "1.2.0",
      "model_name": "ButtonStyleModel",
      "state": {}
     },
     "d95b60d2d0bb496fb9de8de820725ea7": {
      "model_module": "@jupyter-widgets/base",
      "model_module_version": "1.0.0",
      "model_name": "LayoutModel",
      "state": {
       "height": "80px",
       "width": "70%"
      }
     },
     "d98e39b0546441fb8d0ebcd3c1fbe018": {
      "model_module": "@jupyter-widgets/controls",
      "model_module_version": "1.2.0",
      "model_name": "SliderStyleModel",
      "state": {
       "description_width": "initial"
      }
     },
     "d9a04ba480054b1a895809736f504cf7": {
      "model_module": "@jupyter-widgets/base",
      "model_module_version": "1.0.0",
      "model_name": "LayoutModel",
      "state": {}
     },
     "d9d2ad81508b43acadb296279c19b1a4": {
      "model_module": "@jupyter-widgets/controls",
      "model_module_version": "1.2.0",
      "model_name": "DescriptionStyleModel",
      "state": {
       "description_width": "initial"
      }
     },
     "d9feb0fafc7a44a9a935bc3a2a89b603": {
      "model_module": "@jupyter-widgets/base",
      "model_module_version": "1.0.0",
      "model_name": "LayoutModel",
      "state": {}
     },
     "da46b236733949e9b0c971e29bbca98f": {
      "model_module": "@jupyter-widgets/controls",
      "model_module_version": "1.2.0",
      "model_name": "DescriptionStyleModel",
      "state": {
       "description_width": "initial"
      }
     },
     "da5eedffb0234eebbc8757c48dd22918": {
      "model_module": "@jupyter-widgets/base",
      "model_module_version": "1.0.0",
      "model_name": "LayoutModel",
      "state": {}
     },
     "da66acd4de1c427196557962b576a3f2": {
      "model_module": "@jupyter-widgets/controls",
      "model_module_version": "1.2.0",
      "model_name": "TextModel",
      "state": {
       "description": "Country Name:",
       "layout": "IPY_MODEL_a3e8128f25eb4d07b7a0c1d9cb22782f",
       "placeholder": "Type a country name",
       "style": "IPY_MODEL_3a63fdbdd8214cc0b691533658252e18",
       "value": "India"
      }
     },
     "da6cb41089c14cb089304d41439efd82": {
      "model_module": "@jupyter-widgets/base",
      "model_module_version": "1.0.0",
      "model_name": "LayoutModel",
      "state": {}
     },
     "da7059db8bc446a1ab3aeefb36e46fe1": {
      "model_module": "@jupyter-widgets/controls",
      "model_module_version": "1.2.0",
      "model_name": "SliderStyleModel",
      "state": {
       "description_width": "initial"
      }
     },
     "da725c0ce721436eb070073810e930d1": {
      "model_module": "@jupyter-widgets/controls",
      "model_module_version": "1.2.0",
      "model_name": "ButtonStyleModel",
      "state": {}
     },
     "daa92050d52f433eb3e34b0085216e51": {
      "model_module": "@jupyter-widgets/controls",
      "model_module_version": "1.2.0",
      "model_name": "TextModel",
      "state": {
       "description": "Show Populated Places:",
       "layout": "IPY_MODEL_e86e01961d5245b18ac7ecabee6ba5ff",
       "placeholder": "Type something",
       "style": "IPY_MODEL_339ee14ddd864efabafa4777e196b00d",
       "value": "False"
      }
     },
     "db0e0be6bce145bb8f7504d04e446c73": {
      "model_module": "@jupyter-widgets/controls",
      "model_module_version": "1.2.0",
      "model_name": "DescriptionStyleModel",
      "state": {
       "description_width": "initial"
      }
     },
     "dbbfa7595efb435a920d2df2c4ed014f": {
      "model_module": "@jupyter-widgets/base",
      "model_module_version": "1.0.0",
      "model_name": "LayoutModel",
      "state": {}
     },
     "dbd2f30c19204e388698626d85c65b96": {
      "model_module": "@jupyter-widgets/controls",
      "model_module_version": "1.2.0",
      "model_name": "TextModel",
      "state": {
       "description": "Coordinate System:",
       "layout": "IPY_MODEL_1c957067d7324b30918c86e50c61b55e",
       "placeholder": "Type something",
       "style": "IPY_MODEL_4e99db7fb06847b4971ffa15bbbc8df3",
       "value": "spherical"
      }
     },
     "dc31d983cb704585a2f792ec5b3cc0b5": {
      "model_module": "@jupyter-widgets/controls",
      "model_module_version": "1.2.0",
      "model_name": "TextModel",
      "state": {
       "description": "Island Size Thresh:",
       "layout": "IPY_MODEL_f8a374eb5b414ed9917db077d3ce4fa6",
       "placeholder": "Type a island thresh",
       "style": "IPY_MODEL_e0a29e3c5a5d427a8f891e927182e88d",
       "value": "5000"
      }
     },
     "dcd03308b05542d9a2ccef6eaee46fc1": {
      "model_module": "@jupyter-widgets/controls",
      "model_module_version": "1.2.0",
      "model_name": "SliderStyleModel",
      "state": {
       "description_width": "initial"
      }
     },
     "dcd971f3c86845d7abc50517182b2279": {
      "model_module": "@jupyter-widgets/controls",
      "model_module_version": "1.2.0",
      "model_name": "ButtonModel",
      "state": {
       "description": "Update Plot",
       "icon": "check",
       "layout": "IPY_MODEL_c0ed58f44e1d402c80383dfffc184066",
       "style": "IPY_MODEL_da725c0ce721436eb070073810e930d1",
       "tooltip": "Update Plot"
      }
     },
     "de2ffcf7a6554d4bb99b5b968ea338f0": {
      "model_module": "@jupyter-widgets/base",
      "model_module_version": "1.0.0",
      "model_name": "LayoutModel",
      "state": {}
     },
     "df0a7df36720420099cf241215262e40": {
      "model_module": "@jupyter-widgets/base",
      "model_module_version": "1.0.0",
      "model_name": "LayoutModel",
      "state": {}
     },
     "df89d84d897a465abd3a2e8e5b730dc3": {
      "model_module": "@jupyter-widgets/base",
      "model_module_version": "1.0.0",
      "model_name": "LayoutModel",
      "state": {}
     },
     "df9437f9b1c2441a817fbc9ecb9bf941": {
      "model_module": "@jupyter-widgets/controls",
      "model_module_version": "1.2.0",
      "model_name": "DescriptionStyleModel",
      "state": {
       "description_width": "initial"
      }
     },
     "df992bf53a8c43c993d946a0cc9536be": {
      "model_module": "@jupyter-widgets/controls",
      "model_module_version": "1.2.0",
      "model_name": "TextModel",
      "state": {
       "description": "Coordinate System:",
       "layout": "IPY_MODEL_17001cca00194e0cafdee261752dbcdd",
       "placeholder": "Type something",
       "style": "IPY_MODEL_c69a7fe9e3df4e139592191dd8193870",
       "value": "spherical"
      }
     },
     "e024971a6e9a4d508ea10edeb09bc6dc": {
      "model_module": "@jupyter-widgets/controls",
      "model_module_version": "1.2.0",
      "model_name": "TextModel",
      "state": {
       "description": "Coordinate System:",
       "layout": "IPY_MODEL_b707193cffa84ab5a91b3283acbd194d",
       "placeholder": "Type something",
       "style": "IPY_MODEL_3bcdc2e9071e47f6b59fef3edfba57ad",
       "value": "spherical"
      }
     },
     "e02b352a68e3494690944d946eb06533": {
      "model_module": "@jupyter-widgets/base",
      "model_module_version": "1.0.0",
      "model_name": "LayoutModel",
      "state": {}
     },
     "e049d766137c40259284a47d021bc3e9": {
      "model_module": "@jupyter-widgets/base",
      "model_module_version": "1.0.0",
      "model_name": "LayoutModel",
      "state": {}
     },
     "e08ea0eab730462a9bb6383a04478810": {
      "model_module": "@jupyter-widgets/controls",
      "model_module_version": "1.2.0",
      "model_name": "ButtonModel",
      "state": {
       "description": "Update Plot",
       "icon": "check",
       "layout": "IPY_MODEL_2744a9a4245e4ce392b7da3458773886",
       "style": "IPY_MODEL_45145fd840e343269f4298bcfcaff6b5",
       "tooltip": "Update Plot"
      }
     },
     "e0a29e3c5a5d427a8f891e927182e88d": {
      "model_module": "@jupyter-widgets/controls",
      "model_module_version": "1.2.0",
      "model_name": "DescriptionStyleModel",
      "state": {
       "description_width": "initial"
      }
     },
     "e0b8fdac01ce4d31ae708b5b5fc1e1d8": {
      "model_module": "@jupyter-widgets/controls",
      "model_module_version": "1.2.0",
      "model_name": "TextModel",
      "state": {
       "description": "Coordinate System:",
       "layout": "IPY_MODEL_f7e120cb18cb412bb8a44f2f8561f07d",
       "placeholder": "Type something",
       "style": "IPY_MODEL_63f915dae25b4a11975aaf2aceb02cbf",
       "value": "spherical"
      }
     },
     "e11bb3a854b34a87839b5dc9282c6302": {
      "model_module": "@jupyter-widgets/controls",
      "model_module_version": "1.2.0",
      "model_name": "ButtonModel",
      "state": {
       "description": "Update Plot",
       "icon": "check",
       "layout": "IPY_MODEL_04d58663103742c7a689e599b32c18f6",
       "style": "IPY_MODEL_2047af4f13bd47618ab2f40016356107",
       "tooltip": "Update Plot"
      }
     },
     "e142632e0a214f2697b5fc6a87c92d7a": {
      "model_module": "@jupyter-widgets/controls",
      "model_module_version": "1.2.0",
      "model_name": "ToggleButtonsModel",
      "state": {
       "_options_labels": [
        "Simple",
        "Mixed",
        "Complex"
       ],
       "button_style": "",
       "description": "Simplification Level:",
       "icons": [],
       "index": 1,
       "layout": "IPY_MODEL_e4e6a9a6d70540e6ab3457e791574c0c",
       "style": "IPY_MODEL_27923732d28842fb833d024bd04ffcef",
       "tooltips": [
        "Renewables, Fossil, and Nuclear",
        "Solar, Wind, Hydro, Geothermal,Biomass, Wave and Tidal,\n Storage, Fossil, Nuclear",
        "Solar, Wind, Hydro, Geothermal,Biomass, Wave and Tidal,\n Storage, Fossil, Nuclear, Coal, Gas, Oil, Waste, Cogeneration"
       ]
      }
     },
     "e165f1a4874f45ba93f0dd0083000291": {
      "model_module": "@jupyter-widgets/base",
      "model_module_version": "1.0.0",
      "model_name": "LayoutModel",
      "state": {
       "height": "80px",
       "width": "70%"
      }
     },
     "e1cf39037f774b868287526d2ab9d2d7": {
      "model_module": "@jupyter-widgets/controls",
      "model_module_version": "1.2.0",
      "model_name": "DescriptionStyleModel",
      "state": {
       "description_width": "initial"
      }
     },
     "e2a7324e685147d18ffe56eb582d7cd1": {
      "model_module": "@jupyter-widgets/base",
      "model_module_version": "1.0.0",
      "model_name": "LayoutModel",
      "state": {}
     },
     "e2b0e98fefea4cf896dbd6c6fac6b7e1": {
      "model_module": "@jupyter-widgets/controls",
      "model_module_version": "1.2.0",
      "model_name": "TextModel",
      "state": {
       "description": "Island Size Thresh:",
       "layout": "IPY_MODEL_c47fb7de66e74245b3a0f0e360b2956d",
       "placeholder": "Type a island thresh",
       "style": "IPY_MODEL_3dd102149f174e368ddc81c151e6284a",
       "value": "5000"
      }
     },
     "e30950ab71bd49ac9d28a72aca63ae30": {
      "model_module": "@jupyter-widgets/base",
      "model_module_version": "1.0.0",
      "model_name": "LayoutModel",
      "state": {}
     },
     "e35c40f31d924d1896a7938451d171eb": {
      "model_module": "@jupyter-widgets/base",
      "model_module_version": "1.0.0",
      "model_name": "LayoutModel",
      "state": {}
     },
     "e3c38deb4606483ca95ce403a255fa02": {
      "model_module": "@jupyter-widgets/controls",
      "model_module_version": "1.2.0",
      "model_name": "SliderStyleModel",
      "state": {
       "description_width": "initial"
      }
     },
     "e3e4a53d72db43b18f5cbeaa4cb3e88e": {
      "model_module": "@jupyter-widgets/controls",
      "model_module_version": "1.2.0",
      "model_name": "SliderStyleModel",
      "state": {
       "description_width": "initial"
      }
     },
     "e3f1c5f3e441422e980659f39121cd2b": {
      "model_module": "@jupyter-widgets/controls",
      "model_module_version": "1.2.0",
      "model_name": "DescriptionStyleModel",
      "state": {
       "description_width": "initial"
      }
     },
     "e4c5e396028c4972b0c73c8cb8c1cce7": {
      "model_module": "@jupyter-widgets/controls",
      "model_module_version": "1.2.0",
      "model_name": "IntSliderModel",
      "state": {
       "continuous_update": false,
       "description": "Number of Legend Columns:",
       "layout": "IPY_MODEL_f73a267fbac0478cbe1fcf19e6cf44be",
       "max": 3,
       "min": 1,
       "style": "IPY_MODEL_2140a773dce74efb93a6c033791cfcad",
       "value": 1
      }
     },
     "e4e6a9a6d70540e6ab3457e791574c0c": {
      "model_module": "@jupyter-widgets/base",
      "model_module_version": "1.0.0",
      "model_name": "LayoutModel",
      "state": {}
     },
     "e50a6c8bde9b46578c62883526466a37": {
      "model_module": "@jupyter-widgets/controls",
      "model_module_version": "1.2.0",
      "model_name": "IntSliderModel",
      "state": {
       "continuous_update": false,
       "description": "Number of Legend Columns:",
       "layout": "IPY_MODEL_2438d43716ff41689d8e552b9cf826bd",
       "max": 3,
       "min": 1,
       "style": "IPY_MODEL_94774508857a4904bf9da3b8d4aadace",
       "value": 1
      }
     },
     "e574806b43d541a4a04eaeaa7d75d805": {
      "model_module": "@jupyter-widgets/controls",
      "model_module_version": "1.2.0",
      "model_name": "DescriptionStyleModel",
      "state": {
       "description_width": "initial"
      }
     },
     "e5d78cd9587246ce909469e26c6017a0": {
      "model_module": "@jupyter-widgets/controls",
      "model_module_version": "1.2.0",
      "model_name": "DescriptionStyleModel",
      "state": {
       "description_width": "initial"
      }
     },
     "e5faefe0b30d45f1af15b942dea19f88": {
      "model_module": "@jupyter-widgets/controls",
      "model_module_version": "1.2.0",
      "model_name": "IntSliderModel",
      "state": {
       "continuous_update": false,
       "description": "DPI (resolution):",
       "layout": "IPY_MODEL_ce7dc05fbc8c40f1bc26ba28f039c6f1",
       "max": 500,
       "min": 100,
       "style": "IPY_MODEL_a43deb5f4ea34220bc499ac5398b8bea",
       "value": 300
      }
     },
     "e6074492c7cc4040ad3cb358ae512305": {
      "model_module": "@jupyter-widgets/controls",
      "model_module_version": "1.2.0",
      "model_name": "DescriptionStyleModel",
      "state": {
       "description_width": "initial"
      }
     },
     "e63560e4e05c4d9d81703f5fb2470c3c": {
      "model_module": "@jupyter-widgets/controls",
      "model_module_version": "1.2.0",
      "model_name": "IntSliderModel",
      "state": {
       "continuous_update": false,
       "description": "Number of Legend Columns:",
       "layout": "IPY_MODEL_95dee208edd845d69214f79f93d9c024",
       "max": 3,
       "min": 1,
       "style": "IPY_MODEL_7cdd10a8b6164c11a0eb264138ab0cf8",
       "value": 1
      }
     },
     "e691ea2d927f42e1b3e0a312cdf38191": {
      "model_module": "@jupyter-widgets/controls",
      "model_module_version": "1.2.0",
      "model_name": "TextModel",
      "state": {
       "description": "Country Name:",
       "layout": "IPY_MODEL_071c0c2c17c648d099d748f1e9ea0805",
       "placeholder": "Type a country name",
       "style": "IPY_MODEL_773597eaa0c44d739e7feb9ccd7dc03b",
       "value": "India"
      }
     },
     "e6a44690080c43e8807493672a5bb5ea": {
      "model_module": "@jupyter-widgets/controls",
      "model_module_version": "1.2.0",
      "model_name": "FloatSliderModel",
      "state": {
       "continuous_update": false,
       "description": "Zoom Level:",
       "layout": "IPY_MODEL_1139872ede47432984e37f976fe7a4ef",
       "max": 3,
       "min": 0.5,
       "readout_format": ".1f",
       "step": 0.1,
       "style": "IPY_MODEL_32eee66133bd4c23850aa6981c02dd25",
       "value": 1
      }
     },
     "e6c3ac873f0846c19ca55edff40cdcf0": {
      "model_module": "@jupyter-widgets/base",
      "model_module_version": "1.0.0",
      "model_name": "LayoutModel",
      "state": {}
     },
     "e704d73ab28844d186beb1674b1d799f": {
      "model_module": "@jupyter-widgets/controls",
      "model_module_version": "1.2.0",
      "model_name": "FloatSliderModel",
      "state": {
       "continuous_update": false,
       "description": "Zoom Level:",
       "layout": "IPY_MODEL_1b0ea0b2b7464ed1b8cbe979839ced9b",
       "max": 3,
       "min": 0.5,
       "readout_format": ".1f",
       "step": 0.1,
       "style": "IPY_MODEL_eea700f97181487ea917fd969e471d34",
       "value": 1.5
      }
     },
     "e761b416f68b492bac0ec93e8c282bc0": {
      "model_module": "@jupyter-widgets/base",
      "model_module_version": "1.0.0",
      "model_name": "LayoutModel",
      "state": {}
     },
     "e77c1383f75e4ac698a2043482269935": {
      "model_module": "@jupyter-widgets/base",
      "model_module_version": "1.0.0",
      "model_name": "LayoutModel",
      "state": {}
     },
     "e783fc82ca5b4b76b58945a2eb559b84": {
      "model_module": "@jupyter-widgets/controls",
      "model_module_version": "1.2.0",
      "model_name": "ToggleButtonsStyleModel",
      "state": {
       "button_width": "",
       "description_width": "initial"
      }
     },
     "e7b31103897844ee8799337cb0aadfa6": {
      "model_module": "@jupyter-widgets/controls",
      "model_module_version": "1.2.0",
      "model_name": "FloatSliderModel",
      "state": {
       "continuous_update": false,
       "description": "Zoom Level:",
       "layout": "IPY_MODEL_c1e7b54a78464d4ca63e730ac801f85d",
       "max": 3,
       "min": 0.5,
       "readout_format": ".1f",
       "step": 0.1,
       "style": "IPY_MODEL_17cfd8f1296e440997763791964e07cd",
       "value": 1
      }
     },
     "e7db3021d8e2438995a7b2bca3f7ac56": {
      "model_module": "@jupyter-widgets/controls",
      "model_module_version": "1.2.0",
      "model_name": "TextModel",
      "state": {
       "description": "Path to save to:",
       "layout": "IPY_MODEL_2f6629529078457db334226140d36d61",
       "placeholder": "Type the complete path to save to",
       "style": "IPY_MODEL_a1eb4647c3c04621a1f88dd90de401be",
       "value": "/Users/skoebric/Downloads/XYZ.png"
      }
     },
     "e803bea82d2c4061af24ea22797920c5": {
      "model_module": "@jupyter-widgets/controls",
      "model_module_version": "1.2.0",
      "model_name": "DropdownModel",
      "state": {
       "_options_labels": [
        "capacity",
        "alphabetical"
       ],
       "description": "Sort Legend By:",
       "index": 0,
       "layout": "IPY_MODEL_cab966b7fa834f52b73f9e7e57484e20",
       "style": "IPY_MODEL_1e7dd346e1c141a9a67604d6c8207bfe"
      }
     },
     "e8218894dc02488aa9225f6cbd617c4f": {
      "model_module": "@jupyter-widgets/controls",
      "model_module_version": "1.2.0",
      "model_name": "ToggleButtonsStyleModel",
      "state": {
       "button_width": "",
       "description_width": "initial"
      }
     },
     "e838390eceb54172bbb9abd25d2162d9": {
      "model_module": "@jupyter-widgets/controls",
      "model_module_version": "1.2.0",
      "model_name": "RadioButtonsModel",
      "state": {
       "_options_labels": [
        "True",
        "False"
       ],
       "description": "Source On:",
       "index": 0,
       "layout": "IPY_MODEL_6094ec9dd9974241b15fec9b7bbeb195",
       "style": "IPY_MODEL_274d04bcf93e429d9cc72981ef262820"
      }
     },
     "e86e01961d5245b18ac7ecabee6ba5ff": {
      "model_module": "@jupyter-widgets/base",
      "model_module_version": "1.0.0",
      "model_name": "LayoutModel",
      "state": {}
     },
     "e92934faa2d441c7a9153d6a17ce394e": {
      "model_module": "@jupyter-widgets/controls",
      "model_module_version": "1.2.0",
      "model_name": "SliderStyleModel",
      "state": {
       "description_width": "initial"
      }
     },
     "e9305f35e0fd483887baf0b326df7b95": {
      "model_module": "@jupyter-widgets/base",
      "model_module_version": "1.0.0",
      "model_name": "LayoutModel",
      "state": {}
     },
     "e939a14180474b2782bf7f2024bc33aa": {
      "model_module": "@jupyter-widgets/base",
      "model_module_version": "1.0.0",
      "model_name": "LayoutModel",
      "state": {}
     },
     "e999d189a0b3431290a255ef963307c7": {
      "model_module": "@jupyter-widgets/base",
      "model_module_version": "1.0.0",
      "model_name": "LayoutModel",
      "state": {}
     },
     "e9fc99a5f3db406e80041f8045f38537": {
      "model_module": "@jupyter-widgets/controls",
      "model_module_version": "1.2.0",
      "model_name": "ToggleButtonsModel",
      "state": {
       "_options_labels": [
        "Simple",
        "Mixed",
        "Complex"
       ],
       "button_style": "",
       "description": "Simplification Level:",
       "icons": [],
       "index": 1,
       "layout": "IPY_MODEL_0a1d77feea0d400287758ec9c3d91338",
       "style": "IPY_MODEL_1523ed924c1341aa98cdb27208cd6fcf",
       "tooltips": [
        "Renewables, Fossil, and Nuclear",
        "Solar, Wind, Hydro, Geothermal,Biomass, Wave and Tidal,\n Storage, Fossil, Nuclear",
        "Solar, Wind, Hydro, Geothermal,Biomass, Wave and Tidal,\n Storage, Fossil, Nuclear, Coal, Gas, Oil, Waste, Cogeneration"
       ]
      }
     },
     "eaaa258b500643d5b63dd2ce87ec6295": {
      "model_module": "@jupyter-widgets/controls",
      "model_module_version": "1.2.0",
      "model_name": "TextModel",
      "state": {
       "description": "Country Precursor:",
       "layout": "IPY_MODEL_3ce25d4b89904195985c5a22c00a3658",
       "placeholder": "Precursor to Country Name",
       "style": "IPY_MODEL_10939cd7c0ba4b7f813bbd234f5886ca"
      }
     },
     "eab0ba454c37404891d7818f67598e53": {
      "model_module": "@jupyter-widgets/controls",
      "model_module_version": "1.2.0",
      "model_name": "ButtonStyleModel",
      "state": {}
     },
     "eaeac9182ae84920902d6fff016ce678": {
      "model_module": "@jupyter-widgets/base",
      "model_module_version": "1.0.0",
      "model_name": "LayoutModel",
      "state": {}
     },
     "eb13c3658333424caa0fba6f0d8c7015": {
      "model_module": "@jupyter-widgets/controls",
      "model_module_version": "1.2.0",
      "model_name": "SliderStyleModel",
      "state": {
       "description_width": "initial"
      }
     },
     "eb4a7c8efa2240e3a70085ebfc72ef16": {
      "model_module": "@jupyter-widgets/controls",
      "model_module_version": "1.2.0",
      "model_name": "TextModel",
      "state": {
       "description": "Country Precursor:",
       "layout": "IPY_MODEL_d027039d36254a32a84ab027a4e0ae04",
       "placeholder": "Precursor to Country Name",
       "style": "IPY_MODEL_a4e48d1735f14553afb9748d3959d7c5"
      }
     },
     "eb59f877b3764bfab9c12b83637a8030": {
      "model_module": "@jupyter-widgets/controls",
      "model_module_version": "1.2.0",
      "model_name": "DescriptionStyleModel",
      "state": {
       "description_width": ""
      }
     },
     "ebb6400798cb400b98a8ff91d95d5492": {
      "model_module": "@jupyter-widgets/controls",
      "model_module_version": "1.2.0",
      "model_name": "ToggleButtonsModel",
      "state": {
       "_options_labels": [
        "Simple",
        "Mixed",
        "Complex"
       ],
       "button_style": "",
       "description": "Simplification Level:",
       "icons": [],
       "index": 1,
       "layout": "IPY_MODEL_6bd3c1c4d04d4455b114d23a9c64c391",
       "style": "IPY_MODEL_bea89de17ac84342b747c1681188281d",
       "tooltips": [
        "Renewables, Fossil, and Nuclear",
        "Solar, Wind, Hydro, Geothermal,Biomass, Wave and Tidal,\n Storage, Fossil, Nuclear",
        "Solar, Wind, Hydro, Geothermal,Biomass, Wave and Tidal,\n Storage, Fossil, Nuclear, Coal, Gas, Oil, Waste, Cogeneration"
       ]
      }
     },
     "ebd4736f0a314b51a7f82b37ca2526f8": {
      "model_module": "@jupyter-widgets/controls",
      "model_module_version": "1.2.0",
      "model_name": "RadioButtonsModel",
      "state": {
       "_options_labels": [
        "True",
        "False"
       ],
       "description": "Title On:",
       "index": 0,
       "layout": "IPY_MODEL_49249539e93b48e995e2dbbc77d80506",
       "style": "IPY_MODEL_8aebe6e07a1b4931aa2befdb6cf8384f"
      }
     },
     "ebdd9bf153cc4acb9fab678bc8bd23f2": {
      "model_module": "@jupyter-widgets/controls",
      "model_module_version": "1.2.0",
      "model_name": "TextModel",
      "state": {
       "description": "Island Size Thresh:",
       "layout": "IPY_MODEL_65ef3fe9c86d4f409473ed7b0b488939",
       "placeholder": "Type a island thresh",
       "style": "IPY_MODEL_9da689946cf74d4bba483f5465628bd3",
       "value": "200"
      }
     },
     "ec321d96197542c989738ad79586ac96": {
      "model_module": "@jupyter-widgets/base",
      "model_module_version": "1.0.0",
      "model_name": "LayoutModel",
      "state": {}
     },
     "ec57aafcb73d4ffc9f7633acb55f6683": {
      "model_module": "@jupyter-widgets/controls",
      "model_module_version": "1.2.0",
      "model_name": "TextModel",
      "state": {
       "description": "Country Precursor:",
       "layout": "IPY_MODEL_3f50e791dfe84c56971a0e3510ab2462",
       "placeholder": "Precursor to Country Name",
       "style": "IPY_MODEL_c488274fbc0247cebba7ab09422e9738"
      }
     },
     "ec7e28e7ef964c898f85bdc6f15f0977": {
      "model_module": "@jupyter-widgets/controls",
      "model_module_version": "1.2.0",
      "model_name": "IntSliderModel",
      "state": {
       "continuous_update": false,
       "description": "Number of Legend Columns:",
       "layout": "IPY_MODEL_8183701606334a04a1f0f44f49c8d1d4",
       "max": 3,
       "min": 1,
       "style": "IPY_MODEL_3ac19f4e881245928f26151a525ce171",
       "value": 1
      }
     },
     "ec994e8d3570460aa3489ad3e67d5580": {
      "model_module": "@jupyter-widgets/controls",
      "model_module_version": "1.2.0",
      "model_name": "DescriptionStyleModel",
      "state": {
       "description_width": "initial"
      }
     },
     "eca4e263cc994cbfbd71eccc7ca9fd13": {
      "model_module": "@jupyter-widgets/controls",
      "model_module_version": "1.2.0",
      "model_name": "RadioButtonsModel",
      "state": {
       "_options_labels": [
        "True",
        "False"
       ],
       "description": "Title On:",
       "index": 0,
       "layout": "IPY_MODEL_50a0e16163154f838dcbe668a6383097",
       "style": "IPY_MODEL_6339473f24dd4d9583ac713224b8cf6a"
      }
     },
     "ed2ba2283910438e9213d39295c6c66d": {
      "model_module": "@jupyter-widgets/controls",
      "model_module_version": "1.2.0",
      "model_name": "DescriptionStyleModel",
      "state": {
       "description_width": "initial"
      }
     },
     "ed748724e69043e6b6b9290c21e750fc": {
      "model_module": "@jupyter-widgets/base",
      "model_module_version": "1.0.0",
      "model_name": "LayoutModel",
      "state": {}
     },
     "edabaef891a742adbbefc0fd5d5f800b": {
      "model_module": "@jupyter-widgets/base",
      "model_module_version": "1.0.0",
      "model_name": "LayoutModel",
      "state": {}
     },
     "ee316c314bfc4d6797074694ac08c047": {
      "model_module": "@jupyter-widgets/controls",
      "model_module_version": "1.2.0",
      "model_name": "SliderStyleModel",
      "state": {
       "description_width": "initial"
      }
     },
     "ee930139d1f047a8a177b19da9b7eaae": {
      "model_module": "@jupyter-widgets/base",
      "model_module_version": "1.0.0",
      "model_name": "LayoutModel",
      "state": {}
     },
     "ee93017a10b24dc9b0182a6e30e8d01a": {
      "model_module": "@jupyter-widgets/controls",
      "model_module_version": "1.2.0",
      "model_name": "SliderStyleModel",
      "state": {
       "description_width": "initial"
      }
     },
     "eea700f97181487ea917fd969e471d34": {
      "model_module": "@jupyter-widgets/controls",
      "model_module_version": "1.2.0",
      "model_name": "SliderStyleModel",
      "state": {
       "description_width": "initial"
      }
     },
     "ef084d8c78b04dc790f547be2f33e0c1": {
      "model_module": "@jupyter-widgets/controls",
      "model_module_version": "1.2.0",
      "model_name": "DescriptionStyleModel",
      "state": {
       "description_width": ""
      }
     },
     "ef32c488276b4ee49436f14c7eb80224": {
      "model_module": "@jupyter-widgets/controls",
      "model_module_version": "1.2.0",
      "model_name": "DescriptionStyleModel",
      "state": {
       "description_width": "initial"
      }
     },
     "ef9a73385d5e44f98d5b834775056728": {
      "model_module": "@jupyter-widgets/base",
      "model_module_version": "1.0.0",
      "model_name": "LayoutModel",
      "state": {}
     },
     "efca5c4564284615ac99b7e9a1141952": {
      "model_module": "@jupyter-widgets/controls",
      "model_module_version": "1.2.0",
      "model_name": "RadioButtonsModel",
      "state": {
       "_options_labels": [
        "True",
        "False"
       ],
       "description": "Source On:",
       "index": 0,
       "layout": "IPY_MODEL_8a74ef72a6a64ee3b542b9ea951e68c2",
       "style": "IPY_MODEL_ef084d8c78b04dc790f547be2f33e0c1"
      }
     },
     "efec90a7596e4dcf87ce9e92e30d8a11": {
      "model_module": "@jupyter-widgets/base",
      "model_module_version": "1.0.0",
      "model_name": "LayoutModel",
      "state": {}
     },
     "f0b29ead72d3464c8cd1f76085d64cf0": {
      "model_module": "@jupyter-widgets/controls",
      "model_module_version": "1.2.0",
      "model_name": "DescriptionStyleModel",
      "state": {
       "description_width": "initial"
      }
     },
     "f0fce0215ce14a779d1d1b189dcd5b9b": {
      "model_module": "@jupyter-widgets/controls",
      "model_module_version": "1.2.0",
      "model_name": "DescriptionStyleModel",
      "state": {
       "description_width": "initial"
      }
     },
     "f10e3ad7a0d245298c4728eb6dcc62e6": {
      "model_module": "@jupyter-widgets/base",
      "model_module_version": "1.0.0",
      "model_name": "LayoutModel",
      "state": {}
     },
     "f167a40f398a4c2793b3477378eb3946": {
      "model_module": "@jupyter-widgets/controls",
      "model_module_version": "1.2.0",
      "model_name": "SliderStyleModel",
      "state": {
       "description_width": "initial"
      }
     },
     "f1717553bcf44eeea4ad9964d002a26a": {
      "model_module": "@jupyter-widgets/base",
      "model_module_version": "1.0.0",
      "model_name": "LayoutModel",
      "state": {}
     },
     "f1a6ee6a7ee548678824164846e1cab6": {
      "model_module": "@jupyter-widgets/controls",
      "model_module_version": "1.2.0",
      "model_name": "TextModel",
      "state": {
       "description": "Country Precursor:",
       "layout": "IPY_MODEL_4fcf08906f0a4b36999d29eeebdbb940",
       "placeholder": "Precursor to Country Name",
       "style": "IPY_MODEL_f2ac7280127b4e86be2ec32b547aa983"
      }
     },
     "f1b934e7f98a424b8ba4e3e18778dd69": {
      "model_module": "@jupyter-widgets/controls",
      "model_module_version": "1.2.0",
      "model_name": "SliderStyleModel",
      "state": {
       "description_width": "initial"
      }
     },
     "f1be5247a81f44d9b555bdd629227d9e": {
      "model_module": "@jupyter-widgets/base",
      "model_module_version": "1.0.0",
      "model_name": "LayoutModel",
      "state": {
       "height": "80px",
       "width": "70%"
      }
     },
     "f24ab16761fc4e6da39a7740d33f0d41": {
      "model_module": "@jupyter-widgets/controls",
      "model_module_version": "1.2.0",
      "model_name": "RadioButtonsModel",
      "state": {
       "_options_labels": [
        "True",
        "False"
       ],
       "description": "Source On:",
       "index": 0,
       "layout": "IPY_MODEL_0d57034cc43c42579fcd6411c4f71338",
       "style": "IPY_MODEL_29d3e64748bf48148710bb6aa8adbfff"
      }
     },
     "f269c5af8644416ea95ec704ee411471": {
      "model_module": "@jupyter-widgets/controls",
      "model_module_version": "1.2.0",
      "model_name": "FloatSliderModel",
      "state": {
       "continuous_update": false,
       "description": "Zoom Level:",
       "layout": "IPY_MODEL_79c82f2ba432476db59670e1b4cf9f5b",
       "max": 3,
       "min": 0.5,
       "readout_format": ".1f",
       "step": 0.1,
       "style": "IPY_MODEL_baf52c92a86a4f92be7a33d246e85c0b",
       "value": 1
      }
     },
     "f27a21530a7f4f00bbd53d9d02ff1906": {
      "model_module": "@jupyter-widgets/controls",
      "model_module_version": "1.2.0",
      "model_name": "DescriptionStyleModel",
      "state": {
       "description_width": "initial"
      }
     },
     "f2ac7280127b4e86be2ec32b547aa983": {
      "model_module": "@jupyter-widgets/controls",
      "model_module_version": "1.2.0",
      "model_name": "DescriptionStyleModel",
      "state": {
       "description_width": "initial"
      }
     },
     "f2b09f5367524c3099d70cfe9449e7bd": {
      "model_module": "@jupyter-widgets/controls",
      "model_module_version": "1.2.0",
      "model_name": "DescriptionStyleModel",
      "state": {
       "description_width": "initial"
      }
     },
     "f2b5b91d54c94f749aaf3d8612dddbb4": {
      "model_module": "@jupyter-widgets/controls",
      "model_module_version": "1.2.0",
      "model_name": "ButtonStyleModel",
      "state": {}
     },
     "f30e5fdca0734199a5360bcacb3dac72": {
      "model_module": "@jupyter-widgets/controls",
      "model_module_version": "1.2.0",
      "model_name": "SliderStyleModel",
      "state": {
       "description_width": "initial"
      }
     },
     "f31d4c0391b64b51a873d640bcafe001": {
      "model_module": "@jupyter-widgets/base",
      "model_module_version": "1.0.0",
      "model_name": "LayoutModel",
      "state": {}
     },
     "f360df7c8e5b4ec0aff72985c60dbb91": {
      "model_module": "@jupyter-widgets/base",
      "model_module_version": "1.0.0",
      "model_name": "LayoutModel",
      "state": {}
     },
     "f395b6e7cf84473e988ad75706a607d6": {
      "model_module": "@jupyter-widgets/controls",
      "model_module_version": "1.2.0",
      "model_name": "TextModel",
      "state": {
       "description": "Coordinate System:",
       "layout": "IPY_MODEL_0a8b967da57045f1ad6e412a1c03b490",
       "placeholder": "Type something",
       "style": "IPY_MODEL_0fb037dadede4062b5e1b728b3db43bf",
       "value": "spherical"
      }
     },
     "f3abe3be76044e9b9fb7f71e53f968a8": {
      "model_module": "@jupyter-widgets/base",
      "model_module_version": "1.0.0",
      "model_name": "LayoutModel",
      "state": {}
     },
     "f3b74ccd814b427fb5383b5f00c6e23d": {
      "model_module": "@jupyter-widgets/controls",
      "model_module_version": "1.2.0",
      "model_name": "DescriptionStyleModel",
      "state": {
       "description_width": "initial"
      }
     },
     "f5081d13453f4a5da60c2b8bc8751d88": {
      "model_module": "@jupyter-widgets/controls",
      "model_module_version": "1.2.0",
      "model_name": "TextModel",
      "state": {
       "description": "Country Precursor:",
       "layout": "IPY_MODEL_2d4c8d9240dd4db384a264898f125769",
       "placeholder": "Precursor to Country Name",
       "style": "IPY_MODEL_9a42e3ed21f14285a8724d7fb2be872a"
      }
     },
     "f540d8b53d98419490e948fcc147f6fb": {
      "model_module": "@jupyter-widgets/controls",
      "model_module_version": "1.2.0",
      "model_name": "ToggleButtonsStyleModel",
      "state": {
       "button_width": "",
       "description_width": "initial"
      }
     },
     "f567fbf99f234642a79f32db8c8df088": {
      "model_module": "@jupyter-widgets/controls",
      "model_module_version": "1.2.0",
      "model_name": "SliderStyleModel",
      "state": {
       "description_width": "initial"
      }
     },
     "f579997fad31481fb62dfcbdfb3fdf23": {
      "model_module": "@jupyter-widgets/controls",
      "model_module_version": "1.2.0",
      "model_name": "IntSliderModel",
      "state": {
       "continuous_update": false,
       "description": "DPI (resolution):",
       "layout": "IPY_MODEL_6cfe6b2216bc43668f473e38caadd609",
       "max": 500,
       "min": 100,
       "style": "IPY_MODEL_6775d26edb544efea5ec75038847a00b",
       "value": 300
      }
     },
     "f5a0a62cb8df476c8ffc4110bc5cd6cb": {
      "model_module": "@jupyter-widgets/controls",
      "model_module_version": "1.2.0",
      "model_name": "SliderStyleModel",
      "state": {
       "description_width": "initial"
      }
     },
     "f5c5c994833e40d9b8027e5ffcc60f0b": {
      "model_module": "@jupyter-widgets/base",
      "model_module_version": "1.0.0",
      "model_name": "LayoutModel",
      "state": {}
     },
     "f5c9b35aab294d5880b48b3364375fbb": {
      "model_module": "@jupyter-widgets/base",
      "model_module_version": "1.0.0",
      "model_name": "LayoutModel",
      "state": {}
     },
     "f5dcebc1cca54a0c8d6b22a25c9a3d15": {
      "model_module": "@jupyter-widgets/controls",
      "model_module_version": "1.2.0",
      "model_name": "IntSliderModel",
      "state": {
       "continuous_update": false,
       "description": "Number of Legend Columns:",
       "layout": "IPY_MODEL_6432569873f34594b29c0c10a57b539f",
       "max": 3,
       "min": 1,
       "style": "IPY_MODEL_8ad372ade238496f9e5d13b26318a7aa",
       "value": 1
      }
     },
     "f5e200ea06ab4c90b79f56a68abc7ab3": {
      "model_module": "@jupyter-widgets/controls",
      "model_module_version": "1.2.0",
      "model_name": "SliderStyleModel",
      "state": {
       "description_width": "initial"
      }
     },
     "f60ef9e529304772881cdcdef472606d": {
      "model_module": "@jupyter-widgets/controls",
      "model_module_version": "1.2.0",
      "model_name": "DescriptionStyleModel",
      "state": {
       "description_width": "initial"
      }
     },
     "f63f498741bb4fda8fa314e5602a5674": {
      "model_module": "@jupyter-widgets/controls",
      "model_module_version": "1.2.0",
      "model_name": "TextModel",
      "state": {
       "description": "Country Precursor:",
       "layout": "IPY_MODEL_6e0066f71a424980bc13024c53718326",
       "placeholder": "Precursor to Country Name",
       "style": "IPY_MODEL_73f6816fd9404bd497f08e976d10891a"
      }
     },
     "f6bf2976c79642f3830402d11dd6b9e4": {
      "model_module": "@jupyter-widgets/base",
      "model_module_version": "1.0.0",
      "model_name": "LayoutModel",
      "state": {}
     },
     "f70332aea0de48aa804be93b1583d5d9": {
      "model_module": "@jupyter-widgets/base",
      "model_module_version": "1.0.0",
      "model_name": "LayoutModel",
      "state": {}
     },
     "f73a267fbac0478cbe1fcf19e6cf44be": {
      "model_module": "@jupyter-widgets/base",
      "model_module_version": "1.0.0",
      "model_name": "LayoutModel",
      "state": {}
     },
     "f7883f05ac4446c1a8b08651285e5252": {
      "model_module": "@jupyter-widgets/controls",
      "model_module_version": "1.2.0",
      "model_name": "ToggleButtonsModel",
      "state": {
       "_options_labels": [
        "Simple",
        "Mixed",
        "Complex"
       ],
       "button_style": "",
       "description": "Simplification Level:",
       "icons": [],
       "index": 1,
       "layout": "IPY_MODEL_94041037c4984306a39e2e3c519602e6",
       "style": "IPY_MODEL_57f98d81985943ebb9233853dd4a23f0",
       "tooltips": [
        "Renewables, Fossil, and Nuclear",
        "Solar, Wind, Hydro, Geothermal,Biomass, Wave and Tidal,\n Storage, Fossil, Nuclear",
        "Solar, Wind, Hydro, Geothermal,Biomass, Wave and Tidal,\n Storage, Fossil, Nuclear, Coal, Gas, Oil, Waste, Cogeneration"
       ]
      }
     },
     "f7a594726e20497d9ac9df38db0b7142": {
      "model_module": "@jupyter-widgets/base",
      "model_module_version": "1.0.0",
      "model_name": "LayoutModel",
      "state": {}
     },
     "f7e120cb18cb412bb8a44f2f8561f07d": {
      "model_module": "@jupyter-widgets/base",
      "model_module_version": "1.0.0",
      "model_name": "LayoutModel",
      "state": {}
     },
     "f80b1e34bd474b28a06ff7d7ef9551c0": {
      "model_module": "@jupyter-widgets/controls",
      "model_module_version": "1.2.0",
      "model_name": "IntSliderModel",
      "state": {
       "continuous_update": false,
       "description": "DPI (resolution):",
       "layout": "IPY_MODEL_5bc40838e6f4495894055c8e364bf0bc",
       "max": 500,
       "min": 100,
       "style": "IPY_MODEL_f30e5fdca0734199a5360bcacb3dac72",
       "value": 300
      }
     },
     "f816247e72374ed0958f6f778806cc87": {
      "model_module": "@jupyter-widgets/controls",
      "model_module_version": "1.2.0",
      "model_name": "TextModel",
      "state": {
       "description": "Show Populated Places:",
       "layout": "IPY_MODEL_00a0fe164d5741d1a4e4e1bdb1dc6fc3",
       "placeholder": "Type something",
       "style": "IPY_MODEL_b983357ef1ea48b2858517de320d32cb",
       "value": "False"
      }
     },
     "f84040bc3716473781a18b5d45ed7a9a": {
      "model_module": "@jupyter-widgets/controls",
      "model_module_version": "1.2.0",
      "model_name": "DescriptionStyleModel",
      "state": {
       "description_width": "initial"
      }
     },
     "f8a374eb5b414ed9917db077d3ce4fa6": {
      "model_module": "@jupyter-widgets/base",
      "model_module_version": "1.0.0",
      "model_name": "LayoutModel",
      "state": {}
     },
     "f8bd7dac3b76458f96844f65fcdbcf26": {
      "model_module": "@jupyter-widgets/controls",
      "model_module_version": "1.2.0",
      "model_name": "TextModel",
      "state": {
       "description": "Island Size Thresh:",
       "layout": "IPY_MODEL_735bd5cf91f341a0aaa7053f80bdd2b2",
       "placeholder": "Type a island thresh",
       "style": "IPY_MODEL_7f20be3a9ad5443480abf467c51df891",
       "value": "5000"
      }
     },
     "f96ce9d99ddd408eb418c15e9588ca96": {
      "model_module": "@jupyter-widgets/controls",
      "model_module_version": "1.2.0",
      "model_name": "TextModel",
      "state": {
       "description": "Country Name:",
       "layout": "IPY_MODEL_1ebcbc129f174ce48f0645123da97ee0",
       "placeholder": "Type a country name",
       "style": "IPY_MODEL_fa00187c9aa9465ea4448259f3c2d363",
       "value": "India"
      }
     },
     "f9f2f1b22e424deca50558d80b7721ad": {
      "model_module": "@jupyter-widgets/controls",
      "model_module_version": "1.2.0",
      "model_name": "DropdownModel",
      "state": {
       "_options_labels": [
        "capacity",
        "alphabetical"
       ],
       "description": "Sort Legend By:",
       "index": 0,
       "layout": "IPY_MODEL_8ab9c247c0d945d49190471914a03182",
       "style": "IPY_MODEL_6ed5f3e0fa4f4bfd9ccd6bf9299d1932"
      }
     },
     "f9fc6cc099334417a40eb2d3aa0f28e0": {
      "model_module": "@jupyter-widgets/controls",
      "model_module_version": "1.2.0",
      "model_name": "DescriptionStyleModel",
      "state": {
       "description_width": "initial"
      }
     },
     "fa00187c9aa9465ea4448259f3c2d363": {
      "model_module": "@jupyter-widgets/controls",
      "model_module_version": "1.2.0",
      "model_name": "DescriptionStyleModel",
      "state": {
       "description_width": "initial"
      }
     },
     "fa2bbe276f3744e1b839af5aaecb377b": {
      "model_module": "@jupyter-widgets/controls",
      "model_module_version": "1.2.0",
      "model_name": "ButtonStyleModel",
      "state": {}
     },
     "fb9917d7c06646d6a1be1ce5f725e1e2": {
      "model_module": "@jupyter-widgets/controls",
      "model_module_version": "1.2.0",
      "model_name": "DescriptionStyleModel",
      "state": {
       "description_width": "initial"
      }
     },
     "fbef8c4c9b4b46b3acf050564b45be5e": {
      "model_module": "@jupyter-widgets/base",
      "model_module_version": "1.0.0",
      "model_name": "LayoutModel",
      "state": {
       "height": "80px",
       "width": "70%"
      }
     },
     "fc0b6ce126f8448ea1ea67389d804e9c": {
      "model_module": "@jupyter-widgets/base",
      "model_module_version": "1.0.0",
      "model_name": "LayoutModel",
      "state": {}
     },
     "fc0bab5a38904c1fba240e51d9566eab": {
      "model_module": "@jupyter-widgets/base",
      "model_module_version": "1.0.0",
      "model_name": "LayoutModel",
      "state": {}
     },
     "fc2274827a4a4778aa86176cf6aec521": {
      "model_module": "@jupyter-widgets/controls",
      "model_module_version": "1.2.0",
      "model_name": "IntSliderModel",
      "state": {
       "continuous_update": false,
       "description": "DPI (resolution):",
       "layout": "IPY_MODEL_837136d7f6d645b282b942cd7c4aae5d",
       "max": 500,
       "min": 100,
       "style": "IPY_MODEL_9e1f28bc71734eaea6acf9896583ef44",
       "value": 300
      }
     },
     "fc2b732d5386425daf7fb176eb22bf35": {
      "model_module": "@jupyter-widgets/controls",
      "model_module_version": "1.2.0",
      "model_name": "ToggleButtonsModel",
      "state": {
       "_options_labels": [
        "Simple",
        "Mixed",
        "Complex"
       ],
       "button_style": "",
       "description": "Simplification Level:",
       "icons": [],
       "index": 1,
       "layout": "IPY_MODEL_1c94b696932e4bebbd10ee724bb923e5",
       "style": "IPY_MODEL_62120a2667734b24bf68ce5c6e279941",
       "tooltips": [
        "Renewables, Fossil, and Nuclear",
        "Solar, Wind, Hydro, Geothermal,Biomass, Wave and Tidal,\n Storage, Fossil, Nuclear",
        "Solar, Wind, Hydro, Geothermal,Biomass, Wave and Tidal,\n Storage, Fossil, Nuclear, Coal, Gas, Oil, Waste, Cogeneration"
       ]
      }
     },
     "fc33ff048f9a49dc83612882ace305f7": {
      "model_module": "@jupyter-widgets/controls",
      "model_module_version": "1.2.0",
      "model_name": "DescriptionStyleModel",
      "state": {
       "description_width": "initial"
      }
     },
     "fc60600da42d414da5a0b782f0544a35": {
      "model_module": "@jupyter-widgets/controls",
      "model_module_version": "1.2.0",
      "model_name": "RadioButtonsModel",
      "state": {
       "_options_labels": [
        "True",
        "False"
       ],
       "description": "Source On:",
       "index": 0,
       "layout": "IPY_MODEL_25a1dd0c43384fcb88fe90710a8a2143",
       "style": "IPY_MODEL_4ef621d69b0746bd97b334fbff6917d7"
      }
     },
     "fcb6f2759fe5415b9aaa0d1a9a19c6fc": {
      "model_module": "@jupyter-widgets/controls",
      "model_module_version": "1.2.0",
      "model_name": "IntSliderModel",
      "state": {
       "continuous_update": false,
       "description": "Number of Legend Columns:",
       "layout": "IPY_MODEL_7bab429d27c54cbaaa34c0442f95640d",
       "max": 3,
       "min": 1,
       "style": "IPY_MODEL_7aec7fc355204be394f975af30341b70",
       "value": 1
      }
     },
     "fd12f7200d614261911ba9e54207e1c3": {
      "model_module": "@jupyter-widgets/base",
      "model_module_version": "1.0.0",
      "model_name": "LayoutModel",
      "state": {}
     },
     "fd9131bdf73e4df6910dadbaadbc489f": {
      "model_module": "@jupyter-widgets/controls",
      "model_module_version": "1.2.0",
      "model_name": "TextModel",
      "state": {
       "description": "Country Precursor:",
       "layout": "IPY_MODEL_b9ff931e5d834687ad85c52e6c2b9a5c",
       "placeholder": "Precursor to Country Name",
       "style": "IPY_MODEL_e574806b43d541a4a04eaeaa7d75d805"
      }
     },
     "fde3241d6e2d4d7ea8c354c5cbb8ce9e": {
      "model_module": "@jupyter-widgets/controls",
      "model_module_version": "1.2.0",
      "model_name": "TextModel",
      "state": {
       "description": "Country Precursor:",
       "layout": "IPY_MODEL_50696cb0c10d4437aecc924c27943409",
       "placeholder": "Precursor to Country Name",
       "style": "IPY_MODEL_b5ef4d43e4ff4d47b3451cd85d91eee7"
      }
     },
     "fe13b2fd3268453896c9eb11d4c06fd5": {
      "model_module": "@jupyter-widgets/controls",
      "model_module_version": "1.2.0",
      "model_name": "IntSliderModel",
      "state": {
       "continuous_update": false,
       "description": "Number of Legend Columns:",
       "layout": "IPY_MODEL_ec321d96197542c989738ad79586ac96",
       "max": 3,
       "min": 1,
       "style": "IPY_MODEL_bf5a328e8a704319bafb1457c661a492",
       "value": 1
      }
     },
     "feb06c0c3e894536819e43823020e7db": {
      "model_module": "@jupyter-widgets/controls",
      "model_module_version": "1.2.0",
      "model_name": "ButtonStyleModel",
      "state": {}
     },
     "feb8bb93fa6f4c508cce727cd79e2483": {
      "model_module": "@jupyter-widgets/base",
      "model_module_version": "1.0.0",
      "model_name": "LayoutModel",
      "state": {}
     },
     "fed9b0e964f04423bea13b87a9116a31": {
      "model_module": "@jupyter-widgets/base",
      "model_module_version": "1.0.0",
      "model_name": "LayoutModel",
      "state": {}
     },
     "fee5a3a78cf5455abb69bd438fb5452d": {
      "model_module": "@jupyter-widgets/controls",
      "model_module_version": "1.2.0",
      "model_name": "SliderStyleModel",
      "state": {
       "description_width": "initial"
      }
     },
     "ffd8beec813f443c97b3b531e32b7276": {
      "model_module": "@jupyter-widgets/base",
      "model_module_version": "1.0.0",
      "model_name": "LayoutModel",
      "state": {}
     },
     "ffee48b8b4484108b67bffe9ba80a3ee": {
      "model_module": "@jupyter-widgets/controls",
      "model_module_version": "1.2.0",
      "model_name": "IntSliderModel",
      "state": {
       "continuous_update": false,
       "description": "DPI (resolution):",
       "layout": "IPY_MODEL_20d7a650f22145d39f6cefed74b5056c",
       "max": 500,
       "min": 100,
       "style": "IPY_MODEL_3455a7b0455e4fcdab8fec810f05b67c",
       "value": 300
      }
     }
    },
    "version_major": 2,
    "version_minor": 0
   }
  }
 },
 "nbformat": 4,
 "nbformat_minor": 2
}
