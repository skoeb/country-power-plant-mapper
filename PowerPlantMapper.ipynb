{
 "cells": [
  {
   "cell_type": "markdown",
   "metadata": {},
   "source": [
    "# *Country Power Plant Mapper*\n",
    "\n",
    "## This application easily produces publication ready bubble maps displaying the types and sizes of grid-connected generators in any country. \n",
    "## All without touching a line of code!\n",
    "\n",
    "### Basic Instructions:\n",
    "1. Initialize the application by clicking on 'Cell' in the menu bar and selecting 'Run All'.\n",
    "2. Enter the __Country Name__.\n",
    "3. Choose the desired level of __Simplification__ for resource type:\n",
    "    -  *Simple* breaks resources into 'Renewable', 'Fossil', and 'Nuclear'.\n",
    "    -  *Mixed* subdivides renewables (solar, wind, etc.) but keeps 'Fossil' together. \n",
    "    -  *Complex* labels every resource type.\n",
    "    \n",
    "\n",
    "4. Press the __Update Plot__ button. Be patient, it can take a few seconds.\n",
    "5. Drag the legend to a better location, if needed (this can be a little wonky––sorry). \n",
    "6. To save the image, click the power symbol in the upper right portion of the map. Then right click on the map and select 'Save Image As'. \n",
    "\n",
    "Check out the __Advanced Instructions__ section below if you need additional control."
   ]
  },
  {
   "cell_type": "code",
   "execution_count": 1,
   "metadata": {
    "init_cell": true,
    "scrolled": true
   },
   "outputs": [
    {
     "data": {
      "text/html": [
       "<style>.container { width:80% !important; }</style>"
      ],
      "text/plain": [
       "<IPython.core.display.HTML object>"
      ]
     },
     "metadata": {},
     "output_type": "display_data"
    },
    {
     "data": {
      "application/vnd.jupyter.widget-view+json": {
       "model_id": "7ff295c69862418e82f8fedd8cc08331",
       "version_major": 2,
       "version_minor": 0
      },
      "text/plain": [
       "Text(value='India', description='Country Name:', placeholder='Type a country name', style=DescriptionStyle(des…"
      ]
     },
     "metadata": {},
     "output_type": "display_data"
    },
    {
     "data": {
      "application/vnd.jupyter.widget-view+json": {
       "model_id": "aca582e773e849ffb596395846f47524",
       "version_major": 2,
       "version_minor": 0
      },
      "text/plain": [
       "ToggleButtons(description='Simplification Level:', index=1, options=('Simple', 'Mixed', 'Complex'), style=Togg…"
      ]
     },
     "metadata": {},
     "output_type": "display_data"
    }
   ],
   "source": [
    "import parameterwidgets as pw\n",
    "pw.showbasicwidgets()"
   ]
  },
  {
   "cell_type": "code",
   "execution_count": 2,
   "metadata": {
    "init_cell": true
   },
   "outputs": [
    {
     "data": {
      "application/vnd.jupyter.widget-view+json": {
       "model_id": "feeb6665ff85441aa30b4359b7dfb3b9",
       "version_major": 2,
       "version_minor": 0
      },
      "text/plain": [
       "Button(description='Update Plot', icon='check', layout=Layout(height='80px', width='70%'), style=ButtonStyle()…"
      ]
     },
     "metadata": {},
     "output_type": "display_data"
    },
    {
     "data": {
      "application/javascript": [
       "/* Put everything inside the global mpl namespace */\n",
       "window.mpl = {};\n",
       "\n",
       "\n",
       "mpl.get_websocket_type = function() {\n",
       "    if (typeof(WebSocket) !== 'undefined') {\n",
       "        return WebSocket;\n",
       "    } else if (typeof(MozWebSocket) !== 'undefined') {\n",
       "        return MozWebSocket;\n",
       "    } else {\n",
       "        alert('Your browser does not have WebSocket support.' +\n",
       "              'Please try Chrome, Safari or Firefox ≥ 6. ' +\n",
       "              'Firefox 4 and 5 are also supported but you ' +\n",
       "              'have to enable WebSockets in about:config.');\n",
       "    };\n",
       "}\n",
       "\n",
       "mpl.figure = function(figure_id, websocket, ondownload, parent_element) {\n",
       "    this.id = figure_id;\n",
       "\n",
       "    this.ws = websocket;\n",
       "\n",
       "    this.supports_binary = (this.ws.binaryType != undefined);\n",
       "\n",
       "    if (!this.supports_binary) {\n",
       "        var warnings = document.getElementById(\"mpl-warnings\");\n",
       "        if (warnings) {\n",
       "            warnings.style.display = 'block';\n",
       "            warnings.textContent = (\n",
       "                \"This browser does not support binary websocket messages. \" +\n",
       "                    \"Performance may be slow.\");\n",
       "        }\n",
       "    }\n",
       "\n",
       "    this.imageObj = new Image();\n",
       "\n",
       "    this.context = undefined;\n",
       "    this.message = undefined;\n",
       "    this.canvas = undefined;\n",
       "    this.rubberband_canvas = undefined;\n",
       "    this.rubberband_context = undefined;\n",
       "    this.format_dropdown = undefined;\n",
       "\n",
       "    this.image_mode = 'full';\n",
       "\n",
       "    this.root = $('<div/>');\n",
       "    this._root_extra_style(this.root)\n",
       "    this.root.attr('style', 'display: inline-block');\n",
       "\n",
       "    $(parent_element).append(this.root);\n",
       "\n",
       "    this._init_header(this);\n",
       "    this._init_canvas(this);\n",
       "    this._init_toolbar(this);\n",
       "\n",
       "    var fig = this;\n",
       "\n",
       "    this.waiting = false;\n",
       "\n",
       "    this.ws.onopen =  function () {\n",
       "            fig.send_message(\"supports_binary\", {value: fig.supports_binary});\n",
       "            fig.send_message(\"send_image_mode\", {});\n",
       "            if (mpl.ratio != 1) {\n",
       "                fig.send_message(\"set_dpi_ratio\", {'dpi_ratio': mpl.ratio});\n",
       "            }\n",
       "            fig.send_message(\"refresh\", {});\n",
       "        }\n",
       "\n",
       "    this.imageObj.onload = function() {\n",
       "            if (fig.image_mode == 'full') {\n",
       "                // Full images could contain transparency (where diff images\n",
       "                // almost always do), so we need to clear the canvas so that\n",
       "                // there is no ghosting.\n",
       "                fig.context.clearRect(0, 0, fig.canvas.width, fig.canvas.height);\n",
       "            }\n",
       "            fig.context.drawImage(fig.imageObj, 0, 0);\n",
       "        };\n",
       "\n",
       "    this.imageObj.onunload = function() {\n",
       "        fig.ws.close();\n",
       "    }\n",
       "\n",
       "    this.ws.onmessage = this._make_on_message_function(this);\n",
       "\n",
       "    this.ondownload = ondownload;\n",
       "}\n",
       "\n",
       "mpl.figure.prototype._init_header = function() {\n",
       "    var titlebar = $(\n",
       "        '<div class=\"ui-dialog-titlebar ui-widget-header ui-corner-all ' +\n",
       "        'ui-helper-clearfix\"/>');\n",
       "    var titletext = $(\n",
       "        '<div class=\"ui-dialog-title\" style=\"width: 100%; ' +\n",
       "        'text-align: center; padding: 3px;\"/>');\n",
       "    titlebar.append(titletext)\n",
       "    this.root.append(titlebar);\n",
       "    this.header = titletext[0];\n",
       "}\n",
       "\n",
       "\n",
       "\n",
       "mpl.figure.prototype._canvas_extra_style = function(canvas_div) {\n",
       "\n",
       "}\n",
       "\n",
       "\n",
       "mpl.figure.prototype._root_extra_style = function(canvas_div) {\n",
       "\n",
       "}\n",
       "\n",
       "mpl.figure.prototype._init_canvas = function() {\n",
       "    var fig = this;\n",
       "\n",
       "    var canvas_div = $('<div/>');\n",
       "\n",
       "    canvas_div.attr('style', 'position: relative; clear: both; outline: 0');\n",
       "\n",
       "    function canvas_keyboard_event(event) {\n",
       "        return fig.key_event(event, event['data']);\n",
       "    }\n",
       "\n",
       "    canvas_div.keydown('key_press', canvas_keyboard_event);\n",
       "    canvas_div.keyup('key_release', canvas_keyboard_event);\n",
       "    this.canvas_div = canvas_div\n",
       "    this._canvas_extra_style(canvas_div)\n",
       "    this.root.append(canvas_div);\n",
       "\n",
       "    var canvas = $('<canvas/>');\n",
       "    canvas.addClass('mpl-canvas');\n",
       "    canvas.attr('style', \"left: 0; top: 0; z-index: 0; outline: 0\")\n",
       "\n",
       "    this.canvas = canvas[0];\n",
       "    this.context = canvas[0].getContext(\"2d\");\n",
       "\n",
       "    var backingStore = this.context.backingStorePixelRatio ||\n",
       "\tthis.context.webkitBackingStorePixelRatio ||\n",
       "\tthis.context.mozBackingStorePixelRatio ||\n",
       "\tthis.context.msBackingStorePixelRatio ||\n",
       "\tthis.context.oBackingStorePixelRatio ||\n",
       "\tthis.context.backingStorePixelRatio || 1;\n",
       "\n",
       "    mpl.ratio = (window.devicePixelRatio || 1) / backingStore;\n",
       "\n",
       "    var rubberband = $('<canvas/>');\n",
       "    rubberband.attr('style', \"position: absolute; left: 0; top: 0; z-index: 1;\")\n",
       "\n",
       "    var pass_mouse_events = true;\n",
       "\n",
       "    canvas_div.resizable({\n",
       "        start: function(event, ui) {\n",
       "            pass_mouse_events = false;\n",
       "        },\n",
       "        resize: function(event, ui) {\n",
       "            fig.request_resize(ui.size.width, ui.size.height);\n",
       "        },\n",
       "        stop: function(event, ui) {\n",
       "            pass_mouse_events = true;\n",
       "            fig.request_resize(ui.size.width, ui.size.height);\n",
       "        },\n",
       "    });\n",
       "\n",
       "    function mouse_event_fn(event) {\n",
       "        if (pass_mouse_events)\n",
       "            return fig.mouse_event(event, event['data']);\n",
       "    }\n",
       "\n",
       "    rubberband.mousedown('button_press', mouse_event_fn);\n",
       "    rubberband.mouseup('button_release', mouse_event_fn);\n",
       "    // Throttle sequential mouse events to 1 every 20ms.\n",
       "    rubberband.mousemove('motion_notify', mouse_event_fn);\n",
       "\n",
       "    rubberband.mouseenter('figure_enter', mouse_event_fn);\n",
       "    rubberband.mouseleave('figure_leave', mouse_event_fn);\n",
       "\n",
       "    canvas_div.on(\"wheel\", function (event) {\n",
       "        event = event.originalEvent;\n",
       "        event['data'] = 'scroll'\n",
       "        if (event.deltaY < 0) {\n",
       "            event.step = 1;\n",
       "        } else {\n",
       "            event.step = -1;\n",
       "        }\n",
       "        mouse_event_fn(event);\n",
       "    });\n",
       "\n",
       "    canvas_div.append(canvas);\n",
       "    canvas_div.append(rubberband);\n",
       "\n",
       "    this.rubberband = rubberband;\n",
       "    this.rubberband_canvas = rubberband[0];\n",
       "    this.rubberband_context = rubberband[0].getContext(\"2d\");\n",
       "    this.rubberband_context.strokeStyle = \"#000000\";\n",
       "\n",
       "    this._resize_canvas = function(width, height) {\n",
       "        // Keep the size of the canvas, canvas container, and rubber band\n",
       "        // canvas in synch.\n",
       "        canvas_div.css('width', width)\n",
       "        canvas_div.css('height', height)\n",
       "\n",
       "        canvas.attr('width', width * mpl.ratio);\n",
       "        canvas.attr('height', height * mpl.ratio);\n",
       "        canvas.attr('style', 'width: ' + width + 'px; height: ' + height + 'px;');\n",
       "\n",
       "        rubberband.attr('width', width);\n",
       "        rubberband.attr('height', height);\n",
       "    }\n",
       "\n",
       "    // Set the figure to an initial 600x600px, this will subsequently be updated\n",
       "    // upon first draw.\n",
       "    this._resize_canvas(600, 600);\n",
       "\n",
       "    // Disable right mouse context menu.\n",
       "    $(this.rubberband_canvas).bind(\"contextmenu\",function(e){\n",
       "        return false;\n",
       "    });\n",
       "\n",
       "    function set_focus () {\n",
       "        canvas.focus();\n",
       "        canvas_div.focus();\n",
       "    }\n",
       "\n",
       "    window.setTimeout(set_focus, 100);\n",
       "}\n",
       "\n",
       "mpl.figure.prototype._init_toolbar = function() {\n",
       "    var fig = this;\n",
       "\n",
       "    var nav_element = $('<div/>')\n",
       "    nav_element.attr('style', 'width: 100%');\n",
       "    this.root.append(nav_element);\n",
       "\n",
       "    // Define a callback function for later on.\n",
       "    function toolbar_event(event) {\n",
       "        return fig.toolbar_button_onclick(event['data']);\n",
       "    }\n",
       "    function toolbar_mouse_event(event) {\n",
       "        return fig.toolbar_button_onmouseover(event['data']);\n",
       "    }\n",
       "\n",
       "    for(var toolbar_ind in mpl.toolbar_items) {\n",
       "        var name = mpl.toolbar_items[toolbar_ind][0];\n",
       "        var tooltip = mpl.toolbar_items[toolbar_ind][1];\n",
       "        var image = mpl.toolbar_items[toolbar_ind][2];\n",
       "        var method_name = mpl.toolbar_items[toolbar_ind][3];\n",
       "\n",
       "        if (!name) {\n",
       "            // put a spacer in here.\n",
       "            continue;\n",
       "        }\n",
       "        var button = $('<button/>');\n",
       "        button.addClass('ui-button ui-widget ui-state-default ui-corner-all ' +\n",
       "                        'ui-button-icon-only');\n",
       "        button.attr('role', 'button');\n",
       "        button.attr('aria-disabled', 'false');\n",
       "        button.click(method_name, toolbar_event);\n",
       "        button.mouseover(tooltip, toolbar_mouse_event);\n",
       "\n",
       "        var icon_img = $('<span/>');\n",
       "        icon_img.addClass('ui-button-icon-primary ui-icon');\n",
       "        icon_img.addClass(image);\n",
       "        icon_img.addClass('ui-corner-all');\n",
       "\n",
       "        var tooltip_span = $('<span/>');\n",
       "        tooltip_span.addClass('ui-button-text');\n",
       "        tooltip_span.html(tooltip);\n",
       "\n",
       "        button.append(icon_img);\n",
       "        button.append(tooltip_span);\n",
       "\n",
       "        nav_element.append(button);\n",
       "    }\n",
       "\n",
       "    var fmt_picker_span = $('<span/>');\n",
       "\n",
       "    var fmt_picker = $('<select/>');\n",
       "    fmt_picker.addClass('mpl-toolbar-option ui-widget ui-widget-content');\n",
       "    fmt_picker_span.append(fmt_picker);\n",
       "    nav_element.append(fmt_picker_span);\n",
       "    this.format_dropdown = fmt_picker[0];\n",
       "\n",
       "    for (var ind in mpl.extensions) {\n",
       "        var fmt = mpl.extensions[ind];\n",
       "        var option = $(\n",
       "            '<option/>', {selected: fmt === mpl.default_extension}).html(fmt);\n",
       "        fmt_picker.append(option)\n",
       "    }\n",
       "\n",
       "    // Add hover states to the ui-buttons\n",
       "    $( \".ui-button\" ).hover(\n",
       "        function() { $(this).addClass(\"ui-state-hover\");},\n",
       "        function() { $(this).removeClass(\"ui-state-hover\");}\n",
       "    );\n",
       "\n",
       "    var status_bar = $('<span class=\"mpl-message\"/>');\n",
       "    nav_element.append(status_bar);\n",
       "    this.message = status_bar[0];\n",
       "}\n",
       "\n",
       "mpl.figure.prototype.request_resize = function(x_pixels, y_pixels) {\n",
       "    // Request matplotlib to resize the figure. Matplotlib will then trigger a resize in the client,\n",
       "    // which will in turn request a refresh of the image.\n",
       "    this.send_message('resize', {'width': x_pixels, 'height': y_pixels});\n",
       "}\n",
       "\n",
       "mpl.figure.prototype.send_message = function(type, properties) {\n",
       "    properties['type'] = type;\n",
       "    properties['figure_id'] = this.id;\n",
       "    this.ws.send(JSON.stringify(properties));\n",
       "}\n",
       "\n",
       "mpl.figure.prototype.send_draw_message = function() {\n",
       "    if (!this.waiting) {\n",
       "        this.waiting = true;\n",
       "        this.ws.send(JSON.stringify({type: \"draw\", figure_id: this.id}));\n",
       "    }\n",
       "}\n",
       "\n",
       "\n",
       "mpl.figure.prototype.handle_save = function(fig, msg) {\n",
       "    var format_dropdown = fig.format_dropdown;\n",
       "    var format = format_dropdown.options[format_dropdown.selectedIndex].value;\n",
       "    fig.ondownload(fig, format);\n",
       "}\n",
       "\n",
       "\n",
       "mpl.figure.prototype.handle_resize = function(fig, msg) {\n",
       "    var size = msg['size'];\n",
       "    if (size[0] != fig.canvas.width || size[1] != fig.canvas.height) {\n",
       "        fig._resize_canvas(size[0], size[1]);\n",
       "        fig.send_message(\"refresh\", {});\n",
       "    };\n",
       "}\n",
       "\n",
       "mpl.figure.prototype.handle_rubberband = function(fig, msg) {\n",
       "    var x0 = msg['x0'] / mpl.ratio;\n",
       "    var y0 = (fig.canvas.height - msg['y0']) / mpl.ratio;\n",
       "    var x1 = msg['x1'] / mpl.ratio;\n",
       "    var y1 = (fig.canvas.height - msg['y1']) / mpl.ratio;\n",
       "    x0 = Math.floor(x0) + 0.5;\n",
       "    y0 = Math.floor(y0) + 0.5;\n",
       "    x1 = Math.floor(x1) + 0.5;\n",
       "    y1 = Math.floor(y1) + 0.5;\n",
       "    var min_x = Math.min(x0, x1);\n",
       "    var min_y = Math.min(y0, y1);\n",
       "    var width = Math.abs(x1 - x0);\n",
       "    var height = Math.abs(y1 - y0);\n",
       "\n",
       "    fig.rubberband_context.clearRect(\n",
       "        0, 0, fig.canvas.width, fig.canvas.height);\n",
       "\n",
       "    fig.rubberband_context.strokeRect(min_x, min_y, width, height);\n",
       "}\n",
       "\n",
       "mpl.figure.prototype.handle_figure_label = function(fig, msg) {\n",
       "    // Updates the figure title.\n",
       "    fig.header.textContent = msg['label'];\n",
       "}\n",
       "\n",
       "mpl.figure.prototype.handle_cursor = function(fig, msg) {\n",
       "    var cursor = msg['cursor'];\n",
       "    switch(cursor)\n",
       "    {\n",
       "    case 0:\n",
       "        cursor = 'pointer';\n",
       "        break;\n",
       "    case 1:\n",
       "        cursor = 'default';\n",
       "        break;\n",
       "    case 2:\n",
       "        cursor = 'crosshair';\n",
       "        break;\n",
       "    case 3:\n",
       "        cursor = 'move';\n",
       "        break;\n",
       "    }\n",
       "    fig.rubberband_canvas.style.cursor = cursor;\n",
       "}\n",
       "\n",
       "mpl.figure.prototype.handle_message = function(fig, msg) {\n",
       "    fig.message.textContent = msg['message'];\n",
       "}\n",
       "\n",
       "mpl.figure.prototype.handle_draw = function(fig, msg) {\n",
       "    // Request the server to send over a new figure.\n",
       "    fig.send_draw_message();\n",
       "}\n",
       "\n",
       "mpl.figure.prototype.handle_image_mode = function(fig, msg) {\n",
       "    fig.image_mode = msg['mode'];\n",
       "}\n",
       "\n",
       "mpl.figure.prototype.updated_canvas_event = function() {\n",
       "    // Called whenever the canvas gets updated.\n",
       "    this.send_message(\"ack\", {});\n",
       "}\n",
       "\n",
       "// A function to construct a web socket function for onmessage handling.\n",
       "// Called in the figure constructor.\n",
       "mpl.figure.prototype._make_on_message_function = function(fig) {\n",
       "    return function socket_on_message(evt) {\n",
       "        if (evt.data instanceof Blob) {\n",
       "            /* FIXME: We get \"Resource interpreted as Image but\n",
       "             * transferred with MIME type text/plain:\" errors on\n",
       "             * Chrome.  But how to set the MIME type?  It doesn't seem\n",
       "             * to be part of the websocket stream */\n",
       "            evt.data.type = \"image/png\";\n",
       "\n",
       "            /* Free the memory for the previous frames */\n",
       "            if (fig.imageObj.src) {\n",
       "                (window.URL || window.webkitURL).revokeObjectURL(\n",
       "                    fig.imageObj.src);\n",
       "            }\n",
       "\n",
       "            fig.imageObj.src = (window.URL || window.webkitURL).createObjectURL(\n",
       "                evt.data);\n",
       "            fig.updated_canvas_event();\n",
       "            fig.waiting = false;\n",
       "            return;\n",
       "        }\n",
       "        else if (typeof evt.data === 'string' && evt.data.slice(0, 21) == \"data:image/png;base64\") {\n",
       "            fig.imageObj.src = evt.data;\n",
       "            fig.updated_canvas_event();\n",
       "            fig.waiting = false;\n",
       "            return;\n",
       "        }\n",
       "\n",
       "        var msg = JSON.parse(evt.data);\n",
       "        var msg_type = msg['type'];\n",
       "\n",
       "        // Call the  \"handle_{type}\" callback, which takes\n",
       "        // the figure and JSON message as its only arguments.\n",
       "        try {\n",
       "            var callback = fig[\"handle_\" + msg_type];\n",
       "        } catch (e) {\n",
       "            console.log(\"No handler for the '\" + msg_type + \"' message type: \", msg);\n",
       "            return;\n",
       "        }\n",
       "\n",
       "        if (callback) {\n",
       "            try {\n",
       "                // console.log(\"Handling '\" + msg_type + \"' message: \", msg);\n",
       "                callback(fig, msg);\n",
       "            } catch (e) {\n",
       "                console.log(\"Exception inside the 'handler_\" + msg_type + \"' callback:\", e, e.stack, msg);\n",
       "            }\n",
       "        }\n",
       "    };\n",
       "}\n",
       "\n",
       "// from http://stackoverflow.com/questions/1114465/getting-mouse-location-in-canvas\n",
       "mpl.findpos = function(e) {\n",
       "    //this section is from http://www.quirksmode.org/js/events_properties.html\n",
       "    var targ;\n",
       "    if (!e)\n",
       "        e = window.event;\n",
       "    if (e.target)\n",
       "        targ = e.target;\n",
       "    else if (e.srcElement)\n",
       "        targ = e.srcElement;\n",
       "    if (targ.nodeType == 3) // defeat Safari bug\n",
       "        targ = targ.parentNode;\n",
       "\n",
       "    // jQuery normalizes the pageX and pageY\n",
       "    // pageX,Y are the mouse positions relative to the document\n",
       "    // offset() returns the position of the element relative to the document\n",
       "    var x = e.pageX - $(targ).offset().left;\n",
       "    var y = e.pageY - $(targ).offset().top;\n",
       "\n",
       "    return {\"x\": x, \"y\": y};\n",
       "};\n",
       "\n",
       "/*\n",
       " * return a copy of an object with only non-object keys\n",
       " * we need this to avoid circular references\n",
       " * http://stackoverflow.com/a/24161582/3208463\n",
       " */\n",
       "function simpleKeys (original) {\n",
       "  return Object.keys(original).reduce(function (obj, key) {\n",
       "    if (typeof original[key] !== 'object')\n",
       "        obj[key] = original[key]\n",
       "    return obj;\n",
       "  }, {});\n",
       "}\n",
       "\n",
       "mpl.figure.prototype.mouse_event = function(event, name) {\n",
       "    var canvas_pos = mpl.findpos(event)\n",
       "\n",
       "    if (name === 'button_press')\n",
       "    {\n",
       "        this.canvas.focus();\n",
       "        this.canvas_div.focus();\n",
       "    }\n",
       "\n",
       "    var x = canvas_pos.x * mpl.ratio;\n",
       "    var y = canvas_pos.y * mpl.ratio;\n",
       "\n",
       "    this.send_message(name, {x: x, y: y, button: event.button,\n",
       "                             step: event.step,\n",
       "                             guiEvent: simpleKeys(event)});\n",
       "\n",
       "    /* This prevents the web browser from automatically changing to\n",
       "     * the text insertion cursor when the button is pressed.  We want\n",
       "     * to control all of the cursor setting manually through the\n",
       "     * 'cursor' event from matplotlib */\n",
       "    event.preventDefault();\n",
       "    return false;\n",
       "}\n",
       "\n",
       "mpl.figure.prototype._key_event_extra = function(event, name) {\n",
       "    // Handle any extra behaviour associated with a key event\n",
       "}\n",
       "\n",
       "mpl.figure.prototype.key_event = function(event, name) {\n",
       "\n",
       "    // Prevent repeat events\n",
       "    if (name == 'key_press')\n",
       "    {\n",
       "        if (event.which === this._key)\n",
       "            return;\n",
       "        else\n",
       "            this._key = event.which;\n",
       "    }\n",
       "    if (name == 'key_release')\n",
       "        this._key = null;\n",
       "\n",
       "    var value = '';\n",
       "    if (event.ctrlKey && event.which != 17)\n",
       "        value += \"ctrl+\";\n",
       "    if (event.altKey && event.which != 18)\n",
       "        value += \"alt+\";\n",
       "    if (event.shiftKey && event.which != 16)\n",
       "        value += \"shift+\";\n",
       "\n",
       "    value += 'k';\n",
       "    value += event.which.toString();\n",
       "\n",
       "    this._key_event_extra(event, name);\n",
       "\n",
       "    this.send_message(name, {key: value,\n",
       "                             guiEvent: simpleKeys(event)});\n",
       "    return false;\n",
       "}\n",
       "\n",
       "mpl.figure.prototype.toolbar_button_onclick = function(name) {\n",
       "    if (name == 'download') {\n",
       "        this.handle_save(this, null);\n",
       "    } else {\n",
       "        this.send_message(\"toolbar_button\", {name: name});\n",
       "    }\n",
       "};\n",
       "\n",
       "mpl.figure.prototype.toolbar_button_onmouseover = function(tooltip) {\n",
       "    this.message.textContent = tooltip;\n",
       "};\n",
       "mpl.toolbar_items = [[\"Home\", \"Reset original view\", \"fa fa-home icon-home\", \"home\"], [\"Back\", \"Back to  previous view\", \"fa fa-arrow-left icon-arrow-left\", \"back\"], [\"Forward\", \"Forward to next view\", \"fa fa-arrow-right icon-arrow-right\", \"forward\"], [\"\", \"\", \"\", \"\"], [\"Pan\", \"Pan axes with left mouse, zoom with right\", \"fa fa-arrows icon-move\", \"pan\"], [\"Zoom\", \"Zoom to rectangle\", \"fa fa-square-o icon-check-empty\", \"zoom\"], [\"\", \"\", \"\", \"\"], [\"Download\", \"Download plot\", \"fa fa-floppy-o icon-save\", \"download\"]];\n",
       "\n",
       "mpl.extensions = [\"eps\", \"jpeg\", \"pdf\", \"png\", \"ps\", \"raw\", \"svg\", \"tif\"];\n",
       "\n",
       "mpl.default_extension = \"png\";var comm_websocket_adapter = function(comm) {\n",
       "    // Create a \"websocket\"-like object which calls the given IPython comm\n",
       "    // object with the appropriate methods. Currently this is a non binary\n",
       "    // socket, so there is still some room for performance tuning.\n",
       "    var ws = {};\n",
       "\n",
       "    ws.close = function() {\n",
       "        comm.close()\n",
       "    };\n",
       "    ws.send = function(m) {\n",
       "        //console.log('sending', m);\n",
       "        comm.send(m);\n",
       "    };\n",
       "    // Register the callback with on_msg.\n",
       "    comm.on_msg(function(msg) {\n",
       "        //console.log('receiving', msg['content']['data'], msg);\n",
       "        // Pass the mpl event to the overridden (by mpl) onmessage function.\n",
       "        ws.onmessage(msg['content']['data'])\n",
       "    });\n",
       "    return ws;\n",
       "}\n",
       "\n",
       "mpl.mpl_figure_comm = function(comm, msg) {\n",
       "    // This is the function which gets called when the mpl process\n",
       "    // starts-up an IPython Comm through the \"matplotlib\" channel.\n",
       "\n",
       "    var id = msg.content.data.id;\n",
       "    // Get hold of the div created by the display call when the Comm\n",
       "    // socket was opened in Python.\n",
       "    var element = $(\"#\" + id);\n",
       "    var ws_proxy = comm_websocket_adapter(comm)\n",
       "\n",
       "    function ondownload(figure, format) {\n",
       "        window.open(figure.imageObj.src);\n",
       "    }\n",
       "\n",
       "    var fig = new mpl.figure(id, ws_proxy,\n",
       "                           ondownload,\n",
       "                           element.get(0));\n",
       "\n",
       "    // Call onopen now - mpl needs it, as it is assuming we've passed it a real\n",
       "    // web socket which is closed, not our websocket->open comm proxy.\n",
       "    ws_proxy.onopen();\n",
       "\n",
       "    fig.parent_element = element.get(0);\n",
       "    fig.cell_info = mpl.find_output_cell(\"<div id='\" + id + \"'></div>\");\n",
       "    if (!fig.cell_info) {\n",
       "        console.error(\"Failed to find cell for figure\", id, fig);\n",
       "        return;\n",
       "    }\n",
       "\n",
       "    var output_index = fig.cell_info[2]\n",
       "    var cell = fig.cell_info[0];\n",
       "\n",
       "};\n",
       "\n",
       "mpl.figure.prototype.handle_close = function(fig, msg) {\n",
       "    var width = fig.canvas.width/mpl.ratio\n",
       "    fig.root.unbind('remove')\n",
       "\n",
       "    // Update the output cell to use the data from the current canvas.\n",
       "    fig.push_to_output();\n",
       "    var dataURL = fig.canvas.toDataURL();\n",
       "    // Re-enable the keyboard manager in IPython - without this line, in FF,\n",
       "    // the notebook keyboard shortcuts fail.\n",
       "    IPython.keyboard_manager.enable()\n",
       "    $(fig.parent_element).html('<img src=\"' + dataURL + '\" width=\"' + width + '\">');\n",
       "    fig.close_ws(fig, msg);\n",
       "}\n",
       "\n",
       "mpl.figure.prototype.close_ws = function(fig, msg){\n",
       "    fig.send_message('closing', msg);\n",
       "    // fig.ws.close()\n",
       "}\n",
       "\n",
       "mpl.figure.prototype.push_to_output = function(remove_interactive) {\n",
       "    // Turn the data on the canvas into data in the output cell.\n",
       "    var width = this.canvas.width/mpl.ratio\n",
       "    var dataURL = this.canvas.toDataURL();\n",
       "    this.cell_info[1]['text/html'] = '<img src=\"' + dataURL + '\" width=\"' + width + '\">';\n",
       "}\n",
       "\n",
       "mpl.figure.prototype.updated_canvas_event = function() {\n",
       "    // Tell IPython that the notebook contents must change.\n",
       "    IPython.notebook.set_dirty(true);\n",
       "    this.send_message(\"ack\", {});\n",
       "    var fig = this;\n",
       "    // Wait a second, then push the new image to the DOM so\n",
       "    // that it is saved nicely (might be nice to debounce this).\n",
       "    setTimeout(function () { fig.push_to_output() }, 1000);\n",
       "}\n",
       "\n",
       "mpl.figure.prototype._init_toolbar = function() {\n",
       "    var fig = this;\n",
       "\n",
       "    var nav_element = $('<div/>')\n",
       "    nav_element.attr('style', 'width: 100%');\n",
       "    this.root.append(nav_element);\n",
       "\n",
       "    // Define a callback function for later on.\n",
       "    function toolbar_event(event) {\n",
       "        return fig.toolbar_button_onclick(event['data']);\n",
       "    }\n",
       "    function toolbar_mouse_event(event) {\n",
       "        return fig.toolbar_button_onmouseover(event['data']);\n",
       "    }\n",
       "\n",
       "    for(var toolbar_ind in mpl.toolbar_items){\n",
       "        var name = mpl.toolbar_items[toolbar_ind][0];\n",
       "        var tooltip = mpl.toolbar_items[toolbar_ind][1];\n",
       "        var image = mpl.toolbar_items[toolbar_ind][2];\n",
       "        var method_name = mpl.toolbar_items[toolbar_ind][3];\n",
       "\n",
       "        if (!name) { continue; };\n",
       "\n",
       "        var button = $('<button class=\"btn btn-default\" href=\"#\" title=\"' + name + '\"><i class=\"fa ' + image + ' fa-lg\"></i></button>');\n",
       "        button.click(method_name, toolbar_event);\n",
       "        button.mouseover(tooltip, toolbar_mouse_event);\n",
       "        nav_element.append(button);\n",
       "    }\n",
       "\n",
       "    // Add the status bar.\n",
       "    var status_bar = $('<span class=\"mpl-message\" style=\"text-align:right; float: right;\"/>');\n",
       "    nav_element.append(status_bar);\n",
       "    this.message = status_bar[0];\n",
       "\n",
       "    // Add the close button to the window.\n",
       "    var buttongrp = $('<div class=\"btn-group inline pull-right\"></div>');\n",
       "    var button = $('<button class=\"btn btn-mini btn-primary\" href=\"#\" title=\"Stop Interaction\"><i class=\"fa fa-power-off icon-remove icon-large\"></i></button>');\n",
       "    button.click(function (evt) { fig.handle_close(fig, {}); } );\n",
       "    button.mouseover('Stop Interaction', toolbar_mouse_event);\n",
       "    buttongrp.append(button);\n",
       "    var titlebar = this.root.find($('.ui-dialog-titlebar'));\n",
       "    titlebar.prepend(buttongrp);\n",
       "}\n",
       "\n",
       "mpl.figure.prototype._root_extra_style = function(el){\n",
       "    var fig = this\n",
       "    el.on(\"remove\", function(){\n",
       "\tfig.close_ws(fig, {});\n",
       "    });\n",
       "}\n",
       "\n",
       "mpl.figure.prototype._canvas_extra_style = function(el){\n",
       "    // this is important to make the div 'focusable\n",
       "    el.attr('tabindex', 0)\n",
       "    // reach out to IPython and tell the keyboard manager to turn it's self\n",
       "    // off when our div gets focus\n",
       "\n",
       "    // location in version 3\n",
       "    if (IPython.notebook.keyboard_manager) {\n",
       "        IPython.notebook.keyboard_manager.register_events(el);\n",
       "    }\n",
       "    else {\n",
       "        // location in version 2\n",
       "        IPython.keyboard_manager.register_events(el);\n",
       "    }\n",
       "\n",
       "}\n",
       "\n",
       "mpl.figure.prototype._key_event_extra = function(event, name) {\n",
       "    var manager = IPython.notebook.keyboard_manager;\n",
       "    if (!manager)\n",
       "        manager = IPython.keyboard_manager;\n",
       "\n",
       "    // Check for shift+enter\n",
       "    if (event.shiftKey && event.which == 13) {\n",
       "        this.canvas_div.blur();\n",
       "        event.shiftKey = false;\n",
       "        // Send a \"J\" for go to next cell\n",
       "        event.which = 74;\n",
       "        event.keyCode = 74;\n",
       "        manager.command_mode();\n",
       "        manager.handle_keydown(event);\n",
       "    }\n",
       "}\n",
       "\n",
       "mpl.figure.prototype.handle_save = function(fig, msg) {\n",
       "    fig.ondownload(fig, null);\n",
       "}\n",
       "\n",
       "\n",
       "mpl.find_output_cell = function(html_output) {\n",
       "    // Return the cell and output element which can be found *uniquely* in the notebook.\n",
       "    // Note - this is a bit hacky, but it is done because the \"notebook_saving.Notebook\"\n",
       "    // IPython event is triggered only after the cells have been serialised, which for\n",
       "    // our purposes (turning an active figure into a static one), is too late.\n",
       "    var cells = IPython.notebook.get_cells();\n",
       "    var ncells = cells.length;\n",
       "    for (var i=0; i<ncells; i++) {\n",
       "        var cell = cells[i];\n",
       "        if (cell.cell_type === 'code'){\n",
       "            for (var j=0; j<cell.output_area.outputs.length; j++) {\n",
       "                var data = cell.output_area.outputs[j];\n",
       "                if (data.data) {\n",
       "                    // IPython >= 3 moved mimebundle to data attribute of output\n",
       "                    data = data.data;\n",
       "                }\n",
       "                if (data['text/html'] == html_output) {\n",
       "                    return [cell, data, j];\n",
       "                }\n",
       "            }\n",
       "        }\n",
       "    }\n",
       "}\n",
       "\n",
       "// Register the function which deals with the matplotlib target/channel.\n",
       "// The kernel may be null if the page has been refreshed.\n",
       "if (IPython.notebook.kernel != null) {\n",
       "    IPython.notebook.kernel.comm_manager.register_target('matplotlib', mpl.mpl_figure_comm);\n",
       "}\n"
      ],
      "text/plain": [
       "<IPython.core.display.Javascript object>"
      ]
     },
     "metadata": {},
     "output_type": "display_data"
    },
    {
     "data": {
      "text/html": [
       "<img src=\"data:image/png;base64,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\" width=\"767.7777981169435\">"
      ],
      "text/plain": [
       "<IPython.core.display.HTML object>"
      ]
     },
     "metadata": {},
     "output_type": "display_data"
    }
   ],
   "source": [
    "%matplotlib notebook\n",
    "pw.updateplot()"
   ]
  },
  {
   "cell_type": "markdown",
   "metadata": {},
   "source": [
    "### Advanced Instructions:\n",
    "\n",
    "1. __Coordinate System__ sets the crs used in the map projection. The default value is *spherical* which uses EPSG:3857. *Geo* can also be entered for a standard mercator projection (ESPG:4326). A custom CRS can be used by entering the EPSG integer. For example, *5940* (a crs designed for Russia) can be entered to avoid having Russia wrap around the side of the map. Visit __[EPSG](https://epsg.io/3857)__ to find custom coordinate systems. *Default Value: spherical*\n",
    "\n",
    "2. __Number of Legend Columns__. *Default Value: 1*\n",
    "\n",
    "3. __Sort Legend By__ sorts the resources in the legend (not the size indicators) by either *alphabetical* or by the sum of the *capacity* of the resource for the selected country. *Default Value: capacity*\n",
    "\n",
    "4. __Zoom Level__ changes the size of the map portion of the plot. This can be useful to adjust the map for different sized screens, or to provide a bigger map for the purpose of saving. *__WARNING:__* making this value large enough to produce an image wider than the width of the console will result in erratic results! *Default Value: 1.5*\n",
    "\n",
    "5. __Island Size Thresh__ creates a minimum threshold (in km^2) for the geometry of islands to be included in the map. *largest* can also be entered to only select the largest geometry for the country. For example, plotting Canada with the default values includes a number of arctic islands that are useless for the purpose of a power plant map (sorry Baffin island). Setting __Island Size Thresh__ to either *largest* or *8000000* will only display the continental portions of Canada. *Default Value: 200 (km^2)*\n",
    "\n",
    "6. __Show Populated Places__ can be used to draw points on the map in the location of populated cities. Data is drawn from the __[Natural Earth](https://www.naturalearthdata.com/downloads/10m-cultural-vectors/10m-populated-places/)__ database of populated places which includes data for an astonishing number of locations. Additionally, arrows are drawn labeling the name of these points (*__HINT:__* these labels are draggable, although it doesn't work the best!). __Show Populated Places__ can either be *False* (i.e. off), or an integer value which sets the minimum population threshold for a city to be included on the map. *Default Value: False*\n",
    "\n",
    "7. __Bubble Opacity__ is used to change the opacity of the powerplant bubbles. Setting it lower can be useful for countries with a large number of overlapping bubbles (i.e. the United States). *Default Value: 0.5*\n",
    "\n",
    "8. __Country Precursor__ allows you to enter a word (or series of words) to appear before the country name in the title of the plot. For instance, if you entered 'Philippines' as the __Country Name__ but want the title to be 'Power Plants in The Philippines' you could enter *\"The \"* into __Country Precursor__. *Default Value: None*\n",
    "\n",
    "9. __Title On__ turns the title at the top on or off. *Default: True*\n",
    "\n",
    "10. __Source On__ turns the source at the bottom on or off. *Default: True*\n",
    "Feel free to email me at sam.koebrich@NREL.gov with any bugs, comments, or feature requests."
   ]
  },
  {
   "cell_type": "code",
   "execution_count": 3,
   "metadata": {
    "init_cell": true
   },
   "outputs": [
    {
     "data": {
      "application/vnd.jupyter.widget-view+json": {
       "model_id": "2208e967216c466587bbc144d480cbdf",
       "version_major": 2,
       "version_minor": 0
      },
      "text/plain": [
       "Text(value='spherical', description='Coordinate System:', placeholder='Type something', style=DescriptionStyle…"
      ]
     },
     "metadata": {},
     "output_type": "display_data"
    },
    {
     "data": {
      "application/vnd.jupyter.widget-view+json": {
       "model_id": "bd73950a53cd4f22aef551d016c81506",
       "version_major": 2,
       "version_minor": 0
      },
      "text/plain": [
       "IntSlider(value=1, continuous_update=False, description='Number of Legend Columns:', max=3, min=1, style=Slide…"
      ]
     },
     "metadata": {},
     "output_type": "display_data"
    },
    {
     "data": {
      "application/vnd.jupyter.widget-view+json": {
       "model_id": "460e2473e0e04b629774d54276a7d315",
       "version_major": 2,
       "version_minor": 0
      },
      "text/plain": [
       "Dropdown(description='Sort Legend By:', options=('capacity', 'alphabetical'), style=DescriptionStyle(descripti…"
      ]
     },
     "metadata": {},
     "output_type": "display_data"
    },
    {
     "data": {
      "application/vnd.jupyter.widget-view+json": {
       "model_id": "f9f96c152a6a44a092c0fbaebab6c95f",
       "version_major": 2,
       "version_minor": 0
      },
      "text/plain": [
       "FloatSlider(value=1.0, continuous_update=False, description='Zoom Level:', max=3.0, min=0.5, readout_format='.…"
      ]
     },
     "metadata": {},
     "output_type": "display_data"
    },
    {
     "data": {
      "application/vnd.jupyter.widget-view+json": {
       "model_id": "68385bbf11cd4b89b44360b237ac434e",
       "version_major": 2,
       "version_minor": 0
      },
      "text/plain": [
       "Text(value='200', description='Island Size Thresh:', placeholder='Type a island thresh', style=DescriptionStyl…"
      ]
     },
     "metadata": {},
     "output_type": "display_data"
    },
    {
     "data": {
      "application/vnd.jupyter.widget-view+json": {
       "model_id": "6bd21438ff9b4e45b8e29c969c7af473",
       "version_major": 2,
       "version_minor": 0
      },
      "text/plain": [
       "Text(value='False', description='Show Populated Places:', placeholder='Type something', style=DescriptionStyle…"
      ]
     },
     "metadata": {},
     "output_type": "display_data"
    },
    {
     "data": {
      "application/vnd.jupyter.widget-view+json": {
       "model_id": "cd1afb81599d4f1e9833636b3443e053",
       "version_major": 2,
       "version_minor": 0
      },
      "text/plain": [
       "FloatSlider(value=0.5, continuous_update=False, description='Bubble Opacity:', max=1.0, readout_format='.1f', …"
      ]
     },
     "metadata": {},
     "output_type": "display_data"
    },
    {
     "data": {
      "application/vnd.jupyter.widget-view+json": {
       "model_id": "e16ae91b73284d4d8fe91ee3d46ef050",
       "version_major": 2,
       "version_minor": 0
      },
      "text/plain": [
       "Text(value='', description='Country Precursor:', placeholder='Precursor to Country Name', style=DescriptionSty…"
      ]
     },
     "metadata": {},
     "output_type": "display_data"
    },
    {
     "data": {
      "application/vnd.jupyter.widget-view+json": {
       "model_id": "9b395b35227044dc8353f8790ca865c7",
       "version_major": 2,
       "version_minor": 0
      },
      "text/plain": [
       "RadioButtons(description='Title On:', options=(True, False), value=True)"
      ]
     },
     "metadata": {},
     "output_type": "display_data"
    },
    {
     "data": {
      "application/vnd.jupyter.widget-view+json": {
       "model_id": "d5c1076bea694b77b2f471550a86e9f0",
       "version_major": 2,
       "version_minor": 0
      },
      "text/plain": [
       "RadioButtons(description='Source On:', options=(True, False), value=True)"
      ]
     },
     "metadata": {},
     "output_type": "display_data"
    }
   ],
   "source": [
    "pw.showadvancedwidgets()"
   ]
  },
  {
   "cell_type": "markdown",
   "metadata": {},
   "source": [
    "Powerplant data from: \n",
    "Global Energy Observatory, Google, KTH Royal Institute of Technology in Stockholm, Enipedia, World Resources Institute. 2018. Global Power Plant Database. Published on Resource Watch and Google Earth Engine; http://resourcewatch.org/ https://earthengine.google.com/\n",
    "\n",
    "\n",
    "Written in &#128013; with &#128149; by Sam Koebrich for the National Renewable Energy Laboratory."
   ]
  }
 ],
 "metadata": {
  "celltoolbar": "Initialization Cell",
  "kernelspec": {
   "display_name": "Python 3",
   "language": "python",
   "name": "python3"
  },
  "language_info": {
   "codemirror_mode": {
    "name": "ipython",
    "version": 3
   },
   "file_extension": ".py",
   "mimetype": "text/x-python",
   "name": "python",
   "nbconvert_exporter": "python",
   "pygments_lexer": "ipython3",
   "version": "3.6.5"
  },
  "widgets": {
   "application/vnd.jupyter.widget-state+json": {
    "state": {
     "010ed1c7bf0a4848948e308eb71fc2fc": {
      "model_module": "@jupyter-widgets/base",
      "model_module_version": "1.0.0",
      "model_name": "LayoutModel",
      "state": {}
     },
     "02b8a3844d794aed9133f3180581b508": {
      "model_module": "@jupyter-widgets/base",
      "model_module_version": "1.0.0",
      "model_name": "LayoutModel",
      "state": {}
     },
     "058d54805c20450eafbc9db231c5c754": {
      "model_module": "@jupyter-widgets/controls",
      "model_module_version": "1.2.0",
      "model_name": "DescriptionStyleModel",
      "state": {
       "description_width": "initial"
      }
     },
     "05cf403f1c984ed785a57914e07b3ed4": {
      "model_module": "@jupyter-widgets/base",
      "model_module_version": "1.0.0",
      "model_name": "LayoutModel",
      "state": {
       "height": "80px",
       "width": "70%"
      }
     },
     "07d4e4a18cc346ce93b9a10849d918d9": {
      "model_module": "@jupyter-widgets/base",
      "model_module_version": "1.0.0",
      "model_name": "LayoutModel",
      "state": {
       "height": "80px",
       "width": "70%"
      }
     },
     "083a7ffeba7b4bc2931fa493aac2b9c2": {
      "model_module": "@jupyter-widgets/controls",
      "model_module_version": "1.2.0",
      "model_name": "TextModel",
      "state": {
       "description": "Coordinate System:",
       "layout": "IPY_MODEL_8e369e9e95b0412a956edc2eec5ca3ee",
       "placeholder": "Type something",
       "style": "IPY_MODEL_ed2ba2283910438e9213d39295c6c66d",
       "value": "spherical"
      }
     },
     "0a158a000eb841de97f47b8ee7f14c5a": {
      "model_module": "@jupyter-widgets/base",
      "model_module_version": "1.0.0",
      "model_name": "LayoutModel",
      "state": {}
     },
     "0b4622c9ea7d4c03874b56cacb424dcd": {
      "model_module": "@jupyter-widgets/controls",
      "model_module_version": "1.2.0",
      "model_name": "TextModel",
      "state": {
       "description": "Country Precursor:",
       "layout": "IPY_MODEL_7eebd21cecfd4f438cda8b39232357ff",
       "placeholder": "Precursor to Country Name",
       "style": "IPY_MODEL_40c9e9c61a9d49d988156905625739cc"
      }
     },
     "0beff752fed84020bc817f17c2ecaa1d": {
      "model_module": "@jupyter-widgets/base",
      "model_module_version": "1.0.0",
      "model_name": "LayoutModel",
      "state": {}
     },
     "0f486a410ccd413d903252616dc606f3": {
      "model_module": "@jupyter-widgets/controls",
      "model_module_version": "1.2.0",
      "model_name": "FloatSliderModel",
      "state": {
       "continuous_update": false,
       "description": "Bubble Opacity:",
       "layout": "IPY_MODEL_ed748724e69043e6b6b9290c21e750fc",
       "max": 1,
       "readout_format": ".1f",
       "step": 0.1,
       "style": "IPY_MODEL_1a4ed045f62748fbb73330749aa865ba",
       "value": 0.5
      }
     },
     "1038a7a79c4f4339928cf3eca426265d": {
      "model_module": "@jupyter-widgets/controls",
      "model_module_version": "1.2.0",
      "model_name": "TextModel",
      "state": {
       "description": "Show Populated Places:",
       "layout": "IPY_MODEL_893588eccb564a26b2026e0d63bb40d0",
       "placeholder": "Type something",
       "style": "IPY_MODEL_288060d3e82c4d9e995a8e6eb516dbd6",
       "value": "False"
      }
     },
     "10939cd7c0ba4b7f813bbd234f5886ca": {
      "model_module": "@jupyter-widgets/controls",
      "model_module_version": "1.2.0",
      "model_name": "DescriptionStyleModel",
      "state": {
       "description_width": "initial"
      }
     },
     "109d31f70ca84d888591250c0905c01c": {
      "model_module": "@jupyter-widgets/base",
      "model_module_version": "1.0.0",
      "model_name": "LayoutModel",
      "state": {}
     },
     "10d2814d3e2a4514be2f21a0f26f9f9a": {
      "model_module": "@jupyter-widgets/controls",
      "model_module_version": "1.2.0",
      "model_name": "ButtonStyleModel",
      "state": {}
     },
     "12b8b3adb0454383bb82c961e846082a": {
      "model_module": "@jupyter-widgets/controls",
      "model_module_version": "1.2.0",
      "model_name": "SliderStyleModel",
      "state": {
       "description_width": "initial"
      }
     },
     "12e0922dd6844b0badf0173a79d455ba": {
      "model_module": "@jupyter-widgets/base",
      "model_module_version": "1.0.0",
      "model_name": "LayoutModel",
      "state": {}
     },
     "13deba104b124a58808102cf5ca3385b": {
      "model_module": "@jupyter-widgets/controls",
      "model_module_version": "1.2.0",
      "model_name": "ToggleButtonsModel",
      "state": {
       "_options_labels": [
        "Simple",
        "Mixed",
        "Complex"
       ],
       "button_style": "",
       "description": "Simplification Level:",
       "icons": [],
       "index": 1,
       "layout": "IPY_MODEL_3bf6e31885ee4afeafec97f2f5f3953e",
       "style": "IPY_MODEL_34e9edea2dff4ec7b7718a1e90f3e475",
       "tooltips": [
        "Renewables, Fossil, and Nuclear",
        "Solar, Wind, Hydro, Geothermal,Biomass, Wave and Tidal,\n Storage, Fossil, Nuclear",
        "Solar, Wind, Hydro, Geothermal,Biomass, Wave and Tidal,\n Storage, Fossil, Nuclear, Coal, Gas, Oil, Waste, Cogeneration"
       ]
      }
     },
     "14e316bba7b646ec8d29b2f2b9376a70": {
      "model_module": "@jupyter-widgets/controls",
      "model_module_version": "1.2.0",
      "model_name": "DropdownModel",
      "state": {
       "_options_labels": [
        "capacity",
        "alphabetical"
       ],
       "description": "Sort Legend By:",
       "index": 0,
       "layout": "IPY_MODEL_40d16b65d8df44c4b895c47fa60b5ba9",
       "style": "IPY_MODEL_7b7d7fa6e7a34a5daa8b2d4705aa3538"
      }
     },
     "16b0c417099e4e1fb9797faaf460cdab": {
      "model_module": "@jupyter-widgets/controls",
      "model_module_version": "1.2.0",
      "model_name": "DescriptionStyleModel",
      "state": {
       "description_width": "initial"
      }
     },
     "17001cca00194e0cafdee261752dbcdd": {
      "model_module": "@jupyter-widgets/base",
      "model_module_version": "1.0.0",
      "model_name": "LayoutModel",
      "state": {}
     },
     "18e37dd631e84d1c8a1572e0227ca2f5": {
      "model_module": "@jupyter-widgets/base",
      "model_module_version": "1.0.0",
      "model_name": "LayoutModel",
      "state": {}
     },
     "1a4944b730414972b8e78ccc5f174728": {
      "model_module": "@jupyter-widgets/controls",
      "model_module_version": "1.2.0",
      "model_name": "SliderStyleModel",
      "state": {
       "description_width": "initial"
      }
     },
     "1a4ed045f62748fbb73330749aa865ba": {
      "model_module": "@jupyter-widgets/controls",
      "model_module_version": "1.2.0",
      "model_name": "SliderStyleModel",
      "state": {
       "description_width": "initial"
      }
     },
     "1b0ea0b2b7464ed1b8cbe979839ced9b": {
      "model_module": "@jupyter-widgets/base",
      "model_module_version": "1.0.0",
      "model_name": "LayoutModel",
      "state": {}
     },
     "1b1af95fda874a35830da77937472a16": {
      "model_module": "@jupyter-widgets/controls",
      "model_module_version": "1.2.0",
      "model_name": "DescriptionStyleModel",
      "state": {
       "description_width": "initial"
      }
     },
     "1f0ee5c34001498fbcde7e7ca6c8f9e5": {
      "model_module": "@jupyter-widgets/base",
      "model_module_version": "1.0.0",
      "model_name": "LayoutModel",
      "state": {}
     },
     "1fabb84a19d34e9db16d7f6fafc80d51": {
      "model_module": "@jupyter-widgets/controls",
      "model_module_version": "1.2.0",
      "model_name": "ButtonModel",
      "state": {
       "description": "Update Plot",
       "icon": "check",
       "layout": "IPY_MODEL_7f9bf6dbe7e14010b2690230fa643a59",
       "style": "IPY_MODEL_94a880a70bfd4aacb4ba03bf1d59ae92",
       "tooltip": "Update Plot"
      }
     },
     "23326e45c0584ff49f26ca3405dc269c": {
      "model_module": "@jupyter-widgets/controls",
      "model_module_version": "1.2.0",
      "model_name": "DescriptionStyleModel",
      "state": {
       "description_width": "initial"
      }
     },
     "2744a9a4245e4ce392b7da3458773886": {
      "model_module": "@jupyter-widgets/base",
      "model_module_version": "1.0.0",
      "model_name": "LayoutModel",
      "state": {
       "height": "80px",
       "width": "70%"
      }
     },
     "27923732d28842fb833d024bd04ffcef": {
      "model_module": "@jupyter-widgets/controls",
      "model_module_version": "1.2.0",
      "model_name": "ToggleButtonsStyleModel",
      "state": {
       "button_width": "",
       "description_width": "initial"
      }
     },
     "288060d3e82c4d9e995a8e6eb516dbd6": {
      "model_module": "@jupyter-widgets/controls",
      "model_module_version": "1.2.0",
      "model_name": "DescriptionStyleModel",
      "state": {
       "description_width": "initial"
      }
     },
     "29add54988604a7999b603dd9cb7d054": {
      "model_module": "@jupyter-widgets/controls",
      "model_module_version": "1.2.0",
      "model_name": "TextModel",
      "state": {
       "description": "Country Name:",
       "layout": "IPY_MODEL_12e0922dd6844b0badf0173a79d455ba",
       "placeholder": "Type a country name",
       "style": "IPY_MODEL_a93b116b59be4920bb2e511b49aa7f77",
       "value": "India"
      }
     },
     "2a3164795ea544ecb3999fe612ee5414": {
      "model_module": "@jupyter-widgets/base",
      "model_module_version": "1.0.0",
      "model_name": "LayoutModel",
      "state": {
       "height": "80px",
       "width": "70%"
      }
     },
     "2bafa6351b9045a2a9bf212871912c7e": {
      "model_module": "@jupyter-widgets/controls",
      "model_module_version": "1.2.0",
      "model_name": "IntSliderModel",
      "state": {
       "continuous_update": false,
       "description": "Number of Legend Columns:",
       "layout": "IPY_MODEL_73c61e62236546379381715c89153640",
       "max": 3,
       "min": 1,
       "style": "IPY_MODEL_a8af5a4db811411db959cbfd18d59ad6",
       "value": 1
      }
     },
     "2d8014c48b5a4740b47b895f621dc9a1": {
      "model_module": "@jupyter-widgets/controls",
      "model_module_version": "1.2.0",
      "model_name": "ButtonStyleModel",
      "state": {}
     },
     "2f6629529078457db334226140d36d61": {
      "model_module": "@jupyter-widgets/base",
      "model_module_version": "1.0.0",
      "model_name": "LayoutModel",
      "state": {}
     },
     "2fe415dc7de54d6190176de0a7175b33": {
      "model_module": "@jupyter-widgets/controls",
      "model_module_version": "1.2.0",
      "model_name": "DescriptionStyleModel",
      "state": {
       "description_width": "initial"
      }
     },
     "30d6471269fc40a1a4f860fdfc8b610e": {
      "model_module": "@jupyter-widgets/base",
      "model_module_version": "1.0.0",
      "model_name": "LayoutModel",
      "state": {}
     },
     "3125f5cd27a7450c98c9f988dd85cb7f": {
      "model_module": "@jupyter-widgets/controls",
      "model_module_version": "1.2.0",
      "model_name": "DropdownModel",
      "state": {
       "_options_labels": [
        "capacity",
        "alphabetical"
       ],
       "description": "Sort Legend By:",
       "index": 0,
       "layout": "IPY_MODEL_49bd67dc24854b889918a23b15b00f85",
       "style": "IPY_MODEL_a750b2ac585544419b8e637c8e885f82"
      }
     },
     "31350430751643e5814fc8980af761cc": {
      "model_module": "@jupyter-widgets/controls",
      "model_module_version": "1.2.0",
      "model_name": "TextModel",
      "state": {
       "description": "Coordinate System:",
       "layout": "IPY_MODEL_53d81026ac3646c2814129596f41f012",
       "placeholder": "Type something",
       "style": "IPY_MODEL_ef32c488276b4ee49436f14c7eb80224",
       "value": "spherical"
      }
     },
     "3393bdca9acd4a3aa9db45edbc8da76e": {
      "model_module": "@jupyter-widgets/controls",
      "model_module_version": "1.2.0",
      "model_name": "TextModel",
      "state": {
       "description": "Country Name:",
       "layout": "IPY_MODEL_18e37dd631e84d1c8a1572e0227ca2f5",
       "placeholder": "Type a country name",
       "style": "IPY_MODEL_537f1bd0e2ad45e9b841ecf61c980f2f",
       "value": "India"
      }
     },
     "339ee14ddd864efabafa4777e196b00d": {
      "model_module": "@jupyter-widgets/controls",
      "model_module_version": "1.2.0",
      "model_name": "DescriptionStyleModel",
      "state": {
       "description_width": "initial"
      }
     },
     "34014df9fcdc47df8e33f6b7b35b0974": {
      "model_module": "@jupyter-widgets/controls",
      "model_module_version": "1.2.0",
      "model_name": "TextModel",
      "state": {
       "description": "Show Populated Places:",
       "layout": "IPY_MODEL_109d31f70ca84d888591250c0905c01c",
       "placeholder": "Type something",
       "style": "IPY_MODEL_16b0c417099e4e1fb9797faaf460cdab",
       "value": "False"
      }
     },
     "34e9edea2dff4ec7b7718a1e90f3e475": {
      "model_module": "@jupyter-widgets/controls",
      "model_module_version": "1.2.0",
      "model_name": "ToggleButtonsStyleModel",
      "state": {
       "button_width": "",
       "description_width": "initial"
      }
     },
     "358b85675660437d91780d8aa0097a00": {
      "model_module": "@jupyter-widgets/base",
      "model_module_version": "1.0.0",
      "model_name": "LayoutModel",
      "state": {}
     },
     "366cec21c9064cc4b475d2ab927a07f7": {
      "model_module": "@jupyter-widgets/controls",
      "model_module_version": "1.2.0",
      "model_name": "IntSliderModel",
      "state": {
       "continuous_update": false,
       "description": "DPI (resolution):",
       "layout": "IPY_MODEL_591839c9b4f141d5a28d4cf3452b40c6",
       "max": 500,
       "min": 100,
       "style": "IPY_MODEL_9afbc86f13914158a03d293a830ee70d",
       "value": 300
      }
     },
     "36eae348f7224cb1b05bee38a1c2be8c": {
      "model_module": "@jupyter-widgets/controls",
      "model_module_version": "1.2.0",
      "model_name": "DescriptionStyleModel",
      "state": {
       "description_width": "initial"
      }
     },
     "375fcecc1872407f98f0cf7ca4cd416d": {
      "model_module": "@jupyter-widgets/controls",
      "model_module_version": "1.2.0",
      "model_name": "TextModel",
      "state": {
       "description": "Coordinate System:",
       "layout": "IPY_MODEL_e9305f35e0fd483887baf0b326df7b95",
       "placeholder": "Type something",
       "style": "IPY_MODEL_ae3b3f6fbb1a4b26b0ffe7d4b9f72de8",
       "value": "spherical"
      }
     },
     "3b02cbdca733420bb0abb22b3b073d07": {
      "model_module": "@jupyter-widgets/controls",
      "model_module_version": "1.2.0",
      "model_name": "TextModel",
      "state": {
       "description": "Show Populated Places:",
       "layout": "IPY_MODEL_d4ad19b8a2f04f589aa20a7ccc92ac75",
       "placeholder": "Type something",
       "style": "IPY_MODEL_9ab1fe573e8445949f69aa4030771271",
       "value": "False"
      }
     },
     "3bcdc2e9071e47f6b59fef3edfba57ad": {
      "model_module": "@jupyter-widgets/controls",
      "model_module_version": "1.2.0",
      "model_name": "DescriptionStyleModel",
      "state": {
       "description_width": "initial"
      }
     },
     "3bf6e31885ee4afeafec97f2f5f3953e": {
      "model_module": "@jupyter-widgets/base",
      "model_module_version": "1.0.0",
      "model_name": "LayoutModel",
      "state": {}
     },
     "3c96f40bfe404913bb8a556bc94eceb5": {
      "model_module": "@jupyter-widgets/controls",
      "model_module_version": "1.2.0",
      "model_name": "FloatSliderModel",
      "state": {
       "continuous_update": false,
       "description": "Zoom Level:",
       "layout": "IPY_MODEL_dbbfa7595efb435a920d2df2c4ed014f",
       "max": 3,
       "min": 0.5,
       "readout_format": ".1f",
       "step": 0.1,
       "style": "IPY_MODEL_d125a30ae17d43409f6d391ec5d09566",
       "value": 1.5
      }
     },
     "3ce25d4b89904195985c5a22c00a3658": {
      "model_module": "@jupyter-widgets/base",
      "model_module_version": "1.0.0",
      "model_name": "LayoutModel",
      "state": {}
     },
     "3f50e791dfe84c56971a0e3510ab2462": {
      "model_module": "@jupyter-widgets/base",
      "model_module_version": "1.0.0",
      "model_name": "LayoutModel",
      "state": {}
     },
     "40c9e9c61a9d49d988156905625739cc": {
      "model_module": "@jupyter-widgets/controls",
      "model_module_version": "1.2.0",
      "model_name": "DescriptionStyleModel",
      "state": {
       "description_width": "initial"
      }
     },
     "40d16b65d8df44c4b895c47fa60b5ba9": {
      "model_module": "@jupyter-widgets/base",
      "model_module_version": "1.0.0",
      "model_name": "LayoutModel",
      "state": {}
     },
     "432a103699904db7963d0a9bbc7e17f2": {
      "model_module": "@jupyter-widgets/controls",
      "model_module_version": "1.2.0",
      "model_name": "ButtonModel",
      "state": {
       "description": "Update Plot",
       "icon": "check",
       "layout": "IPY_MODEL_07d4e4a18cc346ce93b9a10849d918d9",
       "style": "IPY_MODEL_5db54fa15a92462eaef5fb688a8e939b",
       "tooltip": "Update Plot"
      }
     },
     "43d02a41bd7a4de4992b058737b6302f": {
      "model_module": "@jupyter-widgets/controls",
      "model_module_version": "1.2.0",
      "model_name": "TextModel",
      "state": {
       "description": "Path to save to:",
       "layout": "IPY_MODEL_7d8d5133f57346deb21974a0a242f2ee",
       "placeholder": "Type the complete path to save to",
       "style": "IPY_MODEL_a723d99706924ff7a0ca2a6ef05b9924",
       "value": "/Users/skoebric/Downloads/XYZ.png"
      }
     },
     "44db9351f5b24a118a8d9b80d4cd7037": {
      "model_module": "@jupyter-widgets/controls",
      "model_module_version": "1.2.0",
      "model_name": "DescriptionStyleModel",
      "state": {
       "description_width": "initial"
      }
     },
     "45145fd840e343269f4298bcfcaff6b5": {
      "model_module": "@jupyter-widgets/controls",
      "model_module_version": "1.2.0",
      "model_name": "ButtonStyleModel",
      "state": {}
     },
     "46278d5b091c4166b3984f0c245bad2d": {
      "model_module": "@jupyter-widgets/controls",
      "model_module_version": "1.2.0",
      "model_name": "TextModel",
      "state": {
       "description": "Path to save to:",
       "layout": "IPY_MODEL_7ddc92e61fbc4f82990fbe5d0bb632c6",
       "placeholder": "Type the complete path to save to",
       "style": "IPY_MODEL_a0167f6a4d574f0ab63d52658e485f1d",
       "value": "/Users/skoebric/Downloads/XYZ.png"
      }
     },
     "46834292510b46f3a806a189b6851cfd": {
      "model_module": "@jupyter-widgets/base",
      "model_module_version": "1.0.0",
      "model_name": "LayoutModel",
      "state": {}
     },
     "46ae4478c31f4e94b1935ac9d06f4320": {
      "model_module": "@jupyter-widgets/controls",
      "model_module_version": "1.2.0",
      "model_name": "TextModel",
      "state": {
       "description": "Island Size Thresh:",
       "layout": "IPY_MODEL_0a158a000eb841de97f47b8ee7f14c5a",
       "placeholder": "Type a island thresh",
       "style": "IPY_MODEL_c17885a9718b4721bbbfab07543fd658",
       "value": "200"
      }
     },
     "49b6b75d5bd347c89286ebffd49e3f9a": {
      "model_module": "@jupyter-widgets/controls",
      "model_module_version": "1.2.0",
      "model_name": "ButtonModel",
      "state": {
       "description": "Update Plot",
       "icon": "check",
       "layout": "IPY_MODEL_a22c4e081b5f414d878555709e742130",
       "style": "IPY_MODEL_63188a9729fe43bfbf3d484000133813",
       "tooltip": "Update Plot"
      }
     },
     "49bd67dc24854b889918a23b15b00f85": {
      "model_module": "@jupyter-widgets/base",
      "model_module_version": "1.0.0",
      "model_name": "LayoutModel",
      "state": {}
     },
     "4ab81f5bc0784995b4845a8d39b21895": {
      "model_module": "@jupyter-widgets/controls",
      "model_module_version": "1.2.0",
      "model_name": "ToggleButtonsStyleModel",
      "state": {
       "button_width": "",
       "description_width": "initial"
      }
     },
     "4ec3e174451741f9b57b5e2bfa9fa7e4": {
      "model_module": "@jupyter-widgets/base",
      "model_module_version": "1.0.0",
      "model_name": "LayoutModel",
      "state": {}
     },
     "4f257e99d3e949af99805896f656097d": {
      "model_module": "@jupyter-widgets/base",
      "model_module_version": "1.0.0",
      "model_name": "LayoutModel",
      "state": {}
     },
     "4f67f5e54e9848f2a29055f2338e10eb": {
      "model_module": "@jupyter-widgets/controls",
      "model_module_version": "1.2.0",
      "model_name": "ButtonModel",
      "state": {
       "description": "Update Plot",
       "icon": "check",
       "layout": "IPY_MODEL_b02c35743def4136a7294be2dd34fb32",
       "style": "IPY_MODEL_9a93d7bdd7c94b129d96672b4b55ee04",
       "tooltip": "Update Plot"
      }
     },
     "51014d006bb84891bead873351ff1d01": {
      "model_module": "@jupyter-widgets/controls",
      "model_module_version": "1.2.0",
      "model_name": "DropdownModel",
      "state": {
       "_options_labels": [
        "capacity",
        "alphabetical"
       ],
       "description": "Sort Legend By:",
       "index": 0,
       "layout": "IPY_MODEL_80a60a4f0d544959bb6b9dbda2230dc4",
       "style": "IPY_MODEL_a605d0d3081642aeb98a5b8209c792d3"
      }
     },
     "51d5c7003f234b8c910c7f5b0492c377": {
      "model_module": "@jupyter-widgets/controls",
      "model_module_version": "1.2.0",
      "model_name": "FloatSliderModel",
      "state": {
       "continuous_update": false,
       "description": "Bubble Opacity:",
       "layout": "IPY_MODEL_010ed1c7bf0a4848948e308eb71fc2fc",
       "max": 1,
       "readout_format": ".1f",
       "step": 0.1,
       "style": "IPY_MODEL_f5a0a62cb8df476c8ffc4110bc5cd6cb",
       "value": 0.5
      }
     },
     "5221a1a38da04a329dd1d360ddc1ec4d": {
      "model_module": "@jupyter-widgets/controls",
      "model_module_version": "1.2.0",
      "model_name": "SliderStyleModel",
      "state": {
       "description_width": "initial"
      }
     },
     "537f1bd0e2ad45e9b841ecf61c980f2f": {
      "model_module": "@jupyter-widgets/controls",
      "model_module_version": "1.2.0",
      "model_name": "DescriptionStyleModel",
      "state": {
       "description_width": "initial"
      }
     },
     "53d81026ac3646c2814129596f41f012": {
      "model_module": "@jupyter-widgets/base",
      "model_module_version": "1.0.0",
      "model_name": "LayoutModel",
      "state": {}
     },
     "57f98d81985943ebb9233853dd4a23f0": {
      "model_module": "@jupyter-widgets/controls",
      "model_module_version": "1.2.0",
      "model_name": "ToggleButtonsStyleModel",
      "state": {
       "button_width": "",
       "description_width": "initial"
      }
     },
     "5907fb5ea9804f719263c7fd2887a7d4": {
      "model_module": "@jupyter-widgets/base",
      "model_module_version": "1.0.0",
      "model_name": "LayoutModel",
      "state": {}
     },
     "591839c9b4f141d5a28d4cf3452b40c6": {
      "model_module": "@jupyter-widgets/base",
      "model_module_version": "1.0.0",
      "model_name": "LayoutModel",
      "state": {}
     },
     "59420138f5c443688f9971e1e65bcff6": {
      "model_module": "@jupyter-widgets/controls",
      "model_module_version": "1.2.0",
      "model_name": "DescriptionStyleModel",
      "state": {
       "description_width": "initial"
      }
     },
     "59a4ff60ebaa4d40af2dd5a5325f89c1": {
      "model_module": "@jupyter-widgets/base",
      "model_module_version": "1.0.0",
      "model_name": "LayoutModel",
      "state": {}
     },
     "5b233d34e9214b0fb7e071a0f56f354f": {
      "model_module": "@jupyter-widgets/controls",
      "model_module_version": "1.2.0",
      "model_name": "DescriptionStyleModel",
      "state": {
       "description_width": "initial"
      }
     },
     "5b7ce13e79aa4ab0b9b4c5f6bfd15ec3": {
      "model_module": "@jupyter-widgets/controls",
      "model_module_version": "1.2.0",
      "model_name": "FloatSliderModel",
      "state": {
       "continuous_update": false,
       "description": "Zoom Level:",
       "layout": "IPY_MODEL_86180b5f6c09448e9405b0dd50cb83be",
       "max": 3,
       "min": 0.5,
       "readout_format": ".1f",
       "step": 0.1,
       "style": "IPY_MODEL_c1761a83c028452db93416353cb004ba",
       "value": 1.3
      }
     },
     "5b819e0b42f34b1e9730fbd28fe6d8d1": {
      "model_module": "@jupyter-widgets/controls",
      "model_module_version": "1.2.0",
      "model_name": "TextModel",
      "state": {
       "description": "Island Size Thresh:",
       "layout": "IPY_MODEL_c870c16b581947f49459fff4f5bcad37",
       "placeholder": "Type a island thresh",
       "style": "IPY_MODEL_f3b74ccd814b427fb5383b5f00c6e23d",
       "value": "200"
      }
     },
     "5d5c70c261a14357b167e42fc1d21d6f": {
      "model_module": "@jupyter-widgets/controls",
      "model_module_version": "1.2.0",
      "model_name": "ButtonStyleModel",
      "state": {}
     },
     "5d7a958c50e648eb89e831310f889020": {
      "model_module": "@jupyter-widgets/controls",
      "model_module_version": "1.2.0",
      "model_name": "TextModel",
      "state": {
       "description": "Path to save to:",
       "layout": "IPY_MODEL_1f0ee5c34001498fbcde7e7ca6c8f9e5",
       "placeholder": "Type the complete path to save to",
       "style": "IPY_MODEL_6af47c5cf079478dab6b79b1a0a6afa1",
       "value": "/Users/skoebric/Downloads/XYZ.png"
      }
     },
     "5d8481f9b3834ec3afe531a153110000": {
      "model_module": "@jupyter-widgets/base",
      "model_module_version": "1.0.0",
      "model_name": "LayoutModel",
      "state": {
       "height": "80px",
       "width": "70%"
      }
     },
     "5db54fa15a92462eaef5fb688a8e939b": {
      "model_module": "@jupyter-widgets/controls",
      "model_module_version": "1.2.0",
      "model_name": "ButtonStyleModel",
      "state": {}
     },
     "5dc99c4918fa40c5bbd1ee3d60fc3644": {
      "model_module": "@jupyter-widgets/base",
      "model_module_version": "1.0.0",
      "model_name": "LayoutModel",
      "state": {}
     },
     "5fcb70cac1cf48d3a57d9f2586e10033": {
      "model_module": "@jupyter-widgets/base",
      "model_module_version": "1.0.0",
      "model_name": "LayoutModel",
      "state": {
       "height": "80px",
       "width": "70%"
      }
     },
     "607a6e59d9804276aa154647bd4e2501": {
      "model_module": "@jupyter-widgets/base",
      "model_module_version": "1.0.0",
      "model_name": "LayoutModel",
      "state": {}
     },
     "6224455a541843b1b4fd0ad4e24a5e86": {
      "model_module": "@jupyter-widgets/controls",
      "model_module_version": "1.2.0",
      "model_name": "IntSliderModel",
      "state": {
       "continuous_update": false,
       "description": "DPI (resolution):",
       "layout": "IPY_MODEL_59a4ff60ebaa4d40af2dd5a5325f89c1",
       "max": 500,
       "min": 100,
       "style": "IPY_MODEL_a863b76fab18496c98933ccd4bac1142",
       "value": 300
      }
     },
     "63188a9729fe43bfbf3d484000133813": {
      "model_module": "@jupyter-widgets/controls",
      "model_module_version": "1.2.0",
      "model_name": "ButtonStyleModel",
      "state": {}
     },
     "636f64dbb9194f27a7fcae8b377fedce": {
      "model_module": "@jupyter-widgets/controls",
      "model_module_version": "1.2.0",
      "model_name": "TextModel",
      "state": {
       "description": "Path to save to:",
       "layout": "IPY_MODEL_f1717553bcf44eeea4ad9964d002a26a",
       "placeholder": "Type the complete path to save to",
       "style": "IPY_MODEL_36eae348f7224cb1b05bee38a1c2be8c",
       "value": "/Users/skoebric/Downloads/XYZ.png"
      }
     },
     "64dea73eab154db69b1fb677d91c449f": {
      "model_module": "@jupyter-widgets/controls",
      "model_module_version": "1.2.0",
      "model_name": "FloatSliderModel",
      "state": {
       "continuous_update": false,
       "description": "Bubble Opacity:",
       "layout": "IPY_MODEL_46834292510b46f3a806a189b6851cfd",
       "max": 1,
       "readout_format": ".1f",
       "step": 0.1,
       "style": "IPY_MODEL_a9c8648bf0244eb8968597be79d0b4d7",
       "value": 0.5
      }
     },
     "65ef3fe9c86d4f409473ed7b0b488939": {
      "model_module": "@jupyter-widgets/base",
      "model_module_version": "1.0.0",
      "model_name": "LayoutModel",
      "state": {}
     },
     "66b7077707ed4605ba53941fe63ef0d6": {
      "model_module": "@jupyter-widgets/controls",
      "model_module_version": "1.2.0",
      "model_name": "SliderStyleModel",
      "state": {
       "description_width": "initial"
      }
     },
     "671feb368ed64d689200326fc1bca844": {
      "model_module": "@jupyter-widgets/controls",
      "model_module_version": "1.2.0",
      "model_name": "TextModel",
      "state": {
       "description": "Island Size Thresh:",
       "layout": "IPY_MODEL_5dc99c4918fa40c5bbd1ee3d60fc3644",
       "placeholder": "Type a island thresh",
       "style": "IPY_MODEL_d5db70abe66a463cbcbc4c14ffeb3fbe",
       "value": "200"
      }
     },
     "69a2869d50cc4cb2a41eafc70b4f41d2": {
      "model_module": "@jupyter-widgets/controls",
      "model_module_version": "1.2.0",
      "model_name": "TextModel",
      "state": {
       "description": "Country Name:",
       "layout": "IPY_MODEL_ee930139d1f047a8a177b19da9b7eaae",
       "placeholder": "Type a country name",
       "style": "IPY_MODEL_23326e45c0584ff49f26ca3405dc269c",
       "value": "India"
      }
     },
     "6a24a82825eb4236aa0bb3cd20d4809e": {
      "model_module": "@jupyter-widgets/controls",
      "model_module_version": "1.2.0",
      "model_name": "ButtonModel",
      "state": {
       "description": "Update Plot",
       "icon": "check",
       "layout": "IPY_MODEL_2a3164795ea544ecb3999fe612ee5414",
       "style": "IPY_MODEL_eab0ba454c37404891d7818f67598e53",
       "tooltip": "Update Plot"
      }
     },
     "6af47c5cf079478dab6b79b1a0a6afa1": {
      "model_module": "@jupyter-widgets/controls",
      "model_module_version": "1.2.0",
      "model_name": "DescriptionStyleModel",
      "state": {
       "description_width": "initial"
      }
     },
     "6b9437aecae346fd88c73379052f7c40": {
      "model_module": "@jupyter-widgets/controls",
      "model_module_version": "1.2.0",
      "model_name": "ButtonStyleModel",
      "state": {}
     },
     "6e3350ca5e2d45e7b9d802a4b277076e": {
      "model_module": "@jupyter-widgets/controls",
      "model_module_version": "1.2.0",
      "model_name": "IntSliderModel",
      "state": {
       "continuous_update": false,
       "description": "DPI (resolution):",
       "layout": "IPY_MODEL_5907fb5ea9804f719263c7fd2887a7d4",
       "max": 500,
       "min": 100,
       "style": "IPY_MODEL_883cf5e88f4c44329bdce1e336a39253",
       "value": 300
      }
     },
     "6e5bca7f6dbb46a1a4dd72e0e5c4adb7": {
      "model_module": "@jupyter-widgets/controls",
      "model_module_version": "1.2.0",
      "model_name": "DescriptionStyleModel",
      "state": {
       "description_width": "initial"
      }
     },
     "71dc84637a1a4a5fa09721663c609035": {
      "model_module": "@jupyter-widgets/controls",
      "model_module_version": "1.2.0",
      "model_name": "IntSliderModel",
      "state": {
       "continuous_update": false,
       "description": "Number of Legend Columns:",
       "layout": "IPY_MODEL_8a792adcdcd24b42baa0d3518b64bb69",
       "max": 3,
       "min": 1,
       "style": "IPY_MODEL_5221a1a38da04a329dd1d360ddc1ec4d",
       "value": 1
      }
     },
     "72e371d069bb4da9a2dbc7143650aec3": {
      "model_module": "@jupyter-widgets/controls",
      "model_module_version": "1.2.0",
      "model_name": "ButtonModel",
      "state": {
       "description": "Update Plot",
       "icon": "check",
       "layout": "IPY_MODEL_d95b60d2d0bb496fb9de8de820725ea7",
       "style": "IPY_MODEL_ade1275f884b4e1da9e7f726b20d9fbe",
       "tooltip": "Update Plot"
      }
     },
     "73c61e62236546379381715c89153640": {
      "model_module": "@jupyter-widgets/base",
      "model_module_version": "1.0.0",
      "model_name": "LayoutModel",
      "state": {}
     },
     "74ac13abc0a746b88d82ff69f483e592": {
      "model_module": "@jupyter-widgets/controls",
      "model_module_version": "1.2.0",
      "model_name": "ToggleButtonsModel",
      "state": {
       "_options_labels": [
        "Simple",
        "Mixed",
        "Complex"
       ],
       "button_style": "",
       "description": "Simplification Level:",
       "icons": [],
       "index": 1,
       "layout": "IPY_MODEL_358b85675660437d91780d8aa0097a00",
       "style": "IPY_MODEL_c44f3f66ec554097bfc60ee48f027378",
       "tooltips": [
        "Renewables, Fossil, and Nuclear",
        "Solar, Wind, Hydro, Geothermal,Biomass, Wave and Tidal,\n Storage, Fossil, Nuclear",
        "Solar, Wind, Hydro, Geothermal,Biomass, Wave and Tidal,\n Storage, Fossil, Nuclear, Coal, Gas, Oil, Waste, Cogeneration"
       ]
      }
     },
     "74ae4d6a8e554dd495161472cefba67f": {
      "model_module": "@jupyter-widgets/controls",
      "model_module_version": "1.2.0",
      "model_name": "IntSliderModel",
      "state": {
       "continuous_update": false,
       "description": "Number of Legend Columns:",
       "layout": "IPY_MODEL_e939a14180474b2782bf7f2024bc33aa",
       "max": 3,
       "min": 1,
       "style": "IPY_MODEL_cebc6e0301c447b5a6980e762b8105cb",
       "value": 1
      }
     },
     "755d0b3f7812438aa5c260b54cf52caa": {
      "model_module": "@jupyter-widgets/controls",
      "model_module_version": "1.2.0",
      "model_name": "DropdownModel",
      "state": {
       "_options_labels": [
        "capacity",
        "alphabetical"
       ],
       "description": "Sort Legend By:",
       "index": 0,
       "layout": "IPY_MODEL_607a6e59d9804276aa154647bd4e2501",
       "style": "IPY_MODEL_b6e9fac3fc5c4d488529e69839187160"
      }
     },
     "75d38b2429324837a69e0a1ce0e2e67e": {
      "model_module": "@jupyter-widgets/controls",
      "model_module_version": "1.2.0",
      "model_name": "DescriptionStyleModel",
      "state": {
       "description_width": "initial"
      }
     },
     "7618737d939c4e36b0b4f5b7bb048297": {
      "model_module": "@jupyter-widgets/controls",
      "model_module_version": "1.2.0",
      "model_name": "SliderStyleModel",
      "state": {
       "description_width": "initial"
      }
     },
     "78e38ab79c874a74ab8522fd282f67fc": {
      "model_module": "@jupyter-widgets/base",
      "model_module_version": "1.0.0",
      "model_name": "LayoutModel",
      "state": {}
     },
     "7b690176320b4de4b69756517fcedee1": {
      "model_module": "@jupyter-widgets/controls",
      "model_module_version": "1.2.0",
      "model_name": "ButtonStyleModel",
      "state": {}
     },
     "7b7d7fa6e7a34a5daa8b2d4705aa3538": {
      "model_module": "@jupyter-widgets/controls",
      "model_module_version": "1.2.0",
      "model_name": "DescriptionStyleModel",
      "state": {
       "description_width": "initial"
      }
     },
     "7d20ae9a5a024904b73d29284e391e86": {
      "model_module": "@jupyter-widgets/controls",
      "model_module_version": "1.2.0",
      "model_name": "FloatSliderModel",
      "state": {
       "continuous_update": false,
       "description": "Zoom Level:",
       "layout": "IPY_MODEL_0beff752fed84020bc817f17c2ecaa1d",
       "max": 3,
       "min": 0.5,
       "readout_format": ".1f",
       "step": 0.1,
       "style": "IPY_MODEL_a2aeac8fd2a44505a83688aa0828e4ef",
       "value": 1.5
      }
     },
     "7d8d5133f57346deb21974a0a242f2ee": {
      "model_module": "@jupyter-widgets/base",
      "model_module_version": "1.0.0",
      "model_name": "LayoutModel",
      "state": {}
     },
     "7da1bcbd095e4333bd52e2821c255a5a": {
      "model_module": "@jupyter-widgets/base",
      "model_module_version": "1.0.0",
      "model_name": "LayoutModel",
      "state": {}
     },
     "7ddc92e61fbc4f82990fbe5d0bb632c6": {
      "model_module": "@jupyter-widgets/base",
      "model_module_version": "1.0.0",
      "model_name": "LayoutModel",
      "state": {}
     },
     "7e549bbdcc914a5dbb2f4f73a7501483": {
      "model_module": "@jupyter-widgets/controls",
      "model_module_version": "1.2.0",
      "model_name": "ButtonModel",
      "state": {
       "description": "Update Plot",
       "icon": "check",
       "layout": "IPY_MODEL_05cf403f1c984ed785a57914e07b3ed4",
       "style": "IPY_MODEL_5d5c70c261a14357b167e42fc1d21d6f",
       "tooltip": "Update Plot"
      }
     },
     "7eebd21cecfd4f438cda8b39232357ff": {
      "model_module": "@jupyter-widgets/base",
      "model_module_version": "1.0.0",
      "model_name": "LayoutModel",
      "state": {}
     },
     "7f9bf6dbe7e14010b2690230fa643a59": {
      "model_module": "@jupyter-widgets/base",
      "model_module_version": "1.0.0",
      "model_name": "LayoutModel",
      "state": {
       "height": "80px",
       "width": "70%"
      }
     },
     "7fd399169c1b4b78953e4883039d919b": {
      "model_module": "@jupyter-widgets/controls",
      "model_module_version": "1.2.0",
      "model_name": "ButtonModel",
      "state": {
       "description": "Save Plot",
       "icon": "check",
       "layout": "IPY_MODEL_5fcb70cac1cf48d3a57d9f2586e10033",
       "style": "IPY_MODEL_2d8014c48b5a4740b47b895f621dc9a1",
       "tooltip": "Save Plot"
      }
     },
     "80584b831d434dbdbc7e902b8b24dae2": {
      "model_module": "@jupyter-widgets/controls",
      "model_module_version": "1.2.0",
      "model_name": "TextModel",
      "state": {
       "description": "Country Name:",
       "layout": "IPY_MODEL_c9d409efbcc64adfb585a74f16d55f1a",
       "placeholder": "Type a country name",
       "style": "IPY_MODEL_f0fce0215ce14a779d1d1b189dcd5b9b",
       "value": "India"
      }
     },
     "80a60a4f0d544959bb6b9dbda2230dc4": {
      "model_module": "@jupyter-widgets/base",
      "model_module_version": "1.0.0",
      "model_name": "LayoutModel",
      "state": {}
     },
     "846435c573dd4e8eabd4a80c555fb8fe": {
      "model_module": "@jupyter-widgets/controls",
      "model_module_version": "1.2.0",
      "model_name": "FloatSliderModel",
      "state": {
       "continuous_update": false,
       "description": "Zoom Level:",
       "layout": "IPY_MODEL_a9e64cc6a4e84f83b4a59dcb79cba70e",
       "max": 3,
       "min": 0.5,
       "readout_format": ".1f",
       "step": 0.1,
       "style": "IPY_MODEL_f5e200ea06ab4c90b79f56a68abc7ab3",
       "value": 1.5
      }
     },
     "848d71a376ff4d83a09b5f7f5c18dee7": {
      "model_module": "@jupyter-widgets/controls",
      "model_module_version": "1.2.0",
      "model_name": "FloatSliderModel",
      "state": {
       "continuous_update": false,
       "description": "Bubble Opacity:",
       "layout": "IPY_MODEL_8638caa2ac804152b752288b6fe7990e",
       "max": 1,
       "readout_format": ".1f",
       "step": 0.1,
       "style": "IPY_MODEL_12b8b3adb0454383bb82c961e846082a",
       "value": 0.5
      }
     },
     "86180b5f6c09448e9405b0dd50cb83be": {
      "model_module": "@jupyter-widgets/base",
      "model_module_version": "1.0.0",
      "model_name": "LayoutModel",
      "state": {}
     },
     "8638caa2ac804152b752288b6fe7990e": {
      "model_module": "@jupyter-widgets/base",
      "model_module_version": "1.0.0",
      "model_name": "LayoutModel",
      "state": {}
     },
     "8836b2a3d8a34e60946bc10cd65210f2": {
      "model_module": "@jupyter-widgets/controls",
      "model_module_version": "1.2.0",
      "model_name": "ButtonModel",
      "state": {
       "description": "Save Plot",
       "icon": "check",
       "layout": "IPY_MODEL_a44dd498dc6747bd86857fb7d5f9df5b",
       "style": "IPY_MODEL_10d2814d3e2a4514be2f21a0f26f9f9a",
       "tooltip": "Save Plot"
      }
     },
     "883cf5e88f4c44329bdce1e336a39253": {
      "model_module": "@jupyter-widgets/controls",
      "model_module_version": "1.2.0",
      "model_name": "SliderStyleModel",
      "state": {
       "description_width": "initial"
      }
     },
     "893588eccb564a26b2026e0d63bb40d0": {
      "model_module": "@jupyter-widgets/base",
      "model_module_version": "1.0.0",
      "model_name": "LayoutModel",
      "state": {}
     },
     "89ae9a7c40b34c319da0d0a71b1cf288": {
      "model_module": "@jupyter-widgets/controls",
      "model_module_version": "1.2.0",
      "model_name": "ButtonModel",
      "state": {
       "description": "Update Plot",
       "icon": "check",
       "layout": "IPY_MODEL_5d8481f9b3834ec3afe531a153110000",
       "style": "IPY_MODEL_7b690176320b4de4b69756517fcedee1",
       "tooltip": "Update Plot"
      }
     },
     "8a792adcdcd24b42baa0d3518b64bb69": {
      "model_module": "@jupyter-widgets/base",
      "model_module_version": "1.0.0",
      "model_name": "LayoutModel",
      "state": {}
     },
     "8e369e9e95b0412a956edc2eec5ca3ee": {
      "model_module": "@jupyter-widgets/base",
      "model_module_version": "1.0.0",
      "model_name": "LayoutModel",
      "state": {}
     },
     "8e46a15b7e9248189c4bb5ecc5556f95": {
      "model_module": "@jupyter-widgets/controls",
      "model_module_version": "1.2.0",
      "model_name": "SliderStyleModel",
      "state": {
       "description_width": "initial"
      }
     },
     "94041037c4984306a39e2e3c519602e6": {
      "model_module": "@jupyter-widgets/base",
      "model_module_version": "1.0.0",
      "model_name": "LayoutModel",
      "state": {}
     },
     "94a880a70bfd4aacb4ba03bf1d59ae92": {
      "model_module": "@jupyter-widgets/controls",
      "model_module_version": "1.2.0",
      "model_name": "ButtonStyleModel",
      "state": {}
     },
     "969b72f9f7d64ad4b854e9a4fe99223a": {
      "model_module": "@jupyter-widgets/controls",
      "model_module_version": "1.2.0",
      "model_name": "DropdownModel",
      "state": {
       "_options_labels": [
        "capacity",
        "alphabetical"
       ],
       "description": "Sort Legend By:",
       "index": 0,
       "layout": "IPY_MODEL_bf2f14644d2d4417ba9ed3b44c01d22f",
       "style": "IPY_MODEL_59420138f5c443688f9971e1e65bcff6"
      }
     },
     "97389ded853a41938f1ce898908aee11": {
      "model_module": "@jupyter-widgets/controls",
      "model_module_version": "1.2.0",
      "model_name": "IntSliderModel",
      "state": {
       "continuous_update": false,
       "description": "DPI (resolution):",
       "layout": "IPY_MODEL_7da1bcbd095e4333bd52e2821c255a5a",
       "max": 500,
       "min": 100,
       "style": "IPY_MODEL_8e46a15b7e9248189c4bb5ecc5556f95",
       "value": 300
      }
     },
     "98b3e8a75cb244b1a50b5bff1eb0aff1": {
      "model_module": "@jupyter-widgets/base",
      "model_module_version": "1.0.0",
      "model_name": "LayoutModel",
      "state": {}
     },
     "98c2a89be7a043c4b91ced5cf7d22f51": {
      "model_module": "@jupyter-widgets/base",
      "model_module_version": "1.0.0",
      "model_name": "LayoutModel",
      "state": {
       "height": "80px",
       "width": "70%"
      }
     },
     "99a64a9c93d84a17a5c1384644a1ecc3": {
      "model_module": "@jupyter-widgets/controls",
      "model_module_version": "1.2.0",
      "model_name": "ButtonModel",
      "state": {
       "description": "Update Plot",
       "icon": "check",
       "layout": "IPY_MODEL_b9c568d290684f7aa4671947d77f8e21",
       "style": "IPY_MODEL_feb06c0c3e894536819e43823020e7db",
       "tooltip": "Update Plot"
      }
     },
     "9a93d7bdd7c94b129d96672b4b55ee04": {
      "model_module": "@jupyter-widgets/controls",
      "model_module_version": "1.2.0",
      "model_name": "ButtonStyleModel",
      "state": {}
     },
     "9ab1fe573e8445949f69aa4030771271": {
      "model_module": "@jupyter-widgets/controls",
      "model_module_version": "1.2.0",
      "model_name": "DescriptionStyleModel",
      "state": {
       "description_width": "initial"
      }
     },
     "9afbc86f13914158a03d293a830ee70d": {
      "model_module": "@jupyter-widgets/controls",
      "model_module_version": "1.2.0",
      "model_name": "SliderStyleModel",
      "state": {
       "description_width": "initial"
      }
     },
     "9b904e2e6e9342e2852f6de2aa4f9ebb": {
      "model_module": "@jupyter-widgets/controls",
      "model_module_version": "1.2.0",
      "model_name": "FloatSliderModel",
      "state": {
       "continuous_update": false,
       "description": "Bubble Opacity:",
       "layout": "IPY_MODEL_02b8a3844d794aed9133f3180581b508",
       "max": 1,
       "readout_format": ".1f",
       "step": 0.1,
       "style": "IPY_MODEL_9c7c305d475e478ebea7ac75a3f593ba",
       "value": 0.5
      }
     },
     "9c60bee8798a4e7f8c90d24960124e3c": {
      "model_module": "@jupyter-widgets/base",
      "model_module_version": "1.0.0",
      "model_name": "LayoutModel",
      "state": {}
     },
     "9c7c305d475e478ebea7ac75a3f593ba": {
      "model_module": "@jupyter-widgets/controls",
      "model_module_version": "1.2.0",
      "model_name": "SliderStyleModel",
      "state": {
       "description_width": "initial"
      }
     },
     "9c802342e3ef40c588c6d3260b452777": {
      "model_module": "@jupyter-widgets/controls",
      "model_module_version": "1.2.0",
      "model_name": "ToggleButtonsModel",
      "state": {
       "_options_labels": [
        "Simple",
        "Mixed",
        "Complex"
       ],
       "button_style": "",
       "description": "Simplification Level:",
       "icons": [],
       "index": 1,
       "layout": "IPY_MODEL_9c60bee8798a4e7f8c90d24960124e3c",
       "style": "IPY_MODEL_e783fc82ca5b4b76b58945a2eb559b84",
       "tooltips": [
        "Renewables, Fossil, and Nuclear",
        "Solar, Wind, Hydro, Geothermal,Biomass, Wave and Tidal,\n Storage, Fossil, Nuclear",
        "Solar, Wind, Hydro, Geothermal,Biomass, Wave and Tidal,\n Storage, Fossil, Nuclear, Coal, Gas, Oil, Waste, Cogeneration"
       ]
      }
     },
     "9da689946cf74d4bba483f5465628bd3": {
      "model_module": "@jupyter-widgets/controls",
      "model_module_version": "1.2.0",
      "model_name": "DescriptionStyleModel",
      "state": {
       "description_width": "initial"
      }
     },
     "a0167f6a4d574f0ab63d52658e485f1d": {
      "model_module": "@jupyter-widgets/controls",
      "model_module_version": "1.2.0",
      "model_name": "DescriptionStyleModel",
      "state": {
       "description_width": "initial"
      }
     },
     "a1eb4647c3c04621a1f88dd90de401be": {
      "model_module": "@jupyter-widgets/controls",
      "model_module_version": "1.2.0",
      "model_name": "DescriptionStyleModel",
      "state": {
       "description_width": "initial"
      }
     },
     "a22c4e081b5f414d878555709e742130": {
      "model_module": "@jupyter-widgets/base",
      "model_module_version": "1.0.0",
      "model_name": "LayoutModel",
      "state": {
       "height": "80px",
       "width": "70%"
      }
     },
     "a2aeac8fd2a44505a83688aa0828e4ef": {
      "model_module": "@jupyter-widgets/controls",
      "model_module_version": "1.2.0",
      "model_name": "SliderStyleModel",
      "state": {
       "description_width": "initial"
      }
     },
     "a43deb5f4ea34220bc499ac5398b8bea": {
      "model_module": "@jupyter-widgets/controls",
      "model_module_version": "1.2.0",
      "model_name": "SliderStyleModel",
      "state": {
       "description_width": "initial"
      }
     },
     "a44dd498dc6747bd86857fb7d5f9df5b": {
      "model_module": "@jupyter-widgets/base",
      "model_module_version": "1.0.0",
      "model_name": "LayoutModel",
      "state": {
       "height": "80px",
       "width": "70%"
      }
     },
     "a4ccc02fce1a4f9f9d81d431a50a657c": {
      "model_module": "@jupyter-widgets/base",
      "model_module_version": "1.0.0",
      "model_name": "LayoutModel",
      "state": {
       "height": "80px",
       "width": "70%"
      }
     },
     "a4e48d1735f14553afb9748d3959d7c5": {
      "model_module": "@jupyter-widgets/controls",
      "model_module_version": "1.2.0",
      "model_name": "DescriptionStyleModel",
      "state": {
       "description_width": "initial"
      }
     },
     "a5b2b01196fc4b0a9dcf4b8f0cd41b48": {
      "model_module": "@jupyter-widgets/controls",
      "model_module_version": "1.2.0",
      "model_name": "DescriptionStyleModel",
      "state": {
       "description_width": "initial"
      }
     },
     "a605d0d3081642aeb98a5b8209c792d3": {
      "model_module": "@jupyter-widgets/controls",
      "model_module_version": "1.2.0",
      "model_name": "DescriptionStyleModel",
      "state": {
       "description_width": "initial"
      }
     },
     "a723d99706924ff7a0ca2a6ef05b9924": {
      "model_module": "@jupyter-widgets/controls",
      "model_module_version": "1.2.0",
      "model_name": "DescriptionStyleModel",
      "state": {
       "description_width": "initial"
      }
     },
     "a73447805f734cf69b11ffd71d5f0eb7": {
      "model_module": "@jupyter-widgets/base",
      "model_module_version": "1.0.0",
      "model_name": "LayoutModel",
      "state": {}
     },
     "a750b2ac585544419b8e637c8e885f82": {
      "model_module": "@jupyter-widgets/controls",
      "model_module_version": "1.2.0",
      "model_name": "DescriptionStyleModel",
      "state": {
       "description_width": "initial"
      }
     },
     "a863b76fab18496c98933ccd4bac1142": {
      "model_module": "@jupyter-widgets/controls",
      "model_module_version": "1.2.0",
      "model_name": "SliderStyleModel",
      "state": {
       "description_width": "initial"
      }
     },
     "a8711251c9d046a1ab72f2245c881504": {
      "model_module": "@jupyter-widgets/controls",
      "model_module_version": "1.2.0",
      "model_name": "TextModel",
      "state": {
       "description": "Show Populated Places:",
       "layout": "IPY_MODEL_da6cb41089c14cb089304d41439efd82",
       "placeholder": "Type something",
       "style": "IPY_MODEL_44db9351f5b24a118a8d9b80d4cd7037",
       "value": "False"
      }
     },
     "a8af5a4db811411db959cbfd18d59ad6": {
      "model_module": "@jupyter-widgets/controls",
      "model_module_version": "1.2.0",
      "model_name": "SliderStyleModel",
      "state": {
       "description_width": "initial"
      }
     },
     "a930678d8e454f079abfebc16a36c414": {
      "model_module": "@jupyter-widgets/controls",
      "model_module_version": "1.2.0",
      "model_name": "FloatSliderModel",
      "state": {
       "continuous_update": false,
       "description": "Zoom Level:",
       "layout": "IPY_MODEL_ef9a73385d5e44f98d5b834775056728",
       "max": 3,
       "min": 0.5,
       "readout_format": ".1f",
       "step": 0.1,
       "style": "IPY_MODEL_fee5a3a78cf5455abb69bd438fb5452d",
       "value": 1.5
      }
     },
     "a93b116b59be4920bb2e511b49aa7f77": {
      "model_module": "@jupyter-widgets/controls",
      "model_module_version": "1.2.0",
      "model_name": "DescriptionStyleModel",
      "state": {
       "description_width": "initial"
      }
     },
     "a9c8648bf0244eb8968597be79d0b4d7": {
      "model_module": "@jupyter-widgets/controls",
      "model_module_version": "1.2.0",
      "model_name": "SliderStyleModel",
      "state": {
       "description_width": "initial"
      }
     },
     "a9e64cc6a4e84f83b4a59dcb79cba70e": {
      "model_module": "@jupyter-widgets/base",
      "model_module_version": "1.0.0",
      "model_name": "LayoutModel",
      "state": {}
     },
     "ab6b047ec91946468db30ab6bd90b8d9": {
      "model_module": "@jupyter-widgets/controls",
      "model_module_version": "1.2.0",
      "model_name": "FloatSliderModel",
      "state": {
       "continuous_update": false,
       "description": "Bubble Opacity:",
       "layout": "IPY_MODEL_e6c3ac873f0846c19ca55edff40cdcf0",
       "max": 1,
       "readout_format": ".1f",
       "step": 0.1,
       "style": "IPY_MODEL_7618737d939c4e36b0b4f5b7bb048297",
       "value": 0.5
      }
     },
     "add5aca5680448eaaf7390da7e82d6ad": {
      "model_module": "@jupyter-widgets/controls",
      "model_module_version": "1.2.0",
      "model_name": "IntSliderModel",
      "state": {
       "continuous_update": false,
       "description": "Number of Legend Columns:",
       "layout": "IPY_MODEL_de2ffcf7a6554d4bb99b5b968ea338f0",
       "max": 3,
       "min": 1,
       "style": "IPY_MODEL_1a4944b730414972b8e78ccc5f174728",
       "value": 1
      }
     },
     "ade1275f884b4e1da9e7f726b20d9fbe": {
      "model_module": "@jupyter-widgets/controls",
      "model_module_version": "1.2.0",
      "model_name": "ButtonStyleModel",
      "state": {}
     },
     "ae3b3f6fbb1a4b26b0ffe7d4b9f72de8": {
      "model_module": "@jupyter-widgets/controls",
      "model_module_version": "1.2.0",
      "model_name": "DescriptionStyleModel",
      "state": {
       "description_width": "initial"
      }
     },
     "af3518d1dce044eeba6b79026046f753": {
      "model_module": "@jupyter-widgets/base",
      "model_module_version": "1.0.0",
      "model_name": "LayoutModel",
      "state": {}
     },
     "af380b0320c64e7ea2166fb8973ac6e4": {
      "model_module": "@jupyter-widgets/controls",
      "model_module_version": "1.2.0",
      "model_name": "ToggleButtonsModel",
      "state": {
       "_options_labels": [
        "Simple",
        "Mixed",
        "Complex"
       ],
       "button_style": "",
       "description": "Simplification Level:",
       "icons": [],
       "index": 1,
       "layout": "IPY_MODEL_af3518d1dce044eeba6b79026046f753",
       "style": "IPY_MODEL_4ab81f5bc0784995b4845a8d39b21895",
       "tooltips": [
        "Renewables, Fossil, and Nuclear",
        "Solar, Wind, Hydro, Geothermal,Biomass, Wave and Tidal,\n Storage, Fossil, Nuclear",
        "Solar, Wind, Hydro, Geothermal,Biomass, Wave and Tidal,\n Storage, Fossil, Nuclear, Coal, Gas, Oil, Waste, Cogeneration"
       ]
      }
     },
     "b02c35743def4136a7294be2dd34fb32": {
      "model_module": "@jupyter-widgets/base",
      "model_module_version": "1.0.0",
      "model_name": "LayoutModel",
      "state": {
       "height": "80px",
       "width": "70%"
      }
     },
     "b08ced56b4954f1cb7bbabd23749f4f0": {
      "model_module": "@jupyter-widgets/controls",
      "model_module_version": "1.2.0",
      "model_name": "SliderStyleModel",
      "state": {
       "description_width": "initial"
      }
     },
     "b1433046e48245baa42f8d7468e62276": {
      "model_module": "@jupyter-widgets/controls",
      "model_module_version": "1.2.0",
      "model_name": "TextModel",
      "state": {
       "description": "Country Name:",
       "layout": "IPY_MODEL_beb52625b9d14e66987e5e618a9500d8",
       "placeholder": "Type a country name",
       "style": "IPY_MODEL_75d38b2429324837a69e0a1ce0e2e67e",
       "value": "India"
      }
     },
     "b1f880ae0bfc46d0a77a3bdc3778a66f": {
      "model_module": "@jupyter-widgets/controls",
      "model_module_version": "1.2.0",
      "model_name": "TextModel",
      "state": {
       "description": "Path to save to:",
       "layout": "IPY_MODEL_ffd8beec813f443c97b3b531e32b7276",
       "placeholder": "Type the complete path to save to",
       "style": "IPY_MODEL_bb732c95c6634e479dfba3e651852210",
       "value": "/Users/skoebric/Downloads/XYZ.png"
      }
     },
     "b23296a9a88b43d4a4362728a2e5e7d4": {
      "model_module": "@jupyter-widgets/base",
      "model_module_version": "1.0.0",
      "model_name": "LayoutModel",
      "state": {}
     },
     "b6834b9c61d04288a1fbe38a0249b998": {
      "model_module": "@jupyter-widgets/controls",
      "model_module_version": "1.2.0",
      "model_name": "TextModel",
      "state": {
       "description": "Country Precursor:",
       "layout": "IPY_MODEL_bc82f7b6521445e68c98ca812655c854",
       "placeholder": "Precursor to Country Name",
       "style": "IPY_MODEL_e6074492c7cc4040ad3cb358ae512305"
      }
     },
     "b6e9fac3fc5c4d488529e69839187160": {
      "model_module": "@jupyter-widgets/controls",
      "model_module_version": "1.2.0",
      "model_name": "DescriptionStyleModel",
      "state": {
       "description_width": "initial"
      }
     },
     "b707193cffa84ab5a91b3283acbd194d": {
      "model_module": "@jupyter-widgets/base",
      "model_module_version": "1.0.0",
      "model_name": "LayoutModel",
      "state": {}
     },
     "b75f567f81954bcfa937171f697a5784": {
      "model_module": "@jupyter-widgets/controls",
      "model_module_version": "1.2.0",
      "model_name": "ButtonModel",
      "state": {
       "description": "Update Plot",
       "icon": "check",
       "layout": "IPY_MODEL_98c2a89be7a043c4b91ced5cf7d22f51",
       "style": "IPY_MODEL_6b9437aecae346fd88c73379052f7c40",
       "tooltip": "Update Plot"
      }
     },
     "b93174ef329240a3844b300d0b2f8103": {
      "model_module": "@jupyter-widgets/controls",
      "model_module_version": "1.2.0",
      "model_name": "TextModel",
      "state": {
       "description": "Show Populated Places:",
       "layout": "IPY_MODEL_4f257e99d3e949af99805896f656097d",
       "placeholder": "Type something",
       "style": "IPY_MODEL_6e5bca7f6dbb46a1a4dd72e0e5c4adb7",
       "value": "False"
      }
     },
     "b9c568d290684f7aa4671947d77f8e21": {
      "model_module": "@jupyter-widgets/base",
      "model_module_version": "1.0.0",
      "model_name": "LayoutModel",
      "state": {
       "height": "80px",
       "width": "70%"
      }
     },
     "bb04d6ef5455490f964556cd53d1d61d": {
      "model_module": "@jupyter-widgets/controls",
      "model_module_version": "1.2.0",
      "model_name": "TextModel",
      "state": {
       "description": "Island Size Thresh:",
       "layout": "IPY_MODEL_fc0bab5a38904c1fba240e51d9566eab",
       "placeholder": "Type a island thresh",
       "style": "IPY_MODEL_5b233d34e9214b0fb7e071a0f56f354f",
       "value": "200"
      }
     },
     "bb732c95c6634e479dfba3e651852210": {
      "model_module": "@jupyter-widgets/controls",
      "model_module_version": "1.2.0",
      "model_name": "DescriptionStyleModel",
      "state": {
       "description_width": "initial"
      }
     },
     "bc82f7b6521445e68c98ca812655c854": {
      "model_module": "@jupyter-widgets/base",
      "model_module_version": "1.0.0",
      "model_name": "LayoutModel",
      "state": {}
     },
     "be41e91c77bb4843a619e3aabfaf5a9d": {
      "model_module": "@jupyter-widgets/controls",
      "model_module_version": "1.2.0",
      "model_name": "TextModel",
      "state": {
       "description": "Country Name:",
       "layout": "IPY_MODEL_78e38ab79c874a74ab8522fd282f67fc",
       "placeholder": "Type a country name",
       "style": "IPY_MODEL_a5b2b01196fc4b0a9dcf4b8f0cd41b48",
       "value": "India"
      }
     },
     "beb52625b9d14e66987e5e618a9500d8": {
      "model_module": "@jupyter-widgets/base",
      "model_module_version": "1.0.0",
      "model_name": "LayoutModel",
      "state": {}
     },
     "bf2f14644d2d4417ba9ed3b44c01d22f": {
      "model_module": "@jupyter-widgets/base",
      "model_module_version": "1.0.0",
      "model_name": "LayoutModel",
      "state": {}
     },
     "bf5a328e8a704319bafb1457c661a492": {
      "model_module": "@jupyter-widgets/controls",
      "model_module_version": "1.2.0",
      "model_name": "SliderStyleModel",
      "state": {
       "description_width": "initial"
      }
     },
     "c014af86e5ab4e8e8de3a1f4b82c887e": {
      "model_module": "@jupyter-widgets/controls",
      "model_module_version": "1.2.0",
      "model_name": "TextModel",
      "state": {
       "description": "Coordinate System:",
       "layout": "IPY_MODEL_4ec3e174451741f9b57b5e2bfa9fa7e4",
       "placeholder": "Type something",
       "style": "IPY_MODEL_cb1767cf107d458ab310d045850c5180",
       "value": "spherical"
      }
     },
     "c091215079a84417b98e38fc7b6ff03c": {
      "model_module": "@jupyter-widgets/controls",
      "model_module_version": "1.2.0",
      "model_name": "ButtonModel",
      "state": {
       "description": "Update Plot",
       "icon": "check",
       "layout": "IPY_MODEL_a4ccc02fce1a4f9f9d81d431a50a657c",
       "style": "IPY_MODEL_c0debf8a615b489f8cf8ea23cad747da",
       "tooltip": "Update Plot"
      }
     },
     "c0debf8a615b489f8cf8ea23cad747da": {
      "model_module": "@jupyter-widgets/controls",
      "model_module_version": "1.2.0",
      "model_name": "ButtonStyleModel",
      "state": {}
     },
     "c0ed58f44e1d402c80383dfffc184066": {
      "model_module": "@jupyter-widgets/base",
      "model_module_version": "1.0.0",
      "model_name": "LayoutModel",
      "state": {
       "height": "80px",
       "width": "70%"
      }
     },
     "c1761a83c028452db93416353cb004ba": {
      "model_module": "@jupyter-widgets/controls",
      "model_module_version": "1.2.0",
      "model_name": "SliderStyleModel",
      "state": {
       "description_width": "initial"
      }
     },
     "c17885a9718b4721bbbfab07543fd658": {
      "model_module": "@jupyter-widgets/controls",
      "model_module_version": "1.2.0",
      "model_name": "DescriptionStyleModel",
      "state": {
       "description_width": "initial"
      }
     },
     "c3582214d48a4b49957cf8c6cef38759": {
      "model_module": "@jupyter-widgets/base",
      "model_module_version": "1.0.0",
      "model_name": "LayoutModel",
      "state": {}
     },
     "c44f3f66ec554097bfc60ee48f027378": {
      "model_module": "@jupyter-widgets/controls",
      "model_module_version": "1.2.0",
      "model_name": "ToggleButtonsStyleModel",
      "state": {
       "button_width": "",
       "description_width": "initial"
      }
     },
     "c475c73739194fb39810694e9a0b9ab4": {
      "model_module": "@jupyter-widgets/controls",
      "model_module_version": "1.2.0",
      "model_name": "IntSliderModel",
      "state": {
       "continuous_update": false,
       "description": "DPI (resolution):",
       "layout": "IPY_MODEL_98b3e8a75cb244b1a50b5bff1eb0aff1",
       "max": 500,
       "min": 100,
       "style": "IPY_MODEL_b08ced56b4954f1cb7bbabd23749f4f0",
       "value": 300
      }
     },
     "c488274fbc0247cebba7ab09422e9738": {
      "model_module": "@jupyter-widgets/controls",
      "model_module_version": "1.2.0",
      "model_name": "DescriptionStyleModel",
      "state": {
       "description_width": "initial"
      }
     },
     "c69a7fe9e3df4e139592191dd8193870": {
      "model_module": "@jupyter-widgets/controls",
      "model_module_version": "1.2.0",
      "model_name": "DescriptionStyleModel",
      "state": {
       "description_width": "initial"
      }
     },
     "c70d18a2b4a5490681d273f2113fd1b2": {
      "model_module": "@jupyter-widgets/controls",
      "model_module_version": "1.2.0",
      "model_name": "DropdownModel",
      "state": {
       "_options_labels": [
        "capacity",
        "alphabetical"
       ],
       "description": "Sort Legend By:",
       "index": 0,
       "layout": "IPY_MODEL_c3582214d48a4b49957cf8c6cef38759",
       "style": "IPY_MODEL_2fe415dc7de54d6190176de0a7175b33"
      }
     },
     "c870c16b581947f49459fff4f5bcad37": {
      "model_module": "@jupyter-widgets/base",
      "model_module_version": "1.0.0",
      "model_name": "LayoutModel",
      "state": {}
     },
     "c9d409efbcc64adfb585a74f16d55f1a": {
      "model_module": "@jupyter-widgets/base",
      "model_module_version": "1.0.0",
      "model_name": "LayoutModel",
      "state": {}
     },
     "cb1767cf107d458ab310d045850c5180": {
      "model_module": "@jupyter-widgets/controls",
      "model_module_version": "1.2.0",
      "model_name": "DescriptionStyleModel",
      "state": {
       "description_width": "initial"
      }
     },
     "ce054e897c6d4e9c9cd4f9964a2a7958": {
      "model_module": "@jupyter-widgets/controls",
      "model_module_version": "1.2.0",
      "model_name": "TextModel",
      "state": {
       "description": "Country Precursor:",
       "layout": "IPY_MODEL_30d6471269fc40a1a4f860fdfc8b610e",
       "placeholder": "Precursor to Country Name",
       "style": "IPY_MODEL_1b1af95fda874a35830da77937472a16"
      }
     },
     "ce7dc05fbc8c40f1bc26ba28f039c6f1": {
      "model_module": "@jupyter-widgets/base",
      "model_module_version": "1.0.0",
      "model_name": "LayoutModel",
      "state": {}
     },
     "cebc6e0301c447b5a6980e762b8105cb": {
      "model_module": "@jupyter-widgets/controls",
      "model_module_version": "1.2.0",
      "model_name": "SliderStyleModel",
      "state": {
       "description_width": "initial"
      }
     },
     "d027039d36254a32a84ab027a4e0ae04": {
      "model_module": "@jupyter-widgets/base",
      "model_module_version": "1.0.0",
      "model_name": "LayoutModel",
      "state": {}
     },
     "d06ee01a6e0d4615b441d45812ffbc5c": {
      "model_module": "@jupyter-widgets/controls",
      "model_module_version": "1.2.0",
      "model_name": "IntSliderModel",
      "state": {
       "continuous_update": false,
       "description": "Number of Legend Columns:",
       "layout": "IPY_MODEL_b23296a9a88b43d4a4362728a2e5e7d4",
       "max": 3,
       "min": 1,
       "style": "IPY_MODEL_66b7077707ed4605ba53941fe63ef0d6",
       "value": 1
      }
     },
     "d0807774317c4aff80725f88f053f4ab": {
      "model_module": "@jupyter-widgets/controls",
      "model_module_version": "1.2.0",
      "model_name": "TextModel",
      "state": {
       "description": "Island Size Thresh:",
       "layout": "IPY_MODEL_a73447805f734cf69b11ffd71d5f0eb7",
       "placeholder": "Type a island thresh",
       "style": "IPY_MODEL_058d54805c20450eafbc9db231c5c754",
       "value": "200"
      }
     },
     "d125a30ae17d43409f6d391ec5d09566": {
      "model_module": "@jupyter-widgets/controls",
      "model_module_version": "1.2.0",
      "model_name": "SliderStyleModel",
      "state": {
       "description_width": "initial"
      }
     },
     "d4ad19b8a2f04f589aa20a7ccc92ac75": {
      "model_module": "@jupyter-widgets/base",
      "model_module_version": "1.0.0",
      "model_name": "LayoutModel",
      "state": {}
     },
     "d5db70abe66a463cbcbc4c14ffeb3fbe": {
      "model_module": "@jupyter-widgets/controls",
      "model_module_version": "1.2.0",
      "model_name": "DescriptionStyleModel",
      "state": {
       "description_width": "initial"
      }
     },
     "d95b60d2d0bb496fb9de8de820725ea7": {
      "model_module": "@jupyter-widgets/base",
      "model_module_version": "1.0.0",
      "model_name": "LayoutModel",
      "state": {
       "height": "80px",
       "width": "70%"
      }
     },
     "da6cb41089c14cb089304d41439efd82": {
      "model_module": "@jupyter-widgets/base",
      "model_module_version": "1.0.0",
      "model_name": "LayoutModel",
      "state": {}
     },
     "da725c0ce721436eb070073810e930d1": {
      "model_module": "@jupyter-widgets/controls",
      "model_module_version": "1.2.0",
      "model_name": "ButtonStyleModel",
      "state": {}
     },
     "daa92050d52f433eb3e34b0085216e51": {
      "model_module": "@jupyter-widgets/controls",
      "model_module_version": "1.2.0",
      "model_name": "TextModel",
      "state": {
       "description": "Show Populated Places:",
       "layout": "IPY_MODEL_e86e01961d5245b18ac7ecabee6ba5ff",
       "placeholder": "Type something",
       "style": "IPY_MODEL_339ee14ddd864efabafa4777e196b00d",
       "value": "False"
      }
     },
     "dbbfa7595efb435a920d2df2c4ed014f": {
      "model_module": "@jupyter-widgets/base",
      "model_module_version": "1.0.0",
      "model_name": "LayoutModel",
      "state": {}
     },
     "dcd971f3c86845d7abc50517182b2279": {
      "model_module": "@jupyter-widgets/controls",
      "model_module_version": "1.2.0",
      "model_name": "ButtonModel",
      "state": {
       "description": "Update Plot",
       "icon": "check",
       "layout": "IPY_MODEL_c0ed58f44e1d402c80383dfffc184066",
       "style": "IPY_MODEL_da725c0ce721436eb070073810e930d1",
       "tooltip": "Update Plot"
      }
     },
     "de2ffcf7a6554d4bb99b5b968ea338f0": {
      "model_module": "@jupyter-widgets/base",
      "model_module_version": "1.0.0",
      "model_name": "LayoutModel",
      "state": {}
     },
     "df992bf53a8c43c993d946a0cc9536be": {
      "model_module": "@jupyter-widgets/controls",
      "model_module_version": "1.2.0",
      "model_name": "TextModel",
      "state": {
       "description": "Coordinate System:",
       "layout": "IPY_MODEL_17001cca00194e0cafdee261752dbcdd",
       "placeholder": "Type something",
       "style": "IPY_MODEL_c69a7fe9e3df4e139592191dd8193870",
       "value": "spherical"
      }
     },
     "e024971a6e9a4d508ea10edeb09bc6dc": {
      "model_module": "@jupyter-widgets/controls",
      "model_module_version": "1.2.0",
      "model_name": "TextModel",
      "state": {
       "description": "Coordinate System:",
       "layout": "IPY_MODEL_b707193cffa84ab5a91b3283acbd194d",
       "placeholder": "Type something",
       "style": "IPY_MODEL_3bcdc2e9071e47f6b59fef3edfba57ad",
       "value": "spherical"
      }
     },
     "e08ea0eab730462a9bb6383a04478810": {
      "model_module": "@jupyter-widgets/controls",
      "model_module_version": "1.2.0",
      "model_name": "ButtonModel",
      "state": {
       "description": "Update Plot",
       "icon": "check",
       "layout": "IPY_MODEL_2744a9a4245e4ce392b7da3458773886",
       "style": "IPY_MODEL_45145fd840e343269f4298bcfcaff6b5",
       "tooltip": "Update Plot"
      }
     },
     "e142632e0a214f2697b5fc6a87c92d7a": {
      "model_module": "@jupyter-widgets/controls",
      "model_module_version": "1.2.0",
      "model_name": "ToggleButtonsModel",
      "state": {
       "_options_labels": [
        "Simple",
        "Mixed",
        "Complex"
       ],
       "button_style": "",
       "description": "Simplification Level:",
       "icons": [],
       "index": 1,
       "layout": "IPY_MODEL_e4e6a9a6d70540e6ab3457e791574c0c",
       "style": "IPY_MODEL_27923732d28842fb833d024bd04ffcef",
       "tooltips": [
        "Renewables, Fossil, and Nuclear",
        "Solar, Wind, Hydro, Geothermal,Biomass, Wave and Tidal,\n Storage, Fossil, Nuclear",
        "Solar, Wind, Hydro, Geothermal,Biomass, Wave and Tidal,\n Storage, Fossil, Nuclear, Coal, Gas, Oil, Waste, Cogeneration"
       ]
      }
     },
     "e4e6a9a6d70540e6ab3457e791574c0c": {
      "model_module": "@jupyter-widgets/base",
      "model_module_version": "1.0.0",
      "model_name": "LayoutModel",
      "state": {}
     },
     "e5faefe0b30d45f1af15b942dea19f88": {
      "model_module": "@jupyter-widgets/controls",
      "model_module_version": "1.2.0",
      "model_name": "IntSliderModel",
      "state": {
       "continuous_update": false,
       "description": "DPI (resolution):",
       "layout": "IPY_MODEL_ce7dc05fbc8c40f1bc26ba28f039c6f1",
       "max": 500,
       "min": 100,
       "style": "IPY_MODEL_a43deb5f4ea34220bc499ac5398b8bea",
       "value": 300
      }
     },
     "e6074492c7cc4040ad3cb358ae512305": {
      "model_module": "@jupyter-widgets/controls",
      "model_module_version": "1.2.0",
      "model_name": "DescriptionStyleModel",
      "state": {
       "description_width": "initial"
      }
     },
     "e6c3ac873f0846c19ca55edff40cdcf0": {
      "model_module": "@jupyter-widgets/base",
      "model_module_version": "1.0.0",
      "model_name": "LayoutModel",
      "state": {}
     },
     "e704d73ab28844d186beb1674b1d799f": {
      "model_module": "@jupyter-widgets/controls",
      "model_module_version": "1.2.0",
      "model_name": "FloatSliderModel",
      "state": {
       "continuous_update": false,
       "description": "Zoom Level:",
       "layout": "IPY_MODEL_1b0ea0b2b7464ed1b8cbe979839ced9b",
       "max": 3,
       "min": 0.5,
       "readout_format": ".1f",
       "step": 0.1,
       "style": "IPY_MODEL_eea700f97181487ea917fd969e471d34",
       "value": 1.5
      }
     },
     "e783fc82ca5b4b76b58945a2eb559b84": {
      "model_module": "@jupyter-widgets/controls",
      "model_module_version": "1.2.0",
      "model_name": "ToggleButtonsStyleModel",
      "state": {
       "button_width": "",
       "description_width": "initial"
      }
     },
     "e7db3021d8e2438995a7b2bca3f7ac56": {
      "model_module": "@jupyter-widgets/controls",
      "model_module_version": "1.2.0",
      "model_name": "TextModel",
      "state": {
       "description": "Path to save to:",
       "layout": "IPY_MODEL_2f6629529078457db334226140d36d61",
       "placeholder": "Type the complete path to save to",
       "style": "IPY_MODEL_a1eb4647c3c04621a1f88dd90de401be",
       "value": "/Users/skoebric/Downloads/XYZ.png"
      }
     },
     "e86e01961d5245b18ac7ecabee6ba5ff": {
      "model_module": "@jupyter-widgets/base",
      "model_module_version": "1.0.0",
      "model_name": "LayoutModel",
      "state": {}
     },
     "e9305f35e0fd483887baf0b326df7b95": {
      "model_module": "@jupyter-widgets/base",
      "model_module_version": "1.0.0",
      "model_name": "LayoutModel",
      "state": {}
     },
     "e939a14180474b2782bf7f2024bc33aa": {
      "model_module": "@jupyter-widgets/base",
      "model_module_version": "1.0.0",
      "model_name": "LayoutModel",
      "state": {}
     },
     "eaaa258b500643d5b63dd2ce87ec6295": {
      "model_module": "@jupyter-widgets/controls",
      "model_module_version": "1.2.0",
      "model_name": "TextModel",
      "state": {
       "description": "Country Precursor:",
       "layout": "IPY_MODEL_3ce25d4b89904195985c5a22c00a3658",
       "placeholder": "Precursor to Country Name",
       "style": "IPY_MODEL_10939cd7c0ba4b7f813bbd234f5886ca"
      }
     },
     "eab0ba454c37404891d7818f67598e53": {
      "model_module": "@jupyter-widgets/controls",
      "model_module_version": "1.2.0",
      "model_name": "ButtonStyleModel",
      "state": {}
     },
     "eb4a7c8efa2240e3a70085ebfc72ef16": {
      "model_module": "@jupyter-widgets/controls",
      "model_module_version": "1.2.0",
      "model_name": "TextModel",
      "state": {
       "description": "Country Precursor:",
       "layout": "IPY_MODEL_d027039d36254a32a84ab027a4e0ae04",
       "placeholder": "Precursor to Country Name",
       "style": "IPY_MODEL_a4e48d1735f14553afb9748d3959d7c5"
      }
     },
     "ebdd9bf153cc4acb9fab678bc8bd23f2": {
      "model_module": "@jupyter-widgets/controls",
      "model_module_version": "1.2.0",
      "model_name": "TextModel",
      "state": {
       "description": "Island Size Thresh:",
       "layout": "IPY_MODEL_65ef3fe9c86d4f409473ed7b0b488939",
       "placeholder": "Type a island thresh",
       "style": "IPY_MODEL_9da689946cf74d4bba483f5465628bd3",
       "value": "200"
      }
     },
     "ec321d96197542c989738ad79586ac96": {
      "model_module": "@jupyter-widgets/base",
      "model_module_version": "1.0.0",
      "model_name": "LayoutModel",
      "state": {}
     },
     "ec57aafcb73d4ffc9f7633acb55f6683": {
      "model_module": "@jupyter-widgets/controls",
      "model_module_version": "1.2.0",
      "model_name": "TextModel",
      "state": {
       "description": "Country Precursor:",
       "layout": "IPY_MODEL_3f50e791dfe84c56971a0e3510ab2462",
       "placeholder": "Precursor to Country Name",
       "style": "IPY_MODEL_c488274fbc0247cebba7ab09422e9738"
      }
     },
     "ed2ba2283910438e9213d39295c6c66d": {
      "model_module": "@jupyter-widgets/controls",
      "model_module_version": "1.2.0",
      "model_name": "DescriptionStyleModel",
      "state": {
       "description_width": "initial"
      }
     },
     "ed748724e69043e6b6b9290c21e750fc": {
      "model_module": "@jupyter-widgets/base",
      "model_module_version": "1.0.0",
      "model_name": "LayoutModel",
      "state": {}
     },
     "ee930139d1f047a8a177b19da9b7eaae": {
      "model_module": "@jupyter-widgets/base",
      "model_module_version": "1.0.0",
      "model_name": "LayoutModel",
      "state": {}
     },
     "eea700f97181487ea917fd969e471d34": {
      "model_module": "@jupyter-widgets/controls",
      "model_module_version": "1.2.0",
      "model_name": "SliderStyleModel",
      "state": {
       "description_width": "initial"
      }
     },
     "ef32c488276b4ee49436f14c7eb80224": {
      "model_module": "@jupyter-widgets/controls",
      "model_module_version": "1.2.0",
      "model_name": "DescriptionStyleModel",
      "state": {
       "description_width": "initial"
      }
     },
     "ef9a73385d5e44f98d5b834775056728": {
      "model_module": "@jupyter-widgets/base",
      "model_module_version": "1.0.0",
      "model_name": "LayoutModel",
      "state": {}
     },
     "f0fce0215ce14a779d1d1b189dcd5b9b": {
      "model_module": "@jupyter-widgets/controls",
      "model_module_version": "1.2.0",
      "model_name": "DescriptionStyleModel",
      "state": {
       "description_width": "initial"
      }
     },
     "f1717553bcf44eeea4ad9964d002a26a": {
      "model_module": "@jupyter-widgets/base",
      "model_module_version": "1.0.0",
      "model_name": "LayoutModel",
      "state": {}
     },
     "f3b74ccd814b427fb5383b5f00c6e23d": {
      "model_module": "@jupyter-widgets/controls",
      "model_module_version": "1.2.0",
      "model_name": "DescriptionStyleModel",
      "state": {
       "description_width": "initial"
      }
     },
     "f5a0a62cb8df476c8ffc4110bc5cd6cb": {
      "model_module": "@jupyter-widgets/controls",
      "model_module_version": "1.2.0",
      "model_name": "SliderStyleModel",
      "state": {
       "description_width": "initial"
      }
     },
     "f5e200ea06ab4c90b79f56a68abc7ab3": {
      "model_module": "@jupyter-widgets/controls",
      "model_module_version": "1.2.0",
      "model_name": "SliderStyleModel",
      "state": {
       "description_width": "initial"
      }
     },
     "f7883f05ac4446c1a8b08651285e5252": {
      "model_module": "@jupyter-widgets/controls",
      "model_module_version": "1.2.0",
      "model_name": "ToggleButtonsModel",
      "state": {
       "_options_labels": [
        "Simple",
        "Mixed",
        "Complex"
       ],
       "button_style": "",
       "description": "Simplification Level:",
       "icons": [],
       "index": 1,
       "layout": "IPY_MODEL_94041037c4984306a39e2e3c519602e6",
       "style": "IPY_MODEL_57f98d81985943ebb9233853dd4a23f0",
       "tooltips": [
        "Renewables, Fossil, and Nuclear",
        "Solar, Wind, Hydro, Geothermal,Biomass, Wave and Tidal,\n Storage, Fossil, Nuclear",
        "Solar, Wind, Hydro, Geothermal,Biomass, Wave and Tidal,\n Storage, Fossil, Nuclear, Coal, Gas, Oil, Waste, Cogeneration"
       ]
      }
     },
     "fc0bab5a38904c1fba240e51d9566eab": {
      "model_module": "@jupyter-widgets/base",
      "model_module_version": "1.0.0",
      "model_name": "LayoutModel",
      "state": {}
     },
     "fe13b2fd3268453896c9eb11d4c06fd5": {
      "model_module": "@jupyter-widgets/controls",
      "model_module_version": "1.2.0",
      "model_name": "IntSliderModel",
      "state": {
       "continuous_update": false,
       "description": "Number of Legend Columns:",
       "layout": "IPY_MODEL_ec321d96197542c989738ad79586ac96",
       "max": 3,
       "min": 1,
       "style": "IPY_MODEL_bf5a328e8a704319bafb1457c661a492",
       "value": 1
      }
     },
     "feb06c0c3e894536819e43823020e7db": {
      "model_module": "@jupyter-widgets/controls",
      "model_module_version": "1.2.0",
      "model_name": "ButtonStyleModel",
      "state": {}
     },
     "fee5a3a78cf5455abb69bd438fb5452d": {
      "model_module": "@jupyter-widgets/controls",
      "model_module_version": "1.2.0",
      "model_name": "SliderStyleModel",
      "state": {
       "description_width": "initial"
      }
     },
     "ffd8beec813f443c97b3b531e32b7276": {
      "model_module": "@jupyter-widgets/base",
      "model_module_version": "1.0.0",
      "model_name": "LayoutModel",
      "state": {}
     }
    },
    "version_major": 2,
    "version_minor": 0
   }
  }
 },
 "nbformat": 4,
 "nbformat_minor": 2
}
