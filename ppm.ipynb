{
 "cells": [
  {
   "cell_type": "markdown",
   "metadata": {},
   "source": [
    "# *Country Power Plant Mapper*\n",
    "\n",
    "## This application easily produces clean, beautiful, and flexible bubble maps displaying the types and sizes of grid-connected generators in any country. All without touching a line of code!\n",
    "\n",
    "### Basic Instructions:\n",
    "1. Enter the __Country Name__.\n",
    "2. Choose the desired level of __Simplification__ for resource type:\n",
    "    -  *Simple* breaks resources into 'Renewable', 'Fossil', and 'Nuclear'.\n",
    "    -  *Mixed* subdivides renewables (solar, wind, etc.) but keeps 'Fossil' together. \n",
    "    -  *Complex* labels every resource type.\n",
    "    \n",
    "\n",
    "3. Press the __Update Plot__ Button.\n",
    "4. Drag the legend to a better location, if needed (this can be a little wonky––sorry). \n",
    "5. To save the image, click the power symbol in the upper right portion of the map. Then right click on the map and select 'Save Image As'. \n",
    "\n",
    "Check out the __Advanced Instructions__ section below if you need additional control.\n",
    "\n",
    "import parameterwidgets as pw"
   ]
  },
  {
   "cell_type": "code",
   "execution_count": 1,
   "metadata": {
    "scrolled": true
   },
   "outputs": [
    {
     "data": {
      "application/vnd.jupyter.widget-view+json": {
       "model_id": "29add54988604a7999b603dd9cb7d054",
       "version_major": 2,
       "version_minor": 0
      },
      "text/plain": [
       "Text(value='India', description='Country Name:', placeholder='Type a country name', style=DescriptionStyle(des…"
      ]
     },
     "metadata": {},
     "output_type": "display_data"
    },
    {
     "data": {
      "application/vnd.jupyter.widget-view+json": {
       "model_id": "f7883f05ac4446c1a8b08651285e5252",
       "version_major": 2,
       "version_minor": 0
      },
      "text/plain": [
       "ToggleButtons(description='Simplification Level:', index=1, options=('Simple', 'Mixed', 'Complex'), style=Togg…"
      ]
     },
     "metadata": {},
     "output_type": "display_data"
    }
   ],
   "source": [
    "import parameterwidgets as pw\n",
    "pw.showbasicwidgets()"
   ]
  },
  {
   "cell_type": "code",
   "execution_count": 5,
   "metadata": {},
   "outputs": [
    {
     "data": {
      "text/html": [
       "<style>.container { width:75% !important; }</style>"
      ],
      "text/plain": [
       "<IPython.core.display.HTML object>"
      ]
     },
     "metadata": {},
     "output_type": "display_data"
    },
    {
     "data": {
      "application/vnd.jupyter.widget-view+json": {
       "model_id": "6a24a82825eb4236aa0bb3cd20d4809e",
       "version_major": 2,
       "version_minor": 0
      },
      "text/plain": [
       "Button(description='Update Plot', icon='check', layout=Layout(height='80px', width='70%'), style=ButtonStyle()…"
      ]
     },
     "metadata": {},
     "output_type": "display_data"
    },
    {
     "data": {
      "application/javascript": [
       "/* Put everything inside the global mpl namespace */\n",
       "window.mpl = {};\n",
       "\n",
       "\n",
       "mpl.get_websocket_type = function() {\n",
       "    if (typeof(WebSocket) !== 'undefined') {\n",
       "        return WebSocket;\n",
       "    } else if (typeof(MozWebSocket) !== 'undefined') {\n",
       "        return MozWebSocket;\n",
       "    } else {\n",
       "        alert('Your browser does not have WebSocket support.' +\n",
       "              'Please try Chrome, Safari or Firefox ≥ 6. ' +\n",
       "              'Firefox 4 and 5 are also supported but you ' +\n",
       "              'have to enable WebSockets in about:config.');\n",
       "    };\n",
       "}\n",
       "\n",
       "mpl.figure = function(figure_id, websocket, ondownload, parent_element) {\n",
       "    this.id = figure_id;\n",
       "\n",
       "    this.ws = websocket;\n",
       "\n",
       "    this.supports_binary = (this.ws.binaryType != undefined);\n",
       "\n",
       "    if (!this.supports_binary) {\n",
       "        var warnings = document.getElementById(\"mpl-warnings\");\n",
       "        if (warnings) {\n",
       "            warnings.style.display = 'block';\n",
       "            warnings.textContent = (\n",
       "                \"This browser does not support binary websocket messages. \" +\n",
       "                    \"Performance may be slow.\");\n",
       "        }\n",
       "    }\n",
       "\n",
       "    this.imageObj = new Image();\n",
       "\n",
       "    this.context = undefined;\n",
       "    this.message = undefined;\n",
       "    this.canvas = undefined;\n",
       "    this.rubberband_canvas = undefined;\n",
       "    this.rubberband_context = undefined;\n",
       "    this.format_dropdown = undefined;\n",
       "\n",
       "    this.image_mode = 'full';\n",
       "\n",
       "    this.root = $('<div/>');\n",
       "    this._root_extra_style(this.root)\n",
       "    this.root.attr('style', 'display: inline-block');\n",
       "\n",
       "    $(parent_element).append(this.root);\n",
       "\n",
       "    this._init_header(this);\n",
       "    this._init_canvas(this);\n",
       "    this._init_toolbar(this);\n",
       "\n",
       "    var fig = this;\n",
       "\n",
       "    this.waiting = false;\n",
       "\n",
       "    this.ws.onopen =  function () {\n",
       "            fig.send_message(\"supports_binary\", {value: fig.supports_binary});\n",
       "            fig.send_message(\"send_image_mode\", {});\n",
       "            if (mpl.ratio != 1) {\n",
       "                fig.send_message(\"set_dpi_ratio\", {'dpi_ratio': mpl.ratio});\n",
       "            }\n",
       "            fig.send_message(\"refresh\", {});\n",
       "        }\n",
       "\n",
       "    this.imageObj.onload = function() {\n",
       "            if (fig.image_mode == 'full') {\n",
       "                // Full images could contain transparency (where diff images\n",
       "                // almost always do), so we need to clear the canvas so that\n",
       "                // there is no ghosting.\n",
       "                fig.context.clearRect(0, 0, fig.canvas.width, fig.canvas.height);\n",
       "            }\n",
       "            fig.context.drawImage(fig.imageObj, 0, 0);\n",
       "        };\n",
       "\n",
       "    this.imageObj.onunload = function() {\n",
       "        fig.ws.close();\n",
       "    }\n",
       "\n",
       "    this.ws.onmessage = this._make_on_message_function(this);\n",
       "\n",
       "    this.ondownload = ondownload;\n",
       "}\n",
       "\n",
       "mpl.figure.prototype._init_header = function() {\n",
       "    var titlebar = $(\n",
       "        '<div class=\"ui-dialog-titlebar ui-widget-header ui-corner-all ' +\n",
       "        'ui-helper-clearfix\"/>');\n",
       "    var titletext = $(\n",
       "        '<div class=\"ui-dialog-title\" style=\"width: 100%; ' +\n",
       "        'text-align: center; padding: 3px;\"/>');\n",
       "    titlebar.append(titletext)\n",
       "    this.root.append(titlebar);\n",
       "    this.header = titletext[0];\n",
       "}\n",
       "\n",
       "\n",
       "\n",
       "mpl.figure.prototype._canvas_extra_style = function(canvas_div) {\n",
       "\n",
       "}\n",
       "\n",
       "\n",
       "mpl.figure.prototype._root_extra_style = function(canvas_div) {\n",
       "\n",
       "}\n",
       "\n",
       "mpl.figure.prototype._init_canvas = function() {\n",
       "    var fig = this;\n",
       "\n",
       "    var canvas_div = $('<div/>');\n",
       "\n",
       "    canvas_div.attr('style', 'position: relative; clear: both; outline: 0');\n",
       "\n",
       "    function canvas_keyboard_event(event) {\n",
       "        return fig.key_event(event, event['data']);\n",
       "    }\n",
       "\n",
       "    canvas_div.keydown('key_press', canvas_keyboard_event);\n",
       "    canvas_div.keyup('key_release', canvas_keyboard_event);\n",
       "    this.canvas_div = canvas_div\n",
       "    this._canvas_extra_style(canvas_div)\n",
       "    this.root.append(canvas_div);\n",
       "\n",
       "    var canvas = $('<canvas/>');\n",
       "    canvas.addClass('mpl-canvas');\n",
       "    canvas.attr('style', \"left: 0; top: 0; z-index: 0; outline: 0\")\n",
       "\n",
       "    this.canvas = canvas[0];\n",
       "    this.context = canvas[0].getContext(\"2d\");\n",
       "\n",
       "    var backingStore = this.context.backingStorePixelRatio ||\n",
       "\tthis.context.webkitBackingStorePixelRatio ||\n",
       "\tthis.context.mozBackingStorePixelRatio ||\n",
       "\tthis.context.msBackingStorePixelRatio ||\n",
       "\tthis.context.oBackingStorePixelRatio ||\n",
       "\tthis.context.backingStorePixelRatio || 1;\n",
       "\n",
       "    mpl.ratio = (window.devicePixelRatio || 1) / backingStore;\n",
       "\n",
       "    var rubberband = $('<canvas/>');\n",
       "    rubberband.attr('style', \"position: absolute; left: 0; top: 0; z-index: 1;\")\n",
       "\n",
       "    var pass_mouse_events = true;\n",
       "\n",
       "    canvas_div.resizable({\n",
       "        start: function(event, ui) {\n",
       "            pass_mouse_events = false;\n",
       "        },\n",
       "        resize: function(event, ui) {\n",
       "            fig.request_resize(ui.size.width, ui.size.height);\n",
       "        },\n",
       "        stop: function(event, ui) {\n",
       "            pass_mouse_events = true;\n",
       "            fig.request_resize(ui.size.width, ui.size.height);\n",
       "        },\n",
       "    });\n",
       "\n",
       "    function mouse_event_fn(event) {\n",
       "        if (pass_mouse_events)\n",
       "            return fig.mouse_event(event, event['data']);\n",
       "    }\n",
       "\n",
       "    rubberband.mousedown('button_press', mouse_event_fn);\n",
       "    rubberband.mouseup('button_release', mouse_event_fn);\n",
       "    // Throttle sequential mouse events to 1 every 20ms.\n",
       "    rubberband.mousemove('motion_notify', mouse_event_fn);\n",
       "\n",
       "    rubberband.mouseenter('figure_enter', mouse_event_fn);\n",
       "    rubberband.mouseleave('figure_leave', mouse_event_fn);\n",
       "\n",
       "    canvas_div.on(\"wheel\", function (event) {\n",
       "        event = event.originalEvent;\n",
       "        event['data'] = 'scroll'\n",
       "        if (event.deltaY < 0) {\n",
       "            event.step = 1;\n",
       "        } else {\n",
       "            event.step = -1;\n",
       "        }\n",
       "        mouse_event_fn(event);\n",
       "    });\n",
       "\n",
       "    canvas_div.append(canvas);\n",
       "    canvas_div.append(rubberband);\n",
       "\n",
       "    this.rubberband = rubberband;\n",
       "    this.rubberband_canvas = rubberband[0];\n",
       "    this.rubberband_context = rubberband[0].getContext(\"2d\");\n",
       "    this.rubberband_context.strokeStyle = \"#000000\";\n",
       "\n",
       "    this._resize_canvas = function(width, height) {\n",
       "        // Keep the size of the canvas, canvas container, and rubber band\n",
       "        // canvas in synch.\n",
       "        canvas_div.css('width', width)\n",
       "        canvas_div.css('height', height)\n",
       "\n",
       "        canvas.attr('width', width * mpl.ratio);\n",
       "        canvas.attr('height', height * mpl.ratio);\n",
       "        canvas.attr('style', 'width: ' + width + 'px; height: ' + height + 'px;');\n",
       "\n",
       "        rubberband.attr('width', width);\n",
       "        rubberband.attr('height', height);\n",
       "    }\n",
       "\n",
       "    // Set the figure to an initial 600x600px, this will subsequently be updated\n",
       "    // upon first draw.\n",
       "    this._resize_canvas(600, 600);\n",
       "\n",
       "    // Disable right mouse context menu.\n",
       "    $(this.rubberband_canvas).bind(\"contextmenu\",function(e){\n",
       "        return false;\n",
       "    });\n",
       "\n",
       "    function set_focus () {\n",
       "        canvas.focus();\n",
       "        canvas_div.focus();\n",
       "    }\n",
       "\n",
       "    window.setTimeout(set_focus, 100);\n",
       "}\n",
       "\n",
       "mpl.figure.prototype._init_toolbar = function() {\n",
       "    var fig = this;\n",
       "\n",
       "    var nav_element = $('<div/>')\n",
       "    nav_element.attr('style', 'width: 100%');\n",
       "    this.root.append(nav_element);\n",
       "\n",
       "    // Define a callback function for later on.\n",
       "    function toolbar_event(event) {\n",
       "        return fig.toolbar_button_onclick(event['data']);\n",
       "    }\n",
       "    function toolbar_mouse_event(event) {\n",
       "        return fig.toolbar_button_onmouseover(event['data']);\n",
       "    }\n",
       "\n",
       "    for(var toolbar_ind in mpl.toolbar_items) {\n",
       "        var name = mpl.toolbar_items[toolbar_ind][0];\n",
       "        var tooltip = mpl.toolbar_items[toolbar_ind][1];\n",
       "        var image = mpl.toolbar_items[toolbar_ind][2];\n",
       "        var method_name = mpl.toolbar_items[toolbar_ind][3];\n",
       "\n",
       "        if (!name) {\n",
       "            // put a spacer in here.\n",
       "            continue;\n",
       "        }\n",
       "        var button = $('<button/>');\n",
       "        button.addClass('ui-button ui-widget ui-state-default ui-corner-all ' +\n",
       "                        'ui-button-icon-only');\n",
       "        button.attr('role', 'button');\n",
       "        button.attr('aria-disabled', 'false');\n",
       "        button.click(method_name, toolbar_event);\n",
       "        button.mouseover(tooltip, toolbar_mouse_event);\n",
       "\n",
       "        var icon_img = $('<span/>');\n",
       "        icon_img.addClass('ui-button-icon-primary ui-icon');\n",
       "        icon_img.addClass(image);\n",
       "        icon_img.addClass('ui-corner-all');\n",
       "\n",
       "        var tooltip_span = $('<span/>');\n",
       "        tooltip_span.addClass('ui-button-text');\n",
       "        tooltip_span.html(tooltip);\n",
       "\n",
       "        button.append(icon_img);\n",
       "        button.append(tooltip_span);\n",
       "\n",
       "        nav_element.append(button);\n",
       "    }\n",
       "\n",
       "    var fmt_picker_span = $('<span/>');\n",
       "\n",
       "    var fmt_picker = $('<select/>');\n",
       "    fmt_picker.addClass('mpl-toolbar-option ui-widget ui-widget-content');\n",
       "    fmt_picker_span.append(fmt_picker);\n",
       "    nav_element.append(fmt_picker_span);\n",
       "    this.format_dropdown = fmt_picker[0];\n",
       "\n",
       "    for (var ind in mpl.extensions) {\n",
       "        var fmt = mpl.extensions[ind];\n",
       "        var option = $(\n",
       "            '<option/>', {selected: fmt === mpl.default_extension}).html(fmt);\n",
       "        fmt_picker.append(option)\n",
       "    }\n",
       "\n",
       "    // Add hover states to the ui-buttons\n",
       "    $( \".ui-button\" ).hover(\n",
       "        function() { $(this).addClass(\"ui-state-hover\");},\n",
       "        function() { $(this).removeClass(\"ui-state-hover\");}\n",
       "    );\n",
       "\n",
       "    var status_bar = $('<span class=\"mpl-message\"/>');\n",
       "    nav_element.append(status_bar);\n",
       "    this.message = status_bar[0];\n",
       "}\n",
       "\n",
       "mpl.figure.prototype.request_resize = function(x_pixels, y_pixels) {\n",
       "    // Request matplotlib to resize the figure. Matplotlib will then trigger a resize in the client,\n",
       "    // which will in turn request a refresh of the image.\n",
       "    this.send_message('resize', {'width': x_pixels, 'height': y_pixels});\n",
       "}\n",
       "\n",
       "mpl.figure.prototype.send_message = function(type, properties) {\n",
       "    properties['type'] = type;\n",
       "    properties['figure_id'] = this.id;\n",
       "    this.ws.send(JSON.stringify(properties));\n",
       "}\n",
       "\n",
       "mpl.figure.prototype.send_draw_message = function() {\n",
       "    if (!this.waiting) {\n",
       "        this.waiting = true;\n",
       "        this.ws.send(JSON.stringify({type: \"draw\", figure_id: this.id}));\n",
       "    }\n",
       "}\n",
       "\n",
       "\n",
       "mpl.figure.prototype.handle_save = function(fig, msg) {\n",
       "    var format_dropdown = fig.format_dropdown;\n",
       "    var format = format_dropdown.options[format_dropdown.selectedIndex].value;\n",
       "    fig.ondownload(fig, format);\n",
       "}\n",
       "\n",
       "\n",
       "mpl.figure.prototype.handle_resize = function(fig, msg) {\n",
       "    var size = msg['size'];\n",
       "    if (size[0] != fig.canvas.width || size[1] != fig.canvas.height) {\n",
       "        fig._resize_canvas(size[0], size[1]);\n",
       "        fig.send_message(\"refresh\", {});\n",
       "    };\n",
       "}\n",
       "\n",
       "mpl.figure.prototype.handle_rubberband = function(fig, msg) {\n",
       "    var x0 = msg['x0'] / mpl.ratio;\n",
       "    var y0 = (fig.canvas.height - msg['y0']) / mpl.ratio;\n",
       "    var x1 = msg['x1'] / mpl.ratio;\n",
       "    var y1 = (fig.canvas.height - msg['y1']) / mpl.ratio;\n",
       "    x0 = Math.floor(x0) + 0.5;\n",
       "    y0 = Math.floor(y0) + 0.5;\n",
       "    x1 = Math.floor(x1) + 0.5;\n",
       "    y1 = Math.floor(y1) + 0.5;\n",
       "    var min_x = Math.min(x0, x1);\n",
       "    var min_y = Math.min(y0, y1);\n",
       "    var width = Math.abs(x1 - x0);\n",
       "    var height = Math.abs(y1 - y0);\n",
       "\n",
       "    fig.rubberband_context.clearRect(\n",
       "        0, 0, fig.canvas.width, fig.canvas.height);\n",
       "\n",
       "    fig.rubberband_context.strokeRect(min_x, min_y, width, height);\n",
       "}\n",
       "\n",
       "mpl.figure.prototype.handle_figure_label = function(fig, msg) {\n",
       "    // Updates the figure title.\n",
       "    fig.header.textContent = msg['label'];\n",
       "}\n",
       "\n",
       "mpl.figure.prototype.handle_cursor = function(fig, msg) {\n",
       "    var cursor = msg['cursor'];\n",
       "    switch(cursor)\n",
       "    {\n",
       "    case 0:\n",
       "        cursor = 'pointer';\n",
       "        break;\n",
       "    case 1:\n",
       "        cursor = 'default';\n",
       "        break;\n",
       "    case 2:\n",
       "        cursor = 'crosshair';\n",
       "        break;\n",
       "    case 3:\n",
       "        cursor = 'move';\n",
       "        break;\n",
       "    }\n",
       "    fig.rubberband_canvas.style.cursor = cursor;\n",
       "}\n",
       "\n",
       "mpl.figure.prototype.handle_message = function(fig, msg) {\n",
       "    fig.message.textContent = msg['message'];\n",
       "}\n",
       "\n",
       "mpl.figure.prototype.handle_draw = function(fig, msg) {\n",
       "    // Request the server to send over a new figure.\n",
       "    fig.send_draw_message();\n",
       "}\n",
       "\n",
       "mpl.figure.prototype.handle_image_mode = function(fig, msg) {\n",
       "    fig.image_mode = msg['mode'];\n",
       "}\n",
       "\n",
       "mpl.figure.prototype.updated_canvas_event = function() {\n",
       "    // Called whenever the canvas gets updated.\n",
       "    this.send_message(\"ack\", {});\n",
       "}\n",
       "\n",
       "// A function to construct a web socket function for onmessage handling.\n",
       "// Called in the figure constructor.\n",
       "mpl.figure.prototype._make_on_message_function = function(fig) {\n",
       "    return function socket_on_message(evt) {\n",
       "        if (evt.data instanceof Blob) {\n",
       "            /* FIXME: We get \"Resource interpreted as Image but\n",
       "             * transferred with MIME type text/plain:\" errors on\n",
       "             * Chrome.  But how to set the MIME type?  It doesn't seem\n",
       "             * to be part of the websocket stream */\n",
       "            evt.data.type = \"image/png\";\n",
       "\n",
       "            /* Free the memory for the previous frames */\n",
       "            if (fig.imageObj.src) {\n",
       "                (window.URL || window.webkitURL).revokeObjectURL(\n",
       "                    fig.imageObj.src);\n",
       "            }\n",
       "\n",
       "            fig.imageObj.src = (window.URL || window.webkitURL).createObjectURL(\n",
       "                evt.data);\n",
       "            fig.updated_canvas_event();\n",
       "            fig.waiting = false;\n",
       "            return;\n",
       "        }\n",
       "        else if (typeof evt.data === 'string' && evt.data.slice(0, 21) == \"data:image/png;base64\") {\n",
       "            fig.imageObj.src = evt.data;\n",
       "            fig.updated_canvas_event();\n",
       "            fig.waiting = false;\n",
       "            return;\n",
       "        }\n",
       "\n",
       "        var msg = JSON.parse(evt.data);\n",
       "        var msg_type = msg['type'];\n",
       "\n",
       "        // Call the  \"handle_{type}\" callback, which takes\n",
       "        // the figure and JSON message as its only arguments.\n",
       "        try {\n",
       "            var callback = fig[\"handle_\" + msg_type];\n",
       "        } catch (e) {\n",
       "            console.log(\"No handler for the '\" + msg_type + \"' message type: \", msg);\n",
       "            return;\n",
       "        }\n",
       "\n",
       "        if (callback) {\n",
       "            try {\n",
       "                // console.log(\"Handling '\" + msg_type + \"' message: \", msg);\n",
       "                callback(fig, msg);\n",
       "            } catch (e) {\n",
       "                console.log(\"Exception inside the 'handler_\" + msg_type + \"' callback:\", e, e.stack, msg);\n",
       "            }\n",
       "        }\n",
       "    };\n",
       "}\n",
       "\n",
       "// from http://stackoverflow.com/questions/1114465/getting-mouse-location-in-canvas\n",
       "mpl.findpos = function(e) {\n",
       "    //this section is from http://www.quirksmode.org/js/events_properties.html\n",
       "    var targ;\n",
       "    if (!e)\n",
       "        e = window.event;\n",
       "    if (e.target)\n",
       "        targ = e.target;\n",
       "    else if (e.srcElement)\n",
       "        targ = e.srcElement;\n",
       "    if (targ.nodeType == 3) // defeat Safari bug\n",
       "        targ = targ.parentNode;\n",
       "\n",
       "    // jQuery normalizes the pageX and pageY\n",
       "    // pageX,Y are the mouse positions relative to the document\n",
       "    // offset() returns the position of the element relative to the document\n",
       "    var x = e.pageX - $(targ).offset().left;\n",
       "    var y = e.pageY - $(targ).offset().top;\n",
       "\n",
       "    return {\"x\": x, \"y\": y};\n",
       "};\n",
       "\n",
       "/*\n",
       " * return a copy of an object with only non-object keys\n",
       " * we need this to avoid circular references\n",
       " * http://stackoverflow.com/a/24161582/3208463\n",
       " */\n",
       "function simpleKeys (original) {\n",
       "  return Object.keys(original).reduce(function (obj, key) {\n",
       "    if (typeof original[key] !== 'object')\n",
       "        obj[key] = original[key]\n",
       "    return obj;\n",
       "  }, {});\n",
       "}\n",
       "\n",
       "mpl.figure.prototype.mouse_event = function(event, name) {\n",
       "    var canvas_pos = mpl.findpos(event)\n",
       "\n",
       "    if (name === 'button_press')\n",
       "    {\n",
       "        this.canvas.focus();\n",
       "        this.canvas_div.focus();\n",
       "    }\n",
       "\n",
       "    var x = canvas_pos.x * mpl.ratio;\n",
       "    var y = canvas_pos.y * mpl.ratio;\n",
       "\n",
       "    this.send_message(name, {x: x, y: y, button: event.button,\n",
       "                             step: event.step,\n",
       "                             guiEvent: simpleKeys(event)});\n",
       "\n",
       "    /* This prevents the web browser from automatically changing to\n",
       "     * the text insertion cursor when the button is pressed.  We want\n",
       "     * to control all of the cursor setting manually through the\n",
       "     * 'cursor' event from matplotlib */\n",
       "    event.preventDefault();\n",
       "    return false;\n",
       "}\n",
       "\n",
       "mpl.figure.prototype._key_event_extra = function(event, name) {\n",
       "    // Handle any extra behaviour associated with a key event\n",
       "}\n",
       "\n",
       "mpl.figure.prototype.key_event = function(event, name) {\n",
       "\n",
       "    // Prevent repeat events\n",
       "    if (name == 'key_press')\n",
       "    {\n",
       "        if (event.which === this._key)\n",
       "            return;\n",
       "        else\n",
       "            this._key = event.which;\n",
       "    }\n",
       "    if (name == 'key_release')\n",
       "        this._key = null;\n",
       "\n",
       "    var value = '';\n",
       "    if (event.ctrlKey && event.which != 17)\n",
       "        value += \"ctrl+\";\n",
       "    if (event.altKey && event.which != 18)\n",
       "        value += \"alt+\";\n",
       "    if (event.shiftKey && event.which != 16)\n",
       "        value += \"shift+\";\n",
       "\n",
       "    value += 'k';\n",
       "    value += event.which.toString();\n",
       "\n",
       "    this._key_event_extra(event, name);\n",
       "\n",
       "    this.send_message(name, {key: value,\n",
       "                             guiEvent: simpleKeys(event)});\n",
       "    return false;\n",
       "}\n",
       "\n",
       "mpl.figure.prototype.toolbar_button_onclick = function(name) {\n",
       "    if (name == 'download') {\n",
       "        this.handle_save(this, null);\n",
       "    } else {\n",
       "        this.send_message(\"toolbar_button\", {name: name});\n",
       "    }\n",
       "};\n",
       "\n",
       "mpl.figure.prototype.toolbar_button_onmouseover = function(tooltip) {\n",
       "    this.message.textContent = tooltip;\n",
       "};\n",
       "mpl.toolbar_items = [[\"Home\", \"Reset original view\", \"fa fa-home icon-home\", \"home\"], [\"Back\", \"Back to  previous view\", \"fa fa-arrow-left icon-arrow-left\", \"back\"], [\"Forward\", \"Forward to next view\", \"fa fa-arrow-right icon-arrow-right\", \"forward\"], [\"\", \"\", \"\", \"\"], [\"Pan\", \"Pan axes with left mouse, zoom with right\", \"fa fa-arrows icon-move\", \"pan\"], [\"Zoom\", \"Zoom to rectangle\", \"fa fa-square-o icon-check-empty\", \"zoom\"], [\"\", \"\", \"\", \"\"], [\"Download\", \"Download plot\", \"fa fa-floppy-o icon-save\", \"download\"]];\n",
       "\n",
       "mpl.extensions = [\"eps\", \"jpeg\", \"pdf\", \"png\", \"ps\", \"raw\", \"svg\", \"tif\"];\n",
       "\n",
       "mpl.default_extension = \"png\";var comm_websocket_adapter = function(comm) {\n",
       "    // Create a \"websocket\"-like object which calls the given IPython comm\n",
       "    // object with the appropriate methods. Currently this is a non binary\n",
       "    // socket, so there is still some room for performance tuning.\n",
       "    var ws = {};\n",
       "\n",
       "    ws.close = function() {\n",
       "        comm.close()\n",
       "    };\n",
       "    ws.send = function(m) {\n",
       "        //console.log('sending', m);\n",
       "        comm.send(m);\n",
       "    };\n",
       "    // Register the callback with on_msg.\n",
       "    comm.on_msg(function(msg) {\n",
       "        //console.log('receiving', msg['content']['data'], msg);\n",
       "        // Pass the mpl event to the overridden (by mpl) onmessage function.\n",
       "        ws.onmessage(msg['content']['data'])\n",
       "    });\n",
       "    return ws;\n",
       "}\n",
       "\n",
       "mpl.mpl_figure_comm = function(comm, msg) {\n",
       "    // This is the function which gets called when the mpl process\n",
       "    // starts-up an IPython Comm through the \"matplotlib\" channel.\n",
       "\n",
       "    var id = msg.content.data.id;\n",
       "    // Get hold of the div created by the display call when the Comm\n",
       "    // socket was opened in Python.\n",
       "    var element = $(\"#\" + id);\n",
       "    var ws_proxy = comm_websocket_adapter(comm)\n",
       "\n",
       "    function ondownload(figure, format) {\n",
       "        window.open(figure.imageObj.src);\n",
       "    }\n",
       "\n",
       "    var fig = new mpl.figure(id, ws_proxy,\n",
       "                           ondownload,\n",
       "                           element.get(0));\n",
       "\n",
       "    // Call onopen now - mpl needs it, as it is assuming we've passed it a real\n",
       "    // web socket which is closed, not our websocket->open comm proxy.\n",
       "    ws_proxy.onopen();\n",
       "\n",
       "    fig.parent_element = element.get(0);\n",
       "    fig.cell_info = mpl.find_output_cell(\"<div id='\" + id + \"'></div>\");\n",
       "    if (!fig.cell_info) {\n",
       "        console.error(\"Failed to find cell for figure\", id, fig);\n",
       "        return;\n",
       "    }\n",
       "\n",
       "    var output_index = fig.cell_info[2]\n",
       "    var cell = fig.cell_info[0];\n",
       "\n",
       "};\n",
       "\n",
       "mpl.figure.prototype.handle_close = function(fig, msg) {\n",
       "    var width = fig.canvas.width/mpl.ratio\n",
       "    fig.root.unbind('remove')\n",
       "\n",
       "    // Update the output cell to use the data from the current canvas.\n",
       "    fig.push_to_output();\n",
       "    var dataURL = fig.canvas.toDataURL();\n",
       "    // Re-enable the keyboard manager in IPython - without this line, in FF,\n",
       "    // the notebook keyboard shortcuts fail.\n",
       "    IPython.keyboard_manager.enable()\n",
       "    $(fig.parent_element).html('<img src=\"' + dataURL + '\" width=\"' + width + '\">');\n",
       "    fig.close_ws(fig, msg);\n",
       "}\n",
       "\n",
       "mpl.figure.prototype.close_ws = function(fig, msg){\n",
       "    fig.send_message('closing', msg);\n",
       "    // fig.ws.close()\n",
       "}\n",
       "\n",
       "mpl.figure.prototype.push_to_output = function(remove_interactive) {\n",
       "    // Turn the data on the canvas into data in the output cell.\n",
       "    var width = this.canvas.width/mpl.ratio\n",
       "    var dataURL = this.canvas.toDataURL();\n",
       "    this.cell_info[1]['text/html'] = '<img src=\"' + dataURL + '\" width=\"' + width + '\">';\n",
       "}\n",
       "\n",
       "mpl.figure.prototype.updated_canvas_event = function() {\n",
       "    // Tell IPython that the notebook contents must change.\n",
       "    IPython.notebook.set_dirty(true);\n",
       "    this.send_message(\"ack\", {});\n",
       "    var fig = this;\n",
       "    // Wait a second, then push the new image to the DOM so\n",
       "    // that it is saved nicely (might be nice to debounce this).\n",
       "    setTimeout(function () { fig.push_to_output() }, 1000);\n",
       "}\n",
       "\n",
       "mpl.figure.prototype._init_toolbar = function() {\n",
       "    var fig = this;\n",
       "\n",
       "    var nav_element = $('<div/>')\n",
       "    nav_element.attr('style', 'width: 100%');\n",
       "    this.root.append(nav_element);\n",
       "\n",
       "    // Define a callback function for later on.\n",
       "    function toolbar_event(event) {\n",
       "        return fig.toolbar_button_onclick(event['data']);\n",
       "    }\n",
       "    function toolbar_mouse_event(event) {\n",
       "        return fig.toolbar_button_onmouseover(event['data']);\n",
       "    }\n",
       "\n",
       "    for(var toolbar_ind in mpl.toolbar_items){\n",
       "        var name = mpl.toolbar_items[toolbar_ind][0];\n",
       "        var tooltip = mpl.toolbar_items[toolbar_ind][1];\n",
       "        var image = mpl.toolbar_items[toolbar_ind][2];\n",
       "        var method_name = mpl.toolbar_items[toolbar_ind][3];\n",
       "\n",
       "        if (!name) { continue; };\n",
       "\n",
       "        var button = $('<button class=\"btn btn-default\" href=\"#\" title=\"' + name + '\"><i class=\"fa ' + image + ' fa-lg\"></i></button>');\n",
       "        button.click(method_name, toolbar_event);\n",
       "        button.mouseover(tooltip, toolbar_mouse_event);\n",
       "        nav_element.append(button);\n",
       "    }\n",
       "\n",
       "    // Add the status bar.\n",
       "    var status_bar = $('<span class=\"mpl-message\" style=\"text-align:right; float: right;\"/>');\n",
       "    nav_element.append(status_bar);\n",
       "    this.message = status_bar[0];\n",
       "\n",
       "    // Add the close button to the window.\n",
       "    var buttongrp = $('<div class=\"btn-group inline pull-right\"></div>');\n",
       "    var button = $('<button class=\"btn btn-mini btn-primary\" href=\"#\" title=\"Stop Interaction\"><i class=\"fa fa-power-off icon-remove icon-large\"></i></button>');\n",
       "    button.click(function (evt) { fig.handle_close(fig, {}); } );\n",
       "    button.mouseover('Stop Interaction', toolbar_mouse_event);\n",
       "    buttongrp.append(button);\n",
       "    var titlebar = this.root.find($('.ui-dialog-titlebar'));\n",
       "    titlebar.prepend(buttongrp);\n",
       "}\n",
       "\n",
       "mpl.figure.prototype._root_extra_style = function(el){\n",
       "    var fig = this\n",
       "    el.on(\"remove\", function(){\n",
       "\tfig.close_ws(fig, {});\n",
       "    });\n",
       "}\n",
       "\n",
       "mpl.figure.prototype._canvas_extra_style = function(el){\n",
       "    // this is important to make the div 'focusable\n",
       "    el.attr('tabindex', 0)\n",
       "    // reach out to IPython and tell the keyboard manager to turn it's self\n",
       "    // off when our div gets focus\n",
       "\n",
       "    // location in version 3\n",
       "    if (IPython.notebook.keyboard_manager) {\n",
       "        IPython.notebook.keyboard_manager.register_events(el);\n",
       "    }\n",
       "    else {\n",
       "        // location in version 2\n",
       "        IPython.keyboard_manager.register_events(el);\n",
       "    }\n",
       "\n",
       "}\n",
       "\n",
       "mpl.figure.prototype._key_event_extra = function(event, name) {\n",
       "    var manager = IPython.notebook.keyboard_manager;\n",
       "    if (!manager)\n",
       "        manager = IPython.keyboard_manager;\n",
       "\n",
       "    // Check for shift+enter\n",
       "    if (event.shiftKey && event.which == 13) {\n",
       "        this.canvas_div.blur();\n",
       "        event.shiftKey = false;\n",
       "        // Send a \"J\" for go to next cell\n",
       "        event.which = 74;\n",
       "        event.keyCode = 74;\n",
       "        manager.command_mode();\n",
       "        manager.handle_keydown(event);\n",
       "    }\n",
       "}\n",
       "\n",
       "mpl.figure.prototype.handle_save = function(fig, msg) {\n",
       "    fig.ondownload(fig, null);\n",
       "}\n",
       "\n",
       "\n",
       "mpl.find_output_cell = function(html_output) {\n",
       "    // Return the cell and output element which can be found *uniquely* in the notebook.\n",
       "    // Note - this is a bit hacky, but it is done because the \"notebook_saving.Notebook\"\n",
       "    // IPython event is triggered only after the cells have been serialised, which for\n",
       "    // our purposes (turning an active figure into a static one), is too late.\n",
       "    var cells = IPython.notebook.get_cells();\n",
       "    var ncells = cells.length;\n",
       "    for (var i=0; i<ncells; i++) {\n",
       "        var cell = cells[i];\n",
       "        if (cell.cell_type === 'code'){\n",
       "            for (var j=0; j<cell.output_area.outputs.length; j++) {\n",
       "                var data = cell.output_area.outputs[j];\n",
       "                if (data.data) {\n",
       "                    // IPython >= 3 moved mimebundle to data attribute of output\n",
       "                    data = data.data;\n",
       "                }\n",
       "                if (data['text/html'] == html_output) {\n",
       "                    return [cell, data, j];\n",
       "                }\n",
       "            }\n",
       "        }\n",
       "    }\n",
       "}\n",
       "\n",
       "// Register the function which deals with the matplotlib target/channel.\n",
       "// The kernel may be null if the page has been refreshed.\n",
       "if (IPython.notebook.kernel != null) {\n",
       "    IPython.notebook.kernel.comm_manager.register_target('matplotlib', mpl.mpl_figure_comm);\n",
       "}\n"
      ],
      "text/plain": [
       "<IPython.core.display.Javascript object>"
      ]
     },
     "metadata": {},
     "output_type": "display_data"
    },
    {
     "data": {
      "text/html": [
       "<img src=\"data:image/png;base64,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\" width=\"958.8889142907702\">"
      ],
      "text/plain": [
       "<IPython.core.display.HTML object>"
      ]
     },
     "metadata": {},
     "output_type": "display_data"
    }
   ],
   "source": [
    "%matplotlib notebook\n",
    "from IPython.core.display import display, HTML\n",
    "display(HTML(\"<style>.container { width:75% !important; }</style>\"))\n",
    "pw.updateplot()"
   ]
  },
  {
   "cell_type": "markdown",
   "metadata": {},
   "source": [
    "### Advanced Instructions:\n",
    "\n",
    "1. __Coordinate System__ sets the crs used in the map projection. The default value is *spherical* which uses EPSG:3857. *Geo* can also be entered for a standard mercator projection (ESPG:4326). A custom CRS can be used by entering the EPSG integer. For example, *5940* (a crs designed for Russia) can be entered to avoid having Russia wrap around the side of the map. Visit __[EPSG](https://epsg.io/3857)__ to find custom coordinate systems.\n",
    "\n",
    "2. __Number of Legend Columns__. *Default Value: 1*\n",
    "\n",
    "3. __Sort Legend By__ sorts the resources in the legend (not the size indicators) by either *alphabetical* or by the sum of the *capacity* of the resource for the selected country. *Default Value: capacity*\n",
    "\n",
    "4. __Zoom Level__ changes the size of the map portion of the plot. This can be useful to adjust the map for different sized screens, or to provide a bigger map for the purpose of saving. *__WARNING:__* making this value large enough to produce an image wider than the width of the console will result in erratic results! *Default Value: 1.5*\n",
    "\n",
    "5. __Island Size Thresh__ creates a minimum threshold (in km^2) for the geometry of islands to be included in the map. *largest* can also be entered to only select the largest geometry for the country. For example, plotting Canada with the default values includes a number of arctic islands that are useless for the purpose of a power plant map (sorry Baffin island). Setting __Island Size Thresh__ to either *largest* or *8000000* will only display the continental portions of Canada. *Default Value: 200 (km^2)*\n",
    "\n",
    "6. __Show Populated Places__ can be used to draw points on the map in the location of populated cities. Data is drawn from the __[Natural Earth](https://www.naturalearthdata.com/downloads/10m-cultural-vectors/10m-populated-places/)__ database of populated places which includes data for an astonishing number of locations. Additionally, arrows are drawn labeling the name of these points (*__HINT:__* these labels are draggable, although it doesn't work the best!). __Show Populated Places__ can either be *False* (i.e. off), or an integer value which sets the minimum population threshold for a city to be included on the map. *Default Value: False*\n",
    "\n",
    "7. __Bubble Opacity__ is used to change the opacity of the powerplant bubbles. Setting it lower can be useful for countries with a large number of overlapping bubbles (i.e. the United States). *1* is solid, lower values are more transparent. *Default Value: 0.5*\n",
    "\n",
    "8. __Country Precursor__ allows you to enter a word (or series of words) to appear before the country name in the title of the plot. For instance, if you entered 'Philippines' as the __Country Name__ but want the title to be 'Power Plants in The Philippines' you could enter *\"The \"* into __Country Precursor__. *Default Value: None*"
   ]
  },
  {
   "cell_type": "code",
   "execution_count": 3,
   "metadata": {},
   "outputs": [
    {
     "data": {
      "application/vnd.jupyter.widget-view+json": {
       "model_id": "eaaa258b500643d5b63dd2ce87ec6295",
       "version_major": 2,
       "version_minor": 0
      },
      "text/plain": [
       "Text(value='', description='Country Precursor:', placeholder='Precursor to Country Name', style=DescriptionSty…"
      ]
     },
     "metadata": {},
     "output_type": "display_data"
    },
    {
     "data": {
      "application/vnd.jupyter.widget-view+json": {
       "model_id": "df992bf53a8c43c993d946a0cc9536be",
       "version_major": 2,
       "version_minor": 0
      },
      "text/plain": [
       "Text(value='spherical', description='Coordinate System:', placeholder='Type something', style=DescriptionStyle…"
      ]
     },
     "metadata": {},
     "output_type": "display_data"
    },
    {
     "data": {
      "application/vnd.jupyter.widget-view+json": {
       "model_id": "74ae4d6a8e554dd495161472cefba67f",
       "version_major": 2,
       "version_minor": 0
      },
      "text/plain": [
       "IntSlider(value=1, continuous_update=False, description='Number of Legend Columns:', max=3, min=1, style=Slide…"
      ]
     },
     "metadata": {},
     "output_type": "display_data"
    },
    {
     "data": {
      "application/vnd.jupyter.widget-view+json": {
       "model_id": "14e316bba7b646ec8d29b2f2b9376a70",
       "version_major": 2,
       "version_minor": 0
      },
      "text/plain": [
       "Dropdown(description='Sort Legend By:', options=('capacity', 'alphabetical'), style=DescriptionStyle(descripti…"
      ]
     },
     "metadata": {},
     "output_type": "display_data"
    },
    {
     "data": {
      "application/vnd.jupyter.widget-view+json": {
       "model_id": "846435c573dd4e8eabd4a80c555fb8fe",
       "version_major": 2,
       "version_minor": 0
      },
      "text/plain": [
       "FloatSlider(value=1.5, continuous_update=False, description='Zoom Level:', max=3.0, min=0.5, readout_format='.…"
      ]
     },
     "metadata": {},
     "output_type": "display_data"
    },
    {
     "data": {
      "application/vnd.jupyter.widget-view+json": {
       "model_id": "d0807774317c4aff80725f88f053f4ab",
       "version_major": 2,
       "version_minor": 0
      },
      "text/plain": [
       "Text(value='200', description='Island Size Thresh:', placeholder='Type a island thresh', style=DescriptionStyl…"
      ]
     },
     "metadata": {},
     "output_type": "display_data"
    },
    {
     "data": {
      "application/vnd.jupyter.widget-view+json": {
       "model_id": "3b02cbdca733420bb0abb22b3b073d07",
       "version_major": 2,
       "version_minor": 0
      },
      "text/plain": [
       "Text(value='False', description='Show Populated Places:', placeholder='Type something', style=DescriptionStyle…"
      ]
     },
     "metadata": {},
     "output_type": "display_data"
    },
    {
     "data": {
      "application/vnd.jupyter.widget-view+json": {
       "model_id": "64dea73eab154db69b1fb677d91c449f",
       "version_major": 2,
       "version_minor": 0
      },
      "text/plain": [
       "FloatSlider(value=0.5, continuous_update=False, description='Bubble Opacity:', max=1.0, readout_format='.1f', …"
      ]
     },
     "metadata": {},
     "output_type": "display_data"
    }
   ],
   "source": [
    "pw.showadvancedwidgets()"
   ]
  },
  {
   "cell_type": "markdown",
   "metadata": {},
   "source": [
    "Powerplant data from: \n",
    "Global Energy Observatory, Google, KTH Royal Institute of Technology in Stockholm, Enipedia, World Resources Institute. 2018. Global Power Plant Database. Published on Resource Watch and Google Earth Engine; http://resourcewatch.org/ https://earthengine.google.com/\n",
    "\n",
    "\n",
    "Written in &#128013; with &#128149; by Sam Koebrich for the National Renewable Energy Laboratory."
   ]
  }
 ],
 "metadata": {
  "kernelspec": {
   "display_name": "Python 3",
   "language": "python",
   "name": "python3"
  },
  "language_info": {
   "codemirror_mode": {
    "name": "ipython",
    "version": 3
   },
   "file_extension": ".py",
   "mimetype": "text/x-python",
   "name": "python",
   "nbconvert_exporter": "python",
   "pygments_lexer": "ipython3",
   "version": "3.6.5"
  },
  "widgets": {
   "application/vnd.jupyter.widget-state+json": {
    "state": {
     "02b8a3844d794aed9133f3180581b508": {
      "model_module": "@jupyter-widgets/base",
      "model_module_version": "1.0.0",
      "model_name": "LayoutModel",
      "state": {}
     },
     "058d54805c20450eafbc9db231c5c754": {
      "model_module": "@jupyter-widgets/controls",
      "model_module_version": "1.2.0",
      "model_name": "DescriptionStyleModel",
      "state": {
       "description_width": "initial"
      }
     },
     "05cf403f1c984ed785a57914e07b3ed4": {
      "model_module": "@jupyter-widgets/base",
      "model_module_version": "1.0.0",
      "model_name": "LayoutModel",
      "state": {
       "height": "80px",
       "width": "70%"
      }
     },
     "07d4e4a18cc346ce93b9a10849d918d9": {
      "model_module": "@jupyter-widgets/base",
      "model_module_version": "1.0.0",
      "model_name": "LayoutModel",
      "state": {
       "height": "80px",
       "width": "70%"
      }
     },
     "0a158a000eb841de97f47b8ee7f14c5a": {
      "model_module": "@jupyter-widgets/base",
      "model_module_version": "1.0.0",
      "model_name": "LayoutModel",
      "state": {}
     },
     "10939cd7c0ba4b7f813bbd234f5886ca": {
      "model_module": "@jupyter-widgets/controls",
      "model_module_version": "1.2.0",
      "model_name": "DescriptionStyleModel",
      "state": {
       "description_width": "initial"
      }
     },
     "10d2814d3e2a4514be2f21a0f26f9f9a": {
      "model_module": "@jupyter-widgets/controls",
      "model_module_version": "1.2.0",
      "model_name": "ButtonStyleModel",
      "state": {}
     },
     "12b8b3adb0454383bb82c961e846082a": {
      "model_module": "@jupyter-widgets/controls",
      "model_module_version": "1.2.0",
      "model_name": "SliderStyleModel",
      "state": {
       "description_width": "initial"
      }
     },
     "12e0922dd6844b0badf0173a79d455ba": {
      "model_module": "@jupyter-widgets/base",
      "model_module_version": "1.0.0",
      "model_name": "LayoutModel",
      "state": {}
     },
     "14e316bba7b646ec8d29b2f2b9376a70": {
      "model_module": "@jupyter-widgets/controls",
      "model_module_version": "1.2.0",
      "model_name": "DropdownModel",
      "state": {
       "_options_labels": [
        "capacity",
        "alphabetical"
       ],
       "description": "Sort Legend By:",
       "index": 0,
       "layout": "IPY_MODEL_40d16b65d8df44c4b895c47fa60b5ba9",
       "style": "IPY_MODEL_7b7d7fa6e7a34a5daa8b2d4705aa3538"
      }
     },
     "17001cca00194e0cafdee261752dbcdd": {
      "model_module": "@jupyter-widgets/base",
      "model_module_version": "1.0.0",
      "model_name": "LayoutModel",
      "state": {}
     },
     "1a4944b730414972b8e78ccc5f174728": {
      "model_module": "@jupyter-widgets/controls",
      "model_module_version": "1.2.0",
      "model_name": "SliderStyleModel",
      "state": {
       "description_width": "initial"
      }
     },
     "1b0ea0b2b7464ed1b8cbe979839ced9b": {
      "model_module": "@jupyter-widgets/base",
      "model_module_version": "1.0.0",
      "model_name": "LayoutModel",
      "state": {}
     },
     "1b1af95fda874a35830da77937472a16": {
      "model_module": "@jupyter-widgets/controls",
      "model_module_version": "1.2.0",
      "model_name": "DescriptionStyleModel",
      "state": {
       "description_width": "initial"
      }
     },
     "1f0ee5c34001498fbcde7e7ca6c8f9e5": {
      "model_module": "@jupyter-widgets/base",
      "model_module_version": "1.0.0",
      "model_name": "LayoutModel",
      "state": {}
     },
     "1fabb84a19d34e9db16d7f6fafc80d51": {
      "model_module": "@jupyter-widgets/controls",
      "model_module_version": "1.2.0",
      "model_name": "ButtonModel",
      "state": {
       "description": "Update Plot",
       "icon": "check",
       "layout": "IPY_MODEL_7f9bf6dbe7e14010b2690230fa643a59",
       "style": "IPY_MODEL_94a880a70bfd4aacb4ba03bf1d59ae92",
       "tooltip": "Update Plot"
      }
     },
     "27923732d28842fb833d024bd04ffcef": {
      "model_module": "@jupyter-widgets/controls",
      "model_module_version": "1.2.0",
      "model_name": "ToggleButtonsStyleModel",
      "state": {
       "button_width": "",
       "description_width": "initial"
      }
     },
     "29add54988604a7999b603dd9cb7d054": {
      "model_module": "@jupyter-widgets/controls",
      "model_module_version": "1.2.0",
      "model_name": "TextModel",
      "state": {
       "description": "Country Name:",
       "layout": "IPY_MODEL_12e0922dd6844b0badf0173a79d455ba",
       "placeholder": "Type a country name",
       "style": "IPY_MODEL_a93b116b59be4920bb2e511b49aa7f77",
       "value": "India"
      }
     },
     "2a3164795ea544ecb3999fe612ee5414": {
      "model_module": "@jupyter-widgets/base",
      "model_module_version": "1.0.0",
      "model_name": "LayoutModel",
      "state": {
       "height": "80px",
       "width": "70%"
      }
     },
     "2d8014c48b5a4740b47b895f621dc9a1": {
      "model_module": "@jupyter-widgets/controls",
      "model_module_version": "1.2.0",
      "model_name": "ButtonStyleModel",
      "state": {}
     },
     "2fe415dc7de54d6190176de0a7175b33": {
      "model_module": "@jupyter-widgets/controls",
      "model_module_version": "1.2.0",
      "model_name": "DescriptionStyleModel",
      "state": {
       "description_width": "initial"
      }
     },
     "30d6471269fc40a1a4f860fdfc8b610e": {
      "model_module": "@jupyter-widgets/base",
      "model_module_version": "1.0.0",
      "model_name": "LayoutModel",
      "state": {}
     },
     "3125f5cd27a7450c98c9f988dd85cb7f": {
      "model_module": "@jupyter-widgets/controls",
      "model_module_version": "1.2.0",
      "model_name": "DropdownModel",
      "state": {
       "_options_labels": [
        "capacity",
        "alphabetical"
       ],
       "description": "Sort Legend By:",
       "index": 0,
       "layout": "IPY_MODEL_49bd67dc24854b889918a23b15b00f85",
       "style": "IPY_MODEL_a750b2ac585544419b8e637c8e885f82"
      }
     },
     "31350430751643e5814fc8980af761cc": {
      "model_module": "@jupyter-widgets/controls",
      "model_module_version": "1.2.0",
      "model_name": "TextModel",
      "state": {
       "description": "Coordinate System:",
       "layout": "IPY_MODEL_53d81026ac3646c2814129596f41f012",
       "placeholder": "Type something",
       "style": "IPY_MODEL_ef32c488276b4ee49436f14c7eb80224",
       "value": "spherical"
      }
     },
     "339ee14ddd864efabafa4777e196b00d": {
      "model_module": "@jupyter-widgets/controls",
      "model_module_version": "1.2.0",
      "model_name": "DescriptionStyleModel",
      "state": {
       "description_width": "initial"
      }
     },
     "358b85675660437d91780d8aa0097a00": {
      "model_module": "@jupyter-widgets/base",
      "model_module_version": "1.0.0",
      "model_name": "LayoutModel",
      "state": {}
     },
     "366cec21c9064cc4b475d2ab927a07f7": {
      "model_module": "@jupyter-widgets/controls",
      "model_module_version": "1.2.0",
      "model_name": "IntSliderModel",
      "state": {
       "continuous_update": false,
       "description": "DPI (resolution):",
       "layout": "IPY_MODEL_591839c9b4f141d5a28d4cf3452b40c6",
       "max": 500,
       "min": 100,
       "style": "IPY_MODEL_9afbc86f13914158a03d293a830ee70d",
       "value": 300
      }
     },
     "36eae348f7224cb1b05bee38a1c2be8c": {
      "model_module": "@jupyter-widgets/controls",
      "model_module_version": "1.2.0",
      "model_name": "DescriptionStyleModel",
      "state": {
       "description_width": "initial"
      }
     },
     "375fcecc1872407f98f0cf7ca4cd416d": {
      "model_module": "@jupyter-widgets/controls",
      "model_module_version": "1.2.0",
      "model_name": "TextModel",
      "state": {
       "description": "Coordinate System:",
       "layout": "IPY_MODEL_e9305f35e0fd483887baf0b326df7b95",
       "placeholder": "Type something",
       "style": "IPY_MODEL_ae3b3f6fbb1a4b26b0ffe7d4b9f72de8",
       "value": "spherical"
      }
     },
     "3b02cbdca733420bb0abb22b3b073d07": {
      "model_module": "@jupyter-widgets/controls",
      "model_module_version": "1.2.0",
      "model_name": "TextModel",
      "state": {
       "description": "Show Populated Places:",
       "layout": "IPY_MODEL_d4ad19b8a2f04f589aa20a7ccc92ac75",
       "placeholder": "Type something",
       "style": "IPY_MODEL_9ab1fe573e8445949f69aa4030771271",
       "value": "False"
      }
     },
     "3c96f40bfe404913bb8a556bc94eceb5": {
      "model_module": "@jupyter-widgets/controls",
      "model_module_version": "1.2.0",
      "model_name": "FloatSliderModel",
      "state": {
       "continuous_update": false,
       "description": "Zoom Level:",
       "layout": "IPY_MODEL_dbbfa7595efb435a920d2df2c4ed014f",
       "max": 3,
       "min": 0.5,
       "readout_format": ".1f",
       "step": 0.1,
       "style": "IPY_MODEL_d125a30ae17d43409f6d391ec5d09566",
       "value": 1.5
      }
     },
     "3ce25d4b89904195985c5a22c00a3658": {
      "model_module": "@jupyter-widgets/base",
      "model_module_version": "1.0.0",
      "model_name": "LayoutModel",
      "state": {}
     },
     "3f50e791dfe84c56971a0e3510ab2462": {
      "model_module": "@jupyter-widgets/base",
      "model_module_version": "1.0.0",
      "model_name": "LayoutModel",
      "state": {}
     },
     "40d16b65d8df44c4b895c47fa60b5ba9": {
      "model_module": "@jupyter-widgets/base",
      "model_module_version": "1.0.0",
      "model_name": "LayoutModel",
      "state": {}
     },
     "432a103699904db7963d0a9bbc7e17f2": {
      "model_module": "@jupyter-widgets/controls",
      "model_module_version": "1.2.0",
      "model_name": "ButtonModel",
      "state": {
       "description": "Update Plot",
       "icon": "check",
       "layout": "IPY_MODEL_07d4e4a18cc346ce93b9a10849d918d9",
       "style": "IPY_MODEL_5db54fa15a92462eaef5fb688a8e939b",
       "tooltip": "Update Plot"
      }
     },
     "43d02a41bd7a4de4992b058737b6302f": {
      "model_module": "@jupyter-widgets/controls",
      "model_module_version": "1.2.0",
      "model_name": "TextModel",
      "state": {
       "description": "Path to save to:",
       "layout": "IPY_MODEL_7d8d5133f57346deb21974a0a242f2ee",
       "placeholder": "Type the complete path to save to",
       "style": "IPY_MODEL_a723d99706924ff7a0ca2a6ef05b9924",
       "value": "/Users/skoebric/Downloads/XYZ.png"
      }
     },
     "44db9351f5b24a118a8d9b80d4cd7037": {
      "model_module": "@jupyter-widgets/controls",
      "model_module_version": "1.2.0",
      "model_name": "DescriptionStyleModel",
      "state": {
       "description_width": "initial"
      }
     },
     "46278d5b091c4166b3984f0c245bad2d": {
      "model_module": "@jupyter-widgets/controls",
      "model_module_version": "1.2.0",
      "model_name": "TextModel",
      "state": {
       "description": "Path to save to:",
       "layout": "IPY_MODEL_7ddc92e61fbc4f82990fbe5d0bb632c6",
       "placeholder": "Type the complete path to save to",
       "style": "IPY_MODEL_a0167f6a4d574f0ab63d52658e485f1d",
       "value": "/Users/skoebric/Downloads/XYZ.png"
      }
     },
     "46834292510b46f3a806a189b6851cfd": {
      "model_module": "@jupyter-widgets/base",
      "model_module_version": "1.0.0",
      "model_name": "LayoutModel",
      "state": {}
     },
     "46ae4478c31f4e94b1935ac9d06f4320": {
      "model_module": "@jupyter-widgets/controls",
      "model_module_version": "1.2.0",
      "model_name": "TextModel",
      "state": {
       "description": "Island Size Thresh:",
       "layout": "IPY_MODEL_0a158a000eb841de97f47b8ee7f14c5a",
       "placeholder": "Type a island thresh",
       "style": "IPY_MODEL_c17885a9718b4721bbbfab07543fd658",
       "value": "200"
      }
     },
     "49b6b75d5bd347c89286ebffd49e3f9a": {
      "model_module": "@jupyter-widgets/controls",
      "model_module_version": "1.2.0",
      "model_name": "ButtonModel",
      "state": {
       "description": "Update Plot",
       "icon": "check",
       "layout": "IPY_MODEL_a22c4e081b5f414d878555709e742130",
       "style": "IPY_MODEL_63188a9729fe43bfbf3d484000133813",
       "tooltip": "Update Plot"
      }
     },
     "49bd67dc24854b889918a23b15b00f85": {
      "model_module": "@jupyter-widgets/base",
      "model_module_version": "1.0.0",
      "model_name": "LayoutModel",
      "state": {}
     },
     "4ab81f5bc0784995b4845a8d39b21895": {
      "model_module": "@jupyter-widgets/controls",
      "model_module_version": "1.2.0",
      "model_name": "ToggleButtonsStyleModel",
      "state": {
       "button_width": "",
       "description_width": "initial"
      }
     },
     "4ec3e174451741f9b57b5e2bfa9fa7e4": {
      "model_module": "@jupyter-widgets/base",
      "model_module_version": "1.0.0",
      "model_name": "LayoutModel",
      "state": {}
     },
     "4f257e99d3e949af99805896f656097d": {
      "model_module": "@jupyter-widgets/base",
      "model_module_version": "1.0.0",
      "model_name": "LayoutModel",
      "state": {}
     },
     "4f67f5e54e9848f2a29055f2338e10eb": {
      "model_module": "@jupyter-widgets/controls",
      "model_module_version": "1.2.0",
      "model_name": "ButtonModel",
      "state": {
       "description": "Update Plot",
       "icon": "check",
       "layout": "IPY_MODEL_b02c35743def4136a7294be2dd34fb32",
       "style": "IPY_MODEL_9a93d7bdd7c94b129d96672b4b55ee04",
       "tooltip": "Update Plot"
      }
     },
     "5221a1a38da04a329dd1d360ddc1ec4d": {
      "model_module": "@jupyter-widgets/controls",
      "model_module_version": "1.2.0",
      "model_name": "SliderStyleModel",
      "state": {
       "description_width": "initial"
      }
     },
     "53d81026ac3646c2814129596f41f012": {
      "model_module": "@jupyter-widgets/base",
      "model_module_version": "1.0.0",
      "model_name": "LayoutModel",
      "state": {}
     },
     "57f98d81985943ebb9233853dd4a23f0": {
      "model_module": "@jupyter-widgets/controls",
      "model_module_version": "1.2.0",
      "model_name": "ToggleButtonsStyleModel",
      "state": {
       "button_width": "",
       "description_width": "initial"
      }
     },
     "591839c9b4f141d5a28d4cf3452b40c6": {
      "model_module": "@jupyter-widgets/base",
      "model_module_version": "1.0.0",
      "model_name": "LayoutModel",
      "state": {}
     },
     "59420138f5c443688f9971e1e65bcff6": {
      "model_module": "@jupyter-widgets/controls",
      "model_module_version": "1.2.0",
      "model_name": "DescriptionStyleModel",
      "state": {
       "description_width": "initial"
      }
     },
     "59a4ff60ebaa4d40af2dd5a5325f89c1": {
      "model_module": "@jupyter-widgets/base",
      "model_module_version": "1.0.0",
      "model_name": "LayoutModel",
      "state": {}
     },
     "5b7ce13e79aa4ab0b9b4c5f6bfd15ec3": {
      "model_module": "@jupyter-widgets/controls",
      "model_module_version": "1.2.0",
      "model_name": "FloatSliderModel",
      "state": {
       "continuous_update": false,
       "description": "Zoom Level:",
       "layout": "IPY_MODEL_86180b5f6c09448e9405b0dd50cb83be",
       "max": 3,
       "min": 0.5,
       "readout_format": ".1f",
       "step": 0.1,
       "style": "IPY_MODEL_c1761a83c028452db93416353cb004ba",
       "value": 1.3
      }
     },
     "5b819e0b42f34b1e9730fbd28fe6d8d1": {
      "model_module": "@jupyter-widgets/controls",
      "model_module_version": "1.2.0",
      "model_name": "TextModel",
      "state": {
       "description": "Island Size Thresh:",
       "layout": "IPY_MODEL_c870c16b581947f49459fff4f5bcad37",
       "placeholder": "Type a island thresh",
       "style": "IPY_MODEL_f3b74ccd814b427fb5383b5f00c6e23d",
       "value": "200"
      }
     },
     "5d5c70c261a14357b167e42fc1d21d6f": {
      "model_module": "@jupyter-widgets/controls",
      "model_module_version": "1.2.0",
      "model_name": "ButtonStyleModel",
      "state": {}
     },
     "5d7a958c50e648eb89e831310f889020": {
      "model_module": "@jupyter-widgets/controls",
      "model_module_version": "1.2.0",
      "model_name": "TextModel",
      "state": {
       "description": "Path to save to:",
       "layout": "IPY_MODEL_1f0ee5c34001498fbcde7e7ca6c8f9e5",
       "placeholder": "Type the complete path to save to",
       "style": "IPY_MODEL_6af47c5cf079478dab6b79b1a0a6afa1",
       "value": "/Users/skoebric/Downloads/XYZ.png"
      }
     },
     "5d8481f9b3834ec3afe531a153110000": {
      "model_module": "@jupyter-widgets/base",
      "model_module_version": "1.0.0",
      "model_name": "LayoutModel",
      "state": {
       "height": "80px",
       "width": "70%"
      }
     },
     "5db54fa15a92462eaef5fb688a8e939b": {
      "model_module": "@jupyter-widgets/controls",
      "model_module_version": "1.2.0",
      "model_name": "ButtonStyleModel",
      "state": {}
     },
     "5fcb70cac1cf48d3a57d9f2586e10033": {
      "model_module": "@jupyter-widgets/base",
      "model_module_version": "1.0.0",
      "model_name": "LayoutModel",
      "state": {
       "height": "80px",
       "width": "70%"
      }
     },
     "6224455a541843b1b4fd0ad4e24a5e86": {
      "model_module": "@jupyter-widgets/controls",
      "model_module_version": "1.2.0",
      "model_name": "IntSliderModel",
      "state": {
       "continuous_update": false,
       "description": "DPI (resolution):",
       "layout": "IPY_MODEL_59a4ff60ebaa4d40af2dd5a5325f89c1",
       "max": 500,
       "min": 100,
       "style": "IPY_MODEL_a863b76fab18496c98933ccd4bac1142",
       "value": 300
      }
     },
     "63188a9729fe43bfbf3d484000133813": {
      "model_module": "@jupyter-widgets/controls",
      "model_module_version": "1.2.0",
      "model_name": "ButtonStyleModel",
      "state": {}
     },
     "636f64dbb9194f27a7fcae8b377fedce": {
      "model_module": "@jupyter-widgets/controls",
      "model_module_version": "1.2.0",
      "model_name": "TextModel",
      "state": {
       "description": "Path to save to:",
       "layout": "IPY_MODEL_f1717553bcf44eeea4ad9964d002a26a",
       "placeholder": "Type the complete path to save to",
       "style": "IPY_MODEL_36eae348f7224cb1b05bee38a1c2be8c",
       "value": "/Users/skoebric/Downloads/XYZ.png"
      }
     },
     "64dea73eab154db69b1fb677d91c449f": {
      "model_module": "@jupyter-widgets/controls",
      "model_module_version": "1.2.0",
      "model_name": "FloatSliderModel",
      "state": {
       "continuous_update": false,
       "description": "Bubble Opacity:",
       "layout": "IPY_MODEL_46834292510b46f3a806a189b6851cfd",
       "max": 1,
       "readout_format": ".1f",
       "step": 0.1,
       "style": "IPY_MODEL_a9c8648bf0244eb8968597be79d0b4d7",
       "value": 0.5
      }
     },
     "65ef3fe9c86d4f409473ed7b0b488939": {
      "model_module": "@jupyter-widgets/base",
      "model_module_version": "1.0.0",
      "model_name": "LayoutModel",
      "state": {}
     },
     "6a24a82825eb4236aa0bb3cd20d4809e": {
      "model_module": "@jupyter-widgets/controls",
      "model_module_version": "1.2.0",
      "model_name": "ButtonModel",
      "state": {
       "description": "Update Plot",
       "icon": "check",
       "layout": "IPY_MODEL_2a3164795ea544ecb3999fe612ee5414",
       "style": "IPY_MODEL_eab0ba454c37404891d7818f67598e53",
       "tooltip": "Update Plot"
      }
     },
     "6af47c5cf079478dab6b79b1a0a6afa1": {
      "model_module": "@jupyter-widgets/controls",
      "model_module_version": "1.2.0",
      "model_name": "DescriptionStyleModel",
      "state": {
       "description_width": "initial"
      }
     },
     "6b9437aecae346fd88c73379052f7c40": {
      "model_module": "@jupyter-widgets/controls",
      "model_module_version": "1.2.0",
      "model_name": "ButtonStyleModel",
      "state": {}
     },
     "6e5bca7f6dbb46a1a4dd72e0e5c4adb7": {
      "model_module": "@jupyter-widgets/controls",
      "model_module_version": "1.2.0",
      "model_name": "DescriptionStyleModel",
      "state": {
       "description_width": "initial"
      }
     },
     "71dc84637a1a4a5fa09721663c609035": {
      "model_module": "@jupyter-widgets/controls",
      "model_module_version": "1.2.0",
      "model_name": "IntSliderModel",
      "state": {
       "continuous_update": false,
       "description": "Number of Legend Columns:",
       "layout": "IPY_MODEL_8a792adcdcd24b42baa0d3518b64bb69",
       "max": 3,
       "min": 1,
       "style": "IPY_MODEL_5221a1a38da04a329dd1d360ddc1ec4d",
       "value": 1
      }
     },
     "74ac13abc0a746b88d82ff69f483e592": {
      "model_module": "@jupyter-widgets/controls",
      "model_module_version": "1.2.0",
      "model_name": "ToggleButtonsModel",
      "state": {
       "_options_labels": [
        "Simple",
        "Mixed",
        "Complex"
       ],
       "button_style": "",
       "description": "Simplification Level:",
       "icons": [],
       "index": 1,
       "layout": "IPY_MODEL_358b85675660437d91780d8aa0097a00",
       "style": "IPY_MODEL_c44f3f66ec554097bfc60ee48f027378",
       "tooltips": [
        "Renewables, Fossil, and Nuclear",
        "Solar, Wind, Hydro, Geothermal,Biomass, Wave and Tidal,\n Storage, Fossil, Nuclear",
        "Solar, Wind, Hydro, Geothermal,Biomass, Wave and Tidal,\n Storage, Fossil, Nuclear, Coal, Gas, Oil, Waste, Cogeneration"
       ]
      }
     },
     "74ae4d6a8e554dd495161472cefba67f": {
      "model_module": "@jupyter-widgets/controls",
      "model_module_version": "1.2.0",
      "model_name": "IntSliderModel",
      "state": {
       "continuous_update": false,
       "description": "Number of Legend Columns:",
       "layout": "IPY_MODEL_e939a14180474b2782bf7f2024bc33aa",
       "max": 3,
       "min": 1,
       "style": "IPY_MODEL_cebc6e0301c447b5a6980e762b8105cb",
       "value": 1
      }
     },
     "75d38b2429324837a69e0a1ce0e2e67e": {
      "model_module": "@jupyter-widgets/controls",
      "model_module_version": "1.2.0",
      "model_name": "DescriptionStyleModel",
      "state": {
       "description_width": "initial"
      }
     },
     "7618737d939c4e36b0b4f5b7bb048297": {
      "model_module": "@jupyter-widgets/controls",
      "model_module_version": "1.2.0",
      "model_name": "SliderStyleModel",
      "state": {
       "description_width": "initial"
      }
     },
     "78e38ab79c874a74ab8522fd282f67fc": {
      "model_module": "@jupyter-widgets/base",
      "model_module_version": "1.0.0",
      "model_name": "LayoutModel",
      "state": {}
     },
     "7b690176320b4de4b69756517fcedee1": {
      "model_module": "@jupyter-widgets/controls",
      "model_module_version": "1.2.0",
      "model_name": "ButtonStyleModel",
      "state": {}
     },
     "7b7d7fa6e7a34a5daa8b2d4705aa3538": {
      "model_module": "@jupyter-widgets/controls",
      "model_module_version": "1.2.0",
      "model_name": "DescriptionStyleModel",
      "state": {
       "description_width": "initial"
      }
     },
     "7d8d5133f57346deb21974a0a242f2ee": {
      "model_module": "@jupyter-widgets/base",
      "model_module_version": "1.0.0",
      "model_name": "LayoutModel",
      "state": {}
     },
     "7da1bcbd095e4333bd52e2821c255a5a": {
      "model_module": "@jupyter-widgets/base",
      "model_module_version": "1.0.0",
      "model_name": "LayoutModel",
      "state": {}
     },
     "7ddc92e61fbc4f82990fbe5d0bb632c6": {
      "model_module": "@jupyter-widgets/base",
      "model_module_version": "1.0.0",
      "model_name": "LayoutModel",
      "state": {}
     },
     "7e549bbdcc914a5dbb2f4f73a7501483": {
      "model_module": "@jupyter-widgets/controls",
      "model_module_version": "1.2.0",
      "model_name": "ButtonModel",
      "state": {
       "description": "Update Plot",
       "icon": "check",
       "layout": "IPY_MODEL_05cf403f1c984ed785a57914e07b3ed4",
       "style": "IPY_MODEL_5d5c70c261a14357b167e42fc1d21d6f",
       "tooltip": "Update Plot"
      }
     },
     "7f9bf6dbe7e14010b2690230fa643a59": {
      "model_module": "@jupyter-widgets/base",
      "model_module_version": "1.0.0",
      "model_name": "LayoutModel",
      "state": {
       "height": "80px",
       "width": "70%"
      }
     },
     "7fd399169c1b4b78953e4883039d919b": {
      "model_module": "@jupyter-widgets/controls",
      "model_module_version": "1.2.0",
      "model_name": "ButtonModel",
      "state": {
       "description": "Save Plot",
       "icon": "check",
       "layout": "IPY_MODEL_5fcb70cac1cf48d3a57d9f2586e10033",
       "style": "IPY_MODEL_2d8014c48b5a4740b47b895f621dc9a1",
       "tooltip": "Save Plot"
      }
     },
     "80584b831d434dbdbc7e902b8b24dae2": {
      "model_module": "@jupyter-widgets/controls",
      "model_module_version": "1.2.0",
      "model_name": "TextModel",
      "state": {
       "description": "Country Name:",
       "layout": "IPY_MODEL_c9d409efbcc64adfb585a74f16d55f1a",
       "placeholder": "Type a country name",
       "style": "IPY_MODEL_f0fce0215ce14a779d1d1b189dcd5b9b",
       "value": "India"
      }
     },
     "846435c573dd4e8eabd4a80c555fb8fe": {
      "model_module": "@jupyter-widgets/controls",
      "model_module_version": "1.2.0",
      "model_name": "FloatSliderModel",
      "state": {
       "continuous_update": false,
       "description": "Zoom Level:",
       "layout": "IPY_MODEL_a9e64cc6a4e84f83b4a59dcb79cba70e",
       "max": 3,
       "min": 0.5,
       "readout_format": ".1f",
       "step": 0.1,
       "style": "IPY_MODEL_f5e200ea06ab4c90b79f56a68abc7ab3",
       "value": 1.5
      }
     },
     "848d71a376ff4d83a09b5f7f5c18dee7": {
      "model_module": "@jupyter-widgets/controls",
      "model_module_version": "1.2.0",
      "model_name": "FloatSliderModel",
      "state": {
       "continuous_update": false,
       "description": "Bubble Opacity:",
       "layout": "IPY_MODEL_8638caa2ac804152b752288b6fe7990e",
       "max": 1,
       "readout_format": ".1f",
       "step": 0.1,
       "style": "IPY_MODEL_12b8b3adb0454383bb82c961e846082a",
       "value": 0.5
      }
     },
     "86180b5f6c09448e9405b0dd50cb83be": {
      "model_module": "@jupyter-widgets/base",
      "model_module_version": "1.0.0",
      "model_name": "LayoutModel",
      "state": {}
     },
     "8638caa2ac804152b752288b6fe7990e": {
      "model_module": "@jupyter-widgets/base",
      "model_module_version": "1.0.0",
      "model_name": "LayoutModel",
      "state": {}
     },
     "8836b2a3d8a34e60946bc10cd65210f2": {
      "model_module": "@jupyter-widgets/controls",
      "model_module_version": "1.2.0",
      "model_name": "ButtonModel",
      "state": {
       "description": "Save Plot",
       "icon": "check",
       "layout": "IPY_MODEL_a44dd498dc6747bd86857fb7d5f9df5b",
       "style": "IPY_MODEL_10d2814d3e2a4514be2f21a0f26f9f9a",
       "tooltip": "Save Plot"
      }
     },
     "89ae9a7c40b34c319da0d0a71b1cf288": {
      "model_module": "@jupyter-widgets/controls",
      "model_module_version": "1.2.0",
      "model_name": "ButtonModel",
      "state": {
       "description": "Update Plot",
       "icon": "check",
       "layout": "IPY_MODEL_5d8481f9b3834ec3afe531a153110000",
       "style": "IPY_MODEL_7b690176320b4de4b69756517fcedee1",
       "tooltip": "Update Plot"
      }
     },
     "8a792adcdcd24b42baa0d3518b64bb69": {
      "model_module": "@jupyter-widgets/base",
      "model_module_version": "1.0.0",
      "model_name": "LayoutModel",
      "state": {}
     },
     "8e46a15b7e9248189c4bb5ecc5556f95": {
      "model_module": "@jupyter-widgets/controls",
      "model_module_version": "1.2.0",
      "model_name": "SliderStyleModel",
      "state": {
       "description_width": "initial"
      }
     },
     "94041037c4984306a39e2e3c519602e6": {
      "model_module": "@jupyter-widgets/base",
      "model_module_version": "1.0.0",
      "model_name": "LayoutModel",
      "state": {}
     },
     "94a880a70bfd4aacb4ba03bf1d59ae92": {
      "model_module": "@jupyter-widgets/controls",
      "model_module_version": "1.2.0",
      "model_name": "ButtonStyleModel",
      "state": {}
     },
     "969b72f9f7d64ad4b854e9a4fe99223a": {
      "model_module": "@jupyter-widgets/controls",
      "model_module_version": "1.2.0",
      "model_name": "DropdownModel",
      "state": {
       "_options_labels": [
        "capacity",
        "alphabetical"
       ],
       "description": "Sort Legend By:",
       "index": 0,
       "layout": "IPY_MODEL_bf2f14644d2d4417ba9ed3b44c01d22f",
       "style": "IPY_MODEL_59420138f5c443688f9971e1e65bcff6"
      }
     },
     "97389ded853a41938f1ce898908aee11": {
      "model_module": "@jupyter-widgets/controls",
      "model_module_version": "1.2.0",
      "model_name": "IntSliderModel",
      "state": {
       "continuous_update": false,
       "description": "DPI (resolution):",
       "layout": "IPY_MODEL_7da1bcbd095e4333bd52e2821c255a5a",
       "max": 500,
       "min": 100,
       "style": "IPY_MODEL_8e46a15b7e9248189c4bb5ecc5556f95",
       "value": 300
      }
     },
     "98b3e8a75cb244b1a50b5bff1eb0aff1": {
      "model_module": "@jupyter-widgets/base",
      "model_module_version": "1.0.0",
      "model_name": "LayoutModel",
      "state": {}
     },
     "98c2a89be7a043c4b91ced5cf7d22f51": {
      "model_module": "@jupyter-widgets/base",
      "model_module_version": "1.0.0",
      "model_name": "LayoutModel",
      "state": {
       "height": "80px",
       "width": "70%"
      }
     },
     "99a64a9c93d84a17a5c1384644a1ecc3": {
      "model_module": "@jupyter-widgets/controls",
      "model_module_version": "1.2.0",
      "model_name": "ButtonModel",
      "state": {
       "description": "Update Plot",
       "icon": "check",
       "layout": "IPY_MODEL_b9c568d290684f7aa4671947d77f8e21",
       "style": "IPY_MODEL_feb06c0c3e894536819e43823020e7db",
       "tooltip": "Update Plot"
      }
     },
     "9a93d7bdd7c94b129d96672b4b55ee04": {
      "model_module": "@jupyter-widgets/controls",
      "model_module_version": "1.2.0",
      "model_name": "ButtonStyleModel",
      "state": {}
     },
     "9ab1fe573e8445949f69aa4030771271": {
      "model_module": "@jupyter-widgets/controls",
      "model_module_version": "1.2.0",
      "model_name": "DescriptionStyleModel",
      "state": {
       "description_width": "initial"
      }
     },
     "9afbc86f13914158a03d293a830ee70d": {
      "model_module": "@jupyter-widgets/controls",
      "model_module_version": "1.2.0",
      "model_name": "SliderStyleModel",
      "state": {
       "description_width": "initial"
      }
     },
     "9b904e2e6e9342e2852f6de2aa4f9ebb": {
      "model_module": "@jupyter-widgets/controls",
      "model_module_version": "1.2.0",
      "model_name": "FloatSliderModel",
      "state": {
       "continuous_update": false,
       "description": "Bubble Opacity:",
       "layout": "IPY_MODEL_02b8a3844d794aed9133f3180581b508",
       "max": 1,
       "readout_format": ".1f",
       "step": 0.1,
       "style": "IPY_MODEL_9c7c305d475e478ebea7ac75a3f593ba",
       "value": 0.5
      }
     },
     "9c7c305d475e478ebea7ac75a3f593ba": {
      "model_module": "@jupyter-widgets/controls",
      "model_module_version": "1.2.0",
      "model_name": "SliderStyleModel",
      "state": {
       "description_width": "initial"
      }
     },
     "9da689946cf74d4bba483f5465628bd3": {
      "model_module": "@jupyter-widgets/controls",
      "model_module_version": "1.2.0",
      "model_name": "DescriptionStyleModel",
      "state": {
       "description_width": "initial"
      }
     },
     "a0167f6a4d574f0ab63d52658e485f1d": {
      "model_module": "@jupyter-widgets/controls",
      "model_module_version": "1.2.0",
      "model_name": "DescriptionStyleModel",
      "state": {
       "description_width": "initial"
      }
     },
     "a22c4e081b5f414d878555709e742130": {
      "model_module": "@jupyter-widgets/base",
      "model_module_version": "1.0.0",
      "model_name": "LayoutModel",
      "state": {
       "height": "80px",
       "width": "70%"
      }
     },
     "a44dd498dc6747bd86857fb7d5f9df5b": {
      "model_module": "@jupyter-widgets/base",
      "model_module_version": "1.0.0",
      "model_name": "LayoutModel",
      "state": {
       "height": "80px",
       "width": "70%"
      }
     },
     "a4ccc02fce1a4f9f9d81d431a50a657c": {
      "model_module": "@jupyter-widgets/base",
      "model_module_version": "1.0.0",
      "model_name": "LayoutModel",
      "state": {
       "height": "80px",
       "width": "70%"
      }
     },
     "a4e48d1735f14553afb9748d3959d7c5": {
      "model_module": "@jupyter-widgets/controls",
      "model_module_version": "1.2.0",
      "model_name": "DescriptionStyleModel",
      "state": {
       "description_width": "initial"
      }
     },
     "a5b2b01196fc4b0a9dcf4b8f0cd41b48": {
      "model_module": "@jupyter-widgets/controls",
      "model_module_version": "1.2.0",
      "model_name": "DescriptionStyleModel",
      "state": {
       "description_width": "initial"
      }
     },
     "a723d99706924ff7a0ca2a6ef05b9924": {
      "model_module": "@jupyter-widgets/controls",
      "model_module_version": "1.2.0",
      "model_name": "DescriptionStyleModel",
      "state": {
       "description_width": "initial"
      }
     },
     "a73447805f734cf69b11ffd71d5f0eb7": {
      "model_module": "@jupyter-widgets/base",
      "model_module_version": "1.0.0",
      "model_name": "LayoutModel",
      "state": {}
     },
     "a750b2ac585544419b8e637c8e885f82": {
      "model_module": "@jupyter-widgets/controls",
      "model_module_version": "1.2.0",
      "model_name": "DescriptionStyleModel",
      "state": {
       "description_width": "initial"
      }
     },
     "a863b76fab18496c98933ccd4bac1142": {
      "model_module": "@jupyter-widgets/controls",
      "model_module_version": "1.2.0",
      "model_name": "SliderStyleModel",
      "state": {
       "description_width": "initial"
      }
     },
     "a8711251c9d046a1ab72f2245c881504": {
      "model_module": "@jupyter-widgets/controls",
      "model_module_version": "1.2.0",
      "model_name": "TextModel",
      "state": {
       "description": "Show Populated Places:",
       "layout": "IPY_MODEL_da6cb41089c14cb089304d41439efd82",
       "placeholder": "Type something",
       "style": "IPY_MODEL_44db9351f5b24a118a8d9b80d4cd7037",
       "value": "False"
      }
     },
     "a93b116b59be4920bb2e511b49aa7f77": {
      "model_module": "@jupyter-widgets/controls",
      "model_module_version": "1.2.0",
      "model_name": "DescriptionStyleModel",
      "state": {
       "description_width": "initial"
      }
     },
     "a9c8648bf0244eb8968597be79d0b4d7": {
      "model_module": "@jupyter-widgets/controls",
      "model_module_version": "1.2.0",
      "model_name": "SliderStyleModel",
      "state": {
       "description_width": "initial"
      }
     },
     "a9e64cc6a4e84f83b4a59dcb79cba70e": {
      "model_module": "@jupyter-widgets/base",
      "model_module_version": "1.0.0",
      "model_name": "LayoutModel",
      "state": {}
     },
     "ab6b047ec91946468db30ab6bd90b8d9": {
      "model_module": "@jupyter-widgets/controls",
      "model_module_version": "1.2.0",
      "model_name": "FloatSliderModel",
      "state": {
       "continuous_update": false,
       "description": "Bubble Opacity:",
       "layout": "IPY_MODEL_e6c3ac873f0846c19ca55edff40cdcf0",
       "max": 1,
       "readout_format": ".1f",
       "step": 0.1,
       "style": "IPY_MODEL_7618737d939c4e36b0b4f5b7bb048297",
       "value": 0.5
      }
     },
     "add5aca5680448eaaf7390da7e82d6ad": {
      "model_module": "@jupyter-widgets/controls",
      "model_module_version": "1.2.0",
      "model_name": "IntSliderModel",
      "state": {
       "continuous_update": false,
       "description": "Number of Legend Columns:",
       "layout": "IPY_MODEL_de2ffcf7a6554d4bb99b5b968ea338f0",
       "max": 3,
       "min": 1,
       "style": "IPY_MODEL_1a4944b730414972b8e78ccc5f174728",
       "value": 1
      }
     },
     "ae3b3f6fbb1a4b26b0ffe7d4b9f72de8": {
      "model_module": "@jupyter-widgets/controls",
      "model_module_version": "1.2.0",
      "model_name": "DescriptionStyleModel",
      "state": {
       "description_width": "initial"
      }
     },
     "af3518d1dce044eeba6b79026046f753": {
      "model_module": "@jupyter-widgets/base",
      "model_module_version": "1.0.0",
      "model_name": "LayoutModel",
      "state": {}
     },
     "af380b0320c64e7ea2166fb8973ac6e4": {
      "model_module": "@jupyter-widgets/controls",
      "model_module_version": "1.2.0",
      "model_name": "ToggleButtonsModel",
      "state": {
       "_options_labels": [
        "Simple",
        "Mixed",
        "Complex"
       ],
       "button_style": "",
       "description": "Simplification Level:",
       "icons": [],
       "index": 1,
       "layout": "IPY_MODEL_af3518d1dce044eeba6b79026046f753",
       "style": "IPY_MODEL_4ab81f5bc0784995b4845a8d39b21895",
       "tooltips": [
        "Renewables, Fossil, and Nuclear",
        "Solar, Wind, Hydro, Geothermal,Biomass, Wave and Tidal,\n Storage, Fossil, Nuclear",
        "Solar, Wind, Hydro, Geothermal,Biomass, Wave and Tidal,\n Storage, Fossil, Nuclear, Coal, Gas, Oil, Waste, Cogeneration"
       ]
      }
     },
     "b02c35743def4136a7294be2dd34fb32": {
      "model_module": "@jupyter-widgets/base",
      "model_module_version": "1.0.0",
      "model_name": "LayoutModel",
      "state": {
       "height": "80px",
       "width": "70%"
      }
     },
     "b08ced56b4954f1cb7bbabd23749f4f0": {
      "model_module": "@jupyter-widgets/controls",
      "model_module_version": "1.2.0",
      "model_name": "SliderStyleModel",
      "state": {
       "description_width": "initial"
      }
     },
     "b1433046e48245baa42f8d7468e62276": {
      "model_module": "@jupyter-widgets/controls",
      "model_module_version": "1.2.0",
      "model_name": "TextModel",
      "state": {
       "description": "Country Name:",
       "layout": "IPY_MODEL_beb52625b9d14e66987e5e618a9500d8",
       "placeholder": "Type a country name",
       "style": "IPY_MODEL_75d38b2429324837a69e0a1ce0e2e67e",
       "value": "India"
      }
     },
     "b75f567f81954bcfa937171f697a5784": {
      "model_module": "@jupyter-widgets/controls",
      "model_module_version": "1.2.0",
      "model_name": "ButtonModel",
      "state": {
       "description": "Update Plot",
       "icon": "check",
       "layout": "IPY_MODEL_98c2a89be7a043c4b91ced5cf7d22f51",
       "style": "IPY_MODEL_6b9437aecae346fd88c73379052f7c40",
       "tooltip": "Update Plot"
      }
     },
     "b93174ef329240a3844b300d0b2f8103": {
      "model_module": "@jupyter-widgets/controls",
      "model_module_version": "1.2.0",
      "model_name": "TextModel",
      "state": {
       "description": "Show Populated Places:",
       "layout": "IPY_MODEL_4f257e99d3e949af99805896f656097d",
       "placeholder": "Type something",
       "style": "IPY_MODEL_6e5bca7f6dbb46a1a4dd72e0e5c4adb7",
       "value": "False"
      }
     },
     "b9c568d290684f7aa4671947d77f8e21": {
      "model_module": "@jupyter-widgets/base",
      "model_module_version": "1.0.0",
      "model_name": "LayoutModel",
      "state": {
       "height": "80px",
       "width": "70%"
      }
     },
     "be41e91c77bb4843a619e3aabfaf5a9d": {
      "model_module": "@jupyter-widgets/controls",
      "model_module_version": "1.2.0",
      "model_name": "TextModel",
      "state": {
       "description": "Country Name:",
       "layout": "IPY_MODEL_78e38ab79c874a74ab8522fd282f67fc",
       "placeholder": "Type a country name",
       "style": "IPY_MODEL_a5b2b01196fc4b0a9dcf4b8f0cd41b48",
       "value": "India"
      }
     },
     "beb52625b9d14e66987e5e618a9500d8": {
      "model_module": "@jupyter-widgets/base",
      "model_module_version": "1.0.0",
      "model_name": "LayoutModel",
      "state": {}
     },
     "bf2f14644d2d4417ba9ed3b44c01d22f": {
      "model_module": "@jupyter-widgets/base",
      "model_module_version": "1.0.0",
      "model_name": "LayoutModel",
      "state": {}
     },
     "bf5a328e8a704319bafb1457c661a492": {
      "model_module": "@jupyter-widgets/controls",
      "model_module_version": "1.2.0",
      "model_name": "SliderStyleModel",
      "state": {
       "description_width": "initial"
      }
     },
     "c014af86e5ab4e8e8de3a1f4b82c887e": {
      "model_module": "@jupyter-widgets/controls",
      "model_module_version": "1.2.0",
      "model_name": "TextModel",
      "state": {
       "description": "Coordinate System:",
       "layout": "IPY_MODEL_4ec3e174451741f9b57b5e2bfa9fa7e4",
       "placeholder": "Type something",
       "style": "IPY_MODEL_cb1767cf107d458ab310d045850c5180",
       "value": "spherical"
      }
     },
     "c091215079a84417b98e38fc7b6ff03c": {
      "model_module": "@jupyter-widgets/controls",
      "model_module_version": "1.2.0",
      "model_name": "ButtonModel",
      "state": {
       "description": "Update Plot",
       "icon": "check",
       "layout": "IPY_MODEL_a4ccc02fce1a4f9f9d81d431a50a657c",
       "style": "IPY_MODEL_c0debf8a615b489f8cf8ea23cad747da",
       "tooltip": "Update Plot"
      }
     },
     "c0debf8a615b489f8cf8ea23cad747da": {
      "model_module": "@jupyter-widgets/controls",
      "model_module_version": "1.2.0",
      "model_name": "ButtonStyleModel",
      "state": {}
     },
     "c1761a83c028452db93416353cb004ba": {
      "model_module": "@jupyter-widgets/controls",
      "model_module_version": "1.2.0",
      "model_name": "SliderStyleModel",
      "state": {
       "description_width": "initial"
      }
     },
     "c17885a9718b4721bbbfab07543fd658": {
      "model_module": "@jupyter-widgets/controls",
      "model_module_version": "1.2.0",
      "model_name": "DescriptionStyleModel",
      "state": {
       "description_width": "initial"
      }
     },
     "c3582214d48a4b49957cf8c6cef38759": {
      "model_module": "@jupyter-widgets/base",
      "model_module_version": "1.0.0",
      "model_name": "LayoutModel",
      "state": {}
     },
     "c44f3f66ec554097bfc60ee48f027378": {
      "model_module": "@jupyter-widgets/controls",
      "model_module_version": "1.2.0",
      "model_name": "ToggleButtonsStyleModel",
      "state": {
       "button_width": "",
       "description_width": "initial"
      }
     },
     "c475c73739194fb39810694e9a0b9ab4": {
      "model_module": "@jupyter-widgets/controls",
      "model_module_version": "1.2.0",
      "model_name": "IntSliderModel",
      "state": {
       "continuous_update": false,
       "description": "DPI (resolution):",
       "layout": "IPY_MODEL_98b3e8a75cb244b1a50b5bff1eb0aff1",
       "max": 500,
       "min": 100,
       "style": "IPY_MODEL_b08ced56b4954f1cb7bbabd23749f4f0",
       "value": 300
      }
     },
     "c488274fbc0247cebba7ab09422e9738": {
      "model_module": "@jupyter-widgets/controls",
      "model_module_version": "1.2.0",
      "model_name": "DescriptionStyleModel",
      "state": {
       "description_width": "initial"
      }
     },
     "c69a7fe9e3df4e139592191dd8193870": {
      "model_module": "@jupyter-widgets/controls",
      "model_module_version": "1.2.0",
      "model_name": "DescriptionStyleModel",
      "state": {
       "description_width": "initial"
      }
     },
     "c70d18a2b4a5490681d273f2113fd1b2": {
      "model_module": "@jupyter-widgets/controls",
      "model_module_version": "1.2.0",
      "model_name": "DropdownModel",
      "state": {
       "_options_labels": [
        "capacity",
        "alphabetical"
       ],
       "description": "Sort Legend By:",
       "index": 0,
       "layout": "IPY_MODEL_c3582214d48a4b49957cf8c6cef38759",
       "style": "IPY_MODEL_2fe415dc7de54d6190176de0a7175b33"
      }
     },
     "c870c16b581947f49459fff4f5bcad37": {
      "model_module": "@jupyter-widgets/base",
      "model_module_version": "1.0.0",
      "model_name": "LayoutModel",
      "state": {}
     },
     "c9d409efbcc64adfb585a74f16d55f1a": {
      "model_module": "@jupyter-widgets/base",
      "model_module_version": "1.0.0",
      "model_name": "LayoutModel",
      "state": {}
     },
     "cb1767cf107d458ab310d045850c5180": {
      "model_module": "@jupyter-widgets/controls",
      "model_module_version": "1.2.0",
      "model_name": "DescriptionStyleModel",
      "state": {
       "description_width": "initial"
      }
     },
     "ce054e897c6d4e9c9cd4f9964a2a7958": {
      "model_module": "@jupyter-widgets/controls",
      "model_module_version": "1.2.0",
      "model_name": "TextModel",
      "state": {
       "description": "Country Precursor:",
       "layout": "IPY_MODEL_30d6471269fc40a1a4f860fdfc8b610e",
       "placeholder": "Precursor to Country Name",
       "style": "IPY_MODEL_1b1af95fda874a35830da77937472a16"
      }
     },
     "cebc6e0301c447b5a6980e762b8105cb": {
      "model_module": "@jupyter-widgets/controls",
      "model_module_version": "1.2.0",
      "model_name": "SliderStyleModel",
      "state": {
       "description_width": "initial"
      }
     },
     "d027039d36254a32a84ab027a4e0ae04": {
      "model_module": "@jupyter-widgets/base",
      "model_module_version": "1.0.0",
      "model_name": "LayoutModel",
      "state": {}
     },
     "d0807774317c4aff80725f88f053f4ab": {
      "model_module": "@jupyter-widgets/controls",
      "model_module_version": "1.2.0",
      "model_name": "TextModel",
      "state": {
       "description": "Island Size Thresh:",
       "layout": "IPY_MODEL_a73447805f734cf69b11ffd71d5f0eb7",
       "placeholder": "Type a island thresh",
       "style": "IPY_MODEL_058d54805c20450eafbc9db231c5c754",
       "value": "200"
      }
     },
     "d125a30ae17d43409f6d391ec5d09566": {
      "model_module": "@jupyter-widgets/controls",
      "model_module_version": "1.2.0",
      "model_name": "SliderStyleModel",
      "state": {
       "description_width": "initial"
      }
     },
     "d4ad19b8a2f04f589aa20a7ccc92ac75": {
      "model_module": "@jupyter-widgets/base",
      "model_module_version": "1.0.0",
      "model_name": "LayoutModel",
      "state": {}
     },
     "da6cb41089c14cb089304d41439efd82": {
      "model_module": "@jupyter-widgets/base",
      "model_module_version": "1.0.0",
      "model_name": "LayoutModel",
      "state": {}
     },
     "daa92050d52f433eb3e34b0085216e51": {
      "model_module": "@jupyter-widgets/controls",
      "model_module_version": "1.2.0",
      "model_name": "TextModel",
      "state": {
       "description": "Show Populated Places:",
       "layout": "IPY_MODEL_e86e01961d5245b18ac7ecabee6ba5ff",
       "placeholder": "Type something",
       "style": "IPY_MODEL_339ee14ddd864efabafa4777e196b00d",
       "value": "False"
      }
     },
     "dbbfa7595efb435a920d2df2c4ed014f": {
      "model_module": "@jupyter-widgets/base",
      "model_module_version": "1.0.0",
      "model_name": "LayoutModel",
      "state": {}
     },
     "de2ffcf7a6554d4bb99b5b968ea338f0": {
      "model_module": "@jupyter-widgets/base",
      "model_module_version": "1.0.0",
      "model_name": "LayoutModel",
      "state": {}
     },
     "df992bf53a8c43c993d946a0cc9536be": {
      "model_module": "@jupyter-widgets/controls",
      "model_module_version": "1.2.0",
      "model_name": "TextModel",
      "state": {
       "description": "Coordinate System:",
       "layout": "IPY_MODEL_17001cca00194e0cafdee261752dbcdd",
       "placeholder": "Type something",
       "style": "IPY_MODEL_c69a7fe9e3df4e139592191dd8193870",
       "value": "spherical"
      }
     },
     "e142632e0a214f2697b5fc6a87c92d7a": {
      "model_module": "@jupyter-widgets/controls",
      "model_module_version": "1.2.0",
      "model_name": "ToggleButtonsModel",
      "state": {
       "_options_labels": [
        "Simple",
        "Mixed",
        "Complex"
       ],
       "button_style": "",
       "description": "Simplification Level:",
       "icons": [],
       "index": 1,
       "layout": "IPY_MODEL_e4e6a9a6d70540e6ab3457e791574c0c",
       "style": "IPY_MODEL_27923732d28842fb833d024bd04ffcef",
       "tooltips": [
        "Renewables, Fossil, and Nuclear",
        "Solar, Wind, Hydro, Geothermal,Biomass, Wave and Tidal,\n Storage, Fossil, Nuclear",
        "Solar, Wind, Hydro, Geothermal,Biomass, Wave and Tidal,\n Storage, Fossil, Nuclear, Coal, Gas, Oil, Waste, Cogeneration"
       ]
      }
     },
     "e4e6a9a6d70540e6ab3457e791574c0c": {
      "model_module": "@jupyter-widgets/base",
      "model_module_version": "1.0.0",
      "model_name": "LayoutModel",
      "state": {}
     },
     "e6c3ac873f0846c19ca55edff40cdcf0": {
      "model_module": "@jupyter-widgets/base",
      "model_module_version": "1.0.0",
      "model_name": "LayoutModel",
      "state": {}
     },
     "e704d73ab28844d186beb1674b1d799f": {
      "model_module": "@jupyter-widgets/controls",
      "model_module_version": "1.2.0",
      "model_name": "FloatSliderModel",
      "state": {
       "continuous_update": false,
       "description": "Zoom Level:",
       "layout": "IPY_MODEL_1b0ea0b2b7464ed1b8cbe979839ced9b",
       "max": 3,
       "min": 0.5,
       "readout_format": ".1f",
       "step": 0.1,
       "style": "IPY_MODEL_eea700f97181487ea917fd969e471d34",
       "value": 1.5
      }
     },
     "e86e01961d5245b18ac7ecabee6ba5ff": {
      "model_module": "@jupyter-widgets/base",
      "model_module_version": "1.0.0",
      "model_name": "LayoutModel",
      "state": {}
     },
     "e9305f35e0fd483887baf0b326df7b95": {
      "model_module": "@jupyter-widgets/base",
      "model_module_version": "1.0.0",
      "model_name": "LayoutModel",
      "state": {}
     },
     "e939a14180474b2782bf7f2024bc33aa": {
      "model_module": "@jupyter-widgets/base",
      "model_module_version": "1.0.0",
      "model_name": "LayoutModel",
      "state": {}
     },
     "eaaa258b500643d5b63dd2ce87ec6295": {
      "model_module": "@jupyter-widgets/controls",
      "model_module_version": "1.2.0",
      "model_name": "TextModel",
      "state": {
       "description": "Country Precursor:",
       "layout": "IPY_MODEL_3ce25d4b89904195985c5a22c00a3658",
       "placeholder": "Precursor to Country Name",
       "style": "IPY_MODEL_10939cd7c0ba4b7f813bbd234f5886ca"
      }
     },
     "eab0ba454c37404891d7818f67598e53": {
      "model_module": "@jupyter-widgets/controls",
      "model_module_version": "1.2.0",
      "model_name": "ButtonStyleModel",
      "state": {}
     },
     "eb4a7c8efa2240e3a70085ebfc72ef16": {
      "model_module": "@jupyter-widgets/controls",
      "model_module_version": "1.2.0",
      "model_name": "TextModel",
      "state": {
       "description": "Country Precursor:",
       "layout": "IPY_MODEL_d027039d36254a32a84ab027a4e0ae04",
       "placeholder": "Precursor to Country Name",
       "style": "IPY_MODEL_a4e48d1735f14553afb9748d3959d7c5"
      }
     },
     "ebdd9bf153cc4acb9fab678bc8bd23f2": {
      "model_module": "@jupyter-widgets/controls",
      "model_module_version": "1.2.0",
      "model_name": "TextModel",
      "state": {
       "description": "Island Size Thresh:",
       "layout": "IPY_MODEL_65ef3fe9c86d4f409473ed7b0b488939",
       "placeholder": "Type a island thresh",
       "style": "IPY_MODEL_9da689946cf74d4bba483f5465628bd3",
       "value": "200"
      }
     },
     "ec321d96197542c989738ad79586ac96": {
      "model_module": "@jupyter-widgets/base",
      "model_module_version": "1.0.0",
      "model_name": "LayoutModel",
      "state": {}
     },
     "ec57aafcb73d4ffc9f7633acb55f6683": {
      "model_module": "@jupyter-widgets/controls",
      "model_module_version": "1.2.0",
      "model_name": "TextModel",
      "state": {
       "description": "Country Precursor:",
       "layout": "IPY_MODEL_3f50e791dfe84c56971a0e3510ab2462",
       "placeholder": "Precursor to Country Name",
       "style": "IPY_MODEL_c488274fbc0247cebba7ab09422e9738"
      }
     },
     "eea700f97181487ea917fd969e471d34": {
      "model_module": "@jupyter-widgets/controls",
      "model_module_version": "1.2.0",
      "model_name": "SliderStyleModel",
      "state": {
       "description_width": "initial"
      }
     },
     "ef32c488276b4ee49436f14c7eb80224": {
      "model_module": "@jupyter-widgets/controls",
      "model_module_version": "1.2.0",
      "model_name": "DescriptionStyleModel",
      "state": {
       "description_width": "initial"
      }
     },
     "f0fce0215ce14a779d1d1b189dcd5b9b": {
      "model_module": "@jupyter-widgets/controls",
      "model_module_version": "1.2.0",
      "model_name": "DescriptionStyleModel",
      "state": {
       "description_width": "initial"
      }
     },
     "f1717553bcf44eeea4ad9964d002a26a": {
      "model_module": "@jupyter-widgets/base",
      "model_module_version": "1.0.0",
      "model_name": "LayoutModel",
      "state": {}
     },
     "f3b74ccd814b427fb5383b5f00c6e23d": {
      "model_module": "@jupyter-widgets/controls",
      "model_module_version": "1.2.0",
      "model_name": "DescriptionStyleModel",
      "state": {
       "description_width": "initial"
      }
     },
     "f5e200ea06ab4c90b79f56a68abc7ab3": {
      "model_module": "@jupyter-widgets/controls",
      "model_module_version": "1.2.0",
      "model_name": "SliderStyleModel",
      "state": {
       "description_width": "initial"
      }
     },
     "f7883f05ac4446c1a8b08651285e5252": {
      "model_module": "@jupyter-widgets/controls",
      "model_module_version": "1.2.0",
      "model_name": "ToggleButtonsModel",
      "state": {
       "_options_labels": [
        "Simple",
        "Mixed",
        "Complex"
       ],
       "button_style": "",
       "description": "Simplification Level:",
       "icons": [],
       "index": 1,
       "layout": "IPY_MODEL_94041037c4984306a39e2e3c519602e6",
       "style": "IPY_MODEL_57f98d81985943ebb9233853dd4a23f0",
       "tooltips": [
        "Renewables, Fossil, and Nuclear",
        "Solar, Wind, Hydro, Geothermal,Biomass, Wave and Tidal,\n Storage, Fossil, Nuclear",
        "Solar, Wind, Hydro, Geothermal,Biomass, Wave and Tidal,\n Storage, Fossil, Nuclear, Coal, Gas, Oil, Waste, Cogeneration"
       ]
      }
     },
     "fe13b2fd3268453896c9eb11d4c06fd5": {
      "model_module": "@jupyter-widgets/controls",
      "model_module_version": "1.2.0",
      "model_name": "IntSliderModel",
      "state": {
       "continuous_update": false,
       "description": "Number of Legend Columns:",
       "layout": "IPY_MODEL_ec321d96197542c989738ad79586ac96",
       "max": 3,
       "min": 1,
       "style": "IPY_MODEL_bf5a328e8a704319bafb1457c661a492",
       "value": 1
      }
     },
     "feb06c0c3e894536819e43823020e7db": {
      "model_module": "@jupyter-widgets/controls",
      "model_module_version": "1.2.0",
      "model_name": "ButtonStyleModel",
      "state": {}
     }
    },
    "version_major": 2,
    "version_minor": 0
   }
  }
 },
 "nbformat": 4,
 "nbformat_minor": 2
}
