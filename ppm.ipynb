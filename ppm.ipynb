{
 "cells": [
  {
   "cell_type": "markdown",
   "metadata": {},
   "source": [
    "# *Country Power Plant Mapper*\n",
    "\n",
    "## This application easily produces clean, beautiful, and flexible bubble maps displaying the types and sizes of grid-connected generators in any country. All without touching a line of code!\n",
    "\n",
    "### Basic Instructions:\n",
    "1. Enter the __Country Name__.\n",
    "2. Choose the desired level of __Simplification__ for resource type:\n",
    "    -  *Simple* breaks resources into 'Renewable', 'Fossil', and 'Nuclear'.\n",
    "    -  *Mixed* subdivides renewables (solar, wind, etc.) but keeps 'Fossil' together. \n",
    "    -  *Complex* labels every resource type.\n",
    "    \n",
    "\n",
    "3. Press the __Update Plot__ Button.\n",
    "4. Drag the legend to a better location, if needed (this can be a little wonky––sorry). \n",
    "5. To save the image, click the power symbol in the upper right portion of the map. Then right click on the map and select 'Save Image As'. \n",
    "\n",
    "Check out the __Advanced Instructions__ section below if you need additional control.\n",
    "\n",
    "import parameterwidgets as pw"
   ]
  },
  {
   "cell_type": "code",
   "execution_count": 1,
   "metadata": {
    "scrolled": true
   },
   "outputs": [
    {
     "data": {
      "application/vnd.jupyter.widget-view+json": {
       "model_id": "69a2869d50cc4cb2a41eafc70b4f41d2",
       "version_major": 2,
       "version_minor": 0
      },
      "text/plain": [
       "Text(value='India', description='Country Name:', placeholder='Type a country name', style=DescriptionStyle(des…"
      ]
     },
     "metadata": {},
     "output_type": "display_data"
    },
    {
     "data": {
      "application/vnd.jupyter.widget-view+json": {
       "model_id": "9c802342e3ef40c588c6d3260b452777",
       "version_major": 2,
       "version_minor": 0
      },
      "text/plain": [
       "ToggleButtons(description='Simplification Level:', index=1, options=('Simple', 'Mixed', 'Complex'), style=Togg…"
      ]
     },
     "metadata": {},
     "output_type": "display_data"
    }
   ],
   "source": [
    "import parameterwidgets as pw\n",
    "pw.showbasicwidgets()"
   ]
  },
  {
   "cell_type": "code",
   "execution_count": 2,
   "metadata": {},
   "outputs": [
    {
     "data": {
      "application/vnd.jupyter.widget-view+json": {
       "model_id": "72e371d069bb4da9a2dbc7143650aec3",
       "version_major": 2,
       "version_minor": 0
      },
      "text/plain": [
       "Button(description='Update Plot', icon='check', layout=Layout(height='80px', width='70%'), style=ButtonStyle()…"
      ]
     },
     "metadata": {},
     "output_type": "display_data"
    },
    {
     "data": {
      "application/javascript": [
       "/* Put everything inside the global mpl namespace */\n",
       "window.mpl = {};\n",
       "\n",
       "\n",
       "mpl.get_websocket_type = function() {\n",
       "    if (typeof(WebSocket) !== 'undefined') {\n",
       "        return WebSocket;\n",
       "    } else if (typeof(MozWebSocket) !== 'undefined') {\n",
       "        return MozWebSocket;\n",
       "    } else {\n",
       "        alert('Your browser does not have WebSocket support.' +\n",
       "              'Please try Chrome, Safari or Firefox ≥ 6. ' +\n",
       "              'Firefox 4 and 5 are also supported but you ' +\n",
       "              'have to enable WebSockets in about:config.');\n",
       "    };\n",
       "}\n",
       "\n",
       "mpl.figure = function(figure_id, websocket, ondownload, parent_element) {\n",
       "    this.id = figure_id;\n",
       "\n",
       "    this.ws = websocket;\n",
       "\n",
       "    this.supports_binary = (this.ws.binaryType != undefined);\n",
       "\n",
       "    if (!this.supports_binary) {\n",
       "        var warnings = document.getElementById(\"mpl-warnings\");\n",
       "        if (warnings) {\n",
       "            warnings.style.display = 'block';\n",
       "            warnings.textContent = (\n",
       "                \"This browser does not support binary websocket messages. \" +\n",
       "                    \"Performance may be slow.\");\n",
       "        }\n",
       "    }\n",
       "\n",
       "    this.imageObj = new Image();\n",
       "\n",
       "    this.context = undefined;\n",
       "    this.message = undefined;\n",
       "    this.canvas = undefined;\n",
       "    this.rubberband_canvas = undefined;\n",
       "    this.rubberband_context = undefined;\n",
       "    this.format_dropdown = undefined;\n",
       "\n",
       "    this.image_mode = 'full';\n",
       "\n",
       "    this.root = $('<div/>');\n",
       "    this._root_extra_style(this.root)\n",
       "    this.root.attr('style', 'display: inline-block');\n",
       "\n",
       "    $(parent_element).append(this.root);\n",
       "\n",
       "    this._init_header(this);\n",
       "    this._init_canvas(this);\n",
       "    this._init_toolbar(this);\n",
       "\n",
       "    var fig = this;\n",
       "\n",
       "    this.waiting = false;\n",
       "\n",
       "    this.ws.onopen =  function () {\n",
       "            fig.send_message(\"supports_binary\", {value: fig.supports_binary});\n",
       "            fig.send_message(\"send_image_mode\", {});\n",
       "            if (mpl.ratio != 1) {\n",
       "                fig.send_message(\"set_dpi_ratio\", {'dpi_ratio': mpl.ratio});\n",
       "            }\n",
       "            fig.send_message(\"refresh\", {});\n",
       "        }\n",
       "\n",
       "    this.imageObj.onload = function() {\n",
       "            if (fig.image_mode == 'full') {\n",
       "                // Full images could contain transparency (where diff images\n",
       "                // almost always do), so we need to clear the canvas so that\n",
       "                // there is no ghosting.\n",
       "                fig.context.clearRect(0, 0, fig.canvas.width, fig.canvas.height);\n",
       "            }\n",
       "            fig.context.drawImage(fig.imageObj, 0, 0);\n",
       "        };\n",
       "\n",
       "    this.imageObj.onunload = function() {\n",
       "        fig.ws.close();\n",
       "    }\n",
       "\n",
       "    this.ws.onmessage = this._make_on_message_function(this);\n",
       "\n",
       "    this.ondownload = ondownload;\n",
       "}\n",
       "\n",
       "mpl.figure.prototype._init_header = function() {\n",
       "    var titlebar = $(\n",
       "        '<div class=\"ui-dialog-titlebar ui-widget-header ui-corner-all ' +\n",
       "        'ui-helper-clearfix\"/>');\n",
       "    var titletext = $(\n",
       "        '<div class=\"ui-dialog-title\" style=\"width: 100%; ' +\n",
       "        'text-align: center; padding: 3px;\"/>');\n",
       "    titlebar.append(titletext)\n",
       "    this.root.append(titlebar);\n",
       "    this.header = titletext[0];\n",
       "}\n",
       "\n",
       "\n",
       "\n",
       "mpl.figure.prototype._canvas_extra_style = function(canvas_div) {\n",
       "\n",
       "}\n",
       "\n",
       "\n",
       "mpl.figure.prototype._root_extra_style = function(canvas_div) {\n",
       "\n",
       "}\n",
       "\n",
       "mpl.figure.prototype._init_canvas = function() {\n",
       "    var fig = this;\n",
       "\n",
       "    var canvas_div = $('<div/>');\n",
       "\n",
       "    canvas_div.attr('style', 'position: relative; clear: both; outline: 0');\n",
       "\n",
       "    function canvas_keyboard_event(event) {\n",
       "        return fig.key_event(event, event['data']);\n",
       "    }\n",
       "\n",
       "    canvas_div.keydown('key_press', canvas_keyboard_event);\n",
       "    canvas_div.keyup('key_release', canvas_keyboard_event);\n",
       "    this.canvas_div = canvas_div\n",
       "    this._canvas_extra_style(canvas_div)\n",
       "    this.root.append(canvas_div);\n",
       "\n",
       "    var canvas = $('<canvas/>');\n",
       "    canvas.addClass('mpl-canvas');\n",
       "    canvas.attr('style', \"left: 0; top: 0; z-index: 0; outline: 0\")\n",
       "\n",
       "    this.canvas = canvas[0];\n",
       "    this.context = canvas[0].getContext(\"2d\");\n",
       "\n",
       "    var backingStore = this.context.backingStorePixelRatio ||\n",
       "\tthis.context.webkitBackingStorePixelRatio ||\n",
       "\tthis.context.mozBackingStorePixelRatio ||\n",
       "\tthis.context.msBackingStorePixelRatio ||\n",
       "\tthis.context.oBackingStorePixelRatio ||\n",
       "\tthis.context.backingStorePixelRatio || 1;\n",
       "\n",
       "    mpl.ratio = (window.devicePixelRatio || 1) / backingStore;\n",
       "\n",
       "    var rubberband = $('<canvas/>');\n",
       "    rubberband.attr('style', \"position: absolute; left: 0; top: 0; z-index: 1;\")\n",
       "\n",
       "    var pass_mouse_events = true;\n",
       "\n",
       "    canvas_div.resizable({\n",
       "        start: function(event, ui) {\n",
       "            pass_mouse_events = false;\n",
       "        },\n",
       "        resize: function(event, ui) {\n",
       "            fig.request_resize(ui.size.width, ui.size.height);\n",
       "        },\n",
       "        stop: function(event, ui) {\n",
       "            pass_mouse_events = true;\n",
       "            fig.request_resize(ui.size.width, ui.size.height);\n",
       "        },\n",
       "    });\n",
       "\n",
       "    function mouse_event_fn(event) {\n",
       "        if (pass_mouse_events)\n",
       "            return fig.mouse_event(event, event['data']);\n",
       "    }\n",
       "\n",
       "    rubberband.mousedown('button_press', mouse_event_fn);\n",
       "    rubberband.mouseup('button_release', mouse_event_fn);\n",
       "    // Throttle sequential mouse events to 1 every 20ms.\n",
       "    rubberband.mousemove('motion_notify', mouse_event_fn);\n",
       "\n",
       "    rubberband.mouseenter('figure_enter', mouse_event_fn);\n",
       "    rubberband.mouseleave('figure_leave', mouse_event_fn);\n",
       "\n",
       "    canvas_div.on(\"wheel\", function (event) {\n",
       "        event = event.originalEvent;\n",
       "        event['data'] = 'scroll'\n",
       "        if (event.deltaY < 0) {\n",
       "            event.step = 1;\n",
       "        } else {\n",
       "            event.step = -1;\n",
       "        }\n",
       "        mouse_event_fn(event);\n",
       "    });\n",
       "\n",
       "    canvas_div.append(canvas);\n",
       "    canvas_div.append(rubberband);\n",
       "\n",
       "    this.rubberband = rubberband;\n",
       "    this.rubberband_canvas = rubberband[0];\n",
       "    this.rubberband_context = rubberband[0].getContext(\"2d\");\n",
       "    this.rubberband_context.strokeStyle = \"#000000\";\n",
       "\n",
       "    this._resize_canvas = function(width, height) {\n",
       "        // Keep the size of the canvas, canvas container, and rubber band\n",
       "        // canvas in synch.\n",
       "        canvas_div.css('width', width)\n",
       "        canvas_div.css('height', height)\n",
       "\n",
       "        canvas.attr('width', width * mpl.ratio);\n",
       "        canvas.attr('height', height * mpl.ratio);\n",
       "        canvas.attr('style', 'width: ' + width + 'px; height: ' + height + 'px;');\n",
       "\n",
       "        rubberband.attr('width', width);\n",
       "        rubberband.attr('height', height);\n",
       "    }\n",
       "\n",
       "    // Set the figure to an initial 600x600px, this will subsequently be updated\n",
       "    // upon first draw.\n",
       "    this._resize_canvas(600, 600);\n",
       "\n",
       "    // Disable right mouse context menu.\n",
       "    $(this.rubberband_canvas).bind(\"contextmenu\",function(e){\n",
       "        return false;\n",
       "    });\n",
       "\n",
       "    function set_focus () {\n",
       "        canvas.focus();\n",
       "        canvas_div.focus();\n",
       "    }\n",
       "\n",
       "    window.setTimeout(set_focus, 100);\n",
       "}\n",
       "\n",
       "mpl.figure.prototype._init_toolbar = function() {\n",
       "    var fig = this;\n",
       "\n",
       "    var nav_element = $('<div/>')\n",
       "    nav_element.attr('style', 'width: 100%');\n",
       "    this.root.append(nav_element);\n",
       "\n",
       "    // Define a callback function for later on.\n",
       "    function toolbar_event(event) {\n",
       "        return fig.toolbar_button_onclick(event['data']);\n",
       "    }\n",
       "    function toolbar_mouse_event(event) {\n",
       "        return fig.toolbar_button_onmouseover(event['data']);\n",
       "    }\n",
       "\n",
       "    for(var toolbar_ind in mpl.toolbar_items) {\n",
       "        var name = mpl.toolbar_items[toolbar_ind][0];\n",
       "        var tooltip = mpl.toolbar_items[toolbar_ind][1];\n",
       "        var image = mpl.toolbar_items[toolbar_ind][2];\n",
       "        var method_name = mpl.toolbar_items[toolbar_ind][3];\n",
       "\n",
       "        if (!name) {\n",
       "            // put a spacer in here.\n",
       "            continue;\n",
       "        }\n",
       "        var button = $('<button/>');\n",
       "        button.addClass('ui-button ui-widget ui-state-default ui-corner-all ' +\n",
       "                        'ui-button-icon-only');\n",
       "        button.attr('role', 'button');\n",
       "        button.attr('aria-disabled', 'false');\n",
       "        button.click(method_name, toolbar_event);\n",
       "        button.mouseover(tooltip, toolbar_mouse_event);\n",
       "\n",
       "        var icon_img = $('<span/>');\n",
       "        icon_img.addClass('ui-button-icon-primary ui-icon');\n",
       "        icon_img.addClass(image);\n",
       "        icon_img.addClass('ui-corner-all');\n",
       "\n",
       "        var tooltip_span = $('<span/>');\n",
       "        tooltip_span.addClass('ui-button-text');\n",
       "        tooltip_span.html(tooltip);\n",
       "\n",
       "        button.append(icon_img);\n",
       "        button.append(tooltip_span);\n",
       "\n",
       "        nav_element.append(button);\n",
       "    }\n",
       "\n",
       "    var fmt_picker_span = $('<span/>');\n",
       "\n",
       "    var fmt_picker = $('<select/>');\n",
       "    fmt_picker.addClass('mpl-toolbar-option ui-widget ui-widget-content');\n",
       "    fmt_picker_span.append(fmt_picker);\n",
       "    nav_element.append(fmt_picker_span);\n",
       "    this.format_dropdown = fmt_picker[0];\n",
       "\n",
       "    for (var ind in mpl.extensions) {\n",
       "        var fmt = mpl.extensions[ind];\n",
       "        var option = $(\n",
       "            '<option/>', {selected: fmt === mpl.default_extension}).html(fmt);\n",
       "        fmt_picker.append(option)\n",
       "    }\n",
       "\n",
       "    // Add hover states to the ui-buttons\n",
       "    $( \".ui-button\" ).hover(\n",
       "        function() { $(this).addClass(\"ui-state-hover\");},\n",
       "        function() { $(this).removeClass(\"ui-state-hover\");}\n",
       "    );\n",
       "\n",
       "    var status_bar = $('<span class=\"mpl-message\"/>');\n",
       "    nav_element.append(status_bar);\n",
       "    this.message = status_bar[0];\n",
       "}\n",
       "\n",
       "mpl.figure.prototype.request_resize = function(x_pixels, y_pixels) {\n",
       "    // Request matplotlib to resize the figure. Matplotlib will then trigger a resize in the client,\n",
       "    // which will in turn request a refresh of the image.\n",
       "    this.send_message('resize', {'width': x_pixels, 'height': y_pixels});\n",
       "}\n",
       "\n",
       "mpl.figure.prototype.send_message = function(type, properties) {\n",
       "    properties['type'] = type;\n",
       "    properties['figure_id'] = this.id;\n",
       "    this.ws.send(JSON.stringify(properties));\n",
       "}\n",
       "\n",
       "mpl.figure.prototype.send_draw_message = function() {\n",
       "    if (!this.waiting) {\n",
       "        this.waiting = true;\n",
       "        this.ws.send(JSON.stringify({type: \"draw\", figure_id: this.id}));\n",
       "    }\n",
       "}\n",
       "\n",
       "\n",
       "mpl.figure.prototype.handle_save = function(fig, msg) {\n",
       "    var format_dropdown = fig.format_dropdown;\n",
       "    var format = format_dropdown.options[format_dropdown.selectedIndex].value;\n",
       "    fig.ondownload(fig, format);\n",
       "}\n",
       "\n",
       "\n",
       "mpl.figure.prototype.handle_resize = function(fig, msg) {\n",
       "    var size = msg['size'];\n",
       "    if (size[0] != fig.canvas.width || size[1] != fig.canvas.height) {\n",
       "        fig._resize_canvas(size[0], size[1]);\n",
       "        fig.send_message(\"refresh\", {});\n",
       "    };\n",
       "}\n",
       "\n",
       "mpl.figure.prototype.handle_rubberband = function(fig, msg) {\n",
       "    var x0 = msg['x0'] / mpl.ratio;\n",
       "    var y0 = (fig.canvas.height - msg['y0']) / mpl.ratio;\n",
       "    var x1 = msg['x1'] / mpl.ratio;\n",
       "    var y1 = (fig.canvas.height - msg['y1']) / mpl.ratio;\n",
       "    x0 = Math.floor(x0) + 0.5;\n",
       "    y0 = Math.floor(y0) + 0.5;\n",
       "    x1 = Math.floor(x1) + 0.5;\n",
       "    y1 = Math.floor(y1) + 0.5;\n",
       "    var min_x = Math.min(x0, x1);\n",
       "    var min_y = Math.min(y0, y1);\n",
       "    var width = Math.abs(x1 - x0);\n",
       "    var height = Math.abs(y1 - y0);\n",
       "\n",
       "    fig.rubberband_context.clearRect(\n",
       "        0, 0, fig.canvas.width, fig.canvas.height);\n",
       "\n",
       "    fig.rubberband_context.strokeRect(min_x, min_y, width, height);\n",
       "}\n",
       "\n",
       "mpl.figure.prototype.handle_figure_label = function(fig, msg) {\n",
       "    // Updates the figure title.\n",
       "    fig.header.textContent = msg['label'];\n",
       "}\n",
       "\n",
       "mpl.figure.prototype.handle_cursor = function(fig, msg) {\n",
       "    var cursor = msg['cursor'];\n",
       "    switch(cursor)\n",
       "    {\n",
       "    case 0:\n",
       "        cursor = 'pointer';\n",
       "        break;\n",
       "    case 1:\n",
       "        cursor = 'default';\n",
       "        break;\n",
       "    case 2:\n",
       "        cursor = 'crosshair';\n",
       "        break;\n",
       "    case 3:\n",
       "        cursor = 'move';\n",
       "        break;\n",
       "    }\n",
       "    fig.rubberband_canvas.style.cursor = cursor;\n",
       "}\n",
       "\n",
       "mpl.figure.prototype.handle_message = function(fig, msg) {\n",
       "    fig.message.textContent = msg['message'];\n",
       "}\n",
       "\n",
       "mpl.figure.prototype.handle_draw = function(fig, msg) {\n",
       "    // Request the server to send over a new figure.\n",
       "    fig.send_draw_message();\n",
       "}\n",
       "\n",
       "mpl.figure.prototype.handle_image_mode = function(fig, msg) {\n",
       "    fig.image_mode = msg['mode'];\n",
       "}\n",
       "\n",
       "mpl.figure.prototype.updated_canvas_event = function() {\n",
       "    // Called whenever the canvas gets updated.\n",
       "    this.send_message(\"ack\", {});\n",
       "}\n",
       "\n",
       "// A function to construct a web socket function for onmessage handling.\n",
       "// Called in the figure constructor.\n",
       "mpl.figure.prototype._make_on_message_function = function(fig) {\n",
       "    return function socket_on_message(evt) {\n",
       "        if (evt.data instanceof Blob) {\n",
       "            /* FIXME: We get \"Resource interpreted as Image but\n",
       "             * transferred with MIME type text/plain:\" errors on\n",
       "             * Chrome.  But how to set the MIME type?  It doesn't seem\n",
       "             * to be part of the websocket stream */\n",
       "            evt.data.type = \"image/png\";\n",
       "\n",
       "            /* Free the memory for the previous frames */\n",
       "            if (fig.imageObj.src) {\n",
       "                (window.URL || window.webkitURL).revokeObjectURL(\n",
       "                    fig.imageObj.src);\n",
       "            }\n",
       "\n",
       "            fig.imageObj.src = (window.URL || window.webkitURL).createObjectURL(\n",
       "                evt.data);\n",
       "            fig.updated_canvas_event();\n",
       "            fig.waiting = false;\n",
       "            return;\n",
       "        }\n",
       "        else if (typeof evt.data === 'string' && evt.data.slice(0, 21) == \"data:image/png;base64\") {\n",
       "            fig.imageObj.src = evt.data;\n",
       "            fig.updated_canvas_event();\n",
       "            fig.waiting = false;\n",
       "            return;\n",
       "        }\n",
       "\n",
       "        var msg = JSON.parse(evt.data);\n",
       "        var msg_type = msg['type'];\n",
       "\n",
       "        // Call the  \"handle_{type}\" callback, which takes\n",
       "        // the figure and JSON message as its only arguments.\n",
       "        try {\n",
       "            var callback = fig[\"handle_\" + msg_type];\n",
       "        } catch (e) {\n",
       "            console.log(\"No handler for the '\" + msg_type + \"' message type: \", msg);\n",
       "            return;\n",
       "        }\n",
       "\n",
       "        if (callback) {\n",
       "            try {\n",
       "                // console.log(\"Handling '\" + msg_type + \"' message: \", msg);\n",
       "                callback(fig, msg);\n",
       "            } catch (e) {\n",
       "                console.log(\"Exception inside the 'handler_\" + msg_type + \"' callback:\", e, e.stack, msg);\n",
       "            }\n",
       "        }\n",
       "    };\n",
       "}\n",
       "\n",
       "// from http://stackoverflow.com/questions/1114465/getting-mouse-location-in-canvas\n",
       "mpl.findpos = function(e) {\n",
       "    //this section is from http://www.quirksmode.org/js/events_properties.html\n",
       "    var targ;\n",
       "    if (!e)\n",
       "        e = window.event;\n",
       "    if (e.target)\n",
       "        targ = e.target;\n",
       "    else if (e.srcElement)\n",
       "        targ = e.srcElement;\n",
       "    if (targ.nodeType == 3) // defeat Safari bug\n",
       "        targ = targ.parentNode;\n",
       "\n",
       "    // jQuery normalizes the pageX and pageY\n",
       "    // pageX,Y are the mouse positions relative to the document\n",
       "    // offset() returns the position of the element relative to the document\n",
       "    var x = e.pageX - $(targ).offset().left;\n",
       "    var y = e.pageY - $(targ).offset().top;\n",
       "\n",
       "    return {\"x\": x, \"y\": y};\n",
       "};\n",
       "\n",
       "/*\n",
       " * return a copy of an object with only non-object keys\n",
       " * we need this to avoid circular references\n",
       " * http://stackoverflow.com/a/24161582/3208463\n",
       " */\n",
       "function simpleKeys (original) {\n",
       "  return Object.keys(original).reduce(function (obj, key) {\n",
       "    if (typeof original[key] !== 'object')\n",
       "        obj[key] = original[key]\n",
       "    return obj;\n",
       "  }, {});\n",
       "}\n",
       "\n",
       "mpl.figure.prototype.mouse_event = function(event, name) {\n",
       "    var canvas_pos = mpl.findpos(event)\n",
       "\n",
       "    if (name === 'button_press')\n",
       "    {\n",
       "        this.canvas.focus();\n",
       "        this.canvas_div.focus();\n",
       "    }\n",
       "\n",
       "    var x = canvas_pos.x * mpl.ratio;\n",
       "    var y = canvas_pos.y * mpl.ratio;\n",
       "\n",
       "    this.send_message(name, {x: x, y: y, button: event.button,\n",
       "                             step: event.step,\n",
       "                             guiEvent: simpleKeys(event)});\n",
       "\n",
       "    /* This prevents the web browser from automatically changing to\n",
       "     * the text insertion cursor when the button is pressed.  We want\n",
       "     * to control all of the cursor setting manually through the\n",
       "     * 'cursor' event from matplotlib */\n",
       "    event.preventDefault();\n",
       "    return false;\n",
       "}\n",
       "\n",
       "mpl.figure.prototype._key_event_extra = function(event, name) {\n",
       "    // Handle any extra behaviour associated with a key event\n",
       "}\n",
       "\n",
       "mpl.figure.prototype.key_event = function(event, name) {\n",
       "\n",
       "    // Prevent repeat events\n",
       "    if (name == 'key_press')\n",
       "    {\n",
       "        if (event.which === this._key)\n",
       "            return;\n",
       "        else\n",
       "            this._key = event.which;\n",
       "    }\n",
       "    if (name == 'key_release')\n",
       "        this._key = null;\n",
       "\n",
       "    var value = '';\n",
       "    if (event.ctrlKey && event.which != 17)\n",
       "        value += \"ctrl+\";\n",
       "    if (event.altKey && event.which != 18)\n",
       "        value += \"alt+\";\n",
       "    if (event.shiftKey && event.which != 16)\n",
       "        value += \"shift+\";\n",
       "\n",
       "    value += 'k';\n",
       "    value += event.which.toString();\n",
       "\n",
       "    this._key_event_extra(event, name);\n",
       "\n",
       "    this.send_message(name, {key: value,\n",
       "                             guiEvent: simpleKeys(event)});\n",
       "    return false;\n",
       "}\n",
       "\n",
       "mpl.figure.prototype.toolbar_button_onclick = function(name) {\n",
       "    if (name == 'download') {\n",
       "        this.handle_save(this, null);\n",
       "    } else {\n",
       "        this.send_message(\"toolbar_button\", {name: name});\n",
       "    }\n",
       "};\n",
       "\n",
       "mpl.figure.prototype.toolbar_button_onmouseover = function(tooltip) {\n",
       "    this.message.textContent = tooltip;\n",
       "};\n",
       "mpl.toolbar_items = [[\"Home\", \"Reset original view\", \"fa fa-home icon-home\", \"home\"], [\"Back\", \"Back to  previous view\", \"fa fa-arrow-left icon-arrow-left\", \"back\"], [\"Forward\", \"Forward to next view\", \"fa fa-arrow-right icon-arrow-right\", \"forward\"], [\"\", \"\", \"\", \"\"], [\"Pan\", \"Pan axes with left mouse, zoom with right\", \"fa fa-arrows icon-move\", \"pan\"], [\"Zoom\", \"Zoom to rectangle\", \"fa fa-square-o icon-check-empty\", \"zoom\"], [\"\", \"\", \"\", \"\"], [\"Download\", \"Download plot\", \"fa fa-floppy-o icon-save\", \"download\"]];\n",
       "\n",
       "mpl.extensions = [\"eps\", \"jpeg\", \"pdf\", \"png\", \"ps\", \"raw\", \"svg\", \"tif\"];\n",
       "\n",
       "mpl.default_extension = \"png\";var comm_websocket_adapter = function(comm) {\n",
       "    // Create a \"websocket\"-like object which calls the given IPython comm\n",
       "    // object with the appropriate methods. Currently this is a non binary\n",
       "    // socket, so there is still some room for performance tuning.\n",
       "    var ws = {};\n",
       "\n",
       "    ws.close = function() {\n",
       "        comm.close()\n",
       "    };\n",
       "    ws.send = function(m) {\n",
       "        //console.log('sending', m);\n",
       "        comm.send(m);\n",
       "    };\n",
       "    // Register the callback with on_msg.\n",
       "    comm.on_msg(function(msg) {\n",
       "        //console.log('receiving', msg['content']['data'], msg);\n",
       "        // Pass the mpl event to the overridden (by mpl) onmessage function.\n",
       "        ws.onmessage(msg['content']['data'])\n",
       "    });\n",
       "    return ws;\n",
       "}\n",
       "\n",
       "mpl.mpl_figure_comm = function(comm, msg) {\n",
       "    // This is the function which gets called when the mpl process\n",
       "    // starts-up an IPython Comm through the \"matplotlib\" channel.\n",
       "\n",
       "    var id = msg.content.data.id;\n",
       "    // Get hold of the div created by the display call when the Comm\n",
       "    // socket was opened in Python.\n",
       "    var element = $(\"#\" + id);\n",
       "    var ws_proxy = comm_websocket_adapter(comm)\n",
       "\n",
       "    function ondownload(figure, format) {\n",
       "        window.open(figure.imageObj.src);\n",
       "    }\n",
       "\n",
       "    var fig = new mpl.figure(id, ws_proxy,\n",
       "                           ondownload,\n",
       "                           element.get(0));\n",
       "\n",
       "    // Call onopen now - mpl needs it, as it is assuming we've passed it a real\n",
       "    // web socket which is closed, not our websocket->open comm proxy.\n",
       "    ws_proxy.onopen();\n",
       "\n",
       "    fig.parent_element = element.get(0);\n",
       "    fig.cell_info = mpl.find_output_cell(\"<div id='\" + id + \"'></div>\");\n",
       "    if (!fig.cell_info) {\n",
       "        console.error(\"Failed to find cell for figure\", id, fig);\n",
       "        return;\n",
       "    }\n",
       "\n",
       "    var output_index = fig.cell_info[2]\n",
       "    var cell = fig.cell_info[0];\n",
       "\n",
       "};\n",
       "\n",
       "mpl.figure.prototype.handle_close = function(fig, msg) {\n",
       "    var width = fig.canvas.width/mpl.ratio\n",
       "    fig.root.unbind('remove')\n",
       "\n",
       "    // Update the output cell to use the data from the current canvas.\n",
       "    fig.push_to_output();\n",
       "    var dataURL = fig.canvas.toDataURL();\n",
       "    // Re-enable the keyboard manager in IPython - without this line, in FF,\n",
       "    // the notebook keyboard shortcuts fail.\n",
       "    IPython.keyboard_manager.enable()\n",
       "    $(fig.parent_element).html('<img src=\"' + dataURL + '\" width=\"' + width + '\">');\n",
       "    fig.close_ws(fig, msg);\n",
       "}\n",
       "\n",
       "mpl.figure.prototype.close_ws = function(fig, msg){\n",
       "    fig.send_message('closing', msg);\n",
       "    // fig.ws.close()\n",
       "}\n",
       "\n",
       "mpl.figure.prototype.push_to_output = function(remove_interactive) {\n",
       "    // Turn the data on the canvas into data in the output cell.\n",
       "    var width = this.canvas.width/mpl.ratio\n",
       "    var dataURL = this.canvas.toDataURL();\n",
       "    this.cell_info[1]['text/html'] = '<img src=\"' + dataURL + '\" width=\"' + width + '\">';\n",
       "}\n",
       "\n",
       "mpl.figure.prototype.updated_canvas_event = function() {\n",
       "    // Tell IPython that the notebook contents must change.\n",
       "    IPython.notebook.set_dirty(true);\n",
       "    this.send_message(\"ack\", {});\n",
       "    var fig = this;\n",
       "    // Wait a second, then push the new image to the DOM so\n",
       "    // that it is saved nicely (might be nice to debounce this).\n",
       "    setTimeout(function () { fig.push_to_output() }, 1000);\n",
       "}\n",
       "\n",
       "mpl.figure.prototype._init_toolbar = function() {\n",
       "    var fig = this;\n",
       "\n",
       "    var nav_element = $('<div/>')\n",
       "    nav_element.attr('style', 'width: 100%');\n",
       "    this.root.append(nav_element);\n",
       "\n",
       "    // Define a callback function for later on.\n",
       "    function toolbar_event(event) {\n",
       "        return fig.toolbar_button_onclick(event['data']);\n",
       "    }\n",
       "    function toolbar_mouse_event(event) {\n",
       "        return fig.toolbar_button_onmouseover(event['data']);\n",
       "    }\n",
       "\n",
       "    for(var toolbar_ind in mpl.toolbar_items){\n",
       "        var name = mpl.toolbar_items[toolbar_ind][0];\n",
       "        var tooltip = mpl.toolbar_items[toolbar_ind][1];\n",
       "        var image = mpl.toolbar_items[toolbar_ind][2];\n",
       "        var method_name = mpl.toolbar_items[toolbar_ind][3];\n",
       "\n",
       "        if (!name) { continue; };\n",
       "\n",
       "        var button = $('<button class=\"btn btn-default\" href=\"#\" title=\"' + name + '\"><i class=\"fa ' + image + ' fa-lg\"></i></button>');\n",
       "        button.click(method_name, toolbar_event);\n",
       "        button.mouseover(tooltip, toolbar_mouse_event);\n",
       "        nav_element.append(button);\n",
       "    }\n",
       "\n",
       "    // Add the status bar.\n",
       "    var status_bar = $('<span class=\"mpl-message\" style=\"text-align:right; float: right;\"/>');\n",
       "    nav_element.append(status_bar);\n",
       "    this.message = status_bar[0];\n",
       "\n",
       "    // Add the close button to the window.\n",
       "    var buttongrp = $('<div class=\"btn-group inline pull-right\"></div>');\n",
       "    var button = $('<button class=\"btn btn-mini btn-primary\" href=\"#\" title=\"Stop Interaction\"><i class=\"fa fa-power-off icon-remove icon-large\"></i></button>');\n",
       "    button.click(function (evt) { fig.handle_close(fig, {}); } );\n",
       "    button.mouseover('Stop Interaction', toolbar_mouse_event);\n",
       "    buttongrp.append(button);\n",
       "    var titlebar = this.root.find($('.ui-dialog-titlebar'));\n",
       "    titlebar.prepend(buttongrp);\n",
       "}\n",
       "\n",
       "mpl.figure.prototype._root_extra_style = function(el){\n",
       "    var fig = this\n",
       "    el.on(\"remove\", function(){\n",
       "\tfig.close_ws(fig, {});\n",
       "    });\n",
       "}\n",
       "\n",
       "mpl.figure.prototype._canvas_extra_style = function(el){\n",
       "    // this is important to make the div 'focusable\n",
       "    el.attr('tabindex', 0)\n",
       "    // reach out to IPython and tell the keyboard manager to turn it's self\n",
       "    // off when our div gets focus\n",
       "\n",
       "    // location in version 3\n",
       "    if (IPython.notebook.keyboard_manager) {\n",
       "        IPython.notebook.keyboard_manager.register_events(el);\n",
       "    }\n",
       "    else {\n",
       "        // location in version 2\n",
       "        IPython.keyboard_manager.register_events(el);\n",
       "    }\n",
       "\n",
       "}\n",
       "\n",
       "mpl.figure.prototype._key_event_extra = function(event, name) {\n",
       "    var manager = IPython.notebook.keyboard_manager;\n",
       "    if (!manager)\n",
       "        manager = IPython.keyboard_manager;\n",
       "\n",
       "    // Check for shift+enter\n",
       "    if (event.shiftKey && event.which == 13) {\n",
       "        this.canvas_div.blur();\n",
       "        event.shiftKey = false;\n",
       "        // Send a \"J\" for go to next cell\n",
       "        event.which = 74;\n",
       "        event.keyCode = 74;\n",
       "        manager.command_mode();\n",
       "        manager.handle_keydown(event);\n",
       "    }\n",
       "}\n",
       "\n",
       "mpl.figure.prototype.handle_save = function(fig, msg) {\n",
       "    fig.ondownload(fig, null);\n",
       "}\n",
       "\n",
       "\n",
       "mpl.find_output_cell = function(html_output) {\n",
       "    // Return the cell and output element which can be found *uniquely* in the notebook.\n",
       "    // Note - this is a bit hacky, but it is done because the \"notebook_saving.Notebook\"\n",
       "    // IPython event is triggered only after the cells have been serialised, which for\n",
       "    // our purposes (turning an active figure into a static one), is too late.\n",
       "    var cells = IPython.notebook.get_cells();\n",
       "    var ncells = cells.length;\n",
       "    for (var i=0; i<ncells; i++) {\n",
       "        var cell = cells[i];\n",
       "        if (cell.cell_type === 'code'){\n",
       "            for (var j=0; j<cell.output_area.outputs.length; j++) {\n",
       "                var data = cell.output_area.outputs[j];\n",
       "                if (data.data) {\n",
       "                    // IPython >= 3 moved mimebundle to data attribute of output\n",
       "                    data = data.data;\n",
       "                }\n",
       "                if (data['text/html'] == html_output) {\n",
       "                    return [cell, data, j];\n",
       "                }\n",
       "            }\n",
       "        }\n",
       "    }\n",
       "}\n",
       "\n",
       "// Register the function which deals with the matplotlib target/channel.\n",
       "// The kernel may be null if the page has been refreshed.\n",
       "if (IPython.notebook.kernel != null) {\n",
       "    IPython.notebook.kernel.comm_manager.register_target('matplotlib', mpl.mpl_figure_comm);\n",
       "}\n"
      ],
      "text/plain": [
       "<IPython.core.display.Javascript object>"
      ]
     },
     "metadata": {},
     "output_type": "display_data"
    },
    {
     "data": {
      "text/html": [
       "<img src=\"data:image/png;base64,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\" width=\"958.8889142907702\">"
      ],
      "text/plain": [
       "<IPython.core.display.HTML object>"
      ]
     },
     "metadata": {},
     "output_type": "display_data"
    }
   ],
   "source": [
    "%matplotlib notebook\n",
    "from IPython.core.display import display, HTML\n",
    "display(HTML(\"<style>.container { width:75% !important; }</style>\"))\n",
    "pw.updateplot()"
   ]
  },
  {
   "cell_type": "markdown",
   "metadata": {},
   "source": [
    "### Advanced Instructions:\n",
    "\n",
    "1. __Coordinate System__ sets the crs used in the map projection. The default value is *spherical* which uses EPSG:3857. *Geo* can also be entered for a standard mercator projection (ESPG:4326). A custom CRS can be used by entering the EPSG integer. For example, *5940* (a crs designed for Russia) can be entered to avoid having Russia wrap around the side of the map. Visit __[EPSG](https://epsg.io/3857)__ to find custom coordinate systems.\n",
    "\n",
    "2. __Number of Legend Columns__. *Default Value: 1*\n",
    "\n",
    "3. __Sort Legend By__ sorts the resources in the legend (not the size indicators) by either *alphabetical* or by the sum of the *capacity* of the resource for the selected country. *Default Value: capacity*\n",
    "\n",
    "4. __Zoom Level__ changes the size of the map portion of the plot. This can be useful to adjust the map for different sized screens, or to provide a bigger map for the purpose of saving. *__WARNING:__* making this value large enough to produce an image wider than the width of the console will result in erratic results! *Default Value: 1.5*\n",
    "\n",
    "5. __Island Size Thresh__ creates a minimum threshold (in km^2) for the geometry of islands to be included in the map. *largest* can also be entered to only select the largest geometry for the country. For example, plotting Canada with the default values includes a number of arctic islands that are useless for the purpose of a power plant map (sorry Baffin island). Setting __Island Size Thresh__ to either *largest* or *8000000* will only display the continental portions of Canada. *Default Value: 200 (km^2)*\n",
    "\n",
    "6. __Show Populated Places__ can be used to draw points on the map in the location of populated cities. Data is drawn from the __[Natural Earth](https://www.naturalearthdata.com/downloads/10m-cultural-vectors/10m-populated-places/)__ database of populated places which includes data for an astonishing number of locations. Additionally, arrows are drawn labeling the name of these points (*__HINT:__* these labels are draggable, although it doesn't work the best!). __Show Populated Places__ can either be *False* (i.e. off), or an integer value which sets the minimum population threshold for a city to be included on the map. *Default Value: False*\n",
    "\n",
    "7. __Bubble Opacity__ is used to change the opacity of the powerplant bubbles. Setting it lower can be useful for countries with a large number of overlapping bubbles (i.e. the United States). *1* is solid, lower values are more transparent. *Default Value: 0.5*\n",
    "\n",
    "8. __Country Precursor__ allows you to enter a word (or series of words) to appear before the country name in the title of the plot. For instance, if you entered 'Philippines' as the __Country Name__ but want the title to be 'Power Plants in The Philippines' you could enter *\"The \"* into __Country Precursor__. *Default Value: None*"
   ]
  },
  {
   "cell_type": "code",
   "execution_count": 3,
   "metadata": {},
   "outputs": [
    {
     "data": {
      "application/vnd.jupyter.widget-view+json": {
       "model_id": "e024971a6e9a4d508ea10edeb09bc6dc",
       "version_major": 2,
       "version_minor": 0
      },
      "text/plain": [
       "Text(value='spherical', description='Coordinate System:', placeholder='Type something', style=DescriptionStyle…"
      ]
     },
     "metadata": {},
     "output_type": "display_data"
    },
    {
     "data": {
      "application/vnd.jupyter.widget-view+json": {
       "model_id": "2bafa6351b9045a2a9bf212871912c7e",
       "version_major": 2,
       "version_minor": 0
      },
      "text/plain": [
       "IntSlider(value=1, continuous_update=False, description='Number of Legend Columns:', max=3, min=1, style=Slide…"
      ]
     },
     "metadata": {},
     "output_type": "display_data"
    },
    {
     "data": {
      "application/vnd.jupyter.widget-view+json": {
       "model_id": "51014d006bb84891bead873351ff1d01",
       "version_major": 2,
       "version_minor": 0
      },
      "text/plain": [
       "Dropdown(description='Sort Legend By:', options=('capacity', 'alphabetical'), style=DescriptionStyle(descripti…"
      ]
     },
     "metadata": {},
     "output_type": "display_data"
    },
    {
     "data": {
      "application/vnd.jupyter.widget-view+json": {
       "model_id": "7d20ae9a5a024904b73d29284e391e86",
       "version_major": 2,
       "version_minor": 0
      },
      "text/plain": [
       "FloatSlider(value=1.5, continuous_update=False, description='Zoom Level:', max=3.0, min=0.5, readout_format='.…"
      ]
     },
     "metadata": {},
     "output_type": "display_data"
    },
    {
     "data": {
      "application/vnd.jupyter.widget-view+json": {
       "model_id": "671feb368ed64d689200326fc1bca844",
       "version_major": 2,
       "version_minor": 0
      },
      "text/plain": [
       "Text(value='200', description='Island Size Thresh:', placeholder='Type a island thresh', style=DescriptionStyl…"
      ]
     },
     "metadata": {},
     "output_type": "display_data"
    },
    {
     "data": {
      "application/vnd.jupyter.widget-view+json": {
       "model_id": "34014df9fcdc47df8e33f6b7b35b0974",
       "version_major": 2,
       "version_minor": 0
      },
      "text/plain": [
       "Text(value='False', description='Show Populated Places:', placeholder='Type something', style=DescriptionStyle…"
      ]
     },
     "metadata": {},
     "output_type": "display_data"
    },
    {
     "data": {
      "application/vnd.jupyter.widget-view+json": {
       "model_id": "0f486a410ccd413d903252616dc606f3",
       "version_major": 2,
       "version_minor": 0
      },
      "text/plain": [
       "FloatSlider(value=0.5, continuous_update=False, description='Bubble Opacity:', max=1.0, readout_format='.1f', …"
      ]
     },
     "metadata": {},
     "output_type": "display_data"
    },
    {
     "data": {
      "application/vnd.jupyter.widget-view+json": {
       "model_id": "b6834b9c61d04288a1fbe38a0249b998",
       "version_major": 2,
       "version_minor": 0
      },
      "text/plain": [
       "Text(value='', description='Country Precursor:', placeholder='Precursor to Country Name', style=DescriptionSty…"
      ]
     },
     "metadata": {},
     "output_type": "display_data"
    }
   ],
   "source": [
    "pw.showadvancedwidgets()"
   ]
  },
  {
   "cell_type": "markdown",
   "metadata": {},
   "source": [
    "Powerplant data from: \n",
    "Global Energy Observatory, Google, KTH Royal Institute of Technology in Stockholm, Enipedia, World Resources Institute. 2018. Global Power Plant Database. Published on Resource Watch and Google Earth Engine; http://resourcewatch.org/ https://earthengine.google.com/\n",
    "\n",
    "\n",
    "Written in &#128013; with &#128149; by Sam Koebrich for the National Renewable Energy Laboratory."
   ]
  },
  {
   "cell_type": "code",
   "execution_count": 3,
   "metadata": {},
   "outputs": [
    {
     "data": {
      "text/html": [
       "<script>\n",
       "    // AUTORUN ALL CELLS ON NOTEBOOK-LOAD!\n",
       "    require(\n",
       "        ['base/js/namespace', 'jquery'], \n",
       "        function(jupyter, $) {\n",
       "            $(jupyter.events).on(\"kernel_ready.Kernel\", function () {\n",
       "                console.log(\"Auto-running all cells-below...\");\n",
       "                jupyter.actions.call('jupyter-notebook:run-all-cells-below');\n",
       "                jupyter.actions.call('jupyter-notebook:save-notebook');\n",
       "            });\n",
       "        }\n",
       "    );\n",
       "</script>"
      ],
      "text/plain": [
       "<IPython.core.display.HTML object>"
      ]
     },
     "metadata": {},
     "output_type": "display_data"
    }
   ],
   "source": [
    "%%html\n",
    "<script>\n",
    "    // AUTORUN ALL CELLS ON NOTEBOOK-LOAD!\n",
    "    require(\n",
    "        ['base/js/namespace', 'jquery'], \n",
    "        function(jupyter, $) {\n",
    "            $(jupyter.events).on(\"kernel_ready.Kernel\", function () {\n",
    "                console.log(\"Auto-running all cells-below...\");\n",
    "                jupyter.actions.call('jupyter-notebook:run-all-cells-below');\n",
    "                jupyter.actions.call('jupyter-notebook:save-notebook');\n",
    "            });\n",
    "        }\n",
    "    );\n",
    "</script>"
   ]
  },
  {
   "cell_type": "code",
   "execution_count": null,
   "metadata": {},
   "outputs": [],
   "source": []
  }
 ],
 "metadata": {
  "kernelspec": {
   "display_name": "Python 3",
   "language": "python",
   "name": "python3"
  },
  "language_info": {
   "codemirror_mode": {
    "name": "ipython",
    "version": 3
   },
   "file_extension": ".py",
   "mimetype": "text/x-python",
   "name": "python",
   "nbconvert_exporter": "python",
   "pygments_lexer": "ipython3",
   "version": "3.6.5"
  },
  "widgets": {
   "application/vnd.jupyter.widget-state+json": {
    "state": {
     "02b8a3844d794aed9133f3180581b508": {
      "model_module": "@jupyter-widgets/base",
      "model_module_version": "1.0.0",
      "model_name": "LayoutModel",
      "state": {}
     },
     "058d54805c20450eafbc9db231c5c754": {
      "model_module": "@jupyter-widgets/controls",
      "model_module_version": "1.2.0",
      "model_name": "DescriptionStyleModel",
      "state": {
       "description_width": "initial"
      }
     },
     "05cf403f1c984ed785a57914e07b3ed4": {
      "model_module": "@jupyter-widgets/base",
      "model_module_version": "1.0.0",
      "model_name": "LayoutModel",
      "state": {
       "height": "80px",
       "width": "70%"
      }
     },
     "07d4e4a18cc346ce93b9a10849d918d9": {
      "model_module": "@jupyter-widgets/base",
      "model_module_version": "1.0.0",
      "model_name": "LayoutModel",
      "state": {
       "height": "80px",
       "width": "70%"
      }
     },
     "0a158a000eb841de97f47b8ee7f14c5a": {
      "model_module": "@jupyter-widgets/base",
      "model_module_version": "1.0.0",
      "model_name": "LayoutModel",
      "state": {}
     },
     "0beff752fed84020bc817f17c2ecaa1d": {
      "model_module": "@jupyter-widgets/base",
      "model_module_version": "1.0.0",
      "model_name": "LayoutModel",
      "state": {}
     },
     "0f486a410ccd413d903252616dc606f3": {
      "model_module": "@jupyter-widgets/controls",
      "model_module_version": "1.2.0",
      "model_name": "FloatSliderModel",
      "state": {
       "continuous_update": false,
       "description": "Bubble Opacity:",
       "layout": "IPY_MODEL_ed748724e69043e6b6b9290c21e750fc",
       "max": 1,
       "readout_format": ".1f",
       "step": 0.1,
       "style": "IPY_MODEL_1a4ed045f62748fbb73330749aa865ba",
       "value": 0.5
      }
     },
     "10939cd7c0ba4b7f813bbd234f5886ca": {
      "model_module": "@jupyter-widgets/controls",
      "model_module_version": "1.2.0",
      "model_name": "DescriptionStyleModel",
      "state": {
       "description_width": "initial"
      }
     },
     "109d31f70ca84d888591250c0905c01c": {
      "model_module": "@jupyter-widgets/base",
      "model_module_version": "1.0.0",
      "model_name": "LayoutModel",
      "state": {}
     },
     "10d2814d3e2a4514be2f21a0f26f9f9a": {
      "model_module": "@jupyter-widgets/controls",
      "model_module_version": "1.2.0",
      "model_name": "ButtonStyleModel",
      "state": {}
     },
     "12b8b3adb0454383bb82c961e846082a": {
      "model_module": "@jupyter-widgets/controls",
      "model_module_version": "1.2.0",
      "model_name": "SliderStyleModel",
      "state": {
       "description_width": "initial"
      }
     },
     "12e0922dd6844b0badf0173a79d455ba": {
      "model_module": "@jupyter-widgets/base",
      "model_module_version": "1.0.0",
      "model_name": "LayoutModel",
      "state": {}
     },
     "14e316bba7b646ec8d29b2f2b9376a70": {
      "model_module": "@jupyter-widgets/controls",
      "model_module_version": "1.2.0",
      "model_name": "DropdownModel",
      "state": {
       "_options_labels": [
        "capacity",
        "alphabetical"
       ],
       "description": "Sort Legend By:",
       "index": 0,
       "layout": "IPY_MODEL_40d16b65d8df44c4b895c47fa60b5ba9",
       "style": "IPY_MODEL_7b7d7fa6e7a34a5daa8b2d4705aa3538"
      }
     },
     "16b0c417099e4e1fb9797faaf460cdab": {
      "model_module": "@jupyter-widgets/controls",
      "model_module_version": "1.2.0",
      "model_name": "DescriptionStyleModel",
      "state": {
       "description_width": "initial"
      }
     },
     "17001cca00194e0cafdee261752dbcdd": {
      "model_module": "@jupyter-widgets/base",
      "model_module_version": "1.0.0",
      "model_name": "LayoutModel",
      "state": {}
     },
     "1a4944b730414972b8e78ccc5f174728": {
      "model_module": "@jupyter-widgets/controls",
      "model_module_version": "1.2.0",
      "model_name": "SliderStyleModel",
      "state": {
       "description_width": "initial"
      }
     },
     "1a4ed045f62748fbb73330749aa865ba": {
      "model_module": "@jupyter-widgets/controls",
      "model_module_version": "1.2.0",
      "model_name": "SliderStyleModel",
      "state": {
       "description_width": "initial"
      }
     },
     "1b0ea0b2b7464ed1b8cbe979839ced9b": {
      "model_module": "@jupyter-widgets/base",
      "model_module_version": "1.0.0",
      "model_name": "LayoutModel",
      "state": {}
     },
     "1b1af95fda874a35830da77937472a16": {
      "model_module": "@jupyter-widgets/controls",
      "model_module_version": "1.2.0",
      "model_name": "DescriptionStyleModel",
      "state": {
       "description_width": "initial"
      }
     },
     "1f0ee5c34001498fbcde7e7ca6c8f9e5": {
      "model_module": "@jupyter-widgets/base",
      "model_module_version": "1.0.0",
      "model_name": "LayoutModel",
      "state": {}
     },
     "1fabb84a19d34e9db16d7f6fafc80d51": {
      "model_module": "@jupyter-widgets/controls",
      "model_module_version": "1.2.0",
      "model_name": "ButtonModel",
      "state": {
       "description": "Update Plot",
       "icon": "check",
       "layout": "IPY_MODEL_7f9bf6dbe7e14010b2690230fa643a59",
       "style": "IPY_MODEL_94a880a70bfd4aacb4ba03bf1d59ae92",
       "tooltip": "Update Plot"
      }
     },
     "23326e45c0584ff49f26ca3405dc269c": {
      "model_module": "@jupyter-widgets/controls",
      "model_module_version": "1.2.0",
      "model_name": "DescriptionStyleModel",
      "state": {
       "description_width": "initial"
      }
     },
     "27923732d28842fb833d024bd04ffcef": {
      "model_module": "@jupyter-widgets/controls",
      "model_module_version": "1.2.0",
      "model_name": "ToggleButtonsStyleModel",
      "state": {
       "button_width": "",
       "description_width": "initial"
      }
     },
     "29add54988604a7999b603dd9cb7d054": {
      "model_module": "@jupyter-widgets/controls",
      "model_module_version": "1.2.0",
      "model_name": "TextModel",
      "state": {
       "description": "Country Name:",
       "layout": "IPY_MODEL_12e0922dd6844b0badf0173a79d455ba",
       "placeholder": "Type a country name",
       "style": "IPY_MODEL_a93b116b59be4920bb2e511b49aa7f77",
       "value": "India"
      }
     },
     "2a3164795ea544ecb3999fe612ee5414": {
      "model_module": "@jupyter-widgets/base",
      "model_module_version": "1.0.0",
      "model_name": "LayoutModel",
      "state": {
       "height": "80px",
       "width": "70%"
      }
     },
     "2bafa6351b9045a2a9bf212871912c7e": {
      "model_module": "@jupyter-widgets/controls",
      "model_module_version": "1.2.0",
      "model_name": "IntSliderModel",
      "state": {
       "continuous_update": false,
       "description": "Number of Legend Columns:",
       "layout": "IPY_MODEL_73c61e62236546379381715c89153640",
       "max": 3,
       "min": 1,
       "style": "IPY_MODEL_a8af5a4db811411db959cbfd18d59ad6",
       "value": 1
      }
     },
     "2d8014c48b5a4740b47b895f621dc9a1": {
      "model_module": "@jupyter-widgets/controls",
      "model_module_version": "1.2.0",
      "model_name": "ButtonStyleModel",
      "state": {}
     },
     "2fe415dc7de54d6190176de0a7175b33": {
      "model_module": "@jupyter-widgets/controls",
      "model_module_version": "1.2.0",
      "model_name": "DescriptionStyleModel",
      "state": {
       "description_width": "initial"
      }
     },
     "30d6471269fc40a1a4f860fdfc8b610e": {
      "model_module": "@jupyter-widgets/base",
      "model_module_version": "1.0.0",
      "model_name": "LayoutModel",
      "state": {}
     },
     "3125f5cd27a7450c98c9f988dd85cb7f": {
      "model_module": "@jupyter-widgets/controls",
      "model_module_version": "1.2.0",
      "model_name": "DropdownModel",
      "state": {
       "_options_labels": [
        "capacity",
        "alphabetical"
       ],
       "description": "Sort Legend By:",
       "index": 0,
       "layout": "IPY_MODEL_49bd67dc24854b889918a23b15b00f85",
       "style": "IPY_MODEL_a750b2ac585544419b8e637c8e885f82"
      }
     },
     "31350430751643e5814fc8980af761cc": {
      "model_module": "@jupyter-widgets/controls",
      "model_module_version": "1.2.0",
      "model_name": "TextModel",
      "state": {
       "description": "Coordinate System:",
       "layout": "IPY_MODEL_53d81026ac3646c2814129596f41f012",
       "placeholder": "Type something",
       "style": "IPY_MODEL_ef32c488276b4ee49436f14c7eb80224",
       "value": "spherical"
      }
     },
     "339ee14ddd864efabafa4777e196b00d": {
      "model_module": "@jupyter-widgets/controls",
      "model_module_version": "1.2.0",
      "model_name": "DescriptionStyleModel",
      "state": {
       "description_width": "initial"
      }
     },
     "34014df9fcdc47df8e33f6b7b35b0974": {
      "model_module": "@jupyter-widgets/controls",
      "model_module_version": "1.2.0",
      "model_name": "TextModel",
      "state": {
       "description": "Show Populated Places:",
       "layout": "IPY_MODEL_109d31f70ca84d888591250c0905c01c",
       "placeholder": "Type something",
       "style": "IPY_MODEL_16b0c417099e4e1fb9797faaf460cdab",
       "value": "False"
      }
     },
     "358b85675660437d91780d8aa0097a00": {
      "model_module": "@jupyter-widgets/base",
      "model_module_version": "1.0.0",
      "model_name": "LayoutModel",
      "state": {}
     },
     "366cec21c9064cc4b475d2ab927a07f7": {
      "model_module": "@jupyter-widgets/controls",
      "model_module_version": "1.2.0",
      "model_name": "IntSliderModel",
      "state": {
       "continuous_update": false,
       "description": "DPI (resolution):",
       "layout": "IPY_MODEL_591839c9b4f141d5a28d4cf3452b40c6",
       "max": 500,
       "min": 100,
       "style": "IPY_MODEL_9afbc86f13914158a03d293a830ee70d",
       "value": 300
      }
     },
     "36eae348f7224cb1b05bee38a1c2be8c": {
      "model_module": "@jupyter-widgets/controls",
      "model_module_version": "1.2.0",
      "model_name": "DescriptionStyleModel",
      "state": {
       "description_width": "initial"
      }
     },
     "375fcecc1872407f98f0cf7ca4cd416d": {
      "model_module": "@jupyter-widgets/controls",
      "model_module_version": "1.2.0",
      "model_name": "TextModel",
      "state": {
       "description": "Coordinate System:",
       "layout": "IPY_MODEL_e9305f35e0fd483887baf0b326df7b95",
       "placeholder": "Type something",
       "style": "IPY_MODEL_ae3b3f6fbb1a4b26b0ffe7d4b9f72de8",
       "value": "spherical"
      }
     },
     "3b02cbdca733420bb0abb22b3b073d07": {
      "model_module": "@jupyter-widgets/controls",
      "model_module_version": "1.2.0",
      "model_name": "TextModel",
      "state": {
       "description": "Show Populated Places:",
       "layout": "IPY_MODEL_d4ad19b8a2f04f589aa20a7ccc92ac75",
       "placeholder": "Type something",
       "style": "IPY_MODEL_9ab1fe573e8445949f69aa4030771271",
       "value": "False"
      }
     },
     "3bcdc2e9071e47f6b59fef3edfba57ad": {
      "model_module": "@jupyter-widgets/controls",
      "model_module_version": "1.2.0",
      "model_name": "DescriptionStyleModel",
      "state": {
       "description_width": "initial"
      }
     },
     "3c96f40bfe404913bb8a556bc94eceb5": {
      "model_module": "@jupyter-widgets/controls",
      "model_module_version": "1.2.0",
      "model_name": "FloatSliderModel",
      "state": {
       "continuous_update": false,
       "description": "Zoom Level:",
       "layout": "IPY_MODEL_dbbfa7595efb435a920d2df2c4ed014f",
       "max": 3,
       "min": 0.5,
       "readout_format": ".1f",
       "step": 0.1,
       "style": "IPY_MODEL_d125a30ae17d43409f6d391ec5d09566",
       "value": 1.5
      }
     },
     "3ce25d4b89904195985c5a22c00a3658": {
      "model_module": "@jupyter-widgets/base",
      "model_module_version": "1.0.0",
      "model_name": "LayoutModel",
      "state": {}
     },
     "3f50e791dfe84c56971a0e3510ab2462": {
      "model_module": "@jupyter-widgets/base",
      "model_module_version": "1.0.0",
      "model_name": "LayoutModel",
      "state": {}
     },
     "40d16b65d8df44c4b895c47fa60b5ba9": {
      "model_module": "@jupyter-widgets/base",
      "model_module_version": "1.0.0",
      "model_name": "LayoutModel",
      "state": {}
     },
     "432a103699904db7963d0a9bbc7e17f2": {
      "model_module": "@jupyter-widgets/controls",
      "model_module_version": "1.2.0",
      "model_name": "ButtonModel",
      "state": {
       "description": "Update Plot",
       "icon": "check",
       "layout": "IPY_MODEL_07d4e4a18cc346ce93b9a10849d918d9",
       "style": "IPY_MODEL_5db54fa15a92462eaef5fb688a8e939b",
       "tooltip": "Update Plot"
      }
     },
     "43d02a41bd7a4de4992b058737b6302f": {
      "model_module": "@jupyter-widgets/controls",
      "model_module_version": "1.2.0",
      "model_name": "TextModel",
      "state": {
       "description": "Path to save to:",
       "layout": "IPY_MODEL_7d8d5133f57346deb21974a0a242f2ee",
       "placeholder": "Type the complete path to save to",
       "style": "IPY_MODEL_a723d99706924ff7a0ca2a6ef05b9924",
       "value": "/Users/skoebric/Downloads/XYZ.png"
      }
     },
     "44db9351f5b24a118a8d9b80d4cd7037": {
      "model_module": "@jupyter-widgets/controls",
      "model_module_version": "1.2.0",
      "model_name": "DescriptionStyleModel",
      "state": {
       "description_width": "initial"
      }
     },
     "46278d5b091c4166b3984f0c245bad2d": {
      "model_module": "@jupyter-widgets/controls",
      "model_module_version": "1.2.0",
      "model_name": "TextModel",
      "state": {
       "description": "Path to save to:",
       "layout": "IPY_MODEL_7ddc92e61fbc4f82990fbe5d0bb632c6",
       "placeholder": "Type the complete path to save to",
       "style": "IPY_MODEL_a0167f6a4d574f0ab63d52658e485f1d",
       "value": "/Users/skoebric/Downloads/XYZ.png"
      }
     },
     "46834292510b46f3a806a189b6851cfd": {
      "model_module": "@jupyter-widgets/base",
      "model_module_version": "1.0.0",
      "model_name": "LayoutModel",
      "state": {}
     },
     "46ae4478c31f4e94b1935ac9d06f4320": {
      "model_module": "@jupyter-widgets/controls",
      "model_module_version": "1.2.0",
      "model_name": "TextModel",
      "state": {
       "description": "Island Size Thresh:",
       "layout": "IPY_MODEL_0a158a000eb841de97f47b8ee7f14c5a",
       "placeholder": "Type a island thresh",
       "style": "IPY_MODEL_c17885a9718b4721bbbfab07543fd658",
       "value": "200"
      }
     },
     "49b6b75d5bd347c89286ebffd49e3f9a": {
      "model_module": "@jupyter-widgets/controls",
      "model_module_version": "1.2.0",
      "model_name": "ButtonModel",
      "state": {
       "description": "Update Plot",
       "icon": "check",
       "layout": "IPY_MODEL_a22c4e081b5f414d878555709e742130",
       "style": "IPY_MODEL_63188a9729fe43bfbf3d484000133813",
       "tooltip": "Update Plot"
      }
     },
     "49bd67dc24854b889918a23b15b00f85": {
      "model_module": "@jupyter-widgets/base",
      "model_module_version": "1.0.0",
      "model_name": "LayoutModel",
      "state": {}
     },
     "4ab81f5bc0784995b4845a8d39b21895": {
      "model_module": "@jupyter-widgets/controls",
      "model_module_version": "1.2.0",
      "model_name": "ToggleButtonsStyleModel",
      "state": {
       "button_width": "",
       "description_width": "initial"
      }
     },
     "4ec3e174451741f9b57b5e2bfa9fa7e4": {
      "model_module": "@jupyter-widgets/base",
      "model_module_version": "1.0.0",
      "model_name": "LayoutModel",
      "state": {}
     },
     "4f257e99d3e949af99805896f656097d": {
      "model_module": "@jupyter-widgets/base",
      "model_module_version": "1.0.0",
      "model_name": "LayoutModel",
      "state": {}
     },
     "4f67f5e54e9848f2a29055f2338e10eb": {
      "model_module": "@jupyter-widgets/controls",
      "model_module_version": "1.2.0",
      "model_name": "ButtonModel",
      "state": {
       "description": "Update Plot",
       "icon": "check",
       "layout": "IPY_MODEL_b02c35743def4136a7294be2dd34fb32",
       "style": "IPY_MODEL_9a93d7bdd7c94b129d96672b4b55ee04",
       "tooltip": "Update Plot"
      }
     },
     "51014d006bb84891bead873351ff1d01": {
      "model_module": "@jupyter-widgets/controls",
      "model_module_version": "1.2.0",
      "model_name": "DropdownModel",
      "state": {
       "_options_labels": [
        "capacity",
        "alphabetical"
       ],
       "description": "Sort Legend By:",
       "index": 0,
       "layout": "IPY_MODEL_80a60a4f0d544959bb6b9dbda2230dc4",
       "style": "IPY_MODEL_a605d0d3081642aeb98a5b8209c792d3"
      }
     },
     "5221a1a38da04a329dd1d360ddc1ec4d": {
      "model_module": "@jupyter-widgets/controls",
      "model_module_version": "1.2.0",
      "model_name": "SliderStyleModel",
      "state": {
       "description_width": "initial"
      }
     },
     "53d81026ac3646c2814129596f41f012": {
      "model_module": "@jupyter-widgets/base",
      "model_module_version": "1.0.0",
      "model_name": "LayoutModel",
      "state": {}
     },
     "57f98d81985943ebb9233853dd4a23f0": {
      "model_module": "@jupyter-widgets/controls",
      "model_module_version": "1.2.0",
      "model_name": "ToggleButtonsStyleModel",
      "state": {
       "button_width": "",
       "description_width": "initial"
      }
     },
     "591839c9b4f141d5a28d4cf3452b40c6": {
      "model_module": "@jupyter-widgets/base",
      "model_module_version": "1.0.0",
      "model_name": "LayoutModel",
      "state": {}
     },
     "59420138f5c443688f9971e1e65bcff6": {
      "model_module": "@jupyter-widgets/controls",
      "model_module_version": "1.2.0",
      "model_name": "DescriptionStyleModel",
      "state": {
       "description_width": "initial"
      }
     },
     "59a4ff60ebaa4d40af2dd5a5325f89c1": {
      "model_module": "@jupyter-widgets/base",
      "model_module_version": "1.0.0",
      "model_name": "LayoutModel",
      "state": {}
     },
     "5b7ce13e79aa4ab0b9b4c5f6bfd15ec3": {
      "model_module": "@jupyter-widgets/controls",
      "model_module_version": "1.2.0",
      "model_name": "FloatSliderModel",
      "state": {
       "continuous_update": false,
       "description": "Zoom Level:",
       "layout": "IPY_MODEL_86180b5f6c09448e9405b0dd50cb83be",
       "max": 3,
       "min": 0.5,
       "readout_format": ".1f",
       "step": 0.1,
       "style": "IPY_MODEL_c1761a83c028452db93416353cb004ba",
       "value": 1.3
      }
     },
     "5b819e0b42f34b1e9730fbd28fe6d8d1": {
      "model_module": "@jupyter-widgets/controls",
      "model_module_version": "1.2.0",
      "model_name": "TextModel",
      "state": {
       "description": "Island Size Thresh:",
       "layout": "IPY_MODEL_c870c16b581947f49459fff4f5bcad37",
       "placeholder": "Type a island thresh",
       "style": "IPY_MODEL_f3b74ccd814b427fb5383b5f00c6e23d",
       "value": "200"
      }
     },
     "5d5c70c261a14357b167e42fc1d21d6f": {
      "model_module": "@jupyter-widgets/controls",
      "model_module_version": "1.2.0",
      "model_name": "ButtonStyleModel",
      "state": {}
     },
     "5d7a958c50e648eb89e831310f889020": {
      "model_module": "@jupyter-widgets/controls",
      "model_module_version": "1.2.0",
      "model_name": "TextModel",
      "state": {
       "description": "Path to save to:",
       "layout": "IPY_MODEL_1f0ee5c34001498fbcde7e7ca6c8f9e5",
       "placeholder": "Type the complete path to save to",
       "style": "IPY_MODEL_6af47c5cf079478dab6b79b1a0a6afa1",
       "value": "/Users/skoebric/Downloads/XYZ.png"
      }
     },
     "5d8481f9b3834ec3afe531a153110000": {
      "model_module": "@jupyter-widgets/base",
      "model_module_version": "1.0.0",
      "model_name": "LayoutModel",
      "state": {
       "height": "80px",
       "width": "70%"
      }
     },
     "5db54fa15a92462eaef5fb688a8e939b": {
      "model_module": "@jupyter-widgets/controls",
      "model_module_version": "1.2.0",
      "model_name": "ButtonStyleModel",
      "state": {}
     },
     "5dc99c4918fa40c5bbd1ee3d60fc3644": {
      "model_module": "@jupyter-widgets/base",
      "model_module_version": "1.0.0",
      "model_name": "LayoutModel",
      "state": {}
     },
     "5fcb70cac1cf48d3a57d9f2586e10033": {
      "model_module": "@jupyter-widgets/base",
      "model_module_version": "1.0.0",
      "model_name": "LayoutModel",
      "state": {
       "height": "80px",
       "width": "70%"
      }
     },
     "6224455a541843b1b4fd0ad4e24a5e86": {
      "model_module": "@jupyter-widgets/controls",
      "model_module_version": "1.2.0",
      "model_name": "IntSliderModel",
      "state": {
       "continuous_update": false,
       "description": "DPI (resolution):",
       "layout": "IPY_MODEL_59a4ff60ebaa4d40af2dd5a5325f89c1",
       "max": 500,
       "min": 100,
       "style": "IPY_MODEL_a863b76fab18496c98933ccd4bac1142",
       "value": 300
      }
     },
     "63188a9729fe43bfbf3d484000133813": {
      "model_module": "@jupyter-widgets/controls",
      "model_module_version": "1.2.0",
      "model_name": "ButtonStyleModel",
      "state": {}
     },
     "636f64dbb9194f27a7fcae8b377fedce": {
      "model_module": "@jupyter-widgets/controls",
      "model_module_version": "1.2.0",
      "model_name": "TextModel",
      "state": {
       "description": "Path to save to:",
       "layout": "IPY_MODEL_f1717553bcf44eeea4ad9964d002a26a",
       "placeholder": "Type the complete path to save to",
       "style": "IPY_MODEL_36eae348f7224cb1b05bee38a1c2be8c",
       "value": "/Users/skoebric/Downloads/XYZ.png"
      }
     },
     "64dea73eab154db69b1fb677d91c449f": {
      "model_module": "@jupyter-widgets/controls",
      "model_module_version": "1.2.0",
      "model_name": "FloatSliderModel",
      "state": {
       "continuous_update": false,
       "description": "Bubble Opacity:",
       "layout": "IPY_MODEL_46834292510b46f3a806a189b6851cfd",
       "max": 1,
       "readout_format": ".1f",
       "step": 0.1,
       "style": "IPY_MODEL_a9c8648bf0244eb8968597be79d0b4d7",
       "value": 0.5
      }
     },
     "65ef3fe9c86d4f409473ed7b0b488939": {
      "model_module": "@jupyter-widgets/base",
      "model_module_version": "1.0.0",
      "model_name": "LayoutModel",
      "state": {}
     },
     "671feb368ed64d689200326fc1bca844": {
      "model_module": "@jupyter-widgets/controls",
      "model_module_version": "1.2.0",
      "model_name": "TextModel",
      "state": {
       "description": "Island Size Thresh:",
       "layout": "IPY_MODEL_5dc99c4918fa40c5bbd1ee3d60fc3644",
       "placeholder": "Type a island thresh",
       "style": "IPY_MODEL_d5db70abe66a463cbcbc4c14ffeb3fbe",
       "value": "200"
      }
     },
     "69a2869d50cc4cb2a41eafc70b4f41d2": {
      "model_module": "@jupyter-widgets/controls",
      "model_module_version": "1.2.0",
      "model_name": "TextModel",
      "state": {
       "description": "Country Name:",
       "layout": "IPY_MODEL_ee930139d1f047a8a177b19da9b7eaae",
       "placeholder": "Type a country name",
       "style": "IPY_MODEL_23326e45c0584ff49f26ca3405dc269c",
       "value": "India"
      }
     },
     "6a24a82825eb4236aa0bb3cd20d4809e": {
      "model_module": "@jupyter-widgets/controls",
      "model_module_version": "1.2.0",
      "model_name": "ButtonModel",
      "state": {
       "description": "Update Plot",
       "icon": "check",
       "layout": "IPY_MODEL_2a3164795ea544ecb3999fe612ee5414",
       "style": "IPY_MODEL_eab0ba454c37404891d7818f67598e53",
       "tooltip": "Update Plot"
      }
     },
     "6af47c5cf079478dab6b79b1a0a6afa1": {
      "model_module": "@jupyter-widgets/controls",
      "model_module_version": "1.2.0",
      "model_name": "DescriptionStyleModel",
      "state": {
       "description_width": "initial"
      }
     },
     "6b9437aecae346fd88c73379052f7c40": {
      "model_module": "@jupyter-widgets/controls",
      "model_module_version": "1.2.0",
      "model_name": "ButtonStyleModel",
      "state": {}
     },
     "6e5bca7f6dbb46a1a4dd72e0e5c4adb7": {
      "model_module": "@jupyter-widgets/controls",
      "model_module_version": "1.2.0",
      "model_name": "DescriptionStyleModel",
      "state": {
       "description_width": "initial"
      }
     },
     "71dc84637a1a4a5fa09721663c609035": {
      "model_module": "@jupyter-widgets/controls",
      "model_module_version": "1.2.0",
      "model_name": "IntSliderModel",
      "state": {
       "continuous_update": false,
       "description": "Number of Legend Columns:",
       "layout": "IPY_MODEL_8a792adcdcd24b42baa0d3518b64bb69",
       "max": 3,
       "min": 1,
       "style": "IPY_MODEL_5221a1a38da04a329dd1d360ddc1ec4d",
       "value": 1
      }
     },
     "72e371d069bb4da9a2dbc7143650aec3": {
      "model_module": "@jupyter-widgets/controls",
      "model_module_version": "1.2.0",
      "model_name": "ButtonModel",
      "state": {
       "description": "Update Plot",
       "icon": "check",
       "layout": "IPY_MODEL_d95b60d2d0bb496fb9de8de820725ea7",
       "style": "IPY_MODEL_ade1275f884b4e1da9e7f726b20d9fbe",
       "tooltip": "Update Plot"
      }
     },
     "73c61e62236546379381715c89153640": {
      "model_module": "@jupyter-widgets/base",
      "model_module_version": "1.0.0",
      "model_name": "LayoutModel",
      "state": {}
     },
     "74ac13abc0a746b88d82ff69f483e592": {
      "model_module": "@jupyter-widgets/controls",
      "model_module_version": "1.2.0",
      "model_name": "ToggleButtonsModel",
      "state": {
       "_options_labels": [
        "Simple",
        "Mixed",
        "Complex"
       ],
       "button_style": "",
       "description": "Simplification Level:",
       "icons": [],
       "index": 1,
       "layout": "IPY_MODEL_358b85675660437d91780d8aa0097a00",
       "style": "IPY_MODEL_c44f3f66ec554097bfc60ee48f027378",
       "tooltips": [
        "Renewables, Fossil, and Nuclear",
        "Solar, Wind, Hydro, Geothermal,Biomass, Wave and Tidal,\n Storage, Fossil, Nuclear",
        "Solar, Wind, Hydro, Geothermal,Biomass, Wave and Tidal,\n Storage, Fossil, Nuclear, Coal, Gas, Oil, Waste, Cogeneration"
       ]
      }
     },
     "74ae4d6a8e554dd495161472cefba67f": {
      "model_module": "@jupyter-widgets/controls",
      "model_module_version": "1.2.0",
      "model_name": "IntSliderModel",
      "state": {
       "continuous_update": false,
       "description": "Number of Legend Columns:",
       "layout": "IPY_MODEL_e939a14180474b2782bf7f2024bc33aa",
       "max": 3,
       "min": 1,
       "style": "IPY_MODEL_cebc6e0301c447b5a6980e762b8105cb",
       "value": 1
      }
     },
     "75d38b2429324837a69e0a1ce0e2e67e": {
      "model_module": "@jupyter-widgets/controls",
      "model_module_version": "1.2.0",
      "model_name": "DescriptionStyleModel",
      "state": {
       "description_width": "initial"
      }
     },
     "7618737d939c4e36b0b4f5b7bb048297": {
      "model_module": "@jupyter-widgets/controls",
      "model_module_version": "1.2.0",
      "model_name": "SliderStyleModel",
      "state": {
       "description_width": "initial"
      }
     },
     "78e38ab79c874a74ab8522fd282f67fc": {
      "model_module": "@jupyter-widgets/base",
      "model_module_version": "1.0.0",
      "model_name": "LayoutModel",
      "state": {}
     },
     "7b690176320b4de4b69756517fcedee1": {
      "model_module": "@jupyter-widgets/controls",
      "model_module_version": "1.2.0",
      "model_name": "ButtonStyleModel",
      "state": {}
     },
     "7b7d7fa6e7a34a5daa8b2d4705aa3538": {
      "model_module": "@jupyter-widgets/controls",
      "model_module_version": "1.2.0",
      "model_name": "DescriptionStyleModel",
      "state": {
       "description_width": "initial"
      }
     },
     "7d20ae9a5a024904b73d29284e391e86": {
      "model_module": "@jupyter-widgets/controls",
      "model_module_version": "1.2.0",
      "model_name": "FloatSliderModel",
      "state": {
       "continuous_update": false,
       "description": "Zoom Level:",
       "layout": "IPY_MODEL_0beff752fed84020bc817f17c2ecaa1d",
       "max": 3,
       "min": 0.5,
       "readout_format": ".1f",
       "step": 0.1,
       "style": "IPY_MODEL_a2aeac8fd2a44505a83688aa0828e4ef",
       "value": 1.5
      }
     },
     "7d8d5133f57346deb21974a0a242f2ee": {
      "model_module": "@jupyter-widgets/base",
      "model_module_version": "1.0.0",
      "model_name": "LayoutModel",
      "state": {}
     },
     "7da1bcbd095e4333bd52e2821c255a5a": {
      "model_module": "@jupyter-widgets/base",
      "model_module_version": "1.0.0",
      "model_name": "LayoutModel",
      "state": {}
     },
     "7ddc92e61fbc4f82990fbe5d0bb632c6": {
      "model_module": "@jupyter-widgets/base",
      "model_module_version": "1.0.0",
      "model_name": "LayoutModel",
      "state": {}
     },
     "7e549bbdcc914a5dbb2f4f73a7501483": {
      "model_module": "@jupyter-widgets/controls",
      "model_module_version": "1.2.0",
      "model_name": "ButtonModel",
      "state": {
       "description": "Update Plot",
       "icon": "check",
       "layout": "IPY_MODEL_05cf403f1c984ed785a57914e07b3ed4",
       "style": "IPY_MODEL_5d5c70c261a14357b167e42fc1d21d6f",
       "tooltip": "Update Plot"
      }
     },
     "7f9bf6dbe7e14010b2690230fa643a59": {
      "model_module": "@jupyter-widgets/base",
      "model_module_version": "1.0.0",
      "model_name": "LayoutModel",
      "state": {
       "height": "80px",
       "width": "70%"
      }
     },
     "7fd399169c1b4b78953e4883039d919b": {
      "model_module": "@jupyter-widgets/controls",
      "model_module_version": "1.2.0",
      "model_name": "ButtonModel",
      "state": {
       "description": "Save Plot",
       "icon": "check",
       "layout": "IPY_MODEL_5fcb70cac1cf48d3a57d9f2586e10033",
       "style": "IPY_MODEL_2d8014c48b5a4740b47b895f621dc9a1",
       "tooltip": "Save Plot"
      }
     },
     "80584b831d434dbdbc7e902b8b24dae2": {
      "model_module": "@jupyter-widgets/controls",
      "model_module_version": "1.2.0",
      "model_name": "TextModel",
      "state": {
       "description": "Country Name:",
       "layout": "IPY_MODEL_c9d409efbcc64adfb585a74f16d55f1a",
       "placeholder": "Type a country name",
       "style": "IPY_MODEL_f0fce0215ce14a779d1d1b189dcd5b9b",
       "value": "India"
      }
     },
     "80a60a4f0d544959bb6b9dbda2230dc4": {
      "model_module": "@jupyter-widgets/base",
      "model_module_version": "1.0.0",
      "model_name": "LayoutModel",
      "state": {}
     },
     "846435c573dd4e8eabd4a80c555fb8fe": {
      "model_module": "@jupyter-widgets/controls",
      "model_module_version": "1.2.0",
      "model_name": "FloatSliderModel",
      "state": {
       "continuous_update": false,
       "description": "Zoom Level:",
       "layout": "IPY_MODEL_a9e64cc6a4e84f83b4a59dcb79cba70e",
       "max": 3,
       "min": 0.5,
       "readout_format": ".1f",
       "step": 0.1,
       "style": "IPY_MODEL_f5e200ea06ab4c90b79f56a68abc7ab3",
       "value": 1.5
      }
     },
     "848d71a376ff4d83a09b5f7f5c18dee7": {
      "model_module": "@jupyter-widgets/controls",
      "model_module_version": "1.2.0",
      "model_name": "FloatSliderModel",
      "state": {
       "continuous_update": false,
       "description": "Bubble Opacity:",
       "layout": "IPY_MODEL_8638caa2ac804152b752288b6fe7990e",
       "max": 1,
       "readout_format": ".1f",
       "step": 0.1,
       "style": "IPY_MODEL_12b8b3adb0454383bb82c961e846082a",
       "value": 0.5
      }
     },
     "86180b5f6c09448e9405b0dd50cb83be": {
      "model_module": "@jupyter-widgets/base",
      "model_module_version": "1.0.0",
      "model_name": "LayoutModel",
      "state": {}
     },
     "8638caa2ac804152b752288b6fe7990e": {
      "model_module": "@jupyter-widgets/base",
      "model_module_version": "1.0.0",
      "model_name": "LayoutModel",
      "state": {}
     },
     "8836b2a3d8a34e60946bc10cd65210f2": {
      "model_module": "@jupyter-widgets/controls",
      "model_module_version": "1.2.0",
      "model_name": "ButtonModel",
      "state": {
       "description": "Save Plot",
       "icon": "check",
       "layout": "IPY_MODEL_a44dd498dc6747bd86857fb7d5f9df5b",
       "style": "IPY_MODEL_10d2814d3e2a4514be2f21a0f26f9f9a",
       "tooltip": "Save Plot"
      }
     },
     "89ae9a7c40b34c319da0d0a71b1cf288": {
      "model_module": "@jupyter-widgets/controls",
      "model_module_version": "1.2.0",
      "model_name": "ButtonModel",
      "state": {
       "description": "Update Plot",
       "icon": "check",
       "layout": "IPY_MODEL_5d8481f9b3834ec3afe531a153110000",
       "style": "IPY_MODEL_7b690176320b4de4b69756517fcedee1",
       "tooltip": "Update Plot"
      }
     },
     "8a792adcdcd24b42baa0d3518b64bb69": {
      "model_module": "@jupyter-widgets/base",
      "model_module_version": "1.0.0",
      "model_name": "LayoutModel",
      "state": {}
     },
     "8e46a15b7e9248189c4bb5ecc5556f95": {
      "model_module": "@jupyter-widgets/controls",
      "model_module_version": "1.2.0",
      "model_name": "SliderStyleModel",
      "state": {
       "description_width": "initial"
      }
     },
     "94041037c4984306a39e2e3c519602e6": {
      "model_module": "@jupyter-widgets/base",
      "model_module_version": "1.0.0",
      "model_name": "LayoutModel",
      "state": {}
     },
     "94a880a70bfd4aacb4ba03bf1d59ae92": {
      "model_module": "@jupyter-widgets/controls",
      "model_module_version": "1.2.0",
      "model_name": "ButtonStyleModel",
      "state": {}
     },
     "969b72f9f7d64ad4b854e9a4fe99223a": {
      "model_module": "@jupyter-widgets/controls",
      "model_module_version": "1.2.0",
      "model_name": "DropdownModel",
      "state": {
       "_options_labels": [
        "capacity",
        "alphabetical"
       ],
       "description": "Sort Legend By:",
       "index": 0,
       "layout": "IPY_MODEL_bf2f14644d2d4417ba9ed3b44c01d22f",
       "style": "IPY_MODEL_59420138f5c443688f9971e1e65bcff6"
      }
     },
     "97389ded853a41938f1ce898908aee11": {
      "model_module": "@jupyter-widgets/controls",
      "model_module_version": "1.2.0",
      "model_name": "IntSliderModel",
      "state": {
       "continuous_update": false,
       "description": "DPI (resolution):",
       "layout": "IPY_MODEL_7da1bcbd095e4333bd52e2821c255a5a",
       "max": 500,
       "min": 100,
       "style": "IPY_MODEL_8e46a15b7e9248189c4bb5ecc5556f95",
       "value": 300
      }
     },
     "98b3e8a75cb244b1a50b5bff1eb0aff1": {
      "model_module": "@jupyter-widgets/base",
      "model_module_version": "1.0.0",
      "model_name": "LayoutModel",
      "state": {}
     },
     "98c2a89be7a043c4b91ced5cf7d22f51": {
      "model_module": "@jupyter-widgets/base",
      "model_module_version": "1.0.0",
      "model_name": "LayoutModel",
      "state": {
       "height": "80px",
       "width": "70%"
      }
     },
     "99a64a9c93d84a17a5c1384644a1ecc3": {
      "model_module": "@jupyter-widgets/controls",
      "model_module_version": "1.2.0",
      "model_name": "ButtonModel",
      "state": {
       "description": "Update Plot",
       "icon": "check",
       "layout": "IPY_MODEL_b9c568d290684f7aa4671947d77f8e21",
       "style": "IPY_MODEL_feb06c0c3e894536819e43823020e7db",
       "tooltip": "Update Plot"
      }
     },
     "9a93d7bdd7c94b129d96672b4b55ee04": {
      "model_module": "@jupyter-widgets/controls",
      "model_module_version": "1.2.0",
      "model_name": "ButtonStyleModel",
      "state": {}
     },
     "9ab1fe573e8445949f69aa4030771271": {
      "model_module": "@jupyter-widgets/controls",
      "model_module_version": "1.2.0",
      "model_name": "DescriptionStyleModel",
      "state": {
       "description_width": "initial"
      }
     },
     "9afbc86f13914158a03d293a830ee70d": {
      "model_module": "@jupyter-widgets/controls",
      "model_module_version": "1.2.0",
      "model_name": "SliderStyleModel",
      "state": {
       "description_width": "initial"
      }
     },
     "9b904e2e6e9342e2852f6de2aa4f9ebb": {
      "model_module": "@jupyter-widgets/controls",
      "model_module_version": "1.2.0",
      "model_name": "FloatSliderModel",
      "state": {
       "continuous_update": false,
       "description": "Bubble Opacity:",
       "layout": "IPY_MODEL_02b8a3844d794aed9133f3180581b508",
       "max": 1,
       "readout_format": ".1f",
       "step": 0.1,
       "style": "IPY_MODEL_9c7c305d475e478ebea7ac75a3f593ba",
       "value": 0.5
      }
     },
     "9c60bee8798a4e7f8c90d24960124e3c": {
      "model_module": "@jupyter-widgets/base",
      "model_module_version": "1.0.0",
      "model_name": "LayoutModel",
      "state": {}
     },
     "9c7c305d475e478ebea7ac75a3f593ba": {
      "model_module": "@jupyter-widgets/controls",
      "model_module_version": "1.2.0",
      "model_name": "SliderStyleModel",
      "state": {
       "description_width": "initial"
      }
     },
     "9c802342e3ef40c588c6d3260b452777": {
      "model_module": "@jupyter-widgets/controls",
      "model_module_version": "1.2.0",
      "model_name": "ToggleButtonsModel",
      "state": {
       "_options_labels": [
        "Simple",
        "Mixed",
        "Complex"
       ],
       "button_style": "",
       "description": "Simplification Level:",
       "icons": [],
       "index": 1,
       "layout": "IPY_MODEL_9c60bee8798a4e7f8c90d24960124e3c",
       "style": "IPY_MODEL_e783fc82ca5b4b76b58945a2eb559b84",
       "tooltips": [
        "Renewables, Fossil, and Nuclear",
        "Solar, Wind, Hydro, Geothermal,Biomass, Wave and Tidal,\n Storage, Fossil, Nuclear",
        "Solar, Wind, Hydro, Geothermal,Biomass, Wave and Tidal,\n Storage, Fossil, Nuclear, Coal, Gas, Oil, Waste, Cogeneration"
       ]
      }
     },
     "9da689946cf74d4bba483f5465628bd3": {
      "model_module": "@jupyter-widgets/controls",
      "model_module_version": "1.2.0",
      "model_name": "DescriptionStyleModel",
      "state": {
       "description_width": "initial"
      }
     },
     "a0167f6a4d574f0ab63d52658e485f1d": {
      "model_module": "@jupyter-widgets/controls",
      "model_module_version": "1.2.0",
      "model_name": "DescriptionStyleModel",
      "state": {
       "description_width": "initial"
      }
     },
     "a22c4e081b5f414d878555709e742130": {
      "model_module": "@jupyter-widgets/base",
      "model_module_version": "1.0.0",
      "model_name": "LayoutModel",
      "state": {
       "height": "80px",
       "width": "70%"
      }
     },
     "a2aeac8fd2a44505a83688aa0828e4ef": {
      "model_module": "@jupyter-widgets/controls",
      "model_module_version": "1.2.0",
      "model_name": "SliderStyleModel",
      "state": {
       "description_width": "initial"
      }
     },
     "a43deb5f4ea34220bc499ac5398b8bea": {
      "model_module": "@jupyter-widgets/controls",
      "model_module_version": "1.2.0",
      "model_name": "SliderStyleModel",
      "state": {
       "description_width": "initial"
      }
     },
     "a44dd498dc6747bd86857fb7d5f9df5b": {
      "model_module": "@jupyter-widgets/base",
      "model_module_version": "1.0.0",
      "model_name": "LayoutModel",
      "state": {
       "height": "80px",
       "width": "70%"
      }
     },
     "a4ccc02fce1a4f9f9d81d431a50a657c": {
      "model_module": "@jupyter-widgets/base",
      "model_module_version": "1.0.0",
      "model_name": "LayoutModel",
      "state": {
       "height": "80px",
       "width": "70%"
      }
     },
     "a4e48d1735f14553afb9748d3959d7c5": {
      "model_module": "@jupyter-widgets/controls",
      "model_module_version": "1.2.0",
      "model_name": "DescriptionStyleModel",
      "state": {
       "description_width": "initial"
      }
     },
     "a5b2b01196fc4b0a9dcf4b8f0cd41b48": {
      "model_module": "@jupyter-widgets/controls",
      "model_module_version": "1.2.0",
      "model_name": "DescriptionStyleModel",
      "state": {
       "description_width": "initial"
      }
     },
     "a605d0d3081642aeb98a5b8209c792d3": {
      "model_module": "@jupyter-widgets/controls",
      "model_module_version": "1.2.0",
      "model_name": "DescriptionStyleModel",
      "state": {
       "description_width": "initial"
      }
     },
     "a723d99706924ff7a0ca2a6ef05b9924": {
      "model_module": "@jupyter-widgets/controls",
      "model_module_version": "1.2.0",
      "model_name": "DescriptionStyleModel",
      "state": {
       "description_width": "initial"
      }
     },
     "a73447805f734cf69b11ffd71d5f0eb7": {
      "model_module": "@jupyter-widgets/base",
      "model_module_version": "1.0.0",
      "model_name": "LayoutModel",
      "state": {}
     },
     "a750b2ac585544419b8e637c8e885f82": {
      "model_module": "@jupyter-widgets/controls",
      "model_module_version": "1.2.0",
      "model_name": "DescriptionStyleModel",
      "state": {
       "description_width": "initial"
      }
     },
     "a863b76fab18496c98933ccd4bac1142": {
      "model_module": "@jupyter-widgets/controls",
      "model_module_version": "1.2.0",
      "model_name": "SliderStyleModel",
      "state": {
       "description_width": "initial"
      }
     },
     "a8711251c9d046a1ab72f2245c881504": {
      "model_module": "@jupyter-widgets/controls",
      "model_module_version": "1.2.0",
      "model_name": "TextModel",
      "state": {
       "description": "Show Populated Places:",
       "layout": "IPY_MODEL_da6cb41089c14cb089304d41439efd82",
       "placeholder": "Type something",
       "style": "IPY_MODEL_44db9351f5b24a118a8d9b80d4cd7037",
       "value": "False"
      }
     },
     "a8af5a4db811411db959cbfd18d59ad6": {
      "model_module": "@jupyter-widgets/controls",
      "model_module_version": "1.2.0",
      "model_name": "SliderStyleModel",
      "state": {
       "description_width": "initial"
      }
     },
     "a93b116b59be4920bb2e511b49aa7f77": {
      "model_module": "@jupyter-widgets/controls",
      "model_module_version": "1.2.0",
      "model_name": "DescriptionStyleModel",
      "state": {
       "description_width": "initial"
      }
     },
     "a9c8648bf0244eb8968597be79d0b4d7": {
      "model_module": "@jupyter-widgets/controls",
      "model_module_version": "1.2.0",
      "model_name": "SliderStyleModel",
      "state": {
       "description_width": "initial"
      }
     },
     "a9e64cc6a4e84f83b4a59dcb79cba70e": {
      "model_module": "@jupyter-widgets/base",
      "model_module_version": "1.0.0",
      "model_name": "LayoutModel",
      "state": {}
     },
     "ab6b047ec91946468db30ab6bd90b8d9": {
      "model_module": "@jupyter-widgets/controls",
      "model_module_version": "1.2.0",
      "model_name": "FloatSliderModel",
      "state": {
       "continuous_update": false,
       "description": "Bubble Opacity:",
       "layout": "IPY_MODEL_e6c3ac873f0846c19ca55edff40cdcf0",
       "max": 1,
       "readout_format": ".1f",
       "step": 0.1,
       "style": "IPY_MODEL_7618737d939c4e36b0b4f5b7bb048297",
       "value": 0.5
      }
     },
     "add5aca5680448eaaf7390da7e82d6ad": {
      "model_module": "@jupyter-widgets/controls",
      "model_module_version": "1.2.0",
      "model_name": "IntSliderModel",
      "state": {
       "continuous_update": false,
       "description": "Number of Legend Columns:",
       "layout": "IPY_MODEL_de2ffcf7a6554d4bb99b5b968ea338f0",
       "max": 3,
       "min": 1,
       "style": "IPY_MODEL_1a4944b730414972b8e78ccc5f174728",
       "value": 1
      }
     },
     "ade1275f884b4e1da9e7f726b20d9fbe": {
      "model_module": "@jupyter-widgets/controls",
      "model_module_version": "1.2.0",
      "model_name": "ButtonStyleModel",
      "state": {}
     },
     "ae3b3f6fbb1a4b26b0ffe7d4b9f72de8": {
      "model_module": "@jupyter-widgets/controls",
      "model_module_version": "1.2.0",
      "model_name": "DescriptionStyleModel",
      "state": {
       "description_width": "initial"
      }
     },
     "af3518d1dce044eeba6b79026046f753": {
      "model_module": "@jupyter-widgets/base",
      "model_module_version": "1.0.0",
      "model_name": "LayoutModel",
      "state": {}
     },
     "af380b0320c64e7ea2166fb8973ac6e4": {
      "model_module": "@jupyter-widgets/controls",
      "model_module_version": "1.2.0",
      "model_name": "ToggleButtonsModel",
      "state": {
       "_options_labels": [
        "Simple",
        "Mixed",
        "Complex"
       ],
       "button_style": "",
       "description": "Simplification Level:",
       "icons": [],
       "index": 1,
       "layout": "IPY_MODEL_af3518d1dce044eeba6b79026046f753",
       "style": "IPY_MODEL_4ab81f5bc0784995b4845a8d39b21895",
       "tooltips": [
        "Renewables, Fossil, and Nuclear",
        "Solar, Wind, Hydro, Geothermal,Biomass, Wave and Tidal,\n Storage, Fossil, Nuclear",
        "Solar, Wind, Hydro, Geothermal,Biomass, Wave and Tidal,\n Storage, Fossil, Nuclear, Coal, Gas, Oil, Waste, Cogeneration"
       ]
      }
     },
     "b02c35743def4136a7294be2dd34fb32": {
      "model_module": "@jupyter-widgets/base",
      "model_module_version": "1.0.0",
      "model_name": "LayoutModel",
      "state": {
       "height": "80px",
       "width": "70%"
      }
     },
     "b08ced56b4954f1cb7bbabd23749f4f0": {
      "model_module": "@jupyter-widgets/controls",
      "model_module_version": "1.2.0",
      "model_name": "SliderStyleModel",
      "state": {
       "description_width": "initial"
      }
     },
     "b1433046e48245baa42f8d7468e62276": {
      "model_module": "@jupyter-widgets/controls",
      "model_module_version": "1.2.0",
      "model_name": "TextModel",
      "state": {
       "description": "Country Name:",
       "layout": "IPY_MODEL_beb52625b9d14e66987e5e618a9500d8",
       "placeholder": "Type a country name",
       "style": "IPY_MODEL_75d38b2429324837a69e0a1ce0e2e67e",
       "value": "India"
      }
     },
     "b1f880ae0bfc46d0a77a3bdc3778a66f": {
      "model_module": "@jupyter-widgets/controls",
      "model_module_version": "1.2.0",
      "model_name": "TextModel",
      "state": {
       "description": "Path to save to:",
       "layout": "IPY_MODEL_ffd8beec813f443c97b3b531e32b7276",
       "placeholder": "Type the complete path to save to",
       "style": "IPY_MODEL_bb732c95c6634e479dfba3e651852210",
       "value": "/Users/skoebric/Downloads/XYZ.png"
      }
     },
     "b6834b9c61d04288a1fbe38a0249b998": {
      "model_module": "@jupyter-widgets/controls",
      "model_module_version": "1.2.0",
      "model_name": "TextModel",
      "state": {
       "description": "Country Precursor:",
       "layout": "IPY_MODEL_bc82f7b6521445e68c98ca812655c854",
       "placeholder": "Precursor to Country Name",
       "style": "IPY_MODEL_e6074492c7cc4040ad3cb358ae512305"
      }
     },
     "b707193cffa84ab5a91b3283acbd194d": {
      "model_module": "@jupyter-widgets/base",
      "model_module_version": "1.0.0",
      "model_name": "LayoutModel",
      "state": {}
     },
     "b75f567f81954bcfa937171f697a5784": {
      "model_module": "@jupyter-widgets/controls",
      "model_module_version": "1.2.0",
      "model_name": "ButtonModel",
      "state": {
       "description": "Update Plot",
       "icon": "check",
       "layout": "IPY_MODEL_98c2a89be7a043c4b91ced5cf7d22f51",
       "style": "IPY_MODEL_6b9437aecae346fd88c73379052f7c40",
       "tooltip": "Update Plot"
      }
     },
     "b93174ef329240a3844b300d0b2f8103": {
      "model_module": "@jupyter-widgets/controls",
      "model_module_version": "1.2.0",
      "model_name": "TextModel",
      "state": {
       "description": "Show Populated Places:",
       "layout": "IPY_MODEL_4f257e99d3e949af99805896f656097d",
       "placeholder": "Type something",
       "style": "IPY_MODEL_6e5bca7f6dbb46a1a4dd72e0e5c4adb7",
       "value": "False"
      }
     },
     "b9c568d290684f7aa4671947d77f8e21": {
      "model_module": "@jupyter-widgets/base",
      "model_module_version": "1.0.0",
      "model_name": "LayoutModel",
      "state": {
       "height": "80px",
       "width": "70%"
      }
     },
     "bb732c95c6634e479dfba3e651852210": {
      "model_module": "@jupyter-widgets/controls",
      "model_module_version": "1.2.0",
      "model_name": "DescriptionStyleModel",
      "state": {
       "description_width": "initial"
      }
     },
     "bc82f7b6521445e68c98ca812655c854": {
      "model_module": "@jupyter-widgets/base",
      "model_module_version": "1.0.0",
      "model_name": "LayoutModel",
      "state": {}
     },
     "be41e91c77bb4843a619e3aabfaf5a9d": {
      "model_module": "@jupyter-widgets/controls",
      "model_module_version": "1.2.0",
      "model_name": "TextModel",
      "state": {
       "description": "Country Name:",
       "layout": "IPY_MODEL_78e38ab79c874a74ab8522fd282f67fc",
       "placeholder": "Type a country name",
       "style": "IPY_MODEL_a5b2b01196fc4b0a9dcf4b8f0cd41b48",
       "value": "India"
      }
     },
     "beb52625b9d14e66987e5e618a9500d8": {
      "model_module": "@jupyter-widgets/base",
      "model_module_version": "1.0.0",
      "model_name": "LayoutModel",
      "state": {}
     },
     "bf2f14644d2d4417ba9ed3b44c01d22f": {
      "model_module": "@jupyter-widgets/base",
      "model_module_version": "1.0.0",
      "model_name": "LayoutModel",
      "state": {}
     },
     "bf5a328e8a704319bafb1457c661a492": {
      "model_module": "@jupyter-widgets/controls",
      "model_module_version": "1.2.0",
      "model_name": "SliderStyleModel",
      "state": {
       "description_width": "initial"
      }
     },
     "c014af86e5ab4e8e8de3a1f4b82c887e": {
      "model_module": "@jupyter-widgets/controls",
      "model_module_version": "1.2.0",
      "model_name": "TextModel",
      "state": {
       "description": "Coordinate System:",
       "layout": "IPY_MODEL_4ec3e174451741f9b57b5e2bfa9fa7e4",
       "placeholder": "Type something",
       "style": "IPY_MODEL_cb1767cf107d458ab310d045850c5180",
       "value": "spherical"
      }
     },
     "c091215079a84417b98e38fc7b6ff03c": {
      "model_module": "@jupyter-widgets/controls",
      "model_module_version": "1.2.0",
      "model_name": "ButtonModel",
      "state": {
       "description": "Update Plot",
       "icon": "check",
       "layout": "IPY_MODEL_a4ccc02fce1a4f9f9d81d431a50a657c",
       "style": "IPY_MODEL_c0debf8a615b489f8cf8ea23cad747da",
       "tooltip": "Update Plot"
      }
     },
     "c0debf8a615b489f8cf8ea23cad747da": {
      "model_module": "@jupyter-widgets/controls",
      "model_module_version": "1.2.0",
      "model_name": "ButtonStyleModel",
      "state": {}
     },
     "c1761a83c028452db93416353cb004ba": {
      "model_module": "@jupyter-widgets/controls",
      "model_module_version": "1.2.0",
      "model_name": "SliderStyleModel",
      "state": {
       "description_width": "initial"
      }
     },
     "c17885a9718b4721bbbfab07543fd658": {
      "model_module": "@jupyter-widgets/controls",
      "model_module_version": "1.2.0",
      "model_name": "DescriptionStyleModel",
      "state": {
       "description_width": "initial"
      }
     },
     "c3582214d48a4b49957cf8c6cef38759": {
      "model_module": "@jupyter-widgets/base",
      "model_module_version": "1.0.0",
      "model_name": "LayoutModel",
      "state": {}
     },
     "c44f3f66ec554097bfc60ee48f027378": {
      "model_module": "@jupyter-widgets/controls",
      "model_module_version": "1.2.0",
      "model_name": "ToggleButtonsStyleModel",
      "state": {
       "button_width": "",
       "description_width": "initial"
      }
     },
     "c475c73739194fb39810694e9a0b9ab4": {
      "model_module": "@jupyter-widgets/controls",
      "model_module_version": "1.2.0",
      "model_name": "IntSliderModel",
      "state": {
       "continuous_update": false,
       "description": "DPI (resolution):",
       "layout": "IPY_MODEL_98b3e8a75cb244b1a50b5bff1eb0aff1",
       "max": 500,
       "min": 100,
       "style": "IPY_MODEL_b08ced56b4954f1cb7bbabd23749f4f0",
       "value": 300
      }
     },
     "c488274fbc0247cebba7ab09422e9738": {
      "model_module": "@jupyter-widgets/controls",
      "model_module_version": "1.2.0",
      "model_name": "DescriptionStyleModel",
      "state": {
       "description_width": "initial"
      }
     },
     "c69a7fe9e3df4e139592191dd8193870": {
      "model_module": "@jupyter-widgets/controls",
      "model_module_version": "1.2.0",
      "model_name": "DescriptionStyleModel",
      "state": {
       "description_width": "initial"
      }
     },
     "c70d18a2b4a5490681d273f2113fd1b2": {
      "model_module": "@jupyter-widgets/controls",
      "model_module_version": "1.2.0",
      "model_name": "DropdownModel",
      "state": {
       "_options_labels": [
        "capacity",
        "alphabetical"
       ],
       "description": "Sort Legend By:",
       "index": 0,
       "layout": "IPY_MODEL_c3582214d48a4b49957cf8c6cef38759",
       "style": "IPY_MODEL_2fe415dc7de54d6190176de0a7175b33"
      }
     },
     "c870c16b581947f49459fff4f5bcad37": {
      "model_module": "@jupyter-widgets/base",
      "model_module_version": "1.0.0",
      "model_name": "LayoutModel",
      "state": {}
     },
     "c9d409efbcc64adfb585a74f16d55f1a": {
      "model_module": "@jupyter-widgets/base",
      "model_module_version": "1.0.0",
      "model_name": "LayoutModel",
      "state": {}
     },
     "cb1767cf107d458ab310d045850c5180": {
      "model_module": "@jupyter-widgets/controls",
      "model_module_version": "1.2.0",
      "model_name": "DescriptionStyleModel",
      "state": {
       "description_width": "initial"
      }
     },
     "ce054e897c6d4e9c9cd4f9964a2a7958": {
      "model_module": "@jupyter-widgets/controls",
      "model_module_version": "1.2.0",
      "model_name": "TextModel",
      "state": {
       "description": "Country Precursor:",
       "layout": "IPY_MODEL_30d6471269fc40a1a4f860fdfc8b610e",
       "placeholder": "Precursor to Country Name",
       "style": "IPY_MODEL_1b1af95fda874a35830da77937472a16"
      }
     },
     "ce7dc05fbc8c40f1bc26ba28f039c6f1": {
      "model_module": "@jupyter-widgets/base",
      "model_module_version": "1.0.0",
      "model_name": "LayoutModel",
      "state": {}
     },
     "cebc6e0301c447b5a6980e762b8105cb": {
      "model_module": "@jupyter-widgets/controls",
      "model_module_version": "1.2.0",
      "model_name": "SliderStyleModel",
      "state": {
       "description_width": "initial"
      }
     },
     "d027039d36254a32a84ab027a4e0ae04": {
      "model_module": "@jupyter-widgets/base",
      "model_module_version": "1.0.0",
      "model_name": "LayoutModel",
      "state": {}
     },
     "d0807774317c4aff80725f88f053f4ab": {
      "model_module": "@jupyter-widgets/controls",
      "model_module_version": "1.2.0",
      "model_name": "TextModel",
      "state": {
       "description": "Island Size Thresh:",
       "layout": "IPY_MODEL_a73447805f734cf69b11ffd71d5f0eb7",
       "placeholder": "Type a island thresh",
       "style": "IPY_MODEL_058d54805c20450eafbc9db231c5c754",
       "value": "200"
      }
     },
     "d125a30ae17d43409f6d391ec5d09566": {
      "model_module": "@jupyter-widgets/controls",
      "model_module_version": "1.2.0",
      "model_name": "SliderStyleModel",
      "state": {
       "description_width": "initial"
      }
     },
     "d4ad19b8a2f04f589aa20a7ccc92ac75": {
      "model_module": "@jupyter-widgets/base",
      "model_module_version": "1.0.0",
      "model_name": "LayoutModel",
      "state": {}
     },
     "d5db70abe66a463cbcbc4c14ffeb3fbe": {
      "model_module": "@jupyter-widgets/controls",
      "model_module_version": "1.2.0",
      "model_name": "DescriptionStyleModel",
      "state": {
       "description_width": "initial"
      }
     },
     "d95b60d2d0bb496fb9de8de820725ea7": {
      "model_module": "@jupyter-widgets/base",
      "model_module_version": "1.0.0",
      "model_name": "LayoutModel",
      "state": {
       "height": "80px",
       "width": "70%"
      }
     },
     "da6cb41089c14cb089304d41439efd82": {
      "model_module": "@jupyter-widgets/base",
      "model_module_version": "1.0.0",
      "model_name": "LayoutModel",
      "state": {}
     },
     "daa92050d52f433eb3e34b0085216e51": {
      "model_module": "@jupyter-widgets/controls",
      "model_module_version": "1.2.0",
      "model_name": "TextModel",
      "state": {
       "description": "Show Populated Places:",
       "layout": "IPY_MODEL_e86e01961d5245b18ac7ecabee6ba5ff",
       "placeholder": "Type something",
       "style": "IPY_MODEL_339ee14ddd864efabafa4777e196b00d",
       "value": "False"
      }
     },
     "dbbfa7595efb435a920d2df2c4ed014f": {
      "model_module": "@jupyter-widgets/base",
      "model_module_version": "1.0.0",
      "model_name": "LayoutModel",
      "state": {}
     },
     "de2ffcf7a6554d4bb99b5b968ea338f0": {
      "model_module": "@jupyter-widgets/base",
      "model_module_version": "1.0.0",
      "model_name": "LayoutModel",
      "state": {}
     },
     "df992bf53a8c43c993d946a0cc9536be": {
      "model_module": "@jupyter-widgets/controls",
      "model_module_version": "1.2.0",
      "model_name": "TextModel",
      "state": {
       "description": "Coordinate System:",
       "layout": "IPY_MODEL_17001cca00194e0cafdee261752dbcdd",
       "placeholder": "Type something",
       "style": "IPY_MODEL_c69a7fe9e3df4e139592191dd8193870",
       "value": "spherical"
      }
     },
     "e024971a6e9a4d508ea10edeb09bc6dc": {
      "model_module": "@jupyter-widgets/controls",
      "model_module_version": "1.2.0",
      "model_name": "TextModel",
      "state": {
       "description": "Coordinate System:",
       "layout": "IPY_MODEL_b707193cffa84ab5a91b3283acbd194d",
       "placeholder": "Type something",
       "style": "IPY_MODEL_3bcdc2e9071e47f6b59fef3edfba57ad",
       "value": "spherical"
      }
     },
     "e142632e0a214f2697b5fc6a87c92d7a": {
      "model_module": "@jupyter-widgets/controls",
      "model_module_version": "1.2.0",
      "model_name": "ToggleButtonsModel",
      "state": {
       "_options_labels": [
        "Simple",
        "Mixed",
        "Complex"
       ],
       "button_style": "",
       "description": "Simplification Level:",
       "icons": [],
       "index": 1,
       "layout": "IPY_MODEL_e4e6a9a6d70540e6ab3457e791574c0c",
       "style": "IPY_MODEL_27923732d28842fb833d024bd04ffcef",
       "tooltips": [
        "Renewables, Fossil, and Nuclear",
        "Solar, Wind, Hydro, Geothermal,Biomass, Wave and Tidal,\n Storage, Fossil, Nuclear",
        "Solar, Wind, Hydro, Geothermal,Biomass, Wave and Tidal,\n Storage, Fossil, Nuclear, Coal, Gas, Oil, Waste, Cogeneration"
       ]
      }
     },
     "e4e6a9a6d70540e6ab3457e791574c0c": {
      "model_module": "@jupyter-widgets/base",
      "model_module_version": "1.0.0",
      "model_name": "LayoutModel",
      "state": {}
     },
     "e5faefe0b30d45f1af15b942dea19f88": {
      "model_module": "@jupyter-widgets/controls",
      "model_module_version": "1.2.0",
      "model_name": "IntSliderModel",
      "state": {
       "continuous_update": false,
       "description": "DPI (resolution):",
       "layout": "IPY_MODEL_ce7dc05fbc8c40f1bc26ba28f039c6f1",
       "max": 500,
       "min": 100,
       "style": "IPY_MODEL_a43deb5f4ea34220bc499ac5398b8bea",
       "value": 300
      }
     },
     "e6074492c7cc4040ad3cb358ae512305": {
      "model_module": "@jupyter-widgets/controls",
      "model_module_version": "1.2.0",
      "model_name": "DescriptionStyleModel",
      "state": {
       "description_width": "initial"
      }
     },
     "e6c3ac873f0846c19ca55edff40cdcf0": {
      "model_module": "@jupyter-widgets/base",
      "model_module_version": "1.0.0",
      "model_name": "LayoutModel",
      "state": {}
     },
     "e704d73ab28844d186beb1674b1d799f": {
      "model_module": "@jupyter-widgets/controls",
      "model_module_version": "1.2.0",
      "model_name": "FloatSliderModel",
      "state": {
       "continuous_update": false,
       "description": "Zoom Level:",
       "layout": "IPY_MODEL_1b0ea0b2b7464ed1b8cbe979839ced9b",
       "max": 3,
       "min": 0.5,
       "readout_format": ".1f",
       "step": 0.1,
       "style": "IPY_MODEL_eea700f97181487ea917fd969e471d34",
       "value": 1.5
      }
     },
     "e783fc82ca5b4b76b58945a2eb559b84": {
      "model_module": "@jupyter-widgets/controls",
      "model_module_version": "1.2.0",
      "model_name": "ToggleButtonsStyleModel",
      "state": {
       "button_width": "",
       "description_width": "initial"
      }
     },
     "e86e01961d5245b18ac7ecabee6ba5ff": {
      "model_module": "@jupyter-widgets/base",
      "model_module_version": "1.0.0",
      "model_name": "LayoutModel",
      "state": {}
     },
     "e9305f35e0fd483887baf0b326df7b95": {
      "model_module": "@jupyter-widgets/base",
      "model_module_version": "1.0.0",
      "model_name": "LayoutModel",
      "state": {}
     },
     "e939a14180474b2782bf7f2024bc33aa": {
      "model_module": "@jupyter-widgets/base",
      "model_module_version": "1.0.0",
      "model_name": "LayoutModel",
      "state": {}
     },
     "eaaa258b500643d5b63dd2ce87ec6295": {
      "model_module": "@jupyter-widgets/controls",
      "model_module_version": "1.2.0",
      "model_name": "TextModel",
      "state": {
       "description": "Country Precursor:",
       "layout": "IPY_MODEL_3ce25d4b89904195985c5a22c00a3658",
       "placeholder": "Precursor to Country Name",
       "style": "IPY_MODEL_10939cd7c0ba4b7f813bbd234f5886ca"
      }
     },
     "eab0ba454c37404891d7818f67598e53": {
      "model_module": "@jupyter-widgets/controls",
      "model_module_version": "1.2.0",
      "model_name": "ButtonStyleModel",
      "state": {}
     },
     "eb4a7c8efa2240e3a70085ebfc72ef16": {
      "model_module": "@jupyter-widgets/controls",
      "model_module_version": "1.2.0",
      "model_name": "TextModel",
      "state": {
       "description": "Country Precursor:",
       "layout": "IPY_MODEL_d027039d36254a32a84ab027a4e0ae04",
       "placeholder": "Precursor to Country Name",
       "style": "IPY_MODEL_a4e48d1735f14553afb9748d3959d7c5"
      }
     },
     "ebdd9bf153cc4acb9fab678bc8bd23f2": {
      "model_module": "@jupyter-widgets/controls",
      "model_module_version": "1.2.0",
      "model_name": "TextModel",
      "state": {
       "description": "Island Size Thresh:",
       "layout": "IPY_MODEL_65ef3fe9c86d4f409473ed7b0b488939",
       "placeholder": "Type a island thresh",
       "style": "IPY_MODEL_9da689946cf74d4bba483f5465628bd3",
       "value": "200"
      }
     },
     "ec321d96197542c989738ad79586ac96": {
      "model_module": "@jupyter-widgets/base",
      "model_module_version": "1.0.0",
      "model_name": "LayoutModel",
      "state": {}
     },
     "ec57aafcb73d4ffc9f7633acb55f6683": {
      "model_module": "@jupyter-widgets/controls",
      "model_module_version": "1.2.0",
      "model_name": "TextModel",
      "state": {
       "description": "Country Precursor:",
       "layout": "IPY_MODEL_3f50e791dfe84c56971a0e3510ab2462",
       "placeholder": "Precursor to Country Name",
       "style": "IPY_MODEL_c488274fbc0247cebba7ab09422e9738"
      }
     },
     "ed748724e69043e6b6b9290c21e750fc": {
      "model_module": "@jupyter-widgets/base",
      "model_module_version": "1.0.0",
      "model_name": "LayoutModel",
      "state": {}
     },
     "ee930139d1f047a8a177b19da9b7eaae": {
      "model_module": "@jupyter-widgets/base",
      "model_module_version": "1.0.0",
      "model_name": "LayoutModel",
      "state": {}
     },
     "eea700f97181487ea917fd969e471d34": {
      "model_module": "@jupyter-widgets/controls",
      "model_module_version": "1.2.0",
      "model_name": "SliderStyleModel",
      "state": {
       "description_width": "initial"
      }
     },
     "ef32c488276b4ee49436f14c7eb80224": {
      "model_module": "@jupyter-widgets/controls",
      "model_module_version": "1.2.0",
      "model_name": "DescriptionStyleModel",
      "state": {
       "description_width": "initial"
      }
     },
     "f0fce0215ce14a779d1d1b189dcd5b9b": {
      "model_module": "@jupyter-widgets/controls",
      "model_module_version": "1.2.0",
      "model_name": "DescriptionStyleModel",
      "state": {
       "description_width": "initial"
      }
     },
     "f1717553bcf44eeea4ad9964d002a26a": {
      "model_module": "@jupyter-widgets/base",
      "model_module_version": "1.0.0",
      "model_name": "LayoutModel",
      "state": {}
     },
     "f3b74ccd814b427fb5383b5f00c6e23d": {
      "model_module": "@jupyter-widgets/controls",
      "model_module_version": "1.2.0",
      "model_name": "DescriptionStyleModel",
      "state": {
       "description_width": "initial"
      }
     },
     "f5e200ea06ab4c90b79f56a68abc7ab3": {
      "model_module": "@jupyter-widgets/controls",
      "model_module_version": "1.2.0",
      "model_name": "SliderStyleModel",
      "state": {
       "description_width": "initial"
      }
     },
     "f7883f05ac4446c1a8b08651285e5252": {
      "model_module": "@jupyter-widgets/controls",
      "model_module_version": "1.2.0",
      "model_name": "ToggleButtonsModel",
      "state": {
       "_options_labels": [
        "Simple",
        "Mixed",
        "Complex"
       ],
       "button_style": "",
       "description": "Simplification Level:",
       "icons": [],
       "index": 1,
       "layout": "IPY_MODEL_94041037c4984306a39e2e3c519602e6",
       "style": "IPY_MODEL_57f98d81985943ebb9233853dd4a23f0",
       "tooltips": [
        "Renewables, Fossil, and Nuclear",
        "Solar, Wind, Hydro, Geothermal,Biomass, Wave and Tidal,\n Storage, Fossil, Nuclear",
        "Solar, Wind, Hydro, Geothermal,Biomass, Wave and Tidal,\n Storage, Fossil, Nuclear, Coal, Gas, Oil, Waste, Cogeneration"
       ]
      }
     },
     "fe13b2fd3268453896c9eb11d4c06fd5": {
      "model_module": "@jupyter-widgets/controls",
      "model_module_version": "1.2.0",
      "model_name": "IntSliderModel",
      "state": {
       "continuous_update": false,
       "description": "Number of Legend Columns:",
       "layout": "IPY_MODEL_ec321d96197542c989738ad79586ac96",
       "max": 3,
       "min": 1,
       "style": "IPY_MODEL_bf5a328e8a704319bafb1457c661a492",
       "value": 1
      }
     },
     "feb06c0c3e894536819e43823020e7db": {
      "model_module": "@jupyter-widgets/controls",
      "model_module_version": "1.2.0",
      "model_name": "ButtonStyleModel",
      "state": {}
     },
     "ffd8beec813f443c97b3b531e32b7276": {
      "model_module": "@jupyter-widgets/base",
      "model_module_version": "1.0.0",
      "model_name": "LayoutModel",
      "state": {}
     }
    },
    "version_major": 2,
    "version_minor": 0
   }
  }
 },
 "nbformat": 4,
 "nbformat_minor": 2
}
