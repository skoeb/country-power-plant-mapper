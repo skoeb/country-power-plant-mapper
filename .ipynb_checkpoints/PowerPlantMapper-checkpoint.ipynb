{
 "cells": [
  {
   "cell_type": "markdown",
   "metadata": {},
   "source": [
    "# *Country Power Plant Mapper*\n",
    "\n",
    "## This application easily produces publication ready bubble maps displaying the types and sizes of grid-connected generators in any country. \n",
    "## All without touching a line of code!\n",
    "\n",
    "### Basic Instructions:\n",
    "1. Initialize the application by clicking on 'Cell' in the menu bar and selecting 'Run All'.\n",
    "2. Enter the __Country Name__.\n",
    "3. Choose the desired level of __Simplification__ for resource type:\n",
    "    -  *Simple* breaks resources into 'Renewable', 'Fossil', and 'Nuclear'.\n",
    "    -  *Mixed* subdivides renewables (solar, wind, etc.) but keeps 'Fossil' together. \n",
    "    -  *Complex* labels every resource type.\n",
    "    \n",
    "\n",
    "4. Press the __Update Plot__ button. Be patient, it can take a few seconds.\n",
    "5. Drag the legend to a better location, if needed (this can be a little wonky––sorry). \n",
    "6. To save the image, click the power symbol in the upper right portion of the map. Then right click on the map and select 'Save Image As'. \n",
    "\n",
    "Check out the __Advanced Instructions__ section below if you need additional control."
   ]
  },
  {
   "cell_type": "code",
   "execution_count": 12,
   "metadata": {
    "init_cell": true,
    "scrolled": true
   },
   "outputs": [
    {
     "data": {
      "text/html": [
       "<style>.container { width:80% !important; }</style>"
      ],
      "text/plain": [
       "<IPython.core.display.HTML object>"
      ]
     },
     "metadata": {},
     "output_type": "display_data"
    },
    {
     "data": {
      "application/vnd.jupyter.widget-view+json": {
       "model_id": "ea48ac1cd5fe4c248165aabd417a2257",
       "version_major": 2,
       "version_minor": 0
      },
      "text/plain": [
       "Text(value='India', description='Country Name:', placeholder='Type a country name', style=DescriptionStyle(des…"
      ]
     },
     "metadata": {},
     "output_type": "display_data"
    },
    {
     "data": {
      "application/vnd.jupyter.widget-view+json": {
       "model_id": "1b75823393324332a71af37ea374c6d2",
       "version_major": 2,
       "version_minor": 0
      },
      "text/plain": [
       "ToggleButtons(description='Simplification Level:', index=1, options=('Simple', 'Mixed', 'Complex'), style=Togg…"
      ]
     },
     "metadata": {},
     "output_type": "display_data"
    }
   ],
   "source": [
    "from IPython.core.display import display, HTML\n",
    "display(HTML(\"<style>.container { width:80% !important; }</style>\"))\n",
    "import parameterwidgets as pw\n",
    "pw.showbasicwidgets()"
   ]
  },
  {
   "cell_type": "code",
   "execution_count": 13,
   "metadata": {
    "init_cell": true
   },
   "outputs": [
    {
     "data": {
      "application/vnd.jupyter.widget-view+json": {
       "model_id": "5a12f222e96e4e2c8aee89e480fa0efa",
       "version_major": 2,
       "version_minor": 0
      },
      "text/plain": [
       "Button(description='Update Plot', icon='check', layout=Layout(height='80px', width='70%'), style=ButtonStyle()…"
      ]
     },
     "metadata": {},
     "output_type": "display_data"
    },
    {
     "data": {
      "application/javascript": [
       "/* Put everything inside the global mpl namespace */\n",
       "window.mpl = {};\n",
       "\n",
       "\n",
       "mpl.get_websocket_type = function() {\n",
       "    if (typeof(WebSocket) !== 'undefined') {\n",
       "        return WebSocket;\n",
       "    } else if (typeof(MozWebSocket) !== 'undefined') {\n",
       "        return MozWebSocket;\n",
       "    } else {\n",
       "        alert('Your browser does not have WebSocket support.' +\n",
       "              'Please try Chrome, Safari or Firefox ≥ 6. ' +\n",
       "              'Firefox 4 and 5 are also supported but you ' +\n",
       "              'have to enable WebSockets in about:config.');\n",
       "    };\n",
       "}\n",
       "\n",
       "mpl.figure = function(figure_id, websocket, ondownload, parent_element) {\n",
       "    this.id = figure_id;\n",
       "\n",
       "    this.ws = websocket;\n",
       "\n",
       "    this.supports_binary = (this.ws.binaryType != undefined);\n",
       "\n",
       "    if (!this.supports_binary) {\n",
       "        var warnings = document.getElementById(\"mpl-warnings\");\n",
       "        if (warnings) {\n",
       "            warnings.style.display = 'block';\n",
       "            warnings.textContent = (\n",
       "                \"This browser does not support binary websocket messages. \" +\n",
       "                    \"Performance may be slow.\");\n",
       "        }\n",
       "    }\n",
       "\n",
       "    this.imageObj = new Image();\n",
       "\n",
       "    this.context = undefined;\n",
       "    this.message = undefined;\n",
       "    this.canvas = undefined;\n",
       "    this.rubberband_canvas = undefined;\n",
       "    this.rubberband_context = undefined;\n",
       "    this.format_dropdown = undefined;\n",
       "\n",
       "    this.image_mode = 'full';\n",
       "\n",
       "    this.root = $('<div/>');\n",
       "    this._root_extra_style(this.root)\n",
       "    this.root.attr('style', 'display: inline-block');\n",
       "\n",
       "    $(parent_element).append(this.root);\n",
       "\n",
       "    this._init_header(this);\n",
       "    this._init_canvas(this);\n",
       "    this._init_toolbar(this);\n",
       "\n",
       "    var fig = this;\n",
       "\n",
       "    this.waiting = false;\n",
       "\n",
       "    this.ws.onopen =  function () {\n",
       "            fig.send_message(\"supports_binary\", {value: fig.supports_binary});\n",
       "            fig.send_message(\"send_image_mode\", {});\n",
       "            if (mpl.ratio != 1) {\n",
       "                fig.send_message(\"set_dpi_ratio\", {'dpi_ratio': mpl.ratio});\n",
       "            }\n",
       "            fig.send_message(\"refresh\", {});\n",
       "        }\n",
       "\n",
       "    this.imageObj.onload = function() {\n",
       "            if (fig.image_mode == 'full') {\n",
       "                // Full images could contain transparency (where diff images\n",
       "                // almost always do), so we need to clear the canvas so that\n",
       "                // there is no ghosting.\n",
       "                fig.context.clearRect(0, 0, fig.canvas.width, fig.canvas.height);\n",
       "            }\n",
       "            fig.context.drawImage(fig.imageObj, 0, 0);\n",
       "        };\n",
       "\n",
       "    this.imageObj.onunload = function() {\n",
       "        fig.ws.close();\n",
       "    }\n",
       "\n",
       "    this.ws.onmessage = this._make_on_message_function(this);\n",
       "\n",
       "    this.ondownload = ondownload;\n",
       "}\n",
       "\n",
       "mpl.figure.prototype._init_header = function() {\n",
       "    var titlebar = $(\n",
       "        '<div class=\"ui-dialog-titlebar ui-widget-header ui-corner-all ' +\n",
       "        'ui-helper-clearfix\"/>');\n",
       "    var titletext = $(\n",
       "        '<div class=\"ui-dialog-title\" style=\"width: 100%; ' +\n",
       "        'text-align: center; padding: 3px;\"/>');\n",
       "    titlebar.append(titletext)\n",
       "    this.root.append(titlebar);\n",
       "    this.header = titletext[0];\n",
       "}\n",
       "\n",
       "\n",
       "\n",
       "mpl.figure.prototype._canvas_extra_style = function(canvas_div) {\n",
       "\n",
       "}\n",
       "\n",
       "\n",
       "mpl.figure.prototype._root_extra_style = function(canvas_div) {\n",
       "\n",
       "}\n",
       "\n",
       "mpl.figure.prototype._init_canvas = function() {\n",
       "    var fig = this;\n",
       "\n",
       "    var canvas_div = $('<div/>');\n",
       "\n",
       "    canvas_div.attr('style', 'position: relative; clear: both; outline: 0');\n",
       "\n",
       "    function canvas_keyboard_event(event) {\n",
       "        return fig.key_event(event, event['data']);\n",
       "    }\n",
       "\n",
       "    canvas_div.keydown('key_press', canvas_keyboard_event);\n",
       "    canvas_div.keyup('key_release', canvas_keyboard_event);\n",
       "    this.canvas_div = canvas_div\n",
       "    this._canvas_extra_style(canvas_div)\n",
       "    this.root.append(canvas_div);\n",
       "\n",
       "    var canvas = $('<canvas/>');\n",
       "    canvas.addClass('mpl-canvas');\n",
       "    canvas.attr('style', \"left: 0; top: 0; z-index: 0; outline: 0\")\n",
       "\n",
       "    this.canvas = canvas[0];\n",
       "    this.context = canvas[0].getContext(\"2d\");\n",
       "\n",
       "    var backingStore = this.context.backingStorePixelRatio ||\n",
       "\tthis.context.webkitBackingStorePixelRatio ||\n",
       "\tthis.context.mozBackingStorePixelRatio ||\n",
       "\tthis.context.msBackingStorePixelRatio ||\n",
       "\tthis.context.oBackingStorePixelRatio ||\n",
       "\tthis.context.backingStorePixelRatio || 1;\n",
       "\n",
       "    mpl.ratio = (window.devicePixelRatio || 1) / backingStore;\n",
       "\n",
       "    var rubberband = $('<canvas/>');\n",
       "    rubberband.attr('style', \"position: absolute; left: 0; top: 0; z-index: 1;\")\n",
       "\n",
       "    var pass_mouse_events = true;\n",
       "\n",
       "    canvas_div.resizable({\n",
       "        start: function(event, ui) {\n",
       "            pass_mouse_events = false;\n",
       "        },\n",
       "        resize: function(event, ui) {\n",
       "            fig.request_resize(ui.size.width, ui.size.height);\n",
       "        },\n",
       "        stop: function(event, ui) {\n",
       "            pass_mouse_events = true;\n",
       "            fig.request_resize(ui.size.width, ui.size.height);\n",
       "        },\n",
       "    });\n",
       "\n",
       "    function mouse_event_fn(event) {\n",
       "        if (pass_mouse_events)\n",
       "            return fig.mouse_event(event, event['data']);\n",
       "    }\n",
       "\n",
       "    rubberband.mousedown('button_press', mouse_event_fn);\n",
       "    rubberband.mouseup('button_release', mouse_event_fn);\n",
       "    // Throttle sequential mouse events to 1 every 20ms.\n",
       "    rubberband.mousemove('motion_notify', mouse_event_fn);\n",
       "\n",
       "    rubberband.mouseenter('figure_enter', mouse_event_fn);\n",
       "    rubberband.mouseleave('figure_leave', mouse_event_fn);\n",
       "\n",
       "    canvas_div.on(\"wheel\", function (event) {\n",
       "        event = event.originalEvent;\n",
       "        event['data'] = 'scroll'\n",
       "        if (event.deltaY < 0) {\n",
       "            event.step = 1;\n",
       "        } else {\n",
       "            event.step = -1;\n",
       "        }\n",
       "        mouse_event_fn(event);\n",
       "    });\n",
       "\n",
       "    canvas_div.append(canvas);\n",
       "    canvas_div.append(rubberband);\n",
       "\n",
       "    this.rubberband = rubberband;\n",
       "    this.rubberband_canvas = rubberband[0];\n",
       "    this.rubberband_context = rubberband[0].getContext(\"2d\");\n",
       "    this.rubberband_context.strokeStyle = \"#000000\";\n",
       "\n",
       "    this._resize_canvas = function(width, height) {\n",
       "        // Keep the size of the canvas, canvas container, and rubber band\n",
       "        // canvas in synch.\n",
       "        canvas_div.css('width', width)\n",
       "        canvas_div.css('height', height)\n",
       "\n",
       "        canvas.attr('width', width * mpl.ratio);\n",
       "        canvas.attr('height', height * mpl.ratio);\n",
       "        canvas.attr('style', 'width: ' + width + 'px; height: ' + height + 'px;');\n",
       "\n",
       "        rubberband.attr('width', width);\n",
       "        rubberband.attr('height', height);\n",
       "    }\n",
       "\n",
       "    // Set the figure to an initial 600x600px, this will subsequently be updated\n",
       "    // upon first draw.\n",
       "    this._resize_canvas(600, 600);\n",
       "\n",
       "    // Disable right mouse context menu.\n",
       "    $(this.rubberband_canvas).bind(\"contextmenu\",function(e){\n",
       "        return false;\n",
       "    });\n",
       "\n",
       "    function set_focus () {\n",
       "        canvas.focus();\n",
       "        canvas_div.focus();\n",
       "    }\n",
       "\n",
       "    window.setTimeout(set_focus, 100);\n",
       "}\n",
       "\n",
       "mpl.figure.prototype._init_toolbar = function() {\n",
       "    var fig = this;\n",
       "\n",
       "    var nav_element = $('<div/>')\n",
       "    nav_element.attr('style', 'width: 100%');\n",
       "    this.root.append(nav_element);\n",
       "\n",
       "    // Define a callback function for later on.\n",
       "    function toolbar_event(event) {\n",
       "        return fig.toolbar_button_onclick(event['data']);\n",
       "    }\n",
       "    function toolbar_mouse_event(event) {\n",
       "        return fig.toolbar_button_onmouseover(event['data']);\n",
       "    }\n",
       "\n",
       "    for(var toolbar_ind in mpl.toolbar_items) {\n",
       "        var name = mpl.toolbar_items[toolbar_ind][0];\n",
       "        var tooltip = mpl.toolbar_items[toolbar_ind][1];\n",
       "        var image = mpl.toolbar_items[toolbar_ind][2];\n",
       "        var method_name = mpl.toolbar_items[toolbar_ind][3];\n",
       "\n",
       "        if (!name) {\n",
       "            // put a spacer in here.\n",
       "            continue;\n",
       "        }\n",
       "        var button = $('<button/>');\n",
       "        button.addClass('ui-button ui-widget ui-state-default ui-corner-all ' +\n",
       "                        'ui-button-icon-only');\n",
       "        button.attr('role', 'button');\n",
       "        button.attr('aria-disabled', 'false');\n",
       "        button.click(method_name, toolbar_event);\n",
       "        button.mouseover(tooltip, toolbar_mouse_event);\n",
       "\n",
       "        var icon_img = $('<span/>');\n",
       "        icon_img.addClass('ui-button-icon-primary ui-icon');\n",
       "        icon_img.addClass(image);\n",
       "        icon_img.addClass('ui-corner-all');\n",
       "\n",
       "        var tooltip_span = $('<span/>');\n",
       "        tooltip_span.addClass('ui-button-text');\n",
       "        tooltip_span.html(tooltip);\n",
       "\n",
       "        button.append(icon_img);\n",
       "        button.append(tooltip_span);\n",
       "\n",
       "        nav_element.append(button);\n",
       "    }\n",
       "\n",
       "    var fmt_picker_span = $('<span/>');\n",
       "\n",
       "    var fmt_picker = $('<select/>');\n",
       "    fmt_picker.addClass('mpl-toolbar-option ui-widget ui-widget-content');\n",
       "    fmt_picker_span.append(fmt_picker);\n",
       "    nav_element.append(fmt_picker_span);\n",
       "    this.format_dropdown = fmt_picker[0];\n",
       "\n",
       "    for (var ind in mpl.extensions) {\n",
       "        var fmt = mpl.extensions[ind];\n",
       "        var option = $(\n",
       "            '<option/>', {selected: fmt === mpl.default_extension}).html(fmt);\n",
       "        fmt_picker.append(option)\n",
       "    }\n",
       "\n",
       "    // Add hover states to the ui-buttons\n",
       "    $( \".ui-button\" ).hover(\n",
       "        function() { $(this).addClass(\"ui-state-hover\");},\n",
       "        function() { $(this).removeClass(\"ui-state-hover\");}\n",
       "    );\n",
       "\n",
       "    var status_bar = $('<span class=\"mpl-message\"/>');\n",
       "    nav_element.append(status_bar);\n",
       "    this.message = status_bar[0];\n",
       "}\n",
       "\n",
       "mpl.figure.prototype.request_resize = function(x_pixels, y_pixels) {\n",
       "    // Request matplotlib to resize the figure. Matplotlib will then trigger a resize in the client,\n",
       "    // which will in turn request a refresh of the image.\n",
       "    this.send_message('resize', {'width': x_pixels, 'height': y_pixels});\n",
       "}\n",
       "\n",
       "mpl.figure.prototype.send_message = function(type, properties) {\n",
       "    properties['type'] = type;\n",
       "    properties['figure_id'] = this.id;\n",
       "    this.ws.send(JSON.stringify(properties));\n",
       "}\n",
       "\n",
       "mpl.figure.prototype.send_draw_message = function() {\n",
       "    if (!this.waiting) {\n",
       "        this.waiting = true;\n",
       "        this.ws.send(JSON.stringify({type: \"draw\", figure_id: this.id}));\n",
       "    }\n",
       "}\n",
       "\n",
       "\n",
       "mpl.figure.prototype.handle_save = function(fig, msg) {\n",
       "    var format_dropdown = fig.format_dropdown;\n",
       "    var format = format_dropdown.options[format_dropdown.selectedIndex].value;\n",
       "    fig.ondownload(fig, format);\n",
       "}\n",
       "\n",
       "\n",
       "mpl.figure.prototype.handle_resize = function(fig, msg) {\n",
       "    var size = msg['size'];\n",
       "    if (size[0] != fig.canvas.width || size[1] != fig.canvas.height) {\n",
       "        fig._resize_canvas(size[0], size[1]);\n",
       "        fig.send_message(\"refresh\", {});\n",
       "    };\n",
       "}\n",
       "\n",
       "mpl.figure.prototype.handle_rubberband = function(fig, msg) {\n",
       "    var x0 = msg['x0'] / mpl.ratio;\n",
       "    var y0 = (fig.canvas.height - msg['y0']) / mpl.ratio;\n",
       "    var x1 = msg['x1'] / mpl.ratio;\n",
       "    var y1 = (fig.canvas.height - msg['y1']) / mpl.ratio;\n",
       "    x0 = Math.floor(x0) + 0.5;\n",
       "    y0 = Math.floor(y0) + 0.5;\n",
       "    x1 = Math.floor(x1) + 0.5;\n",
       "    y1 = Math.floor(y1) + 0.5;\n",
       "    var min_x = Math.min(x0, x1);\n",
       "    var min_y = Math.min(y0, y1);\n",
       "    var width = Math.abs(x1 - x0);\n",
       "    var height = Math.abs(y1 - y0);\n",
       "\n",
       "    fig.rubberband_context.clearRect(\n",
       "        0, 0, fig.canvas.width, fig.canvas.height);\n",
       "\n",
       "    fig.rubberband_context.strokeRect(min_x, min_y, width, height);\n",
       "}\n",
       "\n",
       "mpl.figure.prototype.handle_figure_label = function(fig, msg) {\n",
       "    // Updates the figure title.\n",
       "    fig.header.textContent = msg['label'];\n",
       "}\n",
       "\n",
       "mpl.figure.prototype.handle_cursor = function(fig, msg) {\n",
       "    var cursor = msg['cursor'];\n",
       "    switch(cursor)\n",
       "    {\n",
       "    case 0:\n",
       "        cursor = 'pointer';\n",
       "        break;\n",
       "    case 1:\n",
       "        cursor = 'default';\n",
       "        break;\n",
       "    case 2:\n",
       "        cursor = 'crosshair';\n",
       "        break;\n",
       "    case 3:\n",
       "        cursor = 'move';\n",
       "        break;\n",
       "    }\n",
       "    fig.rubberband_canvas.style.cursor = cursor;\n",
       "}\n",
       "\n",
       "mpl.figure.prototype.handle_message = function(fig, msg) {\n",
       "    fig.message.textContent = msg['message'];\n",
       "}\n",
       "\n",
       "mpl.figure.prototype.handle_draw = function(fig, msg) {\n",
       "    // Request the server to send over a new figure.\n",
       "    fig.send_draw_message();\n",
       "}\n",
       "\n",
       "mpl.figure.prototype.handle_image_mode = function(fig, msg) {\n",
       "    fig.image_mode = msg['mode'];\n",
       "}\n",
       "\n",
       "mpl.figure.prototype.updated_canvas_event = function() {\n",
       "    // Called whenever the canvas gets updated.\n",
       "    this.send_message(\"ack\", {});\n",
       "}\n",
       "\n",
       "// A function to construct a web socket function for onmessage handling.\n",
       "// Called in the figure constructor.\n",
       "mpl.figure.prototype._make_on_message_function = function(fig) {\n",
       "    return function socket_on_message(evt) {\n",
       "        if (evt.data instanceof Blob) {\n",
       "            /* FIXME: We get \"Resource interpreted as Image but\n",
       "             * transferred with MIME type text/plain:\" errors on\n",
       "             * Chrome.  But how to set the MIME type?  It doesn't seem\n",
       "             * to be part of the websocket stream */\n",
       "            evt.data.type = \"image/png\";\n",
       "\n",
       "            /* Free the memory for the previous frames */\n",
       "            if (fig.imageObj.src) {\n",
       "                (window.URL || window.webkitURL).revokeObjectURL(\n",
       "                    fig.imageObj.src);\n",
       "            }\n",
       "\n",
       "            fig.imageObj.src = (window.URL || window.webkitURL).createObjectURL(\n",
       "                evt.data);\n",
       "            fig.updated_canvas_event();\n",
       "            fig.waiting = false;\n",
       "            return;\n",
       "        }\n",
       "        else if (typeof evt.data === 'string' && evt.data.slice(0, 21) == \"data:image/png;base64\") {\n",
       "            fig.imageObj.src = evt.data;\n",
       "            fig.updated_canvas_event();\n",
       "            fig.waiting = false;\n",
       "            return;\n",
       "        }\n",
       "\n",
       "        var msg = JSON.parse(evt.data);\n",
       "        var msg_type = msg['type'];\n",
       "\n",
       "        // Call the  \"handle_{type}\" callback, which takes\n",
       "        // the figure and JSON message as its only arguments.\n",
       "        try {\n",
       "            var callback = fig[\"handle_\" + msg_type];\n",
       "        } catch (e) {\n",
       "            console.log(\"No handler for the '\" + msg_type + \"' message type: \", msg);\n",
       "            return;\n",
       "        }\n",
       "\n",
       "        if (callback) {\n",
       "            try {\n",
       "                // console.log(\"Handling '\" + msg_type + \"' message: \", msg);\n",
       "                callback(fig, msg);\n",
       "            } catch (e) {\n",
       "                console.log(\"Exception inside the 'handler_\" + msg_type + \"' callback:\", e, e.stack, msg);\n",
       "            }\n",
       "        }\n",
       "    };\n",
       "}\n",
       "\n",
       "// from http://stackoverflow.com/questions/1114465/getting-mouse-location-in-canvas\n",
       "mpl.findpos = function(e) {\n",
       "    //this section is from http://www.quirksmode.org/js/events_properties.html\n",
       "    var targ;\n",
       "    if (!e)\n",
       "        e = window.event;\n",
       "    if (e.target)\n",
       "        targ = e.target;\n",
       "    else if (e.srcElement)\n",
       "        targ = e.srcElement;\n",
       "    if (targ.nodeType == 3) // defeat Safari bug\n",
       "        targ = targ.parentNode;\n",
       "\n",
       "    // jQuery normalizes the pageX and pageY\n",
       "    // pageX,Y are the mouse positions relative to the document\n",
       "    // offset() returns the position of the element relative to the document\n",
       "    var x = e.pageX - $(targ).offset().left;\n",
       "    var y = e.pageY - $(targ).offset().top;\n",
       "\n",
       "    return {\"x\": x, \"y\": y};\n",
       "};\n",
       "\n",
       "/*\n",
       " * return a copy of an object with only non-object keys\n",
       " * we need this to avoid circular references\n",
       " * http://stackoverflow.com/a/24161582/3208463\n",
       " */\n",
       "function simpleKeys (original) {\n",
       "  return Object.keys(original).reduce(function (obj, key) {\n",
       "    if (typeof original[key] !== 'object')\n",
       "        obj[key] = original[key]\n",
       "    return obj;\n",
       "  }, {});\n",
       "}\n",
       "\n",
       "mpl.figure.prototype.mouse_event = function(event, name) {\n",
       "    var canvas_pos = mpl.findpos(event)\n",
       "\n",
       "    if (name === 'button_press')\n",
       "    {\n",
       "        this.canvas.focus();\n",
       "        this.canvas_div.focus();\n",
       "    }\n",
       "\n",
       "    var x = canvas_pos.x * mpl.ratio;\n",
       "    var y = canvas_pos.y * mpl.ratio;\n",
       "\n",
       "    this.send_message(name, {x: x, y: y, button: event.button,\n",
       "                             step: event.step,\n",
       "                             guiEvent: simpleKeys(event)});\n",
       "\n",
       "    /* This prevents the web browser from automatically changing to\n",
       "     * the text insertion cursor when the button is pressed.  We want\n",
       "     * to control all of the cursor setting manually through the\n",
       "     * 'cursor' event from matplotlib */\n",
       "    event.preventDefault();\n",
       "    return false;\n",
       "}\n",
       "\n",
       "mpl.figure.prototype._key_event_extra = function(event, name) {\n",
       "    // Handle any extra behaviour associated with a key event\n",
       "}\n",
       "\n",
       "mpl.figure.prototype.key_event = function(event, name) {\n",
       "\n",
       "    // Prevent repeat events\n",
       "    if (name == 'key_press')\n",
       "    {\n",
       "        if (event.which === this._key)\n",
       "            return;\n",
       "        else\n",
       "            this._key = event.which;\n",
       "    }\n",
       "    if (name == 'key_release')\n",
       "        this._key = null;\n",
       "\n",
       "    var value = '';\n",
       "    if (event.ctrlKey && event.which != 17)\n",
       "        value += \"ctrl+\";\n",
       "    if (event.altKey && event.which != 18)\n",
       "        value += \"alt+\";\n",
       "    if (event.shiftKey && event.which != 16)\n",
       "        value += \"shift+\";\n",
       "\n",
       "    value += 'k';\n",
       "    value += event.which.toString();\n",
       "\n",
       "    this._key_event_extra(event, name);\n",
       "\n",
       "    this.send_message(name, {key: value,\n",
       "                             guiEvent: simpleKeys(event)});\n",
       "    return false;\n",
       "}\n",
       "\n",
       "mpl.figure.prototype.toolbar_button_onclick = function(name) {\n",
       "    if (name == 'download') {\n",
       "        this.handle_save(this, null);\n",
       "    } else {\n",
       "        this.send_message(\"toolbar_button\", {name: name});\n",
       "    }\n",
       "};\n",
       "\n",
       "mpl.figure.prototype.toolbar_button_onmouseover = function(tooltip) {\n",
       "    this.message.textContent = tooltip;\n",
       "};\n",
       "mpl.toolbar_items = [[\"Home\", \"Reset original view\", \"fa fa-home icon-home\", \"home\"], [\"Back\", \"Back to  previous view\", \"fa fa-arrow-left icon-arrow-left\", \"back\"], [\"Forward\", \"Forward to next view\", \"fa fa-arrow-right icon-arrow-right\", \"forward\"], [\"\", \"\", \"\", \"\"], [\"Pan\", \"Pan axes with left mouse, zoom with right\", \"fa fa-arrows icon-move\", \"pan\"], [\"Zoom\", \"Zoom to rectangle\", \"fa fa-square-o icon-check-empty\", \"zoom\"], [\"\", \"\", \"\", \"\"], [\"Download\", \"Download plot\", \"fa fa-floppy-o icon-save\", \"download\"]];\n",
       "\n",
       "mpl.extensions = [\"eps\", \"jpeg\", \"pdf\", \"png\", \"ps\", \"raw\", \"svg\", \"tif\"];\n",
       "\n",
       "mpl.default_extension = \"png\";var comm_websocket_adapter = function(comm) {\n",
       "    // Create a \"websocket\"-like object which calls the given IPython comm\n",
       "    // object with the appropriate methods. Currently this is a non binary\n",
       "    // socket, so there is still some room for performance tuning.\n",
       "    var ws = {};\n",
       "\n",
       "    ws.close = function() {\n",
       "        comm.close()\n",
       "    };\n",
       "    ws.send = function(m) {\n",
       "        //console.log('sending', m);\n",
       "        comm.send(m);\n",
       "    };\n",
       "    // Register the callback with on_msg.\n",
       "    comm.on_msg(function(msg) {\n",
       "        //console.log('receiving', msg['content']['data'], msg);\n",
       "        // Pass the mpl event to the overridden (by mpl) onmessage function.\n",
       "        ws.onmessage(msg['content']['data'])\n",
       "    });\n",
       "    return ws;\n",
       "}\n",
       "\n",
       "mpl.mpl_figure_comm = function(comm, msg) {\n",
       "    // This is the function which gets called when the mpl process\n",
       "    // starts-up an IPython Comm through the \"matplotlib\" channel.\n",
       "\n",
       "    var id = msg.content.data.id;\n",
       "    // Get hold of the div created by the display call when the Comm\n",
       "    // socket was opened in Python.\n",
       "    var element = $(\"#\" + id);\n",
       "    var ws_proxy = comm_websocket_adapter(comm)\n",
       "\n",
       "    function ondownload(figure, format) {\n",
       "        window.open(figure.imageObj.src);\n",
       "    }\n",
       "\n",
       "    var fig = new mpl.figure(id, ws_proxy,\n",
       "                           ondownload,\n",
       "                           element.get(0));\n",
       "\n",
       "    // Call onopen now - mpl needs it, as it is assuming we've passed it a real\n",
       "    // web socket which is closed, not our websocket->open comm proxy.\n",
       "    ws_proxy.onopen();\n",
       "\n",
       "    fig.parent_element = element.get(0);\n",
       "    fig.cell_info = mpl.find_output_cell(\"<div id='\" + id + \"'></div>\");\n",
       "    if (!fig.cell_info) {\n",
       "        console.error(\"Failed to find cell for figure\", id, fig);\n",
       "        return;\n",
       "    }\n",
       "\n",
       "    var output_index = fig.cell_info[2]\n",
       "    var cell = fig.cell_info[0];\n",
       "\n",
       "};\n",
       "\n",
       "mpl.figure.prototype.handle_close = function(fig, msg) {\n",
       "    var width = fig.canvas.width/mpl.ratio\n",
       "    fig.root.unbind('remove')\n",
       "\n",
       "    // Update the output cell to use the data from the current canvas.\n",
       "    fig.push_to_output();\n",
       "    var dataURL = fig.canvas.toDataURL();\n",
       "    // Re-enable the keyboard manager in IPython - without this line, in FF,\n",
       "    // the notebook keyboard shortcuts fail.\n",
       "    IPython.keyboard_manager.enable()\n",
       "    $(fig.parent_element).html('<img src=\"' + dataURL + '\" width=\"' + width + '\">');\n",
       "    fig.close_ws(fig, msg);\n",
       "}\n",
       "\n",
       "mpl.figure.prototype.close_ws = function(fig, msg){\n",
       "    fig.send_message('closing', msg);\n",
       "    // fig.ws.close()\n",
       "}\n",
       "\n",
       "mpl.figure.prototype.push_to_output = function(remove_interactive) {\n",
       "    // Turn the data on the canvas into data in the output cell.\n",
       "    var width = this.canvas.width/mpl.ratio\n",
       "    var dataURL = this.canvas.toDataURL();\n",
       "    this.cell_info[1]['text/html'] = '<img src=\"' + dataURL + '\" width=\"' + width + '\">';\n",
       "}\n",
       "\n",
       "mpl.figure.prototype.updated_canvas_event = function() {\n",
       "    // Tell IPython that the notebook contents must change.\n",
       "    IPython.notebook.set_dirty(true);\n",
       "    this.send_message(\"ack\", {});\n",
       "    var fig = this;\n",
       "    // Wait a second, then push the new image to the DOM so\n",
       "    // that it is saved nicely (might be nice to debounce this).\n",
       "    setTimeout(function () { fig.push_to_output() }, 1000);\n",
       "}\n",
       "\n",
       "mpl.figure.prototype._init_toolbar = function() {\n",
       "    var fig = this;\n",
       "\n",
       "    var nav_element = $('<div/>')\n",
       "    nav_element.attr('style', 'width: 100%');\n",
       "    this.root.append(nav_element);\n",
       "\n",
       "    // Define a callback function for later on.\n",
       "    function toolbar_event(event) {\n",
       "        return fig.toolbar_button_onclick(event['data']);\n",
       "    }\n",
       "    function toolbar_mouse_event(event) {\n",
       "        return fig.toolbar_button_onmouseover(event['data']);\n",
       "    }\n",
       "\n",
       "    for(var toolbar_ind in mpl.toolbar_items){\n",
       "        var name = mpl.toolbar_items[toolbar_ind][0];\n",
       "        var tooltip = mpl.toolbar_items[toolbar_ind][1];\n",
       "        var image = mpl.toolbar_items[toolbar_ind][2];\n",
       "        var method_name = mpl.toolbar_items[toolbar_ind][3];\n",
       "\n",
       "        if (!name) { continue; };\n",
       "\n",
       "        var button = $('<button class=\"btn btn-default\" href=\"#\" title=\"' + name + '\"><i class=\"fa ' + image + ' fa-lg\"></i></button>');\n",
       "        button.click(method_name, toolbar_event);\n",
       "        button.mouseover(tooltip, toolbar_mouse_event);\n",
       "        nav_element.append(button);\n",
       "    }\n",
       "\n",
       "    // Add the status bar.\n",
       "    var status_bar = $('<span class=\"mpl-message\" style=\"text-align:right; float: right;\"/>');\n",
       "    nav_element.append(status_bar);\n",
       "    this.message = status_bar[0];\n",
       "\n",
       "    // Add the close button to the window.\n",
       "    var buttongrp = $('<div class=\"btn-group inline pull-right\"></div>');\n",
       "    var button = $('<button class=\"btn btn-mini btn-primary\" href=\"#\" title=\"Stop Interaction\"><i class=\"fa fa-power-off icon-remove icon-large\"></i></button>');\n",
       "    button.click(function (evt) { fig.handle_close(fig, {}); } );\n",
       "    button.mouseover('Stop Interaction', toolbar_mouse_event);\n",
       "    buttongrp.append(button);\n",
       "    var titlebar = this.root.find($('.ui-dialog-titlebar'));\n",
       "    titlebar.prepend(buttongrp);\n",
       "}\n",
       "\n",
       "mpl.figure.prototype._root_extra_style = function(el){\n",
       "    var fig = this\n",
       "    el.on(\"remove\", function(){\n",
       "\tfig.close_ws(fig, {});\n",
       "    });\n",
       "}\n",
       "\n",
       "mpl.figure.prototype._canvas_extra_style = function(el){\n",
       "    // this is important to make the div 'focusable\n",
       "    el.attr('tabindex', 0)\n",
       "    // reach out to IPython and tell the keyboard manager to turn it's self\n",
       "    // off when our div gets focus\n",
       "\n",
       "    // location in version 3\n",
       "    if (IPython.notebook.keyboard_manager) {\n",
       "        IPython.notebook.keyboard_manager.register_events(el);\n",
       "    }\n",
       "    else {\n",
       "        // location in version 2\n",
       "        IPython.keyboard_manager.register_events(el);\n",
       "    }\n",
       "\n",
       "}\n",
       "\n",
       "mpl.figure.prototype._key_event_extra = function(event, name) {\n",
       "    var manager = IPython.notebook.keyboard_manager;\n",
       "    if (!manager)\n",
       "        manager = IPython.keyboard_manager;\n",
       "\n",
       "    // Check for shift+enter\n",
       "    if (event.shiftKey && event.which == 13) {\n",
       "        this.canvas_div.blur();\n",
       "        event.shiftKey = false;\n",
       "        // Send a \"J\" for go to next cell\n",
       "        event.which = 74;\n",
       "        event.keyCode = 74;\n",
       "        manager.command_mode();\n",
       "        manager.handle_keydown(event);\n",
       "    }\n",
       "}\n",
       "\n",
       "mpl.figure.prototype.handle_save = function(fig, msg) {\n",
       "    fig.ondownload(fig, null);\n",
       "}\n",
       "\n",
       "\n",
       "mpl.find_output_cell = function(html_output) {\n",
       "    // Return the cell and output element which can be found *uniquely* in the notebook.\n",
       "    // Note - this is a bit hacky, but it is done because the \"notebook_saving.Notebook\"\n",
       "    // IPython event is triggered only after the cells have been serialised, which for\n",
       "    // our purposes (turning an active figure into a static one), is too late.\n",
       "    var cells = IPython.notebook.get_cells();\n",
       "    var ncells = cells.length;\n",
       "    for (var i=0; i<ncells; i++) {\n",
       "        var cell = cells[i];\n",
       "        if (cell.cell_type === 'code'){\n",
       "            for (var j=0; j<cell.output_area.outputs.length; j++) {\n",
       "                var data = cell.output_area.outputs[j];\n",
       "                if (data.data) {\n",
       "                    // IPython >= 3 moved mimebundle to data attribute of output\n",
       "                    data = data.data;\n",
       "                }\n",
       "                if (data['text/html'] == html_output) {\n",
       "                    return [cell, data, j];\n",
       "                }\n",
       "            }\n",
       "        }\n",
       "    }\n",
       "}\n",
       "\n",
       "// Register the function which deals with the matplotlib target/channel.\n",
       "// The kernel may be null if the page has been refreshed.\n",
       "if (IPython.notebook.kernel != null) {\n",
       "    IPython.notebook.kernel.comm_manager.register_target('matplotlib', mpl.mpl_figure_comm);\n",
       "}\n"
      ],
      "text/plain": [
       "<IPython.core.display.Javascript object>"
      ]
     },
     "metadata": {},
     "output_type": "display_data"
    },
    {
     "data": {
      "text/html": [
       "<img src=\"data:image/png;base64,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\" width=\"767.7777981169435\">"
      ],
      "text/plain": [
       "<IPython.core.display.HTML object>"
      ]
     },
     "metadata": {},
     "output_type": "display_data"
    }
   ],
   "source": [
    "%matplotlib notebook\n",
    "pw.updateplot()"
   ]
  },
  {
   "cell_type": "markdown",
   "metadata": {},
   "source": [
    "### Advanced Instructions:\n",
    "\n",
    "1. __Coordinate System__ sets the crs used in the map projection. The default value is *spherical* which uses EPSG:3857. *Geo* can also be entered for a standard mercator projection (ESPG:4326). A custom CRS can be used by entering the EPSG integer. For example, *5940* (a crs designed for Russia) can be entered to avoid having Russia wrap around the side of the map. Visit __[EPSG](https://epsg.io/3857)__ to find custom coordinate systems. *Default Value: spherical*\n",
    "\n",
    "2. __Number of Legend Columns__. *Default Value: 1*\n",
    "\n",
    "3. __Sort Legend By__ sorts the resources in the legend (not the size indicators) by either *alphabetical* or by the sum of the *capacity* of the resource for the selected country. *Default Value: capacity*\n",
    "\n",
    "4. __Zoom Level__ changes the size of the map portion of the plot. This can be useful to adjust the map for different sized screens, or to provide a bigger map for the purpose of saving. *__WARNING:__* making this value large enough to produce an image wider than the width of the console will result in erratic results! *Default Value: 1.5*\n",
    "\n",
    "5. __Island Size Thresh__ creates a minimum threshold (in km^2) for the geometry of islands to be included in the map. *largest* can also be entered to only select the largest geometry for the country. For example, plotting Canada with the default values includes a number of arctic islands that are useless for the purpose of a power plant map (sorry Baffin island). Setting __Island Size Thresh__ to either *largest* or *8000000* will only display the continental portions of Canada. *Default Value: 200 (km^2)*\n",
    "\n",
    "6. __Show Populated Places__ can be used to draw points on the map in the location of populated cities. Data is drawn from the __[Natural Earth](https://www.naturalearthdata.com/downloads/10m-cultural-vectors/10m-populated-places/)__ database of populated places which includes data for an astonishing number of locations. Additionally, arrows are drawn labeling the name of these points (*__HINT:__* these labels are draggable, although it doesn't work the best!). __Show Populated Places__ can either be *False* (i.e. off), or an integer value which sets the minimum population threshold for a city to be included on the map. *Default Value: False*\n",
    "\n",
    "7. __Bubble Opacity__ is used to change the opacity of the powerplant bubbles. Setting it lower can be useful for countries with a large number of overlapping bubbles (i.e. the United States). *Default Value: 0.5*\n",
    "\n",
    "8. __Country Precursor__ allows you to enter a word (or series of words) to appear before the country name in the title of the plot. For instance, if you entered 'Philippines' as the __Country Name__ but want the title to be 'Power Plants in The Philippines' you could enter *\"The \"* into __Country Precursor__. *Default Value: None*\n",
    "\n",
    "\n",
    "Feel free to email me at sam.koebrich@NREL.gov with any bugs, comments, or feature requests."
   ]
  },
  {
   "cell_type": "code",
   "execution_count": 14,
   "metadata": {
    "init_cell": true
   },
   "outputs": [
    {
     "data": {
      "application/vnd.jupyter.widget-view+json": {
       "model_id": "8821d8c8bad643598f5d501c98efe078",
       "version_major": 2,
       "version_minor": 0
      },
      "text/plain": [
       "Text(value='spherical', description='Coordinate System:', placeholder='Type something', style=DescriptionStyle…"
      ]
     },
     "metadata": {},
     "output_type": "display_data"
    },
    {
     "data": {
      "application/vnd.jupyter.widget-view+json": {
       "model_id": "cfc57b1268e8498d8fe0f499da3ec971",
       "version_major": 2,
       "version_minor": 0
      },
      "text/plain": [
       "IntSlider(value=1, continuous_update=False, description='Number of Legend Columns:', max=3, min=1, style=Slide…"
      ]
     },
     "metadata": {},
     "output_type": "display_data"
    },
    {
     "data": {
      "application/vnd.jupyter.widget-view+json": {
       "model_id": "92aaafdde6af413e84eb31bdfd3b23f8",
       "version_major": 2,
       "version_minor": 0
      },
      "text/plain": [
       "Dropdown(description='Sort Legend By:', options=('capacity', 'alphabetical'), style=DescriptionStyle(descripti…"
      ]
     },
     "metadata": {},
     "output_type": "display_data"
    },
    {
     "data": {
      "application/vnd.jupyter.widget-view+json": {
       "model_id": "c817146a5a06493085139f32d5e2d31c",
       "version_major": 2,
       "version_minor": 0
      },
      "text/plain": [
       "FloatSlider(value=1.2, continuous_update=False, description='Zoom Level:', max=3.0, min=0.5, readout_format='.…"
      ]
     },
     "metadata": {},
     "output_type": "display_data"
    },
    {
     "data": {
      "application/vnd.jupyter.widget-view+json": {
       "model_id": "af5c8b8c159748a7a2035f8bf9694894",
       "version_major": 2,
       "version_minor": 0
      },
      "text/plain": [
       "Text(value='200', description='Island Size Thresh:', placeholder='Type a island thresh', style=DescriptionStyl…"
      ]
     },
     "metadata": {},
     "output_type": "display_data"
    },
    {
     "data": {
      "application/vnd.jupyter.widget-view+json": {
       "model_id": "2e2eae9e328a41d1afc3b9ee107fd5eb",
       "version_major": 2,
       "version_minor": 0
      },
      "text/plain": [
       "Text(value='False', description='Show Populated Places:', placeholder='Type something', style=DescriptionStyle…"
      ]
     },
     "metadata": {},
     "output_type": "display_data"
    },
    {
     "data": {
      "application/vnd.jupyter.widget-view+json": {
       "model_id": "67387ecd71284499954210ad3579e137",
       "version_major": 2,
       "version_minor": 0
      },
      "text/plain": [
       "FloatSlider(value=0.5, continuous_update=False, description='Bubble Opacity:', max=1.0, readout_format='.1f', …"
      ]
     },
     "metadata": {},
     "output_type": "display_data"
    },
    {
     "data": {
      "application/vnd.jupyter.widget-view+json": {
       "model_id": "bdb3079cc7d64617a743ad6720956e11",
       "version_major": 2,
       "version_minor": 0
      },
      "text/plain": [
       "Text(value='', description='Country Precursor:', placeholder='Precursor to Country Name', style=DescriptionSty…"
      ]
     },
     "metadata": {},
     "output_type": "display_data"
    }
   ],
   "source": [
    "pw.showadvancedwidgets()"
   ]
  },
  {
   "cell_type": "markdown",
   "metadata": {},
   "source": [
    "Powerplant data from: \n",
    "Global Energy Observatory, Google, KTH Royal Institute of Technology in Stockholm, Enipedia, World Resources Institute. 2018. Global Power Plant Database. Published on Resource Watch and Google Earth Engine; http://resourcewatch.org/ https://earthengine.google.com/\n",
    "\n",
    "\n",
    "Written in &#128013; with &#128149; by Sam Koebrich for the National Renewable Energy Laboratory."
   ]
  }
 ],
 "metadata": {
  "celltoolbar": "Initialization Cell",
  "kernelspec": {
   "display_name": "Python 3",
   "language": "python",
   "name": "python3"
  },
  "language_info": {
   "codemirror_mode": {
    "name": "ipython",
    "version": 3
   },
   "file_extension": ".py",
   "mimetype": "text/x-python",
   "name": "python",
   "nbconvert_exporter": "python",
   "pygments_lexer": "ipython3",
   "version": "3.6.5"
  },
  "widgets": {
   "application/vnd.jupyter.widget-state+json": {
    "state": {
     "010ed1c7bf0a4848948e308eb71fc2fc": {
      "model_module": "@jupyter-widgets/base",
      "model_module_version": "1.0.0",
      "model_name": "LayoutModel",
      "state": {}
     },
     "02b8a3844d794aed9133f3180581b508": {
      "model_module": "@jupyter-widgets/base",
      "model_module_version": "1.0.0",
      "model_name": "LayoutModel",
      "state": {}
     },
     "058d54805c20450eafbc9db231c5c754": {
      "model_module": "@jupyter-widgets/controls",
      "model_module_version": "1.2.0",
      "model_name": "DescriptionStyleModel",
      "state": {
       "description_width": "initial"
      }
     },
     "05cf403f1c984ed785a57914e07b3ed4": {
      "model_module": "@jupyter-widgets/base",
      "model_module_version": "1.0.0",
      "model_name": "LayoutModel",
      "state": {
       "height": "80px",
       "width": "70%"
      }
     },
     "07d4e4a18cc346ce93b9a10849d918d9": {
      "model_module": "@jupyter-widgets/base",
      "model_module_version": "1.0.0",
      "model_name": "LayoutModel",
      "state": {
       "height": "80px",
       "width": "70%"
      }
     },
     "083a7ffeba7b4bc2931fa493aac2b9c2": {
      "model_module": "@jupyter-widgets/controls",
      "model_module_version": "1.2.0",
      "model_name": "TextModel",
      "state": {
       "description": "Coordinate System:",
       "layout": "IPY_MODEL_8e369e9e95b0412a956edc2eec5ca3ee",
       "placeholder": "Type something",
       "style": "IPY_MODEL_ed2ba2283910438e9213d39295c6c66d",
       "value": "spherical"
      }
     },
     "0a158a000eb841de97f47b8ee7f14c5a": {
      "model_module": "@jupyter-widgets/base",
      "model_module_version": "1.0.0",
      "model_name": "LayoutModel",
      "state": {}
     },
     "0b4622c9ea7d4c03874b56cacb424dcd": {
      "model_module": "@jupyter-widgets/controls",
      "model_module_version": "1.2.0",
      "model_name": "TextModel",
      "state": {
       "description": "Country Precursor:",
       "layout": "IPY_MODEL_7eebd21cecfd4f438cda8b39232357ff",
       "placeholder": "Precursor to Country Name",
       "style": "IPY_MODEL_40c9e9c61a9d49d988156905625739cc"
      }
     },
     "0beff752fed84020bc817f17c2ecaa1d": {
      "model_module": "@jupyter-widgets/base",
      "model_module_version": "1.0.0",
      "model_name": "LayoutModel",
      "state": {}
     },
     "0f486a410ccd413d903252616dc606f3": {
      "model_module": "@jupyter-widgets/controls",
      "model_module_version": "1.2.0",
      "model_name": "FloatSliderModel",
      "state": {
       "continuous_update": false,
       "description": "Bubble Opacity:",
       "layout": "IPY_MODEL_ed748724e69043e6b6b9290c21e750fc",
       "max": 1,
       "readout_format": ".1f",
       "step": 0.1,
       "style": "IPY_MODEL_1a4ed045f62748fbb73330749aa865ba",
       "value": 0.5
      }
     },
     "1038a7a79c4f4339928cf3eca426265d": {
      "model_module": "@jupyter-widgets/controls",
      "model_module_version": "1.2.0",
      "model_name": "TextModel",
      "state": {
       "description": "Show Populated Places:",
       "layout": "IPY_MODEL_893588eccb564a26b2026e0d63bb40d0",
       "placeholder": "Type something",
       "style": "IPY_MODEL_288060d3e82c4d9e995a8e6eb516dbd6",
       "value": "False"
      }
     },
     "10939cd7c0ba4b7f813bbd234f5886ca": {
      "model_module": "@jupyter-widgets/controls",
      "model_module_version": "1.2.0",
      "model_name": "DescriptionStyleModel",
      "state": {
       "description_width": "initial"
      }
     },
     "109d31f70ca84d888591250c0905c01c": {
      "model_module": "@jupyter-widgets/base",
      "model_module_version": "1.0.0",
      "model_name": "LayoutModel",
      "state": {}
     },
     "10d2814d3e2a4514be2f21a0f26f9f9a": {
      "model_module": "@jupyter-widgets/controls",
      "model_module_version": "1.2.0",
      "model_name": "ButtonStyleModel",
      "state": {}
     },
     "12b8b3adb0454383bb82c961e846082a": {
      "model_module": "@jupyter-widgets/controls",
      "model_module_version": "1.2.0",
      "model_name": "SliderStyleModel",
      "state": {
       "description_width": "initial"
      }
     },
     "12e0922dd6844b0badf0173a79d455ba": {
      "model_module": "@jupyter-widgets/base",
      "model_module_version": "1.0.0",
      "model_name": "LayoutModel",
      "state": {}
     },
     "13deba104b124a58808102cf5ca3385b": {
      "model_module": "@jupyter-widgets/controls",
      "model_module_version": "1.2.0",
      "model_name": "ToggleButtonsModel",
      "state": {
       "_options_labels": [
        "Simple",
        "Mixed",
        "Complex"
       ],
       "button_style": "",
       "description": "Simplification Level:",
       "icons": [],
       "index": 1,
       "layout": "IPY_MODEL_3bf6e31885ee4afeafec97f2f5f3953e",
       "style": "IPY_MODEL_34e9edea2dff4ec7b7718a1e90f3e475",
       "tooltips": [
        "Renewables, Fossil, and Nuclear",
        "Solar, Wind, Hydro, Geothermal,Biomass, Wave and Tidal,\n Storage, Fossil, Nuclear",
        "Solar, Wind, Hydro, Geothermal,Biomass, Wave and Tidal,\n Storage, Fossil, Nuclear, Coal, Gas, Oil, Waste, Cogeneration"
       ]
      }
     },
     "14e316bba7b646ec8d29b2f2b9376a70": {
      "model_module": "@jupyter-widgets/controls",
      "model_module_version": "1.2.0",
      "model_name": "DropdownModel",
      "state": {
       "_options_labels": [
        "capacity",
        "alphabetical"
       ],
       "description": "Sort Legend By:",
       "index": 0,
       "layout": "IPY_MODEL_40d16b65d8df44c4b895c47fa60b5ba9",
       "style": "IPY_MODEL_7b7d7fa6e7a34a5daa8b2d4705aa3538"
      }
     },
     "16b0c417099e4e1fb9797faaf460cdab": {
      "model_module": "@jupyter-widgets/controls",
      "model_module_version": "1.2.0",
      "model_name": "DescriptionStyleModel",
      "state": {
       "description_width": "initial"
      }
     },
     "17001cca00194e0cafdee261752dbcdd": {
      "model_module": "@jupyter-widgets/base",
      "model_module_version": "1.0.0",
      "model_name": "LayoutModel",
      "state": {}
     },
     "18e37dd631e84d1c8a1572e0227ca2f5": {
      "model_module": "@jupyter-widgets/base",
      "model_module_version": "1.0.0",
      "model_name": "LayoutModel",
      "state": {}
     },
     "1a4944b730414972b8e78ccc5f174728": {
      "model_module": "@jupyter-widgets/controls",
      "model_module_version": "1.2.0",
      "model_name": "SliderStyleModel",
      "state": {
       "description_width": "initial"
      }
     },
     "1a4ed045f62748fbb73330749aa865ba": {
      "model_module": "@jupyter-widgets/controls",
      "model_module_version": "1.2.0",
      "model_name": "SliderStyleModel",
      "state": {
       "description_width": "initial"
      }
     },
     "1b0ea0b2b7464ed1b8cbe979839ced9b": {
      "model_module": "@jupyter-widgets/base",
      "model_module_version": "1.0.0",
      "model_name": "LayoutModel",
      "state": {}
     },
     "1b1af95fda874a35830da77937472a16": {
      "model_module": "@jupyter-widgets/controls",
      "model_module_version": "1.2.0",
      "model_name": "DescriptionStyleModel",
      "state": {
       "description_width": "initial"
      }
     },
     "1f0ee5c34001498fbcde7e7ca6c8f9e5": {
      "model_module": "@jupyter-widgets/base",
      "model_module_version": "1.0.0",
      "model_name": "LayoutModel",
      "state": {}
     },
     "1fabb84a19d34e9db16d7f6fafc80d51": {
      "model_module": "@jupyter-widgets/controls",
      "model_module_version": "1.2.0",
      "model_name": "ButtonModel",
      "state": {
       "description": "Update Plot",
       "icon": "check",
       "layout": "IPY_MODEL_7f9bf6dbe7e14010b2690230fa643a59",
       "style": "IPY_MODEL_94a880a70bfd4aacb4ba03bf1d59ae92",
       "tooltip": "Update Plot"
      }
     },
     "23326e45c0584ff49f26ca3405dc269c": {
      "model_module": "@jupyter-widgets/controls",
      "model_module_version": "1.2.0",
      "model_name": "DescriptionStyleModel",
      "state": {
       "description_width": "initial"
      }
     },
     "2744a9a4245e4ce392b7da3458773886": {
      "model_module": "@jupyter-widgets/base",
      "model_module_version": "1.0.0",
      "model_name": "LayoutModel",
      "state": {
       "height": "80px",
       "width": "70%"
      }
     },
     "27923732d28842fb833d024bd04ffcef": {
      "model_module": "@jupyter-widgets/controls",
      "model_module_version": "1.2.0",
      "model_name": "ToggleButtonsStyleModel",
      "state": {
       "button_width": "",
       "description_width": "initial"
      }
     },
     "288060d3e82c4d9e995a8e6eb516dbd6": {
      "model_module": "@jupyter-widgets/controls",
      "model_module_version": "1.2.0",
      "model_name": "DescriptionStyleModel",
      "state": {
       "description_width": "initial"
      }
     },
     "29add54988604a7999b603dd9cb7d054": {
      "model_module": "@jupyter-widgets/controls",
      "model_module_version": "1.2.0",
      "model_name": "TextModel",
      "state": {
       "description": "Country Name:",
       "layout": "IPY_MODEL_12e0922dd6844b0badf0173a79d455ba",
       "placeholder": "Type a country name",
       "style": "IPY_MODEL_a93b116b59be4920bb2e511b49aa7f77",
       "value": "India"
      }
     },
     "2a3164795ea544ecb3999fe612ee5414": {
      "model_module": "@jupyter-widgets/base",
      "model_module_version": "1.0.0",
      "model_name": "LayoutModel",
      "state": {
       "height": "80px",
       "width": "70%"
      }
     },
     "2bafa6351b9045a2a9bf212871912c7e": {
      "model_module": "@jupyter-widgets/controls",
      "model_module_version": "1.2.0",
      "model_name": "IntSliderModel",
      "state": {
       "continuous_update": false,
       "description": "Number of Legend Columns:",
       "layout": "IPY_MODEL_73c61e62236546379381715c89153640",
       "max": 3,
       "min": 1,
       "style": "IPY_MODEL_a8af5a4db811411db959cbfd18d59ad6",
       "value": 1
      }
     },
     "2d8014c48b5a4740b47b895f621dc9a1": {
      "model_module": "@jupyter-widgets/controls",
      "model_module_version": "1.2.0",
      "model_name": "ButtonStyleModel",
      "state": {}
     },
     "2f6629529078457db334226140d36d61": {
      "model_module": "@jupyter-widgets/base",
      "model_module_version": "1.0.0",
      "model_name": "LayoutModel",
      "state": {}
     },
     "2fe415dc7de54d6190176de0a7175b33": {
      "model_module": "@jupyter-widgets/controls",
      "model_module_version": "1.2.0",
      "model_name": "DescriptionStyleModel",
      "state": {
       "description_width": "initial"
      }
     },
     "30d6471269fc40a1a4f860fdfc8b610e": {
      "model_module": "@jupyter-widgets/base",
      "model_module_version": "1.0.0",
      "model_name": "LayoutModel",
      "state": {}
     },
     "3125f5cd27a7450c98c9f988dd85cb7f": {
      "model_module": "@jupyter-widgets/controls",
      "model_module_version": "1.2.0",
      "model_name": "DropdownModel",
      "state": {
       "_options_labels": [
        "capacity",
        "alphabetical"
       ],
       "description": "Sort Legend By:",
       "index": 0,
       "layout": "IPY_MODEL_49bd67dc24854b889918a23b15b00f85",
       "style": "IPY_MODEL_a750b2ac585544419b8e637c8e885f82"
      }
     },
     "31350430751643e5814fc8980af761cc": {
      "model_module": "@jupyter-widgets/controls",
      "model_module_version": "1.2.0",
      "model_name": "TextModel",
      "state": {
       "description": "Coordinate System:",
       "layout": "IPY_MODEL_53d81026ac3646c2814129596f41f012",
       "placeholder": "Type something",
       "style": "IPY_MODEL_ef32c488276b4ee49436f14c7eb80224",
       "value": "spherical"
      }
     },
     "3393bdca9acd4a3aa9db45edbc8da76e": {
      "model_module": "@jupyter-widgets/controls",
      "model_module_version": "1.2.0",
      "model_name": "TextModel",
      "state": {
       "description": "Country Name:",
       "layout": "IPY_MODEL_18e37dd631e84d1c8a1572e0227ca2f5",
       "placeholder": "Type a country name",
       "style": "IPY_MODEL_537f1bd0e2ad45e9b841ecf61c980f2f",
       "value": "India"
      }
     },
     "339ee14ddd864efabafa4777e196b00d": {
      "model_module": "@jupyter-widgets/controls",
      "model_module_version": "1.2.0",
      "model_name": "DescriptionStyleModel",
      "state": {
       "description_width": "initial"
      }
     },
     "34014df9fcdc47df8e33f6b7b35b0974": {
      "model_module": "@jupyter-widgets/controls",
      "model_module_version": "1.2.0",
      "model_name": "TextModel",
      "state": {
       "description": "Show Populated Places:",
       "layout": "IPY_MODEL_109d31f70ca84d888591250c0905c01c",
       "placeholder": "Type something",
       "style": "IPY_MODEL_16b0c417099e4e1fb9797faaf460cdab",
       "value": "False"
      }
     },
     "34e9edea2dff4ec7b7718a1e90f3e475": {
      "model_module": "@jupyter-widgets/controls",
      "model_module_version": "1.2.0",
      "model_name": "ToggleButtonsStyleModel",
      "state": {
       "button_width": "",
       "description_width": "initial"
      }
     },
     "358b85675660437d91780d8aa0097a00": {
      "model_module": "@jupyter-widgets/base",
      "model_module_version": "1.0.0",
      "model_name": "LayoutModel",
      "state": {}
     },
     "366cec21c9064cc4b475d2ab927a07f7": {
      "model_module": "@jupyter-widgets/controls",
      "model_module_version": "1.2.0",
      "model_name": "IntSliderModel",
      "state": {
       "continuous_update": false,
       "description": "DPI (resolution):",
       "layout": "IPY_MODEL_591839c9b4f141d5a28d4cf3452b40c6",
       "max": 500,
       "min": 100,
       "style": "IPY_MODEL_9afbc86f13914158a03d293a830ee70d",
       "value": 300
      }
     },
     "36eae348f7224cb1b05bee38a1c2be8c": {
      "model_module": "@jupyter-widgets/controls",
      "model_module_version": "1.2.0",
      "model_name": "DescriptionStyleModel",
      "state": {
       "description_width": "initial"
      }
     },
     "375fcecc1872407f98f0cf7ca4cd416d": {
      "model_module": "@jupyter-widgets/controls",
      "model_module_version": "1.2.0",
      "model_name": "TextModel",
      "state": {
       "description": "Coordinate System:",
       "layout": "IPY_MODEL_e9305f35e0fd483887baf0b326df7b95",
       "placeholder": "Type something",
       "style": "IPY_MODEL_ae3b3f6fbb1a4b26b0ffe7d4b9f72de8",
       "value": "spherical"
      }
     },
     "3b02cbdca733420bb0abb22b3b073d07": {
      "model_module": "@jupyter-widgets/controls",
      "model_module_version": "1.2.0",
      "model_name": "TextModel",
      "state": {
       "description": "Show Populated Places:",
       "layout": "IPY_MODEL_d4ad19b8a2f04f589aa20a7ccc92ac75",
       "placeholder": "Type something",
       "style": "IPY_MODEL_9ab1fe573e8445949f69aa4030771271",
       "value": "False"
      }
     },
     "3bcdc2e9071e47f6b59fef3edfba57ad": {
      "model_module": "@jupyter-widgets/controls",
      "model_module_version": "1.2.0",
      "model_name": "DescriptionStyleModel",
      "state": {
       "description_width": "initial"
      }
     },
     "3bf6e31885ee4afeafec97f2f5f3953e": {
      "model_module": "@jupyter-widgets/base",
      "model_module_version": "1.0.0",
      "model_name": "LayoutModel",
      "state": {}
     },
     "3c96f40bfe404913bb8a556bc94eceb5": {
      "model_module": "@jupyter-widgets/controls",
      "model_module_version": "1.2.0",
      "model_name": "FloatSliderModel",
      "state": {
       "continuous_update": false,
       "description": "Zoom Level:",
       "layout": "IPY_MODEL_dbbfa7595efb435a920d2df2c4ed014f",
       "max": 3,
       "min": 0.5,
       "readout_format": ".1f",
       "step": 0.1,
       "style": "IPY_MODEL_d125a30ae17d43409f6d391ec5d09566",
       "value": 1.5
      }
     },
     "3ce25d4b89904195985c5a22c00a3658": {
      "model_module": "@jupyter-widgets/base",
      "model_module_version": "1.0.0",
      "model_name": "LayoutModel",
      "state": {}
     },
     "3f50e791dfe84c56971a0e3510ab2462": {
      "model_module": "@jupyter-widgets/base",
      "model_module_version": "1.0.0",
      "model_name": "LayoutModel",
      "state": {}
     },
     "40c9e9c61a9d49d988156905625739cc": {
      "model_module": "@jupyter-widgets/controls",
      "model_module_version": "1.2.0",
      "model_name": "DescriptionStyleModel",
      "state": {
       "description_width": "initial"
      }
     },
     "40d16b65d8df44c4b895c47fa60b5ba9": {
      "model_module": "@jupyter-widgets/base",
      "model_module_version": "1.0.0",
      "model_name": "LayoutModel",
      "state": {}
     },
     "432a103699904db7963d0a9bbc7e17f2": {
      "model_module": "@jupyter-widgets/controls",
      "model_module_version": "1.2.0",
      "model_name": "ButtonModel",
      "state": {
       "description": "Update Plot",
       "icon": "check",
       "layout": "IPY_MODEL_07d4e4a18cc346ce93b9a10849d918d9",
       "style": "IPY_MODEL_5db54fa15a92462eaef5fb688a8e939b",
       "tooltip": "Update Plot"
      }
     },
     "43d02a41bd7a4de4992b058737b6302f": {
      "model_module": "@jupyter-widgets/controls",
      "model_module_version": "1.2.0",
      "model_name": "TextModel",
      "state": {
       "description": "Path to save to:",
       "layout": "IPY_MODEL_7d8d5133f57346deb21974a0a242f2ee",
       "placeholder": "Type the complete path to save to",
       "style": "IPY_MODEL_a723d99706924ff7a0ca2a6ef05b9924",
       "value": "/Users/skoebric/Downloads/XYZ.png"
      }
     },
     "44db9351f5b24a118a8d9b80d4cd7037": {
      "model_module": "@jupyter-widgets/controls",
      "model_module_version": "1.2.0",
      "model_name": "DescriptionStyleModel",
      "state": {
       "description_width": "initial"
      }
     },
     "45145fd840e343269f4298bcfcaff6b5": {
      "model_module": "@jupyter-widgets/controls",
      "model_module_version": "1.2.0",
      "model_name": "ButtonStyleModel",
      "state": {}
     },
     "46278d5b091c4166b3984f0c245bad2d": {
      "model_module": "@jupyter-widgets/controls",
      "model_module_version": "1.2.0",
      "model_name": "TextModel",
      "state": {
       "description": "Path to save to:",
       "layout": "IPY_MODEL_7ddc92e61fbc4f82990fbe5d0bb632c6",
       "placeholder": "Type the complete path to save to",
       "style": "IPY_MODEL_a0167f6a4d574f0ab63d52658e485f1d",
       "value": "/Users/skoebric/Downloads/XYZ.png"
      }
     },
     "46834292510b46f3a806a189b6851cfd": {
      "model_module": "@jupyter-widgets/base",
      "model_module_version": "1.0.0",
      "model_name": "LayoutModel",
      "state": {}
     },
     "46ae4478c31f4e94b1935ac9d06f4320": {
      "model_module": "@jupyter-widgets/controls",
      "model_module_version": "1.2.0",
      "model_name": "TextModel",
      "state": {
       "description": "Island Size Thresh:",
       "layout": "IPY_MODEL_0a158a000eb841de97f47b8ee7f14c5a",
       "placeholder": "Type a island thresh",
       "style": "IPY_MODEL_c17885a9718b4721bbbfab07543fd658",
       "value": "200"
      }
     },
     "49b6b75d5bd347c89286ebffd49e3f9a": {
      "model_module": "@jupyter-widgets/controls",
      "model_module_version": "1.2.0",
      "model_name": "ButtonModel",
      "state": {
       "description": "Update Plot",
       "icon": "check",
       "layout": "IPY_MODEL_a22c4e081b5f414d878555709e742130",
       "style": "IPY_MODEL_63188a9729fe43bfbf3d484000133813",
       "tooltip": "Update Plot"
      }
     },
     "49bd67dc24854b889918a23b15b00f85": {
      "model_module": "@jupyter-widgets/base",
      "model_module_version": "1.0.0",
      "model_name": "LayoutModel",
      "state": {}
     },
     "4ab81f5bc0784995b4845a8d39b21895": {
      "model_module": "@jupyter-widgets/controls",
      "model_module_version": "1.2.0",
      "model_name": "ToggleButtonsStyleModel",
      "state": {
       "button_width": "",
       "description_width": "initial"
      }
     },
     "4ec3e174451741f9b57b5e2bfa9fa7e4": {
      "model_module": "@jupyter-widgets/base",
      "model_module_version": "1.0.0",
      "model_name": "LayoutModel",
      "state": {}
     },
     "4f257e99d3e949af99805896f656097d": {
      "model_module": "@jupyter-widgets/base",
      "model_module_version": "1.0.0",
      "model_name": "LayoutModel",
      "state": {}
     },
     "4f67f5e54e9848f2a29055f2338e10eb": {
      "model_module": "@jupyter-widgets/controls",
      "model_module_version": "1.2.0",
      "model_name": "ButtonModel",
      "state": {
       "description": "Update Plot",
       "icon": "check",
       "layout": "IPY_MODEL_b02c35743def4136a7294be2dd34fb32",
       "style": "IPY_MODEL_9a93d7bdd7c94b129d96672b4b55ee04",
       "tooltip": "Update Plot"
      }
     },
     "51014d006bb84891bead873351ff1d01": {
      "model_module": "@jupyter-widgets/controls",
      "model_module_version": "1.2.0",
      "model_name": "DropdownModel",
      "state": {
       "_options_labels": [
        "capacity",
        "alphabetical"
       ],
       "description": "Sort Legend By:",
       "index": 0,
       "layout": "IPY_MODEL_80a60a4f0d544959bb6b9dbda2230dc4",
       "style": "IPY_MODEL_a605d0d3081642aeb98a5b8209c792d3"
      }
     },
     "51d5c7003f234b8c910c7f5b0492c377": {
      "model_module": "@jupyter-widgets/controls",
      "model_module_version": "1.2.0",
      "model_name": "FloatSliderModel",
      "state": {
       "continuous_update": false,
       "description": "Bubble Opacity:",
       "layout": "IPY_MODEL_010ed1c7bf0a4848948e308eb71fc2fc",
       "max": 1,
       "readout_format": ".1f",
       "step": 0.1,
       "style": "IPY_MODEL_f5a0a62cb8df476c8ffc4110bc5cd6cb",
       "value": 0.5
      }
     },
     "5221a1a38da04a329dd1d360ddc1ec4d": {
      "model_module": "@jupyter-widgets/controls",
      "model_module_version": "1.2.0",
      "model_name": "SliderStyleModel",
      "state": {
       "description_width": "initial"
      }
     },
     "537f1bd0e2ad45e9b841ecf61c980f2f": {
      "model_module": "@jupyter-widgets/controls",
      "model_module_version": "1.2.0",
      "model_name": "DescriptionStyleModel",
      "state": {
       "description_width": "initial"
      }
     },
     "53d81026ac3646c2814129596f41f012": {
      "model_module": "@jupyter-widgets/base",
      "model_module_version": "1.0.0",
      "model_name": "LayoutModel",
      "state": {}
     },
     "57f98d81985943ebb9233853dd4a23f0": {
      "model_module": "@jupyter-widgets/controls",
      "model_module_version": "1.2.0",
      "model_name": "ToggleButtonsStyleModel",
      "state": {
       "button_width": "",
       "description_width": "initial"
      }
     },
     "5907fb5ea9804f719263c7fd2887a7d4": {
      "model_module": "@jupyter-widgets/base",
      "model_module_version": "1.0.0",
      "model_name": "LayoutModel",
      "state": {}
     },
     "591839c9b4f141d5a28d4cf3452b40c6": {
      "model_module": "@jupyter-widgets/base",
      "model_module_version": "1.0.0",
      "model_name": "LayoutModel",
      "state": {}
     },
     "59420138f5c443688f9971e1e65bcff6": {
      "model_module": "@jupyter-widgets/controls",
      "model_module_version": "1.2.0",
      "model_name": "DescriptionStyleModel",
      "state": {
       "description_width": "initial"
      }
     },
     "59a4ff60ebaa4d40af2dd5a5325f89c1": {
      "model_module": "@jupyter-widgets/base",
      "model_module_version": "1.0.0",
      "model_name": "LayoutModel",
      "state": {}
     },
     "5b233d34e9214b0fb7e071a0f56f354f": {
      "model_module": "@jupyter-widgets/controls",
      "model_module_version": "1.2.0",
      "model_name": "DescriptionStyleModel",
      "state": {
       "description_width": "initial"
      }
     },
     "5b7ce13e79aa4ab0b9b4c5f6bfd15ec3": {
      "model_module": "@jupyter-widgets/controls",
      "model_module_version": "1.2.0",
      "model_name": "FloatSliderModel",
      "state": {
       "continuous_update": false,
       "description": "Zoom Level:",
       "layout": "IPY_MODEL_86180b5f6c09448e9405b0dd50cb83be",
       "max": 3,
       "min": 0.5,
       "readout_format": ".1f",
       "step": 0.1,
       "style": "IPY_MODEL_c1761a83c028452db93416353cb004ba",
       "value": 1.3
      }
     },
     "5b819e0b42f34b1e9730fbd28fe6d8d1": {
      "model_module": "@jupyter-widgets/controls",
      "model_module_version": "1.2.0",
      "model_name": "TextModel",
      "state": {
       "description": "Island Size Thresh:",
       "layout": "IPY_MODEL_c870c16b581947f49459fff4f5bcad37",
       "placeholder": "Type a island thresh",
       "style": "IPY_MODEL_f3b74ccd814b427fb5383b5f00c6e23d",
       "value": "200"
      }
     },
     "5d5c70c261a14357b167e42fc1d21d6f": {
      "model_module": "@jupyter-widgets/controls",
      "model_module_version": "1.2.0",
      "model_name": "ButtonStyleModel",
      "state": {}
     },
     "5d7a958c50e648eb89e831310f889020": {
      "model_module": "@jupyter-widgets/controls",
      "model_module_version": "1.2.0",
      "model_name": "TextModel",
      "state": {
       "description": "Path to save to:",
       "layout": "IPY_MODEL_1f0ee5c34001498fbcde7e7ca6c8f9e5",
       "placeholder": "Type the complete path to save to",
       "style": "IPY_MODEL_6af47c5cf079478dab6b79b1a0a6afa1",
       "value": "/Users/skoebric/Downloads/XYZ.png"
      }
     },
     "5d8481f9b3834ec3afe531a153110000": {
      "model_module": "@jupyter-widgets/base",
      "model_module_version": "1.0.0",
      "model_name": "LayoutModel",
      "state": {
       "height": "80px",
       "width": "70%"
      }
     },
     "5db54fa15a92462eaef5fb688a8e939b": {
      "model_module": "@jupyter-widgets/controls",
      "model_module_version": "1.2.0",
      "model_name": "ButtonStyleModel",
      "state": {}
     },
     "5dc99c4918fa40c5bbd1ee3d60fc3644": {
      "model_module": "@jupyter-widgets/base",
      "model_module_version": "1.0.0",
      "model_name": "LayoutModel",
      "state": {}
     },
     "5fcb70cac1cf48d3a57d9f2586e10033": {
      "model_module": "@jupyter-widgets/base",
      "model_module_version": "1.0.0",
      "model_name": "LayoutModel",
      "state": {
       "height": "80px",
       "width": "70%"
      }
     },
     "607a6e59d9804276aa154647bd4e2501": {
      "model_module": "@jupyter-widgets/base",
      "model_module_version": "1.0.0",
      "model_name": "LayoutModel",
      "state": {}
     },
     "6224455a541843b1b4fd0ad4e24a5e86": {
      "model_module": "@jupyter-widgets/controls",
      "model_module_version": "1.2.0",
      "model_name": "IntSliderModel",
      "state": {
       "continuous_update": false,
       "description": "DPI (resolution):",
       "layout": "IPY_MODEL_59a4ff60ebaa4d40af2dd5a5325f89c1",
       "max": 500,
       "min": 100,
       "style": "IPY_MODEL_a863b76fab18496c98933ccd4bac1142",
       "value": 300
      }
     },
     "63188a9729fe43bfbf3d484000133813": {
      "model_module": "@jupyter-widgets/controls",
      "model_module_version": "1.2.0",
      "model_name": "ButtonStyleModel",
      "state": {}
     },
     "636f64dbb9194f27a7fcae8b377fedce": {
      "model_module": "@jupyter-widgets/controls",
      "model_module_version": "1.2.0",
      "model_name": "TextModel",
      "state": {
       "description": "Path to save to:",
       "layout": "IPY_MODEL_f1717553bcf44eeea4ad9964d002a26a",
       "placeholder": "Type the complete path to save to",
       "style": "IPY_MODEL_36eae348f7224cb1b05bee38a1c2be8c",
       "value": "/Users/skoebric/Downloads/XYZ.png"
      }
     },
     "64dea73eab154db69b1fb677d91c449f": {
      "model_module": "@jupyter-widgets/controls",
      "model_module_version": "1.2.0",
      "model_name": "FloatSliderModel",
      "state": {
       "continuous_update": false,
       "description": "Bubble Opacity:",
       "layout": "IPY_MODEL_46834292510b46f3a806a189b6851cfd",
       "max": 1,
       "readout_format": ".1f",
       "step": 0.1,
       "style": "IPY_MODEL_a9c8648bf0244eb8968597be79d0b4d7",
       "value": 0.5
      }
     },
     "65ef3fe9c86d4f409473ed7b0b488939": {
      "model_module": "@jupyter-widgets/base",
      "model_module_version": "1.0.0",
      "model_name": "LayoutModel",
      "state": {}
     },
     "66b7077707ed4605ba53941fe63ef0d6": {
      "model_module": "@jupyter-widgets/controls",
      "model_module_version": "1.2.0",
      "model_name": "SliderStyleModel",
      "state": {
       "description_width": "initial"
      }
     },
     "671feb368ed64d689200326fc1bca844": {
      "model_module": "@jupyter-widgets/controls",
      "model_module_version": "1.2.0",
      "model_name": "TextModel",
      "state": {
       "description": "Island Size Thresh:",
       "layout": "IPY_MODEL_5dc99c4918fa40c5bbd1ee3d60fc3644",
       "placeholder": "Type a island thresh",
       "style": "IPY_MODEL_d5db70abe66a463cbcbc4c14ffeb3fbe",
       "value": "200"
      }
     },
     "69a2869d50cc4cb2a41eafc70b4f41d2": {
      "model_module": "@jupyter-widgets/controls",
      "model_module_version": "1.2.0",
      "model_name": "TextModel",
      "state": {
       "description": "Country Name:",
       "layout": "IPY_MODEL_ee930139d1f047a8a177b19da9b7eaae",
       "placeholder": "Type a country name",
       "style": "IPY_MODEL_23326e45c0584ff49f26ca3405dc269c",
       "value": "India"
      }
     },
     "6a24a82825eb4236aa0bb3cd20d4809e": {
      "model_module": "@jupyter-widgets/controls",
      "model_module_version": "1.2.0",
      "model_name": "ButtonModel",
      "state": {
       "description": "Update Plot",
       "icon": "check",
       "layout": "IPY_MODEL_2a3164795ea544ecb3999fe612ee5414",
       "style": "IPY_MODEL_eab0ba454c37404891d7818f67598e53",
       "tooltip": "Update Plot"
      }
     },
     "6af47c5cf079478dab6b79b1a0a6afa1": {
      "model_module": "@jupyter-widgets/controls",
      "model_module_version": "1.2.0",
      "model_name": "DescriptionStyleModel",
      "state": {
       "description_width": "initial"
      }
     },
     "6b9437aecae346fd88c73379052f7c40": {
      "model_module": "@jupyter-widgets/controls",
      "model_module_version": "1.2.0",
      "model_name": "ButtonStyleModel",
      "state": {}
     },
     "6e3350ca5e2d45e7b9d802a4b277076e": {
      "model_module": "@jupyter-widgets/controls",
      "model_module_version": "1.2.0",
      "model_name": "IntSliderModel",
      "state": {
       "continuous_update": false,
       "description": "DPI (resolution):",
       "layout": "IPY_MODEL_5907fb5ea9804f719263c7fd2887a7d4",
       "max": 500,
       "min": 100,
       "style": "IPY_MODEL_883cf5e88f4c44329bdce1e336a39253",
       "value": 300
      }
     },
     "6e5bca7f6dbb46a1a4dd72e0e5c4adb7": {
      "model_module": "@jupyter-widgets/controls",
      "model_module_version": "1.2.0",
      "model_name": "DescriptionStyleModel",
      "state": {
       "description_width": "initial"
      }
     },
     "71dc84637a1a4a5fa09721663c609035": {
      "model_module": "@jupyter-widgets/controls",
      "model_module_version": "1.2.0",
      "model_name": "IntSliderModel",
      "state": {
       "continuous_update": false,
       "description": "Number of Legend Columns:",
       "layout": "IPY_MODEL_8a792adcdcd24b42baa0d3518b64bb69",
       "max": 3,
       "min": 1,
       "style": "IPY_MODEL_5221a1a38da04a329dd1d360ddc1ec4d",
       "value": 1
      }
     },
     "72e371d069bb4da9a2dbc7143650aec3": {
      "model_module": "@jupyter-widgets/controls",
      "model_module_version": "1.2.0",
      "model_name": "ButtonModel",
      "state": {
       "description": "Update Plot",
       "icon": "check",
       "layout": "IPY_MODEL_d95b60d2d0bb496fb9de8de820725ea7",
       "style": "IPY_MODEL_ade1275f884b4e1da9e7f726b20d9fbe",
       "tooltip": "Update Plot"
      }
     },
     "73c61e62236546379381715c89153640": {
      "model_module": "@jupyter-widgets/base",
      "model_module_version": "1.0.0",
      "model_name": "LayoutModel",
      "state": {}
     },
     "74ac13abc0a746b88d82ff69f483e592": {
      "model_module": "@jupyter-widgets/controls",
      "model_module_version": "1.2.0",
      "model_name": "ToggleButtonsModel",
      "state": {
       "_options_labels": [
        "Simple",
        "Mixed",
        "Complex"
       ],
       "button_style": "",
       "description": "Simplification Level:",
       "icons": [],
       "index": 1,
       "layout": "IPY_MODEL_358b85675660437d91780d8aa0097a00",
       "style": "IPY_MODEL_c44f3f66ec554097bfc60ee48f027378",
       "tooltips": [
        "Renewables, Fossil, and Nuclear",
        "Solar, Wind, Hydro, Geothermal,Biomass, Wave and Tidal,\n Storage, Fossil, Nuclear",
        "Solar, Wind, Hydro, Geothermal,Biomass, Wave and Tidal,\n Storage, Fossil, Nuclear, Coal, Gas, Oil, Waste, Cogeneration"
       ]
      }
     },
     "74ae4d6a8e554dd495161472cefba67f": {
      "model_module": "@jupyter-widgets/controls",
      "model_module_version": "1.2.0",
      "model_name": "IntSliderModel",
      "state": {
       "continuous_update": false,
       "description": "Number of Legend Columns:",
       "layout": "IPY_MODEL_e939a14180474b2782bf7f2024bc33aa",
       "max": 3,
       "min": 1,
       "style": "IPY_MODEL_cebc6e0301c447b5a6980e762b8105cb",
       "value": 1
      }
     },
     "755d0b3f7812438aa5c260b54cf52caa": {
      "model_module": "@jupyter-widgets/controls",
      "model_module_version": "1.2.0",
      "model_name": "DropdownModel",
      "state": {
       "_options_labels": [
        "capacity",
        "alphabetical"
       ],
       "description": "Sort Legend By:",
       "index": 0,
       "layout": "IPY_MODEL_607a6e59d9804276aa154647bd4e2501",
       "style": "IPY_MODEL_b6e9fac3fc5c4d488529e69839187160"
      }
     },
     "75d38b2429324837a69e0a1ce0e2e67e": {
      "model_module": "@jupyter-widgets/controls",
      "model_module_version": "1.2.0",
      "model_name": "DescriptionStyleModel",
      "state": {
       "description_width": "initial"
      }
     },
     "7618737d939c4e36b0b4f5b7bb048297": {
      "model_module": "@jupyter-widgets/controls",
      "model_module_version": "1.2.0",
      "model_name": "SliderStyleModel",
      "state": {
       "description_width": "initial"
      }
     },
     "78e38ab79c874a74ab8522fd282f67fc": {
      "model_module": "@jupyter-widgets/base",
      "model_module_version": "1.0.0",
      "model_name": "LayoutModel",
      "state": {}
     },
     "7b690176320b4de4b69756517fcedee1": {
      "model_module": "@jupyter-widgets/controls",
      "model_module_version": "1.2.0",
      "model_name": "ButtonStyleModel",
      "state": {}
     },
     "7b7d7fa6e7a34a5daa8b2d4705aa3538": {
      "model_module": "@jupyter-widgets/controls",
      "model_module_version": "1.2.0",
      "model_name": "DescriptionStyleModel",
      "state": {
       "description_width": "initial"
      }
     },
     "7d20ae9a5a024904b73d29284e391e86": {
      "model_module": "@jupyter-widgets/controls",
      "model_module_version": "1.2.0",
      "model_name": "FloatSliderModel",
      "state": {
       "continuous_update": false,
       "description": "Zoom Level:",
       "layout": "IPY_MODEL_0beff752fed84020bc817f17c2ecaa1d",
       "max": 3,
       "min": 0.5,
       "readout_format": ".1f",
       "step": 0.1,
       "style": "IPY_MODEL_a2aeac8fd2a44505a83688aa0828e4ef",
       "value": 1.5
      }
     },
     "7d8d5133f57346deb21974a0a242f2ee": {
      "model_module": "@jupyter-widgets/base",
      "model_module_version": "1.0.0",
      "model_name": "LayoutModel",
      "state": {}
     },
     "7da1bcbd095e4333bd52e2821c255a5a": {
      "model_module": "@jupyter-widgets/base",
      "model_module_version": "1.0.0",
      "model_name": "LayoutModel",
      "state": {}
     },
     "7ddc92e61fbc4f82990fbe5d0bb632c6": {
      "model_module": "@jupyter-widgets/base",
      "model_module_version": "1.0.0",
      "model_name": "LayoutModel",
      "state": {}
     },
     "7e549bbdcc914a5dbb2f4f73a7501483": {
      "model_module": "@jupyter-widgets/controls",
      "model_module_version": "1.2.0",
      "model_name": "ButtonModel",
      "state": {
       "description": "Update Plot",
       "icon": "check",
       "layout": "IPY_MODEL_05cf403f1c984ed785a57914e07b3ed4",
       "style": "IPY_MODEL_5d5c70c261a14357b167e42fc1d21d6f",
       "tooltip": "Update Plot"
      }
     },
     "7eebd21cecfd4f438cda8b39232357ff": {
      "model_module": "@jupyter-widgets/base",
      "model_module_version": "1.0.0",
      "model_name": "LayoutModel",
      "state": {}
     },
     "7f9bf6dbe7e14010b2690230fa643a59": {
      "model_module": "@jupyter-widgets/base",
      "model_module_version": "1.0.0",
      "model_name": "LayoutModel",
      "state": {
       "height": "80px",
       "width": "70%"
      }
     },
     "7fd399169c1b4b78953e4883039d919b": {
      "model_module": "@jupyter-widgets/controls",
      "model_module_version": "1.2.0",
      "model_name": "ButtonModel",
      "state": {
       "description": "Save Plot",
       "icon": "check",
       "layout": "IPY_MODEL_5fcb70cac1cf48d3a57d9f2586e10033",
       "style": "IPY_MODEL_2d8014c48b5a4740b47b895f621dc9a1",
       "tooltip": "Save Plot"
      }
     },
     "80584b831d434dbdbc7e902b8b24dae2": {
      "model_module": "@jupyter-widgets/controls",
      "model_module_version": "1.2.0",
      "model_name": "TextModel",
      "state": {
       "description": "Country Name:",
       "layout": "IPY_MODEL_c9d409efbcc64adfb585a74f16d55f1a",
       "placeholder": "Type a country name",
       "style": "IPY_MODEL_f0fce0215ce14a779d1d1b189dcd5b9b",
       "value": "India"
      }
     },
     "80a60a4f0d544959bb6b9dbda2230dc4": {
      "model_module": "@jupyter-widgets/base",
      "model_module_version": "1.0.0",
      "model_name": "LayoutModel",
      "state": {}
     },
     "846435c573dd4e8eabd4a80c555fb8fe": {
      "model_module": "@jupyter-widgets/controls",
      "model_module_version": "1.2.0",
      "model_name": "FloatSliderModel",
      "state": {
       "continuous_update": false,
       "description": "Zoom Level:",
       "layout": "IPY_MODEL_a9e64cc6a4e84f83b4a59dcb79cba70e",
       "max": 3,
       "min": 0.5,
       "readout_format": ".1f",
       "step": 0.1,
       "style": "IPY_MODEL_f5e200ea06ab4c90b79f56a68abc7ab3",
       "value": 1.5
      }
     },
     "848d71a376ff4d83a09b5f7f5c18dee7": {
      "model_module": "@jupyter-widgets/controls",
      "model_module_version": "1.2.0",
      "model_name": "FloatSliderModel",
      "state": {
       "continuous_update": false,
       "description": "Bubble Opacity:",
       "layout": "IPY_MODEL_8638caa2ac804152b752288b6fe7990e",
       "max": 1,
       "readout_format": ".1f",
       "step": 0.1,
       "style": "IPY_MODEL_12b8b3adb0454383bb82c961e846082a",
       "value": 0.5
      }
     },
     "86180b5f6c09448e9405b0dd50cb83be": {
      "model_module": "@jupyter-widgets/base",
      "model_module_version": "1.0.0",
      "model_name": "LayoutModel",
      "state": {}
     },
     "8638caa2ac804152b752288b6fe7990e": {
      "model_module": "@jupyter-widgets/base",
      "model_module_version": "1.0.0",
      "model_name": "LayoutModel",
      "state": {}
     },
     "8836b2a3d8a34e60946bc10cd65210f2": {
      "model_module": "@jupyter-widgets/controls",
      "model_module_version": "1.2.0",
      "model_name": "ButtonModel",
      "state": {
       "description": "Save Plot",
       "icon": "check",
       "layout": "IPY_MODEL_a44dd498dc6747bd86857fb7d5f9df5b",
       "style": "IPY_MODEL_10d2814d3e2a4514be2f21a0f26f9f9a",
       "tooltip": "Save Plot"
      }
     },
     "883cf5e88f4c44329bdce1e336a39253": {
      "model_module": "@jupyter-widgets/controls",
      "model_module_version": "1.2.0",
      "model_name": "SliderStyleModel",
      "state": {
       "description_width": "initial"
      }
     },
     "893588eccb564a26b2026e0d63bb40d0": {
      "model_module": "@jupyter-widgets/base",
      "model_module_version": "1.0.0",
      "model_name": "LayoutModel",
      "state": {}
     },
     "89ae9a7c40b34c319da0d0a71b1cf288": {
      "model_module": "@jupyter-widgets/controls",
      "model_module_version": "1.2.0",
      "model_name": "ButtonModel",
      "state": {
       "description": "Update Plot",
       "icon": "check",
       "layout": "IPY_MODEL_5d8481f9b3834ec3afe531a153110000",
       "style": "IPY_MODEL_7b690176320b4de4b69756517fcedee1",
       "tooltip": "Update Plot"
      }
     },
     "8a792adcdcd24b42baa0d3518b64bb69": {
      "model_module": "@jupyter-widgets/base",
      "model_module_version": "1.0.0",
      "model_name": "LayoutModel",
      "state": {}
     },
     "8e369e9e95b0412a956edc2eec5ca3ee": {
      "model_module": "@jupyter-widgets/base",
      "model_module_version": "1.0.0",
      "model_name": "LayoutModel",
      "state": {}
     },
     "8e46a15b7e9248189c4bb5ecc5556f95": {
      "model_module": "@jupyter-widgets/controls",
      "model_module_version": "1.2.0",
      "model_name": "SliderStyleModel",
      "state": {
       "description_width": "initial"
      }
     },
     "94041037c4984306a39e2e3c519602e6": {
      "model_module": "@jupyter-widgets/base",
      "model_module_version": "1.0.0",
      "model_name": "LayoutModel",
      "state": {}
     },
     "94a880a70bfd4aacb4ba03bf1d59ae92": {
      "model_module": "@jupyter-widgets/controls",
      "model_module_version": "1.2.0",
      "model_name": "ButtonStyleModel",
      "state": {}
     },
     "969b72f9f7d64ad4b854e9a4fe99223a": {
      "model_module": "@jupyter-widgets/controls",
      "model_module_version": "1.2.0",
      "model_name": "DropdownModel",
      "state": {
       "_options_labels": [
        "capacity",
        "alphabetical"
       ],
       "description": "Sort Legend By:",
       "index": 0,
       "layout": "IPY_MODEL_bf2f14644d2d4417ba9ed3b44c01d22f",
       "style": "IPY_MODEL_59420138f5c443688f9971e1e65bcff6"
      }
     },
     "97389ded853a41938f1ce898908aee11": {
      "model_module": "@jupyter-widgets/controls",
      "model_module_version": "1.2.0",
      "model_name": "IntSliderModel",
      "state": {
       "continuous_update": false,
       "description": "DPI (resolution):",
       "layout": "IPY_MODEL_7da1bcbd095e4333bd52e2821c255a5a",
       "max": 500,
       "min": 100,
       "style": "IPY_MODEL_8e46a15b7e9248189c4bb5ecc5556f95",
       "value": 300
      }
     },
     "98b3e8a75cb244b1a50b5bff1eb0aff1": {
      "model_module": "@jupyter-widgets/base",
      "model_module_version": "1.0.0",
      "model_name": "LayoutModel",
      "state": {}
     },
     "98c2a89be7a043c4b91ced5cf7d22f51": {
      "model_module": "@jupyter-widgets/base",
      "model_module_version": "1.0.0",
      "model_name": "LayoutModel",
      "state": {
       "height": "80px",
       "width": "70%"
      }
     },
     "99a64a9c93d84a17a5c1384644a1ecc3": {
      "model_module": "@jupyter-widgets/controls",
      "model_module_version": "1.2.0",
      "model_name": "ButtonModel",
      "state": {
       "description": "Update Plot",
       "icon": "check",
       "layout": "IPY_MODEL_b9c568d290684f7aa4671947d77f8e21",
       "style": "IPY_MODEL_feb06c0c3e894536819e43823020e7db",
       "tooltip": "Update Plot"
      }
     },
     "9a93d7bdd7c94b129d96672b4b55ee04": {
      "model_module": "@jupyter-widgets/controls",
      "model_module_version": "1.2.0",
      "model_name": "ButtonStyleModel",
      "state": {}
     },
     "9ab1fe573e8445949f69aa4030771271": {
      "model_module": "@jupyter-widgets/controls",
      "model_module_version": "1.2.0",
      "model_name": "DescriptionStyleModel",
      "state": {
       "description_width": "initial"
      }
     },
     "9afbc86f13914158a03d293a830ee70d": {
      "model_module": "@jupyter-widgets/controls",
      "model_module_version": "1.2.0",
      "model_name": "SliderStyleModel",
      "state": {
       "description_width": "initial"
      }
     },
     "9b904e2e6e9342e2852f6de2aa4f9ebb": {
      "model_module": "@jupyter-widgets/controls",
      "model_module_version": "1.2.0",
      "model_name": "FloatSliderModel",
      "state": {
       "continuous_update": false,
       "description": "Bubble Opacity:",
       "layout": "IPY_MODEL_02b8a3844d794aed9133f3180581b508",
       "max": 1,
       "readout_format": ".1f",
       "step": 0.1,
       "style": "IPY_MODEL_9c7c305d475e478ebea7ac75a3f593ba",
       "value": 0.5
      }
     },
     "9c60bee8798a4e7f8c90d24960124e3c": {
      "model_module": "@jupyter-widgets/base",
      "model_module_version": "1.0.0",
      "model_name": "LayoutModel",
      "state": {}
     },
     "9c7c305d475e478ebea7ac75a3f593ba": {
      "model_module": "@jupyter-widgets/controls",
      "model_module_version": "1.2.0",
      "model_name": "SliderStyleModel",
      "state": {
       "description_width": "initial"
      }
     },
     "9c802342e3ef40c588c6d3260b452777": {
      "model_module": "@jupyter-widgets/controls",
      "model_module_version": "1.2.0",
      "model_name": "ToggleButtonsModel",
      "state": {
       "_options_labels": [
        "Simple",
        "Mixed",
        "Complex"
       ],
       "button_style": "",
       "description": "Simplification Level:",
       "icons": [],
       "index": 1,
       "layout": "IPY_MODEL_9c60bee8798a4e7f8c90d24960124e3c",
       "style": "IPY_MODEL_e783fc82ca5b4b76b58945a2eb559b84",
       "tooltips": [
        "Renewables, Fossil, and Nuclear",
        "Solar, Wind, Hydro, Geothermal,Biomass, Wave and Tidal,\n Storage, Fossil, Nuclear",
        "Solar, Wind, Hydro, Geothermal,Biomass, Wave and Tidal,\n Storage, Fossil, Nuclear, Coal, Gas, Oil, Waste, Cogeneration"
       ]
      }
     },
     "9da689946cf74d4bba483f5465628bd3": {
      "model_module": "@jupyter-widgets/controls",
      "model_module_version": "1.2.0",
      "model_name": "DescriptionStyleModel",
      "state": {
       "description_width": "initial"
      }
     },
     "a0167f6a4d574f0ab63d52658e485f1d": {
      "model_module": "@jupyter-widgets/controls",
      "model_module_version": "1.2.0",
      "model_name": "DescriptionStyleModel",
      "state": {
       "description_width": "initial"
      }
     },
     "a1eb4647c3c04621a1f88dd90de401be": {
      "model_module": "@jupyter-widgets/controls",
      "model_module_version": "1.2.0",
      "model_name": "DescriptionStyleModel",
      "state": {
       "description_width": "initial"
      }
     },
     "a22c4e081b5f414d878555709e742130": {
      "model_module": "@jupyter-widgets/base",
      "model_module_version": "1.0.0",
      "model_name": "LayoutModel",
      "state": {
       "height": "80px",
       "width": "70%"
      }
     },
     "a2aeac8fd2a44505a83688aa0828e4ef": {
      "model_module": "@jupyter-widgets/controls",
      "model_module_version": "1.2.0",
      "model_name": "SliderStyleModel",
      "state": {
       "description_width": "initial"
      }
     },
     "a43deb5f4ea34220bc499ac5398b8bea": {
      "model_module": "@jupyter-widgets/controls",
      "model_module_version": "1.2.0",
      "model_name": "SliderStyleModel",
      "state": {
       "description_width": "initial"
      }
     },
     "a44dd498dc6747bd86857fb7d5f9df5b": {
      "model_module": "@jupyter-widgets/base",
      "model_module_version": "1.0.0",
      "model_name": "LayoutModel",
      "state": {
       "height": "80px",
       "width": "70%"
      }
     },
     "a4ccc02fce1a4f9f9d81d431a50a657c": {
      "model_module": "@jupyter-widgets/base",
      "model_module_version": "1.0.0",
      "model_name": "LayoutModel",
      "state": {
       "height": "80px",
       "width": "70%"
      }
     },
     "a4e48d1735f14553afb9748d3959d7c5": {
      "model_module": "@jupyter-widgets/controls",
      "model_module_version": "1.2.0",
      "model_name": "DescriptionStyleModel",
      "state": {
       "description_width": "initial"
      }
     },
     "a5b2b01196fc4b0a9dcf4b8f0cd41b48": {
      "model_module": "@jupyter-widgets/controls",
      "model_module_version": "1.2.0",
      "model_name": "DescriptionStyleModel",
      "state": {
       "description_width": "initial"
      }
     },
     "a605d0d3081642aeb98a5b8209c792d3": {
      "model_module": "@jupyter-widgets/controls",
      "model_module_version": "1.2.0",
      "model_name": "DescriptionStyleModel",
      "state": {
       "description_width": "initial"
      }
     },
     "a723d99706924ff7a0ca2a6ef05b9924": {
      "model_module": "@jupyter-widgets/controls",
      "model_module_version": "1.2.0",
      "model_name": "DescriptionStyleModel",
      "state": {
       "description_width": "initial"
      }
     },
     "a73447805f734cf69b11ffd71d5f0eb7": {
      "model_module": "@jupyter-widgets/base",
      "model_module_version": "1.0.0",
      "model_name": "LayoutModel",
      "state": {}
     },
     "a750b2ac585544419b8e637c8e885f82": {
      "model_module": "@jupyter-widgets/controls",
      "model_module_version": "1.2.0",
      "model_name": "DescriptionStyleModel",
      "state": {
       "description_width": "initial"
      }
     },
     "a863b76fab18496c98933ccd4bac1142": {
      "model_module": "@jupyter-widgets/controls",
      "model_module_version": "1.2.0",
      "model_name": "SliderStyleModel",
      "state": {
       "description_width": "initial"
      }
     },
     "a8711251c9d046a1ab72f2245c881504": {
      "model_module": "@jupyter-widgets/controls",
      "model_module_version": "1.2.0",
      "model_name": "TextModel",
      "state": {
       "description": "Show Populated Places:",
       "layout": "IPY_MODEL_da6cb41089c14cb089304d41439efd82",
       "placeholder": "Type something",
       "style": "IPY_MODEL_44db9351f5b24a118a8d9b80d4cd7037",
       "value": "False"
      }
     },
     "a8af5a4db811411db959cbfd18d59ad6": {
      "model_module": "@jupyter-widgets/controls",
      "model_module_version": "1.2.0",
      "model_name": "SliderStyleModel",
      "state": {
       "description_width": "initial"
      }
     },
     "a930678d8e454f079abfebc16a36c414": {
      "model_module": "@jupyter-widgets/controls",
      "model_module_version": "1.2.0",
      "model_name": "FloatSliderModel",
      "state": {
       "continuous_update": false,
       "description": "Zoom Level:",
       "layout": "IPY_MODEL_ef9a73385d5e44f98d5b834775056728",
       "max": 3,
       "min": 0.5,
       "readout_format": ".1f",
       "step": 0.1,
       "style": "IPY_MODEL_fee5a3a78cf5455abb69bd438fb5452d",
       "value": 1.5
      }
     },
     "a93b116b59be4920bb2e511b49aa7f77": {
      "model_module": "@jupyter-widgets/controls",
      "model_module_version": "1.2.0",
      "model_name": "DescriptionStyleModel",
      "state": {
       "description_width": "initial"
      }
     },
     "a9c8648bf0244eb8968597be79d0b4d7": {
      "model_module": "@jupyter-widgets/controls",
      "model_module_version": "1.2.0",
      "model_name": "SliderStyleModel",
      "state": {
       "description_width": "initial"
      }
     },
     "a9e64cc6a4e84f83b4a59dcb79cba70e": {
      "model_module": "@jupyter-widgets/base",
      "model_module_version": "1.0.0",
      "model_name": "LayoutModel",
      "state": {}
     },
     "ab6b047ec91946468db30ab6bd90b8d9": {
      "model_module": "@jupyter-widgets/controls",
      "model_module_version": "1.2.0",
      "model_name": "FloatSliderModel",
      "state": {
       "continuous_update": false,
       "description": "Bubble Opacity:",
       "layout": "IPY_MODEL_e6c3ac873f0846c19ca55edff40cdcf0",
       "max": 1,
       "readout_format": ".1f",
       "step": 0.1,
       "style": "IPY_MODEL_7618737d939c4e36b0b4f5b7bb048297",
       "value": 0.5
      }
     },
     "add5aca5680448eaaf7390da7e82d6ad": {
      "model_module": "@jupyter-widgets/controls",
      "model_module_version": "1.2.0",
      "model_name": "IntSliderModel",
      "state": {
       "continuous_update": false,
       "description": "Number of Legend Columns:",
       "layout": "IPY_MODEL_de2ffcf7a6554d4bb99b5b968ea338f0",
       "max": 3,
       "min": 1,
       "style": "IPY_MODEL_1a4944b730414972b8e78ccc5f174728",
       "value": 1
      }
     },
     "ade1275f884b4e1da9e7f726b20d9fbe": {
      "model_module": "@jupyter-widgets/controls",
      "model_module_version": "1.2.0",
      "model_name": "ButtonStyleModel",
      "state": {}
     },
     "ae3b3f6fbb1a4b26b0ffe7d4b9f72de8": {
      "model_module": "@jupyter-widgets/controls",
      "model_module_version": "1.2.0",
      "model_name": "DescriptionStyleModel",
      "state": {
       "description_width": "initial"
      }
     },
     "af3518d1dce044eeba6b79026046f753": {
      "model_module": "@jupyter-widgets/base",
      "model_module_version": "1.0.0",
      "model_name": "LayoutModel",
      "state": {}
     },
     "af380b0320c64e7ea2166fb8973ac6e4": {
      "model_module": "@jupyter-widgets/controls",
      "model_module_version": "1.2.0",
      "model_name": "ToggleButtonsModel",
      "state": {
       "_options_labels": [
        "Simple",
        "Mixed",
        "Complex"
       ],
       "button_style": "",
       "description": "Simplification Level:",
       "icons": [],
       "index": 1,
       "layout": "IPY_MODEL_af3518d1dce044eeba6b79026046f753",
       "style": "IPY_MODEL_4ab81f5bc0784995b4845a8d39b21895",
       "tooltips": [
        "Renewables, Fossil, and Nuclear",
        "Solar, Wind, Hydro, Geothermal,Biomass, Wave and Tidal,\n Storage, Fossil, Nuclear",
        "Solar, Wind, Hydro, Geothermal,Biomass, Wave and Tidal,\n Storage, Fossil, Nuclear, Coal, Gas, Oil, Waste, Cogeneration"
       ]
      }
     },
     "b02c35743def4136a7294be2dd34fb32": {
      "model_module": "@jupyter-widgets/base",
      "model_module_version": "1.0.0",
      "model_name": "LayoutModel",
      "state": {
       "height": "80px",
       "width": "70%"
      }
     },
     "b08ced56b4954f1cb7bbabd23749f4f0": {
      "model_module": "@jupyter-widgets/controls",
      "model_module_version": "1.2.0",
      "model_name": "SliderStyleModel",
      "state": {
       "description_width": "initial"
      }
     },
     "b1433046e48245baa42f8d7468e62276": {
      "model_module": "@jupyter-widgets/controls",
      "model_module_version": "1.2.0",
      "model_name": "TextModel",
      "state": {
       "description": "Country Name:",
       "layout": "IPY_MODEL_beb52625b9d14e66987e5e618a9500d8",
       "placeholder": "Type a country name",
       "style": "IPY_MODEL_75d38b2429324837a69e0a1ce0e2e67e",
       "value": "India"
      }
     },
     "b1f880ae0bfc46d0a77a3bdc3778a66f": {
      "model_module": "@jupyter-widgets/controls",
      "model_module_version": "1.2.0",
      "model_name": "TextModel",
      "state": {
       "description": "Path to save to:",
       "layout": "IPY_MODEL_ffd8beec813f443c97b3b531e32b7276",
       "placeholder": "Type the complete path to save to",
       "style": "IPY_MODEL_bb732c95c6634e479dfba3e651852210",
       "value": "/Users/skoebric/Downloads/XYZ.png"
      }
     },
     "b23296a9a88b43d4a4362728a2e5e7d4": {
      "model_module": "@jupyter-widgets/base",
      "model_module_version": "1.0.0",
      "model_name": "LayoutModel",
      "state": {}
     },
     "b6834b9c61d04288a1fbe38a0249b998": {
      "model_module": "@jupyter-widgets/controls",
      "model_module_version": "1.2.0",
      "model_name": "TextModel",
      "state": {
       "description": "Country Precursor:",
       "layout": "IPY_MODEL_bc82f7b6521445e68c98ca812655c854",
       "placeholder": "Precursor to Country Name",
       "style": "IPY_MODEL_e6074492c7cc4040ad3cb358ae512305"
      }
     },
     "b6e9fac3fc5c4d488529e69839187160": {
      "model_module": "@jupyter-widgets/controls",
      "model_module_version": "1.2.0",
      "model_name": "DescriptionStyleModel",
      "state": {
       "description_width": "initial"
      }
     },
     "b707193cffa84ab5a91b3283acbd194d": {
      "model_module": "@jupyter-widgets/base",
      "model_module_version": "1.0.0",
      "model_name": "LayoutModel",
      "state": {}
     },
     "b75f567f81954bcfa937171f697a5784": {
      "model_module": "@jupyter-widgets/controls",
      "model_module_version": "1.2.0",
      "model_name": "ButtonModel",
      "state": {
       "description": "Update Plot",
       "icon": "check",
       "layout": "IPY_MODEL_98c2a89be7a043c4b91ced5cf7d22f51",
       "style": "IPY_MODEL_6b9437aecae346fd88c73379052f7c40",
       "tooltip": "Update Plot"
      }
     },
     "b93174ef329240a3844b300d0b2f8103": {
      "model_module": "@jupyter-widgets/controls",
      "model_module_version": "1.2.0",
      "model_name": "TextModel",
      "state": {
       "description": "Show Populated Places:",
       "layout": "IPY_MODEL_4f257e99d3e949af99805896f656097d",
       "placeholder": "Type something",
       "style": "IPY_MODEL_6e5bca7f6dbb46a1a4dd72e0e5c4adb7",
       "value": "False"
      }
     },
     "b9c568d290684f7aa4671947d77f8e21": {
      "model_module": "@jupyter-widgets/base",
      "model_module_version": "1.0.0",
      "model_name": "LayoutModel",
      "state": {
       "height": "80px",
       "width": "70%"
      }
     },
     "bb04d6ef5455490f964556cd53d1d61d": {
      "model_module": "@jupyter-widgets/controls",
      "model_module_version": "1.2.0",
      "model_name": "TextModel",
      "state": {
       "description": "Island Size Thresh:",
       "layout": "IPY_MODEL_fc0bab5a38904c1fba240e51d9566eab",
       "placeholder": "Type a island thresh",
       "style": "IPY_MODEL_5b233d34e9214b0fb7e071a0f56f354f",
       "value": "200"
      }
     },
     "bb732c95c6634e479dfba3e651852210": {
      "model_module": "@jupyter-widgets/controls",
      "model_module_version": "1.2.0",
      "model_name": "DescriptionStyleModel",
      "state": {
       "description_width": "initial"
      }
     },
     "bc82f7b6521445e68c98ca812655c854": {
      "model_module": "@jupyter-widgets/base",
      "model_module_version": "1.0.0",
      "model_name": "LayoutModel",
      "state": {}
     },
     "be41e91c77bb4843a619e3aabfaf5a9d": {
      "model_module": "@jupyter-widgets/controls",
      "model_module_version": "1.2.0",
      "model_name": "TextModel",
      "state": {
       "description": "Country Name:",
       "layout": "IPY_MODEL_78e38ab79c874a74ab8522fd282f67fc",
       "placeholder": "Type a country name",
       "style": "IPY_MODEL_a5b2b01196fc4b0a9dcf4b8f0cd41b48",
       "value": "India"
      }
     },
     "beb52625b9d14e66987e5e618a9500d8": {
      "model_module": "@jupyter-widgets/base",
      "model_module_version": "1.0.0",
      "model_name": "LayoutModel",
      "state": {}
     },
     "bf2f14644d2d4417ba9ed3b44c01d22f": {
      "model_module": "@jupyter-widgets/base",
      "model_module_version": "1.0.0",
      "model_name": "LayoutModel",
      "state": {}
     },
     "bf5a328e8a704319bafb1457c661a492": {
      "model_module": "@jupyter-widgets/controls",
      "model_module_version": "1.2.0",
      "model_name": "SliderStyleModel",
      "state": {
       "description_width": "initial"
      }
     },
     "c014af86e5ab4e8e8de3a1f4b82c887e": {
      "model_module": "@jupyter-widgets/controls",
      "model_module_version": "1.2.0",
      "model_name": "TextModel",
      "state": {
       "description": "Coordinate System:",
       "layout": "IPY_MODEL_4ec3e174451741f9b57b5e2bfa9fa7e4",
       "placeholder": "Type something",
       "style": "IPY_MODEL_cb1767cf107d458ab310d045850c5180",
       "value": "spherical"
      }
     },
     "c091215079a84417b98e38fc7b6ff03c": {
      "model_module": "@jupyter-widgets/controls",
      "model_module_version": "1.2.0",
      "model_name": "ButtonModel",
      "state": {
       "description": "Update Plot",
       "icon": "check",
       "layout": "IPY_MODEL_a4ccc02fce1a4f9f9d81d431a50a657c",
       "style": "IPY_MODEL_c0debf8a615b489f8cf8ea23cad747da",
       "tooltip": "Update Plot"
      }
     },
     "c0debf8a615b489f8cf8ea23cad747da": {
      "model_module": "@jupyter-widgets/controls",
      "model_module_version": "1.2.0",
      "model_name": "ButtonStyleModel",
      "state": {}
     },
     "c0ed58f44e1d402c80383dfffc184066": {
      "model_module": "@jupyter-widgets/base",
      "model_module_version": "1.0.0",
      "model_name": "LayoutModel",
      "state": {
       "height": "80px",
       "width": "70%"
      }
     },
     "c1761a83c028452db93416353cb004ba": {
      "model_module": "@jupyter-widgets/controls",
      "model_module_version": "1.2.0",
      "model_name": "SliderStyleModel",
      "state": {
       "description_width": "initial"
      }
     },
     "c17885a9718b4721bbbfab07543fd658": {
      "model_module": "@jupyter-widgets/controls",
      "model_module_version": "1.2.0",
      "model_name": "DescriptionStyleModel",
      "state": {
       "description_width": "initial"
      }
     },
     "c3582214d48a4b49957cf8c6cef38759": {
      "model_module": "@jupyter-widgets/base",
      "model_module_version": "1.0.0",
      "model_name": "LayoutModel",
      "state": {}
     },
     "c44f3f66ec554097bfc60ee48f027378": {
      "model_module": "@jupyter-widgets/controls",
      "model_module_version": "1.2.0",
      "model_name": "ToggleButtonsStyleModel",
      "state": {
       "button_width": "",
       "description_width": "initial"
      }
     },
     "c475c73739194fb39810694e9a0b9ab4": {
      "model_module": "@jupyter-widgets/controls",
      "model_module_version": "1.2.0",
      "model_name": "IntSliderModel",
      "state": {
       "continuous_update": false,
       "description": "DPI (resolution):",
       "layout": "IPY_MODEL_98b3e8a75cb244b1a50b5bff1eb0aff1",
       "max": 500,
       "min": 100,
       "style": "IPY_MODEL_b08ced56b4954f1cb7bbabd23749f4f0",
       "value": 300
      }
     },
     "c488274fbc0247cebba7ab09422e9738": {
      "model_module": "@jupyter-widgets/controls",
      "model_module_version": "1.2.0",
      "model_name": "DescriptionStyleModel",
      "state": {
       "description_width": "initial"
      }
     },
     "c69a7fe9e3df4e139592191dd8193870": {
      "model_module": "@jupyter-widgets/controls",
      "model_module_version": "1.2.0",
      "model_name": "DescriptionStyleModel",
      "state": {
       "description_width": "initial"
      }
     },
     "c70d18a2b4a5490681d273f2113fd1b2": {
      "model_module": "@jupyter-widgets/controls",
      "model_module_version": "1.2.0",
      "model_name": "DropdownModel",
      "state": {
       "_options_labels": [
        "capacity",
        "alphabetical"
       ],
       "description": "Sort Legend By:",
       "index": 0,
       "layout": "IPY_MODEL_c3582214d48a4b49957cf8c6cef38759",
       "style": "IPY_MODEL_2fe415dc7de54d6190176de0a7175b33"
      }
     },
     "c870c16b581947f49459fff4f5bcad37": {
      "model_module": "@jupyter-widgets/base",
      "model_module_version": "1.0.0",
      "model_name": "LayoutModel",
      "state": {}
     },
     "c9d409efbcc64adfb585a74f16d55f1a": {
      "model_module": "@jupyter-widgets/base",
      "model_module_version": "1.0.0",
      "model_name": "LayoutModel",
      "state": {}
     },
     "cb1767cf107d458ab310d045850c5180": {
      "model_module": "@jupyter-widgets/controls",
      "model_module_version": "1.2.0",
      "model_name": "DescriptionStyleModel",
      "state": {
       "description_width": "initial"
      }
     },
     "ce054e897c6d4e9c9cd4f9964a2a7958": {
      "model_module": "@jupyter-widgets/controls",
      "model_module_version": "1.2.0",
      "model_name": "TextModel",
      "state": {
       "description": "Country Precursor:",
       "layout": "IPY_MODEL_30d6471269fc40a1a4f860fdfc8b610e",
       "placeholder": "Precursor to Country Name",
       "style": "IPY_MODEL_1b1af95fda874a35830da77937472a16"
      }
     },
     "ce7dc05fbc8c40f1bc26ba28f039c6f1": {
      "model_module": "@jupyter-widgets/base",
      "model_module_version": "1.0.0",
      "model_name": "LayoutModel",
      "state": {}
     },
     "cebc6e0301c447b5a6980e762b8105cb": {
      "model_module": "@jupyter-widgets/controls",
      "model_module_version": "1.2.0",
      "model_name": "SliderStyleModel",
      "state": {
       "description_width": "initial"
      }
     },
     "d027039d36254a32a84ab027a4e0ae04": {
      "model_module": "@jupyter-widgets/base",
      "model_module_version": "1.0.0",
      "model_name": "LayoutModel",
      "state": {}
     },
     "d06ee01a6e0d4615b441d45812ffbc5c": {
      "model_module": "@jupyter-widgets/controls",
      "model_module_version": "1.2.0",
      "model_name": "IntSliderModel",
      "state": {
       "continuous_update": false,
       "description": "Number of Legend Columns:",
       "layout": "IPY_MODEL_b23296a9a88b43d4a4362728a2e5e7d4",
       "max": 3,
       "min": 1,
       "style": "IPY_MODEL_66b7077707ed4605ba53941fe63ef0d6",
       "value": 1
      }
     },
     "d0807774317c4aff80725f88f053f4ab": {
      "model_module": "@jupyter-widgets/controls",
      "model_module_version": "1.2.0",
      "model_name": "TextModel",
      "state": {
       "description": "Island Size Thresh:",
       "layout": "IPY_MODEL_a73447805f734cf69b11ffd71d5f0eb7",
       "placeholder": "Type a island thresh",
       "style": "IPY_MODEL_058d54805c20450eafbc9db231c5c754",
       "value": "200"
      }
     },
     "d125a30ae17d43409f6d391ec5d09566": {
      "model_module": "@jupyter-widgets/controls",
      "model_module_version": "1.2.0",
      "model_name": "SliderStyleModel",
      "state": {
       "description_width": "initial"
      }
     },
     "d4ad19b8a2f04f589aa20a7ccc92ac75": {
      "model_module": "@jupyter-widgets/base",
      "model_module_version": "1.0.0",
      "model_name": "LayoutModel",
      "state": {}
     },
     "d5db70abe66a463cbcbc4c14ffeb3fbe": {
      "model_module": "@jupyter-widgets/controls",
      "model_module_version": "1.2.0",
      "model_name": "DescriptionStyleModel",
      "state": {
       "description_width": "initial"
      }
     },
     "d95b60d2d0bb496fb9de8de820725ea7": {
      "model_module": "@jupyter-widgets/base",
      "model_module_version": "1.0.0",
      "model_name": "LayoutModel",
      "state": {
       "height": "80px",
       "width": "70%"
      }
     },
     "da6cb41089c14cb089304d41439efd82": {
      "model_module": "@jupyter-widgets/base",
      "model_module_version": "1.0.0",
      "model_name": "LayoutModel",
      "state": {}
     },
     "da725c0ce721436eb070073810e930d1": {
      "model_module": "@jupyter-widgets/controls",
      "model_module_version": "1.2.0",
      "model_name": "ButtonStyleModel",
      "state": {}
     },
     "daa92050d52f433eb3e34b0085216e51": {
      "model_module": "@jupyter-widgets/controls",
      "model_module_version": "1.2.0",
      "model_name": "TextModel",
      "state": {
       "description": "Show Populated Places:",
       "layout": "IPY_MODEL_e86e01961d5245b18ac7ecabee6ba5ff",
       "placeholder": "Type something",
       "style": "IPY_MODEL_339ee14ddd864efabafa4777e196b00d",
       "value": "False"
      }
     },
     "dbbfa7595efb435a920d2df2c4ed014f": {
      "model_module": "@jupyter-widgets/base",
      "model_module_version": "1.0.0",
      "model_name": "LayoutModel",
      "state": {}
     },
     "dcd971f3c86845d7abc50517182b2279": {
      "model_module": "@jupyter-widgets/controls",
      "model_module_version": "1.2.0",
      "model_name": "ButtonModel",
      "state": {
       "description": "Update Plot",
       "icon": "check",
       "layout": "IPY_MODEL_c0ed58f44e1d402c80383dfffc184066",
       "style": "IPY_MODEL_da725c0ce721436eb070073810e930d1",
       "tooltip": "Update Plot"
      }
     },
     "de2ffcf7a6554d4bb99b5b968ea338f0": {
      "model_module": "@jupyter-widgets/base",
      "model_module_version": "1.0.0",
      "model_name": "LayoutModel",
      "state": {}
     },
     "df992bf53a8c43c993d946a0cc9536be": {
      "model_module": "@jupyter-widgets/controls",
      "model_module_version": "1.2.0",
      "model_name": "TextModel",
      "state": {
       "description": "Coordinate System:",
       "layout": "IPY_MODEL_17001cca00194e0cafdee261752dbcdd",
       "placeholder": "Type something",
       "style": "IPY_MODEL_c69a7fe9e3df4e139592191dd8193870",
       "value": "spherical"
      }
     },
     "e024971a6e9a4d508ea10edeb09bc6dc": {
      "model_module": "@jupyter-widgets/controls",
      "model_module_version": "1.2.0",
      "model_name": "TextModel",
      "state": {
       "description": "Coordinate System:",
       "layout": "IPY_MODEL_b707193cffa84ab5a91b3283acbd194d",
       "placeholder": "Type something",
       "style": "IPY_MODEL_3bcdc2e9071e47f6b59fef3edfba57ad",
       "value": "spherical"
      }
     },
     "e08ea0eab730462a9bb6383a04478810": {
      "model_module": "@jupyter-widgets/controls",
      "model_module_version": "1.2.0",
      "model_name": "ButtonModel",
      "state": {
       "description": "Update Plot",
       "icon": "check",
       "layout": "IPY_MODEL_2744a9a4245e4ce392b7da3458773886",
       "style": "IPY_MODEL_45145fd840e343269f4298bcfcaff6b5",
       "tooltip": "Update Plot"
      }
     },
     "e142632e0a214f2697b5fc6a87c92d7a": {
      "model_module": "@jupyter-widgets/controls",
      "model_module_version": "1.2.0",
      "model_name": "ToggleButtonsModel",
      "state": {
       "_options_labels": [
        "Simple",
        "Mixed",
        "Complex"
       ],
       "button_style": "",
       "description": "Simplification Level:",
       "icons": [],
       "index": 1,
       "layout": "IPY_MODEL_e4e6a9a6d70540e6ab3457e791574c0c",
       "style": "IPY_MODEL_27923732d28842fb833d024bd04ffcef",
       "tooltips": [
        "Renewables, Fossil, and Nuclear",
        "Solar, Wind, Hydro, Geothermal,Biomass, Wave and Tidal,\n Storage, Fossil, Nuclear",
        "Solar, Wind, Hydro, Geothermal,Biomass, Wave and Tidal,\n Storage, Fossil, Nuclear, Coal, Gas, Oil, Waste, Cogeneration"
       ]
      }
     },
     "e4e6a9a6d70540e6ab3457e791574c0c": {
      "model_module": "@jupyter-widgets/base",
      "model_module_version": "1.0.0",
      "model_name": "LayoutModel",
      "state": {}
     },
     "e5faefe0b30d45f1af15b942dea19f88": {
      "model_module": "@jupyter-widgets/controls",
      "model_module_version": "1.2.0",
      "model_name": "IntSliderModel",
      "state": {
       "continuous_update": false,
       "description": "DPI (resolution):",
       "layout": "IPY_MODEL_ce7dc05fbc8c40f1bc26ba28f039c6f1",
       "max": 500,
       "min": 100,
       "style": "IPY_MODEL_a43deb5f4ea34220bc499ac5398b8bea",
       "value": 300
      }
     },
     "e6074492c7cc4040ad3cb358ae512305": {
      "model_module": "@jupyter-widgets/controls",
      "model_module_version": "1.2.0",
      "model_name": "DescriptionStyleModel",
      "state": {
       "description_width": "initial"
      }
     },
     "e6c3ac873f0846c19ca55edff40cdcf0": {
      "model_module": "@jupyter-widgets/base",
      "model_module_version": "1.0.0",
      "model_name": "LayoutModel",
      "state": {}
     },
     "e704d73ab28844d186beb1674b1d799f": {
      "model_module": "@jupyter-widgets/controls",
      "model_module_version": "1.2.0",
      "model_name": "FloatSliderModel",
      "state": {
       "continuous_update": false,
       "description": "Zoom Level:",
       "layout": "IPY_MODEL_1b0ea0b2b7464ed1b8cbe979839ced9b",
       "max": 3,
       "min": 0.5,
       "readout_format": ".1f",
       "step": 0.1,
       "style": "IPY_MODEL_eea700f97181487ea917fd969e471d34",
       "value": 1.5
      }
     },
     "e783fc82ca5b4b76b58945a2eb559b84": {
      "model_module": "@jupyter-widgets/controls",
      "model_module_version": "1.2.0",
      "model_name": "ToggleButtonsStyleModel",
      "state": {
       "button_width": "",
       "description_width": "initial"
      }
     },
     "e7db3021d8e2438995a7b2bca3f7ac56": {
      "model_module": "@jupyter-widgets/controls",
      "model_module_version": "1.2.0",
      "model_name": "TextModel",
      "state": {
       "description": "Path to save to:",
       "layout": "IPY_MODEL_2f6629529078457db334226140d36d61",
       "placeholder": "Type the complete path to save to",
       "style": "IPY_MODEL_a1eb4647c3c04621a1f88dd90de401be",
       "value": "/Users/skoebric/Downloads/XYZ.png"
      }
     },
     "e86e01961d5245b18ac7ecabee6ba5ff": {
      "model_module": "@jupyter-widgets/base",
      "model_module_version": "1.0.0",
      "model_name": "LayoutModel",
      "state": {}
     },
     "e9305f35e0fd483887baf0b326df7b95": {
      "model_module": "@jupyter-widgets/base",
      "model_module_version": "1.0.0",
      "model_name": "LayoutModel",
      "state": {}
     },
     "e939a14180474b2782bf7f2024bc33aa": {
      "model_module": "@jupyter-widgets/base",
      "model_module_version": "1.0.0",
      "model_name": "LayoutModel",
      "state": {}
     },
     "eaaa258b500643d5b63dd2ce87ec6295": {
      "model_module": "@jupyter-widgets/controls",
      "model_module_version": "1.2.0",
      "model_name": "TextModel",
      "state": {
       "description": "Country Precursor:",
       "layout": "IPY_MODEL_3ce25d4b89904195985c5a22c00a3658",
       "placeholder": "Precursor to Country Name",
       "style": "IPY_MODEL_10939cd7c0ba4b7f813bbd234f5886ca"
      }
     },
     "eab0ba454c37404891d7818f67598e53": {
      "model_module": "@jupyter-widgets/controls",
      "model_module_version": "1.2.0",
      "model_name": "ButtonStyleModel",
      "state": {}
     },
     "eb4a7c8efa2240e3a70085ebfc72ef16": {
      "model_module": "@jupyter-widgets/controls",
      "model_module_version": "1.2.0",
      "model_name": "TextModel",
      "state": {
       "description": "Country Precursor:",
       "layout": "IPY_MODEL_d027039d36254a32a84ab027a4e0ae04",
       "placeholder": "Precursor to Country Name",
       "style": "IPY_MODEL_a4e48d1735f14553afb9748d3959d7c5"
      }
     },
     "ebdd9bf153cc4acb9fab678bc8bd23f2": {
      "model_module": "@jupyter-widgets/controls",
      "model_module_version": "1.2.0",
      "model_name": "TextModel",
      "state": {
       "description": "Island Size Thresh:",
       "layout": "IPY_MODEL_65ef3fe9c86d4f409473ed7b0b488939",
       "placeholder": "Type a island thresh",
       "style": "IPY_MODEL_9da689946cf74d4bba483f5465628bd3",
       "value": "200"
      }
     },
     "ec321d96197542c989738ad79586ac96": {
      "model_module": "@jupyter-widgets/base",
      "model_module_version": "1.0.0",
      "model_name": "LayoutModel",
      "state": {}
     },
     "ec57aafcb73d4ffc9f7633acb55f6683": {
      "model_module": "@jupyter-widgets/controls",
      "model_module_version": "1.2.0",
      "model_name": "TextModel",
      "state": {
       "description": "Country Precursor:",
       "layout": "IPY_MODEL_3f50e791dfe84c56971a0e3510ab2462",
       "placeholder": "Precursor to Country Name",
       "style": "IPY_MODEL_c488274fbc0247cebba7ab09422e9738"
      }
     },
     "ed2ba2283910438e9213d39295c6c66d": {
      "model_module": "@jupyter-widgets/controls",
      "model_module_version": "1.2.0",
      "model_name": "DescriptionStyleModel",
      "state": {
       "description_width": "initial"
      }
     },
     "ed748724e69043e6b6b9290c21e750fc": {
      "model_module": "@jupyter-widgets/base",
      "model_module_version": "1.0.0",
      "model_name": "LayoutModel",
      "state": {}
     },
     "ee930139d1f047a8a177b19da9b7eaae": {
      "model_module": "@jupyter-widgets/base",
      "model_module_version": "1.0.0",
      "model_name": "LayoutModel",
      "state": {}
     },
     "eea700f97181487ea917fd969e471d34": {
      "model_module": "@jupyter-widgets/controls",
      "model_module_version": "1.2.0",
      "model_name": "SliderStyleModel",
      "state": {
       "description_width": "initial"
      }
     },
     "ef32c488276b4ee49436f14c7eb80224": {
      "model_module": "@jupyter-widgets/controls",
      "model_module_version": "1.2.0",
      "model_name": "DescriptionStyleModel",
      "state": {
       "description_width": "initial"
      }
     },
     "ef9a73385d5e44f98d5b834775056728": {
      "model_module": "@jupyter-widgets/base",
      "model_module_version": "1.0.0",
      "model_name": "LayoutModel",
      "state": {}
     },
     "f0fce0215ce14a779d1d1b189dcd5b9b": {
      "model_module": "@jupyter-widgets/controls",
      "model_module_version": "1.2.0",
      "model_name": "DescriptionStyleModel",
      "state": {
       "description_width": "initial"
      }
     },
     "f1717553bcf44eeea4ad9964d002a26a": {
      "model_module": "@jupyter-widgets/base",
      "model_module_version": "1.0.0",
      "model_name": "LayoutModel",
      "state": {}
     },
     "f3b74ccd814b427fb5383b5f00c6e23d": {
      "model_module": "@jupyter-widgets/controls",
      "model_module_version": "1.2.0",
      "model_name": "DescriptionStyleModel",
      "state": {
       "description_width": "initial"
      }
     },
     "f5a0a62cb8df476c8ffc4110bc5cd6cb": {
      "model_module": "@jupyter-widgets/controls",
      "model_module_version": "1.2.0",
      "model_name": "SliderStyleModel",
      "state": {
       "description_width": "initial"
      }
     },
     "f5e200ea06ab4c90b79f56a68abc7ab3": {
      "model_module": "@jupyter-widgets/controls",
      "model_module_version": "1.2.0",
      "model_name": "SliderStyleModel",
      "state": {
       "description_width": "initial"
      }
     },
     "f7883f05ac4446c1a8b08651285e5252": {
      "model_module": "@jupyter-widgets/controls",
      "model_module_version": "1.2.0",
      "model_name": "ToggleButtonsModel",
      "state": {
       "_options_labels": [
        "Simple",
        "Mixed",
        "Complex"
       ],
       "button_style": "",
       "description": "Simplification Level:",
       "icons": [],
       "index": 1,
       "layout": "IPY_MODEL_94041037c4984306a39e2e3c519602e6",
       "style": "IPY_MODEL_57f98d81985943ebb9233853dd4a23f0",
       "tooltips": [
        "Renewables, Fossil, and Nuclear",
        "Solar, Wind, Hydro, Geothermal,Biomass, Wave and Tidal,\n Storage, Fossil, Nuclear",
        "Solar, Wind, Hydro, Geothermal,Biomass, Wave and Tidal,\n Storage, Fossil, Nuclear, Coal, Gas, Oil, Waste, Cogeneration"
       ]
      }
     },
     "fc0bab5a38904c1fba240e51d9566eab": {
      "model_module": "@jupyter-widgets/base",
      "model_module_version": "1.0.0",
      "model_name": "LayoutModel",
      "state": {}
     },
     "fe13b2fd3268453896c9eb11d4c06fd5": {
      "model_module": "@jupyter-widgets/controls",
      "model_module_version": "1.2.0",
      "model_name": "IntSliderModel",
      "state": {
       "continuous_update": false,
       "description": "Number of Legend Columns:",
       "layout": "IPY_MODEL_ec321d96197542c989738ad79586ac96",
       "max": 3,
       "min": 1,
       "style": "IPY_MODEL_bf5a328e8a704319bafb1457c661a492",
       "value": 1
      }
     },
     "feb06c0c3e894536819e43823020e7db": {
      "model_module": "@jupyter-widgets/controls",
      "model_module_version": "1.2.0",
      "model_name": "ButtonStyleModel",
      "state": {}
     },
     "fee5a3a78cf5455abb69bd438fb5452d": {
      "model_module": "@jupyter-widgets/controls",
      "model_module_version": "1.2.0",
      "model_name": "SliderStyleModel",
      "state": {
       "description_width": "initial"
      }
     },
     "ffd8beec813f443c97b3b531e32b7276": {
      "model_module": "@jupyter-widgets/base",
      "model_module_version": "1.0.0",
      "model_name": "LayoutModel",
      "state": {}
     }
    },
    "version_major": 2,
    "version_minor": 0
   }
  }
 },
 "nbformat": 4,
 "nbformat_minor": 2
}
