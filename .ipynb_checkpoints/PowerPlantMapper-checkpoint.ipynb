{
 "cells": [
  {
   "cell_type": "markdown",
   "metadata": {},
   "source": [
    "# *Country Power Plant Mapper*\n",
    "\n",
    "## This application easily produces publication ready bubble maps displaying the types and sizes of grid-connected generators in any country. \n",
    "## All without touching a line of code!\n",
    "\n",
    "### Basic Instructions:\n",
    "1. Initialize the application by clicking on 'Cell' in the menu bar and selecting 'Run All'.\n",
    "2. Enter the __Country Name__.\n",
    "3. Choose the desired level of __Simplification__ for resource type:\n",
    "    -  *Simple* breaks resources into 'Renewable', 'Fossil', and 'Nuclear'.\n",
    "    -  *Mixed* subdivides renewables (solar, wind, etc.) but keeps 'Fossil' together. \n",
    "    -  *Complex* labels every resource type.\n",
    "    \n",
    "\n",
    "4. Press the __Update Plot__ button. Be patient, it can take a few seconds.\n",
    "5. Drag the legend to a better location, if needed (this can be a little wonky––sorry). \n",
    "6. To save the image, click the power symbol in the upper right portion of the map. Then right click on the map and select 'Save Image As'. \n",
    "\n",
    "Check out the __Advanced Instructions__ section below if you need additional control."
   ]
  },
  {
   "cell_type": "code",
   "execution_count": 1,
   "metadata": {
    "init_cell": true,
    "scrolled": true
   },
   "outputs": [
    {
     "data": {
      "text/html": [
       "<style>.container { width:80% !important; }</style>"
      ],
      "text/plain": [
       "<IPython.core.display.HTML object>"
      ]
     },
     "metadata": {},
     "output_type": "display_data"
    },
    {
     "data": {
      "application/vnd.jupyter.widget-view+json": {
       "model_id": "b305a09dd530451ab961cd6ae177c530",
       "version_major": 2,
       "version_minor": 0
      },
      "text/plain": [
       "Text(value='India', description='Country Name:', placeholder='Type a country name', style=DescriptionStyle(des…"
      ]
     },
     "metadata": {},
     "output_type": "display_data"
    },
    {
     "data": {
      "application/vnd.jupyter.widget-view+json": {
       "model_id": "ebb89947fc0b4be881139d8bbb752d45",
       "version_major": 2,
       "version_minor": 0
      },
      "text/plain": [
       "ToggleButtons(description='Simplification Level:', index=1, options=('Simple', 'Mixed', 'Complex'), style=Togg…"
      ]
     },
     "metadata": {},
     "output_type": "display_data"
    }
   ],
   "source": [
    "import parameterwidgets as pw\n",
    "pw.showbasicwidgets()"
   ]
  },
  {
   "cell_type": "code",
   "execution_count": 2,
   "metadata": {
    "init_cell": true
   },
   "outputs": [
    {
     "data": {
      "application/vnd.jupyter.widget-view+json": {
       "model_id": "6c0c187458ac4b199db8044fa072fe92",
       "version_major": 2,
       "version_minor": 0
      },
      "text/plain": [
       "Button(description='Update Plot', icon='check', layout=Layout(height='80px', width='70%'), style=ButtonStyle()…"
      ]
     },
     "metadata": {},
     "output_type": "display_data"
    },
    {
     "data": {
      "application/javascript": [
       "/* Put everything inside the global mpl namespace */\n",
       "window.mpl = {};\n",
       "\n",
       "\n",
       "mpl.get_websocket_type = function() {\n",
       "    if (typeof(WebSocket) !== 'undefined') {\n",
       "        return WebSocket;\n",
       "    } else if (typeof(MozWebSocket) !== 'undefined') {\n",
       "        return MozWebSocket;\n",
       "    } else {\n",
       "        alert('Your browser does not have WebSocket support.' +\n",
       "              'Please try Chrome, Safari or Firefox ≥ 6. ' +\n",
       "              'Firefox 4 and 5 are also supported but you ' +\n",
       "              'have to enable WebSockets in about:config.');\n",
       "    };\n",
       "}\n",
       "\n",
       "mpl.figure = function(figure_id, websocket, ondownload, parent_element) {\n",
       "    this.id = figure_id;\n",
       "\n",
       "    this.ws = websocket;\n",
       "\n",
       "    this.supports_binary = (this.ws.binaryType != undefined);\n",
       "\n",
       "    if (!this.supports_binary) {\n",
       "        var warnings = document.getElementById(\"mpl-warnings\");\n",
       "        if (warnings) {\n",
       "            warnings.style.display = 'block';\n",
       "            warnings.textContent = (\n",
       "                \"This browser does not support binary websocket messages. \" +\n",
       "                    \"Performance may be slow.\");\n",
       "        }\n",
       "    }\n",
       "\n",
       "    this.imageObj = new Image();\n",
       "\n",
       "    this.context = undefined;\n",
       "    this.message = undefined;\n",
       "    this.canvas = undefined;\n",
       "    this.rubberband_canvas = undefined;\n",
       "    this.rubberband_context = undefined;\n",
       "    this.format_dropdown = undefined;\n",
       "\n",
       "    this.image_mode = 'full';\n",
       "\n",
       "    this.root = $('<div/>');\n",
       "    this._root_extra_style(this.root)\n",
       "    this.root.attr('style', 'display: inline-block');\n",
       "\n",
       "    $(parent_element).append(this.root);\n",
       "\n",
       "    this._init_header(this);\n",
       "    this._init_canvas(this);\n",
       "    this._init_toolbar(this);\n",
       "\n",
       "    var fig = this;\n",
       "\n",
       "    this.waiting = false;\n",
       "\n",
       "    this.ws.onopen =  function () {\n",
       "            fig.send_message(\"supports_binary\", {value: fig.supports_binary});\n",
       "            fig.send_message(\"send_image_mode\", {});\n",
       "            if (mpl.ratio != 1) {\n",
       "                fig.send_message(\"set_dpi_ratio\", {'dpi_ratio': mpl.ratio});\n",
       "            }\n",
       "            fig.send_message(\"refresh\", {});\n",
       "        }\n",
       "\n",
       "    this.imageObj.onload = function() {\n",
       "            if (fig.image_mode == 'full') {\n",
       "                // Full images could contain transparency (where diff images\n",
       "                // almost always do), so we need to clear the canvas so that\n",
       "                // there is no ghosting.\n",
       "                fig.context.clearRect(0, 0, fig.canvas.width, fig.canvas.height);\n",
       "            }\n",
       "            fig.context.drawImage(fig.imageObj, 0, 0);\n",
       "        };\n",
       "\n",
       "    this.imageObj.onunload = function() {\n",
       "        fig.ws.close();\n",
       "    }\n",
       "\n",
       "    this.ws.onmessage = this._make_on_message_function(this);\n",
       "\n",
       "    this.ondownload = ondownload;\n",
       "}\n",
       "\n",
       "mpl.figure.prototype._init_header = function() {\n",
       "    var titlebar = $(\n",
       "        '<div class=\"ui-dialog-titlebar ui-widget-header ui-corner-all ' +\n",
       "        'ui-helper-clearfix\"/>');\n",
       "    var titletext = $(\n",
       "        '<div class=\"ui-dialog-title\" style=\"width: 100%; ' +\n",
       "        'text-align: center; padding: 3px;\"/>');\n",
       "    titlebar.append(titletext)\n",
       "    this.root.append(titlebar);\n",
       "    this.header = titletext[0];\n",
       "}\n",
       "\n",
       "\n",
       "\n",
       "mpl.figure.prototype._canvas_extra_style = function(canvas_div) {\n",
       "\n",
       "}\n",
       "\n",
       "\n",
       "mpl.figure.prototype._root_extra_style = function(canvas_div) {\n",
       "\n",
       "}\n",
       "\n",
       "mpl.figure.prototype._init_canvas = function() {\n",
       "    var fig = this;\n",
       "\n",
       "    var canvas_div = $('<div/>');\n",
       "\n",
       "    canvas_div.attr('style', 'position: relative; clear: both; outline: 0');\n",
       "\n",
       "    function canvas_keyboard_event(event) {\n",
       "        return fig.key_event(event, event['data']);\n",
       "    }\n",
       "\n",
       "    canvas_div.keydown('key_press', canvas_keyboard_event);\n",
       "    canvas_div.keyup('key_release', canvas_keyboard_event);\n",
       "    this.canvas_div = canvas_div\n",
       "    this._canvas_extra_style(canvas_div)\n",
       "    this.root.append(canvas_div);\n",
       "\n",
       "    var canvas = $('<canvas/>');\n",
       "    canvas.addClass('mpl-canvas');\n",
       "    canvas.attr('style', \"left: 0; top: 0; z-index: 0; outline: 0\")\n",
       "\n",
       "    this.canvas = canvas[0];\n",
       "    this.context = canvas[0].getContext(\"2d\");\n",
       "\n",
       "    var backingStore = this.context.backingStorePixelRatio ||\n",
       "\tthis.context.webkitBackingStorePixelRatio ||\n",
       "\tthis.context.mozBackingStorePixelRatio ||\n",
       "\tthis.context.msBackingStorePixelRatio ||\n",
       "\tthis.context.oBackingStorePixelRatio ||\n",
       "\tthis.context.backingStorePixelRatio || 1;\n",
       "\n",
       "    mpl.ratio = (window.devicePixelRatio || 1) / backingStore;\n",
       "\n",
       "    var rubberband = $('<canvas/>');\n",
       "    rubberband.attr('style', \"position: absolute; left: 0; top: 0; z-index: 1;\")\n",
       "\n",
       "    var pass_mouse_events = true;\n",
       "\n",
       "    canvas_div.resizable({\n",
       "        start: function(event, ui) {\n",
       "            pass_mouse_events = false;\n",
       "        },\n",
       "        resize: function(event, ui) {\n",
       "            fig.request_resize(ui.size.width, ui.size.height);\n",
       "        },\n",
       "        stop: function(event, ui) {\n",
       "            pass_mouse_events = true;\n",
       "            fig.request_resize(ui.size.width, ui.size.height);\n",
       "        },\n",
       "    });\n",
       "\n",
       "    function mouse_event_fn(event) {\n",
       "        if (pass_mouse_events)\n",
       "            return fig.mouse_event(event, event['data']);\n",
       "    }\n",
       "\n",
       "    rubberband.mousedown('button_press', mouse_event_fn);\n",
       "    rubberband.mouseup('button_release', mouse_event_fn);\n",
       "    // Throttle sequential mouse events to 1 every 20ms.\n",
       "    rubberband.mousemove('motion_notify', mouse_event_fn);\n",
       "\n",
       "    rubberband.mouseenter('figure_enter', mouse_event_fn);\n",
       "    rubberband.mouseleave('figure_leave', mouse_event_fn);\n",
       "\n",
       "    canvas_div.on(\"wheel\", function (event) {\n",
       "        event = event.originalEvent;\n",
       "        event['data'] = 'scroll'\n",
       "        if (event.deltaY < 0) {\n",
       "            event.step = 1;\n",
       "        } else {\n",
       "            event.step = -1;\n",
       "        }\n",
       "        mouse_event_fn(event);\n",
       "    });\n",
       "\n",
       "    canvas_div.append(canvas);\n",
       "    canvas_div.append(rubberband);\n",
       "\n",
       "    this.rubberband = rubberband;\n",
       "    this.rubberband_canvas = rubberband[0];\n",
       "    this.rubberband_context = rubberband[0].getContext(\"2d\");\n",
       "    this.rubberband_context.strokeStyle = \"#000000\";\n",
       "\n",
       "    this._resize_canvas = function(width, height) {\n",
       "        // Keep the size of the canvas, canvas container, and rubber band\n",
       "        // canvas in synch.\n",
       "        canvas_div.css('width', width)\n",
       "        canvas_div.css('height', height)\n",
       "\n",
       "        canvas.attr('width', width * mpl.ratio);\n",
       "        canvas.attr('height', height * mpl.ratio);\n",
       "        canvas.attr('style', 'width: ' + width + 'px; height: ' + height + 'px;');\n",
       "\n",
       "        rubberband.attr('width', width);\n",
       "        rubberband.attr('height', height);\n",
       "    }\n",
       "\n",
       "    // Set the figure to an initial 600x600px, this will subsequently be updated\n",
       "    // upon first draw.\n",
       "    this._resize_canvas(600, 600);\n",
       "\n",
       "    // Disable right mouse context menu.\n",
       "    $(this.rubberband_canvas).bind(\"contextmenu\",function(e){\n",
       "        return false;\n",
       "    });\n",
       "\n",
       "    function set_focus () {\n",
       "        canvas.focus();\n",
       "        canvas_div.focus();\n",
       "    }\n",
       "\n",
       "    window.setTimeout(set_focus, 100);\n",
       "}\n",
       "\n",
       "mpl.figure.prototype._init_toolbar = function() {\n",
       "    var fig = this;\n",
       "\n",
       "    var nav_element = $('<div/>')\n",
       "    nav_element.attr('style', 'width: 100%');\n",
       "    this.root.append(nav_element);\n",
       "\n",
       "    // Define a callback function for later on.\n",
       "    function toolbar_event(event) {\n",
       "        return fig.toolbar_button_onclick(event['data']);\n",
       "    }\n",
       "    function toolbar_mouse_event(event) {\n",
       "        return fig.toolbar_button_onmouseover(event['data']);\n",
       "    }\n",
       "\n",
       "    for(var toolbar_ind in mpl.toolbar_items) {\n",
       "        var name = mpl.toolbar_items[toolbar_ind][0];\n",
       "        var tooltip = mpl.toolbar_items[toolbar_ind][1];\n",
       "        var image = mpl.toolbar_items[toolbar_ind][2];\n",
       "        var method_name = mpl.toolbar_items[toolbar_ind][3];\n",
       "\n",
       "        if (!name) {\n",
       "            // put a spacer in here.\n",
       "            continue;\n",
       "        }\n",
       "        var button = $('<button/>');\n",
       "        button.addClass('ui-button ui-widget ui-state-default ui-corner-all ' +\n",
       "                        'ui-button-icon-only');\n",
       "        button.attr('role', 'button');\n",
       "        button.attr('aria-disabled', 'false');\n",
       "        button.click(method_name, toolbar_event);\n",
       "        button.mouseover(tooltip, toolbar_mouse_event);\n",
       "\n",
       "        var icon_img = $('<span/>');\n",
       "        icon_img.addClass('ui-button-icon-primary ui-icon');\n",
       "        icon_img.addClass(image);\n",
       "        icon_img.addClass('ui-corner-all');\n",
       "\n",
       "        var tooltip_span = $('<span/>');\n",
       "        tooltip_span.addClass('ui-button-text');\n",
       "        tooltip_span.html(tooltip);\n",
       "\n",
       "        button.append(icon_img);\n",
       "        button.append(tooltip_span);\n",
       "\n",
       "        nav_element.append(button);\n",
       "    }\n",
       "\n",
       "    var fmt_picker_span = $('<span/>');\n",
       "\n",
       "    var fmt_picker = $('<select/>');\n",
       "    fmt_picker.addClass('mpl-toolbar-option ui-widget ui-widget-content');\n",
       "    fmt_picker_span.append(fmt_picker);\n",
       "    nav_element.append(fmt_picker_span);\n",
       "    this.format_dropdown = fmt_picker[0];\n",
       "\n",
       "    for (var ind in mpl.extensions) {\n",
       "        var fmt = mpl.extensions[ind];\n",
       "        var option = $(\n",
       "            '<option/>', {selected: fmt === mpl.default_extension}).html(fmt);\n",
       "        fmt_picker.append(option)\n",
       "    }\n",
       "\n",
       "    // Add hover states to the ui-buttons\n",
       "    $( \".ui-button\" ).hover(\n",
       "        function() { $(this).addClass(\"ui-state-hover\");},\n",
       "        function() { $(this).removeClass(\"ui-state-hover\");}\n",
       "    );\n",
       "\n",
       "    var status_bar = $('<span class=\"mpl-message\"/>');\n",
       "    nav_element.append(status_bar);\n",
       "    this.message = status_bar[0];\n",
       "}\n",
       "\n",
       "mpl.figure.prototype.request_resize = function(x_pixels, y_pixels) {\n",
       "    // Request matplotlib to resize the figure. Matplotlib will then trigger a resize in the client,\n",
       "    // which will in turn request a refresh of the image.\n",
       "    this.send_message('resize', {'width': x_pixels, 'height': y_pixels});\n",
       "}\n",
       "\n",
       "mpl.figure.prototype.send_message = function(type, properties) {\n",
       "    properties['type'] = type;\n",
       "    properties['figure_id'] = this.id;\n",
       "    this.ws.send(JSON.stringify(properties));\n",
       "}\n",
       "\n",
       "mpl.figure.prototype.send_draw_message = function() {\n",
       "    if (!this.waiting) {\n",
       "        this.waiting = true;\n",
       "        this.ws.send(JSON.stringify({type: \"draw\", figure_id: this.id}));\n",
       "    }\n",
       "}\n",
       "\n",
       "\n",
       "mpl.figure.prototype.handle_save = function(fig, msg) {\n",
       "    var format_dropdown = fig.format_dropdown;\n",
       "    var format = format_dropdown.options[format_dropdown.selectedIndex].value;\n",
       "    fig.ondownload(fig, format);\n",
       "}\n",
       "\n",
       "\n",
       "mpl.figure.prototype.handle_resize = function(fig, msg) {\n",
       "    var size = msg['size'];\n",
       "    if (size[0] != fig.canvas.width || size[1] != fig.canvas.height) {\n",
       "        fig._resize_canvas(size[0], size[1]);\n",
       "        fig.send_message(\"refresh\", {});\n",
       "    };\n",
       "}\n",
       "\n",
       "mpl.figure.prototype.handle_rubberband = function(fig, msg) {\n",
       "    var x0 = msg['x0'] / mpl.ratio;\n",
       "    var y0 = (fig.canvas.height - msg['y0']) / mpl.ratio;\n",
       "    var x1 = msg['x1'] / mpl.ratio;\n",
       "    var y1 = (fig.canvas.height - msg['y1']) / mpl.ratio;\n",
       "    x0 = Math.floor(x0) + 0.5;\n",
       "    y0 = Math.floor(y0) + 0.5;\n",
       "    x1 = Math.floor(x1) + 0.5;\n",
       "    y1 = Math.floor(y1) + 0.5;\n",
       "    var min_x = Math.min(x0, x1);\n",
       "    var min_y = Math.min(y0, y1);\n",
       "    var width = Math.abs(x1 - x0);\n",
       "    var height = Math.abs(y1 - y0);\n",
       "\n",
       "    fig.rubberband_context.clearRect(\n",
       "        0, 0, fig.canvas.width, fig.canvas.height);\n",
       "\n",
       "    fig.rubberband_context.strokeRect(min_x, min_y, width, height);\n",
       "}\n",
       "\n",
       "mpl.figure.prototype.handle_figure_label = function(fig, msg) {\n",
       "    // Updates the figure title.\n",
       "    fig.header.textContent = msg['label'];\n",
       "}\n",
       "\n",
       "mpl.figure.prototype.handle_cursor = function(fig, msg) {\n",
       "    var cursor = msg['cursor'];\n",
       "    switch(cursor)\n",
       "    {\n",
       "    case 0:\n",
       "        cursor = 'pointer';\n",
       "        break;\n",
       "    case 1:\n",
       "        cursor = 'default';\n",
       "        break;\n",
       "    case 2:\n",
       "        cursor = 'crosshair';\n",
       "        break;\n",
       "    case 3:\n",
       "        cursor = 'move';\n",
       "        break;\n",
       "    }\n",
       "    fig.rubberband_canvas.style.cursor = cursor;\n",
       "}\n",
       "\n",
       "mpl.figure.prototype.handle_message = function(fig, msg) {\n",
       "    fig.message.textContent = msg['message'];\n",
       "}\n",
       "\n",
       "mpl.figure.prototype.handle_draw = function(fig, msg) {\n",
       "    // Request the server to send over a new figure.\n",
       "    fig.send_draw_message();\n",
       "}\n",
       "\n",
       "mpl.figure.prototype.handle_image_mode = function(fig, msg) {\n",
       "    fig.image_mode = msg['mode'];\n",
       "}\n",
       "\n",
       "mpl.figure.prototype.updated_canvas_event = function() {\n",
       "    // Called whenever the canvas gets updated.\n",
       "    this.send_message(\"ack\", {});\n",
       "}\n",
       "\n",
       "// A function to construct a web socket function for onmessage handling.\n",
       "// Called in the figure constructor.\n",
       "mpl.figure.prototype._make_on_message_function = function(fig) {\n",
       "    return function socket_on_message(evt) {\n",
       "        if (evt.data instanceof Blob) {\n",
       "            /* FIXME: We get \"Resource interpreted as Image but\n",
       "             * transferred with MIME type text/plain:\" errors on\n",
       "             * Chrome.  But how to set the MIME type?  It doesn't seem\n",
       "             * to be part of the websocket stream */\n",
       "            evt.data.type = \"image/png\";\n",
       "\n",
       "            /* Free the memory for the previous frames */\n",
       "            if (fig.imageObj.src) {\n",
       "                (window.URL || window.webkitURL).revokeObjectURL(\n",
       "                    fig.imageObj.src);\n",
       "            }\n",
       "\n",
       "            fig.imageObj.src = (window.URL || window.webkitURL).createObjectURL(\n",
       "                evt.data);\n",
       "            fig.updated_canvas_event();\n",
       "            fig.waiting = false;\n",
       "            return;\n",
       "        }\n",
       "        else if (typeof evt.data === 'string' && evt.data.slice(0, 21) == \"data:image/png;base64\") {\n",
       "            fig.imageObj.src = evt.data;\n",
       "            fig.updated_canvas_event();\n",
       "            fig.waiting = false;\n",
       "            return;\n",
       "        }\n",
       "\n",
       "        var msg = JSON.parse(evt.data);\n",
       "        var msg_type = msg['type'];\n",
       "\n",
       "        // Call the  \"handle_{type}\" callback, which takes\n",
       "        // the figure and JSON message as its only arguments.\n",
       "        try {\n",
       "            var callback = fig[\"handle_\" + msg_type];\n",
       "        } catch (e) {\n",
       "            console.log(\"No handler for the '\" + msg_type + \"' message type: \", msg);\n",
       "            return;\n",
       "        }\n",
       "\n",
       "        if (callback) {\n",
       "            try {\n",
       "                // console.log(\"Handling '\" + msg_type + \"' message: \", msg);\n",
       "                callback(fig, msg);\n",
       "            } catch (e) {\n",
       "                console.log(\"Exception inside the 'handler_\" + msg_type + \"' callback:\", e, e.stack, msg);\n",
       "            }\n",
       "        }\n",
       "    };\n",
       "}\n",
       "\n",
       "// from http://stackoverflow.com/questions/1114465/getting-mouse-location-in-canvas\n",
       "mpl.findpos = function(e) {\n",
       "    //this section is from http://www.quirksmode.org/js/events_properties.html\n",
       "    var targ;\n",
       "    if (!e)\n",
       "        e = window.event;\n",
       "    if (e.target)\n",
       "        targ = e.target;\n",
       "    else if (e.srcElement)\n",
       "        targ = e.srcElement;\n",
       "    if (targ.nodeType == 3) // defeat Safari bug\n",
       "        targ = targ.parentNode;\n",
       "\n",
       "    // jQuery normalizes the pageX and pageY\n",
       "    // pageX,Y are the mouse positions relative to the document\n",
       "    // offset() returns the position of the element relative to the document\n",
       "    var x = e.pageX - $(targ).offset().left;\n",
       "    var y = e.pageY - $(targ).offset().top;\n",
       "\n",
       "    return {\"x\": x, \"y\": y};\n",
       "};\n",
       "\n",
       "/*\n",
       " * return a copy of an object with only non-object keys\n",
       " * we need this to avoid circular references\n",
       " * http://stackoverflow.com/a/24161582/3208463\n",
       " */\n",
       "function simpleKeys (original) {\n",
       "  return Object.keys(original).reduce(function (obj, key) {\n",
       "    if (typeof original[key] !== 'object')\n",
       "        obj[key] = original[key]\n",
       "    return obj;\n",
       "  }, {});\n",
       "}\n",
       "\n",
       "mpl.figure.prototype.mouse_event = function(event, name) {\n",
       "    var canvas_pos = mpl.findpos(event)\n",
       "\n",
       "    if (name === 'button_press')\n",
       "    {\n",
       "        this.canvas.focus();\n",
       "        this.canvas_div.focus();\n",
       "    }\n",
       "\n",
       "    var x = canvas_pos.x * mpl.ratio;\n",
       "    var y = canvas_pos.y * mpl.ratio;\n",
       "\n",
       "    this.send_message(name, {x: x, y: y, button: event.button,\n",
       "                             step: event.step,\n",
       "                             guiEvent: simpleKeys(event)});\n",
       "\n",
       "    /* This prevents the web browser from automatically changing to\n",
       "     * the text insertion cursor when the button is pressed.  We want\n",
       "     * to control all of the cursor setting manually through the\n",
       "     * 'cursor' event from matplotlib */\n",
       "    event.preventDefault();\n",
       "    return false;\n",
       "}\n",
       "\n",
       "mpl.figure.prototype._key_event_extra = function(event, name) {\n",
       "    // Handle any extra behaviour associated with a key event\n",
       "}\n",
       "\n",
       "mpl.figure.prototype.key_event = function(event, name) {\n",
       "\n",
       "    // Prevent repeat events\n",
       "    if (name == 'key_press')\n",
       "    {\n",
       "        if (event.which === this._key)\n",
       "            return;\n",
       "        else\n",
       "            this._key = event.which;\n",
       "    }\n",
       "    if (name == 'key_release')\n",
       "        this._key = null;\n",
       "\n",
       "    var value = '';\n",
       "    if (event.ctrlKey && event.which != 17)\n",
       "        value += \"ctrl+\";\n",
       "    if (event.altKey && event.which != 18)\n",
       "        value += \"alt+\";\n",
       "    if (event.shiftKey && event.which != 16)\n",
       "        value += \"shift+\";\n",
       "\n",
       "    value += 'k';\n",
       "    value += event.which.toString();\n",
       "\n",
       "    this._key_event_extra(event, name);\n",
       "\n",
       "    this.send_message(name, {key: value,\n",
       "                             guiEvent: simpleKeys(event)});\n",
       "    return false;\n",
       "}\n",
       "\n",
       "mpl.figure.prototype.toolbar_button_onclick = function(name) {\n",
       "    if (name == 'download') {\n",
       "        this.handle_save(this, null);\n",
       "    } else {\n",
       "        this.send_message(\"toolbar_button\", {name: name});\n",
       "    }\n",
       "};\n",
       "\n",
       "mpl.figure.prototype.toolbar_button_onmouseover = function(tooltip) {\n",
       "    this.message.textContent = tooltip;\n",
       "};\n",
       "mpl.toolbar_items = [[\"Home\", \"Reset original view\", \"fa fa-home icon-home\", \"home\"], [\"Back\", \"Back to  previous view\", \"fa fa-arrow-left icon-arrow-left\", \"back\"], [\"Forward\", \"Forward to next view\", \"fa fa-arrow-right icon-arrow-right\", \"forward\"], [\"\", \"\", \"\", \"\"], [\"Pan\", \"Pan axes with left mouse, zoom with right\", \"fa fa-arrows icon-move\", \"pan\"], [\"Zoom\", \"Zoom to rectangle\", \"fa fa-square-o icon-check-empty\", \"zoom\"], [\"\", \"\", \"\", \"\"], [\"Download\", \"Download plot\", \"fa fa-floppy-o icon-save\", \"download\"]];\n",
       "\n",
       "mpl.extensions = [\"eps\", \"jpeg\", \"pdf\", \"png\", \"ps\", \"raw\", \"svg\", \"tif\"];\n",
       "\n",
       "mpl.default_extension = \"png\";var comm_websocket_adapter = function(comm) {\n",
       "    // Create a \"websocket\"-like object which calls the given IPython comm\n",
       "    // object with the appropriate methods. Currently this is a non binary\n",
       "    // socket, so there is still some room for performance tuning.\n",
       "    var ws = {};\n",
       "\n",
       "    ws.close = function() {\n",
       "        comm.close()\n",
       "    };\n",
       "    ws.send = function(m) {\n",
       "        //console.log('sending', m);\n",
       "        comm.send(m);\n",
       "    };\n",
       "    // Register the callback with on_msg.\n",
       "    comm.on_msg(function(msg) {\n",
       "        //console.log('receiving', msg['content']['data'], msg);\n",
       "        // Pass the mpl event to the overridden (by mpl) onmessage function.\n",
       "        ws.onmessage(msg['content']['data'])\n",
       "    });\n",
       "    return ws;\n",
       "}\n",
       "\n",
       "mpl.mpl_figure_comm = function(comm, msg) {\n",
       "    // This is the function which gets called when the mpl process\n",
       "    // starts-up an IPython Comm through the \"matplotlib\" channel.\n",
       "\n",
       "    var id = msg.content.data.id;\n",
       "    // Get hold of the div created by the display call when the Comm\n",
       "    // socket was opened in Python.\n",
       "    var element = $(\"#\" + id);\n",
       "    var ws_proxy = comm_websocket_adapter(comm)\n",
       "\n",
       "    function ondownload(figure, format) {\n",
       "        window.open(figure.imageObj.src);\n",
       "    }\n",
       "\n",
       "    var fig = new mpl.figure(id, ws_proxy,\n",
       "                           ondownload,\n",
       "                           element.get(0));\n",
       "\n",
       "    // Call onopen now - mpl needs it, as it is assuming we've passed it a real\n",
       "    // web socket which is closed, not our websocket->open comm proxy.\n",
       "    ws_proxy.onopen();\n",
       "\n",
       "    fig.parent_element = element.get(0);\n",
       "    fig.cell_info = mpl.find_output_cell(\"<div id='\" + id + \"'></div>\");\n",
       "    if (!fig.cell_info) {\n",
       "        console.error(\"Failed to find cell for figure\", id, fig);\n",
       "        return;\n",
       "    }\n",
       "\n",
       "    var output_index = fig.cell_info[2]\n",
       "    var cell = fig.cell_info[0];\n",
       "\n",
       "};\n",
       "\n",
       "mpl.figure.prototype.handle_close = function(fig, msg) {\n",
       "    var width = fig.canvas.width/mpl.ratio\n",
       "    fig.root.unbind('remove')\n",
       "\n",
       "    // Update the output cell to use the data from the current canvas.\n",
       "    fig.push_to_output();\n",
       "    var dataURL = fig.canvas.toDataURL();\n",
       "    // Re-enable the keyboard manager in IPython - without this line, in FF,\n",
       "    // the notebook keyboard shortcuts fail.\n",
       "    IPython.keyboard_manager.enable()\n",
       "    $(fig.parent_element).html('<img src=\"' + dataURL + '\" width=\"' + width + '\">');\n",
       "    fig.close_ws(fig, msg);\n",
       "}\n",
       "\n",
       "mpl.figure.prototype.close_ws = function(fig, msg){\n",
       "    fig.send_message('closing', msg);\n",
       "    // fig.ws.close()\n",
       "}\n",
       "\n",
       "mpl.figure.prototype.push_to_output = function(remove_interactive) {\n",
       "    // Turn the data on the canvas into data in the output cell.\n",
       "    var width = this.canvas.width/mpl.ratio\n",
       "    var dataURL = this.canvas.toDataURL();\n",
       "    this.cell_info[1]['text/html'] = '<img src=\"' + dataURL + '\" width=\"' + width + '\">';\n",
       "}\n",
       "\n",
       "mpl.figure.prototype.updated_canvas_event = function() {\n",
       "    // Tell IPython that the notebook contents must change.\n",
       "    IPython.notebook.set_dirty(true);\n",
       "    this.send_message(\"ack\", {});\n",
       "    var fig = this;\n",
       "    // Wait a second, then push the new image to the DOM so\n",
       "    // that it is saved nicely (might be nice to debounce this).\n",
       "    setTimeout(function () { fig.push_to_output() }, 1000);\n",
       "}\n",
       "\n",
       "mpl.figure.prototype._init_toolbar = function() {\n",
       "    var fig = this;\n",
       "\n",
       "    var nav_element = $('<div/>')\n",
       "    nav_element.attr('style', 'width: 100%');\n",
       "    this.root.append(nav_element);\n",
       "\n",
       "    // Define a callback function for later on.\n",
       "    function toolbar_event(event) {\n",
       "        return fig.toolbar_button_onclick(event['data']);\n",
       "    }\n",
       "    function toolbar_mouse_event(event) {\n",
       "        return fig.toolbar_button_onmouseover(event['data']);\n",
       "    }\n",
       "\n",
       "    for(var toolbar_ind in mpl.toolbar_items){\n",
       "        var name = mpl.toolbar_items[toolbar_ind][0];\n",
       "        var tooltip = mpl.toolbar_items[toolbar_ind][1];\n",
       "        var image = mpl.toolbar_items[toolbar_ind][2];\n",
       "        var method_name = mpl.toolbar_items[toolbar_ind][3];\n",
       "\n",
       "        if (!name) { continue; };\n",
       "\n",
       "        var button = $('<button class=\"btn btn-default\" href=\"#\" title=\"' + name + '\"><i class=\"fa ' + image + ' fa-lg\"></i></button>');\n",
       "        button.click(method_name, toolbar_event);\n",
       "        button.mouseover(tooltip, toolbar_mouse_event);\n",
       "        nav_element.append(button);\n",
       "    }\n",
       "\n",
       "    // Add the status bar.\n",
       "    var status_bar = $('<span class=\"mpl-message\" style=\"text-align:right; float: right;\"/>');\n",
       "    nav_element.append(status_bar);\n",
       "    this.message = status_bar[0];\n",
       "\n",
       "    // Add the close button to the window.\n",
       "    var buttongrp = $('<div class=\"btn-group inline pull-right\"></div>');\n",
       "    var button = $('<button class=\"btn btn-mini btn-primary\" href=\"#\" title=\"Stop Interaction\"><i class=\"fa fa-power-off icon-remove icon-large\"></i></button>');\n",
       "    button.click(function (evt) { fig.handle_close(fig, {}); } );\n",
       "    button.mouseover('Stop Interaction', toolbar_mouse_event);\n",
       "    buttongrp.append(button);\n",
       "    var titlebar = this.root.find($('.ui-dialog-titlebar'));\n",
       "    titlebar.prepend(buttongrp);\n",
       "}\n",
       "\n",
       "mpl.figure.prototype._root_extra_style = function(el){\n",
       "    var fig = this\n",
       "    el.on(\"remove\", function(){\n",
       "\tfig.close_ws(fig, {});\n",
       "    });\n",
       "}\n",
       "\n",
       "mpl.figure.prototype._canvas_extra_style = function(el){\n",
       "    // this is important to make the div 'focusable\n",
       "    el.attr('tabindex', 0)\n",
       "    // reach out to IPython and tell the keyboard manager to turn it's self\n",
       "    // off when our div gets focus\n",
       "\n",
       "    // location in version 3\n",
       "    if (IPython.notebook.keyboard_manager) {\n",
       "        IPython.notebook.keyboard_manager.register_events(el);\n",
       "    }\n",
       "    else {\n",
       "        // location in version 2\n",
       "        IPython.keyboard_manager.register_events(el);\n",
       "    }\n",
       "\n",
       "}\n",
       "\n",
       "mpl.figure.prototype._key_event_extra = function(event, name) {\n",
       "    var manager = IPython.notebook.keyboard_manager;\n",
       "    if (!manager)\n",
       "        manager = IPython.keyboard_manager;\n",
       "\n",
       "    // Check for shift+enter\n",
       "    if (event.shiftKey && event.which == 13) {\n",
       "        this.canvas_div.blur();\n",
       "        event.shiftKey = false;\n",
       "        // Send a \"J\" for go to next cell\n",
       "        event.which = 74;\n",
       "        event.keyCode = 74;\n",
       "        manager.command_mode();\n",
       "        manager.handle_keydown(event);\n",
       "    }\n",
       "}\n",
       "\n",
       "mpl.figure.prototype.handle_save = function(fig, msg) {\n",
       "    fig.ondownload(fig, null);\n",
       "}\n",
       "\n",
       "\n",
       "mpl.find_output_cell = function(html_output) {\n",
       "    // Return the cell and output element which can be found *uniquely* in the notebook.\n",
       "    // Note - this is a bit hacky, but it is done because the \"notebook_saving.Notebook\"\n",
       "    // IPython event is triggered only after the cells have been serialised, which for\n",
       "    // our purposes (turning an active figure into a static one), is too late.\n",
       "    var cells = IPython.notebook.get_cells();\n",
       "    var ncells = cells.length;\n",
       "    for (var i=0; i<ncells; i++) {\n",
       "        var cell = cells[i];\n",
       "        if (cell.cell_type === 'code'){\n",
       "            for (var j=0; j<cell.output_area.outputs.length; j++) {\n",
       "                var data = cell.output_area.outputs[j];\n",
       "                if (data.data) {\n",
       "                    // IPython >= 3 moved mimebundle to data attribute of output\n",
       "                    data = data.data;\n",
       "                }\n",
       "                if (data['text/html'] == html_output) {\n",
       "                    return [cell, data, j];\n",
       "                }\n",
       "            }\n",
       "        }\n",
       "    }\n",
       "}\n",
       "\n",
       "// Register the function which deals with the matplotlib target/channel.\n",
       "// The kernel may be null if the page has been refreshed.\n",
       "if (IPython.notebook.kernel != null) {\n",
       "    IPython.notebook.kernel.comm_manager.register_target('matplotlib', mpl.mpl_figure_comm);\n",
       "}\n"
      ],
      "text/plain": [
       "<IPython.core.display.Javascript object>"
      ]
     },
     "metadata": {},
     "output_type": "display_data"
    },
    {
     "data": {
      "text/html": [
       "<img src=\"data:image/png;base64,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\" width=\"767.7777981169435\">"
      ],
      "text/plain": [
       "<IPython.core.display.HTML object>"
      ]
     },
     "metadata": {},
     "output_type": "display_data"
    }
   ],
   "source": [
    "%matplotlib notebook\n",
    "pw.updateplot()"
   ]
  },
  {
   "cell_type": "markdown",
   "metadata": {},
   "source": [
    "### Advanced Instructions:\n",
    "\n",
    "1. __Coordinate System__ sets the crs used in the map projection. The default value is *spherical* which uses EPSG:3857. *Geo* can also be entered for a standard mercator projection (ESPG:4326). A custom CRS can be used by entering the EPSG integer. For example, *5940* (a crs designed for Russia) can be entered to avoid having Russia wrap around the side of the map. Visit __[EPSG](https://epsg.io/3857)__ to find custom coordinate systems. *Default Value: spherical*\n",
    "\n",
    "2. __Number of Legend Columns__. *Default Value: 1*\n",
    "\n",
    "3. __Sort Legend By__ sorts the resources in the legend (not the size indicators) by either *alphabetical* or by the sum of the *capacity* of the resource for the selected country. *Default Value: capacity*\n",
    "\n",
    "4. __Zoom Level__ changes the size of the map portion of the plot. This can be useful to adjust the map for different sized screens, or to provide a bigger map for the purpose of saving. *__WARNING:__* making this value large enough to produce an image wider than the width of the console will result in erratic results! *Default Value: 1.5*\n",
    "\n",
    "5. __Island Size Thresh__ creates a minimum threshold (in km^2) for the geometry of islands to be included in the map. *largest* can also be entered to only select the largest geometry for the country. For example, plotting Canada with the default values includes a number of arctic islands that are useless for the purpose of a power plant map (sorry Baffin island). Setting __Island Size Thresh__ to either *largest* or *8000000* will only display the continental portions of Canada. *Default Value: 200 (km^2)*\n",
    "\n",
    "6. __Show Populated Places__ can be used to draw points on the map in the location of populated cities. Data is drawn from the __[Natural Earth](https://www.naturalearthdata.com/downloads/10m-cultural-vectors/10m-populated-places/)__ database of populated places which includes data for an astonishing number of locations. Additionally, arrows are drawn labeling the name of these points (*__HINT:__* these labels are draggable, although it doesn't work the best!). __Show Populated Places__ can either be *False* (i.e. off), or an integer value which sets the minimum population threshold for a city to be included on the map. *Default Value: False*\n",
    "\n",
    "7. __Bubble Opacity__ is used to change the opacity of the powerplant bubbles. Setting it lower can be useful for countries with a large number of overlapping bubbles (i.e. the United States). *Default Value: 0.5*\n",
    "\n",
    "8. __Country Precursor__ allows you to enter a word (or series of words) to appear before the country name in the title of the plot. For instance, if you entered 'Philippines' as the __Country Name__ but want the title to be 'Power Plants in The Philippines' you could enter *\"The \"* into __Country Precursor__. *Default Value: None*\n",
    "\n",
    "9. __Title On__ turns the title at the top on or off. *Default: True*\n",
    "\n",
    "10. __Source On__ turns the source at the bottom on or off. *Default: True*\n",
    "\n",
    "\n",
    "Please email me at sam.koebrich@NREL.gov with any bugs, comments, or feature requests!"
   ]
  },
  {
   "cell_type": "code",
   "execution_count": 3,
   "metadata": {
    "init_cell": true
   },
   "outputs": [
    {
     "data": {
      "application/vnd.jupyter.widget-view+json": {
       "model_id": "e0bdaa3c3c3f4aaabf96d644c6ccb46d",
       "version_major": 2,
       "version_minor": 0
      },
      "text/plain": [
       "Text(value='spherical', description='Coordinate System:', placeholder='Type something', style=DescriptionStyle…"
      ]
     },
     "metadata": {},
     "output_type": "display_data"
    },
    {
     "data": {
      "application/vnd.jupyter.widget-view+json": {
       "model_id": "08642b7f75bd4786887c6bfaf5a2d059",
       "version_major": 2,
       "version_minor": 0
      },
      "text/plain": [
       "IntSlider(value=1, continuous_update=False, description='Number of Legend Columns:', max=3, min=1, style=Slide…"
      ]
     },
     "metadata": {},
     "output_type": "display_data"
    },
    {
     "data": {
      "application/vnd.jupyter.widget-view+json": {
       "model_id": "0b862a676ef54153aca49fed7fa72a17",
       "version_major": 2,
       "version_minor": 0
      },
      "text/plain": [
       "Dropdown(description='Sort Legend By:', options=('capacity', 'alphabetical'), style=DescriptionStyle(descripti…"
      ]
     },
     "metadata": {},
     "output_type": "display_data"
    },
    {
     "data": {
      "application/vnd.jupyter.widget-view+json": {
       "model_id": "6efb57ccd24b40b5b1fdad79aacdf38c",
       "version_major": 2,
       "version_minor": 0
      },
      "text/plain": [
       "FloatSlider(value=1.0, continuous_update=False, description='Zoom Level:', max=3.0, min=0.5, readout_format='.…"
      ]
     },
     "metadata": {},
     "output_type": "display_data"
    },
    {
     "data": {
      "application/vnd.jupyter.widget-view+json": {
       "model_id": "10cc30b90594427ca13f878e64755cef",
       "version_major": 2,
       "version_minor": 0
      },
      "text/plain": [
       "Text(value='5000', description='Island Size Thresh:', placeholder='Type a island thresh', style=DescriptionSty…"
      ]
     },
     "metadata": {},
     "output_type": "display_data"
    },
    {
     "data": {
      "application/vnd.jupyter.widget-view+json": {
       "model_id": "05f1b798a53b44de9a885976f8d74c74",
       "version_major": 2,
       "version_minor": 0
      },
      "text/plain": [
       "Text(value='False', description='Show Populated Places:', placeholder='Type something', style=DescriptionStyle…"
      ]
     },
     "metadata": {},
     "output_type": "display_data"
    },
    {
     "data": {
      "application/vnd.jupyter.widget-view+json": {
       "model_id": "b8fed68e07e44454881b3146f645ae9e",
       "version_major": 2,
       "version_minor": 0
      },
      "text/plain": [
       "FloatSlider(value=0.5, continuous_update=False, description='Bubble Opacity:', max=1.0, readout_format='.1f', …"
      ]
     },
     "metadata": {},
     "output_type": "display_data"
    },
    {
     "data": {
      "application/vnd.jupyter.widget-view+json": {
       "model_id": "a5a3b66df019446e860809ba25abb4ee",
       "version_major": 2,
       "version_minor": 0
      },
      "text/plain": [
       "Text(value='', description='Country Precursor:', placeholder='Precursor to Country Name', style=DescriptionSty…"
      ]
     },
     "metadata": {},
     "output_type": "display_data"
    },
    {
     "data": {
      "application/vnd.jupyter.widget-view+json": {
       "model_id": "82cec94221d749ac84c0d378b03e1590",
       "version_major": 2,
       "version_minor": 0
      },
      "text/plain": [
       "RadioButtons(description='Title On:', options=(True, False), value=True)"
      ]
     },
     "metadata": {},
     "output_type": "display_data"
    },
    {
     "data": {
      "application/vnd.jupyter.widget-view+json": {
       "model_id": "1c45bc703ac44405bc8fcbdcf5193a40",
       "version_major": 2,
       "version_minor": 0
      },
      "text/plain": [
       "RadioButtons(description='Source On:', options=(True, False), value=True)"
      ]
     },
     "metadata": {},
     "output_type": "display_data"
    }
   ],
   "source": [
    "pw.showadvancedwidgets()"
   ]
  },
  {
   "cell_type": "markdown",
   "metadata": {},
   "source": [
    "Powerplant data from: \n",
    "Global Energy Observatory, Google, KTH Royal Institute of Technology in Stockholm, Enipedia, World Resources Institute. 2018. Global Power Plant Database. Published on Resource Watch and Google Earth Engine; http://resourcewatch.org/ https://earthengine.google.com/\n",
    "\n",
    "\n",
    "Written in &#128013; with &#128149;"
   ]
  },
  {
   "cell_type": "code",
   "execution_count": null,
   "metadata": {},
   "outputs": [],
   "source": []
  }
 ],
 "metadata": {
  "celltoolbar": "Initialization Cell",
  "kernelspec": {
   "display_name": "Python 3",
   "language": "python",
   "name": "python3"
  },
  "language_info": {
   "codemirror_mode": {
    "name": "ipython",
    "version": 3
   },
   "file_extension": ".py",
   "mimetype": "text/x-python",
   "name": "python",
   "nbconvert_exporter": "python",
   "pygments_lexer": "ipython3",
   "version": "3.6.5"
  },
  "widgets": {
   "application/vnd.jupyter.widget-state+json": {
    "state": {
     "010ed1c7bf0a4848948e308eb71fc2fc": {
      "model_module": "@jupyter-widgets/base",
      "model_module_version": "1.0.0",
      "model_name": "LayoutModel",
      "state": {}
     },
     "02b8a3844d794aed9133f3180581b508": {
      "model_module": "@jupyter-widgets/base",
      "model_module_version": "1.0.0",
      "model_name": "LayoutModel",
      "state": {}
     },
     "058d54805c20450eafbc9db231c5c754": {
      "model_module": "@jupyter-widgets/controls",
      "model_module_version": "1.2.0",
      "model_name": "DescriptionStyleModel",
      "state": {
       "description_width": "initial"
      }
     },
     "05cf403f1c984ed785a57914e07b3ed4": {
      "model_module": "@jupyter-widgets/base",
      "model_module_version": "1.0.0",
      "model_name": "LayoutModel",
      "state": {
       "height": "80px",
       "width": "70%"
      }
     },
     "07d4e4a18cc346ce93b9a10849d918d9": {
      "model_module": "@jupyter-widgets/base",
      "model_module_version": "1.0.0",
      "model_name": "LayoutModel",
      "state": {
       "height": "80px",
       "width": "70%"
      }
     },
     "083a7ffeba7b4bc2931fa493aac2b9c2": {
      "model_module": "@jupyter-widgets/controls",
      "model_module_version": "1.2.0",
      "model_name": "TextModel",
      "state": {
       "description": "Coordinate System:",
       "layout": "IPY_MODEL_8e369e9e95b0412a956edc2eec5ca3ee",
       "placeholder": "Type something",
       "style": "IPY_MODEL_ed2ba2283910438e9213d39295c6c66d",
       "value": "spherical"
      }
     },
     "0a158a000eb841de97f47b8ee7f14c5a": {
      "model_module": "@jupyter-widgets/base",
      "model_module_version": "1.0.0",
      "model_name": "LayoutModel",
      "state": {}
     },
     "0b4622c9ea7d4c03874b56cacb424dcd": {
      "model_module": "@jupyter-widgets/controls",
      "model_module_version": "1.2.0",
      "model_name": "TextModel",
      "state": {
       "description": "Country Precursor:",
       "layout": "IPY_MODEL_7eebd21cecfd4f438cda8b39232357ff",
       "placeholder": "Precursor to Country Name",
       "style": "IPY_MODEL_40c9e9c61a9d49d988156905625739cc"
      }
     },
     "0beff752fed84020bc817f17c2ecaa1d": {
      "model_module": "@jupyter-widgets/base",
      "model_module_version": "1.0.0",
      "model_name": "LayoutModel",
      "state": {}
     },
     "0f486a410ccd413d903252616dc606f3": {
      "model_module": "@jupyter-widgets/controls",
      "model_module_version": "1.2.0",
      "model_name": "FloatSliderModel",
      "state": {
       "continuous_update": false,
       "description": "Bubble Opacity:",
       "layout": "IPY_MODEL_ed748724e69043e6b6b9290c21e750fc",
       "max": 1,
       "readout_format": ".1f",
       "step": 0.1,
       "style": "IPY_MODEL_1a4ed045f62748fbb73330749aa865ba",
       "value": 0.5
      }
     },
     "1038a7a79c4f4339928cf3eca426265d": {
      "model_module": "@jupyter-widgets/controls",
      "model_module_version": "1.2.0",
      "model_name": "TextModel",
      "state": {
       "description": "Show Populated Places:",
       "layout": "IPY_MODEL_893588eccb564a26b2026e0d63bb40d0",
       "placeholder": "Type something",
       "style": "IPY_MODEL_288060d3e82c4d9e995a8e6eb516dbd6",
       "value": "False"
      }
     },
     "10939cd7c0ba4b7f813bbd234f5886ca": {
      "model_module": "@jupyter-widgets/controls",
      "model_module_version": "1.2.0",
      "model_name": "DescriptionStyleModel",
      "state": {
       "description_width": "initial"
      }
     },
     "109d31f70ca84d888591250c0905c01c": {
      "model_module": "@jupyter-widgets/base",
      "model_module_version": "1.0.0",
      "model_name": "LayoutModel",
      "state": {}
     },
     "10d2814d3e2a4514be2f21a0f26f9f9a": {
      "model_module": "@jupyter-widgets/controls",
      "model_module_version": "1.2.0",
      "model_name": "ButtonStyleModel",
      "state": {}
     },
     "12b8b3adb0454383bb82c961e846082a": {
      "model_module": "@jupyter-widgets/controls",
      "model_module_version": "1.2.0",
      "model_name": "SliderStyleModel",
      "state": {
       "description_width": "initial"
      }
     },
     "12e0922dd6844b0badf0173a79d455ba": {
      "model_module": "@jupyter-widgets/base",
      "model_module_version": "1.0.0",
      "model_name": "LayoutModel",
      "state": {}
     },
     "13deba104b124a58808102cf5ca3385b": {
      "model_module": "@jupyter-widgets/controls",
      "model_module_version": "1.2.0",
      "model_name": "ToggleButtonsModel",
      "state": {
       "_options_labels": [
        "Simple",
        "Mixed",
        "Complex"
       ],
       "button_style": "",
       "description": "Simplification Level:",
       "icons": [],
       "index": 1,
       "layout": "IPY_MODEL_3bf6e31885ee4afeafec97f2f5f3953e",
       "style": "IPY_MODEL_34e9edea2dff4ec7b7718a1e90f3e475",
       "tooltips": [
        "Renewables, Fossil, and Nuclear",
        "Solar, Wind, Hydro, Geothermal,Biomass, Wave and Tidal,\n Storage, Fossil, Nuclear",
        "Solar, Wind, Hydro, Geothermal,Biomass, Wave and Tidal,\n Storage, Fossil, Nuclear, Coal, Gas, Oil, Waste, Cogeneration"
       ]
      }
     },
     "14e316bba7b646ec8d29b2f2b9376a70": {
      "model_module": "@jupyter-widgets/controls",
      "model_module_version": "1.2.0",
      "model_name": "DropdownModel",
      "state": {
       "_options_labels": [
        "capacity",
        "alphabetical"
       ],
       "description": "Sort Legend By:",
       "index": 0,
       "layout": "IPY_MODEL_40d16b65d8df44c4b895c47fa60b5ba9",
       "style": "IPY_MODEL_7b7d7fa6e7a34a5daa8b2d4705aa3538"
      }
     },
     "16b0c417099e4e1fb9797faaf460cdab": {
      "model_module": "@jupyter-widgets/controls",
      "model_module_version": "1.2.0",
      "model_name": "DescriptionStyleModel",
      "state": {
       "description_width": "initial"
      }
     },
     "17001cca00194e0cafdee261752dbcdd": {
      "model_module": "@jupyter-widgets/base",
      "model_module_version": "1.0.0",
      "model_name": "LayoutModel",
      "state": {}
     },
     "18e37dd631e84d1c8a1572e0227ca2f5": {
      "model_module": "@jupyter-widgets/base",
      "model_module_version": "1.0.0",
      "model_name": "LayoutModel",
      "state": {}
     },
     "1a4944b730414972b8e78ccc5f174728": {
      "model_module": "@jupyter-widgets/controls",
      "model_module_version": "1.2.0",
      "model_name": "SliderStyleModel",
      "state": {
       "description_width": "initial"
      }
     },
     "1a4ed045f62748fbb73330749aa865ba": {
      "model_module": "@jupyter-widgets/controls",
      "model_module_version": "1.2.0",
      "model_name": "SliderStyleModel",
      "state": {
       "description_width": "initial"
      }
     },
     "1b0ea0b2b7464ed1b8cbe979839ced9b": {
      "model_module": "@jupyter-widgets/base",
      "model_module_version": "1.0.0",
      "model_name": "LayoutModel",
      "state": {}
     },
     "1b1af95fda874a35830da77937472a16": {
      "model_module": "@jupyter-widgets/controls",
      "model_module_version": "1.2.0",
      "model_name": "DescriptionStyleModel",
      "state": {
       "description_width": "initial"
      }
     },
     "1f0ee5c34001498fbcde7e7ca6c8f9e5": {
      "model_module": "@jupyter-widgets/base",
      "model_module_version": "1.0.0",
      "model_name": "LayoutModel",
      "state": {}
     },
     "1fabb84a19d34e9db16d7f6fafc80d51": {
      "model_module": "@jupyter-widgets/controls",
      "model_module_version": "1.2.0",
      "model_name": "ButtonModel",
      "state": {
       "description": "Update Plot",
       "icon": "check",
       "layout": "IPY_MODEL_7f9bf6dbe7e14010b2690230fa643a59",
       "style": "IPY_MODEL_94a880a70bfd4aacb4ba03bf1d59ae92",
       "tooltip": "Update Plot"
      }
     },
     "23326e45c0584ff49f26ca3405dc269c": {
      "model_module": "@jupyter-widgets/controls",
      "model_module_version": "1.2.0",
      "model_name": "DescriptionStyleModel",
      "state": {
       "description_width": "initial"
      }
     },
     "2744a9a4245e4ce392b7da3458773886": {
      "model_module": "@jupyter-widgets/base",
      "model_module_version": "1.0.0",
      "model_name": "LayoutModel",
      "state": {
       "height": "80px",
       "width": "70%"
      }
     },
     "27923732d28842fb833d024bd04ffcef": {
      "model_module": "@jupyter-widgets/controls",
      "model_module_version": "1.2.0",
      "model_name": "ToggleButtonsStyleModel",
      "state": {
       "button_width": "",
       "description_width": "initial"
      }
     },
     "288060d3e82c4d9e995a8e6eb516dbd6": {
      "model_module": "@jupyter-widgets/controls",
      "model_module_version": "1.2.0",
      "model_name": "DescriptionStyleModel",
      "state": {
       "description_width": "initial"
      }
     },
     "29add54988604a7999b603dd9cb7d054": {
      "model_module": "@jupyter-widgets/controls",
      "model_module_version": "1.2.0",
      "model_name": "TextModel",
      "state": {
       "description": "Country Name:",
       "layout": "IPY_MODEL_12e0922dd6844b0badf0173a79d455ba",
       "placeholder": "Type a country name",
       "style": "IPY_MODEL_a93b116b59be4920bb2e511b49aa7f77",
       "value": "India"
      }
     },
     "2a3164795ea544ecb3999fe612ee5414": {
      "model_module": "@jupyter-widgets/base",
      "model_module_version": "1.0.0",
      "model_name": "LayoutModel",
      "state": {
       "height": "80px",
       "width": "70%"
      }
     },
     "2bafa6351b9045a2a9bf212871912c7e": {
      "model_module": "@jupyter-widgets/controls",
      "model_module_version": "1.2.0",
      "model_name": "IntSliderModel",
      "state": {
       "continuous_update": false,
       "description": "Number of Legend Columns:",
       "layout": "IPY_MODEL_73c61e62236546379381715c89153640",
       "max": 3,
       "min": 1,
       "style": "IPY_MODEL_a8af5a4db811411db959cbfd18d59ad6",
       "value": 1
      }
     },
     "2d8014c48b5a4740b47b895f621dc9a1": {
      "model_module": "@jupyter-widgets/controls",
      "model_module_version": "1.2.0",
      "model_name": "ButtonStyleModel",
      "state": {}
     },
     "2f6629529078457db334226140d36d61": {
      "model_module": "@jupyter-widgets/base",
      "model_module_version": "1.0.0",
      "model_name": "LayoutModel",
      "state": {}
     },
     "2fe415dc7de54d6190176de0a7175b33": {
      "model_module": "@jupyter-widgets/controls",
      "model_module_version": "1.2.0",
      "model_name": "DescriptionStyleModel",
      "state": {
       "description_width": "initial"
      }
     },
     "30d6471269fc40a1a4f860fdfc8b610e": {
      "model_module": "@jupyter-widgets/base",
      "model_module_version": "1.0.0",
      "model_name": "LayoutModel",
      "state": {}
     },
     "3125f5cd27a7450c98c9f988dd85cb7f": {
      "model_module": "@jupyter-widgets/controls",
      "model_module_version": "1.2.0",
      "model_name": "DropdownModel",
      "state": {
       "_options_labels": [
        "capacity",
        "alphabetical"
       ],
       "description": "Sort Legend By:",
       "index": 0,
       "layout": "IPY_MODEL_49bd67dc24854b889918a23b15b00f85",
       "style": "IPY_MODEL_a750b2ac585544419b8e637c8e885f82"
      }
     },
     "31350430751643e5814fc8980af761cc": {
      "model_module": "@jupyter-widgets/controls",
      "model_module_version": "1.2.0",
      "model_name": "TextModel",
      "state": {
       "description": "Coordinate System:",
       "layout": "IPY_MODEL_53d81026ac3646c2814129596f41f012",
       "placeholder": "Type something",
       "style": "IPY_MODEL_ef32c488276b4ee49436f14c7eb80224",
       "value": "spherical"
      }
     },
     "3393bdca9acd4a3aa9db45edbc8da76e": {
      "model_module": "@jupyter-widgets/controls",
      "model_module_version": "1.2.0",
      "model_name": "TextModel",
      "state": {
       "description": "Country Name:",
       "layout": "IPY_MODEL_18e37dd631e84d1c8a1572e0227ca2f5",
       "placeholder": "Type a country name",
       "style": "IPY_MODEL_537f1bd0e2ad45e9b841ecf61c980f2f",
       "value": "India"
      }
     },
     "339ee14ddd864efabafa4777e196b00d": {
      "model_module": "@jupyter-widgets/controls",
      "model_module_version": "1.2.0",
      "model_name": "DescriptionStyleModel",
      "state": {
       "description_width": "initial"
      }
     },
     "34014df9fcdc47df8e33f6b7b35b0974": {
      "model_module": "@jupyter-widgets/controls",
      "model_module_version": "1.2.0",
      "model_name": "TextModel",
      "state": {
       "description": "Show Populated Places:",
       "layout": "IPY_MODEL_109d31f70ca84d888591250c0905c01c",
       "placeholder": "Type something",
       "style": "IPY_MODEL_16b0c417099e4e1fb9797faaf460cdab",
       "value": "False"
      }
     },
     "34e9edea2dff4ec7b7718a1e90f3e475": {
      "model_module": "@jupyter-widgets/controls",
      "model_module_version": "1.2.0",
      "model_name": "ToggleButtonsStyleModel",
      "state": {
       "button_width": "",
       "description_width": "initial"
      }
     },
     "358b85675660437d91780d8aa0097a00": {
      "model_module": "@jupyter-widgets/base",
      "model_module_version": "1.0.0",
      "model_name": "LayoutModel",
      "state": {}
     },
     "366cec21c9064cc4b475d2ab927a07f7": {
      "model_module": "@jupyter-widgets/controls",
      "model_module_version": "1.2.0",
      "model_name": "IntSliderModel",
      "state": {
       "continuous_update": false,
       "description": "DPI (resolution):",
       "layout": "IPY_MODEL_591839c9b4f141d5a28d4cf3452b40c6",
       "max": 500,
       "min": 100,
       "style": "IPY_MODEL_9afbc86f13914158a03d293a830ee70d",
       "value": 300
      }
     },
     "36eae348f7224cb1b05bee38a1c2be8c": {
      "model_module": "@jupyter-widgets/controls",
      "model_module_version": "1.2.0",
      "model_name": "DescriptionStyleModel",
      "state": {
       "description_width": "initial"
      }
     },
     "375fcecc1872407f98f0cf7ca4cd416d": {
      "model_module": "@jupyter-widgets/controls",
      "model_module_version": "1.2.0",
      "model_name": "TextModel",
      "state": {
       "description": "Coordinate System:",
       "layout": "IPY_MODEL_e9305f35e0fd483887baf0b326df7b95",
       "placeholder": "Type something",
       "style": "IPY_MODEL_ae3b3f6fbb1a4b26b0ffe7d4b9f72de8",
       "value": "spherical"
      }
     },
     "3b02cbdca733420bb0abb22b3b073d07": {
      "model_module": "@jupyter-widgets/controls",
      "model_module_version": "1.2.0",
      "model_name": "TextModel",
      "state": {
       "description": "Show Populated Places:",
       "layout": "IPY_MODEL_d4ad19b8a2f04f589aa20a7ccc92ac75",
       "placeholder": "Type something",
       "style": "IPY_MODEL_9ab1fe573e8445949f69aa4030771271",
       "value": "False"
      }
     },
     "3bcdc2e9071e47f6b59fef3edfba57ad": {
      "model_module": "@jupyter-widgets/controls",
      "model_module_version": "1.2.0",
      "model_name": "DescriptionStyleModel",
      "state": {
       "description_width": "initial"
      }
     },
     "3bf6e31885ee4afeafec97f2f5f3953e": {
      "model_module": "@jupyter-widgets/base",
      "model_module_version": "1.0.0",
      "model_name": "LayoutModel",
      "state": {}
     },
     "3c96f40bfe404913bb8a556bc94eceb5": {
      "model_module": "@jupyter-widgets/controls",
      "model_module_version": "1.2.0",
      "model_name": "FloatSliderModel",
      "state": {
       "continuous_update": false,
       "description": "Zoom Level:",
       "layout": "IPY_MODEL_dbbfa7595efb435a920d2df2c4ed014f",
       "max": 3,
       "min": 0.5,
       "readout_format": ".1f",
       "step": 0.1,
       "style": "IPY_MODEL_d125a30ae17d43409f6d391ec5d09566",
       "value": 1.5
      }
     },
     "3ce25d4b89904195985c5a22c00a3658": {
      "model_module": "@jupyter-widgets/base",
      "model_module_version": "1.0.0",
      "model_name": "LayoutModel",
      "state": {}
     },
     "3f50e791dfe84c56971a0e3510ab2462": {
      "model_module": "@jupyter-widgets/base",
      "model_module_version": "1.0.0",
      "model_name": "LayoutModel",
      "state": {}
     },
     "40c9e9c61a9d49d988156905625739cc": {
      "model_module": "@jupyter-widgets/controls",
      "model_module_version": "1.2.0",
      "model_name": "DescriptionStyleModel",
      "state": {
       "description_width": "initial"
      }
     },
     "40d16b65d8df44c4b895c47fa60b5ba9": {
      "model_module": "@jupyter-widgets/base",
      "model_module_version": "1.0.0",
      "model_name": "LayoutModel",
      "state": {}
     },
     "432a103699904db7963d0a9bbc7e17f2": {
      "model_module": "@jupyter-widgets/controls",
      "model_module_version": "1.2.0",
      "model_name": "ButtonModel",
      "state": {
       "description": "Update Plot",
       "icon": "check",
       "layout": "IPY_MODEL_07d4e4a18cc346ce93b9a10849d918d9",
       "style": "IPY_MODEL_5db54fa15a92462eaef5fb688a8e939b",
       "tooltip": "Update Plot"
      }
     },
     "43d02a41bd7a4de4992b058737b6302f": {
      "model_module": "@jupyter-widgets/controls",
      "model_module_version": "1.2.0",
      "model_name": "TextModel",
      "state": {
       "description": "Path to save to:",
       "layout": "IPY_MODEL_7d8d5133f57346deb21974a0a242f2ee",
       "placeholder": "Type the complete path to save to",
       "style": "IPY_MODEL_a723d99706924ff7a0ca2a6ef05b9924",
       "value": "/Users/skoebric/Downloads/XYZ.png"
      }
     },
     "44db9351f5b24a118a8d9b80d4cd7037": {
      "model_module": "@jupyter-widgets/controls",
      "model_module_version": "1.2.0",
      "model_name": "DescriptionStyleModel",
      "state": {
       "description_width": "initial"
      }
     },
     "45145fd840e343269f4298bcfcaff6b5": {
      "model_module": "@jupyter-widgets/controls",
      "model_module_version": "1.2.0",
      "model_name": "ButtonStyleModel",
      "state": {}
     },
     "46278d5b091c4166b3984f0c245bad2d": {
      "model_module": "@jupyter-widgets/controls",
      "model_module_version": "1.2.0",
      "model_name": "TextModel",
      "state": {
       "description": "Path to save to:",
       "layout": "IPY_MODEL_7ddc92e61fbc4f82990fbe5d0bb632c6",
       "placeholder": "Type the complete path to save to",
       "style": "IPY_MODEL_a0167f6a4d574f0ab63d52658e485f1d",
       "value": "/Users/skoebric/Downloads/XYZ.png"
      }
     },
     "46834292510b46f3a806a189b6851cfd": {
      "model_module": "@jupyter-widgets/base",
      "model_module_version": "1.0.0",
      "model_name": "LayoutModel",
      "state": {}
     },
     "46ae4478c31f4e94b1935ac9d06f4320": {
      "model_module": "@jupyter-widgets/controls",
      "model_module_version": "1.2.0",
      "model_name": "TextModel",
      "state": {
       "description": "Island Size Thresh:",
       "layout": "IPY_MODEL_0a158a000eb841de97f47b8ee7f14c5a",
       "placeholder": "Type a island thresh",
       "style": "IPY_MODEL_c17885a9718b4721bbbfab07543fd658",
       "value": "200"
      }
     },
     "49b6b75d5bd347c89286ebffd49e3f9a": {
      "model_module": "@jupyter-widgets/controls",
      "model_module_version": "1.2.0",
      "model_name": "ButtonModel",
      "state": {
       "description": "Update Plot",
       "icon": "check",
       "layout": "IPY_MODEL_a22c4e081b5f414d878555709e742130",
       "style": "IPY_MODEL_63188a9729fe43bfbf3d484000133813",
       "tooltip": "Update Plot"
      }
     },
     "49bd67dc24854b889918a23b15b00f85": {
      "model_module": "@jupyter-widgets/base",
      "model_module_version": "1.0.0",
      "model_name": "LayoutModel",
      "state": {}
     },
     "4ab81f5bc0784995b4845a8d39b21895": {
      "model_module": "@jupyter-widgets/controls",
      "model_module_version": "1.2.0",
      "model_name": "ToggleButtonsStyleModel",
      "state": {
       "button_width": "",
       "description_width": "initial"
      }
     },
     "4ec3e174451741f9b57b5e2bfa9fa7e4": {
      "model_module": "@jupyter-widgets/base",
      "model_module_version": "1.0.0",
      "model_name": "LayoutModel",
      "state": {}
     },
     "4f257e99d3e949af99805896f656097d": {
      "model_module": "@jupyter-widgets/base",
      "model_module_version": "1.0.0",
      "model_name": "LayoutModel",
      "state": {}
     },
     "4f67f5e54e9848f2a29055f2338e10eb": {
      "model_module": "@jupyter-widgets/controls",
      "model_module_version": "1.2.0",
      "model_name": "ButtonModel",
      "state": {
       "description": "Update Plot",
       "icon": "check",
       "layout": "IPY_MODEL_b02c35743def4136a7294be2dd34fb32",
       "style": "IPY_MODEL_9a93d7bdd7c94b129d96672b4b55ee04",
       "tooltip": "Update Plot"
      }
     },
     "51014d006bb84891bead873351ff1d01": {
      "model_module": "@jupyter-widgets/controls",
      "model_module_version": "1.2.0",
      "model_name": "DropdownModel",
      "state": {
       "_options_labels": [
        "capacity",
        "alphabetical"
       ],
       "description": "Sort Legend By:",
       "index": 0,
       "layout": "IPY_MODEL_80a60a4f0d544959bb6b9dbda2230dc4",
       "style": "IPY_MODEL_a605d0d3081642aeb98a5b8209c792d3"
      }
     },
     "51d5c7003f234b8c910c7f5b0492c377": {
      "model_module": "@jupyter-widgets/controls",
      "model_module_version": "1.2.0",
      "model_name": "FloatSliderModel",
      "state": {
       "continuous_update": false,
       "description": "Bubble Opacity:",
       "layout": "IPY_MODEL_010ed1c7bf0a4848948e308eb71fc2fc",
       "max": 1,
       "readout_format": ".1f",
       "step": 0.1,
       "style": "IPY_MODEL_f5a0a62cb8df476c8ffc4110bc5cd6cb",
       "value": 0.5
      }
     },
     "5221a1a38da04a329dd1d360ddc1ec4d": {
      "model_module": "@jupyter-widgets/controls",
      "model_module_version": "1.2.0",
      "model_name": "SliderStyleModel",
      "state": {
       "description_width": "initial"
      }
     },
     "537f1bd0e2ad45e9b841ecf61c980f2f": {
      "model_module": "@jupyter-widgets/controls",
      "model_module_version": "1.2.0",
      "model_name": "DescriptionStyleModel",
      "state": {
       "description_width": "initial"
      }
     },
     "53d81026ac3646c2814129596f41f012": {
      "model_module": "@jupyter-widgets/base",
      "model_module_version": "1.0.0",
      "model_name": "LayoutModel",
      "state": {}
     },
     "57f98d81985943ebb9233853dd4a23f0": {
      "model_module": "@jupyter-widgets/controls",
      "model_module_version": "1.2.0",
      "model_name": "ToggleButtonsStyleModel",
      "state": {
       "button_width": "",
       "description_width": "initial"
      }
     },
     "5907fb5ea9804f719263c7fd2887a7d4": {
      "model_module": "@jupyter-widgets/base",
      "model_module_version": "1.0.0",
      "model_name": "LayoutModel",
      "state": {}
     },
     "591839c9b4f141d5a28d4cf3452b40c6": {
      "model_module": "@jupyter-widgets/base",
      "model_module_version": "1.0.0",
      "model_name": "LayoutModel",
      "state": {}
     },
     "59420138f5c443688f9971e1e65bcff6": {
      "model_module": "@jupyter-widgets/controls",
      "model_module_version": "1.2.0",
      "model_name": "DescriptionStyleModel",
      "state": {
       "description_width": "initial"
      }
     },
     "59a4ff60ebaa4d40af2dd5a5325f89c1": {
      "model_module": "@jupyter-widgets/base",
      "model_module_version": "1.0.0",
      "model_name": "LayoutModel",
      "state": {}
     },
     "5b233d34e9214b0fb7e071a0f56f354f": {
      "model_module": "@jupyter-widgets/controls",
      "model_module_version": "1.2.0",
      "model_name": "DescriptionStyleModel",
      "state": {
       "description_width": "initial"
      }
     },
     "5b7ce13e79aa4ab0b9b4c5f6bfd15ec3": {
      "model_module": "@jupyter-widgets/controls",
      "model_module_version": "1.2.0",
      "model_name": "FloatSliderModel",
      "state": {
       "continuous_update": false,
       "description": "Zoom Level:",
       "layout": "IPY_MODEL_86180b5f6c09448e9405b0dd50cb83be",
       "max": 3,
       "min": 0.5,
       "readout_format": ".1f",
       "step": 0.1,
       "style": "IPY_MODEL_c1761a83c028452db93416353cb004ba",
       "value": 1.3
      }
     },
     "5b819e0b42f34b1e9730fbd28fe6d8d1": {
      "model_module": "@jupyter-widgets/controls",
      "model_module_version": "1.2.0",
      "model_name": "TextModel",
      "state": {
       "description": "Island Size Thresh:",
       "layout": "IPY_MODEL_c870c16b581947f49459fff4f5bcad37",
       "placeholder": "Type a island thresh",
       "style": "IPY_MODEL_f3b74ccd814b427fb5383b5f00c6e23d",
       "value": "200"
      }
     },
     "5d5c70c261a14357b167e42fc1d21d6f": {
      "model_module": "@jupyter-widgets/controls",
      "model_module_version": "1.2.0",
      "model_name": "ButtonStyleModel",
      "state": {}
     },
     "5d7a958c50e648eb89e831310f889020": {
      "model_module": "@jupyter-widgets/controls",
      "model_module_version": "1.2.0",
      "model_name": "TextModel",
      "state": {
       "description": "Path to save to:",
       "layout": "IPY_MODEL_1f0ee5c34001498fbcde7e7ca6c8f9e5",
       "placeholder": "Type the complete path to save to",
       "style": "IPY_MODEL_6af47c5cf079478dab6b79b1a0a6afa1",
       "value": "/Users/skoebric/Downloads/XYZ.png"
      }
     },
     "5d8481f9b3834ec3afe531a153110000": {
      "model_module": "@jupyter-widgets/base",
      "model_module_version": "1.0.0",
      "model_name": "LayoutModel",
      "state": {
       "height": "80px",
       "width": "70%"
      }
     },
     "5db54fa15a92462eaef5fb688a8e939b": {
      "model_module": "@jupyter-widgets/controls",
      "model_module_version": "1.2.0",
      "model_name": "ButtonStyleModel",
      "state": {}
     },
     "5dc99c4918fa40c5bbd1ee3d60fc3644": {
      "model_module": "@jupyter-widgets/base",
      "model_module_version": "1.0.0",
      "model_name": "LayoutModel",
      "state": {}
     },
     "5fcb70cac1cf48d3a57d9f2586e10033": {
      "model_module": "@jupyter-widgets/base",
      "model_module_version": "1.0.0",
      "model_name": "LayoutModel",
      "state": {
       "height": "80px",
       "width": "70%"
      }
     },
     "607a6e59d9804276aa154647bd4e2501": {
      "model_module": "@jupyter-widgets/base",
      "model_module_version": "1.0.0",
      "model_name": "LayoutModel",
      "state": {}
     },
     "6224455a541843b1b4fd0ad4e24a5e86": {
      "model_module": "@jupyter-widgets/controls",
      "model_module_version": "1.2.0",
      "model_name": "IntSliderModel",
      "state": {
       "continuous_update": false,
       "description": "DPI (resolution):",
       "layout": "IPY_MODEL_59a4ff60ebaa4d40af2dd5a5325f89c1",
       "max": 500,
       "min": 100,
       "style": "IPY_MODEL_a863b76fab18496c98933ccd4bac1142",
       "value": 300
      }
     },
     "63188a9729fe43bfbf3d484000133813": {
      "model_module": "@jupyter-widgets/controls",
      "model_module_version": "1.2.0",
      "model_name": "ButtonStyleModel",
      "state": {}
     },
     "636f64dbb9194f27a7fcae8b377fedce": {
      "model_module": "@jupyter-widgets/controls",
      "model_module_version": "1.2.0",
      "model_name": "TextModel",
      "state": {
       "description": "Path to save to:",
       "layout": "IPY_MODEL_f1717553bcf44eeea4ad9964d002a26a",
       "placeholder": "Type the complete path to save to",
       "style": "IPY_MODEL_36eae348f7224cb1b05bee38a1c2be8c",
       "value": "/Users/skoebric/Downloads/XYZ.png"
      }
     },
     "64dea73eab154db69b1fb677d91c449f": {
      "model_module": "@jupyter-widgets/controls",
      "model_module_version": "1.2.0",
      "model_name": "FloatSliderModel",
      "state": {
       "continuous_update": false,
       "description": "Bubble Opacity:",
       "layout": "IPY_MODEL_46834292510b46f3a806a189b6851cfd",
       "max": 1,
       "readout_format": ".1f",
       "step": 0.1,
       "style": "IPY_MODEL_a9c8648bf0244eb8968597be79d0b4d7",
       "value": 0.5
      }
     },
     "65ef3fe9c86d4f409473ed7b0b488939": {
      "model_module": "@jupyter-widgets/base",
      "model_module_version": "1.0.0",
      "model_name": "LayoutModel",
      "state": {}
     },
     "66b7077707ed4605ba53941fe63ef0d6": {
      "model_module": "@jupyter-widgets/controls",
      "model_module_version": "1.2.0",
      "model_name": "SliderStyleModel",
      "state": {
       "description_width": "initial"
      }
     },
     "671feb368ed64d689200326fc1bca844": {
      "model_module": "@jupyter-widgets/controls",
      "model_module_version": "1.2.0",
      "model_name": "TextModel",
      "state": {
       "description": "Island Size Thresh:",
       "layout": "IPY_MODEL_5dc99c4918fa40c5bbd1ee3d60fc3644",
       "placeholder": "Type a island thresh",
       "style": "IPY_MODEL_d5db70abe66a463cbcbc4c14ffeb3fbe",
       "value": "200"
      }
     },
     "69a2869d50cc4cb2a41eafc70b4f41d2": {
      "model_module": "@jupyter-widgets/controls",
      "model_module_version": "1.2.0",
      "model_name": "TextModel",
      "state": {
       "description": "Country Name:",
       "layout": "IPY_MODEL_ee930139d1f047a8a177b19da9b7eaae",
       "placeholder": "Type a country name",
       "style": "IPY_MODEL_23326e45c0584ff49f26ca3405dc269c",
       "value": "India"
      }
     },
     "6a24a82825eb4236aa0bb3cd20d4809e": {
      "model_module": "@jupyter-widgets/controls",
      "model_module_version": "1.2.0",
      "model_name": "ButtonModel",
      "state": {
       "description": "Update Plot",
       "icon": "check",
       "layout": "IPY_MODEL_2a3164795ea544ecb3999fe612ee5414",
       "style": "IPY_MODEL_eab0ba454c37404891d7818f67598e53",
       "tooltip": "Update Plot"
      }
     },
     "6af47c5cf079478dab6b79b1a0a6afa1": {
      "model_module": "@jupyter-widgets/controls",
      "model_module_version": "1.2.0",
      "model_name": "DescriptionStyleModel",
      "state": {
       "description_width": "initial"
      }
     },
     "6b9437aecae346fd88c73379052f7c40": {
      "model_module": "@jupyter-widgets/controls",
      "model_module_version": "1.2.0",
      "model_name": "ButtonStyleModel",
      "state": {}
     },
     "6e3350ca5e2d45e7b9d802a4b277076e": {
      "model_module": "@jupyter-widgets/controls",
      "model_module_version": "1.2.0",
      "model_name": "IntSliderModel",
      "state": {
       "continuous_update": false,
       "description": "DPI (resolution):",
       "layout": "IPY_MODEL_5907fb5ea9804f719263c7fd2887a7d4",
       "max": 500,
       "min": 100,
       "style": "IPY_MODEL_883cf5e88f4c44329bdce1e336a39253",
       "value": 300
      }
     },
     "6e5bca7f6dbb46a1a4dd72e0e5c4adb7": {
      "model_module": "@jupyter-widgets/controls",
      "model_module_version": "1.2.0",
      "model_name": "DescriptionStyleModel",
      "state": {
       "description_width": "initial"
      }
     },
     "71dc84637a1a4a5fa09721663c609035": {
      "model_module": "@jupyter-widgets/controls",
      "model_module_version": "1.2.0",
      "model_name": "IntSliderModel",
      "state": {
       "continuous_update": false,
       "description": "Number of Legend Columns:",
       "layout": "IPY_MODEL_8a792adcdcd24b42baa0d3518b64bb69",
       "max": 3,
       "min": 1,
       "style": "IPY_MODEL_5221a1a38da04a329dd1d360ddc1ec4d",
       "value": 1
      }
     },
     "72e371d069bb4da9a2dbc7143650aec3": {
      "model_module": "@jupyter-widgets/controls",
      "model_module_version": "1.2.0",
      "model_name": "ButtonModel",
      "state": {
       "description": "Update Plot",
       "icon": "check",
       "layout": "IPY_MODEL_d95b60d2d0bb496fb9de8de820725ea7",
       "style": "IPY_MODEL_ade1275f884b4e1da9e7f726b20d9fbe",
       "tooltip": "Update Plot"
      }
     },
     "73c61e62236546379381715c89153640": {
      "model_module": "@jupyter-widgets/base",
      "model_module_version": "1.0.0",
      "model_name": "LayoutModel",
      "state": {}
     },
     "74ac13abc0a746b88d82ff69f483e592": {
      "model_module": "@jupyter-widgets/controls",
      "model_module_version": "1.2.0",
      "model_name": "ToggleButtonsModel",
      "state": {
       "_options_labels": [
        "Simple",
        "Mixed",
        "Complex"
       ],
       "button_style": "",
       "description": "Simplification Level:",
       "icons": [],
       "index": 1,
       "layout": "IPY_MODEL_358b85675660437d91780d8aa0097a00",
       "style": "IPY_MODEL_c44f3f66ec554097bfc60ee48f027378",
       "tooltips": [
        "Renewables, Fossil, and Nuclear",
        "Solar, Wind, Hydro, Geothermal,Biomass, Wave and Tidal,\n Storage, Fossil, Nuclear",
        "Solar, Wind, Hydro, Geothermal,Biomass, Wave and Tidal,\n Storage, Fossil, Nuclear, Coal, Gas, Oil, Waste, Cogeneration"
       ]
      }
     },
     "74ae4d6a8e554dd495161472cefba67f": {
      "model_module": "@jupyter-widgets/controls",
      "model_module_version": "1.2.0",
      "model_name": "IntSliderModel",
      "state": {
       "continuous_update": false,
       "description": "Number of Legend Columns:",
       "layout": "IPY_MODEL_e939a14180474b2782bf7f2024bc33aa",
       "max": 3,
       "min": 1,
       "style": "IPY_MODEL_cebc6e0301c447b5a6980e762b8105cb",
       "value": 1
      }
     },
     "755d0b3f7812438aa5c260b54cf52caa": {
      "model_module": "@jupyter-widgets/controls",
      "model_module_version": "1.2.0",
      "model_name": "DropdownModel",
      "state": {
       "_options_labels": [
        "capacity",
        "alphabetical"
       ],
       "description": "Sort Legend By:",
       "index": 0,
       "layout": "IPY_MODEL_607a6e59d9804276aa154647bd4e2501",
       "style": "IPY_MODEL_b6e9fac3fc5c4d488529e69839187160"
      }
     },
     "75d38b2429324837a69e0a1ce0e2e67e": {
      "model_module": "@jupyter-widgets/controls",
      "model_module_version": "1.2.0",
      "model_name": "DescriptionStyleModel",
      "state": {
       "description_width": "initial"
      }
     },
     "7618737d939c4e36b0b4f5b7bb048297": {
      "model_module": "@jupyter-widgets/controls",
      "model_module_version": "1.2.0",
      "model_name": "SliderStyleModel",
      "state": {
       "description_width": "initial"
      }
     },
     "78e38ab79c874a74ab8522fd282f67fc": {
      "model_module": "@jupyter-widgets/base",
      "model_module_version": "1.0.0",
      "model_name": "LayoutModel",
      "state": {}
     },
     "7b690176320b4de4b69756517fcedee1": {
      "model_module": "@jupyter-widgets/controls",
      "model_module_version": "1.2.0",
      "model_name": "ButtonStyleModel",
      "state": {}
     },
     "7b7d7fa6e7a34a5daa8b2d4705aa3538": {
      "model_module": "@jupyter-widgets/controls",
      "model_module_version": "1.2.0",
      "model_name": "DescriptionStyleModel",
      "state": {
       "description_width": "initial"
      }
     },
     "7d20ae9a5a024904b73d29284e391e86": {
      "model_module": "@jupyter-widgets/controls",
      "model_module_version": "1.2.0",
      "model_name": "FloatSliderModel",
      "state": {
       "continuous_update": false,
       "description": "Zoom Level:",
       "layout": "IPY_MODEL_0beff752fed84020bc817f17c2ecaa1d",
       "max": 3,
       "min": 0.5,
       "readout_format": ".1f",
       "step": 0.1,
       "style": "IPY_MODEL_a2aeac8fd2a44505a83688aa0828e4ef",
       "value": 1.5
      }
     },
     "7d8d5133f57346deb21974a0a242f2ee": {
      "model_module": "@jupyter-widgets/base",
      "model_module_version": "1.0.0",
      "model_name": "LayoutModel",
      "state": {}
     },
     "7da1bcbd095e4333bd52e2821c255a5a": {
      "model_module": "@jupyter-widgets/base",
      "model_module_version": "1.0.0",
      "model_name": "LayoutModel",
      "state": {}
     },
     "7ddc92e61fbc4f82990fbe5d0bb632c6": {
      "model_module": "@jupyter-widgets/base",
      "model_module_version": "1.0.0",
      "model_name": "LayoutModel",
      "state": {}
     },
     "7e549bbdcc914a5dbb2f4f73a7501483": {
      "model_module": "@jupyter-widgets/controls",
      "model_module_version": "1.2.0",
      "model_name": "ButtonModel",
      "state": {
       "description": "Update Plot",
       "icon": "check",
       "layout": "IPY_MODEL_05cf403f1c984ed785a57914e07b3ed4",
       "style": "IPY_MODEL_5d5c70c261a14357b167e42fc1d21d6f",
       "tooltip": "Update Plot"
      }
     },
     "7eebd21cecfd4f438cda8b39232357ff": {
      "model_module": "@jupyter-widgets/base",
      "model_module_version": "1.0.0",
      "model_name": "LayoutModel",
      "state": {}
     },
     "7f9bf6dbe7e14010b2690230fa643a59": {
      "model_module": "@jupyter-widgets/base",
      "model_module_version": "1.0.0",
      "model_name": "LayoutModel",
      "state": {
       "height": "80px",
       "width": "70%"
      }
     },
     "7fd399169c1b4b78953e4883039d919b": {
      "model_module": "@jupyter-widgets/controls",
      "model_module_version": "1.2.0",
      "model_name": "ButtonModel",
      "state": {
       "description": "Save Plot",
       "icon": "check",
       "layout": "IPY_MODEL_5fcb70cac1cf48d3a57d9f2586e10033",
       "style": "IPY_MODEL_2d8014c48b5a4740b47b895f621dc9a1",
       "tooltip": "Save Plot"
      }
     },
     "80584b831d434dbdbc7e902b8b24dae2": {
      "model_module": "@jupyter-widgets/controls",
      "model_module_version": "1.2.0",
      "model_name": "TextModel",
      "state": {
       "description": "Country Name:",
       "layout": "IPY_MODEL_c9d409efbcc64adfb585a74f16d55f1a",
       "placeholder": "Type a country name",
       "style": "IPY_MODEL_f0fce0215ce14a779d1d1b189dcd5b9b",
       "value": "India"
      }
     },
     "80a60a4f0d544959bb6b9dbda2230dc4": {
      "model_module": "@jupyter-widgets/base",
      "model_module_version": "1.0.0",
      "model_name": "LayoutModel",
      "state": {}
     },
     "846435c573dd4e8eabd4a80c555fb8fe": {
      "model_module": "@jupyter-widgets/controls",
      "model_module_version": "1.2.0",
      "model_name": "FloatSliderModel",
      "state": {
       "continuous_update": false,
       "description": "Zoom Level:",
       "layout": "IPY_MODEL_a9e64cc6a4e84f83b4a59dcb79cba70e",
       "max": 3,
       "min": 0.5,
       "readout_format": ".1f",
       "step": 0.1,
       "style": "IPY_MODEL_f5e200ea06ab4c90b79f56a68abc7ab3",
       "value": 1.5
      }
     },
     "848d71a376ff4d83a09b5f7f5c18dee7": {
      "model_module": "@jupyter-widgets/controls",
      "model_module_version": "1.2.0",
      "model_name": "FloatSliderModel",
      "state": {
       "continuous_update": false,
       "description": "Bubble Opacity:",
       "layout": "IPY_MODEL_8638caa2ac804152b752288b6fe7990e",
       "max": 1,
       "readout_format": ".1f",
       "step": 0.1,
       "style": "IPY_MODEL_12b8b3adb0454383bb82c961e846082a",
       "value": 0.5
      }
     },
     "86180b5f6c09448e9405b0dd50cb83be": {
      "model_module": "@jupyter-widgets/base",
      "model_module_version": "1.0.0",
      "model_name": "LayoutModel",
      "state": {}
     },
     "8638caa2ac804152b752288b6fe7990e": {
      "model_module": "@jupyter-widgets/base",
      "model_module_version": "1.0.0",
      "model_name": "LayoutModel",
      "state": {}
     },
     "8836b2a3d8a34e60946bc10cd65210f2": {
      "model_module": "@jupyter-widgets/controls",
      "model_module_version": "1.2.0",
      "model_name": "ButtonModel",
      "state": {
       "description": "Save Plot",
       "icon": "check",
       "layout": "IPY_MODEL_a44dd498dc6747bd86857fb7d5f9df5b",
       "style": "IPY_MODEL_10d2814d3e2a4514be2f21a0f26f9f9a",
       "tooltip": "Save Plot"
      }
     },
     "883cf5e88f4c44329bdce1e336a39253": {
      "model_module": "@jupyter-widgets/controls",
      "model_module_version": "1.2.0",
      "model_name": "SliderStyleModel",
      "state": {
       "description_width": "initial"
      }
     },
     "893588eccb564a26b2026e0d63bb40d0": {
      "model_module": "@jupyter-widgets/base",
      "model_module_version": "1.0.0",
      "model_name": "LayoutModel",
      "state": {}
     },
     "89ae9a7c40b34c319da0d0a71b1cf288": {
      "model_module": "@jupyter-widgets/controls",
      "model_module_version": "1.2.0",
      "model_name": "ButtonModel",
      "state": {
       "description": "Update Plot",
       "icon": "check",
       "layout": "IPY_MODEL_5d8481f9b3834ec3afe531a153110000",
       "style": "IPY_MODEL_7b690176320b4de4b69756517fcedee1",
       "tooltip": "Update Plot"
      }
     },
     "8a792adcdcd24b42baa0d3518b64bb69": {
      "model_module": "@jupyter-widgets/base",
      "model_module_version": "1.0.0",
      "model_name": "LayoutModel",
      "state": {}
     },
     "8e369e9e95b0412a956edc2eec5ca3ee": {
      "model_module": "@jupyter-widgets/base",
      "model_module_version": "1.0.0",
      "model_name": "LayoutModel",
      "state": {}
     },
     "8e46a15b7e9248189c4bb5ecc5556f95": {
      "model_module": "@jupyter-widgets/controls",
      "model_module_version": "1.2.0",
      "model_name": "SliderStyleModel",
      "state": {
       "description_width": "initial"
      }
     },
     "94041037c4984306a39e2e3c519602e6": {
      "model_module": "@jupyter-widgets/base",
      "model_module_version": "1.0.0",
      "model_name": "LayoutModel",
      "state": {}
     },
     "94a880a70bfd4aacb4ba03bf1d59ae92": {
      "model_module": "@jupyter-widgets/controls",
      "model_module_version": "1.2.0",
      "model_name": "ButtonStyleModel",
      "state": {}
     },
     "969b72f9f7d64ad4b854e9a4fe99223a": {
      "model_module": "@jupyter-widgets/controls",
      "model_module_version": "1.2.0",
      "model_name": "DropdownModel",
      "state": {
       "_options_labels": [
        "capacity",
        "alphabetical"
       ],
       "description": "Sort Legend By:",
       "index": 0,
       "layout": "IPY_MODEL_bf2f14644d2d4417ba9ed3b44c01d22f",
       "style": "IPY_MODEL_59420138f5c443688f9971e1e65bcff6"
      }
     },
     "97389ded853a41938f1ce898908aee11": {
      "model_module": "@jupyter-widgets/controls",
      "model_module_version": "1.2.0",
      "model_name": "IntSliderModel",
      "state": {
       "continuous_update": false,
       "description": "DPI (resolution):",
       "layout": "IPY_MODEL_7da1bcbd095e4333bd52e2821c255a5a",
       "max": 500,
       "min": 100,
       "style": "IPY_MODEL_8e46a15b7e9248189c4bb5ecc5556f95",
       "value": 300
      }
     },
     "98b3e8a75cb244b1a50b5bff1eb0aff1": {
      "model_module": "@jupyter-widgets/base",
      "model_module_version": "1.0.0",
      "model_name": "LayoutModel",
      "state": {}
     },
     "98c2a89be7a043c4b91ced5cf7d22f51": {
      "model_module": "@jupyter-widgets/base",
      "model_module_version": "1.0.0",
      "model_name": "LayoutModel",
      "state": {
       "height": "80px",
       "width": "70%"
      }
     },
     "99a64a9c93d84a17a5c1384644a1ecc3": {
      "model_module": "@jupyter-widgets/controls",
      "model_module_version": "1.2.0",
      "model_name": "ButtonModel",
      "state": {
       "description": "Update Plot",
       "icon": "check",
       "layout": "IPY_MODEL_b9c568d290684f7aa4671947d77f8e21",
       "style": "IPY_MODEL_feb06c0c3e894536819e43823020e7db",
       "tooltip": "Update Plot"
      }
     },
     "9a93d7bdd7c94b129d96672b4b55ee04": {
      "model_module": "@jupyter-widgets/controls",
      "model_module_version": "1.2.0",
      "model_name": "ButtonStyleModel",
      "state": {}
     },
     "9ab1fe573e8445949f69aa4030771271": {
      "model_module": "@jupyter-widgets/controls",
      "model_module_version": "1.2.0",
      "model_name": "DescriptionStyleModel",
      "state": {
       "description_width": "initial"
      }
     },
     "9afbc86f13914158a03d293a830ee70d": {
      "model_module": "@jupyter-widgets/controls",
      "model_module_version": "1.2.0",
      "model_name": "SliderStyleModel",
      "state": {
       "description_width": "initial"
      }
     },
     "9b904e2e6e9342e2852f6de2aa4f9ebb": {
      "model_module": "@jupyter-widgets/controls",
      "model_module_version": "1.2.0",
      "model_name": "FloatSliderModel",
      "state": {
       "continuous_update": false,
       "description": "Bubble Opacity:",
       "layout": "IPY_MODEL_02b8a3844d794aed9133f3180581b508",
       "max": 1,
       "readout_format": ".1f",
       "step": 0.1,
       "style": "IPY_MODEL_9c7c305d475e478ebea7ac75a3f593ba",
       "value": 0.5
      }
     },
     "9c60bee8798a4e7f8c90d24960124e3c": {
      "model_module": "@jupyter-widgets/base",
      "model_module_version": "1.0.0",
      "model_name": "LayoutModel",
      "state": {}
     },
     "9c7c305d475e478ebea7ac75a3f593ba": {
      "model_module": "@jupyter-widgets/controls",
      "model_module_version": "1.2.0",
      "model_name": "SliderStyleModel",
      "state": {
       "description_width": "initial"
      }
     },
     "9c802342e3ef40c588c6d3260b452777": {
      "model_module": "@jupyter-widgets/controls",
      "model_module_version": "1.2.0",
      "model_name": "ToggleButtonsModel",
      "state": {
       "_options_labels": [
        "Simple",
        "Mixed",
        "Complex"
       ],
       "button_style": "",
       "description": "Simplification Level:",
       "icons": [],
       "index": 1,
       "layout": "IPY_MODEL_9c60bee8798a4e7f8c90d24960124e3c",
       "style": "IPY_MODEL_e783fc82ca5b4b76b58945a2eb559b84",
       "tooltips": [
        "Renewables, Fossil, and Nuclear",
        "Solar, Wind, Hydro, Geothermal,Biomass, Wave and Tidal,\n Storage, Fossil, Nuclear",
        "Solar, Wind, Hydro, Geothermal,Biomass, Wave and Tidal,\n Storage, Fossil, Nuclear, Coal, Gas, Oil, Waste, Cogeneration"
       ]
      }
     },
     "9da689946cf74d4bba483f5465628bd3": {
      "model_module": "@jupyter-widgets/controls",
      "model_module_version": "1.2.0",
      "model_name": "DescriptionStyleModel",
      "state": {
       "description_width": "initial"
      }
     },
     "a0167f6a4d574f0ab63d52658e485f1d": {
      "model_module": "@jupyter-widgets/controls",
      "model_module_version": "1.2.0",
      "model_name": "DescriptionStyleModel",
      "state": {
       "description_width": "initial"
      }
     },
     "a1eb4647c3c04621a1f88dd90de401be": {
      "model_module": "@jupyter-widgets/controls",
      "model_module_version": "1.2.0",
      "model_name": "DescriptionStyleModel",
      "state": {
       "description_width": "initial"
      }
     },
     "a22c4e081b5f414d878555709e742130": {
      "model_module": "@jupyter-widgets/base",
      "model_module_version": "1.0.0",
      "model_name": "LayoutModel",
      "state": {
       "height": "80px",
       "width": "70%"
      }
     },
     "a2aeac8fd2a44505a83688aa0828e4ef": {
      "model_module": "@jupyter-widgets/controls",
      "model_module_version": "1.2.0",
      "model_name": "SliderStyleModel",
      "state": {
       "description_width": "initial"
      }
     },
     "a43deb5f4ea34220bc499ac5398b8bea": {
      "model_module": "@jupyter-widgets/controls",
      "model_module_version": "1.2.0",
      "model_name": "SliderStyleModel",
      "state": {
       "description_width": "initial"
      }
     },
     "a44dd498dc6747bd86857fb7d5f9df5b": {
      "model_module": "@jupyter-widgets/base",
      "model_module_version": "1.0.0",
      "model_name": "LayoutModel",
      "state": {
       "height": "80px",
       "width": "70%"
      }
     },
     "a4ccc02fce1a4f9f9d81d431a50a657c": {
      "model_module": "@jupyter-widgets/base",
      "model_module_version": "1.0.0",
      "model_name": "LayoutModel",
      "state": {
       "height": "80px",
       "width": "70%"
      }
     },
     "a4e48d1735f14553afb9748d3959d7c5": {
      "model_module": "@jupyter-widgets/controls",
      "model_module_version": "1.2.0",
      "model_name": "DescriptionStyleModel",
      "state": {
       "description_width": "initial"
      }
     },
     "a5b2b01196fc4b0a9dcf4b8f0cd41b48": {
      "model_module": "@jupyter-widgets/controls",
      "model_module_version": "1.2.0",
      "model_name": "DescriptionStyleModel",
      "state": {
       "description_width": "initial"
      }
     },
     "a605d0d3081642aeb98a5b8209c792d3": {
      "model_module": "@jupyter-widgets/controls",
      "model_module_version": "1.2.0",
      "model_name": "DescriptionStyleModel",
      "state": {
       "description_width": "initial"
      }
     },
     "a723d99706924ff7a0ca2a6ef05b9924": {
      "model_module": "@jupyter-widgets/controls",
      "model_module_version": "1.2.0",
      "model_name": "DescriptionStyleModel",
      "state": {
       "description_width": "initial"
      }
     },
     "a73447805f734cf69b11ffd71d5f0eb7": {
      "model_module": "@jupyter-widgets/base",
      "model_module_version": "1.0.0",
      "model_name": "LayoutModel",
      "state": {}
     },
     "a750b2ac585544419b8e637c8e885f82": {
      "model_module": "@jupyter-widgets/controls",
      "model_module_version": "1.2.0",
      "model_name": "DescriptionStyleModel",
      "state": {
       "description_width": "initial"
      }
     },
     "a863b76fab18496c98933ccd4bac1142": {
      "model_module": "@jupyter-widgets/controls",
      "model_module_version": "1.2.0",
      "model_name": "SliderStyleModel",
      "state": {
       "description_width": "initial"
      }
     },
     "a8711251c9d046a1ab72f2245c881504": {
      "model_module": "@jupyter-widgets/controls",
      "model_module_version": "1.2.0",
      "model_name": "TextModel",
      "state": {
       "description": "Show Populated Places:",
       "layout": "IPY_MODEL_da6cb41089c14cb089304d41439efd82",
       "placeholder": "Type something",
       "style": "IPY_MODEL_44db9351f5b24a118a8d9b80d4cd7037",
       "value": "False"
      }
     },
     "a8af5a4db811411db959cbfd18d59ad6": {
      "model_module": "@jupyter-widgets/controls",
      "model_module_version": "1.2.0",
      "model_name": "SliderStyleModel",
      "state": {
       "description_width": "initial"
      }
     },
     "a930678d8e454f079abfebc16a36c414": {
      "model_module": "@jupyter-widgets/controls",
      "model_module_version": "1.2.0",
      "model_name": "FloatSliderModel",
      "state": {
       "continuous_update": false,
       "description": "Zoom Level:",
       "layout": "IPY_MODEL_ef9a73385d5e44f98d5b834775056728",
       "max": 3,
       "min": 0.5,
       "readout_format": ".1f",
       "step": 0.1,
       "style": "IPY_MODEL_fee5a3a78cf5455abb69bd438fb5452d",
       "value": 1.5
      }
     },
     "a93b116b59be4920bb2e511b49aa7f77": {
      "model_module": "@jupyter-widgets/controls",
      "model_module_version": "1.2.0",
      "model_name": "DescriptionStyleModel",
      "state": {
       "description_width": "initial"
      }
     },
     "a9c8648bf0244eb8968597be79d0b4d7": {
      "model_module": "@jupyter-widgets/controls",
      "model_module_version": "1.2.0",
      "model_name": "SliderStyleModel",
      "state": {
       "description_width": "initial"
      }
     },
     "a9e64cc6a4e84f83b4a59dcb79cba70e": {
      "model_module": "@jupyter-widgets/base",
      "model_module_version": "1.0.0",
      "model_name": "LayoutModel",
      "state": {}
     },
     "ab6b047ec91946468db30ab6bd90b8d9": {
      "model_module": "@jupyter-widgets/controls",
      "model_module_version": "1.2.0",
      "model_name": "FloatSliderModel",
      "state": {
       "continuous_update": false,
       "description": "Bubble Opacity:",
       "layout": "IPY_MODEL_e6c3ac873f0846c19ca55edff40cdcf0",
       "max": 1,
       "readout_format": ".1f",
       "step": 0.1,
       "style": "IPY_MODEL_7618737d939c4e36b0b4f5b7bb048297",
       "value": 0.5
      }
     },
     "add5aca5680448eaaf7390da7e82d6ad": {
      "model_module": "@jupyter-widgets/controls",
      "model_module_version": "1.2.0",
      "model_name": "IntSliderModel",
      "state": {
       "continuous_update": false,
       "description": "Number of Legend Columns:",
       "layout": "IPY_MODEL_de2ffcf7a6554d4bb99b5b968ea338f0",
       "max": 3,
       "min": 1,
       "style": "IPY_MODEL_1a4944b730414972b8e78ccc5f174728",
       "value": 1
      }
     },
     "ade1275f884b4e1da9e7f726b20d9fbe": {
      "model_module": "@jupyter-widgets/controls",
      "model_module_version": "1.2.0",
      "model_name": "ButtonStyleModel",
      "state": {}
     },
     "ae3b3f6fbb1a4b26b0ffe7d4b9f72de8": {
      "model_module": "@jupyter-widgets/controls",
      "model_module_version": "1.2.0",
      "model_name": "DescriptionStyleModel",
      "state": {
       "description_width": "initial"
      }
     },
     "af3518d1dce044eeba6b79026046f753": {
      "model_module": "@jupyter-widgets/base",
      "model_module_version": "1.0.0",
      "model_name": "LayoutModel",
      "state": {}
     },
     "af380b0320c64e7ea2166fb8973ac6e4": {
      "model_module": "@jupyter-widgets/controls",
      "model_module_version": "1.2.0",
      "model_name": "ToggleButtonsModel",
      "state": {
       "_options_labels": [
        "Simple",
        "Mixed",
        "Complex"
       ],
       "button_style": "",
       "description": "Simplification Level:",
       "icons": [],
       "index": 1,
       "layout": "IPY_MODEL_af3518d1dce044eeba6b79026046f753",
       "style": "IPY_MODEL_4ab81f5bc0784995b4845a8d39b21895",
       "tooltips": [
        "Renewables, Fossil, and Nuclear",
        "Solar, Wind, Hydro, Geothermal,Biomass, Wave and Tidal,\n Storage, Fossil, Nuclear",
        "Solar, Wind, Hydro, Geothermal,Biomass, Wave and Tidal,\n Storage, Fossil, Nuclear, Coal, Gas, Oil, Waste, Cogeneration"
       ]
      }
     },
     "b02c35743def4136a7294be2dd34fb32": {
      "model_module": "@jupyter-widgets/base",
      "model_module_version": "1.0.0",
      "model_name": "LayoutModel",
      "state": {
       "height": "80px",
       "width": "70%"
      }
     },
     "b08ced56b4954f1cb7bbabd23749f4f0": {
      "model_module": "@jupyter-widgets/controls",
      "model_module_version": "1.2.0",
      "model_name": "SliderStyleModel",
      "state": {
       "description_width": "initial"
      }
     },
     "b1433046e48245baa42f8d7468e62276": {
      "model_module": "@jupyter-widgets/controls",
      "model_module_version": "1.2.0",
      "model_name": "TextModel",
      "state": {
       "description": "Country Name:",
       "layout": "IPY_MODEL_beb52625b9d14e66987e5e618a9500d8",
       "placeholder": "Type a country name",
       "style": "IPY_MODEL_75d38b2429324837a69e0a1ce0e2e67e",
       "value": "India"
      }
     },
     "b1f880ae0bfc46d0a77a3bdc3778a66f": {
      "model_module": "@jupyter-widgets/controls",
      "model_module_version": "1.2.0",
      "model_name": "TextModel",
      "state": {
       "description": "Path to save to:",
       "layout": "IPY_MODEL_ffd8beec813f443c97b3b531e32b7276",
       "placeholder": "Type the complete path to save to",
       "style": "IPY_MODEL_bb732c95c6634e479dfba3e651852210",
       "value": "/Users/skoebric/Downloads/XYZ.png"
      }
     },
     "b23296a9a88b43d4a4362728a2e5e7d4": {
      "model_module": "@jupyter-widgets/base",
      "model_module_version": "1.0.0",
      "model_name": "LayoutModel",
      "state": {}
     },
     "b6834b9c61d04288a1fbe38a0249b998": {
      "model_module": "@jupyter-widgets/controls",
      "model_module_version": "1.2.0",
      "model_name": "TextModel",
      "state": {
       "description": "Country Precursor:",
       "layout": "IPY_MODEL_bc82f7b6521445e68c98ca812655c854",
       "placeholder": "Precursor to Country Name",
       "style": "IPY_MODEL_e6074492c7cc4040ad3cb358ae512305"
      }
     },
     "b6e9fac3fc5c4d488529e69839187160": {
      "model_module": "@jupyter-widgets/controls",
      "model_module_version": "1.2.0",
      "model_name": "DescriptionStyleModel",
      "state": {
       "description_width": "initial"
      }
     },
     "b707193cffa84ab5a91b3283acbd194d": {
      "model_module": "@jupyter-widgets/base",
      "model_module_version": "1.0.0",
      "model_name": "LayoutModel",
      "state": {}
     },
     "b75f567f81954bcfa937171f697a5784": {
      "model_module": "@jupyter-widgets/controls",
      "model_module_version": "1.2.0",
      "model_name": "ButtonModel",
      "state": {
       "description": "Update Plot",
       "icon": "check",
       "layout": "IPY_MODEL_98c2a89be7a043c4b91ced5cf7d22f51",
       "style": "IPY_MODEL_6b9437aecae346fd88c73379052f7c40",
       "tooltip": "Update Plot"
      }
     },
     "b93174ef329240a3844b300d0b2f8103": {
      "model_module": "@jupyter-widgets/controls",
      "model_module_version": "1.2.0",
      "model_name": "TextModel",
      "state": {
       "description": "Show Populated Places:",
       "layout": "IPY_MODEL_4f257e99d3e949af99805896f656097d",
       "placeholder": "Type something",
       "style": "IPY_MODEL_6e5bca7f6dbb46a1a4dd72e0e5c4adb7",
       "value": "False"
      }
     },
     "b9c568d290684f7aa4671947d77f8e21": {
      "model_module": "@jupyter-widgets/base",
      "model_module_version": "1.0.0",
      "model_name": "LayoutModel",
      "state": {
       "height": "80px",
       "width": "70%"
      }
     },
     "bb04d6ef5455490f964556cd53d1d61d": {
      "model_module": "@jupyter-widgets/controls",
      "model_module_version": "1.2.0",
      "model_name": "TextModel",
      "state": {
       "description": "Island Size Thresh:",
       "layout": "IPY_MODEL_fc0bab5a38904c1fba240e51d9566eab",
       "placeholder": "Type a island thresh",
       "style": "IPY_MODEL_5b233d34e9214b0fb7e071a0f56f354f",
       "value": "200"
      }
     },
     "bb732c95c6634e479dfba3e651852210": {
      "model_module": "@jupyter-widgets/controls",
      "model_module_version": "1.2.0",
      "model_name": "DescriptionStyleModel",
      "state": {
       "description_width": "initial"
      }
     },
     "bc82f7b6521445e68c98ca812655c854": {
      "model_module": "@jupyter-widgets/base",
      "model_module_version": "1.0.0",
      "model_name": "LayoutModel",
      "state": {}
     },
     "be41e91c77bb4843a619e3aabfaf5a9d": {
      "model_module": "@jupyter-widgets/controls",
      "model_module_version": "1.2.0",
      "model_name": "TextModel",
      "state": {
       "description": "Country Name:",
       "layout": "IPY_MODEL_78e38ab79c874a74ab8522fd282f67fc",
       "placeholder": "Type a country name",
       "style": "IPY_MODEL_a5b2b01196fc4b0a9dcf4b8f0cd41b48",
       "value": "India"
      }
     },
     "beb52625b9d14e66987e5e618a9500d8": {
      "model_module": "@jupyter-widgets/base",
      "model_module_version": "1.0.0",
      "model_name": "LayoutModel",
      "state": {}
     },
     "bf2f14644d2d4417ba9ed3b44c01d22f": {
      "model_module": "@jupyter-widgets/base",
      "model_module_version": "1.0.0",
      "model_name": "LayoutModel",
      "state": {}
     },
     "bf5a328e8a704319bafb1457c661a492": {
      "model_module": "@jupyter-widgets/controls",
      "model_module_version": "1.2.0",
      "model_name": "SliderStyleModel",
      "state": {
       "description_width": "initial"
      }
     },
     "c014af86e5ab4e8e8de3a1f4b82c887e": {
      "model_module": "@jupyter-widgets/controls",
      "model_module_version": "1.2.0",
      "model_name": "TextModel",
      "state": {
       "description": "Coordinate System:",
       "layout": "IPY_MODEL_4ec3e174451741f9b57b5e2bfa9fa7e4",
       "placeholder": "Type something",
       "style": "IPY_MODEL_cb1767cf107d458ab310d045850c5180",
       "value": "spherical"
      }
     },
     "c091215079a84417b98e38fc7b6ff03c": {
      "model_module": "@jupyter-widgets/controls",
      "model_module_version": "1.2.0",
      "model_name": "ButtonModel",
      "state": {
       "description": "Update Plot",
       "icon": "check",
       "layout": "IPY_MODEL_a4ccc02fce1a4f9f9d81d431a50a657c",
       "style": "IPY_MODEL_c0debf8a615b489f8cf8ea23cad747da",
       "tooltip": "Update Plot"
      }
     },
     "c0debf8a615b489f8cf8ea23cad747da": {
      "model_module": "@jupyter-widgets/controls",
      "model_module_version": "1.2.0",
      "model_name": "ButtonStyleModel",
      "state": {}
     },
     "c0ed58f44e1d402c80383dfffc184066": {
      "model_module": "@jupyter-widgets/base",
      "model_module_version": "1.0.0",
      "model_name": "LayoutModel",
      "state": {
       "height": "80px",
       "width": "70%"
      }
     },
     "c1761a83c028452db93416353cb004ba": {
      "model_module": "@jupyter-widgets/controls",
      "model_module_version": "1.2.0",
      "model_name": "SliderStyleModel",
      "state": {
       "description_width": "initial"
      }
     },
     "c17885a9718b4721bbbfab07543fd658": {
      "model_module": "@jupyter-widgets/controls",
      "model_module_version": "1.2.0",
      "model_name": "DescriptionStyleModel",
      "state": {
       "description_width": "initial"
      }
     },
     "c3582214d48a4b49957cf8c6cef38759": {
      "model_module": "@jupyter-widgets/base",
      "model_module_version": "1.0.0",
      "model_name": "LayoutModel",
      "state": {}
     },
     "c44f3f66ec554097bfc60ee48f027378": {
      "model_module": "@jupyter-widgets/controls",
      "model_module_version": "1.2.0",
      "model_name": "ToggleButtonsStyleModel",
      "state": {
       "button_width": "",
       "description_width": "initial"
      }
     },
     "c475c73739194fb39810694e9a0b9ab4": {
      "model_module": "@jupyter-widgets/controls",
      "model_module_version": "1.2.0",
      "model_name": "IntSliderModel",
      "state": {
       "continuous_update": false,
       "description": "DPI (resolution):",
       "layout": "IPY_MODEL_98b3e8a75cb244b1a50b5bff1eb0aff1",
       "max": 500,
       "min": 100,
       "style": "IPY_MODEL_b08ced56b4954f1cb7bbabd23749f4f0",
       "value": 300
      }
     },
     "c488274fbc0247cebba7ab09422e9738": {
      "model_module": "@jupyter-widgets/controls",
      "model_module_version": "1.2.0",
      "model_name": "DescriptionStyleModel",
      "state": {
       "description_width": "initial"
      }
     },
     "c69a7fe9e3df4e139592191dd8193870": {
      "model_module": "@jupyter-widgets/controls",
      "model_module_version": "1.2.0",
      "model_name": "DescriptionStyleModel",
      "state": {
       "description_width": "initial"
      }
     },
     "c70d18a2b4a5490681d273f2113fd1b2": {
      "model_module": "@jupyter-widgets/controls",
      "model_module_version": "1.2.0",
      "model_name": "DropdownModel",
      "state": {
       "_options_labels": [
        "capacity",
        "alphabetical"
       ],
       "description": "Sort Legend By:",
       "index": 0,
       "layout": "IPY_MODEL_c3582214d48a4b49957cf8c6cef38759",
       "style": "IPY_MODEL_2fe415dc7de54d6190176de0a7175b33"
      }
     },
     "c870c16b581947f49459fff4f5bcad37": {
      "model_module": "@jupyter-widgets/base",
      "model_module_version": "1.0.0",
      "model_name": "LayoutModel",
      "state": {}
     },
     "c9d409efbcc64adfb585a74f16d55f1a": {
      "model_module": "@jupyter-widgets/base",
      "model_module_version": "1.0.0",
      "model_name": "LayoutModel",
      "state": {}
     },
     "cb1767cf107d458ab310d045850c5180": {
      "model_module": "@jupyter-widgets/controls",
      "model_module_version": "1.2.0",
      "model_name": "DescriptionStyleModel",
      "state": {
       "description_width": "initial"
      }
     },
     "ce054e897c6d4e9c9cd4f9964a2a7958": {
      "model_module": "@jupyter-widgets/controls",
      "model_module_version": "1.2.0",
      "model_name": "TextModel",
      "state": {
       "description": "Country Precursor:",
       "layout": "IPY_MODEL_30d6471269fc40a1a4f860fdfc8b610e",
       "placeholder": "Precursor to Country Name",
       "style": "IPY_MODEL_1b1af95fda874a35830da77937472a16"
      }
     },
     "ce7dc05fbc8c40f1bc26ba28f039c6f1": {
      "model_module": "@jupyter-widgets/base",
      "model_module_version": "1.0.0",
      "model_name": "LayoutModel",
      "state": {}
     },
     "cebc6e0301c447b5a6980e762b8105cb": {
      "model_module": "@jupyter-widgets/controls",
      "model_module_version": "1.2.0",
      "model_name": "SliderStyleModel",
      "state": {
       "description_width": "initial"
      }
     },
     "d027039d36254a32a84ab027a4e0ae04": {
      "model_module": "@jupyter-widgets/base",
      "model_module_version": "1.0.0",
      "model_name": "LayoutModel",
      "state": {}
     },
     "d06ee01a6e0d4615b441d45812ffbc5c": {
      "model_module": "@jupyter-widgets/controls",
      "model_module_version": "1.2.0",
      "model_name": "IntSliderModel",
      "state": {
       "continuous_update": false,
       "description": "Number of Legend Columns:",
       "layout": "IPY_MODEL_b23296a9a88b43d4a4362728a2e5e7d4",
       "max": 3,
       "min": 1,
       "style": "IPY_MODEL_66b7077707ed4605ba53941fe63ef0d6",
       "value": 1
      }
     },
     "d0807774317c4aff80725f88f053f4ab": {
      "model_module": "@jupyter-widgets/controls",
      "model_module_version": "1.2.0",
      "model_name": "TextModel",
      "state": {
       "description": "Island Size Thresh:",
       "layout": "IPY_MODEL_a73447805f734cf69b11ffd71d5f0eb7",
       "placeholder": "Type a island thresh",
       "style": "IPY_MODEL_058d54805c20450eafbc9db231c5c754",
       "value": "200"
      }
     },
     "d125a30ae17d43409f6d391ec5d09566": {
      "model_module": "@jupyter-widgets/controls",
      "model_module_version": "1.2.0",
      "model_name": "SliderStyleModel",
      "state": {
       "description_width": "initial"
      }
     },
     "d4ad19b8a2f04f589aa20a7ccc92ac75": {
      "model_module": "@jupyter-widgets/base",
      "model_module_version": "1.0.0",
      "model_name": "LayoutModel",
      "state": {}
     },
     "d5db70abe66a463cbcbc4c14ffeb3fbe": {
      "model_module": "@jupyter-widgets/controls",
      "model_module_version": "1.2.0",
      "model_name": "DescriptionStyleModel",
      "state": {
       "description_width": "initial"
      }
     },
     "d95b60d2d0bb496fb9de8de820725ea7": {
      "model_module": "@jupyter-widgets/base",
      "model_module_version": "1.0.0",
      "model_name": "LayoutModel",
      "state": {
       "height": "80px",
       "width": "70%"
      }
     },
     "da6cb41089c14cb089304d41439efd82": {
      "model_module": "@jupyter-widgets/base",
      "model_module_version": "1.0.0",
      "model_name": "LayoutModel",
      "state": {}
     },
     "da725c0ce721436eb070073810e930d1": {
      "model_module": "@jupyter-widgets/controls",
      "model_module_version": "1.2.0",
      "model_name": "ButtonStyleModel",
      "state": {}
     },
     "daa92050d52f433eb3e34b0085216e51": {
      "model_module": "@jupyter-widgets/controls",
      "model_module_version": "1.2.0",
      "model_name": "TextModel",
      "state": {
       "description": "Show Populated Places:",
       "layout": "IPY_MODEL_e86e01961d5245b18ac7ecabee6ba5ff",
       "placeholder": "Type something",
       "style": "IPY_MODEL_339ee14ddd864efabafa4777e196b00d",
       "value": "False"
      }
     },
     "dbbfa7595efb435a920d2df2c4ed014f": {
      "model_module": "@jupyter-widgets/base",
      "model_module_version": "1.0.0",
      "model_name": "LayoutModel",
      "state": {}
     },
     "dcd971f3c86845d7abc50517182b2279": {
      "model_module": "@jupyter-widgets/controls",
      "model_module_version": "1.2.0",
      "model_name": "ButtonModel",
      "state": {
       "description": "Update Plot",
       "icon": "check",
       "layout": "IPY_MODEL_c0ed58f44e1d402c80383dfffc184066",
       "style": "IPY_MODEL_da725c0ce721436eb070073810e930d1",
       "tooltip": "Update Plot"
      }
     },
     "de2ffcf7a6554d4bb99b5b968ea338f0": {
      "model_module": "@jupyter-widgets/base",
      "model_module_version": "1.0.0",
      "model_name": "LayoutModel",
      "state": {}
     },
     "df992bf53a8c43c993d946a0cc9536be": {
      "model_module": "@jupyter-widgets/controls",
      "model_module_version": "1.2.0",
      "model_name": "TextModel",
      "state": {
       "description": "Coordinate System:",
       "layout": "IPY_MODEL_17001cca00194e0cafdee261752dbcdd",
       "placeholder": "Type something",
       "style": "IPY_MODEL_c69a7fe9e3df4e139592191dd8193870",
       "value": "spherical"
      }
     },
     "e024971a6e9a4d508ea10edeb09bc6dc": {
      "model_module": "@jupyter-widgets/controls",
      "model_module_version": "1.2.0",
      "model_name": "TextModel",
      "state": {
       "description": "Coordinate System:",
       "layout": "IPY_MODEL_b707193cffa84ab5a91b3283acbd194d",
       "placeholder": "Type something",
       "style": "IPY_MODEL_3bcdc2e9071e47f6b59fef3edfba57ad",
       "value": "spherical"
      }
     },
     "e08ea0eab730462a9bb6383a04478810": {
      "model_module": "@jupyter-widgets/controls",
      "model_module_version": "1.2.0",
      "model_name": "ButtonModel",
      "state": {
       "description": "Update Plot",
       "icon": "check",
       "layout": "IPY_MODEL_2744a9a4245e4ce392b7da3458773886",
       "style": "IPY_MODEL_45145fd840e343269f4298bcfcaff6b5",
       "tooltip": "Update Plot"
      }
     },
     "e142632e0a214f2697b5fc6a87c92d7a": {
      "model_module": "@jupyter-widgets/controls",
      "model_module_version": "1.2.0",
      "model_name": "ToggleButtonsModel",
      "state": {
       "_options_labels": [
        "Simple",
        "Mixed",
        "Complex"
       ],
       "button_style": "",
       "description": "Simplification Level:",
       "icons": [],
       "index": 1,
       "layout": "IPY_MODEL_e4e6a9a6d70540e6ab3457e791574c0c",
       "style": "IPY_MODEL_27923732d28842fb833d024bd04ffcef",
       "tooltips": [
        "Renewables, Fossil, and Nuclear",
        "Solar, Wind, Hydro, Geothermal,Biomass, Wave and Tidal,\n Storage, Fossil, Nuclear",
        "Solar, Wind, Hydro, Geothermal,Biomass, Wave and Tidal,\n Storage, Fossil, Nuclear, Coal, Gas, Oil, Waste, Cogeneration"
       ]
      }
     },
     "e4e6a9a6d70540e6ab3457e791574c0c": {
      "model_module": "@jupyter-widgets/base",
      "model_module_version": "1.0.0",
      "model_name": "LayoutModel",
      "state": {}
     },
     "e5faefe0b30d45f1af15b942dea19f88": {
      "model_module": "@jupyter-widgets/controls",
      "model_module_version": "1.2.0",
      "model_name": "IntSliderModel",
      "state": {
       "continuous_update": false,
       "description": "DPI (resolution):",
       "layout": "IPY_MODEL_ce7dc05fbc8c40f1bc26ba28f039c6f1",
       "max": 500,
       "min": 100,
       "style": "IPY_MODEL_a43deb5f4ea34220bc499ac5398b8bea",
       "value": 300
      }
     },
     "e6074492c7cc4040ad3cb358ae512305": {
      "model_module": "@jupyter-widgets/controls",
      "model_module_version": "1.2.0",
      "model_name": "DescriptionStyleModel",
      "state": {
       "description_width": "initial"
      }
     },
     "e6c3ac873f0846c19ca55edff40cdcf0": {
      "model_module": "@jupyter-widgets/base",
      "model_module_version": "1.0.0",
      "model_name": "LayoutModel",
      "state": {}
     },
     "e704d73ab28844d186beb1674b1d799f": {
      "model_module": "@jupyter-widgets/controls",
      "model_module_version": "1.2.0",
      "model_name": "FloatSliderModel",
      "state": {
       "continuous_update": false,
       "description": "Zoom Level:",
       "layout": "IPY_MODEL_1b0ea0b2b7464ed1b8cbe979839ced9b",
       "max": 3,
       "min": 0.5,
       "readout_format": ".1f",
       "step": 0.1,
       "style": "IPY_MODEL_eea700f97181487ea917fd969e471d34",
       "value": 1.5
      }
     },
     "e783fc82ca5b4b76b58945a2eb559b84": {
      "model_module": "@jupyter-widgets/controls",
      "model_module_version": "1.2.0",
      "model_name": "ToggleButtonsStyleModel",
      "state": {
       "button_width": "",
       "description_width": "initial"
      }
     },
     "e7db3021d8e2438995a7b2bca3f7ac56": {
      "model_module": "@jupyter-widgets/controls",
      "model_module_version": "1.2.0",
      "model_name": "TextModel",
      "state": {
       "description": "Path to save to:",
       "layout": "IPY_MODEL_2f6629529078457db334226140d36d61",
       "placeholder": "Type the complete path to save to",
       "style": "IPY_MODEL_a1eb4647c3c04621a1f88dd90de401be",
       "value": "/Users/skoebric/Downloads/XYZ.png"
      }
     },
     "e86e01961d5245b18ac7ecabee6ba5ff": {
      "model_module": "@jupyter-widgets/base",
      "model_module_version": "1.0.0",
      "model_name": "LayoutModel",
      "state": {}
     },
     "e9305f35e0fd483887baf0b326df7b95": {
      "model_module": "@jupyter-widgets/base",
      "model_module_version": "1.0.0",
      "model_name": "LayoutModel",
      "state": {}
     },
     "e939a14180474b2782bf7f2024bc33aa": {
      "model_module": "@jupyter-widgets/base",
      "model_module_version": "1.0.0",
      "model_name": "LayoutModel",
      "state": {}
     },
     "eaaa258b500643d5b63dd2ce87ec6295": {
      "model_module": "@jupyter-widgets/controls",
      "model_module_version": "1.2.0",
      "model_name": "TextModel",
      "state": {
       "description": "Country Precursor:",
       "layout": "IPY_MODEL_3ce25d4b89904195985c5a22c00a3658",
       "placeholder": "Precursor to Country Name",
       "style": "IPY_MODEL_10939cd7c0ba4b7f813bbd234f5886ca"
      }
     },
     "eab0ba454c37404891d7818f67598e53": {
      "model_module": "@jupyter-widgets/controls",
      "model_module_version": "1.2.0",
      "model_name": "ButtonStyleModel",
      "state": {}
     },
     "eb4a7c8efa2240e3a70085ebfc72ef16": {
      "model_module": "@jupyter-widgets/controls",
      "model_module_version": "1.2.0",
      "model_name": "TextModel",
      "state": {
       "description": "Country Precursor:",
       "layout": "IPY_MODEL_d027039d36254a32a84ab027a4e0ae04",
       "placeholder": "Precursor to Country Name",
       "style": "IPY_MODEL_a4e48d1735f14553afb9748d3959d7c5"
      }
     },
     "ebdd9bf153cc4acb9fab678bc8bd23f2": {
      "model_module": "@jupyter-widgets/controls",
      "model_module_version": "1.2.0",
      "model_name": "TextModel",
      "state": {
       "description": "Island Size Thresh:",
       "layout": "IPY_MODEL_65ef3fe9c86d4f409473ed7b0b488939",
       "placeholder": "Type a island thresh",
       "style": "IPY_MODEL_9da689946cf74d4bba483f5465628bd3",
       "value": "200"
      }
     },
     "ec321d96197542c989738ad79586ac96": {
      "model_module": "@jupyter-widgets/base",
      "model_module_version": "1.0.0",
      "model_name": "LayoutModel",
      "state": {}
     },
     "ec57aafcb73d4ffc9f7633acb55f6683": {
      "model_module": "@jupyter-widgets/controls",
      "model_module_version": "1.2.0",
      "model_name": "TextModel",
      "state": {
       "description": "Country Precursor:",
       "layout": "IPY_MODEL_3f50e791dfe84c56971a0e3510ab2462",
       "placeholder": "Precursor to Country Name",
       "style": "IPY_MODEL_c488274fbc0247cebba7ab09422e9738"
      }
     },
     "ed2ba2283910438e9213d39295c6c66d": {
      "model_module": "@jupyter-widgets/controls",
      "model_module_version": "1.2.0",
      "model_name": "DescriptionStyleModel",
      "state": {
       "description_width": "initial"
      }
     },
     "ed748724e69043e6b6b9290c21e750fc": {
      "model_module": "@jupyter-widgets/base",
      "model_module_version": "1.0.0",
      "model_name": "LayoutModel",
      "state": {}
     },
     "ee930139d1f047a8a177b19da9b7eaae": {
      "model_module": "@jupyter-widgets/base",
      "model_module_version": "1.0.0",
      "model_name": "LayoutModel",
      "state": {}
     },
     "eea700f97181487ea917fd969e471d34": {
      "model_module": "@jupyter-widgets/controls",
      "model_module_version": "1.2.0",
      "model_name": "SliderStyleModel",
      "state": {
       "description_width": "initial"
      }
     },
     "ef32c488276b4ee49436f14c7eb80224": {
      "model_module": "@jupyter-widgets/controls",
      "model_module_version": "1.2.0",
      "model_name": "DescriptionStyleModel",
      "state": {
       "description_width": "initial"
      }
     },
     "ef9a73385d5e44f98d5b834775056728": {
      "model_module": "@jupyter-widgets/base",
      "model_module_version": "1.0.0",
      "model_name": "LayoutModel",
      "state": {}
     },
     "f0fce0215ce14a779d1d1b189dcd5b9b": {
      "model_module": "@jupyter-widgets/controls",
      "model_module_version": "1.2.0",
      "model_name": "DescriptionStyleModel",
      "state": {
       "description_width": "initial"
      }
     },
     "f1717553bcf44eeea4ad9964d002a26a": {
      "model_module": "@jupyter-widgets/base",
      "model_module_version": "1.0.0",
      "model_name": "LayoutModel",
      "state": {}
     },
     "f3b74ccd814b427fb5383b5f00c6e23d": {
      "model_module": "@jupyter-widgets/controls",
      "model_module_version": "1.2.0",
      "model_name": "DescriptionStyleModel",
      "state": {
       "description_width": "initial"
      }
     },
     "f5a0a62cb8df476c8ffc4110bc5cd6cb": {
      "model_module": "@jupyter-widgets/controls",
      "model_module_version": "1.2.0",
      "model_name": "SliderStyleModel",
      "state": {
       "description_width": "initial"
      }
     },
     "f5e200ea06ab4c90b79f56a68abc7ab3": {
      "model_module": "@jupyter-widgets/controls",
      "model_module_version": "1.2.0",
      "model_name": "SliderStyleModel",
      "state": {
       "description_width": "initial"
      }
     },
     "f7883f05ac4446c1a8b08651285e5252": {
      "model_module": "@jupyter-widgets/controls",
      "model_module_version": "1.2.0",
      "model_name": "ToggleButtonsModel",
      "state": {
       "_options_labels": [
        "Simple",
        "Mixed",
        "Complex"
       ],
       "button_style": "",
       "description": "Simplification Level:",
       "icons": [],
       "index": 1,
       "layout": "IPY_MODEL_94041037c4984306a39e2e3c519602e6",
       "style": "IPY_MODEL_57f98d81985943ebb9233853dd4a23f0",
       "tooltips": [
        "Renewables, Fossil, and Nuclear",
        "Solar, Wind, Hydro, Geothermal,Biomass, Wave and Tidal,\n Storage, Fossil, Nuclear",
        "Solar, Wind, Hydro, Geothermal,Biomass, Wave and Tidal,\n Storage, Fossil, Nuclear, Coal, Gas, Oil, Waste, Cogeneration"
       ]
      }
     },
     "fc0bab5a38904c1fba240e51d9566eab": {
      "model_module": "@jupyter-widgets/base",
      "model_module_version": "1.0.0",
      "model_name": "LayoutModel",
      "state": {}
     },
     "fe13b2fd3268453896c9eb11d4c06fd5": {
      "model_module": "@jupyter-widgets/controls",
      "model_module_version": "1.2.0",
      "model_name": "IntSliderModel",
      "state": {
       "continuous_update": false,
       "description": "Number of Legend Columns:",
       "layout": "IPY_MODEL_ec321d96197542c989738ad79586ac96",
       "max": 3,
       "min": 1,
       "style": "IPY_MODEL_bf5a328e8a704319bafb1457c661a492",
       "value": 1
      }
     },
     "feb06c0c3e894536819e43823020e7db": {
      "model_module": "@jupyter-widgets/controls",
      "model_module_version": "1.2.0",
      "model_name": "ButtonStyleModel",
      "state": {}
     },
     "fee5a3a78cf5455abb69bd438fb5452d": {
      "model_module": "@jupyter-widgets/controls",
      "model_module_version": "1.2.0",
      "model_name": "SliderStyleModel",
      "state": {
       "description_width": "initial"
      }
     },
     "ffd8beec813f443c97b3b531e32b7276": {
      "model_module": "@jupyter-widgets/base",
      "model_module_version": "1.0.0",
      "model_name": "LayoutModel",
      "state": {}
     }
    },
    "version_major": 2,
    "version_minor": 0
   }
  }
 },
 "nbformat": 4,
 "nbformat_minor": 2
}
