{
 "cells": [
  {
   "cell_type": "markdown",
   "metadata": {
    "editable": false
   },
   "source": [
    "# *Country Power Plant Mapper*\n",
    "\n",
    "## This application easily produces publication ready bubble maps displaying the types and sizes of grid-connected generators in any country. \n",
    "## All without touching a line of code!\n",
    "\n",
    "### Basic Instructions:\n",
    "\n",
    "1. Initialize the application by clicking on 'Cell' in the menu bar and selecting 'Run All'.\n",
    "\n",
    "\n",
    "2. Enter the __Country Name__.\n",
    "\n",
    "\n",
    "3. Choose the desired level of __Simplification__ for resource type:\n",
    "    -  *Simple* breaks resources into 'Renewable', 'Fossil', and 'Nuclear'.\n",
    "    -  *Mixed* subdivides renewables (solar, wind, etc.) but keeps 'Fossil' together. \n",
    "    -  *Complex* labels every resource type.\n",
    "    \n",
    "\n",
    "4. Press the __Update Plot__ button. Be patient, it can take a few seconds.\n",
    "\n",
    "\n",
    "5. Drag the legend to a better location, if needed (this can be a little wonky––try clicking after moving to ).\n",
    "\n",
    "\n",
    "6. To save the image, click the power symbol in the upper right portion of the map. Then right click on the map and select 'Save Image As'. \n",
    "\n",
    "\n",
    "### Advanced Instructions:\n",
    "\n",
    "1. __Coordinate System__ sets the crs used in the map projection. The default value is *spherical* which uses EPSG:3857. *Geo* can also be entered for a standard mercator projection (ESPG:4326). A custom CRS can be used by entering the EPSG integer. For example, *5940* (a crs designed for Russia) can be entered to avoid having Russia wrap around the side of the map. Visit __[EPSG](https://epsg.io/3857)__ to find custom coordinate systems. *Default Value: spherical*\n",
    "\n",
    "\n",
    "2. __Number of Legend Columns__. *Default Value: 1*\n",
    "\n",
    "\n",
    "\n",
    "3. __Sort Legend By__ sorts the resources in the legend (not the size indicators) by either *alphabetical* or by the sum of the *capacity* of the resource for the selected country. *Default Value: capacity*\n",
    "\n",
    "\n",
    "\n",
    "4. __Zoom Level__ changes the size of the map portion of the plot. This can be useful to adjust the map for different sized screens, or to provide a bigger map for the purpose of saving. *__WARNING:__* making this value large enough to produce an image wider than the width of the console will result in erratic results! *Default Value: 1.5*\n",
    "\n",
    "\n",
    "\n",
    "5. __Island Size Thresh__ creates a minimum threshold (in km^2) for the geometry of islands to be included in the map. *largest* can also be entered to only select the largest geometry for the country. For example, plotting Canada with the default values includes a number of arctic islands that are useless for the purpose of a power plant map (sorry Baffin island). Setting __Island Size Thresh__ to either *largest* or *8000000* will only display the continental portions of Canada. *Default Value: 200 (km^2)*\n",
    "\n",
    "\n",
    "\n",
    "6. __Show Populated Places__ can be used to draw points on the map in the location of populated cities. Data is drawn from the __[Natural Earth](https://www.naturalearthdata.com/downloads/10m-cultural-vectors/10m-populated-places/)__ database of populated places which includes data for an astonishing number of locations. Additionally, arrows are drawn labeling the name of these points (*__HINT:__* these labels are draggable, although it doesn't work the best!). __Show Populated Places__ can either be *False* (i.e. off), or an integer value which sets the minimum population threshold for a city to be included on the map. *Default Value: False*\n",
    "\n",
    "\n",
    "\n",
    "7. __Bubble Opacity__ is used to change the opacity of the powerplant bubbles. Setting it lower can be useful for countries with a large number of overlapping bubbles (i.e. the United States). *Default Value: 0.5*\n",
    "\n",
    "\n",
    "\n",
    "8. __Country Precursor__ allows you to enter a word (or series of words) to appear before the country name in the title of the plot. For instance, if you entered 'Philippines' as the __Country Name__ but want the title to be 'Power Plants in The Philippines' you could enter *\"The \"* into __Country Precursor__. *Default Value: None*\n",
    "\n",
    "\n",
    "\n",
    "9. __Title On__ turns the title at the top on or off. *Default: True*\n",
    "\n",
    "\n",
    "\n",
    "10. __Source On__ turns the source at the bottom on or off. *Default: True*\n",
    "\n",
    "\n",
    "\n",
    "Please email me at sam.koebrich@NREL.gov with any bugs, comments, or feature requests!"
   ]
  },
  {
   "cell_type": "code",
   "execution_count": 1,
   "metadata": {
    "init_cell": true,
    "scrolled": true
   },
   "outputs": [
    {
     "data": {
      "text/html": [
       "<style>.container { width:85% !important; }</style>"
      ],
      "text/plain": [
       "<IPython.core.display.HTML object>"
      ]
     },
     "metadata": {},
     "output_type": "display_data"
    },
    {
     "data": {
      "application/vnd.jupyter.widget-view+json": {
       "model_id": "cca8bfc272914ed39dd55117d313ccbc",
       "version_major": 2,
       "version_minor": 0
      },
      "text/plain": [
       "Text(value='India', description='Country Name:', placeholder='Type a country name', style=DescriptionStyle(des…"
      ]
     },
     "metadata": {},
     "output_type": "display_data"
    },
    {
     "data": {
      "application/vnd.jupyter.widget-view+json": {
       "model_id": "1a3630ea810a42349f1d58ee37d8e0f1",
       "version_major": 2,
       "version_minor": 0
      },
      "text/plain": [
       "ToggleButtons(description='Simplification Level:', index=1, options=('Simple', 'Mixed', 'Complex'), style=Togg…"
      ]
     },
     "metadata": {},
     "output_type": "display_data"
    }
   ],
   "source": [
    "import parameterwidgets as pw\n",
    "pw.showbasicwidgets()"
   ]
  },
  {
   "cell_type": "code",
   "execution_count": 2,
   "metadata": {
    "init_cell": true
   },
   "outputs": [
    {
     "data": {
      "application/vnd.jupyter.widget-view+json": {
       "model_id": "8fc51a5b88174f0a98789e289a6e6f5d",
       "version_major": 2,
       "version_minor": 0
      },
      "text/plain": [
       "Text(value='spherical', description='Coordinate System:', placeholder='Type something', style=DescriptionStyle…"
      ]
     },
     "metadata": {},
     "output_type": "display_data"
    },
    {
     "data": {
      "application/vnd.jupyter.widget-view+json": {
       "model_id": "e50a6c8bde9b46578c62883526466a37",
       "version_major": 2,
       "version_minor": 0
      },
      "text/plain": [
       "IntSlider(value=1, continuous_update=False, description='Number of Legend Columns:', max=3, min=1, style=Slide…"
      ]
     },
     "metadata": {},
     "output_type": "display_data"
    },
    {
     "data": {
      "application/vnd.jupyter.widget-view+json": {
       "model_id": "132e7f4a13dc4193b134932ab52ffef3",
       "version_major": 2,
       "version_minor": 0
      },
      "text/plain": [
       "Dropdown(description='Sort Legend By:', options=('capacity', 'alphabetical'), style=DescriptionStyle(descripti…"
      ]
     },
     "metadata": {},
     "output_type": "display_data"
    },
    {
     "data": {
      "application/vnd.jupyter.widget-view+json": {
       "model_id": "6018080da1d54394b3dbd48fa66a60c5",
       "version_major": 2,
       "version_minor": 0
      },
      "text/plain": [
       "FloatSlider(value=1.0, continuous_update=False, description='Zoom Level:', max=3.0, min=0.5, readout_format='.…"
      ]
     },
     "metadata": {},
     "output_type": "display_data"
    },
    {
     "data": {
      "application/vnd.jupyter.widget-view+json": {
       "model_id": "2486b02fa5cd4f198acbf887153201a6",
       "version_major": 2,
       "version_minor": 0
      },
      "text/plain": [
       "Text(value='5000', description='Island Size Thresh:', placeholder='Type a island thresh', style=DescriptionSty…"
      ]
     },
     "metadata": {},
     "output_type": "display_data"
    },
    {
     "data": {
      "application/vnd.jupyter.widget-view+json": {
       "model_id": "2fc97ffe1b454c87b90218cf52aa4138",
       "version_major": 2,
       "version_minor": 0
      },
      "text/plain": [
       "Text(value='False', description='Show Populated Places:', placeholder='Type something', style=DescriptionStyle…"
      ]
     },
     "metadata": {},
     "output_type": "display_data"
    },
    {
     "data": {
      "application/vnd.jupyter.widget-view+json": {
       "model_id": "91d018b0c50a42a3ad9699c58b3c16ea",
       "version_major": 2,
       "version_minor": 0
      },
      "text/plain": [
       "FloatSlider(value=0.5, continuous_update=False, description='Bubble Opacity:', max=1.0, readout_format='.1f', …"
      ]
     },
     "metadata": {},
     "output_type": "display_data"
    },
    {
     "data": {
      "application/vnd.jupyter.widget-view+json": {
       "model_id": "2f60981103c64b1284a7c6df3db435ea",
       "version_major": 2,
       "version_minor": 0
      },
      "text/plain": [
       "Text(value='', description='Country Precursor:', placeholder='Precursor to Country Name', style=DescriptionSty…"
      ]
     },
     "metadata": {},
     "output_type": "display_data"
    },
    {
     "data": {
      "application/vnd.jupyter.widget-view+json": {
       "model_id": "94aa4b7816374ba7a9489cb605577512",
       "version_major": 2,
       "version_minor": 0
      },
      "text/plain": [
       "RadioButtons(description='Title On:', options=(True, False), value=True)"
      ]
     },
     "metadata": {},
     "output_type": "display_data"
    },
    {
     "data": {
      "application/vnd.jupyter.widget-view+json": {
       "model_id": "373ad26c46ca4d96a803580c61f4b6ea",
       "version_major": 2,
       "version_minor": 0
      },
      "text/plain": [
       "RadioButtons(description='Source On:', options=(True, False), value=True)"
      ]
     },
     "metadata": {},
     "output_type": "display_data"
    }
   ],
   "source": [
    "pw.showadvancedwidgets()"
   ]
  },
  {
   "cell_type": "code",
   "execution_count": 3,
   "metadata": {
    "init_cell": true
   },
   "outputs": [
    {
     "data": {
      "application/vnd.jupyter.widget-view+json": {
       "model_id": "63fa5fbd212f4f07a6ac6a22d158690f",
       "version_major": 2,
       "version_minor": 0
      },
      "text/plain": [
       "Button(description='Update Plot', icon='check', layout=Layout(height='80px', width='70%'), style=ButtonStyle()…"
      ]
     },
     "metadata": {},
     "output_type": "display_data"
    },
    {
     "data": {
      "application/javascript": [
       "/* Put everything inside the global mpl namespace */\n",
       "window.mpl = {};\n",
       "\n",
       "\n",
       "mpl.get_websocket_type = function() {\n",
       "    if (typeof(WebSocket) !== 'undefined') {\n",
       "        return WebSocket;\n",
       "    } else if (typeof(MozWebSocket) !== 'undefined') {\n",
       "        return MozWebSocket;\n",
       "    } else {\n",
       "        alert('Your browser does not have WebSocket support.' +\n",
       "              'Please try Chrome, Safari or Firefox ≥ 6. ' +\n",
       "              'Firefox 4 and 5 are also supported but you ' +\n",
       "              'have to enable WebSockets in about:config.');\n",
       "    };\n",
       "}\n",
       "\n",
       "mpl.figure = function(figure_id, websocket, ondownload, parent_element) {\n",
       "    this.id = figure_id;\n",
       "\n",
       "    this.ws = websocket;\n",
       "\n",
       "    this.supports_binary = (this.ws.binaryType != undefined);\n",
       "\n",
       "    if (!this.supports_binary) {\n",
       "        var warnings = document.getElementById(\"mpl-warnings\");\n",
       "        if (warnings) {\n",
       "            warnings.style.display = 'block';\n",
       "            warnings.textContent = (\n",
       "                \"This browser does not support binary websocket messages. \" +\n",
       "                    \"Performance may be slow.\");\n",
       "        }\n",
       "    }\n",
       "\n",
       "    this.imageObj = new Image();\n",
       "\n",
       "    this.context = undefined;\n",
       "    this.message = undefined;\n",
       "    this.canvas = undefined;\n",
       "    this.rubberband_canvas = undefined;\n",
       "    this.rubberband_context = undefined;\n",
       "    this.format_dropdown = undefined;\n",
       "\n",
       "    this.image_mode = 'full';\n",
       "\n",
       "    this.root = $('<div/>');\n",
       "    this._root_extra_style(this.root)\n",
       "    this.root.attr('style', 'display: inline-block');\n",
       "\n",
       "    $(parent_element).append(this.root);\n",
       "\n",
       "    this._init_header(this);\n",
       "    this._init_canvas(this);\n",
       "    this._init_toolbar(this);\n",
       "\n",
       "    var fig = this;\n",
       "\n",
       "    this.waiting = false;\n",
       "\n",
       "    this.ws.onopen =  function () {\n",
       "            fig.send_message(\"supports_binary\", {value: fig.supports_binary});\n",
       "            fig.send_message(\"send_image_mode\", {});\n",
       "            if (mpl.ratio != 1) {\n",
       "                fig.send_message(\"set_dpi_ratio\", {'dpi_ratio': mpl.ratio});\n",
       "            }\n",
       "            fig.send_message(\"refresh\", {});\n",
       "        }\n",
       "\n",
       "    this.imageObj.onload = function() {\n",
       "            if (fig.image_mode == 'full') {\n",
       "                // Full images could contain transparency (where diff images\n",
       "                // almost always do), so we need to clear the canvas so that\n",
       "                // there is no ghosting.\n",
       "                fig.context.clearRect(0, 0, fig.canvas.width, fig.canvas.height);\n",
       "            }\n",
       "            fig.context.drawImage(fig.imageObj, 0, 0);\n",
       "        };\n",
       "\n",
       "    this.imageObj.onunload = function() {\n",
       "        fig.ws.close();\n",
       "    }\n",
       "\n",
       "    this.ws.onmessage = this._make_on_message_function(this);\n",
       "\n",
       "    this.ondownload = ondownload;\n",
       "}\n",
       "\n",
       "mpl.figure.prototype._init_header = function() {\n",
       "    var titlebar = $(\n",
       "        '<div class=\"ui-dialog-titlebar ui-widget-header ui-corner-all ' +\n",
       "        'ui-helper-clearfix\"/>');\n",
       "    var titletext = $(\n",
       "        '<div class=\"ui-dialog-title\" style=\"width: 100%; ' +\n",
       "        'text-align: center; padding: 3px;\"/>');\n",
       "    titlebar.append(titletext)\n",
       "    this.root.append(titlebar);\n",
       "    this.header = titletext[0];\n",
       "}\n",
       "\n",
       "\n",
       "\n",
       "mpl.figure.prototype._canvas_extra_style = function(canvas_div) {\n",
       "\n",
       "}\n",
       "\n",
       "\n",
       "mpl.figure.prototype._root_extra_style = function(canvas_div) {\n",
       "\n",
       "}\n",
       "\n",
       "mpl.figure.prototype._init_canvas = function() {\n",
       "    var fig = this;\n",
       "\n",
       "    var canvas_div = $('<div/>');\n",
       "\n",
       "    canvas_div.attr('style', 'position: relative; clear: both; outline: 0');\n",
       "\n",
       "    function canvas_keyboard_event(event) {\n",
       "        return fig.key_event(event, event['data']);\n",
       "    }\n",
       "\n",
       "    canvas_div.keydown('key_press', canvas_keyboard_event);\n",
       "    canvas_div.keyup('key_release', canvas_keyboard_event);\n",
       "    this.canvas_div = canvas_div\n",
       "    this._canvas_extra_style(canvas_div)\n",
       "    this.root.append(canvas_div);\n",
       "\n",
       "    var canvas = $('<canvas/>');\n",
       "    canvas.addClass('mpl-canvas');\n",
       "    canvas.attr('style', \"left: 0; top: 0; z-index: 0; outline: 0\")\n",
       "\n",
       "    this.canvas = canvas[0];\n",
       "    this.context = canvas[0].getContext(\"2d\");\n",
       "\n",
       "    var backingStore = this.context.backingStorePixelRatio ||\n",
       "\tthis.context.webkitBackingStorePixelRatio ||\n",
       "\tthis.context.mozBackingStorePixelRatio ||\n",
       "\tthis.context.msBackingStorePixelRatio ||\n",
       "\tthis.context.oBackingStorePixelRatio ||\n",
       "\tthis.context.backingStorePixelRatio || 1;\n",
       "\n",
       "    mpl.ratio = (window.devicePixelRatio || 1) / backingStore;\n",
       "\n",
       "    var rubberband = $('<canvas/>');\n",
       "    rubberband.attr('style', \"position: absolute; left: 0; top: 0; z-index: 1;\")\n",
       "\n",
       "    var pass_mouse_events = true;\n",
       "\n",
       "    canvas_div.resizable({\n",
       "        start: function(event, ui) {\n",
       "            pass_mouse_events = false;\n",
       "        },\n",
       "        resize: function(event, ui) {\n",
       "            fig.request_resize(ui.size.width, ui.size.height);\n",
       "        },\n",
       "        stop: function(event, ui) {\n",
       "            pass_mouse_events = true;\n",
       "            fig.request_resize(ui.size.width, ui.size.height);\n",
       "        },\n",
       "    });\n",
       "\n",
       "    function mouse_event_fn(event) {\n",
       "        if (pass_mouse_events)\n",
       "            return fig.mouse_event(event, event['data']);\n",
       "    }\n",
       "\n",
       "    rubberband.mousedown('button_press', mouse_event_fn);\n",
       "    rubberband.mouseup('button_release', mouse_event_fn);\n",
       "    // Throttle sequential mouse events to 1 every 20ms.\n",
       "    rubberband.mousemove('motion_notify', mouse_event_fn);\n",
       "\n",
       "    rubberband.mouseenter('figure_enter', mouse_event_fn);\n",
       "    rubberband.mouseleave('figure_leave', mouse_event_fn);\n",
       "\n",
       "    canvas_div.on(\"wheel\", function (event) {\n",
       "        event = event.originalEvent;\n",
       "        event['data'] = 'scroll'\n",
       "        if (event.deltaY < 0) {\n",
       "            event.step = 1;\n",
       "        } else {\n",
       "            event.step = -1;\n",
       "        }\n",
       "        mouse_event_fn(event);\n",
       "    });\n",
       "\n",
       "    canvas_div.append(canvas);\n",
       "    canvas_div.append(rubberband);\n",
       "\n",
       "    this.rubberband = rubberband;\n",
       "    this.rubberband_canvas = rubberband[0];\n",
       "    this.rubberband_context = rubberband[0].getContext(\"2d\");\n",
       "    this.rubberband_context.strokeStyle = \"#000000\";\n",
       "\n",
       "    this._resize_canvas = function(width, height) {\n",
       "        // Keep the size of the canvas, canvas container, and rubber band\n",
       "        // canvas in synch.\n",
       "        canvas_div.css('width', width)\n",
       "        canvas_div.css('height', height)\n",
       "\n",
       "        canvas.attr('width', width * mpl.ratio);\n",
       "        canvas.attr('height', height * mpl.ratio);\n",
       "        canvas.attr('style', 'width: ' + width + 'px; height: ' + height + 'px;');\n",
       "\n",
       "        rubberband.attr('width', width);\n",
       "        rubberband.attr('height', height);\n",
       "    }\n",
       "\n",
       "    // Set the figure to an initial 600x600px, this will subsequently be updated\n",
       "    // upon first draw.\n",
       "    this._resize_canvas(600, 600);\n",
       "\n",
       "    // Disable right mouse context menu.\n",
       "    $(this.rubberband_canvas).bind(\"contextmenu\",function(e){\n",
       "        return false;\n",
       "    });\n",
       "\n",
       "    function set_focus () {\n",
       "        canvas.focus();\n",
       "        canvas_div.focus();\n",
       "    }\n",
       "\n",
       "    window.setTimeout(set_focus, 100);\n",
       "}\n",
       "\n",
       "mpl.figure.prototype._init_toolbar = function() {\n",
       "    var fig = this;\n",
       "\n",
       "    var nav_element = $('<div/>')\n",
       "    nav_element.attr('style', 'width: 100%');\n",
       "    this.root.append(nav_element);\n",
       "\n",
       "    // Define a callback function for later on.\n",
       "    function toolbar_event(event) {\n",
       "        return fig.toolbar_button_onclick(event['data']);\n",
       "    }\n",
       "    function toolbar_mouse_event(event) {\n",
       "        return fig.toolbar_button_onmouseover(event['data']);\n",
       "    }\n",
       "\n",
       "    for(var toolbar_ind in mpl.toolbar_items) {\n",
       "        var name = mpl.toolbar_items[toolbar_ind][0];\n",
       "        var tooltip = mpl.toolbar_items[toolbar_ind][1];\n",
       "        var image = mpl.toolbar_items[toolbar_ind][2];\n",
       "        var method_name = mpl.toolbar_items[toolbar_ind][3];\n",
       "\n",
       "        if (!name) {\n",
       "            // put a spacer in here.\n",
       "            continue;\n",
       "        }\n",
       "        var button = $('<button/>');\n",
       "        button.addClass('ui-button ui-widget ui-state-default ui-corner-all ' +\n",
       "                        'ui-button-icon-only');\n",
       "        button.attr('role', 'button');\n",
       "        button.attr('aria-disabled', 'false');\n",
       "        button.click(method_name, toolbar_event);\n",
       "        button.mouseover(tooltip, toolbar_mouse_event);\n",
       "\n",
       "        var icon_img = $('<span/>');\n",
       "        icon_img.addClass('ui-button-icon-primary ui-icon');\n",
       "        icon_img.addClass(image);\n",
       "        icon_img.addClass('ui-corner-all');\n",
       "\n",
       "        var tooltip_span = $('<span/>');\n",
       "        tooltip_span.addClass('ui-button-text');\n",
       "        tooltip_span.html(tooltip);\n",
       "\n",
       "        button.append(icon_img);\n",
       "        button.append(tooltip_span);\n",
       "\n",
       "        nav_element.append(button);\n",
       "    }\n",
       "\n",
       "    var fmt_picker_span = $('<span/>');\n",
       "\n",
       "    var fmt_picker = $('<select/>');\n",
       "    fmt_picker.addClass('mpl-toolbar-option ui-widget ui-widget-content');\n",
       "    fmt_picker_span.append(fmt_picker);\n",
       "    nav_element.append(fmt_picker_span);\n",
       "    this.format_dropdown = fmt_picker[0];\n",
       "\n",
       "    for (var ind in mpl.extensions) {\n",
       "        var fmt = mpl.extensions[ind];\n",
       "        var option = $(\n",
       "            '<option/>', {selected: fmt === mpl.default_extension}).html(fmt);\n",
       "        fmt_picker.append(option)\n",
       "    }\n",
       "\n",
       "    // Add hover states to the ui-buttons\n",
       "    $( \".ui-button\" ).hover(\n",
       "        function() { $(this).addClass(\"ui-state-hover\");},\n",
       "        function() { $(this).removeClass(\"ui-state-hover\");}\n",
       "    );\n",
       "\n",
       "    var status_bar = $('<span class=\"mpl-message\"/>');\n",
       "    nav_element.append(status_bar);\n",
       "    this.message = status_bar[0];\n",
       "}\n",
       "\n",
       "mpl.figure.prototype.request_resize = function(x_pixels, y_pixels) {\n",
       "    // Request matplotlib to resize the figure. Matplotlib will then trigger a resize in the client,\n",
       "    // which will in turn request a refresh of the image.\n",
       "    this.send_message('resize', {'width': x_pixels, 'height': y_pixels});\n",
       "}\n",
       "\n",
       "mpl.figure.prototype.send_message = function(type, properties) {\n",
       "    properties['type'] = type;\n",
       "    properties['figure_id'] = this.id;\n",
       "    this.ws.send(JSON.stringify(properties));\n",
       "}\n",
       "\n",
       "mpl.figure.prototype.send_draw_message = function() {\n",
       "    if (!this.waiting) {\n",
       "        this.waiting = true;\n",
       "        this.ws.send(JSON.stringify({type: \"draw\", figure_id: this.id}));\n",
       "    }\n",
       "}\n",
       "\n",
       "\n",
       "mpl.figure.prototype.handle_save = function(fig, msg) {\n",
       "    var format_dropdown = fig.format_dropdown;\n",
       "    var format = format_dropdown.options[format_dropdown.selectedIndex].value;\n",
       "    fig.ondownload(fig, format);\n",
       "}\n",
       "\n",
       "\n",
       "mpl.figure.prototype.handle_resize = function(fig, msg) {\n",
       "    var size = msg['size'];\n",
       "    if (size[0] != fig.canvas.width || size[1] != fig.canvas.height) {\n",
       "        fig._resize_canvas(size[0], size[1]);\n",
       "        fig.send_message(\"refresh\", {});\n",
       "    };\n",
       "}\n",
       "\n",
       "mpl.figure.prototype.handle_rubberband = function(fig, msg) {\n",
       "    var x0 = msg['x0'] / mpl.ratio;\n",
       "    var y0 = (fig.canvas.height - msg['y0']) / mpl.ratio;\n",
       "    var x1 = msg['x1'] / mpl.ratio;\n",
       "    var y1 = (fig.canvas.height - msg['y1']) / mpl.ratio;\n",
       "    x0 = Math.floor(x0) + 0.5;\n",
       "    y0 = Math.floor(y0) + 0.5;\n",
       "    x1 = Math.floor(x1) + 0.5;\n",
       "    y1 = Math.floor(y1) + 0.5;\n",
       "    var min_x = Math.min(x0, x1);\n",
       "    var min_y = Math.min(y0, y1);\n",
       "    var width = Math.abs(x1 - x0);\n",
       "    var height = Math.abs(y1 - y0);\n",
       "\n",
       "    fig.rubberband_context.clearRect(\n",
       "        0, 0, fig.canvas.width, fig.canvas.height);\n",
       "\n",
       "    fig.rubberband_context.strokeRect(min_x, min_y, width, height);\n",
       "}\n",
       "\n",
       "mpl.figure.prototype.handle_figure_label = function(fig, msg) {\n",
       "    // Updates the figure title.\n",
       "    fig.header.textContent = msg['label'];\n",
       "}\n",
       "\n",
       "mpl.figure.prototype.handle_cursor = function(fig, msg) {\n",
       "    var cursor = msg['cursor'];\n",
       "    switch(cursor)\n",
       "    {\n",
       "    case 0:\n",
       "        cursor = 'pointer';\n",
       "        break;\n",
       "    case 1:\n",
       "        cursor = 'default';\n",
       "        break;\n",
       "    case 2:\n",
       "        cursor = 'crosshair';\n",
       "        break;\n",
       "    case 3:\n",
       "        cursor = 'move';\n",
       "        break;\n",
       "    }\n",
       "    fig.rubberband_canvas.style.cursor = cursor;\n",
       "}\n",
       "\n",
       "mpl.figure.prototype.handle_message = function(fig, msg) {\n",
       "    fig.message.textContent = msg['message'];\n",
       "}\n",
       "\n",
       "mpl.figure.prototype.handle_draw = function(fig, msg) {\n",
       "    // Request the server to send over a new figure.\n",
       "    fig.send_draw_message();\n",
       "}\n",
       "\n",
       "mpl.figure.prototype.handle_image_mode = function(fig, msg) {\n",
       "    fig.image_mode = msg['mode'];\n",
       "}\n",
       "\n",
       "mpl.figure.prototype.updated_canvas_event = function() {\n",
       "    // Called whenever the canvas gets updated.\n",
       "    this.send_message(\"ack\", {});\n",
       "}\n",
       "\n",
       "// A function to construct a web socket function for onmessage handling.\n",
       "// Called in the figure constructor.\n",
       "mpl.figure.prototype._make_on_message_function = function(fig) {\n",
       "    return function socket_on_message(evt) {\n",
       "        if (evt.data instanceof Blob) {\n",
       "            /* FIXME: We get \"Resource interpreted as Image but\n",
       "             * transferred with MIME type text/plain:\" errors on\n",
       "             * Chrome.  But how to set the MIME type?  It doesn't seem\n",
       "             * to be part of the websocket stream */\n",
       "            evt.data.type = \"image/png\";\n",
       "\n",
       "            /* Free the memory for the previous frames */\n",
       "            if (fig.imageObj.src) {\n",
       "                (window.URL || window.webkitURL).revokeObjectURL(\n",
       "                    fig.imageObj.src);\n",
       "            }\n",
       "\n",
       "            fig.imageObj.src = (window.URL || window.webkitURL).createObjectURL(\n",
       "                evt.data);\n",
       "            fig.updated_canvas_event();\n",
       "            fig.waiting = false;\n",
       "            return;\n",
       "        }\n",
       "        else if (typeof evt.data === 'string' && evt.data.slice(0, 21) == \"data:image/png;base64\") {\n",
       "            fig.imageObj.src = evt.data;\n",
       "            fig.updated_canvas_event();\n",
       "            fig.waiting = false;\n",
       "            return;\n",
       "        }\n",
       "\n",
       "        var msg = JSON.parse(evt.data);\n",
       "        var msg_type = msg['type'];\n",
       "\n",
       "        // Call the  \"handle_{type}\" callback, which takes\n",
       "        // the figure and JSON message as its only arguments.\n",
       "        try {\n",
       "            var callback = fig[\"handle_\" + msg_type];\n",
       "        } catch (e) {\n",
       "            console.log(\"No handler for the '\" + msg_type + \"' message type: \", msg);\n",
       "            return;\n",
       "        }\n",
       "\n",
       "        if (callback) {\n",
       "            try {\n",
       "                // console.log(\"Handling '\" + msg_type + \"' message: \", msg);\n",
       "                callback(fig, msg);\n",
       "            } catch (e) {\n",
       "                console.log(\"Exception inside the 'handler_\" + msg_type + \"' callback:\", e, e.stack, msg);\n",
       "            }\n",
       "        }\n",
       "    };\n",
       "}\n",
       "\n",
       "// from http://stackoverflow.com/questions/1114465/getting-mouse-location-in-canvas\n",
       "mpl.findpos = function(e) {\n",
       "    //this section is from http://www.quirksmode.org/js/events_properties.html\n",
       "    var targ;\n",
       "    if (!e)\n",
       "        e = window.event;\n",
       "    if (e.target)\n",
       "        targ = e.target;\n",
       "    else if (e.srcElement)\n",
       "        targ = e.srcElement;\n",
       "    if (targ.nodeType == 3) // defeat Safari bug\n",
       "        targ = targ.parentNode;\n",
       "\n",
       "    // jQuery normalizes the pageX and pageY\n",
       "    // pageX,Y are the mouse positions relative to the document\n",
       "    // offset() returns the position of the element relative to the document\n",
       "    var x = e.pageX - $(targ).offset().left;\n",
       "    var y = e.pageY - $(targ).offset().top;\n",
       "\n",
       "    return {\"x\": x, \"y\": y};\n",
       "};\n",
       "\n",
       "/*\n",
       " * return a copy of an object with only non-object keys\n",
       " * we need this to avoid circular references\n",
       " * http://stackoverflow.com/a/24161582/3208463\n",
       " */\n",
       "function simpleKeys (original) {\n",
       "  return Object.keys(original).reduce(function (obj, key) {\n",
       "    if (typeof original[key] !== 'object')\n",
       "        obj[key] = original[key]\n",
       "    return obj;\n",
       "  }, {});\n",
       "}\n",
       "\n",
       "mpl.figure.prototype.mouse_event = function(event, name) {\n",
       "    var canvas_pos = mpl.findpos(event)\n",
       "\n",
       "    if (name === 'button_press')\n",
       "    {\n",
       "        this.canvas.focus();\n",
       "        this.canvas_div.focus();\n",
       "    }\n",
       "\n",
       "    var x = canvas_pos.x * mpl.ratio;\n",
       "    var y = canvas_pos.y * mpl.ratio;\n",
       "\n",
       "    this.send_message(name, {x: x, y: y, button: event.button,\n",
       "                             step: event.step,\n",
       "                             guiEvent: simpleKeys(event)});\n",
       "\n",
       "    /* This prevents the web browser from automatically changing to\n",
       "     * the text insertion cursor when the button is pressed.  We want\n",
       "     * to control all of the cursor setting manually through the\n",
       "     * 'cursor' event from matplotlib */\n",
       "    event.preventDefault();\n",
       "    return false;\n",
       "}\n",
       "\n",
       "mpl.figure.prototype._key_event_extra = function(event, name) {\n",
       "    // Handle any extra behaviour associated with a key event\n",
       "}\n",
       "\n",
       "mpl.figure.prototype.key_event = function(event, name) {\n",
       "\n",
       "    // Prevent repeat events\n",
       "    if (name == 'key_press')\n",
       "    {\n",
       "        if (event.which === this._key)\n",
       "            return;\n",
       "        else\n",
       "            this._key = event.which;\n",
       "    }\n",
       "    if (name == 'key_release')\n",
       "        this._key = null;\n",
       "\n",
       "    var value = '';\n",
       "    if (event.ctrlKey && event.which != 17)\n",
       "        value += \"ctrl+\";\n",
       "    if (event.altKey && event.which != 18)\n",
       "        value += \"alt+\";\n",
       "    if (event.shiftKey && event.which != 16)\n",
       "        value += \"shift+\";\n",
       "\n",
       "    value += 'k';\n",
       "    value += event.which.toString();\n",
       "\n",
       "    this._key_event_extra(event, name);\n",
       "\n",
       "    this.send_message(name, {key: value,\n",
       "                             guiEvent: simpleKeys(event)});\n",
       "    return false;\n",
       "}\n",
       "\n",
       "mpl.figure.prototype.toolbar_button_onclick = function(name) {\n",
       "    if (name == 'download') {\n",
       "        this.handle_save(this, null);\n",
       "    } else {\n",
       "        this.send_message(\"toolbar_button\", {name: name});\n",
       "    }\n",
       "};\n",
       "\n",
       "mpl.figure.prototype.toolbar_button_onmouseover = function(tooltip) {\n",
       "    this.message.textContent = tooltip;\n",
       "};\n",
       "mpl.toolbar_items = [[\"Home\", \"Reset original view\", \"fa fa-home icon-home\", \"home\"], [\"Back\", \"Back to  previous view\", \"fa fa-arrow-left icon-arrow-left\", \"back\"], [\"Forward\", \"Forward to next view\", \"fa fa-arrow-right icon-arrow-right\", \"forward\"], [\"\", \"\", \"\", \"\"], [\"Pan\", \"Pan axes with left mouse, zoom with right\", \"fa fa-arrows icon-move\", \"pan\"], [\"Zoom\", \"Zoom to rectangle\", \"fa fa-square-o icon-check-empty\", \"zoom\"], [\"\", \"\", \"\", \"\"], [\"Download\", \"Download plot\", \"fa fa-floppy-o icon-save\", \"download\"]];\n",
       "\n",
       "mpl.extensions = [\"eps\", \"jpeg\", \"pdf\", \"png\", \"ps\", \"raw\", \"svg\", \"tif\"];\n",
       "\n",
       "mpl.default_extension = \"png\";var comm_websocket_adapter = function(comm) {\n",
       "    // Create a \"websocket\"-like object which calls the given IPython comm\n",
       "    // object with the appropriate methods. Currently this is a non binary\n",
       "    // socket, so there is still some room for performance tuning.\n",
       "    var ws = {};\n",
       "\n",
       "    ws.close = function() {\n",
       "        comm.close()\n",
       "    };\n",
       "    ws.send = function(m) {\n",
       "        //console.log('sending', m);\n",
       "        comm.send(m);\n",
       "    };\n",
       "    // Register the callback with on_msg.\n",
       "    comm.on_msg(function(msg) {\n",
       "        //console.log('receiving', msg['content']['data'], msg);\n",
       "        // Pass the mpl event to the overridden (by mpl) onmessage function.\n",
       "        ws.onmessage(msg['content']['data'])\n",
       "    });\n",
       "    return ws;\n",
       "}\n",
       "\n",
       "mpl.mpl_figure_comm = function(comm, msg) {\n",
       "    // This is the function which gets called when the mpl process\n",
       "    // starts-up an IPython Comm through the \"matplotlib\" channel.\n",
       "\n",
       "    var id = msg.content.data.id;\n",
       "    // Get hold of the div created by the display call when the Comm\n",
       "    // socket was opened in Python.\n",
       "    var element = $(\"#\" + id);\n",
       "    var ws_proxy = comm_websocket_adapter(comm)\n",
       "\n",
       "    function ondownload(figure, format) {\n",
       "        window.open(figure.imageObj.src);\n",
       "    }\n",
       "\n",
       "    var fig = new mpl.figure(id, ws_proxy,\n",
       "                           ondownload,\n",
       "                           element.get(0));\n",
       "\n",
       "    // Call onopen now - mpl needs it, as it is assuming we've passed it a real\n",
       "    // web socket which is closed, not our websocket->open comm proxy.\n",
       "    ws_proxy.onopen();\n",
       "\n",
       "    fig.parent_element = element.get(0);\n",
       "    fig.cell_info = mpl.find_output_cell(\"<div id='\" + id + \"'></div>\");\n",
       "    if (!fig.cell_info) {\n",
       "        console.error(\"Failed to find cell for figure\", id, fig);\n",
       "        return;\n",
       "    }\n",
       "\n",
       "    var output_index = fig.cell_info[2]\n",
       "    var cell = fig.cell_info[0];\n",
       "\n",
       "};\n",
       "\n",
       "mpl.figure.prototype.handle_close = function(fig, msg) {\n",
       "    var width = fig.canvas.width/mpl.ratio\n",
       "    fig.root.unbind('remove')\n",
       "\n",
       "    // Update the output cell to use the data from the current canvas.\n",
       "    fig.push_to_output();\n",
       "    var dataURL = fig.canvas.toDataURL();\n",
       "    // Re-enable the keyboard manager in IPython - without this line, in FF,\n",
       "    // the notebook keyboard shortcuts fail.\n",
       "    IPython.keyboard_manager.enable()\n",
       "    $(fig.parent_element).html('<img src=\"' + dataURL + '\" width=\"' + width + '\">');\n",
       "    fig.close_ws(fig, msg);\n",
       "}\n",
       "\n",
       "mpl.figure.prototype.close_ws = function(fig, msg){\n",
       "    fig.send_message('closing', msg);\n",
       "    // fig.ws.close()\n",
       "}\n",
       "\n",
       "mpl.figure.prototype.push_to_output = function(remove_interactive) {\n",
       "    // Turn the data on the canvas into data in the output cell.\n",
       "    var width = this.canvas.width/mpl.ratio\n",
       "    var dataURL = this.canvas.toDataURL();\n",
       "    this.cell_info[1]['text/html'] = '<img src=\"' + dataURL + '\" width=\"' + width + '\">';\n",
       "}\n",
       "\n",
       "mpl.figure.prototype.updated_canvas_event = function() {\n",
       "    // Tell IPython that the notebook contents must change.\n",
       "    IPython.notebook.set_dirty(true);\n",
       "    this.send_message(\"ack\", {});\n",
       "    var fig = this;\n",
       "    // Wait a second, then push the new image to the DOM so\n",
       "    // that it is saved nicely (might be nice to debounce this).\n",
       "    setTimeout(function () { fig.push_to_output() }, 1000);\n",
       "}\n",
       "\n",
       "mpl.figure.prototype._init_toolbar = function() {\n",
       "    var fig = this;\n",
       "\n",
       "    var nav_element = $('<div/>')\n",
       "    nav_element.attr('style', 'width: 100%');\n",
       "    this.root.append(nav_element);\n",
       "\n",
       "    // Define a callback function for later on.\n",
       "    function toolbar_event(event) {\n",
       "        return fig.toolbar_button_onclick(event['data']);\n",
       "    }\n",
       "    function toolbar_mouse_event(event) {\n",
       "        return fig.toolbar_button_onmouseover(event['data']);\n",
       "    }\n",
       "\n",
       "    for(var toolbar_ind in mpl.toolbar_items){\n",
       "        var name = mpl.toolbar_items[toolbar_ind][0];\n",
       "        var tooltip = mpl.toolbar_items[toolbar_ind][1];\n",
       "        var image = mpl.toolbar_items[toolbar_ind][2];\n",
       "        var method_name = mpl.toolbar_items[toolbar_ind][3];\n",
       "\n",
       "        if (!name) { continue; };\n",
       "\n",
       "        var button = $('<button class=\"btn btn-default\" href=\"#\" title=\"' + name + '\"><i class=\"fa ' + image + ' fa-lg\"></i></button>');\n",
       "        button.click(method_name, toolbar_event);\n",
       "        button.mouseover(tooltip, toolbar_mouse_event);\n",
       "        nav_element.append(button);\n",
       "    }\n",
       "\n",
       "    // Add the status bar.\n",
       "    var status_bar = $('<span class=\"mpl-message\" style=\"text-align:right; float: right;\"/>');\n",
       "    nav_element.append(status_bar);\n",
       "    this.message = status_bar[0];\n",
       "\n",
       "    // Add the close button to the window.\n",
       "    var buttongrp = $('<div class=\"btn-group inline pull-right\"></div>');\n",
       "    var button = $('<button class=\"btn btn-mini btn-primary\" href=\"#\" title=\"Stop Interaction\"><i class=\"fa fa-power-off icon-remove icon-large\"></i></button>');\n",
       "    button.click(function (evt) { fig.handle_close(fig, {}); } );\n",
       "    button.mouseover('Stop Interaction', toolbar_mouse_event);\n",
       "    buttongrp.append(button);\n",
       "    var titlebar = this.root.find($('.ui-dialog-titlebar'));\n",
       "    titlebar.prepend(buttongrp);\n",
       "}\n",
       "\n",
       "mpl.figure.prototype._root_extra_style = function(el){\n",
       "    var fig = this\n",
       "    el.on(\"remove\", function(){\n",
       "\tfig.close_ws(fig, {});\n",
       "    });\n",
       "}\n",
       "\n",
       "mpl.figure.prototype._canvas_extra_style = function(el){\n",
       "    // this is important to make the div 'focusable\n",
       "    el.attr('tabindex', 0)\n",
       "    // reach out to IPython and tell the keyboard manager to turn it's self\n",
       "    // off when our div gets focus\n",
       "\n",
       "    // location in version 3\n",
       "    if (IPython.notebook.keyboard_manager) {\n",
       "        IPython.notebook.keyboard_manager.register_events(el);\n",
       "    }\n",
       "    else {\n",
       "        // location in version 2\n",
       "        IPython.keyboard_manager.register_events(el);\n",
       "    }\n",
       "\n",
       "}\n",
       "\n",
       "mpl.figure.prototype._key_event_extra = function(event, name) {\n",
       "    var manager = IPython.notebook.keyboard_manager;\n",
       "    if (!manager)\n",
       "        manager = IPython.keyboard_manager;\n",
       "\n",
       "    // Check for shift+enter\n",
       "    if (event.shiftKey && event.which == 13) {\n",
       "        this.canvas_div.blur();\n",
       "        event.shiftKey = false;\n",
       "        // Send a \"J\" for go to next cell\n",
       "        event.which = 74;\n",
       "        event.keyCode = 74;\n",
       "        manager.command_mode();\n",
       "        manager.handle_keydown(event);\n",
       "    }\n",
       "}\n",
       "\n",
       "mpl.figure.prototype.handle_save = function(fig, msg) {\n",
       "    fig.ondownload(fig, null);\n",
       "}\n",
       "\n",
       "\n",
       "mpl.find_output_cell = function(html_output) {\n",
       "    // Return the cell and output element which can be found *uniquely* in the notebook.\n",
       "    // Note - this is a bit hacky, but it is done because the \"notebook_saving.Notebook\"\n",
       "    // IPython event is triggered only after the cells have been serialised, which for\n",
       "    // our purposes (turning an active figure into a static one), is too late.\n",
       "    var cells = IPython.notebook.get_cells();\n",
       "    var ncells = cells.length;\n",
       "    for (var i=0; i<ncells; i++) {\n",
       "        var cell = cells[i];\n",
       "        if (cell.cell_type === 'code'){\n",
       "            for (var j=0; j<cell.output_area.outputs.length; j++) {\n",
       "                var data = cell.output_area.outputs[j];\n",
       "                if (data.data) {\n",
       "                    // IPython >= 3 moved mimebundle to data attribute of output\n",
       "                    data = data.data;\n",
       "                }\n",
       "                if (data['text/html'] == html_output) {\n",
       "                    return [cell, data, j];\n",
       "                }\n",
       "            }\n",
       "        }\n",
       "    }\n",
       "}\n",
       "\n",
       "// Register the function which deals with the matplotlib target/channel.\n",
       "// The kernel may be null if the page has been refreshed.\n",
       "if (IPython.notebook.kernel != null) {\n",
       "    IPython.notebook.kernel.comm_manager.register_target('matplotlib', mpl.mpl_figure_comm);\n",
       "}\n"
      ],
      "text/plain": [
       "<IPython.core.display.Javascript object>"
      ]
     },
     "metadata": {},
     "output_type": "display_data"
    },
    {
     "data": {
      "text/html": [
       "<img src=\"data:image/png;base64,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\" width=\"767.7777981169435\">"
      ],
      "text/plain": [
       "<IPython.core.display.HTML object>"
      ]
     },
     "metadata": {},
     "output_type": "display_data"
    }
   ],
   "source": [
    "%matplotlib notebook\n",
    "pw.updateplot()"
   ]
  },
  {
   "cell_type": "markdown",
   "metadata": {},
   "source": [
    "Powerplant data from: \n",
    "Global Energy Observatory, Google, KTH Royal Institute of Technology in Stockholm, Enipedia, World Resources Institute. 2018. Global Power Plant Database. Published on Resource Watch and Google Earth Engine.\n",
    "\n",
    "Written in &#128013; with &#128149;"
   ]
  },
  {
   "cell_type": "code",
   "execution_count": 4,
   "metadata": {},
   "outputs": [
    {
     "data": {
      "text/html": [
       "<div id=\"hidestuff\">  \n",
       "    <script type=\"text/javascript\">\n",
       "        // clever, you found my secret stash\n",
       "        $('div .cell').has('#hidestuff').hide();\n",
       "        var read_only = ['#Country-Power-Plant-Mapper'];\n",
       "        read_only.map(function(hide_id) {\n",
       "            $('div .cell').has(hide_id).unbind('click');\n",
       "            $('div .cell').has(hide_id).unbind('dblclick');\n",
       "        });\n",
       "    </script>\n",
       "</div>  "
      ],
      "text/plain": [
       "<IPython.core.display.HTML object>"
      ]
     },
     "metadata": {},
     "output_type": "display_data"
    }
   ],
   "source": [
    "%%HTML\n",
    "<div id=\"hidestuff\">  \n",
    "    <script type=\"text/javascript\">\n",
    "        // clever, you found my secret stash\n",
    "        $('div .cell').has('#hidestuff').hide();\n",
    "        var read_only = ['#Country-Power-Plant-Mapper'];\n",
    "        read_only.map(function(hide_id) {\n",
    "            $('div .cell').has(hide_id).unbind('click');\n",
    "            $('div .cell').has(hide_id).unbind('dblclick');\n",
    "        });\n",
    "    </script>\n",
    "</div>  "
   ]
  },
  {
   "cell_type": "code",
   "execution_count": 5,
   "metadata": {},
   "outputs": [
    {
     "data": {
      "text/html": [
       "<div id=\"hidestuff\">  \n",
       "    <script type=\"text/javascript\">\n",
       "        // clever, you found my secret stash\n",
       "        $('div .cell').has('#hidestuff').hide();\n",
       "        var read_only = ['#'];\n",
       "        read_only.map(function(hide_id) {\n",
       "            $('div .cell').has(hide_id).unbind('click');\n",
       "            $('div .cell').has(hide_id).unbind('dblclick');\n",
       "        });\n",
       "    </script>\n",
       "</div>  "
      ],
      "text/plain": [
       "<IPython.core.display.HTML object>"
      ]
     },
     "metadata": {},
     "output_type": "display_data"
    }
   ],
   "source": [
    "%%HTML\n",
    "<div id=\"hidestuff\">  \n",
    "    <script type=\"text/javascript\">\n",
    "        // clever, you found my secret stash\n",
    "        $('div .cell').has('#hidestuff').hide();\n",
    "        var read_only = ['#'];\n",
    "        read_only.map(function(hide_id) {\n",
    "            $('div .cell').has(hide_id).unbind('click');\n",
    "            $('div .cell').has(hide_id).unbind('dblclick');\n",
    "        });\n",
    "    </script>\n",
    "</div>  "
   ]
  },
  {
   "cell_type": "code",
   "execution_count": 6,
   "metadata": {},
   "outputs": [
    {
     "data": {
      "text/html": [
       "<div id=\"hidestuff\">  \n",
       "    <script type=\"text/javascript\">\n",
       "        // clever, you found my secret stash\n",
       "        $('div .cell').has('#hidestuff').hide();\n",
       "        var read_only = ['#'];\n",
       "        read_only.map(function(hide_id) {\n",
       "            $('div .cell').has(hide_id).unbind('click');\n",
       "            $('div .cell').has(hide_id).unbind('dblclick');\n",
       "        });\n",
       "    </script>\n",
       "</div>  "
      ],
      "text/plain": [
       "<IPython.core.display.HTML object>"
      ]
     },
     "metadata": {},
     "output_type": "display_data"
    }
   ],
   "source": [
    "%%HTML\n",
    "<div id=\"hidestuff\">  \n",
    "    <script type=\"text/javascript\">\n",
    "        // clever, you found my secret stash\n",
    "        $('div .cell').has('#hidestuff').hide();\n",
    "        var read_only = ['#'];\n",
    "        read_only.map(function(hide_id) {\n",
    "            $('div .cell').has(hide_id).unbind('click');\n",
    "            $('div .cell').has(hide_id).unbind('dblclick');\n",
    "        });\n",
    "    </script>\n",
    "</div>  "
   ]
  },
  {
   "cell_type": "code",
   "execution_count": 7,
   "metadata": {},
   "outputs": [
    {
     "data": {
      "text/html": [
       "<div id=\"hidestuff\">  \n",
       "    <script type=\"text/javascript\">\n",
       "        // clever, you found my secret stash\n",
       "        $('div .cell').has('#hidestuff').hide();\n",
       "        var read_only = ['##Country-Power-Plant-Mapper'];\n",
       "        read_only.map(function(hide_id) {\n",
       "            $('div .cell').has(hide_id).unbind('click');\n",
       "            $('div .cell').has(hide_id).unbind('dblclick');\n",
       "        });\n",
       "    </script>\n",
       "</div> "
      ],
      "text/plain": [
       "<IPython.core.display.HTML object>"
      ]
     },
     "metadata": {},
     "output_type": "display_data"
    }
   ],
   "source": [
    "%%HTML\n",
    "<div id=\"hidestuff\">  \n",
    "    <script type=\"text/javascript\">\n",
    "        // clever, you found my secret stash\n",
    "        $('div .cell').has('#hidestuff').hide();\n",
    "        var read_only = ['##Country-Power-Plant-Mapper'];\n",
    "        read_only.map(function(hide_id) {\n",
    "            $('div .cell').has(hide_id).unbind('click');\n",
    "            $('div .cell').has(hide_id).unbind('dblclick');\n",
    "        });\n",
    "    </script>\n",
    "</div> "
   ]
  }
 ],
 "metadata": {
  "kernelspec": {
   "display_name": "Python 3",
   "language": "python",
   "name": "python3"
  },
  "language_info": {
   "codemirror_mode": {
    "name": "ipython",
    "version": 3
   },
   "file_extension": ".py",
   "mimetype": "text/x-python",
   "name": "python",
   "nbconvert_exporter": "python",
   "pygments_lexer": "ipython3",
   "version": "3.6.5"
  },
  "widgets": {
   "application/vnd.jupyter.widget-state+json": {
    "state": {
     "008a1643615d4f60a365eadbe616435e": {
      "model_module": "@jupyter-widgets/controls",
      "model_module_version": "1.2.0",
      "model_name": "DescriptionStyleModel",
      "state": {
       "description_width": "initial"
      }
     },
     "00a0fe164d5741d1a4e4e1bdb1dc6fc3": {
      "model_module": "@jupyter-widgets/base",
      "model_module_version": "1.0.0",
      "model_name": "LayoutModel",
      "state": {}
     },
     "010ed1c7bf0a4848948e308eb71fc2fc": {
      "model_module": "@jupyter-widgets/base",
      "model_module_version": "1.0.0",
      "model_name": "LayoutModel",
      "state": {}
     },
     "0208475c29da452b8db936f288ecc9a4": {
      "model_module": "@jupyter-widgets/controls",
      "model_module_version": "1.2.0",
      "model_name": "DescriptionStyleModel",
      "state": {
       "description_width": "initial"
      }
     },
     "026819be8241445bbd386d386be5c74c": {
      "model_module": "@jupyter-widgets/controls",
      "model_module_version": "1.2.0",
      "model_name": "TextModel",
      "state": {
       "description": "Country Name:",
       "layout": "IPY_MODEL_513bc87f9ab649b4ba5a72fe00327221",
       "placeholder": "Type a country name",
       "style": "IPY_MODEL_28cbbbd7562949e9b7d3fdfe10d54ba4",
       "value": "India"
      }
     },
     "02b8a3844d794aed9133f3180581b508": {
      "model_module": "@jupyter-widgets/base",
      "model_module_version": "1.0.0",
      "model_name": "LayoutModel",
      "state": {}
     },
     "030b665cb63e4611a9a0323573e7feff": {
      "model_module": "@jupyter-widgets/controls",
      "model_module_version": "1.2.0",
      "model_name": "IntSliderModel",
      "state": {
       "continuous_update": false,
       "description": "Number of Legend Columns:",
       "layout": "IPY_MODEL_825e7d3d608846609d7f7879b11646ec",
       "max": 3,
       "min": 1,
       "style": "IPY_MODEL_b73c8681e52740e2bdaf0547e6323f38",
       "value": 1
      }
     },
     "03964d30965240698f1b63c53b8913b3": {
      "model_module": "@jupyter-widgets/controls",
      "model_module_version": "1.2.0",
      "model_name": "TextModel",
      "state": {
       "description": "Show Populated Places:",
       "layout": "IPY_MODEL_3be8ca91e55846d580591fe5ca605939",
       "placeholder": "Type something",
       "style": "IPY_MODEL_2dbb5657ff7a40d28d64070e1974037d",
       "value": "False"
      }
     },
     "03fb3b8af45648618f2fa20cc790a9e2": {
      "model_module": "@jupyter-widgets/controls",
      "model_module_version": "1.2.0",
      "model_name": "TextModel",
      "state": {
       "description": "Coordinate System:",
       "layout": "IPY_MODEL_1e16c9faea564cbaaa9910989b11b520",
       "placeholder": "Type something",
       "style": "IPY_MODEL_a33747bcdd354e29ad2026dc6e2fb03a",
       "value": "spherical"
      }
     },
     "04226d812b18439fbfa628605f632f0d": {
      "model_module": "@jupyter-widgets/controls",
      "model_module_version": "1.2.0",
      "model_name": "TextModel",
      "state": {
       "description": "Country Name:",
       "layout": "IPY_MODEL_d9a04ba480054b1a895809736f504cf7",
       "placeholder": "Type a country name",
       "style": "IPY_MODEL_61840571609f4503b3ac19a367c0d121",
       "value": "India"
      }
     },
     "04865814a1d54bc9bc50285a10137973": {
      "model_module": "@jupyter-widgets/controls",
      "model_module_version": "1.2.0",
      "model_name": "DescriptionStyleModel",
      "state": {
       "description_width": "initial"
      }
     },
     "04d58663103742c7a689e599b32c18f6": {
      "model_module": "@jupyter-widgets/base",
      "model_module_version": "1.0.0",
      "model_name": "LayoutModel",
      "state": {
       "height": "80px",
       "width": "70%"
      }
     },
     "05073f91aaec49b89b708c69c580add3": {
      "model_module": "@jupyter-widgets/controls",
      "model_module_version": "1.2.0",
      "model_name": "FloatSliderModel",
      "state": {
       "continuous_update": false,
       "description": "Bubble Opacity:",
       "layout": "IPY_MODEL_884fb414b3ea4fb9bc3af0b028f0d911",
       "max": 1,
       "readout_format": ".1f",
       "step": 0.1,
       "style": "IPY_MODEL_48daf4a326ab4342b1a71a55b86dcd80",
       "value": 0.5
      }
     },
     "058ce894c7e74461bdbc607e48e0bade": {
      "model_module": "@jupyter-widgets/controls",
      "model_module_version": "1.2.0",
      "model_name": "DescriptionStyleModel",
      "state": {
       "description_width": "initial"
      }
     },
     "058d54805c20450eafbc9db231c5c754": {
      "model_module": "@jupyter-widgets/controls",
      "model_module_version": "1.2.0",
      "model_name": "DescriptionStyleModel",
      "state": {
       "description_width": "initial"
      }
     },
     "058f5e24f7a543f1bcd0062ad4646253": {
      "model_module": "@jupyter-widgets/base",
      "model_module_version": "1.0.0",
      "model_name": "LayoutModel",
      "state": {}
     },
     "05b1dde4066f47d6becce585e4d4ab42": {
      "model_module": "@jupyter-widgets/base",
      "model_module_version": "1.0.0",
      "model_name": "LayoutModel",
      "state": {}
     },
     "05cf403f1c984ed785a57914e07b3ed4": {
      "model_module": "@jupyter-widgets/base",
      "model_module_version": "1.0.0",
      "model_name": "LayoutModel",
      "state": {
       "height": "80px",
       "width": "70%"
      }
     },
     "05fe6c7e4644497d96712f8749c984dd": {
      "model_module": "@jupyter-widgets/controls",
      "model_module_version": "1.2.0",
      "model_name": "IntSliderModel",
      "state": {
       "continuous_update": false,
       "description": "DPI (resolution):",
       "layout": "IPY_MODEL_39da3254ff9046c282ac8321bbbebbe9",
       "max": 500,
       "min": 100,
       "style": "IPY_MODEL_e92934faa2d441c7a9153d6a17ce394e",
       "value": 300
      }
     },
     "06118f99537c4ae08632ff6b629349a0": {
      "model_module": "@jupyter-widgets/base",
      "model_module_version": "1.0.0",
      "model_name": "LayoutModel",
      "state": {}
     },
     "06bd382645484c09b1d8d37196626553": {
      "model_module": "@jupyter-widgets/controls",
      "model_module_version": "1.2.0",
      "model_name": "TextModel",
      "state": {
       "description": "Island Size Thresh:",
       "layout": "IPY_MODEL_5b6ca703bcf24356aeb4d9369f8c715d",
       "placeholder": "Type a island thresh",
       "style": "IPY_MODEL_e5d78cd9587246ce909469e26c6017a0",
       "value": "largest"
      }
     },
     "071c0c2c17c648d099d748f1e9ea0805": {
      "model_module": "@jupyter-widgets/base",
      "model_module_version": "1.0.0",
      "model_name": "LayoutModel",
      "state": {}
     },
     "0780789672354ae1bd55d4f361e35663": {
      "model_module": "@jupyter-widgets/controls",
      "model_module_version": "1.2.0",
      "model_name": "FloatSliderModel",
      "state": {
       "continuous_update": false,
       "description": "Bubble Opacity:",
       "layout": "IPY_MODEL_a324fd71c2ca47ed8fc34bd529c3a9b9",
       "max": 1,
       "readout_format": ".1f",
       "step": 0.1,
       "style": "IPY_MODEL_b83ee6fc77f54aef8bb077a8fdf556b3",
       "value": 0.4
      }
     },
     "07d4e4a18cc346ce93b9a10849d918d9": {
      "model_module": "@jupyter-widgets/base",
      "model_module_version": "1.0.0",
      "model_name": "LayoutModel",
      "state": {
       "height": "80px",
       "width": "70%"
      }
     },
     "083a7ffeba7b4bc2931fa493aac2b9c2": {
      "model_module": "@jupyter-widgets/controls",
      "model_module_version": "1.2.0",
      "model_name": "TextModel",
      "state": {
       "description": "Coordinate System:",
       "layout": "IPY_MODEL_8e369e9e95b0412a956edc2eec5ca3ee",
       "placeholder": "Type something",
       "style": "IPY_MODEL_ed2ba2283910438e9213d39295c6c66d",
       "value": "spherical"
      }
     },
     "084c7a34828842e69c192d5c034ba910": {
      "model_module": "@jupyter-widgets/base",
      "model_module_version": "1.0.0",
      "model_name": "LayoutModel",
      "state": {}
     },
     "08c7675c4ecf4a01a87ceb25c82e53ba": {
      "model_module": "@jupyter-widgets/controls",
      "model_module_version": "1.2.0",
      "model_name": "FloatSliderModel",
      "state": {
       "continuous_update": false,
       "description": "Zoom Level:",
       "layout": "IPY_MODEL_8b08b1a8318a4de8900c36bf0be41a6c",
       "max": 3,
       "min": 0.5,
       "readout_format": ".1f",
       "step": 0.1,
       "style": "IPY_MODEL_564c54091ce74ffa88608941f8a0e4dc",
       "value": 1
      }
     },
     "08d38e75c54641acaa4b34459dc63631": {
      "model_module": "@jupyter-widgets/controls",
      "model_module_version": "1.2.0",
      "model_name": "DescriptionStyleModel",
      "state": {
       "description_width": "initial"
      }
     },
     "08da95e4843345d6b3366fdfcab13588": {
      "model_module": "@jupyter-widgets/controls",
      "model_module_version": "1.2.0",
      "model_name": "IntSliderModel",
      "state": {
       "continuous_update": false,
       "description": "DPI (resolution):",
       "layout": "IPY_MODEL_bb0c0a45afe04d779f78c99195697d15",
       "max": 500,
       "min": 100,
       "style": "IPY_MODEL_108c056375b9441699b30204037dcac9",
       "value": 300
      }
     },
     "09d63f1c9e914e07b15fd44343ee0c5a": {
      "model_module": "@jupyter-widgets/controls",
      "model_module_version": "1.2.0",
      "model_name": "SliderStyleModel",
      "state": {
       "description_width": "initial"
      }
     },
     "0a158a000eb841de97f47b8ee7f14c5a": {
      "model_module": "@jupyter-widgets/base",
      "model_module_version": "1.0.0",
      "model_name": "LayoutModel",
      "state": {}
     },
     "0a1d77feea0d400287758ec9c3d91338": {
      "model_module": "@jupyter-widgets/base",
      "model_module_version": "1.0.0",
      "model_name": "LayoutModel",
      "state": {}
     },
     "0a8b967da57045f1ad6e412a1c03b490": {
      "model_module": "@jupyter-widgets/base",
      "model_module_version": "1.0.0",
      "model_name": "LayoutModel",
      "state": {}
     },
     "0acc006b7cd94ccc9f802082e81a6246": {
      "model_module": "@jupyter-widgets/controls",
      "model_module_version": "1.2.0",
      "model_name": "ButtonModel",
      "state": {
       "description": "Update Plot",
       "icon": "check",
       "layout": "IPY_MODEL_60d0bea213104c0795ca26b47a296401",
       "style": "IPY_MODEL_3c94099d48ab42ca84dc4a23626e1468",
       "tooltip": "Update Plot"
      }
     },
     "0b11809745334060a7e21a1f63f05fc6": {
      "model_module": "@jupyter-widgets/controls",
      "model_module_version": "1.2.0",
      "model_name": "TextModel",
      "state": {
       "description": "Show Populated Places:",
       "layout": "IPY_MODEL_ba623c8bd12444cebf6412b616460b60",
       "placeholder": "Type something",
       "style": "IPY_MODEL_0208475c29da452b8db936f288ecc9a4",
       "value": "False"
      }
     },
     "0b25fb4cc08e49b188bf27c269e29e2e": {
      "model_module": "@jupyter-widgets/base",
      "model_module_version": "1.0.0",
      "model_name": "LayoutModel",
      "state": {}
     },
     "0b4622c9ea7d4c03874b56cacb424dcd": {
      "model_module": "@jupyter-widgets/controls",
      "model_module_version": "1.2.0",
      "model_name": "TextModel",
      "state": {
       "description": "Country Precursor:",
       "layout": "IPY_MODEL_7eebd21cecfd4f438cda8b39232357ff",
       "placeholder": "Precursor to Country Name",
       "style": "IPY_MODEL_40c9e9c61a9d49d988156905625739cc"
      }
     },
     "0beff752fed84020bc817f17c2ecaa1d": {
      "model_module": "@jupyter-widgets/base",
      "model_module_version": "1.0.0",
      "model_name": "LayoutModel",
      "state": {}
     },
     "0c10a1110bec4d93b0eb26c40c06e592": {
      "model_module": "@jupyter-widgets/base",
      "model_module_version": "1.0.0",
      "model_name": "LayoutModel",
      "state": {}
     },
     "0c2eb0882e754f2bb3d5c021963431dd": {
      "model_module": "@jupyter-widgets/controls",
      "model_module_version": "1.2.0",
      "model_name": "RadioButtonsModel",
      "state": {
       "_options_labels": [
        "True",
        "False"
       ],
       "description": "Title On:",
       "index": 0,
       "layout": "IPY_MODEL_71f067f0547e4b8fb4e56b7dffc3ab80",
       "style": "IPY_MODEL_65d3af4171c4432d9a86a0fe7412a1e3"
      }
     },
     "0c58bff1bfc04203af16f1e85a6c01c4": {
      "model_module": "@jupyter-widgets/controls",
      "model_module_version": "1.2.0",
      "model_name": "DescriptionStyleModel",
      "state": {
       "description_width": "initial"
      }
     },
     "0d0710a4eef64b13a4b5b359ccae9602": {
      "model_module": "@jupyter-widgets/controls",
      "model_module_version": "1.2.0",
      "model_name": "DescriptionStyleModel",
      "state": {
       "description_width": "initial"
      }
     },
     "0d57034cc43c42579fcd6411c4f71338": {
      "model_module": "@jupyter-widgets/base",
      "model_module_version": "1.0.0",
      "model_name": "LayoutModel",
      "state": {}
     },
     "0d96b0589ceb49508c42f9950a7f7311": {
      "model_module": "@jupyter-widgets/base",
      "model_module_version": "1.0.0",
      "model_name": "LayoutModel",
      "state": {}
     },
     "0dfdfc302b374b028ccf0ed87e3dcecb": {
      "model_module": "@jupyter-widgets/controls",
      "model_module_version": "1.2.0",
      "model_name": "TextModel",
      "state": {
       "description": "Country Name:",
       "layout": "IPY_MODEL_6fae948966f94ccf98916bcf8d9a0c1d",
       "placeholder": "Type a country name",
       "style": "IPY_MODEL_81830a18813143978c743c22e5bc272d",
       "value": "India"
      }
     },
     "0e65082586054d3b9c6b26f2278431f8": {
      "model_module": "@jupyter-widgets/controls",
      "model_module_version": "1.2.0",
      "model_name": "TextModel",
      "state": {
       "description": "Show Populated Places:",
       "layout": "IPY_MODEL_5e75f0d2624e448b9075cf58a21ebe0d",
       "placeholder": "Type something",
       "style": "IPY_MODEL_9f183a11da9847ce8956b6caa06ab79a",
       "value": "False"
      }
     },
     "0f39668def504504af46ab5b62031eb1": {
      "model_module": "@jupyter-widgets/controls",
      "model_module_version": "1.2.0",
      "model_name": "FloatSliderModel",
      "state": {
       "continuous_update": false,
       "description": "Bubble Opacity:",
       "layout": "IPY_MODEL_1e8cd5ee04864bbf90da3e25be29763d",
       "max": 1,
       "readout_format": ".1f",
       "step": 0.1,
       "style": "IPY_MODEL_3cafe9e87f1b431b9eb0e873414f5be7",
       "value": 0.5
      }
     },
     "0f4489f7f65d4947a594c5c24adfc05b": {
      "model_module": "@jupyter-widgets/controls",
      "model_module_version": "1.2.0",
      "model_name": "ToggleButtonsModel",
      "state": {
       "_options_labels": [
        "Simple",
        "Mixed",
        "Complex"
       ],
       "button_style": "",
       "description": "Simplification Level:",
       "icons": [],
       "index": 1,
       "layout": "IPY_MODEL_b69296eeb19b49b2bb6a27d6d0efdb6d",
       "style": "IPY_MODEL_8cf0bf08c24644919fcc1d6edd391c71",
       "tooltips": [
        "Renewables, Fossil, and Nuclear",
        "Solar, Wind, Hydro, Geothermal,Biomass, Wave and Tidal,\n Storage, Fossil, Nuclear",
        "Solar, Wind, Hydro, Geothermal,Biomass, Wave and Tidal,\n Storage, Fossil, Nuclear, Coal, Gas, Oil, Waste, Cogeneration"
       ]
      }
     },
     "0f486a410ccd413d903252616dc606f3": {
      "model_module": "@jupyter-widgets/controls",
      "model_module_version": "1.2.0",
      "model_name": "FloatSliderModel",
      "state": {
       "continuous_update": false,
       "description": "Bubble Opacity:",
       "layout": "IPY_MODEL_ed748724e69043e6b6b9290c21e750fc",
       "max": 1,
       "readout_format": ".1f",
       "step": 0.1,
       "style": "IPY_MODEL_1a4ed045f62748fbb73330749aa865ba",
       "value": 0.5
      }
     },
     "0fb037dadede4062b5e1b728b3db43bf": {
      "model_module": "@jupyter-widgets/controls",
      "model_module_version": "1.2.0",
      "model_name": "DescriptionStyleModel",
      "state": {
       "description_width": "initial"
      }
     },
     "1038a7a79c4f4339928cf3eca426265d": {
      "model_module": "@jupyter-widgets/controls",
      "model_module_version": "1.2.0",
      "model_name": "TextModel",
      "state": {
       "description": "Show Populated Places:",
       "layout": "IPY_MODEL_893588eccb564a26b2026e0d63bb40d0",
       "placeholder": "Type something",
       "style": "IPY_MODEL_288060d3e82c4d9e995a8e6eb516dbd6",
       "value": "False"
      }
     },
     "10538f39d0924e1b9bdea9ed7ad06192": {
      "model_module": "@jupyter-widgets/base",
      "model_module_version": "1.0.0",
      "model_name": "LayoutModel",
      "state": {
       "height": "80px",
       "width": "70%"
      }
     },
     "10680869c8764e4b973a1f02759afb6b": {
      "model_module": "@jupyter-widgets/controls",
      "model_module_version": "1.2.0",
      "model_name": "DescriptionStyleModel",
      "state": {
       "description_width": "initial"
      }
     },
     "108c056375b9441699b30204037dcac9": {
      "model_module": "@jupyter-widgets/controls",
      "model_module_version": "1.2.0",
      "model_name": "SliderStyleModel",
      "state": {
       "description_width": "initial"
      }
     },
     "10939cd7c0ba4b7f813bbd234f5886ca": {
      "model_module": "@jupyter-widgets/controls",
      "model_module_version": "1.2.0",
      "model_name": "DescriptionStyleModel",
      "state": {
       "description_width": "initial"
      }
     },
     "109d31f70ca84d888591250c0905c01c": {
      "model_module": "@jupyter-widgets/base",
      "model_module_version": "1.0.0",
      "model_name": "LayoutModel",
      "state": {}
     },
     "10d2814d3e2a4514be2f21a0f26f9f9a": {
      "model_module": "@jupyter-widgets/controls",
      "model_module_version": "1.2.0",
      "model_name": "ButtonStyleModel",
      "state": {}
     },
     "11097373d92549de9cd24c5a2218e54b": {
      "model_module": "@jupyter-widgets/base",
      "model_module_version": "1.0.0",
      "model_name": "LayoutModel",
      "state": {}
     },
     "1139872ede47432984e37f976fe7a4ef": {
      "model_module": "@jupyter-widgets/base",
      "model_module_version": "1.0.0",
      "model_name": "LayoutModel",
      "state": {}
     },
     "125ef0dd2b614e468111d3c28974076a": {
      "model_module": "@jupyter-widgets/base",
      "model_module_version": "1.0.0",
      "model_name": "LayoutModel",
      "state": {}
     },
     "12b8b3adb0454383bb82c961e846082a": {
      "model_module": "@jupyter-widgets/controls",
      "model_module_version": "1.2.0",
      "model_name": "SliderStyleModel",
      "state": {
       "description_width": "initial"
      }
     },
     "12e0922dd6844b0badf0173a79d455ba": {
      "model_module": "@jupyter-widgets/base",
      "model_module_version": "1.0.0",
      "model_name": "LayoutModel",
      "state": {}
     },
     "132e7f4a13dc4193b134932ab52ffef3": {
      "model_module": "@jupyter-widgets/controls",
      "model_module_version": "1.2.0",
      "model_name": "DropdownModel",
      "state": {
       "_options_labels": [
        "capacity",
        "alphabetical"
       ],
       "description": "Sort Legend By:",
       "index": 0,
       "layout": "IPY_MODEL_7f8fd98facf14931b1fb7ef863719047",
       "style": "IPY_MODEL_f27a21530a7f4f00bbd53d9d02ff1906"
      }
     },
     "13644f9dd64e42ddb808a4e0125e4286": {
      "model_module": "@jupyter-widgets/base",
      "model_module_version": "1.0.0",
      "model_name": "LayoutModel",
      "state": {}
     },
     "13deba104b124a58808102cf5ca3385b": {
      "model_module": "@jupyter-widgets/controls",
      "model_module_version": "1.2.0",
      "model_name": "ToggleButtonsModel",
      "state": {
       "_options_labels": [
        "Simple",
        "Mixed",
        "Complex"
       ],
       "button_style": "",
       "description": "Simplification Level:",
       "icons": [],
       "index": 1,
       "layout": "IPY_MODEL_3bf6e31885ee4afeafec97f2f5f3953e",
       "style": "IPY_MODEL_34e9edea2dff4ec7b7718a1e90f3e475",
       "tooltips": [
        "Renewables, Fossil, and Nuclear",
        "Solar, Wind, Hydro, Geothermal,Biomass, Wave and Tidal,\n Storage, Fossil, Nuclear",
        "Solar, Wind, Hydro, Geothermal,Biomass, Wave and Tidal,\n Storage, Fossil, Nuclear, Coal, Gas, Oil, Waste, Cogeneration"
       ]
      }
     },
     "144fabdbbbc3476b9d56ecdbf30f5b1d": {
      "model_module": "@jupyter-widgets/base",
      "model_module_version": "1.0.0",
      "model_name": "LayoutModel",
      "state": {}
     },
     "14687117d7aa4b5eac89019b7a7a76ca": {
      "model_module": "@jupyter-widgets/controls",
      "model_module_version": "1.2.0",
      "model_name": "RadioButtonsModel",
      "state": {
       "_options_labels": [
        "True",
        "False"
       ],
       "description": "Title On:",
       "index": 0,
       "layout": "IPY_MODEL_8f877667a02442788a9979864ba78d8e",
       "style": "IPY_MODEL_a120d80849bd4298be4834c88a259bfb"
      }
     },
     "14e316bba7b646ec8d29b2f2b9376a70": {
      "model_module": "@jupyter-widgets/controls",
      "model_module_version": "1.2.0",
      "model_name": "DropdownModel",
      "state": {
       "_options_labels": [
        "capacity",
        "alphabetical"
       ],
       "description": "Sort Legend By:",
       "index": 0,
       "layout": "IPY_MODEL_40d16b65d8df44c4b895c47fa60b5ba9",
       "style": "IPY_MODEL_7b7d7fa6e7a34a5daa8b2d4705aa3538"
      }
     },
     "1523ed924c1341aa98cdb27208cd6fcf": {
      "model_module": "@jupyter-widgets/controls",
      "model_module_version": "1.2.0",
      "model_name": "ToggleButtonsStyleModel",
      "state": {
       "button_width": "",
       "description_width": "initial"
      }
     },
     "1593d4e0693d485f989443ce2e9d8bdd": {
      "model_module": "@jupyter-widgets/controls",
      "model_module_version": "1.2.0",
      "model_name": "DropdownModel",
      "state": {
       "_options_labels": [
        "capacity",
        "alphabetical"
       ],
       "description": "Sort Legend By:",
       "index": 0,
       "layout": "IPY_MODEL_bb67daead6684a909bdc5f2cab587e18",
       "style": "IPY_MODEL_f9fc6cc099334417a40eb2d3aa0f28e0"
      }
     },
     "15cca243e06d4d6298c1b05405ea42c2": {
      "model_module": "@jupyter-widgets/base",
      "model_module_version": "1.0.0",
      "model_name": "LayoutModel",
      "state": {}
     },
     "16b0c417099e4e1fb9797faaf460cdab": {
      "model_module": "@jupyter-widgets/controls",
      "model_module_version": "1.2.0",
      "model_name": "DescriptionStyleModel",
      "state": {
       "description_width": "initial"
      }
     },
     "17001cca00194e0cafdee261752dbcdd": {
      "model_module": "@jupyter-widgets/base",
      "model_module_version": "1.0.0",
      "model_name": "LayoutModel",
      "state": {}
     },
     "170eb88a372c4622b038d47f5ef7e7f4": {
      "model_module": "@jupyter-widgets/controls",
      "model_module_version": "1.2.0",
      "model_name": "SliderStyleModel",
      "state": {
       "description_width": "initial"
      }
     },
     "17cfd8f1296e440997763791964e07cd": {
      "model_module": "@jupyter-widgets/controls",
      "model_module_version": "1.2.0",
      "model_name": "SliderStyleModel",
      "state": {
       "description_width": "initial"
      }
     },
     "17fda476d83d451b96a27382b43017db": {
      "model_module": "@jupyter-widgets/controls",
      "model_module_version": "1.2.0",
      "model_name": "DescriptionStyleModel",
      "state": {
       "description_width": "initial"
      }
     },
     "181063281f014ef2ae44ab2ab5599dab": {
      "model_module": "@jupyter-widgets/base",
      "model_module_version": "1.0.0",
      "model_name": "LayoutModel",
      "state": {}
     },
     "18abf0131e2d42f4bd5bfd6468ffb41f": {
      "model_module": "@jupyter-widgets/controls",
      "model_module_version": "1.2.0",
      "model_name": "TextModel",
      "state": {
       "description": "Path to save to:",
       "layout": "IPY_MODEL_563d1b0fa7b54cf2bd2e3dd22ada300b",
       "placeholder": "Type the complete path to save to",
       "style": "IPY_MODEL_e3f1c5f3e441422e980659f39121cd2b",
       "value": "/Users/skoebric/Downloads/XYZ.png"
      }
     },
     "18e37dd631e84d1c8a1572e0227ca2f5": {
      "model_module": "@jupyter-widgets/base",
      "model_module_version": "1.0.0",
      "model_name": "LayoutModel",
      "state": {}
     },
     "197f28acc0e948989773be7de9d1a9ad": {
      "model_module": "@jupyter-widgets/controls",
      "model_module_version": "1.2.0",
      "model_name": "TextModel",
      "state": {
       "description": "Coordinate System:",
       "layout": "IPY_MODEL_45693c972b784eada25056ffd580f9be",
       "placeholder": "Type something",
       "style": "IPY_MODEL_9de1e3f5b2944f1b984cae49530eacd9",
       "value": "spherical"
      }
     },
     "19c1c4d6d92c4ce68abfd1bda05d99f2": {
      "model_module": "@jupyter-widgets/controls",
      "model_module_version": "1.2.0",
      "model_name": "SliderStyleModel",
      "state": {
       "description_width": "initial"
      }
     },
     "19e49aee4a0644c3b55c42c5e9e807c5": {
      "model_module": "@jupyter-widgets/controls",
      "model_module_version": "1.2.0",
      "model_name": "DescriptionStyleModel",
      "state": {
       "description_width": "initial"
      }
     },
     "1a3630ea810a42349f1d58ee37d8e0f1": {
      "model_module": "@jupyter-widgets/controls",
      "model_module_version": "1.2.0",
      "model_name": "ToggleButtonsModel",
      "state": {
       "_options_labels": [
        "Simple",
        "Mixed",
        "Complex"
       ],
       "button_style": "",
       "description": "Simplification Level:",
       "icons": [],
       "index": 1,
       "layout": "IPY_MODEL_aaf34c87bba44221b6121106ba60d5bd",
       "style": "IPY_MODEL_48adc495a4ae44fd92abe113e3481fd1",
       "tooltips": [
        "Renewables, Fossil, and Nuclear",
        "Solar, Wind, Hydro, Geothermal,Biomass, Wave and Tidal,\n Storage, Fossil, Nuclear",
        "Solar, Wind, Hydro, Geothermal,Biomass, Wave and Tidal,\n Storage, Fossil, Nuclear, Coal, Gas, Oil, Waste, Cogeneration"
       ]
      }
     },
     "1a4944b730414972b8e78ccc5f174728": {
      "model_module": "@jupyter-widgets/controls",
      "model_module_version": "1.2.0",
      "model_name": "SliderStyleModel",
      "state": {
       "description_width": "initial"
      }
     },
     "1a4ed045f62748fbb73330749aa865ba": {
      "model_module": "@jupyter-widgets/controls",
      "model_module_version": "1.2.0",
      "model_name": "SliderStyleModel",
      "state": {
       "description_width": "initial"
      }
     },
     "1b01a670083f45dbbf021c60c9dc7124": {
      "model_module": "@jupyter-widgets/base",
      "model_module_version": "1.0.0",
      "model_name": "LayoutModel",
      "state": {}
     },
     "1b0ea0b2b7464ed1b8cbe979839ced9b": {
      "model_module": "@jupyter-widgets/base",
      "model_module_version": "1.0.0",
      "model_name": "LayoutModel",
      "state": {}
     },
     "1b1af95fda874a35830da77937472a16": {
      "model_module": "@jupyter-widgets/controls",
      "model_module_version": "1.2.0",
      "model_name": "DescriptionStyleModel",
      "state": {
       "description_width": "initial"
      }
     },
     "1c32c0f068db4867b791f1e9e4d6b95b": {
      "model_module": "@jupyter-widgets/base",
      "model_module_version": "1.0.0",
      "model_name": "LayoutModel",
      "state": {}
     },
     "1c7d46f61d7a4bb5abfd9299ba36f3b7": {
      "model_module": "@jupyter-widgets/base",
      "model_module_version": "1.0.0",
      "model_name": "LayoutModel",
      "state": {
       "height": "80px",
       "width": "70%"
      }
     },
     "1c94b696932e4bebbd10ee724bb923e5": {
      "model_module": "@jupyter-widgets/base",
      "model_module_version": "1.0.0",
      "model_name": "LayoutModel",
      "state": {}
     },
     "1cc561e5eec842e7995a560d02be85d4": {
      "model_module": "@jupyter-widgets/controls",
      "model_module_version": "1.2.0",
      "model_name": "ButtonModel",
      "state": {
       "description": "Update Plot",
       "icon": "check",
       "layout": "IPY_MODEL_890318aab5cb4ad9ba4bee74825097f5",
       "style": "IPY_MODEL_fa2bbe276f3744e1b839af5aaecb377b",
       "tooltip": "Update Plot"
      }
     },
     "1cf980be96e547c3ae28633307a99e83": {
      "model_module": "@jupyter-widgets/base",
      "model_module_version": "1.0.0",
      "model_name": "LayoutModel",
      "state": {}
     },
     "1d60820c7e2d498dabecfeed4a69bab8": {
      "model_module": "@jupyter-widgets/controls",
      "model_module_version": "1.2.0",
      "model_name": "TextModel",
      "state": {
       "description": "Show Populated Places:",
       "layout": "IPY_MODEL_bdc63513cbff4f5fbdda1d8d0cc26b7e",
       "placeholder": "Type something",
       "style": "IPY_MODEL_47519c7860cd479f8965e8fad4852d58",
       "value": "False"
      }
     },
     "1d666bed73af4d91a2c32fdb664bccb0": {
      "model_module": "@jupyter-widgets/controls",
      "model_module_version": "1.2.0",
      "model_name": "DescriptionStyleModel",
      "state": {
       "description_width": "initial"
      }
     },
     "1db2e196417545b29b35d9c44de609f1": {
      "model_module": "@jupyter-widgets/base",
      "model_module_version": "1.0.0",
      "model_name": "LayoutModel",
      "state": {}
     },
     "1e16c9faea564cbaaa9910989b11b520": {
      "model_module": "@jupyter-widgets/base",
      "model_module_version": "1.0.0",
      "model_name": "LayoutModel",
      "state": {}
     },
     "1e66f6186980498eaa44aeca0dcc79e2": {
      "model_module": "@jupyter-widgets/base",
      "model_module_version": "1.0.0",
      "model_name": "LayoutModel",
      "state": {}
     },
     "1e7dd346e1c141a9a67604d6c8207bfe": {
      "model_module": "@jupyter-widgets/controls",
      "model_module_version": "1.2.0",
      "model_name": "DescriptionStyleModel",
      "state": {
       "description_width": "initial"
      }
     },
     "1e8cd5ee04864bbf90da3e25be29763d": {
      "model_module": "@jupyter-widgets/base",
      "model_module_version": "1.0.0",
      "model_name": "LayoutModel",
      "state": {}
     },
     "1e93b0abab7a4e84b16ad1769b8e5647": {
      "model_module": "@jupyter-widgets/base",
      "model_module_version": "1.0.0",
      "model_name": "LayoutModel",
      "state": {}
     },
     "1ebcbc129f174ce48f0645123da97ee0": {
      "model_module": "@jupyter-widgets/base",
      "model_module_version": "1.0.0",
      "model_name": "LayoutModel",
      "state": {}
     },
     "1f0ee5c34001498fbcde7e7ca6c8f9e5": {
      "model_module": "@jupyter-widgets/base",
      "model_module_version": "1.0.0",
      "model_name": "LayoutModel",
      "state": {}
     },
     "1f36b9b2b18846de9bb8e9c60445f3cd": {
      "model_module": "@jupyter-widgets/controls",
      "model_module_version": "1.2.0",
      "model_name": "SliderStyleModel",
      "state": {
       "description_width": "initial"
      }
     },
     "1f3a75432f9240a8a6602ddf6f2545e1": {
      "model_module": "@jupyter-widgets/controls",
      "model_module_version": "1.2.0",
      "model_name": "TextModel",
      "state": {
       "description": "Coordinate System:",
       "layout": "IPY_MODEL_a5408c6bf9b64b219918168a2f63d21a",
       "placeholder": "Type something",
       "style": "IPY_MODEL_8744aae140644701a9461f9daf5c44d6",
       "value": "spherical"
      }
     },
     "1f49bad8231f4743bcc17f306b169d11": {
      "model_module": "@jupyter-widgets/base",
      "model_module_version": "1.0.0",
      "model_name": "LayoutModel",
      "state": {}
     },
     "1fabb84a19d34e9db16d7f6fafc80d51": {
      "model_module": "@jupyter-widgets/controls",
      "model_module_version": "1.2.0",
      "model_name": "ButtonModel",
      "state": {
       "description": "Update Plot",
       "icon": "check",
       "layout": "IPY_MODEL_7f9bf6dbe7e14010b2690230fa643a59",
       "style": "IPY_MODEL_94a880a70bfd4aacb4ba03bf1d59ae92",
       "tooltip": "Update Plot"
      }
     },
     "1fafaa51c40143ca8ae0471f5a0ff386": {
      "model_module": "@jupyter-widgets/controls",
      "model_module_version": "1.2.0",
      "model_name": "ToggleButtonsModel",
      "state": {
       "_options_labels": [
        "Simple",
        "Mixed",
        "Complex"
       ],
       "button_style": "",
       "description": "Simplification Level:",
       "icons": [],
       "index": 1,
       "layout": "IPY_MODEL_a0e6de593c864e3baaeb47f27630b6b4",
       "style": "IPY_MODEL_bc8a25cf061749beb89ad02fe478c9df",
       "tooltips": [
        "Renewables, Fossil, and Nuclear",
        "Solar, Wind, Hydro, Geothermal,Biomass, Wave and Tidal,\n Storage, Fossil, Nuclear",
        "Solar, Wind, Hydro, Geothermal,Biomass, Wave and Tidal,\n Storage, Fossil, Nuclear, Coal, Gas, Oil, Waste, Cogeneration"
       ]
      }
     },
     "1fb24064cc024efe87441a5642f2fd0b": {
      "model_module": "@jupyter-widgets/controls",
      "model_module_version": "1.2.0",
      "model_name": "ButtonModel",
      "state": {
       "description": "Update Plot",
       "icon": "check",
       "layout": "IPY_MODEL_e165f1a4874f45ba93f0dd0083000291",
       "style": "IPY_MODEL_5c0980ace2bb4689a61f236870640b5a",
       "tooltip": "Update Plot"
      }
     },
     "2047af4f13bd47618ab2f40016356107": {
      "model_module": "@jupyter-widgets/controls",
      "model_module_version": "1.2.0",
      "model_name": "ButtonStyleModel",
      "state": {}
     },
     "20a0e8e6329c4f89aaa66ba7c2ae500c": {
      "model_module": "@jupyter-widgets/controls",
      "model_module_version": "1.2.0",
      "model_name": "ToggleButtonsStyleModel",
      "state": {
       "button_width": "",
       "description_width": "initial"
      }
     },
     "20c0b02b04e34dd9b34f180989f95329": {
      "model_module": "@jupyter-widgets/controls",
      "model_module_version": "1.2.0",
      "model_name": "ButtonStyleModel",
      "state": {}
     },
     "20c9c3560d1a4fddbfa364d69d3e57db": {
      "model_module": "@jupyter-widgets/base",
      "model_module_version": "1.0.0",
      "model_name": "LayoutModel",
      "state": {}
     },
     "20d7a650f22145d39f6cefed74b5056c": {
      "model_module": "@jupyter-widgets/base",
      "model_module_version": "1.0.0",
      "model_name": "LayoutModel",
      "state": {}
     },
     "2128d5b459314cb39ed7691a015a6c0d": {
      "model_module": "@jupyter-widgets/controls",
      "model_module_version": "1.2.0",
      "model_name": "DropdownModel",
      "state": {
       "_options_labels": [
        "capacity",
        "alphabetical"
       ],
       "description": "Sort Legend By:",
       "index": 0,
       "layout": "IPY_MODEL_d1df1a0d03eb484bbffb1fb0ef719870",
       "style": "IPY_MODEL_79cdd44eeb2d46659cfa88ab6f65b717"
      }
     },
     "2140a773dce74efb93a6c033791cfcad": {
      "model_module": "@jupyter-widgets/controls",
      "model_module_version": "1.2.0",
      "model_name": "SliderStyleModel",
      "state": {
       "description_width": "initial"
      }
     },
     "21a47d71fcd54e3cb48a6a7c6a4eb009": {
      "model_module": "@jupyter-widgets/controls",
      "model_module_version": "1.2.0",
      "model_name": "DescriptionStyleModel",
      "state": {
       "description_width": ""
      }
     },
     "2229d91b3b144114860bd1a3e8d9486f": {
      "model_module": "@jupyter-widgets/base",
      "model_module_version": "1.0.0",
      "model_name": "LayoutModel",
      "state": {}
     },
     "22bfdf4a2f414abe9e1aacbd8f0acaa2": {
      "model_module": "@jupyter-widgets/controls",
      "model_module_version": "1.2.0",
      "model_name": "DescriptionStyleModel",
      "state": {
       "description_width": ""
      }
     },
     "23326e45c0584ff49f26ca3405dc269c": {
      "model_module": "@jupyter-widgets/controls",
      "model_module_version": "1.2.0",
      "model_name": "DescriptionStyleModel",
      "state": {
       "description_width": "initial"
      }
     },
     "2338122c08364d769c02c7fab7389250": {
      "model_module": "@jupyter-widgets/controls",
      "model_module_version": "1.2.0",
      "model_name": "TextModel",
      "state": {
       "description": "Country Precursor:",
       "layout": "IPY_MODEL_a3c95242761945adb32c6e5ef2517b36",
       "placeholder": "Precursor to Country Name",
       "style": "IPY_MODEL_08d38e75c54641acaa4b34459dc63631"
      }
     },
     "233b72ab8292489c83f3a1f740d0064f": {
      "model_module": "@jupyter-widgets/controls",
      "model_module_version": "1.2.0",
      "model_name": "FloatSliderModel",
      "state": {
       "continuous_update": false,
       "description": "Zoom Level:",
       "layout": "IPY_MODEL_b9a6e3dfa8a541ce94cebe2c3edbba6e",
       "max": 3,
       "min": 0.5,
       "readout_format": ".1f",
       "step": 0.1,
       "style": "IPY_MODEL_a6e96b6d7a6c46e8b27d235feb08f811",
       "value": 1
      }
     },
     "2344148f185542baab361a4f527b319e": {
      "model_module": "@jupyter-widgets/controls",
      "model_module_version": "1.2.0",
      "model_name": "IntSliderModel",
      "state": {
       "continuous_update": false,
       "description": "DPI (resolution):",
       "layout": "IPY_MODEL_60b669a6781448419c3e601100701fa4",
       "max": 500,
       "min": 100,
       "style": "IPY_MODEL_3a23d1df34f04cdd987e39090f02df11",
       "value": 300
      }
     },
     "23bd409b408a4e63a70c5a3e33c69b16": {
      "model_module": "@jupyter-widgets/controls",
      "model_module_version": "1.2.0",
      "model_name": "SliderStyleModel",
      "state": {
       "description_width": "initial"
      }
     },
     "23d0d1bac2b7434c98857fc758279dae": {
      "model_module": "@jupyter-widgets/controls",
      "model_module_version": "1.2.0",
      "model_name": "ButtonModel",
      "state": {
       "description": "Update Plot",
       "icon": "check",
       "layout": "IPY_MODEL_1c7d46f61d7a4bb5abfd9299ba36f3b7",
       "style": "IPY_MODEL_20c0b02b04e34dd9b34f180989f95329",
       "tooltip": "Update Plot"
      }
     },
     "242a44fc5f814b96a94b5a8111cb9d32": {
      "model_module": "@jupyter-widgets/controls",
      "model_module_version": "1.2.0",
      "model_name": "SliderStyleModel",
      "state": {
       "description_width": "initial"
      }
     },
     "2438d43716ff41689d8e552b9cf826bd": {
      "model_module": "@jupyter-widgets/base",
      "model_module_version": "1.0.0",
      "model_name": "LayoutModel",
      "state": {}
     },
     "247bf49424d84e15a01c99dc430e7c52": {
      "model_module": "@jupyter-widgets/base",
      "model_module_version": "1.0.0",
      "model_name": "LayoutModel",
      "state": {}
     },
     "2486b02fa5cd4f198acbf887153201a6": {
      "model_module": "@jupyter-widgets/controls",
      "model_module_version": "1.2.0",
      "model_name": "TextModel",
      "state": {
       "description": "Island Size Thresh:",
       "layout": "IPY_MODEL_97eef8891cae42d684ad21deba43532c",
       "placeholder": "Type a island thresh",
       "style": "IPY_MODEL_c2b081a544784122a1aa3c8d66bb9f1e",
       "value": "5000"
      }
     },
     "24ee941e6e104ee3a69b0b0ad2973313": {
      "model_module": "@jupyter-widgets/base",
      "model_module_version": "1.0.0",
      "model_name": "LayoutModel",
      "state": {}
     },
     "253d266a06c448fd8d89ec4507f30f5f": {
      "model_module": "@jupyter-widgets/controls",
      "model_module_version": "1.2.0",
      "model_name": "TextModel",
      "state": {
       "description": "Island Size Thresh:",
       "layout": "IPY_MODEL_b92f0fd626454d4490f1be3bb4eead2b",
       "placeholder": "Type a island thresh",
       "style": "IPY_MODEL_fc33ff048f9a49dc83612882ace305f7",
       "value": "5000"
      }
     },
     "25a1dd0c43384fcb88fe90710a8a2143": {
      "model_module": "@jupyter-widgets/base",
      "model_module_version": "1.0.0",
      "model_name": "LayoutModel",
      "state": {}
     },
     "25a6042b27a347d49282f884fb5c66b0": {
      "model_module": "@jupyter-widgets/controls",
      "model_module_version": "1.2.0",
      "model_name": "DropdownModel",
      "state": {
       "_options_labels": [
        "capacity",
        "alphabetical"
       ],
       "description": "Sort Legend By:",
       "index": 0,
       "layout": "IPY_MODEL_bc79ac807728455794d3a4ac51ee278c",
       "style": "IPY_MODEL_f0b29ead72d3464c8cd1f76085d64cf0"
      }
     },
     "25b28757048749a1a8ca748508ccbc51": {
      "model_module": "@jupyter-widgets/controls",
      "model_module_version": "1.2.0",
      "model_name": "IntSliderModel",
      "state": {
       "continuous_update": false,
       "description": "DPI (resolution):",
       "layout": "IPY_MODEL_76d728711e264125a884a5b1d2186216",
       "max": 500,
       "min": 100,
       "style": "IPY_MODEL_74dcc5c6ec6d4ee9a4b8294ef2492ea7",
       "value": 300
      }
     },
     "25d1f83077d440f39ad08f583e944887": {
      "model_module": "@jupyter-widgets/base",
      "model_module_version": "1.0.0",
      "model_name": "LayoutModel",
      "state": {}
     },
     "263822d472954a13bbe3bb1a89e1375a": {
      "model_module": "@jupyter-widgets/controls",
      "model_module_version": "1.2.0",
      "model_name": "DescriptionStyleModel",
      "state": {
       "description_width": "initial"
      }
     },
     "264eb5ca498b4f00bab4fd79999c2181": {
      "model_module": "@jupyter-widgets/controls",
      "model_module_version": "1.2.0",
      "model_name": "ToggleButtonsStyleModel",
      "state": {
       "button_width": "",
       "description_width": "initial"
      }
     },
     "266ac184081a4ffe9d9ad121565600a1": {
      "model_module": "@jupyter-widgets/base",
      "model_module_version": "1.0.0",
      "model_name": "LayoutModel",
      "state": {}
     },
     "2744a9a4245e4ce392b7da3458773886": {
      "model_module": "@jupyter-widgets/base",
      "model_module_version": "1.0.0",
      "model_name": "LayoutModel",
      "state": {
       "height": "80px",
       "width": "70%"
      }
     },
     "274d04bcf93e429d9cc72981ef262820": {
      "model_module": "@jupyter-widgets/controls",
      "model_module_version": "1.2.0",
      "model_name": "DescriptionStyleModel",
      "state": {
       "description_width": ""
      }
     },
     "27923732d28842fb833d024bd04ffcef": {
      "model_module": "@jupyter-widgets/controls",
      "model_module_version": "1.2.0",
      "model_name": "ToggleButtonsStyleModel",
      "state": {
       "button_width": "",
       "description_width": "initial"
      }
     },
     "27ef84e5420642d9b33e32f6bc1e5da1": {
      "model_module": "@jupyter-widgets/controls",
      "model_module_version": "1.2.0",
      "model_name": "TextModel",
      "state": {
       "description": "Island Size Thresh:",
       "layout": "IPY_MODEL_2e4c0909af51453fbd5352f3bd7b63a1",
       "placeholder": "Type a island thresh",
       "style": "IPY_MODEL_a9a77687b84b4893a550942d58efb7bc",
       "value": "5000"
      }
     },
     "280e70524b2c4487b22c78d4cb7e10cc": {
      "model_module": "@jupyter-widgets/controls",
      "model_module_version": "1.2.0",
      "model_name": "ButtonModel",
      "state": {
       "description": "Update Plot",
       "icon": "check",
       "layout": "IPY_MODEL_a5aee77e9be945e6bf97c2cc42c614ae",
       "style": "IPY_MODEL_7e4d73ac38f24f84a00c081267fce9e4",
       "tooltip": "Update Plot"
      }
     },
     "288060d3e82c4d9e995a8e6eb516dbd6": {
      "model_module": "@jupyter-widgets/controls",
      "model_module_version": "1.2.0",
      "model_name": "DescriptionStyleModel",
      "state": {
       "description_width": "initial"
      }
     },
     "288c77d0130d4650b1d94ad829f27b9c": {
      "model_module": "@jupyter-widgets/controls",
      "model_module_version": "1.2.0",
      "model_name": "SliderStyleModel",
      "state": {
       "description_width": "initial"
      }
     },
     "28a6418d2bad41238c4a69d1ba96f409": {
      "model_module": "@jupyter-widgets/base",
      "model_module_version": "1.0.0",
      "model_name": "LayoutModel",
      "state": {}
     },
     "28cbbbd7562949e9b7d3fdfe10d54ba4": {
      "model_module": "@jupyter-widgets/controls",
      "model_module_version": "1.2.0",
      "model_name": "DescriptionStyleModel",
      "state": {
       "description_width": "initial"
      }
     },
     "28f913c3920948f0bcc9aea000849396": {
      "model_module": "@jupyter-widgets/controls",
      "model_module_version": "1.2.0",
      "model_name": "ButtonStyleModel",
      "state": {}
     },
     "294f9b5e068f4c6bb977afd48aa22cd7": {
      "model_module": "@jupyter-widgets/controls",
      "model_module_version": "1.2.0",
      "model_name": "DropdownModel",
      "state": {
       "_options_labels": [
        "capacity",
        "alphabetical"
       ],
       "description": "Sort Legend By:",
       "index": 0,
       "layout": "IPY_MODEL_efec90a7596e4dcf87ce9e92e30d8a11",
       "style": "IPY_MODEL_2f9b60c27e0e41fbb1c6a2e7b33862ec"
      }
     },
     "29add54988604a7999b603dd9cb7d054": {
      "model_module": "@jupyter-widgets/controls",
      "model_module_version": "1.2.0",
      "model_name": "TextModel",
      "state": {
       "description": "Country Name:",
       "layout": "IPY_MODEL_12e0922dd6844b0badf0173a79d455ba",
       "placeholder": "Type a country name",
       "style": "IPY_MODEL_a93b116b59be4920bb2e511b49aa7f77",
       "value": "India"
      }
     },
     "29b11690dd9f48ddaacc00a838e3aed8": {
      "model_module": "@jupyter-widgets/base",
      "model_module_version": "1.0.0",
      "model_name": "LayoutModel",
      "state": {}
     },
     "29d3e64748bf48148710bb6aa8adbfff": {
      "model_module": "@jupyter-widgets/controls",
      "model_module_version": "1.2.0",
      "model_name": "DescriptionStyleModel",
      "state": {
       "description_width": ""
      }
     },
     "2a3164795ea544ecb3999fe612ee5414": {
      "model_module": "@jupyter-widgets/base",
      "model_module_version": "1.0.0",
      "model_name": "LayoutModel",
      "state": {
       "height": "80px",
       "width": "70%"
      }
     },
     "2a5273cb02a1405c97af99110189e7d6": {
      "model_module": "@jupyter-widgets/controls",
      "model_module_version": "1.2.0",
      "model_name": "SliderStyleModel",
      "state": {
       "description_width": "initial"
      }
     },
     "2a7abfe0461a45c19e07e9062ec396b6": {
      "model_module": "@jupyter-widgets/controls",
      "model_module_version": "1.2.0",
      "model_name": "RadioButtonsModel",
      "state": {
       "_options_labels": [
        "True",
        "False"
       ],
       "description": "Title On:",
       "index": 0,
       "layout": "IPY_MODEL_6c0e9c7733b3431d8c1505eb2754cb6f",
       "style": "IPY_MODEL_83a1bb82708549718ddfe67dd878390b"
      }
     },
     "2aacc748de1345e19b508d83be0b8d4e": {
      "model_module": "@jupyter-widgets/base",
      "model_module_version": "1.0.0",
      "model_name": "LayoutModel",
      "state": {
       "height": "80px",
       "width": "70%"
      }
     },
     "2aea0746ef12438da44b1095ea8889e7": {
      "model_module": "@jupyter-widgets/controls",
      "model_module_version": "1.2.0",
      "model_name": "ButtonStyleModel",
      "state": {}
     },
     "2b6bcf71909143c59b6215f8f209b9ab": {
      "model_module": "@jupyter-widgets/controls",
      "model_module_version": "1.2.0",
      "model_name": "RadioButtonsModel",
      "state": {
       "_options_labels": [
        "True",
        "False"
       ],
       "description": "Source On:",
       "index": 0,
       "layout": "IPY_MODEL_38b3ae319a25443db3430c8484d39efd",
       "style": "IPY_MODEL_a3053ac4dc474a35bfaa08902b8df08c"
      }
     },
     "2bafa6351b9045a2a9bf212871912c7e": {
      "model_module": "@jupyter-widgets/controls",
      "model_module_version": "1.2.0",
      "model_name": "IntSliderModel",
      "state": {
       "continuous_update": false,
       "description": "Number of Legend Columns:",
       "layout": "IPY_MODEL_73c61e62236546379381715c89153640",
       "max": 3,
       "min": 1,
       "style": "IPY_MODEL_a8af5a4db811411db959cbfd18d59ad6",
       "value": 1
      }
     },
     "2bb02a1adcd64f2ab9de86f214b0e4d5": {
      "model_module": "@jupyter-widgets/controls",
      "model_module_version": "1.2.0",
      "model_name": "DescriptionStyleModel",
      "state": {
       "description_width": "initial"
      }
     },
     "2bed295554ad4e8fa3c0a8ce7917c1aa": {
      "model_module": "@jupyter-widgets/base",
      "model_module_version": "1.0.0",
      "model_name": "LayoutModel",
      "state": {
       "height": "80px",
       "width": "70%"
      }
     },
     "2c5c3575d41b4722b6eda80196399edd": {
      "model_module": "@jupyter-widgets/controls",
      "model_module_version": "1.2.0",
      "model_name": "DescriptionStyleModel",
      "state": {
       "description_width": "initial"
      }
     },
     "2c7e6690c2e94e2daf27aa5a0cc9150a": {
      "model_module": "@jupyter-widgets/base",
      "model_module_version": "1.0.0",
      "model_name": "LayoutModel",
      "state": {}
     },
     "2c9b5a54fcde4bd9ac04673be88f948f": {
      "model_module": "@jupyter-widgets/base",
      "model_module_version": "1.0.0",
      "model_name": "LayoutModel",
      "state": {}
     },
     "2cceffdd72c144a7a01632b153a66613": {
      "model_module": "@jupyter-widgets/controls",
      "model_module_version": "1.2.0",
      "model_name": "TextModel",
      "state": {
       "description": "Path to save to:",
       "layout": "IPY_MODEL_b2602dc773cc4d6c85a1941d24befb80",
       "placeholder": "Type the complete path to save to",
       "style": "IPY_MODEL_0d0710a4eef64b13a4b5b359ccae9602",
       "value": "/Users/skoebric/Downloads/XYZ.png"
      }
     },
     "2d337731ad6d4ce982133ff41156943a": {
      "model_module": "@jupyter-widgets/controls",
      "model_module_version": "1.2.0",
      "model_name": "DropdownModel",
      "state": {
       "_options_labels": [
        "capacity",
        "alphabetical"
       ],
       "description": "Sort Legend By:",
       "index": 0,
       "layout": "IPY_MODEL_b3bb7b926b324118b0e816f0d75a850e",
       "style": "IPY_MODEL_719b507434654aab9e606d91144e312a"
      }
     },
     "2d4c8d9240dd4db384a264898f125769": {
      "model_module": "@jupyter-widgets/base",
      "model_module_version": "1.0.0",
      "model_name": "LayoutModel",
      "state": {}
     },
     "2d8014c48b5a4740b47b895f621dc9a1": {
      "model_module": "@jupyter-widgets/controls",
      "model_module_version": "1.2.0",
      "model_name": "ButtonStyleModel",
      "state": {}
     },
     "2da0146bb4f540b3a214b2144e5caf2c": {
      "model_module": "@jupyter-widgets/controls",
      "model_module_version": "1.2.0",
      "model_name": "TextModel",
      "state": {
       "description": "Path to save to:",
       "layout": "IPY_MODEL_42a008bd4ee1484d86cdca8f08339b36",
       "placeholder": "Type the complete path to save to",
       "style": "IPY_MODEL_0c58bff1bfc04203af16f1e85a6c01c4",
       "value": "/Users/skoebric/Downloads/XYZ.png"
      }
     },
     "2dbb5657ff7a40d28d64070e1974037d": {
      "model_module": "@jupyter-widgets/controls",
      "model_module_version": "1.2.0",
      "model_name": "DescriptionStyleModel",
      "state": {
       "description_width": "initial"
      }
     },
     "2e2027dcfad842f383e31fcb5dda4655": {
      "model_module": "@jupyter-widgets/base",
      "model_module_version": "1.0.0",
      "model_name": "LayoutModel",
      "state": {}
     },
     "2e2a9a1fc3f5406bb2d6d79e4998473d": {
      "model_module": "@jupyter-widgets/controls",
      "model_module_version": "1.2.0",
      "model_name": "TextModel",
      "state": {
       "description": "Coordinate System:",
       "layout": "IPY_MODEL_74556d23560749cd83b628ca17c17a03",
       "placeholder": "Type something",
       "style": "IPY_MODEL_f84040bc3716473781a18b5d45ed7a9a",
       "value": "spherical"
      }
     },
     "2e4c0909af51453fbd5352f3bd7b63a1": {
      "model_module": "@jupyter-widgets/base",
      "model_module_version": "1.0.0",
      "model_name": "LayoutModel",
      "state": {}
     },
     "2e67e284122e45f38820600135fbe5bc": {
      "model_module": "@jupyter-widgets/controls",
      "model_module_version": "1.2.0",
      "model_name": "DescriptionStyleModel",
      "state": {
       "description_width": ""
      }
     },
     "2e70ceb529b94e07988a85647dc39de1": {
      "model_module": "@jupyter-widgets/controls",
      "model_module_version": "1.2.0",
      "model_name": "ButtonModel",
      "state": {
       "description": "Update Plot",
       "icon": "check",
       "layout": "IPY_MODEL_f1be5247a81f44d9b555bdd629227d9e",
       "style": "IPY_MODEL_7737918c06004642a341382f0e725dda",
       "tooltip": "Update Plot"
      }
     },
     "2f18e878c9b541dab027f24ce3fc8e38": {
      "model_module": "@jupyter-widgets/controls",
      "model_module_version": "1.2.0",
      "model_name": "IntSliderModel",
      "state": {
       "continuous_update": false,
       "description": "DPI (resolution):",
       "layout": "IPY_MODEL_266ac184081a4ffe9d9ad121565600a1",
       "max": 500,
       "min": 100,
       "style": "IPY_MODEL_242a44fc5f814b96a94b5a8111cb9d32",
       "value": 300
      }
     },
     "2f2d508ad25346fea80e9d8de7c998fe": {
      "model_module": "@jupyter-widgets/base",
      "model_module_version": "1.0.0",
      "model_name": "LayoutModel",
      "state": {}
     },
     "2f60981103c64b1284a7c6df3db435ea": {
      "model_module": "@jupyter-widgets/controls",
      "model_module_version": "1.2.0",
      "model_name": "TextModel",
      "state": {
       "description": "Country Precursor:",
       "layout": "IPY_MODEL_930433d00e4e467aa5d7e2a9bf519a68",
       "placeholder": "Precursor to Country Name",
       "style": "IPY_MODEL_ca829e71cbe04177a4a5c4aed50b270c"
      }
     },
     "2f6629529078457db334226140d36d61": {
      "model_module": "@jupyter-widgets/base",
      "model_module_version": "1.0.0",
      "model_name": "LayoutModel",
      "state": {}
     },
     "2f9b60c27e0e41fbb1c6a2e7b33862ec": {
      "model_module": "@jupyter-widgets/controls",
      "model_module_version": "1.2.0",
      "model_name": "DescriptionStyleModel",
      "state": {
       "description_width": "initial"
      }
     },
     "2fc97ffe1b454c87b90218cf52aa4138": {
      "model_module": "@jupyter-widgets/controls",
      "model_module_version": "1.2.0",
      "model_name": "TextModel",
      "state": {
       "description": "Show Populated Places:",
       "layout": "IPY_MODEL_bbcbaf8962f849248fbf21cc15737f84",
       "placeholder": "Type something",
       "style": "IPY_MODEL_b456539470ff45718b750450b197834c",
       "value": "False"
      }
     },
     "2fe415dc7de54d6190176de0a7175b33": {
      "model_module": "@jupyter-widgets/controls",
      "model_module_version": "1.2.0",
      "model_name": "DescriptionStyleModel",
      "state": {
       "description_width": "initial"
      }
     },
     "30d6471269fc40a1a4f860fdfc8b610e": {
      "model_module": "@jupyter-widgets/base",
      "model_module_version": "1.0.0",
      "model_name": "LayoutModel",
      "state": {}
     },
     "3125f5cd27a7450c98c9f988dd85cb7f": {
      "model_module": "@jupyter-widgets/controls",
      "model_module_version": "1.2.0",
      "model_name": "DropdownModel",
      "state": {
       "_options_labels": [
        "capacity",
        "alphabetical"
       ],
       "description": "Sort Legend By:",
       "index": 0,
       "layout": "IPY_MODEL_49bd67dc24854b889918a23b15b00f85",
       "style": "IPY_MODEL_a750b2ac585544419b8e637c8e885f82"
      }
     },
     "31350430751643e5814fc8980af761cc": {
      "model_module": "@jupyter-widgets/controls",
      "model_module_version": "1.2.0",
      "model_name": "TextModel",
      "state": {
       "description": "Coordinate System:",
       "layout": "IPY_MODEL_53d81026ac3646c2814129596f41f012",
       "placeholder": "Type something",
       "style": "IPY_MODEL_ef32c488276b4ee49436f14c7eb80224",
       "value": "spherical"
      }
     },
     "3276b1fac15245f89458fd34b4456117": {
      "model_module": "@jupyter-widgets/controls",
      "model_module_version": "1.2.0",
      "model_name": "ButtonModel",
      "state": {
       "description": "Update Plot",
       "icon": "check",
       "layout": "IPY_MODEL_fbef8c4c9b4b46b3acf050564b45be5e",
       "style": "IPY_MODEL_914edea9d2444b79a2e5aaa0cf90343f",
       "tooltip": "Update Plot"
      }
     },
     "32813d718b8b4877b22465b9545b86de": {
      "model_module": "@jupyter-widgets/controls",
      "model_module_version": "1.2.0",
      "model_name": "DescriptionStyleModel",
      "state": {
       "description_width": ""
      }
     },
     "3294e7b317744b7e9c1507895e98ad3d": {
      "model_module": "@jupyter-widgets/base",
      "model_module_version": "1.0.0",
      "model_name": "LayoutModel",
      "state": {}
     },
     "329b3dcff7b64629a5001a80160ba4bb": {
      "model_module": "@jupyter-widgets/base",
      "model_module_version": "1.0.0",
      "model_name": "LayoutModel",
      "state": {}
     },
     "32eee66133bd4c23850aa6981c02dd25": {
      "model_module": "@jupyter-widgets/controls",
      "model_module_version": "1.2.0",
      "model_name": "SliderStyleModel",
      "state": {
       "description_width": "initial"
      }
     },
     "337621efd13740bc8f8f8cd9b5783c68": {
      "model_module": "@jupyter-widgets/base",
      "model_module_version": "1.0.0",
      "model_name": "LayoutModel",
      "state": {}
     },
     "3393bdca9acd4a3aa9db45edbc8da76e": {
      "model_module": "@jupyter-widgets/controls",
      "model_module_version": "1.2.0",
      "model_name": "TextModel",
      "state": {
       "description": "Country Name:",
       "layout": "IPY_MODEL_18e37dd631e84d1c8a1572e0227ca2f5",
       "placeholder": "Type a country name",
       "style": "IPY_MODEL_537f1bd0e2ad45e9b841ecf61c980f2f",
       "value": "India"
      }
     },
     "339ee14ddd864efabafa4777e196b00d": {
      "model_module": "@jupyter-widgets/controls",
      "model_module_version": "1.2.0",
      "model_name": "DescriptionStyleModel",
      "state": {
       "description_width": "initial"
      }
     },
     "34014df9fcdc47df8e33f6b7b35b0974": {
      "model_module": "@jupyter-widgets/controls",
      "model_module_version": "1.2.0",
      "model_name": "TextModel",
      "state": {
       "description": "Show Populated Places:",
       "layout": "IPY_MODEL_109d31f70ca84d888591250c0905c01c",
       "placeholder": "Type something",
       "style": "IPY_MODEL_16b0c417099e4e1fb9797faaf460cdab",
       "value": "False"
      }
     },
     "3455a7b0455e4fcdab8fec810f05b67c": {
      "model_module": "@jupyter-widgets/controls",
      "model_module_version": "1.2.0",
      "model_name": "SliderStyleModel",
      "state": {
       "description_width": "initial"
      }
     },
     "34e9edea2dff4ec7b7718a1e90f3e475": {
      "model_module": "@jupyter-widgets/controls",
      "model_module_version": "1.2.0",
      "model_name": "ToggleButtonsStyleModel",
      "state": {
       "button_width": "",
       "description_width": "initial"
      }
     },
     "358b85675660437d91780d8aa0097a00": {
      "model_module": "@jupyter-widgets/base",
      "model_module_version": "1.0.0",
      "model_name": "LayoutModel",
      "state": {}
     },
     "366cec21c9064cc4b475d2ab927a07f7": {
      "model_module": "@jupyter-widgets/controls",
      "model_module_version": "1.2.0",
      "model_name": "IntSliderModel",
      "state": {
       "continuous_update": false,
       "description": "DPI (resolution):",
       "layout": "IPY_MODEL_591839c9b4f141d5a28d4cf3452b40c6",
       "max": 500,
       "min": 100,
       "style": "IPY_MODEL_9afbc86f13914158a03d293a830ee70d",
       "value": 300
      }
     },
     "36aa9788b34a48528759cef84d66e7e8": {
      "model_module": "@jupyter-widgets/controls",
      "model_module_version": "1.2.0",
      "model_name": "ToggleButtonsStyleModel",
      "state": {
       "button_width": "",
       "description_width": "initial"
      }
     },
     "36eae348f7224cb1b05bee38a1c2be8c": {
      "model_module": "@jupyter-widgets/controls",
      "model_module_version": "1.2.0",
      "model_name": "DescriptionStyleModel",
      "state": {
       "description_width": "initial"
      }
     },
     "373ad26c46ca4d96a803580c61f4b6ea": {
      "model_module": "@jupyter-widgets/controls",
      "model_module_version": "1.2.0",
      "model_name": "RadioButtonsModel",
      "state": {
       "_options_labels": [
        "True",
        "False"
       ],
       "description": "Source On:",
       "index": 0,
       "layout": "IPY_MODEL_29b11690dd9f48ddaacc00a838e3aed8",
       "style": "IPY_MODEL_7f5c2c2769ff4e2596c2b3b525fe71bd"
      }
     },
     "373e70998f9a4b2ea5f2faaa3c07a132": {
      "model_module": "@jupyter-widgets/controls",
      "model_module_version": "1.2.0",
      "model_name": "SliderStyleModel",
      "state": {
       "description_width": "initial"
      }
     },
     "375fcecc1872407f98f0cf7ca4cd416d": {
      "model_module": "@jupyter-widgets/controls",
      "model_module_version": "1.2.0",
      "model_name": "TextModel",
      "state": {
       "description": "Coordinate System:",
       "layout": "IPY_MODEL_e9305f35e0fd483887baf0b326df7b95",
       "placeholder": "Type something",
       "style": "IPY_MODEL_ae3b3f6fbb1a4b26b0ffe7d4b9f72de8",
       "value": "spherical"
      }
     },
     "37a45b38bc39446ca265e135d3f602c1": {
      "model_module": "@jupyter-widgets/controls",
      "model_module_version": "1.2.0",
      "model_name": "IntSliderModel",
      "state": {
       "continuous_update": false,
       "description": "DPI (resolution):",
       "layout": "IPY_MODEL_8b0651bcb3f34a45aee053d8282ca6f7",
       "max": 500,
       "min": 100,
       "style": "IPY_MODEL_23bd409b408a4e63a70c5a3e33c69b16",
       "value": 300
      }
     },
     "381edaaa4aaa4cfa9fcaf0ccd54e9de5": {
      "model_module": "@jupyter-widgets/controls",
      "model_module_version": "1.2.0",
      "model_name": "ToggleButtonsStyleModel",
      "state": {
       "button_width": "",
       "description_width": "initial"
      }
     },
     "38b3ae319a25443db3430c8484d39efd": {
      "model_module": "@jupyter-widgets/base",
      "model_module_version": "1.0.0",
      "model_name": "LayoutModel",
      "state": {}
     },
     "38c9e5de121244a091509240fad715ea": {
      "model_module": "@jupyter-widgets/controls",
      "model_module_version": "1.2.0",
      "model_name": "ToggleButtonsModel",
      "state": {
       "_options_labels": [
        "Simple",
        "Mixed",
        "Complex"
       ],
       "button_style": "",
       "description": "Simplification Level:",
       "icons": [],
       "index": 1,
       "layout": "IPY_MODEL_aa0c8c304fd64d5bbc500e3871d5379e",
       "style": "IPY_MODEL_36aa9788b34a48528759cef84d66e7e8",
       "tooltips": [
        "Renewables, Fossil, and Nuclear",
        "Solar, Wind, Hydro, Geothermal,Biomass, Wave and Tidal,\n Storage, Fossil, Nuclear",
        "Solar, Wind, Hydro, Geothermal,Biomass, Wave and Tidal,\n Storage, Fossil, Nuclear, Coal, Gas, Oil, Waste, Cogeneration"
       ]
      }
     },
     "392d6d93e7e04897afab79bf3498b9d4": {
      "model_module": "@jupyter-widgets/controls",
      "model_module_version": "1.2.0",
      "model_name": "DescriptionStyleModel",
      "state": {
       "description_width": "initial"
      }
     },
     "39314d66a61543e38cbea796106431d2": {
      "model_module": "@jupyter-widgets/controls",
      "model_module_version": "1.2.0",
      "model_name": "TextModel",
      "state": {
       "description": "Country Name:",
       "layout": "IPY_MODEL_06118f99537c4ae08632ff6b629349a0",
       "placeholder": "Type a country name",
       "style": "IPY_MODEL_b94fd70300e24429a98dd2119303d870",
       "value": "India"
      }
     },
     "39d3668eb93e4ae9a594c8b728b1e3ce": {
      "model_module": "@jupyter-widgets/controls",
      "model_module_version": "1.2.0",
      "model_name": "FloatSliderModel",
      "state": {
       "continuous_update": false,
       "description": "Bubble Opacity:",
       "layout": "IPY_MODEL_329b3dcff7b64629a5001a80160ba4bb",
       "max": 1,
       "readout_format": ".1f",
       "step": 0.1,
       "style": "IPY_MODEL_09d63f1c9e914e07b15fd44343ee0c5a",
       "value": 0.5
      }
     },
     "39da3254ff9046c282ac8321bbbebbe9": {
      "model_module": "@jupyter-widgets/base",
      "model_module_version": "1.0.0",
      "model_name": "LayoutModel",
      "state": {}
     },
     "3a219a6c9f5641f581b665e62bc5593c": {
      "model_module": "@jupyter-widgets/controls",
      "model_module_version": "1.2.0",
      "model_name": "FloatSliderModel",
      "state": {
       "continuous_update": false,
       "description": "Zoom Level:",
       "layout": "IPY_MODEL_2229d91b3b144114860bd1a3e8d9486f",
       "max": 3,
       "min": 0.5,
       "readout_format": ".1f",
       "step": 0.1,
       "style": "IPY_MODEL_170eb88a372c4622b038d47f5ef7e7f4",
       "value": 1
      }
     },
     "3a23d1df34f04cdd987e39090f02df11": {
      "model_module": "@jupyter-widgets/controls",
      "model_module_version": "1.2.0",
      "model_name": "SliderStyleModel",
      "state": {
       "description_width": "initial"
      }
     },
     "3a63fdbdd8214cc0b691533658252e18": {
      "model_module": "@jupyter-widgets/controls",
      "model_module_version": "1.2.0",
      "model_name": "DescriptionStyleModel",
      "state": {
       "description_width": "initial"
      }
     },
     "3a9f4e26237d4d80a7056fc43bcd0bba": {
      "model_module": "@jupyter-widgets/base",
      "model_module_version": "1.0.0",
      "model_name": "LayoutModel",
      "state": {}
     },
     "3ac19f4e881245928f26151a525ce171": {
      "model_module": "@jupyter-widgets/controls",
      "model_module_version": "1.2.0",
      "model_name": "SliderStyleModel",
      "state": {
       "description_width": "initial"
      }
     },
     "3b02cbdca733420bb0abb22b3b073d07": {
      "model_module": "@jupyter-widgets/controls",
      "model_module_version": "1.2.0",
      "model_name": "TextModel",
      "state": {
       "description": "Show Populated Places:",
       "layout": "IPY_MODEL_d4ad19b8a2f04f589aa20a7ccc92ac75",
       "placeholder": "Type something",
       "style": "IPY_MODEL_9ab1fe573e8445949f69aa4030771271",
       "value": "False"
      }
     },
     "3bb1357ecb26479e8d311fd1a7d3123c": {
      "model_module": "@jupyter-widgets/controls",
      "model_module_version": "1.2.0",
      "model_name": "TextModel",
      "state": {
       "description": "Path to save to:",
       "layout": "IPY_MODEL_4e3a21b319924026b3c8eac6f7e02932",
       "placeholder": "Type the complete path to save to",
       "style": "IPY_MODEL_db0e0be6bce145bb8f7504d04e446c73",
       "value": "/Users/skoebric/Downloads/XYZ.png"
      }
     },
     "3bcdc2e9071e47f6b59fef3edfba57ad": {
      "model_module": "@jupyter-widgets/controls",
      "model_module_version": "1.2.0",
      "model_name": "DescriptionStyleModel",
      "state": {
       "description_width": "initial"
      }
     },
     "3bd709e19d6b403a9141997cf49a334b": {
      "model_module": "@jupyter-widgets/controls",
      "model_module_version": "1.2.0",
      "model_name": "ToggleButtonsModel",
      "state": {
       "_options_labels": [
        "Simple",
        "Mixed",
        "Complex"
       ],
       "button_style": "",
       "description": "Simplification Level:",
       "icons": [],
       "index": 1,
       "layout": "IPY_MODEL_a8989658fb2c4b2184ef232094269785",
       "style": "IPY_MODEL_20a0e8e6329c4f89aaa66ba7c2ae500c",
       "tooltips": [
        "Renewables, Fossil, and Nuclear",
        "Solar, Wind, Hydro, Geothermal,Biomass, Wave and Tidal,\n Storage, Fossil, Nuclear",
        "Solar, Wind, Hydro, Geothermal,Biomass, Wave and Tidal,\n Storage, Fossil, Nuclear, Coal, Gas, Oil, Waste, Cogeneration"
       ]
      }
     },
     "3be8ca91e55846d580591fe5ca605939": {
      "model_module": "@jupyter-widgets/base",
      "model_module_version": "1.0.0",
      "model_name": "LayoutModel",
      "state": {}
     },
     "3bf6e31885ee4afeafec97f2f5f3953e": {
      "model_module": "@jupyter-widgets/base",
      "model_module_version": "1.0.0",
      "model_name": "LayoutModel",
      "state": {}
     },
     "3c524ba768e44724a48be3a1fc998a8f": {
      "model_module": "@jupyter-widgets/controls",
      "model_module_version": "1.2.0",
      "model_name": "FloatSliderModel",
      "state": {
       "continuous_update": false,
       "description": "Bubble Opacity:",
       "layout": "IPY_MODEL_ba8f446e4041414098dd3a33af91dd51",
       "max": 1,
       "readout_format": ".1f",
       "step": 0.1,
       "style": "IPY_MODEL_79d03f3abf1f43c8b341fd3630893899",
       "value": 0.5
      }
     },
     "3c57055b40df44d3bae5c673fd9d6b0d": {
      "model_module": "@jupyter-widgets/base",
      "model_module_version": "1.0.0",
      "model_name": "LayoutModel",
      "state": {}
     },
     "3c94099d48ab42ca84dc4a23626e1468": {
      "model_module": "@jupyter-widgets/controls",
      "model_module_version": "1.2.0",
      "model_name": "ButtonStyleModel",
      "state": {}
     },
     "3c96f40bfe404913bb8a556bc94eceb5": {
      "model_module": "@jupyter-widgets/controls",
      "model_module_version": "1.2.0",
      "model_name": "FloatSliderModel",
      "state": {
       "continuous_update": false,
       "description": "Zoom Level:",
       "layout": "IPY_MODEL_dbbfa7595efb435a920d2df2c4ed014f",
       "max": 3,
       "min": 0.5,
       "readout_format": ".1f",
       "step": 0.1,
       "style": "IPY_MODEL_d125a30ae17d43409f6d391ec5d09566",
       "value": 1.5
      }
     },
     "3ca480bca4ff411dbd12be7919d1794d": {
      "model_module": "@jupyter-widgets/controls",
      "model_module_version": "1.2.0",
      "model_name": "SliderStyleModel",
      "state": {
       "description_width": "initial"
      }
     },
     "3cafe9e87f1b431b9eb0e873414f5be7": {
      "model_module": "@jupyter-widgets/controls",
      "model_module_version": "1.2.0",
      "model_name": "SliderStyleModel",
      "state": {
       "description_width": "initial"
      }
     },
     "3ce25d4b89904195985c5a22c00a3658": {
      "model_module": "@jupyter-widgets/base",
      "model_module_version": "1.0.0",
      "model_name": "LayoutModel",
      "state": {}
     },
     "3d51e0f1fc6b414fa8ad6bd5d0351d49": {
      "model_module": "@jupyter-widgets/controls",
      "model_module_version": "1.2.0",
      "model_name": "TextModel",
      "state": {
       "description": "Country Precursor:",
       "layout": "IPY_MODEL_803e919c674e4c4da6d309aaa366c2e8",
       "placeholder": "Precursor to Country Name",
       "style": "IPY_MODEL_392d6d93e7e04897afab79bf3498b9d4"
      }
     },
     "3dd102149f174e368ddc81c151e6284a": {
      "model_module": "@jupyter-widgets/controls",
      "model_module_version": "1.2.0",
      "model_name": "DescriptionStyleModel",
      "state": {
       "description_width": "initial"
      }
     },
     "3e0962b637c642c69ec1d883f0dcef82": {
      "model_module": "@jupyter-widgets/controls",
      "model_module_version": "1.2.0",
      "model_name": "TextModel",
      "state": {
       "description": "Show Populated Places:",
       "layout": "IPY_MODEL_1c32c0f068db4867b791f1e9e4d6b95b",
       "placeholder": "Type something",
       "style": "IPY_MODEL_42603aeaaf444730807aaac95f45d46a",
       "value": "False"
      }
     },
     "3e2987f989e8407db1502c1b282e670d": {
      "model_module": "@jupyter-widgets/controls",
      "model_module_version": "1.2.0",
      "model_name": "TextModel",
      "state": {
       "description": "Show Populated Places:",
       "layout": "IPY_MODEL_d7a0bf6b67d6433b840f2e55e595a447",
       "placeholder": "Type something",
       "style": "IPY_MODEL_10680869c8764e4b973a1f02759afb6b",
       "value": "False"
      }
     },
     "3f4638dc468a46d1a9b08b786c98bc02": {
      "model_module": "@jupyter-widgets/controls",
      "model_module_version": "1.2.0",
      "model_name": "FloatSliderModel",
      "state": {
       "continuous_update": false,
       "description": "Bubble Opacity:",
       "layout": "IPY_MODEL_eaeac9182ae84920902d6fff016ce678",
       "max": 1,
       "readout_format": ".1f",
       "step": 0.1,
       "style": "IPY_MODEL_57ffcee2fe574257854e56bfb297757a",
       "value": 0.5
      }
     },
     "3f50e791dfe84c56971a0e3510ab2462": {
      "model_module": "@jupyter-widgets/base",
      "model_module_version": "1.0.0",
      "model_name": "LayoutModel",
      "state": {}
     },
     "3f7608e3993a4c56a695280557020ffe": {
      "model_module": "@jupyter-widgets/base",
      "model_module_version": "1.0.0",
      "model_name": "LayoutModel",
      "state": {}
     },
     "404fa7aea082404abab4644e4b45f57d": {
      "model_module": "@jupyter-widgets/base",
      "model_module_version": "1.0.0",
      "model_name": "LayoutModel",
      "state": {}
     },
     "40c9e9c61a9d49d988156905625739cc": {
      "model_module": "@jupyter-widgets/controls",
      "model_module_version": "1.2.0",
      "model_name": "DescriptionStyleModel",
      "state": {
       "description_width": "initial"
      }
     },
     "40d16b65d8df44c4b895c47fa60b5ba9": {
      "model_module": "@jupyter-widgets/base",
      "model_module_version": "1.0.0",
      "model_name": "LayoutModel",
      "state": {}
     },
     "40dc94a95601491abcf844dd11888759": {
      "model_module": "@jupyter-widgets/controls",
      "model_module_version": "1.2.0",
      "model_name": "TextModel",
      "state": {
       "description": "Island Size Thresh:",
       "layout": "IPY_MODEL_e02b352a68e3494690944d946eb06533",
       "placeholder": "Type a island thresh",
       "style": "IPY_MODEL_5f935645e5e94ff19184979a212d8143",
       "value": "5000"
      }
     },
     "4124c7dc4bb44a1582f74b08eb13ee88": {
      "model_module": "@jupyter-widgets/controls",
      "model_module_version": "1.2.0",
      "model_name": "TextModel",
      "state": {
       "description": "Country Precursor:",
       "layout": "IPY_MODEL_2f2d508ad25346fea80e9d8de7c998fe",
       "placeholder": "Precursor to Country Name",
       "style": "IPY_MODEL_d4b353a6457a4d68a1d38e9c30a0cbbc"
      }
     },
     "421ce2c74ee84abfb76a8f091158fcc0": {
      "model_module": "@jupyter-widgets/controls",
      "model_module_version": "1.2.0",
      "model_name": "DescriptionStyleModel",
      "state": {
       "description_width": "initial"
      }
     },
     "422a67d6f82449c5881680c31f8d43ff": {
      "model_module": "@jupyter-widgets/base",
      "model_module_version": "1.0.0",
      "model_name": "LayoutModel",
      "state": {}
     },
     "4231ce3932e4443991c96252087d6691": {
      "model_module": "@jupyter-widgets/controls",
      "model_module_version": "1.2.0",
      "model_name": "TextModel",
      "state": {
       "description": "Country Precursor:",
       "layout": "IPY_MODEL_0d96b0589ceb49508c42f9950a7f7311",
       "placeholder": "Precursor to Country Name",
       "style": "IPY_MODEL_2bb02a1adcd64f2ab9de86f214b0e4d5"
      }
     },
     "42603aeaaf444730807aaac95f45d46a": {
      "model_module": "@jupyter-widgets/controls",
      "model_module_version": "1.2.0",
      "model_name": "DescriptionStyleModel",
      "state": {
       "description_width": "initial"
      }
     },
     "42657007b7114e6b837670dfae32e3e7": {
      "model_module": "@jupyter-widgets/controls",
      "model_module_version": "1.2.0",
      "model_name": "DescriptionStyleModel",
      "state": {
       "description_width": ""
      }
     },
     "42a008bd4ee1484d86cdca8f08339b36": {
      "model_module": "@jupyter-widgets/base",
      "model_module_version": "1.0.0",
      "model_name": "LayoutModel",
      "state": {}
     },
     "42f460ffb9c24cc7a456fe7aa6cd1351": {
      "model_module": "@jupyter-widgets/controls",
      "model_module_version": "1.2.0",
      "model_name": "SliderStyleModel",
      "state": {
       "description_width": "initial"
      }
     },
     "4327de5775234d0087fde8595b173f01": {
      "model_module": "@jupyter-widgets/controls",
      "model_module_version": "1.2.0",
      "model_name": "ButtonStyleModel",
      "state": {}
     },
     "432a103699904db7963d0a9bbc7e17f2": {
      "model_module": "@jupyter-widgets/controls",
      "model_module_version": "1.2.0",
      "model_name": "ButtonModel",
      "state": {
       "description": "Update Plot",
       "icon": "check",
       "layout": "IPY_MODEL_07d4e4a18cc346ce93b9a10849d918d9",
       "style": "IPY_MODEL_5db54fa15a92462eaef5fb688a8e939b",
       "tooltip": "Update Plot"
      }
     },
     "432bb2514cae4ed281f36b143a7325e0": {
      "model_module": "@jupyter-widgets/controls",
      "model_module_version": "1.2.0",
      "model_name": "RadioButtonsModel",
      "state": {
       "_options_labels": [
        "True",
        "False"
       ],
       "description": "Title On:",
       "index": 0,
       "layout": "IPY_MODEL_850346a028ab4871a22e8cd25b3b35db",
       "style": "IPY_MODEL_32813d718b8b4877b22465b9545b86de"
      }
     },
     "43c0776b576542c9b0b0b5e04f3f7c57": {
      "model_module": "@jupyter-widgets/controls",
      "model_module_version": "1.2.0",
      "model_name": "RadioButtonsModel",
      "state": {
       "_options_labels": [
        "True",
        "False"
       ],
       "description": "Title On:",
       "index": 0,
       "layout": "IPY_MODEL_05b1dde4066f47d6becce585e4d4ab42",
       "style": "IPY_MODEL_88a3122b6f3848c2a2f6e91a5eaedca0"
      }
     },
     "43d02a41bd7a4de4992b058737b6302f": {
      "model_module": "@jupyter-widgets/controls",
      "model_module_version": "1.2.0",
      "model_name": "TextModel",
      "state": {
       "description": "Path to save to:",
       "layout": "IPY_MODEL_7d8d5133f57346deb21974a0a242f2ee",
       "placeholder": "Type the complete path to save to",
       "style": "IPY_MODEL_a723d99706924ff7a0ca2a6ef05b9924",
       "value": "/Users/skoebric/Downloads/XYZ.png"
      }
     },
     "43d62ef7e5de4d448fca63f50f5d0f21": {
      "model_module": "@jupyter-widgets/base",
      "model_module_version": "1.0.0",
      "model_name": "LayoutModel",
      "state": {}
     },
     "441bc17789cb4a4580509a58f94ad4ce": {
      "model_module": "@jupyter-widgets/controls",
      "model_module_version": "1.2.0",
      "model_name": "RadioButtonsModel",
      "state": {
       "_options_labels": [
        "True",
        "False"
       ],
       "description": "Source On:",
       "index": 0,
       "layout": "IPY_MODEL_337621efd13740bc8f8f8cd9b5783c68",
       "style": "IPY_MODEL_5f6faf4b6d8d42fa8c2672d7397d80bf"
      }
     },
     "44346589414645859369b5e1fa42d0c7": {
      "model_module": "@jupyter-widgets/controls",
      "model_module_version": "1.2.0",
      "model_name": "FloatSliderModel",
      "state": {
       "continuous_update": false,
       "description": "Bubble Opacity:",
       "layout": "IPY_MODEL_c9d44f8ba4694d58ad8f1389c8e98fee",
       "max": 1,
       "readout_format": ".1f",
       "step": 0.1,
       "style": "IPY_MODEL_913e1a4e88e04142b158f48560f047b0",
       "value": 0.5
      }
     },
     "4464bf6a161c4da2a3bdeb51b9c2236f": {
      "model_module": "@jupyter-widgets/controls",
      "model_module_version": "1.2.0",
      "model_name": "IntSliderModel",
      "state": {
       "continuous_update": false,
       "description": "DPI (resolution):",
       "layout": "IPY_MODEL_e049d766137c40259284a47d021bc3e9",
       "max": 500,
       "min": 100,
       "style": "IPY_MODEL_e3e4a53d72db43b18f5cbeaa4cb3e88e",
       "value": 300
      }
     },
     "44a227bc72664797a8a007e8abbbac91": {
      "model_module": "@jupyter-widgets/controls",
      "model_module_version": "1.2.0",
      "model_name": "IntSliderModel",
      "state": {
       "continuous_update": false,
       "description": "DPI (resolution):",
       "layout": "IPY_MODEL_82035f79afbc4637b0bce9a88d290b03",
       "max": 500,
       "min": 100,
       "style": "IPY_MODEL_4d8d72b2631841e598ffc8304fabd4ec",
       "value": 300
      }
     },
     "44db9351f5b24a118a8d9b80d4cd7037": {
      "model_module": "@jupyter-widgets/controls",
      "model_module_version": "1.2.0",
      "model_name": "DescriptionStyleModel",
      "state": {
       "description_width": "initial"
      }
     },
     "45145fd840e343269f4298bcfcaff6b5": {
      "model_module": "@jupyter-widgets/controls",
      "model_module_version": "1.2.0",
      "model_name": "ButtonStyleModel",
      "state": {}
     },
     "451487319fec4505bf6313eb0d592d6b": {
      "model_module": "@jupyter-widgets/controls",
      "model_module_version": "1.2.0",
      "model_name": "TextModel",
      "state": {
       "description": "Island Size Thresh:",
       "layout": "IPY_MODEL_48bf1199c90c4b2ebc700328b1a50510",
       "placeholder": "Type a island thresh",
       "style": "IPY_MODEL_c87435d397a34ba89a47fafe87401d0d",
       "value": "5000"
      }
     },
     "45693c972b784eada25056ffd580f9be": {
      "model_module": "@jupyter-widgets/base",
      "model_module_version": "1.0.0",
      "model_name": "LayoutModel",
      "state": {}
     },
     "45745b9fd8744720aafc048fdb42536b": {
      "model_module": "@jupyter-widgets/base",
      "model_module_version": "1.0.0",
      "model_name": "LayoutModel",
      "state": {}
     },
     "46278d5b091c4166b3984f0c245bad2d": {
      "model_module": "@jupyter-widgets/controls",
      "model_module_version": "1.2.0",
      "model_name": "TextModel",
      "state": {
       "description": "Path to save to:",
       "layout": "IPY_MODEL_7ddc92e61fbc4f82990fbe5d0bb632c6",
       "placeholder": "Type the complete path to save to",
       "style": "IPY_MODEL_a0167f6a4d574f0ab63d52658e485f1d",
       "value": "/Users/skoebric/Downloads/XYZ.png"
      }
     },
     "46834292510b46f3a806a189b6851cfd": {
      "model_module": "@jupyter-widgets/base",
      "model_module_version": "1.0.0",
      "model_name": "LayoutModel",
      "state": {}
     },
     "46ae4478c31f4e94b1935ac9d06f4320": {
      "model_module": "@jupyter-widgets/controls",
      "model_module_version": "1.2.0",
      "model_name": "TextModel",
      "state": {
       "description": "Island Size Thresh:",
       "layout": "IPY_MODEL_0a158a000eb841de97f47b8ee7f14c5a",
       "placeholder": "Type a island thresh",
       "style": "IPY_MODEL_c17885a9718b4721bbbfab07543fd658",
       "value": "200"
      }
     },
     "46d1c09daef8449db7296f7e48705885": {
      "model_module": "@jupyter-widgets/base",
      "model_module_version": "1.0.0",
      "model_name": "LayoutModel",
      "state": {}
     },
     "47519c7860cd479f8965e8fad4852d58": {
      "model_module": "@jupyter-widgets/controls",
      "model_module_version": "1.2.0",
      "model_name": "DescriptionStyleModel",
      "state": {
       "description_width": "initial"
      }
     },
     "4785582298ca4005b4341dbef40b1e66": {
      "model_module": "@jupyter-widgets/controls",
      "model_module_version": "1.2.0",
      "model_name": "TextModel",
      "state": {
       "description": "Path to save to:",
       "layout": "IPY_MODEL_3f7608e3993a4c56a695280557020ffe",
       "placeholder": "Type the complete path to save to",
       "style": "IPY_MODEL_cba255f1ffa64a3ea2a126fe710df82a",
       "value": "/Users/skoebric/Downloads/XYZ.png"
      }
     },
     "48adc495a4ae44fd92abe113e3481fd1": {
      "model_module": "@jupyter-widgets/controls",
      "model_module_version": "1.2.0",
      "model_name": "ToggleButtonsStyleModel",
      "state": {
       "button_width": "",
       "description_width": "initial"
      }
     },
     "48bf1199c90c4b2ebc700328b1a50510": {
      "model_module": "@jupyter-widgets/base",
      "model_module_version": "1.0.0",
      "model_name": "LayoutModel",
      "state": {}
     },
     "48daf4a326ab4342b1a71a55b86dcd80": {
      "model_module": "@jupyter-widgets/controls",
      "model_module_version": "1.2.0",
      "model_name": "SliderStyleModel",
      "state": {
       "description_width": "initial"
      }
     },
     "49587416d15b403da929243ec95d0239": {
      "model_module": "@jupyter-widgets/controls",
      "model_module_version": "1.2.0",
      "model_name": "SliderStyleModel",
      "state": {
       "description_width": "initial"
      }
     },
     "49b6b75d5bd347c89286ebffd49e3f9a": {
      "model_module": "@jupyter-widgets/controls",
      "model_module_version": "1.2.0",
      "model_name": "ButtonModel",
      "state": {
       "description": "Update Plot",
       "icon": "check",
       "layout": "IPY_MODEL_a22c4e081b5f414d878555709e742130",
       "style": "IPY_MODEL_63188a9729fe43bfbf3d484000133813",
       "tooltip": "Update Plot"
      }
     },
     "49bd67dc24854b889918a23b15b00f85": {
      "model_module": "@jupyter-widgets/base",
      "model_module_version": "1.0.0",
      "model_name": "LayoutModel",
      "state": {}
     },
     "4a4c05f3541848adac12987f9423700e": {
      "model_module": "@jupyter-widgets/controls",
      "model_module_version": "1.2.0",
      "model_name": "DescriptionStyleModel",
      "state": {
       "description_width": "initial"
      }
     },
     "4ab81f5bc0784995b4845a8d39b21895": {
      "model_module": "@jupyter-widgets/controls",
      "model_module_version": "1.2.0",
      "model_name": "ToggleButtonsStyleModel",
      "state": {
       "button_width": "",
       "description_width": "initial"
      }
     },
     "4ac5669036d443f1b81f56a619fd90ec": {
      "model_module": "@jupyter-widgets/controls",
      "model_module_version": "1.2.0",
      "model_name": "IntSliderModel",
      "state": {
       "continuous_update": false,
       "description": "DPI (resolution):",
       "layout": "IPY_MODEL_058f5e24f7a543f1bcd0062ad4646253",
       "max": 500,
       "min": 100,
       "style": "IPY_MODEL_64f0616cff344098a4b2aa18d568e83b",
       "value": 300
      }
     },
     "4c140e5bc06941e3b534818a76df35d2": {
      "model_module": "@jupyter-widgets/controls",
      "model_module_version": "1.2.0",
      "model_name": "ToggleButtonsModel",
      "state": {
       "_options_labels": [
        "Simple",
        "Mixed",
        "Complex"
       ],
       "button_style": "",
       "description": "Simplification Level:",
       "icons": [],
       "index": 1,
       "layout": "IPY_MODEL_817ccc7172614df5b4416465fa91d5a6",
       "style": "IPY_MODEL_e8218894dc02488aa9225f6cbd617c4f",
       "tooltips": [
        "Renewables, Fossil, and Nuclear",
        "Solar, Wind, Hydro, Geothermal,Biomass, Wave and Tidal,\n Storage, Fossil, Nuclear",
        "Solar, Wind, Hydro, Geothermal,Biomass, Wave and Tidal,\n Storage, Fossil, Nuclear, Coal, Gas, Oil, Waste, Cogeneration"
       ]
      }
     },
     "4c2c013aac0741198bedf845481be965": {
      "model_module": "@jupyter-widgets/controls",
      "model_module_version": "1.2.0",
      "model_name": "TextModel",
      "state": {
       "description": "Path to save to:",
       "layout": "IPY_MODEL_99404f0ff0eb411485db84bbde2c57fd",
       "placeholder": "Type the complete path to save to",
       "style": "IPY_MODEL_04865814a1d54bc9bc50285a10137973",
       "value": "/Users/skoebric/Downloads/XYZ.png"
      }
     },
     "4ce80951631f465cad3e89db2e06de93": {
      "model_module": "@jupyter-widgets/controls",
      "model_module_version": "1.2.0",
      "model_name": "DropdownModel",
      "state": {
       "_options_labels": [
        "capacity",
        "alphabetical"
       ],
       "description": "Sort Legend By:",
       "index": 0,
       "layout": "IPY_MODEL_a8dd812c37ad4be6a9dc543837179910",
       "style": "IPY_MODEL_63804dd7e1ff4c549ddabc9f81688093"
      }
     },
     "4ce81b013d4141ad92803eb4d0952a3f": {
      "model_module": "@jupyter-widgets/controls",
      "model_module_version": "1.2.0",
      "model_name": "DescriptionStyleModel",
      "state": {
       "description_width": "initial"
      }
     },
     "4d8d72b2631841e598ffc8304fabd4ec": {
      "model_module": "@jupyter-widgets/controls",
      "model_module_version": "1.2.0",
      "model_name": "SliderStyleModel",
      "state": {
       "description_width": "initial"
      }
     },
     "4e21174173d546378b1f0cea50ff9fa6": {
      "model_module": "@jupyter-widgets/controls",
      "model_module_version": "1.2.0",
      "model_name": "IntSliderModel",
      "state": {
       "continuous_update": false,
       "description": "Number of Legend Columns:",
       "layout": "IPY_MODEL_8bb9540728644984919b3f6410ac25fb",
       "max": 3,
       "min": 1,
       "style": "IPY_MODEL_f567fbf99f234642a79f32db8c8df088",
       "value": 1
      }
     },
     "4e3a21b319924026b3c8eac6f7e02932": {
      "model_module": "@jupyter-widgets/base",
      "model_module_version": "1.0.0",
      "model_name": "LayoutModel",
      "state": {}
     },
     "4e556bd65deb42708c9d7b59e550d8d8": {
      "model_module": "@jupyter-widgets/controls",
      "model_module_version": "1.2.0",
      "model_name": "DropdownModel",
      "state": {
       "_options_labels": [
        "capacity",
        "alphabetical"
       ],
       "description": "Sort Legend By:",
       "index": 0,
       "layout": "IPY_MODEL_b16b186596f94f9d8a66c90765ffffff",
       "style": "IPY_MODEL_8cf780eb55a64858930abb97f954cb7b"
      }
     },
     "4ec3e174451741f9b57b5e2bfa9fa7e4": {
      "model_module": "@jupyter-widgets/base",
      "model_module_version": "1.0.0",
      "model_name": "LayoutModel",
      "state": {}
     },
     "4ef621d69b0746bd97b334fbff6917d7": {
      "model_module": "@jupyter-widgets/controls",
      "model_module_version": "1.2.0",
      "model_name": "DescriptionStyleModel",
      "state": {
       "description_width": ""
      }
     },
     "4f0805d1a13a4a2a86cc19a613d20722": {
      "model_module": "@jupyter-widgets/controls",
      "model_module_version": "1.2.0",
      "model_name": "ButtonModel",
      "state": {
       "description": "Update Plot",
       "icon": "check",
       "layout": "IPY_MODEL_c882831c921e4202b5a8f11257430005",
       "style": "IPY_MODEL_d8c2ccce4e6f4904b0d90e04459b19ad",
       "tooltip": "Update Plot"
      }
     },
     "4f257e99d3e949af99805896f656097d": {
      "model_module": "@jupyter-widgets/base",
      "model_module_version": "1.0.0",
      "model_name": "LayoutModel",
      "state": {}
     },
     "4f67f5e54e9848f2a29055f2338e10eb": {
      "model_module": "@jupyter-widgets/controls",
      "model_module_version": "1.2.0",
      "model_name": "ButtonModel",
      "state": {
       "description": "Update Plot",
       "icon": "check",
       "layout": "IPY_MODEL_b02c35743def4136a7294be2dd34fb32",
       "style": "IPY_MODEL_9a93d7bdd7c94b129d96672b4b55ee04",
       "tooltip": "Update Plot"
      }
     },
     "4fcf08906f0a4b36999d29eeebdbb940": {
      "model_module": "@jupyter-widgets/base",
      "model_module_version": "1.0.0",
      "model_name": "LayoutModel",
      "state": {}
     },
     "4ff89135a74a40dab2ebb851d5f79f7c": {
      "model_module": "@jupyter-widgets/controls",
      "model_module_version": "1.2.0",
      "model_name": "RadioButtonsModel",
      "state": {
       "_options_labels": [
        "True",
        "False"
       ],
       "description": "Title On:",
       "index": 0,
       "layout": "IPY_MODEL_422a67d6f82449c5881680c31f8d43ff",
       "style": "IPY_MODEL_b2ac316393e7402489c2a7446409c3f6"
      }
     },
     "500e242a5e6b4c9ebae641cd2ea5fa56": {
      "model_module": "@jupyter-widgets/controls",
      "model_module_version": "1.2.0",
      "model_name": "FloatSliderModel",
      "state": {
       "continuous_update": false,
       "description": "Bubble Opacity:",
       "layout": "IPY_MODEL_d9feb0fafc7a44a9a935bc3a2a89b603",
       "max": 1,
       "readout_format": ".1f",
       "step": 0.1,
       "style": "IPY_MODEL_7049da7a4ce9403984b51bfc4cf37041",
       "value": 0.5
      }
     },
     "50696cb0c10d4437aecc924c27943409": {
      "model_module": "@jupyter-widgets/base",
      "model_module_version": "1.0.0",
      "model_name": "LayoutModel",
      "state": {}
     },
     "5084b737350b40dd90dc374a79f16461": {
      "model_module": "@jupyter-widgets/controls",
      "model_module_version": "1.2.0",
      "model_name": "SliderStyleModel",
      "state": {
       "description_width": "initial"
      }
     },
     "50e71048da8b4d71aee00dea526c2d56": {
      "model_module": "@jupyter-widgets/controls",
      "model_module_version": "1.2.0",
      "model_name": "ToggleButtonsStyleModel",
      "state": {
       "button_width": "",
       "description_width": "initial"
      }
     },
     "51014d006bb84891bead873351ff1d01": {
      "model_module": "@jupyter-widgets/controls",
      "model_module_version": "1.2.0",
      "model_name": "DropdownModel",
      "state": {
       "_options_labels": [
        "capacity",
        "alphabetical"
       ],
       "description": "Sort Legend By:",
       "index": 0,
       "layout": "IPY_MODEL_80a60a4f0d544959bb6b9dbda2230dc4",
       "style": "IPY_MODEL_a605d0d3081642aeb98a5b8209c792d3"
      }
     },
     "51089ccd7e0e41068d5697d448cd1b72": {
      "model_module": "@jupyter-widgets/controls",
      "model_module_version": "1.2.0",
      "model_name": "TextModel",
      "state": {
       "description": "Coordinate System:",
       "layout": "IPY_MODEL_9dafbd9e184b45999d4a8ad3ee8480a6",
       "placeholder": "Type something",
       "style": "IPY_MODEL_a6f9ade656444b998277083375215ae3",
       "value": "spherical"
      }
     },
     "513bc87f9ab649b4ba5a72fe00327221": {
      "model_module": "@jupyter-widgets/base",
      "model_module_version": "1.0.0",
      "model_name": "LayoutModel",
      "state": {}
     },
     "51aad100766c496397ba998cdedc03e0": {
      "model_module": "@jupyter-widgets/base",
      "model_module_version": "1.0.0",
      "model_name": "LayoutModel",
      "state": {}
     },
     "51d5c7003f234b8c910c7f5b0492c377": {
      "model_module": "@jupyter-widgets/controls",
      "model_module_version": "1.2.0",
      "model_name": "FloatSliderModel",
      "state": {
       "continuous_update": false,
       "description": "Bubble Opacity:",
       "layout": "IPY_MODEL_010ed1c7bf0a4848948e308eb71fc2fc",
       "max": 1,
       "readout_format": ".1f",
       "step": 0.1,
       "style": "IPY_MODEL_f5a0a62cb8df476c8ffc4110bc5cd6cb",
       "value": 0.5
      }
     },
     "51f7fd51aed64ffc9241568695c0100d": {
      "model_module": "@jupyter-widgets/base",
      "model_module_version": "1.0.0",
      "model_name": "LayoutModel",
      "state": {}
     },
     "5221a1a38da04a329dd1d360ddc1ec4d": {
      "model_module": "@jupyter-widgets/controls",
      "model_module_version": "1.2.0",
      "model_name": "SliderStyleModel",
      "state": {
       "description_width": "initial"
      }
     },
     "52284d52f0dc43d785b9b004633c5ffe": {
      "model_module": "@jupyter-widgets/controls",
      "model_module_version": "1.2.0",
      "model_name": "FloatSliderModel",
      "state": {
       "continuous_update": false,
       "description": "Zoom Level:",
       "layout": "IPY_MODEL_a5e8082e719c403088f76e1726a3f122",
       "max": 3,
       "min": 0.5,
       "readout_format": ".1f",
       "step": 0.1,
       "style": "IPY_MODEL_74835e75e2bf4b759b4f6577f2b2020c",
       "value": 1
      }
     },
     "537f1bd0e2ad45e9b841ecf61c980f2f": {
      "model_module": "@jupyter-widgets/controls",
      "model_module_version": "1.2.0",
      "model_name": "DescriptionStyleModel",
      "state": {
       "description_width": "initial"
      }
     },
     "53c6da83a1964799a6d6d76fd725c74e": {
      "model_module": "@jupyter-widgets/controls",
      "model_module_version": "1.2.0",
      "model_name": "RadioButtonsModel",
      "state": {
       "_options_labels": [
        "True",
        "False"
       ],
       "description": "Title On:",
       "index": 0,
       "layout": "IPY_MODEL_e2a7324e685147d18ffe56eb582d7cd1",
       "style": "IPY_MODEL_22bfdf4a2f414abe9e1aacbd8f0acaa2"
      }
     },
     "53d81026ac3646c2814129596f41f012": {
      "model_module": "@jupyter-widgets/base",
      "model_module_version": "1.0.0",
      "model_name": "LayoutModel",
      "state": {}
     },
     "5427751a98194061829a398f8c7e45c5": {
      "model_module": "@jupyter-widgets/controls",
      "model_module_version": "1.2.0",
      "model_name": "IntSliderModel",
      "state": {
       "continuous_update": false,
       "description": "DPI (resolution):",
       "layout": "IPY_MODEL_6aeffe8344d845fd98becbfb836cc23c",
       "max": 500,
       "min": 100,
       "style": "IPY_MODEL_373e70998f9a4b2ea5f2faaa3c07a132",
       "value": 300
      }
     },
     "54ff99d43ff44aab99fc4cbd1421c1c3": {
      "model_module": "@jupyter-widgets/base",
      "model_module_version": "1.0.0",
      "model_name": "LayoutModel",
      "state": {}
     },
     "5524dbc4c70c480aa0dab21d8e09d233": {
      "model_module": "@jupyter-widgets/base",
      "model_module_version": "1.0.0",
      "model_name": "LayoutModel",
      "state": {}
     },
     "55c85ca762e849c2bee6e11e8bb6a40f": {
      "model_module": "@jupyter-widgets/controls",
      "model_module_version": "1.2.0",
      "model_name": "FloatSliderModel",
      "state": {
       "continuous_update": false,
       "description": "Bubble Opacity:",
       "layout": "IPY_MODEL_bbba558ee1f54b899eda207cef28a55a",
       "max": 1,
       "readout_format": ".1f",
       "step": 0.1,
       "style": "IPY_MODEL_5084b737350b40dd90dc374a79f16461",
       "value": 0.5
      }
     },
     "55de93028c8d4253af8900a64f2c18bd": {
      "model_module": "@jupyter-widgets/controls",
      "model_module_version": "1.2.0",
      "model_name": "DescriptionStyleModel",
      "state": {
       "description_width": "initial"
      }
     },
     "5604210dd35d465ebaac3ba495bdd3c6": {
      "model_module": "@jupyter-widgets/controls",
      "model_module_version": "1.2.0",
      "model_name": "DescriptionStyleModel",
      "state": {
       "description_width": "initial"
      }
     },
     "563d1b0fa7b54cf2bd2e3dd22ada300b": {
      "model_module": "@jupyter-widgets/base",
      "model_module_version": "1.0.0",
      "model_name": "LayoutModel",
      "state": {}
     },
     "564c54091ce74ffa88608941f8a0e4dc": {
      "model_module": "@jupyter-widgets/controls",
      "model_module_version": "1.2.0",
      "model_name": "SliderStyleModel",
      "state": {
       "description_width": "initial"
      }
     },
     "569beb1a07e4415682072e6e310c621b": {
      "model_module": "@jupyter-widgets/base",
      "model_module_version": "1.0.0",
      "model_name": "LayoutModel",
      "state": {}
     },
     "56bfd6c6578946468900e845aaf9c26c": {
      "model_module": "@jupyter-widgets/base",
      "model_module_version": "1.0.0",
      "model_name": "LayoutModel",
      "state": {}
     },
     "56ddc84b3cdf427bb67bbcb87647ff44": {
      "model_module": "@jupyter-widgets/controls",
      "model_module_version": "1.2.0",
      "model_name": "SliderStyleModel",
      "state": {
       "description_width": "initial"
      }
     },
     "57f98d81985943ebb9233853dd4a23f0": {
      "model_module": "@jupyter-widgets/controls",
      "model_module_version": "1.2.0",
      "model_name": "ToggleButtonsStyleModel",
      "state": {
       "button_width": "",
       "description_width": "initial"
      }
     },
     "57ffcee2fe574257854e56bfb297757a": {
      "model_module": "@jupyter-widgets/controls",
      "model_module_version": "1.2.0",
      "model_name": "SliderStyleModel",
      "state": {
       "description_width": "initial"
      }
     },
     "5907fb5ea9804f719263c7fd2887a7d4": {
      "model_module": "@jupyter-widgets/base",
      "model_module_version": "1.0.0",
      "model_name": "LayoutModel",
      "state": {}
     },
     "591839c9b4f141d5a28d4cf3452b40c6": {
      "model_module": "@jupyter-widgets/base",
      "model_module_version": "1.0.0",
      "model_name": "LayoutModel",
      "state": {}
     },
     "59420138f5c443688f9971e1e65bcff6": {
      "model_module": "@jupyter-widgets/controls",
      "model_module_version": "1.2.0",
      "model_name": "DescriptionStyleModel",
      "state": {
       "description_width": "initial"
      }
     },
     "595665a428f7484780da6c27597354c3": {
      "model_module": "@jupyter-widgets/controls",
      "model_module_version": "1.2.0",
      "model_name": "SliderStyleModel",
      "state": {
       "description_width": "initial"
      }
     },
     "599d008790b34160930093938adcf17f": {
      "model_module": "@jupyter-widgets/controls",
      "model_module_version": "1.2.0",
      "model_name": "SliderStyleModel",
      "state": {
       "description_width": "initial"
      }
     },
     "59a4ff60ebaa4d40af2dd5a5325f89c1": {
      "model_module": "@jupyter-widgets/base",
      "model_module_version": "1.0.0",
      "model_name": "LayoutModel",
      "state": {}
     },
     "5a72c47948fd488b831d36ae1219fd4f": {
      "model_module": "@jupyter-widgets/controls",
      "model_module_version": "1.2.0",
      "model_name": "DescriptionStyleModel",
      "state": {
       "description_width": "initial"
      }
     },
     "5a93ccd062b04ff6a3e286b94466c630": {
      "model_module": "@jupyter-widgets/controls",
      "model_module_version": "1.2.0",
      "model_name": "ButtonModel",
      "state": {
       "description": "Update Plot",
       "icon": "check",
       "layout": "IPY_MODEL_8c610c681d8b4afcbb445d8907abf344",
       "style": "IPY_MODEL_b2d829bdcc84405f9f5a429072d068b9",
       "tooltip": "Update Plot"
      }
     },
     "5b233d34e9214b0fb7e071a0f56f354f": {
      "model_module": "@jupyter-widgets/controls",
      "model_module_version": "1.2.0",
      "model_name": "DescriptionStyleModel",
      "state": {
       "description_width": "initial"
      }
     },
     "5b3512c168624d36ba7e51b2dbcc6c77": {
      "model_module": "@jupyter-widgets/controls",
      "model_module_version": "1.2.0",
      "model_name": "SliderStyleModel",
      "state": {
       "description_width": "initial"
      }
     },
     "5b6ca703bcf24356aeb4d9369f8c715d": {
      "model_module": "@jupyter-widgets/base",
      "model_module_version": "1.0.0",
      "model_name": "LayoutModel",
      "state": {}
     },
     "5b7ce13e79aa4ab0b9b4c5f6bfd15ec3": {
      "model_module": "@jupyter-widgets/controls",
      "model_module_version": "1.2.0",
      "model_name": "FloatSliderModel",
      "state": {
       "continuous_update": false,
       "description": "Zoom Level:",
       "layout": "IPY_MODEL_86180b5f6c09448e9405b0dd50cb83be",
       "max": 3,
       "min": 0.5,
       "readout_format": ".1f",
       "step": 0.1,
       "style": "IPY_MODEL_c1761a83c028452db93416353cb004ba",
       "value": 1.3
      }
     },
     "5b819e0b42f34b1e9730fbd28fe6d8d1": {
      "model_module": "@jupyter-widgets/controls",
      "model_module_version": "1.2.0",
      "model_name": "TextModel",
      "state": {
       "description": "Island Size Thresh:",
       "layout": "IPY_MODEL_c870c16b581947f49459fff4f5bcad37",
       "placeholder": "Type a island thresh",
       "style": "IPY_MODEL_f3b74ccd814b427fb5383b5f00c6e23d",
       "value": "200"
      }
     },
     "5b82a63ab2b4453293d5908678557a0a": {
      "model_module": "@jupyter-widgets/controls",
      "model_module_version": "1.2.0",
      "model_name": "ToggleButtonsModel",
      "state": {
       "_options_labels": [
        "Simple",
        "Mixed",
        "Complex"
       ],
       "button_style": "",
       "description": "Simplification Level:",
       "icons": [],
       "index": 1,
       "layout": "IPY_MODEL_65c2c9652b0a46469336ec28d5fb3c90",
       "style": "IPY_MODEL_381edaaa4aaa4cfa9fcaf0ccd54e9de5",
       "tooltips": [
        "Renewables, Fossil, and Nuclear",
        "Solar, Wind, Hydro, Geothermal,Biomass, Wave and Tidal,\n Storage, Fossil, Nuclear",
        "Solar, Wind, Hydro, Geothermal,Biomass, Wave and Tidal,\n Storage, Fossil, Nuclear, Coal, Gas, Oil, Waste, Cogeneration"
       ]
      }
     },
     "5bc40838e6f4495894055c8e364bf0bc": {
      "model_module": "@jupyter-widgets/base",
      "model_module_version": "1.0.0",
      "model_name": "LayoutModel",
      "state": {}
     },
     "5c0980ace2bb4689a61f236870640b5a": {
      "model_module": "@jupyter-widgets/controls",
      "model_module_version": "1.2.0",
      "model_name": "ButtonStyleModel",
      "state": {}
     },
     "5c4184c4faca424aa612d6865e36e44d": {
      "model_module": "@jupyter-widgets/base",
      "model_module_version": "1.0.0",
      "model_name": "LayoutModel",
      "state": {}
     },
     "5d1dbb1695cf4d49a063e6b54374a284": {
      "model_module": "@jupyter-widgets/controls",
      "model_module_version": "1.2.0",
      "model_name": "TextModel",
      "state": {
       "description": "Path to save to:",
       "layout": "IPY_MODEL_084c7a34828842e69c192d5c034ba910",
       "placeholder": "Type the complete path to save to",
       "style": "IPY_MODEL_a1021b79a44d4b4bae394d1c0e5e6c25",
       "value": "/Users/skoebric/Downloads/XYZ.png"
      }
     },
     "5d5c70c261a14357b167e42fc1d21d6f": {
      "model_module": "@jupyter-widgets/controls",
      "model_module_version": "1.2.0",
      "model_name": "ButtonStyleModel",
      "state": {}
     },
     "5d7a958c50e648eb89e831310f889020": {
      "model_module": "@jupyter-widgets/controls",
      "model_module_version": "1.2.0",
      "model_name": "TextModel",
      "state": {
       "description": "Path to save to:",
       "layout": "IPY_MODEL_1f0ee5c34001498fbcde7e7ca6c8f9e5",
       "placeholder": "Type the complete path to save to",
       "style": "IPY_MODEL_6af47c5cf079478dab6b79b1a0a6afa1",
       "value": "/Users/skoebric/Downloads/XYZ.png"
      }
     },
     "5d8481f9b3834ec3afe531a153110000": {
      "model_module": "@jupyter-widgets/base",
      "model_module_version": "1.0.0",
      "model_name": "LayoutModel",
      "state": {
       "height": "80px",
       "width": "70%"
      }
     },
     "5d895e4cab684b92bc71e076aa24873c": {
      "model_module": "@jupyter-widgets/controls",
      "model_module_version": "1.2.0",
      "model_name": "ToggleButtonsModel",
      "state": {
       "_options_labels": [
        "Simple",
        "Mixed",
        "Complex"
       ],
       "button_style": "",
       "description": "Simplification Level:",
       "icons": [],
       "index": 1,
       "layout": "IPY_MODEL_83f4d537feec42b9bed87fae26361045",
       "style": "IPY_MODEL_a63e995885b14af7bbc97b1997d0c21c",
       "tooltips": [
        "Renewables, Fossil, and Nuclear",
        "Solar, Wind, Hydro, Geothermal,Biomass, Wave and Tidal,\n Storage, Fossil, Nuclear",
        "Solar, Wind, Hydro, Geothermal,Biomass, Wave and Tidal,\n Storage, Fossil, Nuclear, Coal, Gas, Oil, Waste, Cogeneration"
       ]
      }
     },
     "5da5487b19ac40189443993e844cdb1b": {
      "model_module": "@jupyter-widgets/controls",
      "model_module_version": "1.2.0",
      "model_name": "ToggleButtonsStyleModel",
      "state": {
       "button_width": "",
       "description_width": "initial"
      }
     },
     "5db54fa15a92462eaef5fb688a8e939b": {
      "model_module": "@jupyter-widgets/controls",
      "model_module_version": "1.2.0",
      "model_name": "ButtonStyleModel",
      "state": {}
     },
     "5dc99c4918fa40c5bbd1ee3d60fc3644": {
      "model_module": "@jupyter-widgets/base",
      "model_module_version": "1.0.0",
      "model_name": "LayoutModel",
      "state": {}
     },
     "5dd8ac7130824542ae50b6288e72d8ee": {
      "model_module": "@jupyter-widgets/controls",
      "model_module_version": "1.2.0",
      "model_name": "DescriptionStyleModel",
      "state": {
       "description_width": "initial"
      }
     },
     "5df478c464124c33aba7b8d70461578d": {
      "model_module": "@jupyter-widgets/controls",
      "model_module_version": "1.2.0",
      "model_name": "DropdownModel",
      "state": {
       "_options_labels": [
        "capacity",
        "alphabetical"
       ],
       "description": "Sort Legend By:",
       "index": 0,
       "layout": "IPY_MODEL_cade51b96736449eaff8c2ff51219f4e",
       "style": "IPY_MODEL_b32444897b4946c1a7b84177a01a023f"
      }
     },
     "5e72c273b0a0478eae072e9dee0edfa1": {
      "model_module": "@jupyter-widgets/controls",
      "model_module_version": "1.2.0",
      "model_name": "TextModel",
      "state": {
       "description": "Coordinate System:",
       "layout": "IPY_MODEL_6906c38325ca41329ce8606b46baac7e",
       "placeholder": "Type something",
       "style": "IPY_MODEL_68f81cd479854372864cbab754bbe897",
       "value": "spherical"
      }
     },
     "5e75f0d2624e448b9075cf58a21ebe0d": {
      "model_module": "@jupyter-widgets/base",
      "model_module_version": "1.0.0",
      "model_name": "LayoutModel",
      "state": {}
     },
     "5eb0ff5db45b421180d878d1b3646ffa": {
      "model_module": "@jupyter-widgets/controls",
      "model_module_version": "1.2.0",
      "model_name": "SliderStyleModel",
      "state": {
       "description_width": "initial"
      }
     },
     "5ee429b1adfe45dfa6b883d23bdd80c2": {
      "model_module": "@jupyter-widgets/base",
      "model_module_version": "1.0.0",
      "model_name": "LayoutModel",
      "state": {}
     },
     "5f6faf4b6d8d42fa8c2672d7397d80bf": {
      "model_module": "@jupyter-widgets/controls",
      "model_module_version": "1.2.0",
      "model_name": "DescriptionStyleModel",
      "state": {
       "description_width": ""
      }
     },
     "5f935645e5e94ff19184979a212d8143": {
      "model_module": "@jupyter-widgets/controls",
      "model_module_version": "1.2.0",
      "model_name": "DescriptionStyleModel",
      "state": {
       "description_width": "initial"
      }
     },
     "5fb8b70cecb74e27ad33eacffba239cd": {
      "model_module": "@jupyter-widgets/base",
      "model_module_version": "1.0.0",
      "model_name": "LayoutModel",
      "state": {}
     },
     "5fcb70cac1cf48d3a57d9f2586e10033": {
      "model_module": "@jupyter-widgets/base",
      "model_module_version": "1.0.0",
      "model_name": "LayoutModel",
      "state": {
       "height": "80px",
       "width": "70%"
      }
     },
     "5fe9e9c34c0a43529c9b3db8ca18d4ea": {
      "model_module": "@jupyter-widgets/controls",
      "model_module_version": "1.2.0",
      "model_name": "DescriptionStyleModel",
      "state": {
       "description_width": ""
      }
     },
     "6018080da1d54394b3dbd48fa66a60c5": {
      "model_module": "@jupyter-widgets/controls",
      "model_module_version": "1.2.0",
      "model_name": "FloatSliderModel",
      "state": {
       "continuous_update": false,
       "description": "Zoom Level:",
       "layout": "IPY_MODEL_11097373d92549de9cd24c5a2218e54b",
       "max": 3,
       "min": 0.5,
       "readout_format": ".1f",
       "step": 0.1,
       "style": "IPY_MODEL_5b3512c168624d36ba7e51b2dbcc6c77",
       "value": 1
      }
     },
     "601ddb9105db4ca6b63de66f3ef64719": {
      "model_module": "@jupyter-widgets/controls",
      "model_module_version": "1.2.0",
      "model_name": "DescriptionStyleModel",
      "state": {
       "description_width": "initial"
      }
     },
     "606ca9404aa64178bc0e81300fe16e70": {
      "model_module": "@jupyter-widgets/controls",
      "model_module_version": "1.2.0",
      "model_name": "IntSliderModel",
      "state": {
       "continuous_update": false,
       "description": "DPI (resolution):",
       "layout": "IPY_MODEL_edabaef891a742adbbefc0fd5d5f800b",
       "max": 500,
       "min": 100,
       "style": "IPY_MODEL_8097eb290d1d4e6093667c51954a03bc",
       "value": 300
      }
     },
     "607a6e59d9804276aa154647bd4e2501": {
      "model_module": "@jupyter-widgets/base",
      "model_module_version": "1.0.0",
      "model_name": "LayoutModel",
      "state": {}
     },
     "607f7912168e4d5fb0c09cac1ae2b72b": {
      "model_module": "@jupyter-widgets/controls",
      "model_module_version": "1.2.0",
      "model_name": "FloatSliderModel",
      "state": {
       "continuous_update": false,
       "description": "Zoom Level:",
       "layout": "IPY_MODEL_1f49bad8231f4743bcc17f306b169d11",
       "max": 3,
       "min": 0.5,
       "readout_format": ".1f",
       "step": 0.1,
       "style": "IPY_MODEL_eb13c3658333424caa0fba6f0d8c7015",
       "value": 1
      }
     },
     "6094ec9dd9974241b15fec9b7bbeb195": {
      "model_module": "@jupyter-widgets/base",
      "model_module_version": "1.0.0",
      "model_name": "LayoutModel",
      "state": {}
     },
     "60b669a6781448419c3e601100701fa4": {
      "model_module": "@jupyter-widgets/base",
      "model_module_version": "1.0.0",
      "model_name": "LayoutModel",
      "state": {}
     },
     "60d0bea213104c0795ca26b47a296401": {
      "model_module": "@jupyter-widgets/base",
      "model_module_version": "1.0.0",
      "model_name": "LayoutModel",
      "state": {
       "height": "80px",
       "width": "70%"
      }
     },
     "616e70b4d9e7438b8ca9de2d2d24b6ca": {
      "model_module": "@jupyter-widgets/controls",
      "model_module_version": "1.2.0",
      "model_name": "DescriptionStyleModel",
      "state": {
       "description_width": "initial"
      }
     },
     "61840571609f4503b3ac19a367c0d121": {
      "model_module": "@jupyter-widgets/controls",
      "model_module_version": "1.2.0",
      "model_name": "DescriptionStyleModel",
      "state": {
       "description_width": "initial"
      }
     },
     "61b5e42241674c2fa15fe9371c2b4406": {
      "model_module": "@jupyter-widgets/base",
      "model_module_version": "1.0.0",
      "model_name": "LayoutModel",
      "state": {}
     },
     "62120a2667734b24bf68ce5c6e279941": {
      "model_module": "@jupyter-widgets/controls",
      "model_module_version": "1.2.0",
      "model_name": "ToggleButtonsStyleModel",
      "state": {
       "button_width": "",
       "description_width": "initial"
      }
     },
     "6224455a541843b1b4fd0ad4e24a5e86": {
      "model_module": "@jupyter-widgets/controls",
      "model_module_version": "1.2.0",
      "model_name": "IntSliderModel",
      "state": {
       "continuous_update": false,
       "description": "DPI (resolution):",
       "layout": "IPY_MODEL_59a4ff60ebaa4d40af2dd5a5325f89c1",
       "max": 500,
       "min": 100,
       "style": "IPY_MODEL_a863b76fab18496c98933ccd4bac1142",
       "value": 300
      }
     },
     "627a8cb84c534526a3a728d7c07223d0": {
      "model_module": "@jupyter-widgets/controls",
      "model_module_version": "1.2.0",
      "model_name": "TextModel",
      "state": {
       "description": "Path to save to:",
       "layout": "IPY_MODEL_7c97edc2cf9c408e9aa61e18fa7a449c",
       "placeholder": "Type the complete path to save to",
       "style": "IPY_MODEL_55de93028c8d4253af8900a64f2c18bd",
       "value": "/Users/skoebric/Downloads/XYZ.png"
      }
     },
     "628264a9983647099c8512f38619c2ce": {
      "model_module": "@jupyter-widgets/base",
      "model_module_version": "1.0.0",
      "model_name": "LayoutModel",
      "state": {}
     },
     "62ef68bbfb2d49feb206725a2f1a57a8": {
      "model_module": "@jupyter-widgets/base",
      "model_module_version": "1.0.0",
      "model_name": "LayoutModel",
      "state": {}
     },
     "63188a9729fe43bfbf3d484000133813": {
      "model_module": "@jupyter-widgets/controls",
      "model_module_version": "1.2.0",
      "model_name": "ButtonStyleModel",
      "state": {}
     },
     "6325bd96782944ffa14ec7212759233f": {
      "model_module": "@jupyter-widgets/controls",
      "model_module_version": "1.2.0",
      "model_name": "RadioButtonsModel",
      "state": {
       "_options_labels": [
        "True",
        "False"
       ],
       "description": "Title On:",
       "index": 0,
       "layout": "IPY_MODEL_8e182ac748fe4d1ab398cda5f8afc2da",
       "style": "IPY_MODEL_5fe9e9c34c0a43529c9b3db8ca18d4ea"
      }
     },
     "635ac4f560a24d7cbd45e8a8178107cb": {
      "model_module": "@jupyter-widgets/controls",
      "model_module_version": "1.2.0",
      "model_name": "TextModel",
      "state": {
       "description": "Path to save to:",
       "layout": "IPY_MODEL_25d1f83077d440f39ad08f583e944887",
       "placeholder": "Type the complete path to save to",
       "style": "IPY_MODEL_c909a46f24bb45d99fb7ebb0bd02e870",
       "value": "/Users/skoebric/Downloads/XYZ.png"
      }
     },
     "635dd6ef19e74fe6b2ea0af061cebcdd": {
      "model_module": "@jupyter-widgets/controls",
      "model_module_version": "1.2.0",
      "model_name": "TextModel",
      "state": {
       "description": "Coordinate System:",
       "layout": "IPY_MODEL_f10e3ad7a0d245298c4728eb6dcc62e6",
       "placeholder": "Type something",
       "style": "IPY_MODEL_058ce894c7e74461bdbc607e48e0bade",
       "value": "spherical"
      }
     },
     "636f64dbb9194f27a7fcae8b377fedce": {
      "model_module": "@jupyter-widgets/controls",
      "model_module_version": "1.2.0",
      "model_name": "TextModel",
      "state": {
       "description": "Path to save to:",
       "layout": "IPY_MODEL_f1717553bcf44eeea4ad9964d002a26a",
       "placeholder": "Type the complete path to save to",
       "style": "IPY_MODEL_36eae348f7224cb1b05bee38a1c2be8c",
       "value": "/Users/skoebric/Downloads/XYZ.png"
      }
     },
     "63804dd7e1ff4c549ddabc9f81688093": {
      "model_module": "@jupyter-widgets/controls",
      "model_module_version": "1.2.0",
      "model_name": "DescriptionStyleModel",
      "state": {
       "description_width": "initial"
      }
     },
     "63f915dae25b4a11975aaf2aceb02cbf": {
      "model_module": "@jupyter-widgets/controls",
      "model_module_version": "1.2.0",
      "model_name": "DescriptionStyleModel",
      "state": {
       "description_width": "initial"
      }
     },
     "63fa5fbd212f4f07a6ac6a22d158690f": {
      "model_module": "@jupyter-widgets/controls",
      "model_module_version": "1.2.0",
      "model_name": "ButtonModel",
      "state": {
       "description": "Update Plot",
       "icon": "check",
       "layout": "IPY_MODEL_2aacc748de1345e19b508d83be0b8d4e",
       "style": "IPY_MODEL_4327de5775234d0087fde8595b173f01",
       "tooltip": "Update Plot"
      }
     },
     "6432569873f34594b29c0c10a57b539f": {
      "model_module": "@jupyter-widgets/base",
      "model_module_version": "1.0.0",
      "model_name": "LayoutModel",
      "state": {}
     },
     "64dea73eab154db69b1fb677d91c449f": {
      "model_module": "@jupyter-widgets/controls",
      "model_module_version": "1.2.0",
      "model_name": "FloatSliderModel",
      "state": {
       "continuous_update": false,
       "description": "Bubble Opacity:",
       "layout": "IPY_MODEL_46834292510b46f3a806a189b6851cfd",
       "max": 1,
       "readout_format": ".1f",
       "step": 0.1,
       "style": "IPY_MODEL_a9c8648bf0244eb8968597be79d0b4d7",
       "value": 0.5
      }
     },
     "64f0616cff344098a4b2aa18d568e83b": {
      "model_module": "@jupyter-widgets/controls",
      "model_module_version": "1.2.0",
      "model_name": "SliderStyleModel",
      "state": {
       "description_width": "initial"
      }
     },
     "654d0508149d4f72b815910bdeede6f1": {
      "model_module": "@jupyter-widgets/controls",
      "model_module_version": "1.2.0",
      "model_name": "ToggleButtonsModel",
      "state": {
       "_options_labels": [
        "Simple",
        "Mixed",
        "Complex"
       ],
       "button_style": "",
       "description": "Simplification Level:",
       "icons": [],
       "index": 1,
       "layout": "IPY_MODEL_1e66f6186980498eaa44aeca0dcc79e2",
       "style": "IPY_MODEL_50e71048da8b4d71aee00dea526c2d56",
       "tooltips": [
        "Renewables, Fossil, and Nuclear",
        "Solar, Wind, Hydro, Geothermal,Biomass, Wave and Tidal,\n Storage, Fossil, Nuclear",
        "Solar, Wind, Hydro, Geothermal,Biomass, Wave and Tidal,\n Storage, Fossil, Nuclear, Coal, Gas, Oil, Waste, Cogeneration"
       ]
      }
     },
     "65c2c9652b0a46469336ec28d5fb3c90": {
      "model_module": "@jupyter-widgets/base",
      "model_module_version": "1.0.0",
      "model_name": "LayoutModel",
      "state": {}
     },
     "65d3af4171c4432d9a86a0fe7412a1e3": {
      "model_module": "@jupyter-widgets/controls",
      "model_module_version": "1.2.0",
      "model_name": "DescriptionStyleModel",
      "state": {
       "description_width": ""
      }
     },
     "65dfe841f64449c89cae0bf6c44b4813": {
      "model_module": "@jupyter-widgets/base",
      "model_module_version": "1.0.0",
      "model_name": "LayoutModel",
      "state": {}
     },
     "65ef3fe9c86d4f409473ed7b0b488939": {
      "model_module": "@jupyter-widgets/base",
      "model_module_version": "1.0.0",
      "model_name": "LayoutModel",
      "state": {}
     },
     "66748a47bd2d41d8a65fac3a8ba3903f": {
      "model_module": "@jupyter-widgets/controls",
      "model_module_version": "1.2.0",
      "model_name": "TextModel",
      "state": {
       "description": "Country Precursor:",
       "layout": "IPY_MODEL_0c10a1110bec4d93b0eb26c40c06e592",
       "placeholder": "Precursor to Country Name",
       "style": "IPY_MODEL_2c5c3575d41b4722b6eda80196399edd"
      }
     },
     "66b7077707ed4605ba53941fe63ef0d6": {
      "model_module": "@jupyter-widgets/controls",
      "model_module_version": "1.2.0",
      "model_name": "SliderStyleModel",
      "state": {
       "description_width": "initial"
      }
     },
     "671feb368ed64d689200326fc1bca844": {
      "model_module": "@jupyter-widgets/controls",
      "model_module_version": "1.2.0",
      "model_name": "TextModel",
      "state": {
       "description": "Island Size Thresh:",
       "layout": "IPY_MODEL_5dc99c4918fa40c5bbd1ee3d60fc3644",
       "placeholder": "Type a island thresh",
       "style": "IPY_MODEL_d5db70abe66a463cbcbc4c14ffeb3fbe",
       "value": "200"
      }
     },
     "6775d26edb544efea5ec75038847a00b": {
      "model_module": "@jupyter-widgets/controls",
      "model_module_version": "1.2.0",
      "model_name": "SliderStyleModel",
      "state": {
       "description_width": "initial"
      }
     },
     "68f81cd479854372864cbab754bbe897": {
      "model_module": "@jupyter-widgets/controls",
      "model_module_version": "1.2.0",
      "model_name": "DescriptionStyleModel",
      "state": {
       "description_width": "initial"
      }
     },
     "6906c38325ca41329ce8606b46baac7e": {
      "model_module": "@jupyter-widgets/base",
      "model_module_version": "1.0.0",
      "model_name": "LayoutModel",
      "state": {}
     },
     "69a2869d50cc4cb2a41eafc70b4f41d2": {
      "model_module": "@jupyter-widgets/controls",
      "model_module_version": "1.2.0",
      "model_name": "TextModel",
      "state": {
       "description": "Country Name:",
       "layout": "IPY_MODEL_ee930139d1f047a8a177b19da9b7eaae",
       "placeholder": "Type a country name",
       "style": "IPY_MODEL_23326e45c0584ff49f26ca3405dc269c",
       "value": "India"
      }
     },
     "6a24a82825eb4236aa0bb3cd20d4809e": {
      "model_module": "@jupyter-widgets/controls",
      "model_module_version": "1.2.0",
      "model_name": "ButtonModel",
      "state": {
       "description": "Update Plot",
       "icon": "check",
       "layout": "IPY_MODEL_2a3164795ea544ecb3999fe612ee5414",
       "style": "IPY_MODEL_eab0ba454c37404891d7818f67598e53",
       "tooltip": "Update Plot"
      }
     },
     "6aa963271c584809ad44f83ea0cd765b": {
      "model_module": "@jupyter-widgets/controls",
      "model_module_version": "1.2.0",
      "model_name": "TextModel",
      "state": {
       "description": "Path to save to:",
       "layout": "IPY_MODEL_46d1c09daef8449db7296f7e48705885",
       "placeholder": "Type the complete path to save to",
       "style": "IPY_MODEL_616e70b4d9e7438b8ca9de2d2d24b6ca",
       "value": "/Users/skoebric/Downloads/XYZ.png"
      }
     },
     "6aeffe8344d845fd98becbfb836cc23c": {
      "model_module": "@jupyter-widgets/base",
      "model_module_version": "1.0.0",
      "model_name": "LayoutModel",
      "state": {}
     },
     "6af47c5cf079478dab6b79b1a0a6afa1": {
      "model_module": "@jupyter-widgets/controls",
      "model_module_version": "1.2.0",
      "model_name": "DescriptionStyleModel",
      "state": {
       "description_width": "initial"
      }
     },
     "6b9437aecae346fd88c73379052f7c40": {
      "model_module": "@jupyter-widgets/controls",
      "model_module_version": "1.2.0",
      "model_name": "ButtonStyleModel",
      "state": {}
     },
     "6b95c217148f41fb9efcc669c5552a66": {
      "model_module": "@jupyter-widgets/base",
      "model_module_version": "1.0.0",
      "model_name": "LayoutModel",
      "state": {}
     },
     "6c0e9c7733b3431d8c1505eb2754cb6f": {
      "model_module": "@jupyter-widgets/base",
      "model_module_version": "1.0.0",
      "model_name": "LayoutModel",
      "state": {}
     },
     "6ce2c4a3778f49d1a8d43508ce4779d1": {
      "model_module": "@jupyter-widgets/controls",
      "model_module_version": "1.2.0",
      "model_name": "DescriptionStyleModel",
      "state": {
       "description_width": ""
      }
     },
     "6cfe6b2216bc43668f473e38caadd609": {
      "model_module": "@jupyter-widgets/base",
      "model_module_version": "1.0.0",
      "model_name": "LayoutModel",
      "state": {}
     },
     "6df82960901543d2976aef70b60214cd": {
      "model_module": "@jupyter-widgets/controls",
      "model_module_version": "1.2.0",
      "model_name": "ToggleButtonsModel",
      "state": {
       "_options_labels": [
        "Simple",
        "Mixed",
        "Complex"
       ],
       "button_style": "",
       "description": "Simplification Level:",
       "icons": [],
       "index": 1,
       "layout": "IPY_MODEL_56bfd6c6578946468900e845aaf9c26c",
       "style": "IPY_MODEL_264eb5ca498b4f00bab4fd79999c2181",
       "tooltips": [
        "Renewables, Fossil, and Nuclear",
        "Solar, Wind, Hydro, Geothermal,Biomass, Wave and Tidal,\n Storage, Fossil, Nuclear",
        "Solar, Wind, Hydro, Geothermal,Biomass, Wave and Tidal,\n Storage, Fossil, Nuclear, Coal, Gas, Oil, Waste, Cogeneration"
       ]
      }
     },
     "6e0066f71a424980bc13024c53718326": {
      "model_module": "@jupyter-widgets/base",
      "model_module_version": "1.0.0",
      "model_name": "LayoutModel",
      "state": {}
     },
     "6e3350ca5e2d45e7b9d802a4b277076e": {
      "model_module": "@jupyter-widgets/controls",
      "model_module_version": "1.2.0",
      "model_name": "IntSliderModel",
      "state": {
       "continuous_update": false,
       "description": "DPI (resolution):",
       "layout": "IPY_MODEL_5907fb5ea9804f719263c7fd2887a7d4",
       "max": 500,
       "min": 100,
       "style": "IPY_MODEL_883cf5e88f4c44329bdce1e336a39253",
       "value": 300
      }
     },
     "6e5bca7f6dbb46a1a4dd72e0e5c4adb7": {
      "model_module": "@jupyter-widgets/controls",
      "model_module_version": "1.2.0",
      "model_name": "DescriptionStyleModel",
      "state": {
       "description_width": "initial"
      }
     },
     "6ed5f3e0fa4f4bfd9ccd6bf9299d1932": {
      "model_module": "@jupyter-widgets/controls",
      "model_module_version": "1.2.0",
      "model_name": "DescriptionStyleModel",
      "state": {
       "description_width": "initial"
      }
     },
     "6ef544a0f23f448ea61d76827ddf554f": {
      "model_module": "@jupyter-widgets/base",
      "model_module_version": "1.0.0",
      "model_name": "LayoutModel",
      "state": {}
     },
     "6f41f8a6608f4ec28cd44858c4ea3256": {
      "model_module": "@jupyter-widgets/controls",
      "model_module_version": "1.2.0",
      "model_name": "IntSliderModel",
      "state": {
       "continuous_update": false,
       "description": "DPI (resolution):",
       "layout": "IPY_MODEL_df89d84d897a465abd3a2e8e5b730dc3",
       "max": 500,
       "min": 100,
       "style": "IPY_MODEL_b301360ef3c2432f827ca714817d9f4a",
       "value": 300
      }
     },
     "6fae948966f94ccf98916bcf8d9a0c1d": {
      "model_module": "@jupyter-widgets/base",
      "model_module_version": "1.0.0",
      "model_name": "LayoutModel",
      "state": {}
     },
     "7049da7a4ce9403984b51bfc4cf37041": {
      "model_module": "@jupyter-widgets/controls",
      "model_module_version": "1.2.0",
      "model_name": "SliderStyleModel",
      "state": {
       "description_width": "initial"
      }
     },
     "7051d38eec5b4fdcb1ed986dbd37f79d": {
      "model_module": "@jupyter-widgets/controls",
      "model_module_version": "1.2.0",
      "model_name": "RadioButtonsModel",
      "state": {
       "_options_labels": [
        "True",
        "False"
       ],
       "description": "Title On:",
       "index": 1,
       "layout": "IPY_MODEL_1e93b0abab7a4e84b16ad1769b8e5647",
       "style": "IPY_MODEL_8190f6e3e477429e8dd885b5b4d38d64"
      }
     },
     "70d9c24df54746ce9b537ced9ed30285": {
      "model_module": "@jupyter-widgets/controls",
      "model_module_version": "1.2.0",
      "model_name": "SliderStyleModel",
      "state": {
       "description_width": "initial"
      }
     },
     "719b507434654aab9e606d91144e312a": {
      "model_module": "@jupyter-widgets/controls",
      "model_module_version": "1.2.0",
      "model_name": "DescriptionStyleModel",
      "state": {
       "description_width": "initial"
      }
     },
     "71dc84637a1a4a5fa09721663c609035": {
      "model_module": "@jupyter-widgets/controls",
      "model_module_version": "1.2.0",
      "model_name": "IntSliderModel",
      "state": {
       "continuous_update": false,
       "description": "Number of Legend Columns:",
       "layout": "IPY_MODEL_8a792adcdcd24b42baa0d3518b64bb69",
       "max": 3,
       "min": 1,
       "style": "IPY_MODEL_5221a1a38da04a329dd1d360ddc1ec4d",
       "value": 1
      }
     },
     "71f067f0547e4b8fb4e56b7dffc3ab80": {
      "model_module": "@jupyter-widgets/base",
      "model_module_version": "1.0.0",
      "model_name": "LayoutModel",
      "state": {}
     },
     "728a2b15464f4a55a7a63cea57e12d1d": {
      "model_module": "@jupyter-widgets/controls",
      "model_module_version": "1.2.0",
      "model_name": "DescriptionStyleModel",
      "state": {
       "description_width": ""
      }
     },
     "72e25ca2377b4dfda61090e3e0d27dc2": {
      "model_module": "@jupyter-widgets/controls",
      "model_module_version": "1.2.0",
      "model_name": "DescriptionStyleModel",
      "state": {
       "description_width": "initial"
      }
     },
     "72e371d069bb4da9a2dbc7143650aec3": {
      "model_module": "@jupyter-widgets/controls",
      "model_module_version": "1.2.0",
      "model_name": "ButtonModel",
      "state": {
       "description": "Update Plot",
       "icon": "check",
       "layout": "IPY_MODEL_d95b60d2d0bb496fb9de8de820725ea7",
       "style": "IPY_MODEL_ade1275f884b4e1da9e7f726b20d9fbe",
       "tooltip": "Update Plot"
      }
     },
     "7331fc29195b4e3d8a637dd804a5f447": {
      "model_module": "@jupyter-widgets/base",
      "model_module_version": "1.0.0",
      "model_name": "LayoutModel",
      "state": {}
     },
     "735bd5cf91f341a0aaa7053f80bdd2b2": {
      "model_module": "@jupyter-widgets/base",
      "model_module_version": "1.0.0",
      "model_name": "LayoutModel",
      "state": {}
     },
     "73c61e62236546379381715c89153640": {
      "model_module": "@jupyter-widgets/base",
      "model_module_version": "1.0.0",
      "model_name": "LayoutModel",
      "state": {}
     },
     "73d1d183159e4eb7bfa4536e3f59f1f5": {
      "model_module": "@jupyter-widgets/controls",
      "model_module_version": "1.2.0",
      "model_name": "SliderStyleModel",
      "state": {
       "description_width": "initial"
      }
     },
     "73f6816fd9404bd497f08e976d10891a": {
      "model_module": "@jupyter-widgets/controls",
      "model_module_version": "1.2.0",
      "model_name": "DescriptionStyleModel",
      "state": {
       "description_width": "initial"
      }
     },
     "74556d23560749cd83b628ca17c17a03": {
      "model_module": "@jupyter-widgets/base",
      "model_module_version": "1.0.0",
      "model_name": "LayoutModel",
      "state": {}
     },
     "74835e75e2bf4b759b4f6577f2b2020c": {
      "model_module": "@jupyter-widgets/controls",
      "model_module_version": "1.2.0",
      "model_name": "SliderStyleModel",
      "state": {
       "description_width": "initial"
      }
     },
     "74ac13abc0a746b88d82ff69f483e592": {
      "model_module": "@jupyter-widgets/controls",
      "model_module_version": "1.2.0",
      "model_name": "ToggleButtonsModel",
      "state": {
       "_options_labels": [
        "Simple",
        "Mixed",
        "Complex"
       ],
       "button_style": "",
       "description": "Simplification Level:",
       "icons": [],
       "index": 1,
       "layout": "IPY_MODEL_358b85675660437d91780d8aa0097a00",
       "style": "IPY_MODEL_c44f3f66ec554097bfc60ee48f027378",
       "tooltips": [
        "Renewables, Fossil, and Nuclear",
        "Solar, Wind, Hydro, Geothermal,Biomass, Wave and Tidal,\n Storage, Fossil, Nuclear",
        "Solar, Wind, Hydro, Geothermal,Biomass, Wave and Tidal,\n Storage, Fossil, Nuclear, Coal, Gas, Oil, Waste, Cogeneration"
       ]
      }
     },
     "74ae4d6a8e554dd495161472cefba67f": {
      "model_module": "@jupyter-widgets/controls",
      "model_module_version": "1.2.0",
      "model_name": "IntSliderModel",
      "state": {
       "continuous_update": false,
       "description": "Number of Legend Columns:",
       "layout": "IPY_MODEL_e939a14180474b2782bf7f2024bc33aa",
       "max": 3,
       "min": 1,
       "style": "IPY_MODEL_cebc6e0301c447b5a6980e762b8105cb",
       "value": 1
      }
     },
     "74dcc5c6ec6d4ee9a4b8294ef2492ea7": {
      "model_module": "@jupyter-widgets/controls",
      "model_module_version": "1.2.0",
      "model_name": "SliderStyleModel",
      "state": {
       "description_width": "initial"
      }
     },
     "755d0b3f7812438aa5c260b54cf52caa": {
      "model_module": "@jupyter-widgets/controls",
      "model_module_version": "1.2.0",
      "model_name": "DropdownModel",
      "state": {
       "_options_labels": [
        "capacity",
        "alphabetical"
       ],
       "description": "Sort Legend By:",
       "index": 0,
       "layout": "IPY_MODEL_607a6e59d9804276aa154647bd4e2501",
       "style": "IPY_MODEL_b6e9fac3fc5c4d488529e69839187160"
      }
     },
     "75d38b2429324837a69e0a1ce0e2e67e": {
      "model_module": "@jupyter-widgets/controls",
      "model_module_version": "1.2.0",
      "model_name": "DescriptionStyleModel",
      "state": {
       "description_width": "initial"
      }
     },
     "7618737d939c4e36b0b4f5b7bb048297": {
      "model_module": "@jupyter-widgets/controls",
      "model_module_version": "1.2.0",
      "model_name": "SliderStyleModel",
      "state": {
       "description_width": "initial"
      }
     },
     "76d728711e264125a884a5b1d2186216": {
      "model_module": "@jupyter-widgets/base",
      "model_module_version": "1.0.0",
      "model_name": "LayoutModel",
      "state": {}
     },
     "773597eaa0c44d739e7feb9ccd7dc03b": {
      "model_module": "@jupyter-widgets/controls",
      "model_module_version": "1.2.0",
      "model_name": "DescriptionStyleModel",
      "state": {
       "description_width": "initial"
      }
     },
     "7737918c06004642a341382f0e725dda": {
      "model_module": "@jupyter-widgets/controls",
      "model_module_version": "1.2.0",
      "model_name": "ButtonStyleModel",
      "state": {}
     },
     "77cab9e4aebd4029a03a46f5d1843a4b": {
      "model_module": "@jupyter-widgets/base",
      "model_module_version": "1.0.0",
      "model_name": "LayoutModel",
      "state": {}
     },
     "78e38ab79c874a74ab8522fd282f67fc": {
      "model_module": "@jupyter-widgets/base",
      "model_module_version": "1.0.0",
      "model_name": "LayoutModel",
      "state": {}
     },
     "79c82f2ba432476db59670e1b4cf9f5b": {
      "model_module": "@jupyter-widgets/base",
      "model_module_version": "1.0.0",
      "model_name": "LayoutModel",
      "state": {}
     },
     "79c8bb2961a54b9cb38ce85da73f7e0d": {
      "model_module": "@jupyter-widgets/controls",
      "model_module_version": "1.2.0",
      "model_name": "TextModel",
      "state": {
       "description": "Island Size Thresh:",
       "layout": "IPY_MODEL_43d62ef7e5de4d448fca63f50f5d0f21",
       "placeholder": "Type a island thresh",
       "style": "IPY_MODEL_a3442ce13948432e8cc77853bf254d31",
       "value": "5000"
      }
     },
     "79cdd44eeb2d46659cfa88ab6f65b717": {
      "model_module": "@jupyter-widgets/controls",
      "model_module_version": "1.2.0",
      "model_name": "DescriptionStyleModel",
      "state": {
       "description_width": "initial"
      }
     },
     "79d03f3abf1f43c8b341fd3630893899": {
      "model_module": "@jupyter-widgets/controls",
      "model_module_version": "1.2.0",
      "model_name": "SliderStyleModel",
      "state": {
       "description_width": "initial"
      }
     },
     "7a0d6dde09db48c39701276c8b81191d": {
      "model_module": "@jupyter-widgets/controls",
      "model_module_version": "1.2.0",
      "model_name": "TextModel",
      "state": {
       "description": "Show Populated Places:",
       "layout": "IPY_MODEL_1cf980be96e547c3ae28633307a99e83",
       "placeholder": "Type something",
       "style": "IPY_MODEL_5604210dd35d465ebaac3ba495bdd3c6",
       "value": "False"
      }
     },
     "7a48b50215ea42b6bb1f7187a472844c": {
      "model_module": "@jupyter-widgets/base",
      "model_module_version": "1.0.0",
      "model_name": "LayoutModel",
      "state": {}
     },
     "7aec7fc355204be394f975af30341b70": {
      "model_module": "@jupyter-widgets/controls",
      "model_module_version": "1.2.0",
      "model_name": "SliderStyleModel",
      "state": {
       "description_width": "initial"
      }
     },
     "7b690176320b4de4b69756517fcedee1": {
      "model_module": "@jupyter-widgets/controls",
      "model_module_version": "1.2.0",
      "model_name": "ButtonStyleModel",
      "state": {}
     },
     "7b7d7fa6e7a34a5daa8b2d4705aa3538": {
      "model_module": "@jupyter-widgets/controls",
      "model_module_version": "1.2.0",
      "model_name": "DescriptionStyleModel",
      "state": {
       "description_width": "initial"
      }
     },
     "7ba4cc77530740e5a28746b63d0a8b3e": {
      "model_module": "@jupyter-widgets/controls",
      "model_module_version": "1.2.0",
      "model_name": "RadioButtonsModel",
      "state": {
       "_options_labels": [
        "True",
        "False"
       ],
       "description": "Title On:",
       "index": 0,
       "layout": "IPY_MODEL_181063281f014ef2ae44ab2ab5599dab",
       "style": "IPY_MODEL_42657007b7114e6b837670dfae32e3e7"
      }
     },
     "7bab429d27c54cbaaa34c0442f95640d": {
      "model_module": "@jupyter-widgets/base",
      "model_module_version": "1.0.0",
      "model_name": "LayoutModel",
      "state": {}
     },
     "7c97edc2cf9c408e9aa61e18fa7a449c": {
      "model_module": "@jupyter-widgets/base",
      "model_module_version": "1.0.0",
      "model_name": "LayoutModel",
      "state": {}
     },
     "7c9f3830640643c7a87a0d6ba3e6b3de": {
      "model_module": "@jupyter-widgets/controls",
      "model_module_version": "1.2.0",
      "model_name": "RadioButtonsModel",
      "state": {
       "_options_labels": [
        "True",
        "False"
       ],
       "description": "Source On:",
       "index": 0,
       "layout": "IPY_MODEL_6ef544a0f23f448ea61d76827ddf554f",
       "style": "IPY_MODEL_d17cbb87c6574121b663a72758917e96"
      }
     },
     "7cdd10a8b6164c11a0eb264138ab0cf8": {
      "model_module": "@jupyter-widgets/controls",
      "model_module_version": "1.2.0",
      "model_name": "SliderStyleModel",
      "state": {
       "description_width": "initial"
      }
     },
     "7d20ae9a5a024904b73d29284e391e86": {
      "model_module": "@jupyter-widgets/controls",
      "model_module_version": "1.2.0",
      "model_name": "FloatSliderModel",
      "state": {
       "continuous_update": false,
       "description": "Zoom Level:",
       "layout": "IPY_MODEL_0beff752fed84020bc817f17c2ecaa1d",
       "max": 3,
       "min": 0.5,
       "readout_format": ".1f",
       "step": 0.1,
       "style": "IPY_MODEL_a2aeac8fd2a44505a83688aa0828e4ef",
       "value": 1.5
      }
     },
     "7d8d5133f57346deb21974a0a242f2ee": {
      "model_module": "@jupyter-widgets/base",
      "model_module_version": "1.0.0",
      "model_name": "LayoutModel",
      "state": {}
     },
     "7da1bcbd095e4333bd52e2821c255a5a": {
      "model_module": "@jupyter-widgets/base",
      "model_module_version": "1.0.0",
      "model_name": "LayoutModel",
      "state": {}
     },
     "7ddc92e61fbc4f82990fbe5d0bb632c6": {
      "model_module": "@jupyter-widgets/base",
      "model_module_version": "1.0.0",
      "model_name": "LayoutModel",
      "state": {}
     },
     "7e1b639ee9cb4cb28347d914f0d7f19b": {
      "model_module": "@jupyter-widgets/controls",
      "model_module_version": "1.2.0",
      "model_name": "RadioButtonsModel",
      "state": {
       "_options_labels": [
        "True",
        "False"
       ],
       "description": "Source On:",
       "index": 0,
       "layout": "IPY_MODEL_6b95c217148f41fb9efcc669c5552a66",
       "style": "IPY_MODEL_a53713030ab54ac3973e0aca89a09285"
      }
     },
     "7e4d73ac38f24f84a00c081267fce9e4": {
      "model_module": "@jupyter-widgets/controls",
      "model_module_version": "1.2.0",
      "model_name": "ButtonStyleModel",
      "state": {}
     },
     "7e549bbdcc914a5dbb2f4f73a7501483": {
      "model_module": "@jupyter-widgets/controls",
      "model_module_version": "1.2.0",
      "model_name": "ButtonModel",
      "state": {
       "description": "Update Plot",
       "icon": "check",
       "layout": "IPY_MODEL_05cf403f1c984ed785a57914e07b3ed4",
       "style": "IPY_MODEL_5d5c70c261a14357b167e42fc1d21d6f",
       "tooltip": "Update Plot"
      }
     },
     "7eebd21cecfd4f438cda8b39232357ff": {
      "model_module": "@jupyter-widgets/base",
      "model_module_version": "1.0.0",
      "model_name": "LayoutModel",
      "state": {}
     },
     "7f20be3a9ad5443480abf467c51df891": {
      "model_module": "@jupyter-widgets/controls",
      "model_module_version": "1.2.0",
      "model_name": "DescriptionStyleModel",
      "state": {
       "description_width": "initial"
      }
     },
     "7f5c2c2769ff4e2596c2b3b525fe71bd": {
      "model_module": "@jupyter-widgets/controls",
      "model_module_version": "1.2.0",
      "model_name": "DescriptionStyleModel",
      "state": {
       "description_width": ""
      }
     },
     "7f8fd98facf14931b1fb7ef863719047": {
      "model_module": "@jupyter-widgets/base",
      "model_module_version": "1.0.0",
      "model_name": "LayoutModel",
      "state": {}
     },
     "7f9bf6dbe7e14010b2690230fa643a59": {
      "model_module": "@jupyter-widgets/base",
      "model_module_version": "1.0.0",
      "model_name": "LayoutModel",
      "state": {
       "height": "80px",
       "width": "70%"
      }
     },
     "7fd399169c1b4b78953e4883039d919b": {
      "model_module": "@jupyter-widgets/controls",
      "model_module_version": "1.2.0",
      "model_name": "ButtonModel",
      "state": {
       "description": "Save Plot",
       "icon": "check",
       "layout": "IPY_MODEL_5fcb70cac1cf48d3a57d9f2586e10033",
       "style": "IPY_MODEL_2d8014c48b5a4740b47b895f621dc9a1",
       "tooltip": "Save Plot"
      }
     },
     "80032675e88d4dd4bbcd7c89205270cf": {
      "model_module": "@jupyter-widgets/controls",
      "model_module_version": "1.2.0",
      "model_name": "SliderStyleModel",
      "state": {
       "description_width": "initial"
      }
     },
     "803e919c674e4c4da6d309aaa366c2e8": {
      "model_module": "@jupyter-widgets/base",
      "model_module_version": "1.0.0",
      "model_name": "LayoutModel",
      "state": {}
     },
     "80584b831d434dbdbc7e902b8b24dae2": {
      "model_module": "@jupyter-widgets/controls",
      "model_module_version": "1.2.0",
      "model_name": "TextModel",
      "state": {
       "description": "Country Name:",
       "layout": "IPY_MODEL_c9d409efbcc64adfb585a74f16d55f1a",
       "placeholder": "Type a country name",
       "style": "IPY_MODEL_f0fce0215ce14a779d1d1b189dcd5b9b",
       "value": "India"
      }
     },
     "8097eb290d1d4e6093667c51954a03bc": {
      "model_module": "@jupyter-widgets/controls",
      "model_module_version": "1.2.0",
      "model_name": "SliderStyleModel",
      "state": {
       "description_width": "initial"
      }
     },
     "80a60a4f0d544959bb6b9dbda2230dc4": {
      "model_module": "@jupyter-widgets/base",
      "model_module_version": "1.0.0",
      "model_name": "LayoutModel",
      "state": {}
     },
     "812d4122eae54d6ab77db4992c2c465c": {
      "model_module": "@jupyter-widgets/controls",
      "model_module_version": "1.2.0",
      "model_name": "TextModel",
      "state": {
       "description": "Island Size Thresh:",
       "layout": "IPY_MODEL_fd12f7200d614261911ba9e54207e1c3",
       "placeholder": "Type a island thresh",
       "style": "IPY_MODEL_a939cb5b8d0a4653b7d92c7d38386a92",
       "value": "5000"
      }
     },
     "817ccc7172614df5b4416465fa91d5a6": {
      "model_module": "@jupyter-widgets/base",
      "model_module_version": "1.0.0",
      "model_name": "LayoutModel",
      "state": {}
     },
     "81830a18813143978c743c22e5bc272d": {
      "model_module": "@jupyter-widgets/controls",
      "model_module_version": "1.2.0",
      "model_name": "DescriptionStyleModel",
      "state": {
       "description_width": "initial"
      }
     },
     "8183701606334a04a1f0f44f49c8d1d4": {
      "model_module": "@jupyter-widgets/base",
      "model_module_version": "1.0.0",
      "model_name": "LayoutModel",
      "state": {}
     },
     "8190f6e3e477429e8dd885b5b4d38d64": {
      "model_module": "@jupyter-widgets/controls",
      "model_module_version": "1.2.0",
      "model_name": "DescriptionStyleModel",
      "state": {
       "description_width": ""
      }
     },
     "82035f79afbc4637b0bce9a88d290b03": {
      "model_module": "@jupyter-widgets/base",
      "model_module_version": "1.0.0",
      "model_name": "LayoutModel",
      "state": {}
     },
     "825e7d3d608846609d7f7879b11646ec": {
      "model_module": "@jupyter-widgets/base",
      "model_module_version": "1.0.0",
      "model_name": "LayoutModel",
      "state": {}
     },
     "82caf84b50874dfa9ddbd6802a0c6a62": {
      "model_module": "@jupyter-widgets/controls",
      "model_module_version": "1.2.0",
      "model_name": "IntSliderModel",
      "state": {
       "continuous_update": false,
       "description": "DPI (resolution):",
       "layout": "IPY_MODEL_b42072e9f2e341f3b1d204410dbcfc7e",
       "max": 500,
       "min": 100,
       "style": "IPY_MODEL_5eb0ff5db45b421180d878d1b3646ffa",
       "value": 300
      }
     },
     "82f7d84d69794a77989d4ac2532b3585": {
      "model_module": "@jupyter-widgets/controls",
      "model_module_version": "1.2.0",
      "model_name": "SliderStyleModel",
      "state": {
       "description_width": "initial"
      }
     },
     "83225c7106444133be9f3d6a7257ad6e": {
      "model_module": "@jupyter-widgets/base",
      "model_module_version": "1.0.0",
      "model_name": "LayoutModel",
      "state": {}
     },
     "837136d7f6d645b282b942cd7c4aae5d": {
      "model_module": "@jupyter-widgets/base",
      "model_module_version": "1.0.0",
      "model_name": "LayoutModel",
      "state": {}
     },
     "83a1bb82708549718ddfe67dd878390b": {
      "model_module": "@jupyter-widgets/controls",
      "model_module_version": "1.2.0",
      "model_name": "DescriptionStyleModel",
      "state": {
       "description_width": ""
      }
     },
     "83dbea14b7674523b2e4200a2dde9851": {
      "model_module": "@jupyter-widgets/base",
      "model_module_version": "1.0.0",
      "model_name": "LayoutModel",
      "state": {}
     },
     "83f4d537feec42b9bed87fae26361045": {
      "model_module": "@jupyter-widgets/base",
      "model_module_version": "1.0.0",
      "model_name": "LayoutModel",
      "state": {}
     },
     "83f98594930c41ed80f1a0d031d20de8": {
      "model_module": "@jupyter-widgets/base",
      "model_module_version": "1.0.0",
      "model_name": "LayoutModel",
      "state": {}
     },
     "846435c573dd4e8eabd4a80c555fb8fe": {
      "model_module": "@jupyter-widgets/controls",
      "model_module_version": "1.2.0",
      "model_name": "FloatSliderModel",
      "state": {
       "continuous_update": false,
       "description": "Zoom Level:",
       "layout": "IPY_MODEL_a9e64cc6a4e84f83b4a59dcb79cba70e",
       "max": 3,
       "min": 0.5,
       "readout_format": ".1f",
       "step": 0.1,
       "style": "IPY_MODEL_f5e200ea06ab4c90b79f56a68abc7ab3",
       "value": 1.5
      }
     },
     "848d71a376ff4d83a09b5f7f5c18dee7": {
      "model_module": "@jupyter-widgets/controls",
      "model_module_version": "1.2.0",
      "model_name": "FloatSliderModel",
      "state": {
       "continuous_update": false,
       "description": "Bubble Opacity:",
       "layout": "IPY_MODEL_8638caa2ac804152b752288b6fe7990e",
       "max": 1,
       "readout_format": ".1f",
       "step": 0.1,
       "style": "IPY_MODEL_12b8b3adb0454383bb82c961e846082a",
       "value": 0.5
      }
     },
     "84a11243ae76401f8b71d2567005c6e9": {
      "model_module": "@jupyter-widgets/controls",
      "model_module_version": "1.2.0",
      "model_name": "DescriptionStyleModel",
      "state": {
       "description_width": "initial"
      }
     },
     "850346a028ab4871a22e8cd25b3b35db": {
      "model_module": "@jupyter-widgets/base",
      "model_module_version": "1.0.0",
      "model_name": "LayoutModel",
      "state": {}
     },
     "858a00cf01134bdba3f767756a2be961": {
      "model_module": "@jupyter-widgets/controls",
      "model_module_version": "1.2.0",
      "model_name": "DescriptionStyleModel",
      "state": {
       "description_width": "initial"
      }
     },
     "86058b2f07fe4dddaf737f805c1be68b": {
      "model_module": "@jupyter-widgets/controls",
      "model_module_version": "1.2.0",
      "model_name": "TextModel",
      "state": {
       "description": "Island Size Thresh:",
       "layout": "IPY_MODEL_3c57055b40df44d3bae5c673fd9d6b0d",
       "placeholder": "Type a island thresh",
       "style": "IPY_MODEL_5dd8ac7130824542ae50b6288e72d8ee",
       "value": "5000"
      }
     },
     "86180b5f6c09448e9405b0dd50cb83be": {
      "model_module": "@jupyter-widgets/base",
      "model_module_version": "1.0.0",
      "model_name": "LayoutModel",
      "state": {}
     },
     "8638caa2ac804152b752288b6fe7990e": {
      "model_module": "@jupyter-widgets/base",
      "model_module_version": "1.0.0",
      "model_name": "LayoutModel",
      "state": {}
     },
     "86687faedddf4dcf9276de9831cd8c80": {
      "model_module": "@jupyter-widgets/controls",
      "model_module_version": "1.2.0",
      "model_name": "TextModel",
      "state": {
       "description": "Show Populated Places:",
       "layout": "IPY_MODEL_54ff99d43ff44aab99fc4cbd1421c1c3",
       "placeholder": "Type something",
       "style": "IPY_MODEL_263822d472954a13bbe3bb1a89e1375a",
       "value": "False"
      }
     },
     "8713fdbea88e4f1db2aa56ca4d3c6c2b": {
      "model_module": "@jupyter-widgets/controls",
      "model_module_version": "1.2.0",
      "model_name": "RadioButtonsModel",
      "state": {
       "_options_labels": [
        "True",
        "False"
       ],
       "description": "Source On:",
       "index": 1,
       "layout": "IPY_MODEL_e761b416f68b492bac0ec93e8c282bc0",
       "style": "IPY_MODEL_d21305a21e554fefbd64159bfa2cbf70"
      }
     },
     "8744aae140644701a9461f9daf5c44d6": {
      "model_module": "@jupyter-widgets/controls",
      "model_module_version": "1.2.0",
      "model_name": "DescriptionStyleModel",
      "state": {
       "description_width": "initial"
      }
     },
     "874719580fca4fc08cb83eb70f630d04": {
      "model_module": "@jupyter-widgets/controls",
      "model_module_version": "1.2.0",
      "model_name": "DescriptionStyleModel",
      "state": {
       "description_width": ""
      }
     },
     "8836b2a3d8a34e60946bc10cd65210f2": {
      "model_module": "@jupyter-widgets/controls",
      "model_module_version": "1.2.0",
      "model_name": "ButtonModel",
      "state": {
       "description": "Save Plot",
       "icon": "check",
       "layout": "IPY_MODEL_a44dd498dc6747bd86857fb7d5f9df5b",
       "style": "IPY_MODEL_10d2814d3e2a4514be2f21a0f26f9f9a",
       "tooltip": "Save Plot"
      }
     },
     "883cf5e88f4c44329bdce1e336a39253": {
      "model_module": "@jupyter-widgets/controls",
      "model_module_version": "1.2.0",
      "model_name": "SliderStyleModel",
      "state": {
       "description_width": "initial"
      }
     },
     "884fb414b3ea4fb9bc3af0b028f0d911": {
      "model_module": "@jupyter-widgets/base",
      "model_module_version": "1.0.0",
      "model_name": "LayoutModel",
      "state": {}
     },
     "88a3122b6f3848c2a2f6e91a5eaedca0": {
      "model_module": "@jupyter-widgets/controls",
      "model_module_version": "1.2.0",
      "model_name": "DescriptionStyleModel",
      "state": {
       "description_width": ""
      }
     },
     "890318aab5cb4ad9ba4bee74825097f5": {
      "model_module": "@jupyter-widgets/base",
      "model_module_version": "1.0.0",
      "model_name": "LayoutModel",
      "state": {
       "height": "80px",
       "width": "70%"
      }
     },
     "893588eccb564a26b2026e0d63bb40d0": {
      "model_module": "@jupyter-widgets/base",
      "model_module_version": "1.0.0",
      "model_name": "LayoutModel",
      "state": {}
     },
     "8959ff100ee445a78e496817cfc5ecb7": {
      "model_module": "@jupyter-widgets/controls",
      "model_module_version": "1.2.0",
      "model_name": "TextModel",
      "state": {
       "description": "Path to save to:",
       "layout": "IPY_MODEL_f3abe3be76044e9b9fb7f71e53f968a8",
       "placeholder": "Type the complete path to save to",
       "style": "IPY_MODEL_a8cd86d012424d2b8cfe370ad72fa4e2",
       "value": "/Users/skoebric/Downloads/XYZ.png"
      }
     },
     "89922072791843079824a9c79b707815": {
      "model_module": "@jupyter-widgets/controls",
      "model_module_version": "1.2.0",
      "model_name": "RadioButtonsModel",
      "state": {
       "_options_labels": [
        "True",
        "False"
       ],
       "description": "Title On:",
       "index": 0,
       "layout": "IPY_MODEL_24ee941e6e104ee3a69b0b0ad2973313",
       "style": "IPY_MODEL_8dfa61e509124d2993d840058b23561c"
      }
     },
     "89ae9a7c40b34c319da0d0a71b1cf288": {
      "model_module": "@jupyter-widgets/controls",
      "model_module_version": "1.2.0",
      "model_name": "ButtonModel",
      "state": {
       "description": "Update Plot",
       "icon": "check",
       "layout": "IPY_MODEL_5d8481f9b3834ec3afe531a153110000",
       "style": "IPY_MODEL_7b690176320b4de4b69756517fcedee1",
       "tooltip": "Update Plot"
      }
     },
     "8a74ef72a6a64ee3b542b9ea951e68c2": {
      "model_module": "@jupyter-widgets/base",
      "model_module_version": "1.0.0",
      "model_name": "LayoutModel",
      "state": {}
     },
     "8a792adcdcd24b42baa0d3518b64bb69": {
      "model_module": "@jupyter-widgets/base",
      "model_module_version": "1.0.0",
      "model_name": "LayoutModel",
      "state": {}
     },
     "8ab9c247c0d945d49190471914a03182": {
      "model_module": "@jupyter-widgets/base",
      "model_module_version": "1.0.0",
      "model_name": "LayoutModel",
      "state": {}
     },
     "8ad372ade238496f9e5d13b26318a7aa": {
      "model_module": "@jupyter-widgets/controls",
      "model_module_version": "1.2.0",
      "model_name": "SliderStyleModel",
      "state": {
       "description_width": "initial"
      }
     },
     "8b0651bcb3f34a45aee053d8282ca6f7": {
      "model_module": "@jupyter-widgets/base",
      "model_module_version": "1.0.0",
      "model_name": "LayoutModel",
      "state": {}
     },
     "8b08b1a8318a4de8900c36bf0be41a6c": {
      "model_module": "@jupyter-widgets/base",
      "model_module_version": "1.0.0",
      "model_name": "LayoutModel",
      "state": {}
     },
     "8b2f9a33762b4b15ae4f4393d069d6ca": {
      "model_module": "@jupyter-widgets/controls",
      "model_module_version": "1.2.0",
      "model_name": "IntSliderModel",
      "state": {
       "continuous_update": false,
       "description": "Number of Legend Columns:",
       "layout": "IPY_MODEL_d5a29190c7d64b3785f3face249e1e97",
       "max": 3,
       "min": 1,
       "style": "IPY_MODEL_d98e39b0546441fb8d0ebcd3c1fbe018",
       "value": 1
      }
     },
     "8bb9540728644984919b3f6410ac25fb": {
      "model_module": "@jupyter-widgets/base",
      "model_module_version": "1.0.0",
      "model_name": "LayoutModel",
      "state": {}
     },
     "8c610c681d8b4afcbb445d8907abf344": {
      "model_module": "@jupyter-widgets/base",
      "model_module_version": "1.0.0",
      "model_name": "LayoutModel",
      "state": {
       "height": "80px",
       "width": "70%"
      }
     },
     "8cf0bf08c24644919fcc1d6edd391c71": {
      "model_module": "@jupyter-widgets/controls",
      "model_module_version": "1.2.0",
      "model_name": "ToggleButtonsStyleModel",
      "state": {
       "button_width": "",
       "description_width": "initial"
      }
     },
     "8cf780eb55a64858930abb97f954cb7b": {
      "model_module": "@jupyter-widgets/controls",
      "model_module_version": "1.2.0",
      "model_name": "DescriptionStyleModel",
      "state": {
       "description_width": "initial"
      }
     },
     "8dbda3e6b9744783af3803ca4a4c938e": {
      "model_module": "@jupyter-widgets/controls",
      "model_module_version": "1.2.0",
      "model_name": "DescriptionStyleModel",
      "state": {
       "description_width": "initial"
      }
     },
     "8dfa61e509124d2993d840058b23561c": {
      "model_module": "@jupyter-widgets/controls",
      "model_module_version": "1.2.0",
      "model_name": "DescriptionStyleModel",
      "state": {
       "description_width": ""
      }
     },
     "8e182ac748fe4d1ab398cda5f8afc2da": {
      "model_module": "@jupyter-widgets/base",
      "model_module_version": "1.0.0",
      "model_name": "LayoutModel",
      "state": {}
     },
     "8e2bb488b03347f990be99fe03832f84": {
      "model_module": "@jupyter-widgets/controls",
      "model_module_version": "1.2.0",
      "model_name": "TextModel",
      "state": {
       "description": "Coordinate System:",
       "layout": "IPY_MODEL_f5c9b35aab294d5880b48b3364375fbb",
       "placeholder": "Type something",
       "style": "IPY_MODEL_5a72c47948fd488b831d36ae1219fd4f",
       "value": "spherical"
      }
     },
     "8e369e9e95b0412a956edc2eec5ca3ee": {
      "model_module": "@jupyter-widgets/base",
      "model_module_version": "1.0.0",
      "model_name": "LayoutModel",
      "state": {}
     },
     "8e46a15b7e9248189c4bb5ecc5556f95": {
      "model_module": "@jupyter-widgets/controls",
      "model_module_version": "1.2.0",
      "model_name": "SliderStyleModel",
      "state": {
       "description_width": "initial"
      }
     },
     "8ed7df5e7a844766ad6424c209f2f0be": {
      "model_module": "@jupyter-widgets/controls",
      "model_module_version": "1.2.0",
      "model_name": "TextModel",
      "state": {
       "description": "Show Populated Places:",
       "layout": "IPY_MODEL_20c9c3560d1a4fddbfa364d69d3e57db",
       "placeholder": "Type something",
       "style": "IPY_MODEL_17fda476d83d451b96a27382b43017db",
       "value": "False"
      }
     },
     "8f877667a02442788a9979864ba78d8e": {
      "model_module": "@jupyter-widgets/base",
      "model_module_version": "1.0.0",
      "model_name": "LayoutModel",
      "state": {}
     },
     "8fc51a5b88174f0a98789e289a6e6f5d": {
      "model_module": "@jupyter-widgets/controls",
      "model_module_version": "1.2.0",
      "model_name": "TextModel",
      "state": {
       "description": "Coordinate System:",
       "layout": "IPY_MODEL_d598a65034034c44b45929b36411b4f9",
       "placeholder": "Type something",
       "style": "IPY_MODEL_ad48dda1a9444b19b3047c773600afef",
       "value": "spherical"
      }
     },
     "907594db91324fe2b8859881494a224e": {
      "model_module": "@jupyter-widgets/base",
      "model_module_version": "1.0.0",
      "model_name": "LayoutModel",
      "state": {}
     },
     "913e1a4e88e04142b158f48560f047b0": {
      "model_module": "@jupyter-widgets/controls",
      "model_module_version": "1.2.0",
      "model_name": "SliderStyleModel",
      "state": {
       "description_width": "initial"
      }
     },
     "914edea9d2444b79a2e5aaa0cf90343f": {
      "model_module": "@jupyter-widgets/controls",
      "model_module_version": "1.2.0",
      "model_name": "ButtonStyleModel",
      "state": {}
     },
     "915cb366beb24be685222eef2fff64ff": {
      "model_module": "@jupyter-widgets/base",
      "model_module_version": "1.0.0",
      "model_name": "LayoutModel",
      "state": {}
     },
     "919965e9953443cb8366be26c6435b8f": {
      "model_module": "@jupyter-widgets/controls",
      "model_module_version": "1.2.0",
      "model_name": "IntSliderModel",
      "state": {
       "continuous_update": false,
       "description": "DPI (resolution):",
       "layout": "IPY_MODEL_d391a542eb154a8f976f70192d816b53",
       "max": 500,
       "min": 100,
       "style": "IPY_MODEL_1f36b9b2b18846de9bb8e9c60445f3cd",
       "value": 300
      }
     },
     "91d018b0c50a42a3ad9699c58b3c16ea": {
      "model_module": "@jupyter-widgets/controls",
      "model_module_version": "1.2.0",
      "model_name": "FloatSliderModel",
      "state": {
       "continuous_update": false,
       "description": "Bubble Opacity:",
       "layout": "IPY_MODEL_51aad100766c496397ba998cdedc03e0",
       "max": 1,
       "readout_format": ".1f",
       "step": 0.1,
       "style": "IPY_MODEL_dcd03308b05542d9a2ccef6eaee46fc1",
       "value": 0.5
      }
     },
     "92e7ecf1b75d493bb209130d907d9789": {
      "model_module": "@jupyter-widgets/controls",
      "model_module_version": "1.2.0",
      "model_name": "IntSliderModel",
      "state": {
       "continuous_update": false,
       "description": "Number of Legend Columns:",
       "layout": "IPY_MODEL_a5e47502d02842a3b59352b4bb1543ad",
       "max": 3,
       "min": 1,
       "style": "IPY_MODEL_9dc6de970eac4d33aec5471189779d33",
       "value": 1
      }
     },
     "930433d00e4e467aa5d7e2a9bf519a68": {
      "model_module": "@jupyter-widgets/base",
      "model_module_version": "1.0.0",
      "model_name": "LayoutModel",
      "state": {}
     },
     "94041037c4984306a39e2e3c519602e6": {
      "model_module": "@jupyter-widgets/base",
      "model_module_version": "1.0.0",
      "model_name": "LayoutModel",
      "state": {}
     },
     "94774508857a4904bf9da3b8d4aadace": {
      "model_module": "@jupyter-widgets/controls",
      "model_module_version": "1.2.0",
      "model_name": "SliderStyleModel",
      "state": {
       "description_width": "initial"
      }
     },
     "94a880a70bfd4aacb4ba03bf1d59ae92": {
      "model_module": "@jupyter-widgets/controls",
      "model_module_version": "1.2.0",
      "model_name": "ButtonStyleModel",
      "state": {}
     },
     "94aa4b7816374ba7a9489cb605577512": {
      "model_module": "@jupyter-widgets/controls",
      "model_module_version": "1.2.0",
      "model_name": "RadioButtonsModel",
      "state": {
       "_options_labels": [
        "True",
        "False"
       ],
       "description": "Title On:",
       "index": 0,
       "layout": "IPY_MODEL_3294e7b317744b7e9c1507895e98ad3d",
       "style": "IPY_MODEL_728a2b15464f4a55a7a63cea57e12d1d"
      }
     },
     "95dee208edd845d69214f79f93d9c024": {
      "model_module": "@jupyter-widgets/base",
      "model_module_version": "1.0.0",
      "model_name": "LayoutModel",
      "state": {}
     },
     "965765d4bde74a61ab38fbd5857b8b83": {
      "model_module": "@jupyter-widgets/controls",
      "model_module_version": "1.2.0",
      "model_name": "TextModel",
      "state": {
       "description": "Island Size Thresh:",
       "layout": "IPY_MODEL_fed9b0e964f04423bea13b87a9116a31",
       "placeholder": "Type a island thresh",
       "style": "IPY_MODEL_4a4c05f3541848adac12987f9423700e",
       "value": "5000"
      }
     },
     "969b72f9f7d64ad4b854e9a4fe99223a": {
      "model_module": "@jupyter-widgets/controls",
      "model_module_version": "1.2.0",
      "model_name": "DropdownModel",
      "state": {
       "_options_labels": [
        "capacity",
        "alphabetical"
       ],
       "description": "Sort Legend By:",
       "index": 0,
       "layout": "IPY_MODEL_bf2f14644d2d4417ba9ed3b44c01d22f",
       "style": "IPY_MODEL_59420138f5c443688f9971e1e65bcff6"
      }
     },
     "97389ded853a41938f1ce898908aee11": {
      "model_module": "@jupyter-widgets/controls",
      "model_module_version": "1.2.0",
      "model_name": "IntSliderModel",
      "state": {
       "continuous_update": false,
       "description": "DPI (resolution):",
       "layout": "IPY_MODEL_7da1bcbd095e4333bd52e2821c255a5a",
       "max": 500,
       "min": 100,
       "style": "IPY_MODEL_8e46a15b7e9248189c4bb5ecc5556f95",
       "value": 300
      }
     },
     "97eef8891cae42d684ad21deba43532c": {
      "model_module": "@jupyter-widgets/base",
      "model_module_version": "1.0.0",
      "model_name": "LayoutModel",
      "state": {}
     },
     "98204c696dfb42f98ed606d3ba4d4542": {
      "model_module": "@jupyter-widgets/controls",
      "model_module_version": "1.2.0",
      "model_name": "DescriptionStyleModel",
      "state": {
       "description_width": "initial"
      }
     },
     "984196380b85499aa6ce0c4ea9b447c2": {
      "model_module": "@jupyter-widgets/controls",
      "model_module_version": "1.2.0",
      "model_name": "TextModel",
      "state": {
       "description": "Show Populated Places:",
       "layout": "IPY_MODEL_247bf49424d84e15a01c99dc430e7c52",
       "placeholder": "Type something",
       "style": "IPY_MODEL_d9d2ad81508b43acadb296279c19b1a4",
       "value": "False"
      }
     },
     "98b3e8a75cb244b1a50b5bff1eb0aff1": {
      "model_module": "@jupyter-widgets/base",
      "model_module_version": "1.0.0",
      "model_name": "LayoutModel",
      "state": {}
     },
     "98c2a89be7a043c4b91ced5cf7d22f51": {
      "model_module": "@jupyter-widgets/base",
      "model_module_version": "1.0.0",
      "model_name": "LayoutModel",
      "state": {
       "height": "80px",
       "width": "70%"
      }
     },
     "992f0c50e1034e45b1dc3da8be7496e4": {
      "model_module": "@jupyter-widgets/base",
      "model_module_version": "1.0.0",
      "model_name": "LayoutModel",
      "state": {}
     },
     "99404f0ff0eb411485db84bbde2c57fd": {
      "model_module": "@jupyter-widgets/base",
      "model_module_version": "1.0.0",
      "model_name": "LayoutModel",
      "state": {}
     },
     "999d9f60b477495788ea812ca406f577": {
      "model_module": "@jupyter-widgets/controls",
      "model_module_version": "1.2.0",
      "model_name": "FloatSliderModel",
      "state": {
       "continuous_update": false,
       "description": "Zoom Level:",
       "layout": "IPY_MODEL_f7a594726e20497d9ac9df38db0b7142",
       "max": 3,
       "min": 0.5,
       "readout_format": ".1f",
       "step": 0.1,
       "style": "IPY_MODEL_70d9c24df54746ce9b537ced9ed30285",
       "value": 1
      }
     },
     "99a64a9c93d84a17a5c1384644a1ecc3": {
      "model_module": "@jupyter-widgets/controls",
      "model_module_version": "1.2.0",
      "model_name": "ButtonModel",
      "state": {
       "description": "Update Plot",
       "icon": "check",
       "layout": "IPY_MODEL_b9c568d290684f7aa4671947d77f8e21",
       "style": "IPY_MODEL_feb06c0c3e894536819e43823020e7db",
       "tooltip": "Update Plot"
      }
     },
     "9a37aa0749964f879c61b493ec502d2d": {
      "model_module": "@jupyter-widgets/controls",
      "model_module_version": "1.2.0",
      "model_name": "TextModel",
      "state": {
       "description": "Path to save to:",
       "layout": "IPY_MODEL_9c4e3f2ec7b34d3abd88281338858839",
       "placeholder": "Type the complete path to save to",
       "style": "IPY_MODEL_8dbda3e6b9744783af3803ca4a4c938e",
       "value": "/Users/skoebric/Downloads/XYZ.png"
      }
     },
     "9a42e3ed21f14285a8724d7fb2be872a": {
      "model_module": "@jupyter-widgets/controls",
      "model_module_version": "1.2.0",
      "model_name": "DescriptionStyleModel",
      "state": {
       "description_width": "initial"
      }
     },
     "9a93d7bdd7c94b129d96672b4b55ee04": {
      "model_module": "@jupyter-widgets/controls",
      "model_module_version": "1.2.0",
      "model_name": "ButtonStyleModel",
      "state": {}
     },
     "9ab1fe573e8445949f69aa4030771271": {
      "model_module": "@jupyter-widgets/controls",
      "model_module_version": "1.2.0",
      "model_name": "DescriptionStyleModel",
      "state": {
       "description_width": "initial"
      }
     },
     "9af10a1711da45a09bec923d20f35840": {
      "model_module": "@jupyter-widgets/controls",
      "model_module_version": "1.2.0",
      "model_name": "ButtonModel",
      "state": {
       "description": "Update Plot",
       "icon": "check",
       "layout": "IPY_MODEL_c07edbf484224ae492216cb79ac420f3",
       "style": "IPY_MODEL_b207f461bc514fe79cbede5ce596bf1a",
       "tooltip": "Update Plot"
      }
     },
     "9afbc86f13914158a03d293a830ee70d": {
      "model_module": "@jupyter-widgets/controls",
      "model_module_version": "1.2.0",
      "model_name": "SliderStyleModel",
      "state": {
       "description_width": "initial"
      }
     },
     "9afec400fca6418cb4cc9d595a955dca": {
      "model_module": "@jupyter-widgets/controls",
      "model_module_version": "1.2.0",
      "model_name": "SliderStyleModel",
      "state": {
       "description_width": "initial"
      }
     },
     "9b1a4d4bd6834951a050b5bd6eacc2ae": {
      "model_module": "@jupyter-widgets/controls",
      "model_module_version": "1.2.0",
      "model_name": "RadioButtonsModel",
      "state": {
       "_options_labels": [
        "True",
        "False"
       ],
       "description": "Title On:",
       "index": 0,
       "layout": "IPY_MODEL_e999d189a0b3431290a255ef963307c7",
       "style": "IPY_MODEL_2e67e284122e45f38820600135fbe5bc"
      }
     },
     "9b452957eec74de8b1ddfa0b9b970be7": {
      "model_module": "@jupyter-widgets/controls",
      "model_module_version": "1.2.0",
      "model_name": "RadioButtonsModel",
      "state": {
       "_options_labels": [
        "True",
        "False"
       ],
       "description": "Source On:",
       "index": 0,
       "layout": "IPY_MODEL_1b01a670083f45dbbf021c60c9dc7124",
       "style": "IPY_MODEL_6ce2c4a3778f49d1a8d43508ce4779d1"
      }
     },
     "9b904e2e6e9342e2852f6de2aa4f9ebb": {
      "model_module": "@jupyter-widgets/controls",
      "model_module_version": "1.2.0",
      "model_name": "FloatSliderModel",
      "state": {
       "continuous_update": false,
       "description": "Bubble Opacity:",
       "layout": "IPY_MODEL_02b8a3844d794aed9133f3180581b508",
       "max": 1,
       "readout_format": ".1f",
       "step": 0.1,
       "style": "IPY_MODEL_9c7c305d475e478ebea7ac75a3f593ba",
       "value": 0.5
      }
     },
     "9c4e3f2ec7b34d3abd88281338858839": {
      "model_module": "@jupyter-widgets/base",
      "model_module_version": "1.0.0",
      "model_name": "LayoutModel",
      "state": {}
     },
     "9c60bee8798a4e7f8c90d24960124e3c": {
      "model_module": "@jupyter-widgets/base",
      "model_module_version": "1.0.0",
      "model_name": "LayoutModel",
      "state": {}
     },
     "9c7c305d475e478ebea7ac75a3f593ba": {
      "model_module": "@jupyter-widgets/controls",
      "model_module_version": "1.2.0",
      "model_name": "SliderStyleModel",
      "state": {
       "description_width": "initial"
      }
     },
     "9c802342e3ef40c588c6d3260b452777": {
      "model_module": "@jupyter-widgets/controls",
      "model_module_version": "1.2.0",
      "model_name": "ToggleButtonsModel",
      "state": {
       "_options_labels": [
        "Simple",
        "Mixed",
        "Complex"
       ],
       "button_style": "",
       "description": "Simplification Level:",
       "icons": [],
       "index": 1,
       "layout": "IPY_MODEL_9c60bee8798a4e7f8c90d24960124e3c",
       "style": "IPY_MODEL_e783fc82ca5b4b76b58945a2eb559b84",
       "tooltips": [
        "Renewables, Fossil, and Nuclear",
        "Solar, Wind, Hydro, Geothermal,Biomass, Wave and Tidal,\n Storage, Fossil, Nuclear",
        "Solar, Wind, Hydro, Geothermal,Biomass, Wave and Tidal,\n Storage, Fossil, Nuclear, Coal, Gas, Oil, Waste, Cogeneration"
       ]
      }
     },
     "9da689946cf74d4bba483f5465628bd3": {
      "model_module": "@jupyter-widgets/controls",
      "model_module_version": "1.2.0",
      "model_name": "DescriptionStyleModel",
      "state": {
       "description_width": "initial"
      }
     },
     "9dafbd9e184b45999d4a8ad3ee8480a6": {
      "model_module": "@jupyter-widgets/base",
      "model_module_version": "1.0.0",
      "model_name": "LayoutModel",
      "state": {}
     },
     "9dc6de970eac4d33aec5471189779d33": {
      "model_module": "@jupyter-widgets/controls",
      "model_module_version": "1.2.0",
      "model_name": "SliderStyleModel",
      "state": {
       "description_width": "initial"
      }
     },
     "9dd8c5c681444041b02f2b2084169202": {
      "model_module": "@jupyter-widgets/controls",
      "model_module_version": "1.2.0",
      "model_name": "TextModel",
      "state": {
       "description": "Country Precursor:",
       "layout": "IPY_MODEL_907594db91324fe2b8859881494a224e",
       "placeholder": "Precursor to Country Name",
       "style": "IPY_MODEL_b8b7370c21f64cfab016be68ddd42ccf"
      }
     },
     "9de1e3f5b2944f1b984cae49530eacd9": {
      "model_module": "@jupyter-widgets/controls",
      "model_module_version": "1.2.0",
      "model_name": "DescriptionStyleModel",
      "state": {
       "description_width": "initial"
      }
     },
     "9e1f28bc71734eaea6acf9896583ef44": {
      "model_module": "@jupyter-widgets/controls",
      "model_module_version": "1.2.0",
      "model_name": "SliderStyleModel",
      "state": {
       "description_width": "initial"
      }
     },
     "9eda990a19bc46bc9e1a80b3b86afc1f": {
      "model_module": "@jupyter-widgets/controls",
      "model_module_version": "1.2.0",
      "model_name": "IntSliderModel",
      "state": {
       "continuous_update": false,
       "description": "DPI (resolution):",
       "layout": "IPY_MODEL_125ef0dd2b614e468111d3c28974076a",
       "max": 500,
       "min": 100,
       "style": "IPY_MODEL_cafa6b702bdb4ce68bee8de02b64990c",
       "value": 300
      }
     },
     "9ee4a3134ea94993a80f3cc3359b9ef9": {
      "model_module": "@jupyter-widgets/controls",
      "model_module_version": "1.2.0",
      "model_name": "TextModel",
      "state": {
       "description": "Path to save to:",
       "layout": "IPY_MODEL_5524dbc4c70c480aa0dab21d8e09d233",
       "placeholder": "Type the complete path to save to",
       "style": "IPY_MODEL_858a00cf01134bdba3f767756a2be961",
       "value": "/Users/skoebric/Downloads/XYZ.png"
      }
     },
     "9f183a11da9847ce8956b6caa06ab79a": {
      "model_module": "@jupyter-widgets/controls",
      "model_module_version": "1.2.0",
      "model_name": "DescriptionStyleModel",
      "state": {
       "description_width": "initial"
      }
     },
     "9f9a7d0ce4a342a38f869b5ce296e39f": {
      "model_module": "@jupyter-widgets/controls",
      "model_module_version": "1.2.0",
      "model_name": "RadioButtonsModel",
      "state": {
       "_options_labels": [
        "True",
        "False"
       ],
       "description": "Source On:",
       "index": 0,
       "layout": "IPY_MODEL_5c4184c4faca424aa612d6865e36e44d",
       "style": "IPY_MODEL_eb59f877b3764bfab9c12b83637a8030"
      }
     },
     "9fb7ca89aa5147aebc0fe99c3c35b53e": {
      "model_module": "@jupyter-widgets/controls",
      "model_module_version": "1.2.0",
      "model_name": "IntSliderModel",
      "state": {
       "continuous_update": false,
       "description": "DPI (resolution):",
       "layout": "IPY_MODEL_61b5e42241674c2fa15fe9371c2b4406",
       "max": 500,
       "min": 100,
       "style": "IPY_MODEL_9afec400fca6418cb4cc9d595a955dca",
       "value": 300
      }
     },
     "9fe14b112e7449779121ffe9bf720456": {
      "model_module": "@jupyter-widgets/controls",
      "model_module_version": "1.2.0",
      "model_name": "ToggleButtonsModel",
      "state": {
       "_options_labels": [
        "Simple",
        "Mixed",
        "Complex"
       ],
       "button_style": "",
       "description": "Simplification Level:",
       "icons": [],
       "index": 1,
       "layout": "IPY_MODEL_5ee429b1adfe45dfa6b883d23bdd80c2",
       "style": "IPY_MODEL_f540d8b53d98419490e948fcc147f6fb",
       "tooltips": [
        "Renewables, Fossil, and Nuclear",
        "Solar, Wind, Hydro, Geothermal,Biomass, Wave and Tidal,\n Storage, Fossil, Nuclear",
        "Solar, Wind, Hydro, Geothermal,Biomass, Wave and Tidal,\n Storage, Fossil, Nuclear, Coal, Gas, Oil, Waste, Cogeneration"
       ]
      }
     },
     "a0167f6a4d574f0ab63d52658e485f1d": {
      "model_module": "@jupyter-widgets/controls",
      "model_module_version": "1.2.0",
      "model_name": "DescriptionStyleModel",
      "state": {
       "description_width": "initial"
      }
     },
     "a0a10ec583144003a6dbcb332f1aae7c": {
      "model_module": "@jupyter-widgets/controls",
      "model_module_version": "1.2.0",
      "model_name": "DescriptionStyleModel",
      "state": {
       "description_width": "initial"
      }
     },
     "a0e6de593c864e3baaeb47f27630b6b4": {
      "model_module": "@jupyter-widgets/base",
      "model_module_version": "1.0.0",
      "model_name": "LayoutModel",
      "state": {}
     },
     "a1021b79a44d4b4bae394d1c0e5e6c25": {
      "model_module": "@jupyter-widgets/controls",
      "model_module_version": "1.2.0",
      "model_name": "DescriptionStyleModel",
      "state": {
       "description_width": "initial"
      }
     },
     "a120d80849bd4298be4834c88a259bfb": {
      "model_module": "@jupyter-widgets/controls",
      "model_module_version": "1.2.0",
      "model_name": "DescriptionStyleModel",
      "state": {
       "description_width": ""
      }
     },
     "a1a6f214584d40f788f8c132f7a2d77f": {
      "model_module": "@jupyter-widgets/base",
      "model_module_version": "1.0.0",
      "model_name": "LayoutModel",
      "state": {}
     },
     "a1eb4647c3c04621a1f88dd90de401be": {
      "model_module": "@jupyter-widgets/controls",
      "model_module_version": "1.2.0",
      "model_name": "DescriptionStyleModel",
      "state": {
       "description_width": "initial"
      }
     },
     "a22c4e081b5f414d878555709e742130": {
      "model_module": "@jupyter-widgets/base",
      "model_module_version": "1.0.0",
      "model_name": "LayoutModel",
      "state": {
       "height": "80px",
       "width": "70%"
      }
     },
     "a244dc64e0fb422f912817f828bf8790": {
      "model_module": "@jupyter-widgets/controls",
      "model_module_version": "1.2.0",
      "model_name": "DescriptionStyleModel",
      "state": {
       "description_width": "initial"
      }
     },
     "a28fc1c97c8a4568af8e55671a1bc0e4": {
      "model_module": "@jupyter-widgets/controls",
      "model_module_version": "1.2.0",
      "model_name": "IntSliderModel",
      "state": {
       "continuous_update": false,
       "description": "DPI (resolution):",
       "layout": "IPY_MODEL_aabada7d9ad0471eaeddd4a526d2cfcc",
       "max": 500,
       "min": 100,
       "style": "IPY_MODEL_cb19b72f892e40299b2459889a02df3f",
       "value": 300
      }
     },
     "a2aeac8fd2a44505a83688aa0828e4ef": {
      "model_module": "@jupyter-widgets/controls",
      "model_module_version": "1.2.0",
      "model_name": "SliderStyleModel",
      "state": {
       "description_width": "initial"
      }
     },
     "a3053ac4dc474a35bfaa08902b8df08c": {
      "model_module": "@jupyter-widgets/controls",
      "model_module_version": "1.2.0",
      "model_name": "DescriptionStyleModel",
      "state": {
       "description_width": ""
      }
     },
     "a324fd71c2ca47ed8fc34bd529c3a9b9": {
      "model_module": "@jupyter-widgets/base",
      "model_module_version": "1.0.0",
      "model_name": "LayoutModel",
      "state": {}
     },
     "a333d0bb23d44307a5ce8f0b62288f7e": {
      "model_module": "@jupyter-widgets/controls",
      "model_module_version": "1.2.0",
      "model_name": "DropdownModel",
      "state": {
       "_options_labels": [
        "capacity",
        "alphabetical"
       ],
       "description": "Sort Legend By:",
       "index": 0,
       "layout": "IPY_MODEL_f70332aea0de48aa804be93b1583d5d9",
       "style": "IPY_MODEL_4ce81b013d4141ad92803eb4d0952a3f"
      }
     },
     "a33747bcdd354e29ad2026dc6e2fb03a": {
      "model_module": "@jupyter-widgets/controls",
      "model_module_version": "1.2.0",
      "model_name": "DescriptionStyleModel",
      "state": {
       "description_width": "initial"
      }
     },
     "a338b1a1aeb94e9bb157cf8dc10a5c2c": {
      "model_module": "@jupyter-widgets/controls",
      "model_module_version": "1.2.0",
      "model_name": "RadioButtonsModel",
      "state": {
       "_options_labels": [
        "True",
        "False"
       ],
       "description": "Title On:",
       "index": 0,
       "layout": "IPY_MODEL_a1a6f214584d40f788f8c132f7a2d77f",
       "style": "IPY_MODEL_21a47d71fcd54e3cb48a6a7c6a4eb009"
      }
     },
     "a3442ce13948432e8cc77853bf254d31": {
      "model_module": "@jupyter-widgets/controls",
      "model_module_version": "1.2.0",
      "model_name": "DescriptionStyleModel",
      "state": {
       "description_width": "initial"
      }
     },
     "a3c95242761945adb32c6e5ef2517b36": {
      "model_module": "@jupyter-widgets/base",
      "model_module_version": "1.0.0",
      "model_name": "LayoutModel",
      "state": {}
     },
     "a3e8128f25eb4d07b7a0c1d9cb22782f": {
      "model_module": "@jupyter-widgets/base",
      "model_module_version": "1.0.0",
      "model_name": "LayoutModel",
      "state": {}
     },
     "a43deb5f4ea34220bc499ac5398b8bea": {
      "model_module": "@jupyter-widgets/controls",
      "model_module_version": "1.2.0",
      "model_name": "SliderStyleModel",
      "state": {
       "description_width": "initial"
      }
     },
     "a44dd498dc6747bd86857fb7d5f9df5b": {
      "model_module": "@jupyter-widgets/base",
      "model_module_version": "1.0.0",
      "model_name": "LayoutModel",
      "state": {
       "height": "80px",
       "width": "70%"
      }
     },
     "a4ccc02fce1a4f9f9d81d431a50a657c": {
      "model_module": "@jupyter-widgets/base",
      "model_module_version": "1.0.0",
      "model_name": "LayoutModel",
      "state": {
       "height": "80px",
       "width": "70%"
      }
     },
     "a4e48d1735f14553afb9748d3959d7c5": {
      "model_module": "@jupyter-widgets/controls",
      "model_module_version": "1.2.0",
      "model_name": "DescriptionStyleModel",
      "state": {
       "description_width": "initial"
      }
     },
     "a4e6fa48d7034827b0eeed1d284528f2": {
      "model_module": "@jupyter-widgets/base",
      "model_module_version": "1.0.0",
      "model_name": "LayoutModel",
      "state": {}
     },
     "a53713030ab54ac3973e0aca89a09285": {
      "model_module": "@jupyter-widgets/controls",
      "model_module_version": "1.2.0",
      "model_name": "DescriptionStyleModel",
      "state": {
       "description_width": ""
      }
     },
     "a5408c6bf9b64b219918168a2f63d21a": {
      "model_module": "@jupyter-widgets/base",
      "model_module_version": "1.0.0",
      "model_name": "LayoutModel",
      "state": {}
     },
     "a5aee77e9be945e6bf97c2cc42c614ae": {
      "model_module": "@jupyter-widgets/base",
      "model_module_version": "1.0.0",
      "model_name": "LayoutModel",
      "state": {
       "height": "80px",
       "width": "70%"
      }
     },
     "a5b2b01196fc4b0a9dcf4b8f0cd41b48": {
      "model_module": "@jupyter-widgets/controls",
      "model_module_version": "1.2.0",
      "model_name": "DescriptionStyleModel",
      "state": {
       "description_width": "initial"
      }
     },
     "a5d7e5e0ce7b41759cc30c300610be12": {
      "model_module": "@jupyter-widgets/controls",
      "model_module_version": "1.2.0",
      "model_name": "IntSliderModel",
      "state": {
       "continuous_update": false,
       "description": "Number of Legend Columns:",
       "layout": "IPY_MODEL_992f0c50e1034e45b1dc3da8be7496e4",
       "max": 3,
       "min": 1,
       "style": "IPY_MODEL_3ca480bca4ff411dbd12be7919d1794d",
       "value": 2
      }
     },
     "a5e47502d02842a3b59352b4bb1543ad": {
      "model_module": "@jupyter-widgets/base",
      "model_module_version": "1.0.0",
      "model_name": "LayoutModel",
      "state": {}
     },
     "a5e8082e719c403088f76e1726a3f122": {
      "model_module": "@jupyter-widgets/base",
      "model_module_version": "1.0.0",
      "model_name": "LayoutModel",
      "state": {}
     },
     "a605d0d3081642aeb98a5b8209c792d3": {
      "model_module": "@jupyter-widgets/controls",
      "model_module_version": "1.2.0",
      "model_name": "DescriptionStyleModel",
      "state": {
       "description_width": "initial"
      }
     },
     "a63e995885b14af7bbc97b1997d0c21c": {
      "model_module": "@jupyter-widgets/controls",
      "model_module_version": "1.2.0",
      "model_name": "ToggleButtonsStyleModel",
      "state": {
       "button_width": "",
       "description_width": "initial"
      }
     },
     "a69dfeb9353f46eeb8a47550bd0872d5": {
      "model_module": "@jupyter-widgets/controls",
      "model_module_version": "1.2.0",
      "model_name": "RadioButtonsModel",
      "state": {
       "_options_labels": [
        "True",
        "False"
       ],
       "description": "Source On:",
       "index": 0,
       "layout": "IPY_MODEL_e30950ab71bd49ac9d28a72aca63ae30",
       "style": "IPY_MODEL_d6495b8837214ad4adadf84426f38767"
      }
     },
     "a6e96b6d7a6c46e8b27d235feb08f811": {
      "model_module": "@jupyter-widgets/controls",
      "model_module_version": "1.2.0",
      "model_name": "SliderStyleModel",
      "state": {
       "description_width": "initial"
      }
     },
     "a6f9ade656444b998277083375215ae3": {
      "model_module": "@jupyter-widgets/controls",
      "model_module_version": "1.2.0",
      "model_name": "DescriptionStyleModel",
      "state": {
       "description_width": "initial"
      }
     },
     "a723d99706924ff7a0ca2a6ef05b9924": {
      "model_module": "@jupyter-widgets/controls",
      "model_module_version": "1.2.0",
      "model_name": "DescriptionStyleModel",
      "state": {
       "description_width": "initial"
      }
     },
     "a73447805f734cf69b11ffd71d5f0eb7": {
      "model_module": "@jupyter-widgets/base",
      "model_module_version": "1.0.0",
      "model_name": "LayoutModel",
      "state": {}
     },
     "a750b2ac585544419b8e637c8e885f82": {
      "model_module": "@jupyter-widgets/controls",
      "model_module_version": "1.2.0",
      "model_name": "DescriptionStyleModel",
      "state": {
       "description_width": "initial"
      }
     },
     "a75cd6f09ade4c7ea5e13e281c396515": {
      "model_module": "@jupyter-widgets/controls",
      "model_module_version": "1.2.0",
      "model_name": "TextModel",
      "state": {
       "description": "Country Precursor:",
       "layout": "IPY_MODEL_a4e6fa48d7034827b0eeed1d284528f2",
       "placeholder": "Precursor to Country Name",
       "style": "IPY_MODEL_bcc7f530d1b548389114436733f04acf"
      }
     },
     "a7a620d15f634ba8815eb9de486a7017": {
      "model_module": "@jupyter-widgets/controls",
      "model_module_version": "1.2.0",
      "model_name": "TextModel",
      "state": {
       "description": "Country Name:",
       "layout": "IPY_MODEL_c0c961584cf64801b091a11184b09a5c",
       "placeholder": "Type a country name",
       "style": "IPY_MODEL_f2b09f5367524c3099d70cfe9449e7bd",
       "value": "United States"
      }
     },
     "a863b76fab18496c98933ccd4bac1142": {
      "model_module": "@jupyter-widgets/controls",
      "model_module_version": "1.2.0",
      "model_name": "SliderStyleModel",
      "state": {
       "description_width": "initial"
      }
     },
     "a8711251c9d046a1ab72f2245c881504": {
      "model_module": "@jupyter-widgets/controls",
      "model_module_version": "1.2.0",
      "model_name": "TextModel",
      "state": {
       "description": "Show Populated Places:",
       "layout": "IPY_MODEL_da6cb41089c14cb089304d41439efd82",
       "placeholder": "Type something",
       "style": "IPY_MODEL_44db9351f5b24a118a8d9b80d4cd7037",
       "value": "False"
      }
     },
     "a8770e1796f948558471f81cc701f5d4": {
      "model_module": "@jupyter-widgets/controls",
      "model_module_version": "1.2.0",
      "model_name": "IntSliderModel",
      "state": {
       "continuous_update": false,
       "description": "Number of Legend Columns:",
       "layout": "IPY_MODEL_569beb1a07e4415682072e6e310c621b",
       "max": 3,
       "min": 1,
       "style": "IPY_MODEL_49587416d15b403da929243ec95d0239",
       "value": 1
      }
     },
     "a8989658fb2c4b2184ef232094269785": {
      "model_module": "@jupyter-widgets/base",
      "model_module_version": "1.0.0",
      "model_name": "LayoutModel",
      "state": {}
     },
     "a8af5a4db811411db959cbfd18d59ad6": {
      "model_module": "@jupyter-widgets/controls",
      "model_module_version": "1.2.0",
      "model_name": "SliderStyleModel",
      "state": {
       "description_width": "initial"
      }
     },
     "a8cd86d012424d2b8cfe370ad72fa4e2": {
      "model_module": "@jupyter-widgets/controls",
      "model_module_version": "1.2.0",
      "model_name": "DescriptionStyleModel",
      "state": {
       "description_width": "initial"
      }
     },
     "a8dd812c37ad4be6a9dc543837179910": {
      "model_module": "@jupyter-widgets/base",
      "model_module_version": "1.0.0",
      "model_name": "LayoutModel",
      "state": {}
     },
     "a930678d8e454f079abfebc16a36c414": {
      "model_module": "@jupyter-widgets/controls",
      "model_module_version": "1.2.0",
      "model_name": "FloatSliderModel",
      "state": {
       "continuous_update": false,
       "description": "Zoom Level:",
       "layout": "IPY_MODEL_ef9a73385d5e44f98d5b834775056728",
       "max": 3,
       "min": 0.5,
       "readout_format": ".1f",
       "step": 0.1,
       "style": "IPY_MODEL_fee5a3a78cf5455abb69bd438fb5452d",
       "value": 1.5
      }
     },
     "a939cb5b8d0a4653b7d92c7d38386a92": {
      "model_module": "@jupyter-widgets/controls",
      "model_module_version": "1.2.0",
      "model_name": "DescriptionStyleModel",
      "state": {
       "description_width": "initial"
      }
     },
     "a93b116b59be4920bb2e511b49aa7f77": {
      "model_module": "@jupyter-widgets/controls",
      "model_module_version": "1.2.0",
      "model_name": "DescriptionStyleModel",
      "state": {
       "description_width": "initial"
      }
     },
     "a9a77687b84b4893a550942d58efb7bc": {
      "model_module": "@jupyter-widgets/controls",
      "model_module_version": "1.2.0",
      "model_name": "DescriptionStyleModel",
      "state": {
       "description_width": "initial"
      }
     },
     "a9c8648bf0244eb8968597be79d0b4d7": {
      "model_module": "@jupyter-widgets/controls",
      "model_module_version": "1.2.0",
      "model_name": "SliderStyleModel",
      "state": {
       "description_width": "initial"
      }
     },
     "a9e64cc6a4e84f83b4a59dcb79cba70e": {
      "model_module": "@jupyter-widgets/base",
      "model_module_version": "1.0.0",
      "model_name": "LayoutModel",
      "state": {}
     },
     "aa0c8c304fd64d5bbc500e3871d5379e": {
      "model_module": "@jupyter-widgets/base",
      "model_module_version": "1.0.0",
      "model_name": "LayoutModel",
      "state": {}
     },
     "aa74d558ead4409d895abb1f344b6845": {
      "model_module": "@jupyter-widgets/controls",
      "model_module_version": "1.2.0",
      "model_name": "DropdownModel",
      "state": {
       "_options_labels": [
        "capacity",
        "alphabetical"
       ],
       "description": "Sort Legend By:",
       "index": 0,
       "layout": "IPY_MODEL_f6bf2976c79642f3830402d11dd6b9e4",
       "style": "IPY_MODEL_df9437f9b1c2441a817fbc9ecb9bf941"
      }
     },
     "aab3efea2d5640e2a6b5d7e2595daa56": {
      "model_module": "@jupyter-widgets/controls",
      "model_module_version": "1.2.0",
      "model_name": "FloatSliderModel",
      "state": {
       "continuous_update": false,
       "description": "Zoom Level:",
       "layout": "IPY_MODEL_f31d4c0391b64b51a873d640bcafe001",
       "max": 3,
       "min": 0.5,
       "readout_format": ".1f",
       "step": 0.1,
       "style": "IPY_MODEL_595665a428f7484780da6c27597354c3",
       "value": 1
      }
     },
     "aabada7d9ad0471eaeddd4a526d2cfcc": {
      "model_module": "@jupyter-widgets/base",
      "model_module_version": "1.0.0",
      "model_name": "LayoutModel",
      "state": {}
     },
     "aaf34c87bba44221b6121106ba60d5bd": {
      "model_module": "@jupyter-widgets/base",
      "model_module_version": "1.0.0",
      "model_name": "LayoutModel",
      "state": {}
     },
     "ab316b0fbe2b40b986bfb3ff82e3a75c": {
      "model_module": "@jupyter-widgets/controls",
      "model_module_version": "1.2.0",
      "model_name": "IntSliderModel",
      "state": {
       "continuous_update": false,
       "description": "DPI (resolution):",
       "layout": "IPY_MODEL_628264a9983647099c8512f38619c2ce",
       "max": 500,
       "min": 100,
       "style": "IPY_MODEL_f167a40f398a4c2793b3477378eb3946",
       "value": 300
      }
     },
     "ab6b047ec91946468db30ab6bd90b8d9": {
      "model_module": "@jupyter-widgets/controls",
      "model_module_version": "1.2.0",
      "model_name": "FloatSliderModel",
      "state": {
       "continuous_update": false,
       "description": "Bubble Opacity:",
       "layout": "IPY_MODEL_e6c3ac873f0846c19ca55edff40cdcf0",
       "max": 1,
       "readout_format": ".1f",
       "step": 0.1,
       "style": "IPY_MODEL_7618737d939c4e36b0b4f5b7bb048297",
       "value": 0.5
      }
     },
     "ab894b1071364719b9406ed1a84328e0": {
      "model_module": "@jupyter-widgets/controls",
      "model_module_version": "1.2.0",
      "model_name": "DescriptionStyleModel",
      "state": {
       "description_width": "initial"
      }
     },
     "abd364332a434779b5017979a59c2f17": {
      "model_module": "@jupyter-widgets/controls",
      "model_module_version": "1.2.0",
      "model_name": "TextModel",
      "state": {
       "description": "Country Name:",
       "layout": "IPY_MODEL_d683fbabafd74faba901db1733ae2d36",
       "placeholder": "Type a country name",
       "style": "IPY_MODEL_601ddb9105db4ca6b63de66f3ef64719",
       "value": "India"
      }
     },
     "ad48dda1a9444b19b3047c773600afef": {
      "model_module": "@jupyter-widgets/controls",
      "model_module_version": "1.2.0",
      "model_name": "DescriptionStyleModel",
      "state": {
       "description_width": "initial"
      }
     },
     "ad6d0de5bae64a318a0c6b37b38dd715": {
      "model_module": "@jupyter-widgets/base",
      "model_module_version": "1.0.0",
      "model_name": "LayoutModel",
      "state": {}
     },
     "add5aca5680448eaaf7390da7e82d6ad": {
      "model_module": "@jupyter-widgets/controls",
      "model_module_version": "1.2.0",
      "model_name": "IntSliderModel",
      "state": {
       "continuous_update": false,
       "description": "Number of Legend Columns:",
       "layout": "IPY_MODEL_de2ffcf7a6554d4bb99b5b968ea338f0",
       "max": 3,
       "min": 1,
       "style": "IPY_MODEL_1a4944b730414972b8e78ccc5f174728",
       "value": 1
      }
     },
     "ade1275f884b4e1da9e7f726b20d9fbe": {
      "model_module": "@jupyter-widgets/controls",
      "model_module_version": "1.2.0",
      "model_name": "ButtonStyleModel",
      "state": {}
     },
     "ae3b3f6fbb1a4b26b0ffe7d4b9f72de8": {
      "model_module": "@jupyter-widgets/controls",
      "model_module_version": "1.2.0",
      "model_name": "DescriptionStyleModel",
      "state": {
       "description_width": "initial"
      }
     },
     "af3518d1dce044eeba6b79026046f753": {
      "model_module": "@jupyter-widgets/base",
      "model_module_version": "1.0.0",
      "model_name": "LayoutModel",
      "state": {}
     },
     "af380b0320c64e7ea2166fb8973ac6e4": {
      "model_module": "@jupyter-widgets/controls",
      "model_module_version": "1.2.0",
      "model_name": "ToggleButtonsModel",
      "state": {
       "_options_labels": [
        "Simple",
        "Mixed",
        "Complex"
       ],
       "button_style": "",
       "description": "Simplification Level:",
       "icons": [],
       "index": 1,
       "layout": "IPY_MODEL_af3518d1dce044eeba6b79026046f753",
       "style": "IPY_MODEL_4ab81f5bc0784995b4845a8d39b21895",
       "tooltips": [
        "Renewables, Fossil, and Nuclear",
        "Solar, Wind, Hydro, Geothermal,Biomass, Wave and Tidal,\n Storage, Fossil, Nuclear",
        "Solar, Wind, Hydro, Geothermal,Biomass, Wave and Tidal,\n Storage, Fossil, Nuclear, Coal, Gas, Oil, Waste, Cogeneration"
       ]
      }
     },
     "af5ff9162ad7415183addff3ecb4d46f": {
      "model_module": "@jupyter-widgets/controls",
      "model_module_version": "1.2.0",
      "model_name": "TextModel",
      "state": {
       "description": "Country Name:",
       "layout": "IPY_MODEL_7a48b50215ea42b6bb1f7187a472844c",
       "placeholder": "Type a country name",
       "style": "IPY_MODEL_a0a10ec583144003a6dbcb332f1aae7c",
       "value": "India"
      }
     },
     "b02c35743def4136a7294be2dd34fb32": {
      "model_module": "@jupyter-widgets/base",
      "model_module_version": "1.0.0",
      "model_name": "LayoutModel",
      "state": {
       "height": "80px",
       "width": "70%"
      }
     },
     "b08ced56b4954f1cb7bbabd23749f4f0": {
      "model_module": "@jupyter-widgets/controls",
      "model_module_version": "1.2.0",
      "model_name": "SliderStyleModel",
      "state": {
       "description_width": "initial"
      }
     },
     "b1433046e48245baa42f8d7468e62276": {
      "model_module": "@jupyter-widgets/controls",
      "model_module_version": "1.2.0",
      "model_name": "TextModel",
      "state": {
       "description": "Country Name:",
       "layout": "IPY_MODEL_beb52625b9d14e66987e5e618a9500d8",
       "placeholder": "Type a country name",
       "style": "IPY_MODEL_75d38b2429324837a69e0a1ce0e2e67e",
       "value": "India"
      }
     },
     "b16b186596f94f9d8a66c90765ffffff": {
      "model_module": "@jupyter-widgets/base",
      "model_module_version": "1.0.0",
      "model_name": "LayoutModel",
      "state": {}
     },
     "b1f880ae0bfc46d0a77a3bdc3778a66f": {
      "model_module": "@jupyter-widgets/controls",
      "model_module_version": "1.2.0",
      "model_name": "TextModel",
      "state": {
       "description": "Path to save to:",
       "layout": "IPY_MODEL_ffd8beec813f443c97b3b531e32b7276",
       "placeholder": "Type the complete path to save to",
       "style": "IPY_MODEL_bb732c95c6634e479dfba3e651852210",
       "value": "/Users/skoebric/Downloads/XYZ.png"
      }
     },
     "b207f461bc514fe79cbede5ce596bf1a": {
      "model_module": "@jupyter-widgets/controls",
      "model_module_version": "1.2.0",
      "model_name": "ButtonStyleModel",
      "state": {}
     },
     "b23296a9a88b43d4a4362728a2e5e7d4": {
      "model_module": "@jupyter-widgets/base",
      "model_module_version": "1.0.0",
      "model_name": "LayoutModel",
      "state": {}
     },
     "b259c64511254f6c9983b1c53e36bb40": {
      "model_module": "@jupyter-widgets/controls",
      "model_module_version": "1.2.0",
      "model_name": "TextModel",
      "state": {
       "description": "Coordinate System:",
       "layout": "IPY_MODEL_e35c40f31d924d1896a7938451d171eb",
       "placeholder": "Type something",
       "style": "IPY_MODEL_1d666bed73af4d91a2c32fdb664bccb0",
       "value": "spherical"
      }
     },
     "b25e6bc6a565463ab820d68e21598960": {
      "model_module": "@jupyter-widgets/controls",
      "model_module_version": "1.2.0",
      "model_name": "FloatSliderModel",
      "state": {
       "continuous_update": false,
       "description": "Zoom Level:",
       "layout": "IPY_MODEL_915cb366beb24be685222eef2fff64ff",
       "max": 3,
       "min": 0.5,
       "readout_format": ".1f",
       "step": 0.1,
       "style": "IPY_MODEL_c4c6b1a82b7846e1a6528c91e8bd35c9",
       "value": 1
      }
     },
     "b2602dc773cc4d6c85a1941d24befb80": {
      "model_module": "@jupyter-widgets/base",
      "model_module_version": "1.0.0",
      "model_name": "LayoutModel",
      "state": {}
     },
     "b263c17cfe444c0eb4ca8b10edc495b8": {
      "model_module": "@jupyter-widgets/controls",
      "model_module_version": "1.2.0",
      "model_name": "TextModel",
      "state": {
       "description": "Coordinate System:",
       "layout": "IPY_MODEL_65dfe841f64449c89cae0bf6c44b4813",
       "placeholder": "Type something",
       "style": "IPY_MODEL_98204c696dfb42f98ed606d3ba4d4542",
       "value": "spherical"
      }
     },
     "b2ac316393e7402489c2a7446409c3f6": {
      "model_module": "@jupyter-widgets/controls",
      "model_module_version": "1.2.0",
      "model_name": "DescriptionStyleModel",
      "state": {
       "description_width": ""
      }
     },
     "b2c95b5512f0495b8b5ac6915c5fb615": {
      "model_module": "@jupyter-widgets/controls",
      "model_module_version": "1.2.0",
      "model_name": "DescriptionStyleModel",
      "state": {
       "description_width": "initial"
      }
     },
     "b2d829bdcc84405f9f5a429072d068b9": {
      "model_module": "@jupyter-widgets/controls",
      "model_module_version": "1.2.0",
      "model_name": "ButtonStyleModel",
      "state": {}
     },
     "b301360ef3c2432f827ca714817d9f4a": {
      "model_module": "@jupyter-widgets/controls",
      "model_module_version": "1.2.0",
      "model_name": "SliderStyleModel",
      "state": {
       "description_width": "initial"
      }
     },
     "b32444897b4946c1a7b84177a01a023f": {
      "model_module": "@jupyter-widgets/controls",
      "model_module_version": "1.2.0",
      "model_name": "DescriptionStyleModel",
      "state": {
       "description_width": "initial"
      }
     },
     "b3286d14004c42a7afe1b295a786c8ef": {
      "model_module": "@jupyter-widgets/controls",
      "model_module_version": "1.2.0",
      "model_name": "ButtonModel",
      "state": {
       "description": "Update Plot",
       "icon": "check",
       "layout": "IPY_MODEL_2bed295554ad4e8fa3c0a8ce7917c1aa",
       "style": "IPY_MODEL_28f913c3920948f0bcc9aea000849396",
       "tooltip": "Update Plot"
      }
     },
     "b337b3b951a44b70a0fe1c3456192595": {
      "model_module": "@jupyter-widgets/base",
      "model_module_version": "1.0.0",
      "model_name": "LayoutModel",
      "state": {}
     },
     "b3bb7b926b324118b0e816f0d75a850e": {
      "model_module": "@jupyter-widgets/base",
      "model_module_version": "1.0.0",
      "model_name": "LayoutModel",
      "state": {}
     },
     "b42072e9f2e341f3b1d204410dbcfc7e": {
      "model_module": "@jupyter-widgets/base",
      "model_module_version": "1.0.0",
      "model_name": "LayoutModel",
      "state": {}
     },
     "b456539470ff45718b750450b197834c": {
      "model_module": "@jupyter-widgets/controls",
      "model_module_version": "1.2.0",
      "model_name": "DescriptionStyleModel",
      "state": {
       "description_width": "initial"
      }
     },
     "b59c135654f2426586e665344af4ffab": {
      "model_module": "@jupyter-widgets/controls",
      "model_module_version": "1.2.0",
      "model_name": "TextModel",
      "state": {
       "description": "Country Precursor:",
       "layout": "IPY_MODEL_feb8bb93fa6f4c508cce727cd79e2483",
       "placeholder": "Precursor to Country Name",
       "style": "IPY_MODEL_e1cf39037f774b868287526d2ab9d2d7"
      }
     },
     "b5dbae1c737243f7ac200e95afce4693": {
      "model_module": "@jupyter-widgets/controls",
      "model_module_version": "1.2.0",
      "model_name": "FloatSliderModel",
      "state": {
       "continuous_update": false,
       "description": "Bubble Opacity:",
       "layout": "IPY_MODEL_13644f9dd64e42ddb808a4e0125e4286",
       "max": 1,
       "readout_format": ".1f",
       "step": 0.1,
       "style": "IPY_MODEL_e3c38deb4606483ca95ce403a255fa02",
       "value": 0.5
      }
     },
     "b5ef4d43e4ff4d47b3451cd85d91eee7": {
      "model_module": "@jupyter-widgets/controls",
      "model_module_version": "1.2.0",
      "model_name": "DescriptionStyleModel",
      "state": {
       "description_width": "initial"
      }
     },
     "b61448a69b274ce5b6150bbb6a453db4": {
      "model_module": "@jupyter-widgets/controls",
      "model_module_version": "1.2.0",
      "model_name": "FloatSliderModel",
      "state": {
       "continuous_update": false,
       "description": "Zoom Level:",
       "layout": "IPY_MODEL_5fb8b70cecb74e27ad33eacffba239cd",
       "max": 3,
       "min": 0.5,
       "readout_format": ".1f",
       "step": 0.1,
       "style": "IPY_MODEL_288c77d0130d4650b1d94ad829f27b9c",
       "value": 1
      }
     },
     "b6834b9c61d04288a1fbe38a0249b998": {
      "model_module": "@jupyter-widgets/controls",
      "model_module_version": "1.2.0",
      "model_name": "TextModel",
      "state": {
       "description": "Country Precursor:",
       "layout": "IPY_MODEL_bc82f7b6521445e68c98ca812655c854",
       "placeholder": "Precursor to Country Name",
       "style": "IPY_MODEL_e6074492c7cc4040ad3cb358ae512305"
      }
     },
     "b69296eeb19b49b2bb6a27d6d0efdb6d": {
      "model_module": "@jupyter-widgets/base",
      "model_module_version": "1.0.0",
      "model_name": "LayoutModel",
      "state": {}
     },
     "b6e9fac3fc5c4d488529e69839187160": {
      "model_module": "@jupyter-widgets/controls",
      "model_module_version": "1.2.0",
      "model_name": "DescriptionStyleModel",
      "state": {
       "description_width": "initial"
      }
     },
     "b707193cffa84ab5a91b3283acbd194d": {
      "model_module": "@jupyter-widgets/base",
      "model_module_version": "1.0.0",
      "model_name": "LayoutModel",
      "state": {}
     },
     "b73c8681e52740e2bdaf0547e6323f38": {
      "model_module": "@jupyter-widgets/controls",
      "model_module_version": "1.2.0",
      "model_name": "SliderStyleModel",
      "state": {
       "description_width": "initial"
      }
     },
     "b75f567f81954bcfa937171f697a5784": {
      "model_module": "@jupyter-widgets/controls",
      "model_module_version": "1.2.0",
      "model_name": "ButtonModel",
      "state": {
       "description": "Update Plot",
       "icon": "check",
       "layout": "IPY_MODEL_98c2a89be7a043c4b91ced5cf7d22f51",
       "style": "IPY_MODEL_6b9437aecae346fd88c73379052f7c40",
       "tooltip": "Update Plot"
      }
     },
     "b808e4e3305340ffa9ceb48edc5fcc95": {
      "model_module": "@jupyter-widgets/base",
      "model_module_version": "1.0.0",
      "model_name": "LayoutModel",
      "state": {}
     },
     "b83ee6fc77f54aef8bb077a8fdf556b3": {
      "model_module": "@jupyter-widgets/controls",
      "model_module_version": "1.2.0",
      "model_name": "SliderStyleModel",
      "state": {
       "description_width": "initial"
      }
     },
     "b84625b13a1a48a1b917dd7a92afd5c4": {
      "model_module": "@jupyter-widgets/controls",
      "model_module_version": "1.2.0",
      "model_name": "SliderStyleModel",
      "state": {
       "description_width": "initial"
      }
     },
     "b8b7370c21f64cfab016be68ddd42ccf": {
      "model_module": "@jupyter-widgets/controls",
      "model_module_version": "1.2.0",
      "model_name": "DescriptionStyleModel",
      "state": {
       "description_width": "initial"
      }
     },
     "b92f0fd626454d4490f1be3bb4eead2b": {
      "model_module": "@jupyter-widgets/base",
      "model_module_version": "1.0.0",
      "model_name": "LayoutModel",
      "state": {}
     },
     "b93174ef329240a3844b300d0b2f8103": {
      "model_module": "@jupyter-widgets/controls",
      "model_module_version": "1.2.0",
      "model_name": "TextModel",
      "state": {
       "description": "Show Populated Places:",
       "layout": "IPY_MODEL_4f257e99d3e949af99805896f656097d",
       "placeholder": "Type something",
       "style": "IPY_MODEL_6e5bca7f6dbb46a1a4dd72e0e5c4adb7",
       "value": "False"
      }
     },
     "b93dcbfb6e6f4148889bde039caca0bb": {
      "model_module": "@jupyter-widgets/controls",
      "model_module_version": "1.2.0",
      "model_name": "IntSliderModel",
      "state": {
       "continuous_update": false,
       "description": "Number of Legend Columns:",
       "layout": "IPY_MODEL_0b25fb4cc08e49b188bf27c269e29e2e",
       "max": 3,
       "min": 1,
       "style": "IPY_MODEL_f1b934e7f98a424b8ba4e3e18778dd69",
       "value": 1
      }
     },
     "b94fd70300e24429a98dd2119303d870": {
      "model_module": "@jupyter-widgets/controls",
      "model_module_version": "1.2.0",
      "model_name": "DescriptionStyleModel",
      "state": {
       "description_width": "initial"
      }
     },
     "b983357ef1ea48b2858517de320d32cb": {
      "model_module": "@jupyter-widgets/controls",
      "model_module_version": "1.2.0",
      "model_name": "DescriptionStyleModel",
      "state": {
       "description_width": "initial"
      }
     },
     "b9a6e3dfa8a541ce94cebe2c3edbba6e": {
      "model_module": "@jupyter-widgets/base",
      "model_module_version": "1.0.0",
      "model_name": "LayoutModel",
      "state": {}
     },
     "b9c568d290684f7aa4671947d77f8e21": {
      "model_module": "@jupyter-widgets/base",
      "model_module_version": "1.0.0",
      "model_name": "LayoutModel",
      "state": {
       "height": "80px",
       "width": "70%"
      }
     },
     "b9fff4a7667141e8a209317104a3246e": {
      "model_module": "@jupyter-widgets/controls",
      "model_module_version": "1.2.0",
      "model_name": "ToggleButtonsModel",
      "state": {
       "_options_labels": [
        "Simple",
        "Mixed",
        "Complex"
       ],
       "button_style": "",
       "description": "Simplification Level:",
       "icons": [],
       "index": 1,
       "layout": "IPY_MODEL_7331fc29195b4e3d8a637dd804a5f447",
       "style": "IPY_MODEL_5da5487b19ac40189443993e844cdb1b",
       "tooltips": [
        "Renewables, Fossil, and Nuclear",
        "Solar, Wind, Hydro, Geothermal,Biomass, Wave and Tidal,\n Storage, Fossil, Nuclear",
        "Solar, Wind, Hydro, Geothermal,Biomass, Wave and Tidal,\n Storage, Fossil, Nuclear, Coal, Gas, Oil, Waste, Cogeneration"
       ]
      }
     },
     "ba623c8bd12444cebf6412b616460b60": {
      "model_module": "@jupyter-widgets/base",
      "model_module_version": "1.0.0",
      "model_name": "LayoutModel",
      "state": {}
     },
     "ba8f446e4041414098dd3a33af91dd51": {
      "model_module": "@jupyter-widgets/base",
      "model_module_version": "1.0.0",
      "model_name": "LayoutModel",
      "state": {}
     },
     "baf52c92a86a4f92be7a33d246e85c0b": {
      "model_module": "@jupyter-widgets/controls",
      "model_module_version": "1.2.0",
      "model_name": "SliderStyleModel",
      "state": {
       "description_width": "initial"
      }
     },
     "bb04d6ef5455490f964556cd53d1d61d": {
      "model_module": "@jupyter-widgets/controls",
      "model_module_version": "1.2.0",
      "model_name": "TextModel",
      "state": {
       "description": "Island Size Thresh:",
       "layout": "IPY_MODEL_fc0bab5a38904c1fba240e51d9566eab",
       "placeholder": "Type a island thresh",
       "style": "IPY_MODEL_5b233d34e9214b0fb7e071a0f56f354f",
       "value": "200"
      }
     },
     "bb0c0a45afe04d779f78c99195697d15": {
      "model_module": "@jupyter-widgets/base",
      "model_module_version": "1.0.0",
      "model_name": "LayoutModel",
      "state": {}
     },
     "bb67daead6684a909bdc5f2cab587e18": {
      "model_module": "@jupyter-widgets/base",
      "model_module_version": "1.0.0",
      "model_name": "LayoutModel",
      "state": {}
     },
     "bb732c95c6634e479dfba3e651852210": {
      "model_module": "@jupyter-widgets/controls",
      "model_module_version": "1.2.0",
      "model_name": "DescriptionStyleModel",
      "state": {
       "description_width": "initial"
      }
     },
     "bbba558ee1f54b899eda207cef28a55a": {
      "model_module": "@jupyter-widgets/base",
      "model_module_version": "1.0.0",
      "model_name": "LayoutModel",
      "state": {}
     },
     "bbcbaf8962f849248fbf21cc15737f84": {
      "model_module": "@jupyter-widgets/base",
      "model_module_version": "1.0.0",
      "model_name": "LayoutModel",
      "state": {}
     },
     "bc79ac807728455794d3a4ac51ee278c": {
      "model_module": "@jupyter-widgets/base",
      "model_module_version": "1.0.0",
      "model_name": "LayoutModel",
      "state": {}
     },
     "bc82f7b6521445e68c98ca812655c854": {
      "model_module": "@jupyter-widgets/base",
      "model_module_version": "1.0.0",
      "model_name": "LayoutModel",
      "state": {}
     },
     "bc8a25cf061749beb89ad02fe478c9df": {
      "model_module": "@jupyter-widgets/controls",
      "model_module_version": "1.2.0",
      "model_name": "ToggleButtonsStyleModel",
      "state": {
       "button_width": "",
       "description_width": "initial"
      }
     },
     "bcc7f530d1b548389114436733f04acf": {
      "model_module": "@jupyter-widgets/controls",
      "model_module_version": "1.2.0",
      "model_name": "DescriptionStyleModel",
      "state": {
       "description_width": "initial"
      }
     },
     "bdc63513cbff4f5fbdda1d8d0cc26b7e": {
      "model_module": "@jupyter-widgets/base",
      "model_module_version": "1.0.0",
      "model_name": "LayoutModel",
      "state": {}
     },
     "be1276a719eb401895fc7dc04a1ff3ea": {
      "model_module": "@jupyter-widgets/controls",
      "model_module_version": "1.2.0",
      "model_name": "ButtonModel",
      "state": {
       "description": "Update Plot",
       "icon": "check",
       "layout": "IPY_MODEL_10538f39d0924e1b9bdea9ed7ad06192",
       "style": "IPY_MODEL_2aea0746ef12438da44b1095ea8889e7",
       "tooltip": "Update Plot"
      }
     },
     "be41e91c77bb4843a619e3aabfaf5a9d": {
      "model_module": "@jupyter-widgets/controls",
      "model_module_version": "1.2.0",
      "model_name": "TextModel",
      "state": {
       "description": "Country Name:",
       "layout": "IPY_MODEL_78e38ab79c874a74ab8522fd282f67fc",
       "placeholder": "Type a country name",
       "style": "IPY_MODEL_a5b2b01196fc4b0a9dcf4b8f0cd41b48",
       "value": "India"
      }
     },
     "be53b8bc5f394caeb37900e9b22bbc2f": {
      "model_module": "@jupyter-widgets/controls",
      "model_module_version": "1.2.0",
      "model_name": "FloatSliderModel",
      "state": {
       "continuous_update": false,
       "description": "Bubble Opacity:",
       "layout": "IPY_MODEL_404fa7aea082404abab4644e4b45f57d",
       "max": 1,
       "readout_format": ".1f",
       "step": 0.1,
       "style": "IPY_MODEL_ee316c314bfc4d6797074694ac08c047",
       "value": 0.5
      }
     },
     "beb52625b9d14e66987e5e618a9500d8": {
      "model_module": "@jupyter-widgets/base",
      "model_module_version": "1.0.0",
      "model_name": "LayoutModel",
      "state": {}
     },
     "bf2f14644d2d4417ba9ed3b44c01d22f": {
      "model_module": "@jupyter-widgets/base",
      "model_module_version": "1.0.0",
      "model_name": "LayoutModel",
      "state": {}
     },
     "bf5a328e8a704319bafb1457c661a492": {
      "model_module": "@jupyter-widgets/controls",
      "model_module_version": "1.2.0",
      "model_name": "SliderStyleModel",
      "state": {
       "description_width": "initial"
      }
     },
     "c014af86e5ab4e8e8de3a1f4b82c887e": {
      "model_module": "@jupyter-widgets/controls",
      "model_module_version": "1.2.0",
      "model_name": "TextModel",
      "state": {
       "description": "Coordinate System:",
       "layout": "IPY_MODEL_4ec3e174451741f9b57b5e2bfa9fa7e4",
       "placeholder": "Type something",
       "style": "IPY_MODEL_cb1767cf107d458ab310d045850c5180",
       "value": "spherical"
      }
     },
     "c07edbf484224ae492216cb79ac420f3": {
      "model_module": "@jupyter-widgets/base",
      "model_module_version": "1.0.0",
      "model_name": "LayoutModel",
      "state": {
       "height": "80px",
       "width": "70%"
      }
     },
     "c091215079a84417b98e38fc7b6ff03c": {
      "model_module": "@jupyter-widgets/controls",
      "model_module_version": "1.2.0",
      "model_name": "ButtonModel",
      "state": {
       "description": "Update Plot",
       "icon": "check",
       "layout": "IPY_MODEL_a4ccc02fce1a4f9f9d81d431a50a657c",
       "style": "IPY_MODEL_c0debf8a615b489f8cf8ea23cad747da",
       "tooltip": "Update Plot"
      }
     },
     "c0c961584cf64801b091a11184b09a5c": {
      "model_module": "@jupyter-widgets/base",
      "model_module_version": "1.0.0",
      "model_name": "LayoutModel",
      "state": {}
     },
     "c0debf8a615b489f8cf8ea23cad747da": {
      "model_module": "@jupyter-widgets/controls",
      "model_module_version": "1.2.0",
      "model_name": "ButtonStyleModel",
      "state": {}
     },
     "c0ed58f44e1d402c80383dfffc184066": {
      "model_module": "@jupyter-widgets/base",
      "model_module_version": "1.0.0",
      "model_name": "LayoutModel",
      "state": {
       "height": "80px",
       "width": "70%"
      }
     },
     "c1761a83c028452db93416353cb004ba": {
      "model_module": "@jupyter-widgets/controls",
      "model_module_version": "1.2.0",
      "model_name": "SliderStyleModel",
      "state": {
       "description_width": "initial"
      }
     },
     "c17885a9718b4721bbbfab07543fd658": {
      "model_module": "@jupyter-widgets/controls",
      "model_module_version": "1.2.0",
      "model_name": "DescriptionStyleModel",
      "state": {
       "description_width": "initial"
      }
     },
     "c1e7b54a78464d4ca63e730ac801f85d": {
      "model_module": "@jupyter-widgets/base",
      "model_module_version": "1.0.0",
      "model_name": "LayoutModel",
      "state": {}
     },
     "c2062d503ed14be4b0a598e200482592": {
      "model_module": "@jupyter-widgets/controls",
      "model_module_version": "1.2.0",
      "model_name": "RadioButtonsModel",
      "state": {
       "_options_labels": [
        "True",
        "False"
       ],
       "description": "Source On:",
       "index": 0,
       "layout": "IPY_MODEL_45745b9fd8744720aafc048fdb42536b",
       "style": "IPY_MODEL_874719580fca4fc08cb83eb70f630d04"
      }
     },
     "c221e59640dd4869aab18623ddea1371": {
      "model_module": "@jupyter-widgets/controls",
      "model_module_version": "1.2.0",
      "model_name": "DescriptionStyleModel",
      "state": {
       "description_width": "initial"
      }
     },
     "c2b081a544784122a1aa3c8d66bb9f1e": {
      "model_module": "@jupyter-widgets/controls",
      "model_module_version": "1.2.0",
      "model_name": "DescriptionStyleModel",
      "state": {
       "description_width": "initial"
      }
     },
     "c3582214d48a4b49957cf8c6cef38759": {
      "model_module": "@jupyter-widgets/base",
      "model_module_version": "1.0.0",
      "model_name": "LayoutModel",
      "state": {}
     },
     "c417283ddf7d407784bbbd34a9232763": {
      "model_module": "@jupyter-widgets/controls",
      "model_module_version": "1.2.0",
      "model_name": "TextModel",
      "state": {
       "description": "Show Populated Places:",
       "layout": "IPY_MODEL_da5eedffb0234eebbc8757c48dd22918",
       "placeholder": "Type something",
       "style": "IPY_MODEL_c221e59640dd4869aab18623ddea1371",
       "value": "False"
      }
     },
     "c4296d1015e44fc989f15d4a2d5dce62": {
      "model_module": "@jupyter-widgets/controls",
      "model_module_version": "1.2.0",
      "model_name": "FloatSliderModel",
      "state": {
       "continuous_update": false,
       "description": "Bubble Opacity:",
       "layout": "IPY_MODEL_2c7e6690c2e94e2daf27aa5a0cc9150a",
       "max": 1,
       "readout_format": ".1f",
       "step": 0.1,
       "style": "IPY_MODEL_80032675e88d4dd4bbcd7c89205270cf",
       "value": 0.5
      }
     },
     "c44f3f66ec554097bfc60ee48f027378": {
      "model_module": "@jupyter-widgets/controls",
      "model_module_version": "1.2.0",
      "model_name": "ToggleButtonsStyleModel",
      "state": {
       "button_width": "",
       "description_width": "initial"
      }
     },
     "c475c73739194fb39810694e9a0b9ab4": {
      "model_module": "@jupyter-widgets/controls",
      "model_module_version": "1.2.0",
      "model_name": "IntSliderModel",
      "state": {
       "continuous_update": false,
       "description": "DPI (resolution):",
       "layout": "IPY_MODEL_98b3e8a75cb244b1a50b5bff1eb0aff1",
       "max": 500,
       "min": 100,
       "style": "IPY_MODEL_b08ced56b4954f1cb7bbabd23749f4f0",
       "value": 300
      }
     },
     "c47fb7de66e74245b3a0f0e360b2956d": {
      "model_module": "@jupyter-widgets/base",
      "model_module_version": "1.0.0",
      "model_name": "LayoutModel",
      "state": {}
     },
     "c488274fbc0247cebba7ab09422e9738": {
      "model_module": "@jupyter-widgets/controls",
      "model_module_version": "1.2.0",
      "model_name": "DescriptionStyleModel",
      "state": {
       "description_width": "initial"
      }
     },
     "c4a77d044f5f49e68647b68826d8ab37": {
      "model_module": "@jupyter-widgets/controls",
      "model_module_version": "1.2.0",
      "model_name": "IntSliderModel",
      "state": {
       "continuous_update": false,
       "description": "DPI (resolution):",
       "layout": "IPY_MODEL_144fabdbbbc3476b9d56ecdbf30f5b1d",
       "max": 500,
       "min": 100,
       "style": "IPY_MODEL_56ddc84b3cdf427bb67bbcb87647ff44",
       "value": 300
      }
     },
     "c4c6b1a82b7846e1a6528c91e8bd35c9": {
      "model_module": "@jupyter-widgets/controls",
      "model_module_version": "1.2.0",
      "model_name": "SliderStyleModel",
      "state": {
       "description_width": "initial"
      }
     },
     "c51bb00c63c948f8984619f1b5f959d6": {
      "model_module": "@jupyter-widgets/controls",
      "model_module_version": "1.2.0",
      "model_name": "TextModel",
      "state": {
       "description": "Country Name:",
       "layout": "IPY_MODEL_83f98594930c41ed80f1a0d031d20de8",
       "placeholder": "Type a country name",
       "style": "IPY_MODEL_84a11243ae76401f8b71d2567005c6e9",
       "value": "India"
      }
     },
     "c5d105423fe1411a9a7de2e2580083f8": {
      "model_module": "@jupyter-widgets/controls",
      "model_module_version": "1.2.0",
      "model_name": "TextModel",
      "state": {
       "description": "Show Populated Places:",
       "layout": "IPY_MODEL_cc593f5ee3774fad84db856be6777dc4",
       "placeholder": "Type something",
       "style": "IPY_MODEL_ab894b1071364719b9406ed1a84328e0",
       "value": "False"
      }
     },
     "c69a7fe9e3df4e139592191dd8193870": {
      "model_module": "@jupyter-widgets/controls",
      "model_module_version": "1.2.0",
      "model_name": "DescriptionStyleModel",
      "state": {
       "description_width": "initial"
      }
     },
     "c6c3debd2eff4e428f46cdd89a3ca347": {
      "model_module": "@jupyter-widgets/controls",
      "model_module_version": "1.2.0",
      "model_name": "TextModel",
      "state": {
       "description": "Country Precursor:",
       "layout": "IPY_MODEL_83dbea14b7674523b2e4200a2dde9851",
       "placeholder": "Precursor to Country Name",
       "style": "IPY_MODEL_19e49aee4a0644c3b55c42c5e9e807c5"
      }
     },
     "c70d18a2b4a5490681d273f2113fd1b2": {
      "model_module": "@jupyter-widgets/controls",
      "model_module_version": "1.2.0",
      "model_name": "DropdownModel",
      "state": {
       "_options_labels": [
        "capacity",
        "alphabetical"
       ],
       "description": "Sort Legend By:",
       "index": 0,
       "layout": "IPY_MODEL_c3582214d48a4b49957cf8c6cef38759",
       "style": "IPY_MODEL_2fe415dc7de54d6190176de0a7175b33"
      }
     },
     "c870c16b581947f49459fff4f5bcad37": {
      "model_module": "@jupyter-widgets/base",
      "model_module_version": "1.0.0",
      "model_name": "LayoutModel",
      "state": {}
     },
     "c87435d397a34ba89a47fafe87401d0d": {
      "model_module": "@jupyter-widgets/controls",
      "model_module_version": "1.2.0",
      "model_name": "DescriptionStyleModel",
      "state": {
       "description_width": "initial"
      }
     },
     "c882831c921e4202b5a8f11257430005": {
      "model_module": "@jupyter-widgets/base",
      "model_module_version": "1.0.0",
      "model_name": "LayoutModel",
      "state": {
       "height": "80px",
       "width": "70%"
      }
     },
     "c909a46f24bb45d99fb7ebb0bd02e870": {
      "model_module": "@jupyter-widgets/controls",
      "model_module_version": "1.2.0",
      "model_name": "DescriptionStyleModel",
      "state": {
       "description_width": "initial"
      }
     },
     "c9d409efbcc64adfb585a74f16d55f1a": {
      "model_module": "@jupyter-widgets/base",
      "model_module_version": "1.0.0",
      "model_name": "LayoutModel",
      "state": {}
     },
     "c9d44f8ba4694d58ad8f1389c8e98fee": {
      "model_module": "@jupyter-widgets/base",
      "model_module_version": "1.0.0",
      "model_name": "LayoutModel",
      "state": {}
     },
     "ca2ec8bd89ea4e8b991ace94d1cb4d05": {
      "model_module": "@jupyter-widgets/controls",
      "model_module_version": "1.2.0",
      "model_name": "FloatSliderModel",
      "state": {
       "continuous_update": false,
       "description": "Zoom Level:",
       "layout": "IPY_MODEL_83225c7106444133be9f3d6a7257ad6e",
       "max": 3,
       "min": 0.5,
       "readout_format": ".1f",
       "step": 0.1,
       "style": "IPY_MODEL_da7059db8bc446a1ab3aeefb36e46fe1",
       "value": 1
      }
     },
     "ca829e71cbe04177a4a5c4aed50b270c": {
      "model_module": "@jupyter-widgets/controls",
      "model_module_version": "1.2.0",
      "model_name": "DescriptionStyleModel",
      "state": {
       "description_width": "initial"
      }
     },
     "cab966b7fa834f52b73f9e7e57484e20": {
      "model_module": "@jupyter-widgets/base",
      "model_module_version": "1.0.0",
      "model_name": "LayoutModel",
      "state": {}
     },
     "cade51b96736449eaff8c2ff51219f4e": {
      "model_module": "@jupyter-widgets/base",
      "model_module_version": "1.0.0",
      "model_name": "LayoutModel",
      "state": {}
     },
     "cafa6b702bdb4ce68bee8de02b64990c": {
      "model_module": "@jupyter-widgets/controls",
      "model_module_version": "1.2.0",
      "model_name": "SliderStyleModel",
      "state": {
       "description_width": "initial"
      }
     },
     "cb1767cf107d458ab310d045850c5180": {
      "model_module": "@jupyter-widgets/controls",
      "model_module_version": "1.2.0",
      "model_name": "DescriptionStyleModel",
      "state": {
       "description_width": "initial"
      }
     },
     "cb19b72f892e40299b2459889a02df3f": {
      "model_module": "@jupyter-widgets/controls",
      "model_module_version": "1.2.0",
      "model_name": "SliderStyleModel",
      "state": {
       "description_width": "initial"
      }
     },
     "cba255f1ffa64a3ea2a126fe710df82a": {
      "model_module": "@jupyter-widgets/controls",
      "model_module_version": "1.2.0",
      "model_name": "DescriptionStyleModel",
      "state": {
       "description_width": "initial"
      }
     },
     "cbaf00dc902f4137a52087651bbea162": {
      "model_module": "@jupyter-widgets/controls",
      "model_module_version": "1.2.0",
      "model_name": "IntSliderModel",
      "state": {
       "continuous_update": false,
       "description": "DPI (resolution):",
       "layout": "IPY_MODEL_51f7fd51aed64ffc9241568695c0100d",
       "max": 500,
       "min": 100,
       "style": "IPY_MODEL_b84625b13a1a48a1b917dd7a92afd5c4",
       "value": 300
      }
     },
     "cc222e8a0a4b4afb9cbe6d3151ba9e39": {
      "model_module": "@jupyter-widgets/controls",
      "model_module_version": "1.2.0",
      "model_name": "IntSliderModel",
      "state": {
       "continuous_update": false,
       "description": "Number of Legend Columns:",
       "layout": "IPY_MODEL_b337b3b951a44b70a0fe1c3456192595",
       "max": 3,
       "min": 1,
       "style": "IPY_MODEL_73d1d183159e4eb7bfa4536e3f59f1f5",
       "value": 1
      }
     },
     "cc593f5ee3774fad84db856be6777dc4": {
      "model_module": "@jupyter-widgets/base",
      "model_module_version": "1.0.0",
      "model_name": "LayoutModel",
      "state": {}
     },
     "cc7ce56d1504420f934d741192090318": {
      "model_module": "@jupyter-widgets/base",
      "model_module_version": "1.0.0",
      "model_name": "LayoutModel",
      "state": {}
     },
     "cca8bfc272914ed39dd55117d313ccbc": {
      "model_module": "@jupyter-widgets/controls",
      "model_module_version": "1.2.0",
      "model_name": "TextModel",
      "state": {
       "description": "Country Name:",
       "layout": "IPY_MODEL_15cca243e06d4d6298c1b05405ea42c2",
       "placeholder": "Type a country name",
       "style": "IPY_MODEL_da46b236733949e9b0c971e29bbca98f",
       "value": "India"
      }
     },
     "cd2ade8c87a446109ada62b53fd06a76": {
      "model_module": "@jupyter-widgets/controls",
      "model_module_version": "1.2.0",
      "model_name": "TextModel",
      "state": {
       "description": "Coordinate System:",
       "layout": "IPY_MODEL_2c9b5a54fcde4bd9ac04673be88f948f",
       "placeholder": "Type something",
       "style": "IPY_MODEL_72e25ca2377b4dfda61090e3e0d27dc2",
       "value": "spherical"
      }
     },
     "ce054e897c6d4e9c9cd4f9964a2a7958": {
      "model_module": "@jupyter-widgets/controls",
      "model_module_version": "1.2.0",
      "model_name": "TextModel",
      "state": {
       "description": "Country Precursor:",
       "layout": "IPY_MODEL_30d6471269fc40a1a4f860fdfc8b610e",
       "placeholder": "Precursor to Country Name",
       "style": "IPY_MODEL_1b1af95fda874a35830da77937472a16"
      }
     },
     "ce41e0084c264b518cdd3bc7d81da9ff": {
      "model_module": "@jupyter-widgets/controls",
      "model_module_version": "1.2.0",
      "model_name": "TextModel",
      "state": {
       "description": "Country Name:",
       "layout": "IPY_MODEL_ad6d0de5bae64a318a0c6b37b38dd715",
       "placeholder": "Type a country name",
       "style": "IPY_MODEL_008a1643615d4f60a365eadbe616435e",
       "value": "India"
      }
     },
     "ce6032d4d5f8430f9ba928147bd6256f": {
      "model_module": "@jupyter-widgets/controls",
      "model_module_version": "1.2.0",
      "model_name": "TextModel",
      "state": {
       "description": "Path to save to:",
       "layout": "IPY_MODEL_1db2e196417545b29b35d9c44de609f1",
       "placeholder": "Type the complete path to save to",
       "style": "IPY_MODEL_ec994e8d3570460aa3489ad3e67d5580",
       "value": "/Users/skoebric/Downloads/XYZ.png"
      }
     },
     "ce7dc05fbc8c40f1bc26ba28f039c6f1": {
      "model_module": "@jupyter-widgets/base",
      "model_module_version": "1.0.0",
      "model_name": "LayoutModel",
      "state": {}
     },
     "cebc6e0301c447b5a6980e762b8105cb": {
      "model_module": "@jupyter-widgets/controls",
      "model_module_version": "1.2.0",
      "model_name": "SliderStyleModel",
      "state": {
       "description_width": "initial"
      }
     },
     "d027039d36254a32a84ab027a4e0ae04": {
      "model_module": "@jupyter-widgets/base",
      "model_module_version": "1.0.0",
      "model_name": "LayoutModel",
      "state": {}
     },
     "d02ff9eafd7c47ed836c9b25bc032416": {
      "model_module": "@jupyter-widgets/controls",
      "model_module_version": "1.2.0",
      "model_name": "IntSliderModel",
      "state": {
       "continuous_update": false,
       "description": "DPI (resolution):",
       "layout": "IPY_MODEL_3a9f4e26237d4d80a7056fc43bcd0bba",
       "max": 500,
       "min": 100,
       "style": "IPY_MODEL_19c1c4d6d92c4ce68abfd1bda05d99f2",
       "value": 300
      }
     },
     "d06ee01a6e0d4615b441d45812ffbc5c": {
      "model_module": "@jupyter-widgets/controls",
      "model_module_version": "1.2.0",
      "model_name": "IntSliderModel",
      "state": {
       "continuous_update": false,
       "description": "Number of Legend Columns:",
       "layout": "IPY_MODEL_b23296a9a88b43d4a4362728a2e5e7d4",
       "max": 3,
       "min": 1,
       "style": "IPY_MODEL_66b7077707ed4605ba53941fe63ef0d6",
       "value": 1
      }
     },
     "d0709d3d61ec4bdeaa7eeebe8efce8bf": {
      "model_module": "@jupyter-widgets/controls",
      "model_module_version": "1.2.0",
      "model_name": "TextModel",
      "state": {
       "description": "Island Size Thresh:",
       "layout": "IPY_MODEL_cc7ce56d1504420f934d741192090318",
       "placeholder": "Type a island thresh",
       "style": "IPY_MODEL_b2c95b5512f0495b8b5ac6915c5fb615",
       "value": "5000"
      }
     },
     "d0807774317c4aff80725f88f053f4ab": {
      "model_module": "@jupyter-widgets/controls",
      "model_module_version": "1.2.0",
      "model_name": "TextModel",
      "state": {
       "description": "Island Size Thresh:",
       "layout": "IPY_MODEL_a73447805f734cf69b11ffd71d5f0eb7",
       "placeholder": "Type a island thresh",
       "style": "IPY_MODEL_058d54805c20450eafbc9db231c5c754",
       "value": "200"
      }
     },
     "d125a30ae17d43409f6d391ec5d09566": {
      "model_module": "@jupyter-widgets/controls",
      "model_module_version": "1.2.0",
      "model_name": "SliderStyleModel",
      "state": {
       "description_width": "initial"
      }
     },
     "d17cbb87c6574121b663a72758917e96": {
      "model_module": "@jupyter-widgets/controls",
      "model_module_version": "1.2.0",
      "model_name": "DescriptionStyleModel",
      "state": {
       "description_width": ""
      }
     },
     "d1df1a0d03eb484bbffb1fb0ef719870": {
      "model_module": "@jupyter-widgets/base",
      "model_module_version": "1.0.0",
      "model_name": "LayoutModel",
      "state": {}
     },
     "d21305a21e554fefbd64159bfa2cbf70": {
      "model_module": "@jupyter-widgets/controls",
      "model_module_version": "1.2.0",
      "model_name": "DescriptionStyleModel",
      "state": {
       "description_width": ""
      }
     },
     "d29fd62b51e84915a8046372996bf7f5": {
      "model_module": "@jupyter-widgets/controls",
      "model_module_version": "1.2.0",
      "model_name": "TextModel",
      "state": {
       "description": "Country Name:",
       "layout": "IPY_MODEL_28a6418d2bad41238c4a69d1ba96f409",
       "placeholder": "Type a country name",
       "style": "IPY_MODEL_421ce2c74ee84abfb76a8f091158fcc0",
       "value": "India"
      }
     },
     "d34b1e0b2c994a84b715e77f44f3eff7": {
      "model_module": "@jupyter-widgets/controls",
      "model_module_version": "1.2.0",
      "model_name": "IntSliderModel",
      "state": {
       "continuous_update": false,
       "description": "DPI (resolution):",
       "layout": "IPY_MODEL_77cab9e4aebd4029a03a46f5d1843a4b",
       "max": 500,
       "min": 100,
       "style": "IPY_MODEL_42f460ffb9c24cc7a456fe7aa6cd1351",
       "value": 300
      }
     },
     "d391a542eb154a8f976f70192d816b53": {
      "model_module": "@jupyter-widgets/base",
      "model_module_version": "1.0.0",
      "model_name": "LayoutModel",
      "state": {}
     },
     "d4ad19b8a2f04f589aa20a7ccc92ac75": {
      "model_module": "@jupyter-widgets/base",
      "model_module_version": "1.0.0",
      "model_name": "LayoutModel",
      "state": {}
     },
     "d4b1d28f4161476aad35fcaaccbe124b": {
      "model_module": "@jupyter-widgets/controls",
      "model_module_version": "1.2.0",
      "model_name": "FloatSliderModel",
      "state": {
       "continuous_update": false,
       "description": "Bubble Opacity:",
       "layout": "IPY_MODEL_62ef68bbfb2d49feb206725a2f1a57a8",
       "max": 1,
       "readout_format": ".1f",
       "step": 0.1,
       "style": "IPY_MODEL_2a5273cb02a1405c97af99110189e7d6",
       "value": 0.5
      }
     },
     "d4b353a6457a4d68a1d38e9c30a0cbbc": {
      "model_module": "@jupyter-widgets/controls",
      "model_module_version": "1.2.0",
      "model_name": "DescriptionStyleModel",
      "state": {
       "description_width": "initial"
      }
     },
     "d52e48a327b7455295e87b8f3aa9bd36": {
      "model_module": "@jupyter-widgets/controls",
      "model_module_version": "1.2.0",
      "model_name": "IntSliderModel",
      "state": {
       "continuous_update": false,
       "description": "DPI (resolution):",
       "layout": "IPY_MODEL_b808e4e3305340ffa9ceb48edc5fcc95",
       "max": 500,
       "min": 100,
       "style": "IPY_MODEL_82f7d84d69794a77989d4ac2532b3585",
       "value": 300
      }
     },
     "d598a65034034c44b45929b36411b4f9": {
      "model_module": "@jupyter-widgets/base",
      "model_module_version": "1.0.0",
      "model_name": "LayoutModel",
      "state": {}
     },
     "d5a29190c7d64b3785f3face249e1e97": {
      "model_module": "@jupyter-widgets/base",
      "model_module_version": "1.0.0",
      "model_name": "LayoutModel",
      "state": {}
     },
     "d5db70abe66a463cbcbc4c14ffeb3fbe": {
      "model_module": "@jupyter-widgets/controls",
      "model_module_version": "1.2.0",
      "model_name": "DescriptionStyleModel",
      "state": {
       "description_width": "initial"
      }
     },
     "d6495b8837214ad4adadf84426f38767": {
      "model_module": "@jupyter-widgets/controls",
      "model_module_version": "1.2.0",
      "model_name": "DescriptionStyleModel",
      "state": {
       "description_width": ""
      }
     },
     "d683fbabafd74faba901db1733ae2d36": {
      "model_module": "@jupyter-widgets/base",
      "model_module_version": "1.0.0",
      "model_name": "LayoutModel",
      "state": {}
     },
     "d7a0bf6b67d6433b840f2e55e595a447": {
      "model_module": "@jupyter-widgets/base",
      "model_module_version": "1.0.0",
      "model_name": "LayoutModel",
      "state": {}
     },
     "d7a4d9d3a524444793519544cbdc730b": {
      "model_module": "@jupyter-widgets/controls",
      "model_module_version": "1.2.0",
      "model_name": "DropdownModel",
      "state": {
       "_options_labels": [
        "capacity",
        "alphabetical"
       ],
       "description": "Sort Legend By:",
       "index": 0,
       "layout": "IPY_MODEL_2e2027dcfad842f383e31fcb5dda4655",
       "style": "IPY_MODEL_a244dc64e0fb422f912817f828bf8790"
      }
     },
     "d84d5f22007747d79c20caee025c73a7": {
      "model_module": "@jupyter-widgets/controls",
      "model_module_version": "1.2.0",
      "model_name": "IntSliderModel",
      "state": {
       "continuous_update": false,
       "description": "DPI (resolution):",
       "layout": "IPY_MODEL_f360df7c8e5b4ec0aff72985c60dbb91",
       "max": 500,
       "min": 100,
       "style": "IPY_MODEL_599d008790b34160930093938adcf17f",
       "value": 300
      }
     },
     "d8c2ccce4e6f4904b0d90e04459b19ad": {
      "model_module": "@jupyter-widgets/controls",
      "model_module_version": "1.2.0",
      "model_name": "ButtonStyleModel",
      "state": {}
     },
     "d95b60d2d0bb496fb9de8de820725ea7": {
      "model_module": "@jupyter-widgets/base",
      "model_module_version": "1.0.0",
      "model_name": "LayoutModel",
      "state": {
       "height": "80px",
       "width": "70%"
      }
     },
     "d98e39b0546441fb8d0ebcd3c1fbe018": {
      "model_module": "@jupyter-widgets/controls",
      "model_module_version": "1.2.0",
      "model_name": "SliderStyleModel",
      "state": {
       "description_width": "initial"
      }
     },
     "d9a04ba480054b1a895809736f504cf7": {
      "model_module": "@jupyter-widgets/base",
      "model_module_version": "1.0.0",
      "model_name": "LayoutModel",
      "state": {}
     },
     "d9d2ad81508b43acadb296279c19b1a4": {
      "model_module": "@jupyter-widgets/controls",
      "model_module_version": "1.2.0",
      "model_name": "DescriptionStyleModel",
      "state": {
       "description_width": "initial"
      }
     },
     "d9feb0fafc7a44a9a935bc3a2a89b603": {
      "model_module": "@jupyter-widgets/base",
      "model_module_version": "1.0.0",
      "model_name": "LayoutModel",
      "state": {}
     },
     "da46b236733949e9b0c971e29bbca98f": {
      "model_module": "@jupyter-widgets/controls",
      "model_module_version": "1.2.0",
      "model_name": "DescriptionStyleModel",
      "state": {
       "description_width": "initial"
      }
     },
     "da5eedffb0234eebbc8757c48dd22918": {
      "model_module": "@jupyter-widgets/base",
      "model_module_version": "1.0.0",
      "model_name": "LayoutModel",
      "state": {}
     },
     "da66acd4de1c427196557962b576a3f2": {
      "model_module": "@jupyter-widgets/controls",
      "model_module_version": "1.2.0",
      "model_name": "TextModel",
      "state": {
       "description": "Country Name:",
       "layout": "IPY_MODEL_a3e8128f25eb4d07b7a0c1d9cb22782f",
       "placeholder": "Type a country name",
       "style": "IPY_MODEL_3a63fdbdd8214cc0b691533658252e18",
       "value": "India"
      }
     },
     "da6cb41089c14cb089304d41439efd82": {
      "model_module": "@jupyter-widgets/base",
      "model_module_version": "1.0.0",
      "model_name": "LayoutModel",
      "state": {}
     },
     "da7059db8bc446a1ab3aeefb36e46fe1": {
      "model_module": "@jupyter-widgets/controls",
      "model_module_version": "1.2.0",
      "model_name": "SliderStyleModel",
      "state": {
       "description_width": "initial"
      }
     },
     "da725c0ce721436eb070073810e930d1": {
      "model_module": "@jupyter-widgets/controls",
      "model_module_version": "1.2.0",
      "model_name": "ButtonStyleModel",
      "state": {}
     },
     "daa92050d52f433eb3e34b0085216e51": {
      "model_module": "@jupyter-widgets/controls",
      "model_module_version": "1.2.0",
      "model_name": "TextModel",
      "state": {
       "description": "Show Populated Places:",
       "layout": "IPY_MODEL_e86e01961d5245b18ac7ecabee6ba5ff",
       "placeholder": "Type something",
       "style": "IPY_MODEL_339ee14ddd864efabafa4777e196b00d",
       "value": "False"
      }
     },
     "db0e0be6bce145bb8f7504d04e446c73": {
      "model_module": "@jupyter-widgets/controls",
      "model_module_version": "1.2.0",
      "model_name": "DescriptionStyleModel",
      "state": {
       "description_width": "initial"
      }
     },
     "dbbfa7595efb435a920d2df2c4ed014f": {
      "model_module": "@jupyter-widgets/base",
      "model_module_version": "1.0.0",
      "model_name": "LayoutModel",
      "state": {}
     },
     "dc31d983cb704585a2f792ec5b3cc0b5": {
      "model_module": "@jupyter-widgets/controls",
      "model_module_version": "1.2.0",
      "model_name": "TextModel",
      "state": {
       "description": "Island Size Thresh:",
       "layout": "IPY_MODEL_f8a374eb5b414ed9917db077d3ce4fa6",
       "placeholder": "Type a island thresh",
       "style": "IPY_MODEL_e0a29e3c5a5d427a8f891e927182e88d",
       "value": "5000"
      }
     },
     "dcd03308b05542d9a2ccef6eaee46fc1": {
      "model_module": "@jupyter-widgets/controls",
      "model_module_version": "1.2.0",
      "model_name": "SliderStyleModel",
      "state": {
       "description_width": "initial"
      }
     },
     "dcd971f3c86845d7abc50517182b2279": {
      "model_module": "@jupyter-widgets/controls",
      "model_module_version": "1.2.0",
      "model_name": "ButtonModel",
      "state": {
       "description": "Update Plot",
       "icon": "check",
       "layout": "IPY_MODEL_c0ed58f44e1d402c80383dfffc184066",
       "style": "IPY_MODEL_da725c0ce721436eb070073810e930d1",
       "tooltip": "Update Plot"
      }
     },
     "de2ffcf7a6554d4bb99b5b968ea338f0": {
      "model_module": "@jupyter-widgets/base",
      "model_module_version": "1.0.0",
      "model_name": "LayoutModel",
      "state": {}
     },
     "df89d84d897a465abd3a2e8e5b730dc3": {
      "model_module": "@jupyter-widgets/base",
      "model_module_version": "1.0.0",
      "model_name": "LayoutModel",
      "state": {}
     },
     "df9437f9b1c2441a817fbc9ecb9bf941": {
      "model_module": "@jupyter-widgets/controls",
      "model_module_version": "1.2.0",
      "model_name": "DescriptionStyleModel",
      "state": {
       "description_width": "initial"
      }
     },
     "df992bf53a8c43c993d946a0cc9536be": {
      "model_module": "@jupyter-widgets/controls",
      "model_module_version": "1.2.0",
      "model_name": "TextModel",
      "state": {
       "description": "Coordinate System:",
       "layout": "IPY_MODEL_17001cca00194e0cafdee261752dbcdd",
       "placeholder": "Type something",
       "style": "IPY_MODEL_c69a7fe9e3df4e139592191dd8193870",
       "value": "spherical"
      }
     },
     "e024971a6e9a4d508ea10edeb09bc6dc": {
      "model_module": "@jupyter-widgets/controls",
      "model_module_version": "1.2.0",
      "model_name": "TextModel",
      "state": {
       "description": "Coordinate System:",
       "layout": "IPY_MODEL_b707193cffa84ab5a91b3283acbd194d",
       "placeholder": "Type something",
       "style": "IPY_MODEL_3bcdc2e9071e47f6b59fef3edfba57ad",
       "value": "spherical"
      }
     },
     "e02b352a68e3494690944d946eb06533": {
      "model_module": "@jupyter-widgets/base",
      "model_module_version": "1.0.0",
      "model_name": "LayoutModel",
      "state": {}
     },
     "e049d766137c40259284a47d021bc3e9": {
      "model_module": "@jupyter-widgets/base",
      "model_module_version": "1.0.0",
      "model_name": "LayoutModel",
      "state": {}
     },
     "e08ea0eab730462a9bb6383a04478810": {
      "model_module": "@jupyter-widgets/controls",
      "model_module_version": "1.2.0",
      "model_name": "ButtonModel",
      "state": {
       "description": "Update Plot",
       "icon": "check",
       "layout": "IPY_MODEL_2744a9a4245e4ce392b7da3458773886",
       "style": "IPY_MODEL_45145fd840e343269f4298bcfcaff6b5",
       "tooltip": "Update Plot"
      }
     },
     "e0a29e3c5a5d427a8f891e927182e88d": {
      "model_module": "@jupyter-widgets/controls",
      "model_module_version": "1.2.0",
      "model_name": "DescriptionStyleModel",
      "state": {
       "description_width": "initial"
      }
     },
     "e0b8fdac01ce4d31ae708b5b5fc1e1d8": {
      "model_module": "@jupyter-widgets/controls",
      "model_module_version": "1.2.0",
      "model_name": "TextModel",
      "state": {
       "description": "Coordinate System:",
       "layout": "IPY_MODEL_f7e120cb18cb412bb8a44f2f8561f07d",
       "placeholder": "Type something",
       "style": "IPY_MODEL_63f915dae25b4a11975aaf2aceb02cbf",
       "value": "spherical"
      }
     },
     "e11bb3a854b34a87839b5dc9282c6302": {
      "model_module": "@jupyter-widgets/controls",
      "model_module_version": "1.2.0",
      "model_name": "ButtonModel",
      "state": {
       "description": "Update Plot",
       "icon": "check",
       "layout": "IPY_MODEL_04d58663103742c7a689e599b32c18f6",
       "style": "IPY_MODEL_2047af4f13bd47618ab2f40016356107",
       "tooltip": "Update Plot"
      }
     },
     "e142632e0a214f2697b5fc6a87c92d7a": {
      "model_module": "@jupyter-widgets/controls",
      "model_module_version": "1.2.0",
      "model_name": "ToggleButtonsModel",
      "state": {
       "_options_labels": [
        "Simple",
        "Mixed",
        "Complex"
       ],
       "button_style": "",
       "description": "Simplification Level:",
       "icons": [],
       "index": 1,
       "layout": "IPY_MODEL_e4e6a9a6d70540e6ab3457e791574c0c",
       "style": "IPY_MODEL_27923732d28842fb833d024bd04ffcef",
       "tooltips": [
        "Renewables, Fossil, and Nuclear",
        "Solar, Wind, Hydro, Geothermal,Biomass, Wave and Tidal,\n Storage, Fossil, Nuclear",
        "Solar, Wind, Hydro, Geothermal,Biomass, Wave and Tidal,\n Storage, Fossil, Nuclear, Coal, Gas, Oil, Waste, Cogeneration"
       ]
      }
     },
     "e165f1a4874f45ba93f0dd0083000291": {
      "model_module": "@jupyter-widgets/base",
      "model_module_version": "1.0.0",
      "model_name": "LayoutModel",
      "state": {
       "height": "80px",
       "width": "70%"
      }
     },
     "e1cf39037f774b868287526d2ab9d2d7": {
      "model_module": "@jupyter-widgets/controls",
      "model_module_version": "1.2.0",
      "model_name": "DescriptionStyleModel",
      "state": {
       "description_width": "initial"
      }
     },
     "e2a7324e685147d18ffe56eb582d7cd1": {
      "model_module": "@jupyter-widgets/base",
      "model_module_version": "1.0.0",
      "model_name": "LayoutModel",
      "state": {}
     },
     "e2b0e98fefea4cf896dbd6c6fac6b7e1": {
      "model_module": "@jupyter-widgets/controls",
      "model_module_version": "1.2.0",
      "model_name": "TextModel",
      "state": {
       "description": "Island Size Thresh:",
       "layout": "IPY_MODEL_c47fb7de66e74245b3a0f0e360b2956d",
       "placeholder": "Type a island thresh",
       "style": "IPY_MODEL_3dd102149f174e368ddc81c151e6284a",
       "value": "5000"
      }
     },
     "e30950ab71bd49ac9d28a72aca63ae30": {
      "model_module": "@jupyter-widgets/base",
      "model_module_version": "1.0.0",
      "model_name": "LayoutModel",
      "state": {}
     },
     "e35c40f31d924d1896a7938451d171eb": {
      "model_module": "@jupyter-widgets/base",
      "model_module_version": "1.0.0",
      "model_name": "LayoutModel",
      "state": {}
     },
     "e3c38deb4606483ca95ce403a255fa02": {
      "model_module": "@jupyter-widgets/controls",
      "model_module_version": "1.2.0",
      "model_name": "SliderStyleModel",
      "state": {
       "description_width": "initial"
      }
     },
     "e3e4a53d72db43b18f5cbeaa4cb3e88e": {
      "model_module": "@jupyter-widgets/controls",
      "model_module_version": "1.2.0",
      "model_name": "SliderStyleModel",
      "state": {
       "description_width": "initial"
      }
     },
     "e3f1c5f3e441422e980659f39121cd2b": {
      "model_module": "@jupyter-widgets/controls",
      "model_module_version": "1.2.0",
      "model_name": "DescriptionStyleModel",
      "state": {
       "description_width": "initial"
      }
     },
     "e4c5e396028c4972b0c73c8cb8c1cce7": {
      "model_module": "@jupyter-widgets/controls",
      "model_module_version": "1.2.0",
      "model_name": "IntSliderModel",
      "state": {
       "continuous_update": false,
       "description": "Number of Legend Columns:",
       "layout": "IPY_MODEL_f73a267fbac0478cbe1fcf19e6cf44be",
       "max": 3,
       "min": 1,
       "style": "IPY_MODEL_2140a773dce74efb93a6c033791cfcad",
       "value": 1
      }
     },
     "e4e6a9a6d70540e6ab3457e791574c0c": {
      "model_module": "@jupyter-widgets/base",
      "model_module_version": "1.0.0",
      "model_name": "LayoutModel",
      "state": {}
     },
     "e50a6c8bde9b46578c62883526466a37": {
      "model_module": "@jupyter-widgets/controls",
      "model_module_version": "1.2.0",
      "model_name": "IntSliderModel",
      "state": {
       "continuous_update": false,
       "description": "Number of Legend Columns:",
       "layout": "IPY_MODEL_2438d43716ff41689d8e552b9cf826bd",
       "max": 3,
       "min": 1,
       "style": "IPY_MODEL_94774508857a4904bf9da3b8d4aadace",
       "value": 1
      }
     },
     "e5d78cd9587246ce909469e26c6017a0": {
      "model_module": "@jupyter-widgets/controls",
      "model_module_version": "1.2.0",
      "model_name": "DescriptionStyleModel",
      "state": {
       "description_width": "initial"
      }
     },
     "e5faefe0b30d45f1af15b942dea19f88": {
      "model_module": "@jupyter-widgets/controls",
      "model_module_version": "1.2.0",
      "model_name": "IntSliderModel",
      "state": {
       "continuous_update": false,
       "description": "DPI (resolution):",
       "layout": "IPY_MODEL_ce7dc05fbc8c40f1bc26ba28f039c6f1",
       "max": 500,
       "min": 100,
       "style": "IPY_MODEL_a43deb5f4ea34220bc499ac5398b8bea",
       "value": 300
      }
     },
     "e6074492c7cc4040ad3cb358ae512305": {
      "model_module": "@jupyter-widgets/controls",
      "model_module_version": "1.2.0",
      "model_name": "DescriptionStyleModel",
      "state": {
       "description_width": "initial"
      }
     },
     "e63560e4e05c4d9d81703f5fb2470c3c": {
      "model_module": "@jupyter-widgets/controls",
      "model_module_version": "1.2.0",
      "model_name": "IntSliderModel",
      "state": {
       "continuous_update": false,
       "description": "Number of Legend Columns:",
       "layout": "IPY_MODEL_95dee208edd845d69214f79f93d9c024",
       "max": 3,
       "min": 1,
       "style": "IPY_MODEL_7cdd10a8b6164c11a0eb264138ab0cf8",
       "value": 1
      }
     },
     "e691ea2d927f42e1b3e0a312cdf38191": {
      "model_module": "@jupyter-widgets/controls",
      "model_module_version": "1.2.0",
      "model_name": "TextModel",
      "state": {
       "description": "Country Name:",
       "layout": "IPY_MODEL_071c0c2c17c648d099d748f1e9ea0805",
       "placeholder": "Type a country name",
       "style": "IPY_MODEL_773597eaa0c44d739e7feb9ccd7dc03b",
       "value": "India"
      }
     },
     "e6a44690080c43e8807493672a5bb5ea": {
      "model_module": "@jupyter-widgets/controls",
      "model_module_version": "1.2.0",
      "model_name": "FloatSliderModel",
      "state": {
       "continuous_update": false,
       "description": "Zoom Level:",
       "layout": "IPY_MODEL_1139872ede47432984e37f976fe7a4ef",
       "max": 3,
       "min": 0.5,
       "readout_format": ".1f",
       "step": 0.1,
       "style": "IPY_MODEL_32eee66133bd4c23850aa6981c02dd25",
       "value": 1
      }
     },
     "e6c3ac873f0846c19ca55edff40cdcf0": {
      "model_module": "@jupyter-widgets/base",
      "model_module_version": "1.0.0",
      "model_name": "LayoutModel",
      "state": {}
     },
     "e704d73ab28844d186beb1674b1d799f": {
      "model_module": "@jupyter-widgets/controls",
      "model_module_version": "1.2.0",
      "model_name": "FloatSliderModel",
      "state": {
       "continuous_update": false,
       "description": "Zoom Level:",
       "layout": "IPY_MODEL_1b0ea0b2b7464ed1b8cbe979839ced9b",
       "max": 3,
       "min": 0.5,
       "readout_format": ".1f",
       "step": 0.1,
       "style": "IPY_MODEL_eea700f97181487ea917fd969e471d34",
       "value": 1.5
      }
     },
     "e761b416f68b492bac0ec93e8c282bc0": {
      "model_module": "@jupyter-widgets/base",
      "model_module_version": "1.0.0",
      "model_name": "LayoutModel",
      "state": {}
     },
     "e783fc82ca5b4b76b58945a2eb559b84": {
      "model_module": "@jupyter-widgets/controls",
      "model_module_version": "1.2.0",
      "model_name": "ToggleButtonsStyleModel",
      "state": {
       "button_width": "",
       "description_width": "initial"
      }
     },
     "e7b31103897844ee8799337cb0aadfa6": {
      "model_module": "@jupyter-widgets/controls",
      "model_module_version": "1.2.0",
      "model_name": "FloatSliderModel",
      "state": {
       "continuous_update": false,
       "description": "Zoom Level:",
       "layout": "IPY_MODEL_c1e7b54a78464d4ca63e730ac801f85d",
       "max": 3,
       "min": 0.5,
       "readout_format": ".1f",
       "step": 0.1,
       "style": "IPY_MODEL_17cfd8f1296e440997763791964e07cd",
       "value": 1
      }
     },
     "e7db3021d8e2438995a7b2bca3f7ac56": {
      "model_module": "@jupyter-widgets/controls",
      "model_module_version": "1.2.0",
      "model_name": "TextModel",
      "state": {
       "description": "Path to save to:",
       "layout": "IPY_MODEL_2f6629529078457db334226140d36d61",
       "placeholder": "Type the complete path to save to",
       "style": "IPY_MODEL_a1eb4647c3c04621a1f88dd90de401be",
       "value": "/Users/skoebric/Downloads/XYZ.png"
      }
     },
     "e803bea82d2c4061af24ea22797920c5": {
      "model_module": "@jupyter-widgets/controls",
      "model_module_version": "1.2.0",
      "model_name": "DropdownModel",
      "state": {
       "_options_labels": [
        "capacity",
        "alphabetical"
       ],
       "description": "Sort Legend By:",
       "index": 0,
       "layout": "IPY_MODEL_cab966b7fa834f52b73f9e7e57484e20",
       "style": "IPY_MODEL_1e7dd346e1c141a9a67604d6c8207bfe"
      }
     },
     "e8218894dc02488aa9225f6cbd617c4f": {
      "model_module": "@jupyter-widgets/controls",
      "model_module_version": "1.2.0",
      "model_name": "ToggleButtonsStyleModel",
      "state": {
       "button_width": "",
       "description_width": "initial"
      }
     },
     "e838390eceb54172bbb9abd25d2162d9": {
      "model_module": "@jupyter-widgets/controls",
      "model_module_version": "1.2.0",
      "model_name": "RadioButtonsModel",
      "state": {
       "_options_labels": [
        "True",
        "False"
       ],
       "description": "Source On:",
       "index": 0,
       "layout": "IPY_MODEL_6094ec9dd9974241b15fec9b7bbeb195",
       "style": "IPY_MODEL_274d04bcf93e429d9cc72981ef262820"
      }
     },
     "e86e01961d5245b18ac7ecabee6ba5ff": {
      "model_module": "@jupyter-widgets/base",
      "model_module_version": "1.0.0",
      "model_name": "LayoutModel",
      "state": {}
     },
     "e92934faa2d441c7a9153d6a17ce394e": {
      "model_module": "@jupyter-widgets/controls",
      "model_module_version": "1.2.0",
      "model_name": "SliderStyleModel",
      "state": {
       "description_width": "initial"
      }
     },
     "e9305f35e0fd483887baf0b326df7b95": {
      "model_module": "@jupyter-widgets/base",
      "model_module_version": "1.0.0",
      "model_name": "LayoutModel",
      "state": {}
     },
     "e939a14180474b2782bf7f2024bc33aa": {
      "model_module": "@jupyter-widgets/base",
      "model_module_version": "1.0.0",
      "model_name": "LayoutModel",
      "state": {}
     },
     "e999d189a0b3431290a255ef963307c7": {
      "model_module": "@jupyter-widgets/base",
      "model_module_version": "1.0.0",
      "model_name": "LayoutModel",
      "state": {}
     },
     "e9fc99a5f3db406e80041f8045f38537": {
      "model_module": "@jupyter-widgets/controls",
      "model_module_version": "1.2.0",
      "model_name": "ToggleButtonsModel",
      "state": {
       "_options_labels": [
        "Simple",
        "Mixed",
        "Complex"
       ],
       "button_style": "",
       "description": "Simplification Level:",
       "icons": [],
       "index": 1,
       "layout": "IPY_MODEL_0a1d77feea0d400287758ec9c3d91338",
       "style": "IPY_MODEL_1523ed924c1341aa98cdb27208cd6fcf",
       "tooltips": [
        "Renewables, Fossil, and Nuclear",
        "Solar, Wind, Hydro, Geothermal,Biomass, Wave and Tidal,\n Storage, Fossil, Nuclear",
        "Solar, Wind, Hydro, Geothermal,Biomass, Wave and Tidal,\n Storage, Fossil, Nuclear, Coal, Gas, Oil, Waste, Cogeneration"
       ]
      }
     },
     "eaaa258b500643d5b63dd2ce87ec6295": {
      "model_module": "@jupyter-widgets/controls",
      "model_module_version": "1.2.0",
      "model_name": "TextModel",
      "state": {
       "description": "Country Precursor:",
       "layout": "IPY_MODEL_3ce25d4b89904195985c5a22c00a3658",
       "placeholder": "Precursor to Country Name",
       "style": "IPY_MODEL_10939cd7c0ba4b7f813bbd234f5886ca"
      }
     },
     "eab0ba454c37404891d7818f67598e53": {
      "model_module": "@jupyter-widgets/controls",
      "model_module_version": "1.2.0",
      "model_name": "ButtonStyleModel",
      "state": {}
     },
     "eaeac9182ae84920902d6fff016ce678": {
      "model_module": "@jupyter-widgets/base",
      "model_module_version": "1.0.0",
      "model_name": "LayoutModel",
      "state": {}
     },
     "eb13c3658333424caa0fba6f0d8c7015": {
      "model_module": "@jupyter-widgets/controls",
      "model_module_version": "1.2.0",
      "model_name": "SliderStyleModel",
      "state": {
       "description_width": "initial"
      }
     },
     "eb4a7c8efa2240e3a70085ebfc72ef16": {
      "model_module": "@jupyter-widgets/controls",
      "model_module_version": "1.2.0",
      "model_name": "TextModel",
      "state": {
       "description": "Country Precursor:",
       "layout": "IPY_MODEL_d027039d36254a32a84ab027a4e0ae04",
       "placeholder": "Precursor to Country Name",
       "style": "IPY_MODEL_a4e48d1735f14553afb9748d3959d7c5"
      }
     },
     "eb59f877b3764bfab9c12b83637a8030": {
      "model_module": "@jupyter-widgets/controls",
      "model_module_version": "1.2.0",
      "model_name": "DescriptionStyleModel",
      "state": {
       "description_width": ""
      }
     },
     "ebdd9bf153cc4acb9fab678bc8bd23f2": {
      "model_module": "@jupyter-widgets/controls",
      "model_module_version": "1.2.0",
      "model_name": "TextModel",
      "state": {
       "description": "Island Size Thresh:",
       "layout": "IPY_MODEL_65ef3fe9c86d4f409473ed7b0b488939",
       "placeholder": "Type a island thresh",
       "style": "IPY_MODEL_9da689946cf74d4bba483f5465628bd3",
       "value": "200"
      }
     },
     "ec321d96197542c989738ad79586ac96": {
      "model_module": "@jupyter-widgets/base",
      "model_module_version": "1.0.0",
      "model_name": "LayoutModel",
      "state": {}
     },
     "ec57aafcb73d4ffc9f7633acb55f6683": {
      "model_module": "@jupyter-widgets/controls",
      "model_module_version": "1.2.0",
      "model_name": "TextModel",
      "state": {
       "description": "Country Precursor:",
       "layout": "IPY_MODEL_3f50e791dfe84c56971a0e3510ab2462",
       "placeholder": "Precursor to Country Name",
       "style": "IPY_MODEL_c488274fbc0247cebba7ab09422e9738"
      }
     },
     "ec7e28e7ef964c898f85bdc6f15f0977": {
      "model_module": "@jupyter-widgets/controls",
      "model_module_version": "1.2.0",
      "model_name": "IntSliderModel",
      "state": {
       "continuous_update": false,
       "description": "Number of Legend Columns:",
       "layout": "IPY_MODEL_8183701606334a04a1f0f44f49c8d1d4",
       "max": 3,
       "min": 1,
       "style": "IPY_MODEL_3ac19f4e881245928f26151a525ce171",
       "value": 1
      }
     },
     "ec994e8d3570460aa3489ad3e67d5580": {
      "model_module": "@jupyter-widgets/controls",
      "model_module_version": "1.2.0",
      "model_name": "DescriptionStyleModel",
      "state": {
       "description_width": "initial"
      }
     },
     "ed2ba2283910438e9213d39295c6c66d": {
      "model_module": "@jupyter-widgets/controls",
      "model_module_version": "1.2.0",
      "model_name": "DescriptionStyleModel",
      "state": {
       "description_width": "initial"
      }
     },
     "ed748724e69043e6b6b9290c21e750fc": {
      "model_module": "@jupyter-widgets/base",
      "model_module_version": "1.0.0",
      "model_name": "LayoutModel",
      "state": {}
     },
     "edabaef891a742adbbefc0fd5d5f800b": {
      "model_module": "@jupyter-widgets/base",
      "model_module_version": "1.0.0",
      "model_name": "LayoutModel",
      "state": {}
     },
     "ee316c314bfc4d6797074694ac08c047": {
      "model_module": "@jupyter-widgets/controls",
      "model_module_version": "1.2.0",
      "model_name": "SliderStyleModel",
      "state": {
       "description_width": "initial"
      }
     },
     "ee930139d1f047a8a177b19da9b7eaae": {
      "model_module": "@jupyter-widgets/base",
      "model_module_version": "1.0.0",
      "model_name": "LayoutModel",
      "state": {}
     },
     "eea700f97181487ea917fd969e471d34": {
      "model_module": "@jupyter-widgets/controls",
      "model_module_version": "1.2.0",
      "model_name": "SliderStyleModel",
      "state": {
       "description_width": "initial"
      }
     },
     "ef084d8c78b04dc790f547be2f33e0c1": {
      "model_module": "@jupyter-widgets/controls",
      "model_module_version": "1.2.0",
      "model_name": "DescriptionStyleModel",
      "state": {
       "description_width": ""
      }
     },
     "ef32c488276b4ee49436f14c7eb80224": {
      "model_module": "@jupyter-widgets/controls",
      "model_module_version": "1.2.0",
      "model_name": "DescriptionStyleModel",
      "state": {
       "description_width": "initial"
      }
     },
     "ef9a73385d5e44f98d5b834775056728": {
      "model_module": "@jupyter-widgets/base",
      "model_module_version": "1.0.0",
      "model_name": "LayoutModel",
      "state": {}
     },
     "efca5c4564284615ac99b7e9a1141952": {
      "model_module": "@jupyter-widgets/controls",
      "model_module_version": "1.2.0",
      "model_name": "RadioButtonsModel",
      "state": {
       "_options_labels": [
        "True",
        "False"
       ],
       "description": "Source On:",
       "index": 0,
       "layout": "IPY_MODEL_8a74ef72a6a64ee3b542b9ea951e68c2",
       "style": "IPY_MODEL_ef084d8c78b04dc790f547be2f33e0c1"
      }
     },
     "efec90a7596e4dcf87ce9e92e30d8a11": {
      "model_module": "@jupyter-widgets/base",
      "model_module_version": "1.0.0",
      "model_name": "LayoutModel",
      "state": {}
     },
     "f0b29ead72d3464c8cd1f76085d64cf0": {
      "model_module": "@jupyter-widgets/controls",
      "model_module_version": "1.2.0",
      "model_name": "DescriptionStyleModel",
      "state": {
       "description_width": "initial"
      }
     },
     "f0fce0215ce14a779d1d1b189dcd5b9b": {
      "model_module": "@jupyter-widgets/controls",
      "model_module_version": "1.2.0",
      "model_name": "DescriptionStyleModel",
      "state": {
       "description_width": "initial"
      }
     },
     "f10e3ad7a0d245298c4728eb6dcc62e6": {
      "model_module": "@jupyter-widgets/base",
      "model_module_version": "1.0.0",
      "model_name": "LayoutModel",
      "state": {}
     },
     "f167a40f398a4c2793b3477378eb3946": {
      "model_module": "@jupyter-widgets/controls",
      "model_module_version": "1.2.0",
      "model_name": "SliderStyleModel",
      "state": {
       "description_width": "initial"
      }
     },
     "f1717553bcf44eeea4ad9964d002a26a": {
      "model_module": "@jupyter-widgets/base",
      "model_module_version": "1.0.0",
      "model_name": "LayoutModel",
      "state": {}
     },
     "f1a6ee6a7ee548678824164846e1cab6": {
      "model_module": "@jupyter-widgets/controls",
      "model_module_version": "1.2.0",
      "model_name": "TextModel",
      "state": {
       "description": "Country Precursor:",
       "layout": "IPY_MODEL_4fcf08906f0a4b36999d29eeebdbb940",
       "placeholder": "Precursor to Country Name",
       "style": "IPY_MODEL_f2ac7280127b4e86be2ec32b547aa983"
      }
     },
     "f1b934e7f98a424b8ba4e3e18778dd69": {
      "model_module": "@jupyter-widgets/controls",
      "model_module_version": "1.2.0",
      "model_name": "SliderStyleModel",
      "state": {
       "description_width": "initial"
      }
     },
     "f1be5247a81f44d9b555bdd629227d9e": {
      "model_module": "@jupyter-widgets/base",
      "model_module_version": "1.0.0",
      "model_name": "LayoutModel",
      "state": {
       "height": "80px",
       "width": "70%"
      }
     },
     "f24ab16761fc4e6da39a7740d33f0d41": {
      "model_module": "@jupyter-widgets/controls",
      "model_module_version": "1.2.0",
      "model_name": "RadioButtonsModel",
      "state": {
       "_options_labels": [
        "True",
        "False"
       ],
       "description": "Source On:",
       "index": 0,
       "layout": "IPY_MODEL_0d57034cc43c42579fcd6411c4f71338",
       "style": "IPY_MODEL_29d3e64748bf48148710bb6aa8adbfff"
      }
     },
     "f269c5af8644416ea95ec704ee411471": {
      "model_module": "@jupyter-widgets/controls",
      "model_module_version": "1.2.0",
      "model_name": "FloatSliderModel",
      "state": {
       "continuous_update": false,
       "description": "Zoom Level:",
       "layout": "IPY_MODEL_79c82f2ba432476db59670e1b4cf9f5b",
       "max": 3,
       "min": 0.5,
       "readout_format": ".1f",
       "step": 0.1,
       "style": "IPY_MODEL_baf52c92a86a4f92be7a33d246e85c0b",
       "value": 1
      }
     },
     "f27a21530a7f4f00bbd53d9d02ff1906": {
      "model_module": "@jupyter-widgets/controls",
      "model_module_version": "1.2.0",
      "model_name": "DescriptionStyleModel",
      "state": {
       "description_width": "initial"
      }
     },
     "f2ac7280127b4e86be2ec32b547aa983": {
      "model_module": "@jupyter-widgets/controls",
      "model_module_version": "1.2.0",
      "model_name": "DescriptionStyleModel",
      "state": {
       "description_width": "initial"
      }
     },
     "f2b09f5367524c3099d70cfe9449e7bd": {
      "model_module": "@jupyter-widgets/controls",
      "model_module_version": "1.2.0",
      "model_name": "DescriptionStyleModel",
      "state": {
       "description_width": "initial"
      }
     },
     "f30e5fdca0734199a5360bcacb3dac72": {
      "model_module": "@jupyter-widgets/controls",
      "model_module_version": "1.2.0",
      "model_name": "SliderStyleModel",
      "state": {
       "description_width": "initial"
      }
     },
     "f31d4c0391b64b51a873d640bcafe001": {
      "model_module": "@jupyter-widgets/base",
      "model_module_version": "1.0.0",
      "model_name": "LayoutModel",
      "state": {}
     },
     "f360df7c8e5b4ec0aff72985c60dbb91": {
      "model_module": "@jupyter-widgets/base",
      "model_module_version": "1.0.0",
      "model_name": "LayoutModel",
      "state": {}
     },
     "f395b6e7cf84473e988ad75706a607d6": {
      "model_module": "@jupyter-widgets/controls",
      "model_module_version": "1.2.0",
      "model_name": "TextModel",
      "state": {
       "description": "Coordinate System:",
       "layout": "IPY_MODEL_0a8b967da57045f1ad6e412a1c03b490",
       "placeholder": "Type something",
       "style": "IPY_MODEL_0fb037dadede4062b5e1b728b3db43bf",
       "value": "spherical"
      }
     },
     "f3abe3be76044e9b9fb7f71e53f968a8": {
      "model_module": "@jupyter-widgets/base",
      "model_module_version": "1.0.0",
      "model_name": "LayoutModel",
      "state": {}
     },
     "f3b74ccd814b427fb5383b5f00c6e23d": {
      "model_module": "@jupyter-widgets/controls",
      "model_module_version": "1.2.0",
      "model_name": "DescriptionStyleModel",
      "state": {
       "description_width": "initial"
      }
     },
     "f5081d13453f4a5da60c2b8bc8751d88": {
      "model_module": "@jupyter-widgets/controls",
      "model_module_version": "1.2.0",
      "model_name": "TextModel",
      "state": {
       "description": "Country Precursor:",
       "layout": "IPY_MODEL_2d4c8d9240dd4db384a264898f125769",
       "placeholder": "Precursor to Country Name",
       "style": "IPY_MODEL_9a42e3ed21f14285a8724d7fb2be872a"
      }
     },
     "f540d8b53d98419490e948fcc147f6fb": {
      "model_module": "@jupyter-widgets/controls",
      "model_module_version": "1.2.0",
      "model_name": "ToggleButtonsStyleModel",
      "state": {
       "button_width": "",
       "description_width": "initial"
      }
     },
     "f567fbf99f234642a79f32db8c8df088": {
      "model_module": "@jupyter-widgets/controls",
      "model_module_version": "1.2.0",
      "model_name": "SliderStyleModel",
      "state": {
       "description_width": "initial"
      }
     },
     "f579997fad31481fb62dfcbdfb3fdf23": {
      "model_module": "@jupyter-widgets/controls",
      "model_module_version": "1.2.0",
      "model_name": "IntSliderModel",
      "state": {
       "continuous_update": false,
       "description": "DPI (resolution):",
       "layout": "IPY_MODEL_6cfe6b2216bc43668f473e38caadd609",
       "max": 500,
       "min": 100,
       "style": "IPY_MODEL_6775d26edb544efea5ec75038847a00b",
       "value": 300
      }
     },
     "f5a0a62cb8df476c8ffc4110bc5cd6cb": {
      "model_module": "@jupyter-widgets/controls",
      "model_module_version": "1.2.0",
      "model_name": "SliderStyleModel",
      "state": {
       "description_width": "initial"
      }
     },
     "f5c9b35aab294d5880b48b3364375fbb": {
      "model_module": "@jupyter-widgets/base",
      "model_module_version": "1.0.0",
      "model_name": "LayoutModel",
      "state": {}
     },
     "f5dcebc1cca54a0c8d6b22a25c9a3d15": {
      "model_module": "@jupyter-widgets/controls",
      "model_module_version": "1.2.0",
      "model_name": "IntSliderModel",
      "state": {
       "continuous_update": false,
       "description": "Number of Legend Columns:",
       "layout": "IPY_MODEL_6432569873f34594b29c0c10a57b539f",
       "max": 3,
       "min": 1,
       "style": "IPY_MODEL_8ad372ade238496f9e5d13b26318a7aa",
       "value": 1
      }
     },
     "f5e200ea06ab4c90b79f56a68abc7ab3": {
      "model_module": "@jupyter-widgets/controls",
      "model_module_version": "1.2.0",
      "model_name": "SliderStyleModel",
      "state": {
       "description_width": "initial"
      }
     },
     "f63f498741bb4fda8fa314e5602a5674": {
      "model_module": "@jupyter-widgets/controls",
      "model_module_version": "1.2.0",
      "model_name": "TextModel",
      "state": {
       "description": "Country Precursor:",
       "layout": "IPY_MODEL_6e0066f71a424980bc13024c53718326",
       "placeholder": "Precursor to Country Name",
       "style": "IPY_MODEL_73f6816fd9404bd497f08e976d10891a"
      }
     },
     "f6bf2976c79642f3830402d11dd6b9e4": {
      "model_module": "@jupyter-widgets/base",
      "model_module_version": "1.0.0",
      "model_name": "LayoutModel",
      "state": {}
     },
     "f70332aea0de48aa804be93b1583d5d9": {
      "model_module": "@jupyter-widgets/base",
      "model_module_version": "1.0.0",
      "model_name": "LayoutModel",
      "state": {}
     },
     "f73a267fbac0478cbe1fcf19e6cf44be": {
      "model_module": "@jupyter-widgets/base",
      "model_module_version": "1.0.0",
      "model_name": "LayoutModel",
      "state": {}
     },
     "f7883f05ac4446c1a8b08651285e5252": {
      "model_module": "@jupyter-widgets/controls",
      "model_module_version": "1.2.0",
      "model_name": "ToggleButtonsModel",
      "state": {
       "_options_labels": [
        "Simple",
        "Mixed",
        "Complex"
       ],
       "button_style": "",
       "description": "Simplification Level:",
       "icons": [],
       "index": 1,
       "layout": "IPY_MODEL_94041037c4984306a39e2e3c519602e6",
       "style": "IPY_MODEL_57f98d81985943ebb9233853dd4a23f0",
       "tooltips": [
        "Renewables, Fossil, and Nuclear",
        "Solar, Wind, Hydro, Geothermal,Biomass, Wave and Tidal,\n Storage, Fossil, Nuclear",
        "Solar, Wind, Hydro, Geothermal,Biomass, Wave and Tidal,\n Storage, Fossil, Nuclear, Coal, Gas, Oil, Waste, Cogeneration"
       ]
      }
     },
     "f7a594726e20497d9ac9df38db0b7142": {
      "model_module": "@jupyter-widgets/base",
      "model_module_version": "1.0.0",
      "model_name": "LayoutModel",
      "state": {}
     },
     "f7e120cb18cb412bb8a44f2f8561f07d": {
      "model_module": "@jupyter-widgets/base",
      "model_module_version": "1.0.0",
      "model_name": "LayoutModel",
      "state": {}
     },
     "f80b1e34bd474b28a06ff7d7ef9551c0": {
      "model_module": "@jupyter-widgets/controls",
      "model_module_version": "1.2.0",
      "model_name": "IntSliderModel",
      "state": {
       "continuous_update": false,
       "description": "DPI (resolution):",
       "layout": "IPY_MODEL_5bc40838e6f4495894055c8e364bf0bc",
       "max": 500,
       "min": 100,
       "style": "IPY_MODEL_f30e5fdca0734199a5360bcacb3dac72",
       "value": 300
      }
     },
     "f816247e72374ed0958f6f778806cc87": {
      "model_module": "@jupyter-widgets/controls",
      "model_module_version": "1.2.0",
      "model_name": "TextModel",
      "state": {
       "description": "Show Populated Places:",
       "layout": "IPY_MODEL_00a0fe164d5741d1a4e4e1bdb1dc6fc3",
       "placeholder": "Type something",
       "style": "IPY_MODEL_b983357ef1ea48b2858517de320d32cb",
       "value": "False"
      }
     },
     "f84040bc3716473781a18b5d45ed7a9a": {
      "model_module": "@jupyter-widgets/controls",
      "model_module_version": "1.2.0",
      "model_name": "DescriptionStyleModel",
      "state": {
       "description_width": "initial"
      }
     },
     "f8a374eb5b414ed9917db077d3ce4fa6": {
      "model_module": "@jupyter-widgets/base",
      "model_module_version": "1.0.0",
      "model_name": "LayoutModel",
      "state": {}
     },
     "f8bd7dac3b76458f96844f65fcdbcf26": {
      "model_module": "@jupyter-widgets/controls",
      "model_module_version": "1.2.0",
      "model_name": "TextModel",
      "state": {
       "description": "Island Size Thresh:",
       "layout": "IPY_MODEL_735bd5cf91f341a0aaa7053f80bdd2b2",
       "placeholder": "Type a island thresh",
       "style": "IPY_MODEL_7f20be3a9ad5443480abf467c51df891",
       "value": "5000"
      }
     },
     "f96ce9d99ddd408eb418c15e9588ca96": {
      "model_module": "@jupyter-widgets/controls",
      "model_module_version": "1.2.0",
      "model_name": "TextModel",
      "state": {
       "description": "Country Name:",
       "layout": "IPY_MODEL_1ebcbc129f174ce48f0645123da97ee0",
       "placeholder": "Type a country name",
       "style": "IPY_MODEL_fa00187c9aa9465ea4448259f3c2d363",
       "value": "India"
      }
     },
     "f9f2f1b22e424deca50558d80b7721ad": {
      "model_module": "@jupyter-widgets/controls",
      "model_module_version": "1.2.0",
      "model_name": "DropdownModel",
      "state": {
       "_options_labels": [
        "capacity",
        "alphabetical"
       ],
       "description": "Sort Legend By:",
       "index": 0,
       "layout": "IPY_MODEL_8ab9c247c0d945d49190471914a03182",
       "style": "IPY_MODEL_6ed5f3e0fa4f4bfd9ccd6bf9299d1932"
      }
     },
     "f9fc6cc099334417a40eb2d3aa0f28e0": {
      "model_module": "@jupyter-widgets/controls",
      "model_module_version": "1.2.0",
      "model_name": "DescriptionStyleModel",
      "state": {
       "description_width": "initial"
      }
     },
     "fa00187c9aa9465ea4448259f3c2d363": {
      "model_module": "@jupyter-widgets/controls",
      "model_module_version": "1.2.0",
      "model_name": "DescriptionStyleModel",
      "state": {
       "description_width": "initial"
      }
     },
     "fa2bbe276f3744e1b839af5aaecb377b": {
      "model_module": "@jupyter-widgets/controls",
      "model_module_version": "1.2.0",
      "model_name": "ButtonStyleModel",
      "state": {}
     },
     "fbef8c4c9b4b46b3acf050564b45be5e": {
      "model_module": "@jupyter-widgets/base",
      "model_module_version": "1.0.0",
      "model_name": "LayoutModel",
      "state": {
       "height": "80px",
       "width": "70%"
      }
     },
     "fc0bab5a38904c1fba240e51d9566eab": {
      "model_module": "@jupyter-widgets/base",
      "model_module_version": "1.0.0",
      "model_name": "LayoutModel",
      "state": {}
     },
     "fc2274827a4a4778aa86176cf6aec521": {
      "model_module": "@jupyter-widgets/controls",
      "model_module_version": "1.2.0",
      "model_name": "IntSliderModel",
      "state": {
       "continuous_update": false,
       "description": "DPI (resolution):",
       "layout": "IPY_MODEL_837136d7f6d645b282b942cd7c4aae5d",
       "max": 500,
       "min": 100,
       "style": "IPY_MODEL_9e1f28bc71734eaea6acf9896583ef44",
       "value": 300
      }
     },
     "fc2b732d5386425daf7fb176eb22bf35": {
      "model_module": "@jupyter-widgets/controls",
      "model_module_version": "1.2.0",
      "model_name": "ToggleButtonsModel",
      "state": {
       "_options_labels": [
        "Simple",
        "Mixed",
        "Complex"
       ],
       "button_style": "",
       "description": "Simplification Level:",
       "icons": [],
       "index": 1,
       "layout": "IPY_MODEL_1c94b696932e4bebbd10ee724bb923e5",
       "style": "IPY_MODEL_62120a2667734b24bf68ce5c6e279941",
       "tooltips": [
        "Renewables, Fossil, and Nuclear",
        "Solar, Wind, Hydro, Geothermal,Biomass, Wave and Tidal,\n Storage, Fossil, Nuclear",
        "Solar, Wind, Hydro, Geothermal,Biomass, Wave and Tidal,\n Storage, Fossil, Nuclear, Coal, Gas, Oil, Waste, Cogeneration"
       ]
      }
     },
     "fc33ff048f9a49dc83612882ace305f7": {
      "model_module": "@jupyter-widgets/controls",
      "model_module_version": "1.2.0",
      "model_name": "DescriptionStyleModel",
      "state": {
       "description_width": "initial"
      }
     },
     "fc60600da42d414da5a0b782f0544a35": {
      "model_module": "@jupyter-widgets/controls",
      "model_module_version": "1.2.0",
      "model_name": "RadioButtonsModel",
      "state": {
       "_options_labels": [
        "True",
        "False"
       ],
       "description": "Source On:",
       "index": 0,
       "layout": "IPY_MODEL_25a1dd0c43384fcb88fe90710a8a2143",
       "style": "IPY_MODEL_4ef621d69b0746bd97b334fbff6917d7"
      }
     },
     "fcb6f2759fe5415b9aaa0d1a9a19c6fc": {
      "model_module": "@jupyter-widgets/controls",
      "model_module_version": "1.2.0",
      "model_name": "IntSliderModel",
      "state": {
       "continuous_update": false,
       "description": "Number of Legend Columns:",
       "layout": "IPY_MODEL_7bab429d27c54cbaaa34c0442f95640d",
       "max": 3,
       "min": 1,
       "style": "IPY_MODEL_7aec7fc355204be394f975af30341b70",
       "value": 1
      }
     },
     "fd12f7200d614261911ba9e54207e1c3": {
      "model_module": "@jupyter-widgets/base",
      "model_module_version": "1.0.0",
      "model_name": "LayoutModel",
      "state": {}
     },
     "fde3241d6e2d4d7ea8c354c5cbb8ce9e": {
      "model_module": "@jupyter-widgets/controls",
      "model_module_version": "1.2.0",
      "model_name": "TextModel",
      "state": {
       "description": "Country Precursor:",
       "layout": "IPY_MODEL_50696cb0c10d4437aecc924c27943409",
       "placeholder": "Precursor to Country Name",
       "style": "IPY_MODEL_b5ef4d43e4ff4d47b3451cd85d91eee7"
      }
     },
     "fe13b2fd3268453896c9eb11d4c06fd5": {
      "model_module": "@jupyter-widgets/controls",
      "model_module_version": "1.2.0",
      "model_name": "IntSliderModel",
      "state": {
       "continuous_update": false,
       "description": "Number of Legend Columns:",
       "layout": "IPY_MODEL_ec321d96197542c989738ad79586ac96",
       "max": 3,
       "min": 1,
       "style": "IPY_MODEL_bf5a328e8a704319bafb1457c661a492",
       "value": 1
      }
     },
     "feb06c0c3e894536819e43823020e7db": {
      "model_module": "@jupyter-widgets/controls",
      "model_module_version": "1.2.0",
      "model_name": "ButtonStyleModel",
      "state": {}
     },
     "feb8bb93fa6f4c508cce727cd79e2483": {
      "model_module": "@jupyter-widgets/base",
      "model_module_version": "1.0.0",
      "model_name": "LayoutModel",
      "state": {}
     },
     "fed9b0e964f04423bea13b87a9116a31": {
      "model_module": "@jupyter-widgets/base",
      "model_module_version": "1.0.0",
      "model_name": "LayoutModel",
      "state": {}
     },
     "fee5a3a78cf5455abb69bd438fb5452d": {
      "model_module": "@jupyter-widgets/controls",
      "model_module_version": "1.2.0",
      "model_name": "SliderStyleModel",
      "state": {
       "description_width": "initial"
      }
     },
     "ffd8beec813f443c97b3b531e32b7276": {
      "model_module": "@jupyter-widgets/base",
      "model_module_version": "1.0.0",
      "model_name": "LayoutModel",
      "state": {}
     },
     "ffee48b8b4484108b67bffe9ba80a3ee": {
      "model_module": "@jupyter-widgets/controls",
      "model_module_version": "1.2.0",
      "model_name": "IntSliderModel",
      "state": {
       "continuous_update": false,
       "description": "DPI (resolution):",
       "layout": "IPY_MODEL_20d7a650f22145d39f6cefed74b5056c",
       "max": 500,
       "min": 100,
       "style": "IPY_MODEL_3455a7b0455e4fcdab8fec810f05b67c",
       "value": 300
      }
     }
    },
    "version_major": 2,
    "version_minor": 0
   }
  }
 },
 "nbformat": 4,
 "nbformat_minor": 2
}
