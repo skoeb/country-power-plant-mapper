{
 "cells": [
  {
   "cell_type": "markdown",
   "metadata": {},
   "source": [
    "# *Country Power Plant Mapper*\n",
    "\n",
    "## This application easily produces publication ready bubble maps displaying the types and sizes of grid-connected generators in any country. \n",
    "## All without touching a line of code!\n",
    "\n",
    "### Basic Instructions:\n",
    "1. Initialize the application by clicking on 'Cell' in the menu bar and selecting 'Run All'.\n",
    "2. Enter the __Country Name__.\n",
    "3. Choose the desired level of __Simplification__ for resource type:\n",
    "    -  *Simple* breaks resources into 'Renewable', 'Fossil', and 'Nuclear'.\n",
    "    -  *Mixed* subdivides renewables (solar, wind, etc.) but keeps 'Fossil' together. \n",
    "    -  *Complex* labels every resource type.\n",
    "    \n",
    "\n",
    "4. Press the __Update Plot__ button. Be patient, it can take a few seconds.\n",
    "5. Drag the legend to a better location, if needed (this can be a little wonky––sorry). \n",
    "6. To save the image, click the power symbol in the upper right portion of the map. Then right click on the map and select 'Save Image As'. \n",
    "\n",
    "Check out the __Advanced Instructions__ section below if you need additional control."
   ]
  },
  {
   "cell_type": "code",
   "execution_count": 1,
   "metadata": {
    "init_cell": true,
    "scrolled": true
   },
   "outputs": [
    {
     "data": {
      "text/html": [
       "<style>.container { width:80% !important; }</style>"
      ],
      "text/plain": [
       "<IPython.core.display.HTML object>"
      ]
     },
     "metadata": {},
     "output_type": "display_data"
    },
    {
     "data": {
      "application/vnd.jupyter.widget-view+json": {
       "model_id": "b21a9bf1975540caaacd26e1787315c8",
       "version_major": 2,
       "version_minor": 0
      },
      "text/plain": [
       "Text(value='India', description='Country Name:', placeholder='Type a country name', style=DescriptionStyle(des…"
      ]
     },
     "metadata": {},
     "output_type": "display_data"
    },
    {
     "data": {
      "application/vnd.jupyter.widget-view+json": {
       "model_id": "7cd6e1c3ac674da389b7bd7744d283ec",
       "version_major": 2,
       "version_minor": 0
      },
      "text/plain": [
       "ToggleButtons(description='Simplification Level:', index=1, options=('Simple', 'Mixed', 'Complex'), style=Togg…"
      ]
     },
     "metadata": {},
     "output_type": "display_data"
    }
   ],
   "source": [
    "import parameterwidgets as pw\n",
    "pw.showbasicwidgets()"
   ]
  },
  {
   "cell_type": "code",
   "execution_count": 2,
   "metadata": {
    "init_cell": true
   },
   "outputs": [
    {
     "data": {
      "application/vnd.jupyter.widget-view+json": {
       "model_id": "863fe16a99cb42fda234bf7d78a26770",
       "version_major": 2,
       "version_minor": 0
      },
      "text/plain": [
       "Button(description='Update Plot', icon='check', layout=Layout(height='80px', width='70%'), style=ButtonStyle()…"
      ]
     },
     "metadata": {},
     "output_type": "display_data"
    },
    {
     "data": {
      "application/javascript": [
       "/* Put everything inside the global mpl namespace */\n",
       "window.mpl = {};\n",
       "\n",
       "\n",
       "mpl.get_websocket_type = function() {\n",
       "    if (typeof(WebSocket) !== 'undefined') {\n",
       "        return WebSocket;\n",
       "    } else if (typeof(MozWebSocket) !== 'undefined') {\n",
       "        return MozWebSocket;\n",
       "    } else {\n",
       "        alert('Your browser does not have WebSocket support.' +\n",
       "              'Please try Chrome, Safari or Firefox ≥ 6. ' +\n",
       "              'Firefox 4 and 5 are also supported but you ' +\n",
       "              'have to enable WebSockets in about:config.');\n",
       "    };\n",
       "}\n",
       "\n",
       "mpl.figure = function(figure_id, websocket, ondownload, parent_element) {\n",
       "    this.id = figure_id;\n",
       "\n",
       "    this.ws = websocket;\n",
       "\n",
       "    this.supports_binary = (this.ws.binaryType != undefined);\n",
       "\n",
       "    if (!this.supports_binary) {\n",
       "        var warnings = document.getElementById(\"mpl-warnings\");\n",
       "        if (warnings) {\n",
       "            warnings.style.display = 'block';\n",
       "            warnings.textContent = (\n",
       "                \"This browser does not support binary websocket messages. \" +\n",
       "                    \"Performance may be slow.\");\n",
       "        }\n",
       "    }\n",
       "\n",
       "    this.imageObj = new Image();\n",
       "\n",
       "    this.context = undefined;\n",
       "    this.message = undefined;\n",
       "    this.canvas = undefined;\n",
       "    this.rubberband_canvas = undefined;\n",
       "    this.rubberband_context = undefined;\n",
       "    this.format_dropdown = undefined;\n",
       "\n",
       "    this.image_mode = 'full';\n",
       "\n",
       "    this.root = $('<div/>');\n",
       "    this._root_extra_style(this.root)\n",
       "    this.root.attr('style', 'display: inline-block');\n",
       "\n",
       "    $(parent_element).append(this.root);\n",
       "\n",
       "    this._init_header(this);\n",
       "    this._init_canvas(this);\n",
       "    this._init_toolbar(this);\n",
       "\n",
       "    var fig = this;\n",
       "\n",
       "    this.waiting = false;\n",
       "\n",
       "    this.ws.onopen =  function () {\n",
       "            fig.send_message(\"supports_binary\", {value: fig.supports_binary});\n",
       "            fig.send_message(\"send_image_mode\", {});\n",
       "            if (mpl.ratio != 1) {\n",
       "                fig.send_message(\"set_dpi_ratio\", {'dpi_ratio': mpl.ratio});\n",
       "            }\n",
       "            fig.send_message(\"refresh\", {});\n",
       "        }\n",
       "\n",
       "    this.imageObj.onload = function() {\n",
       "            if (fig.image_mode == 'full') {\n",
       "                // Full images could contain transparency (where diff images\n",
       "                // almost always do), so we need to clear the canvas so that\n",
       "                // there is no ghosting.\n",
       "                fig.context.clearRect(0, 0, fig.canvas.width, fig.canvas.height);\n",
       "            }\n",
       "            fig.context.drawImage(fig.imageObj, 0, 0);\n",
       "        };\n",
       "\n",
       "    this.imageObj.onunload = function() {\n",
       "        fig.ws.close();\n",
       "    }\n",
       "\n",
       "    this.ws.onmessage = this._make_on_message_function(this);\n",
       "\n",
       "    this.ondownload = ondownload;\n",
       "}\n",
       "\n",
       "mpl.figure.prototype._init_header = function() {\n",
       "    var titlebar = $(\n",
       "        '<div class=\"ui-dialog-titlebar ui-widget-header ui-corner-all ' +\n",
       "        'ui-helper-clearfix\"/>');\n",
       "    var titletext = $(\n",
       "        '<div class=\"ui-dialog-title\" style=\"width: 100%; ' +\n",
       "        'text-align: center; padding: 3px;\"/>');\n",
       "    titlebar.append(titletext)\n",
       "    this.root.append(titlebar);\n",
       "    this.header = titletext[0];\n",
       "}\n",
       "\n",
       "\n",
       "\n",
       "mpl.figure.prototype._canvas_extra_style = function(canvas_div) {\n",
       "\n",
       "}\n",
       "\n",
       "\n",
       "mpl.figure.prototype._root_extra_style = function(canvas_div) {\n",
       "\n",
       "}\n",
       "\n",
       "mpl.figure.prototype._init_canvas = function() {\n",
       "    var fig = this;\n",
       "\n",
       "    var canvas_div = $('<div/>');\n",
       "\n",
       "    canvas_div.attr('style', 'position: relative; clear: both; outline: 0');\n",
       "\n",
       "    function canvas_keyboard_event(event) {\n",
       "        return fig.key_event(event, event['data']);\n",
       "    }\n",
       "\n",
       "    canvas_div.keydown('key_press', canvas_keyboard_event);\n",
       "    canvas_div.keyup('key_release', canvas_keyboard_event);\n",
       "    this.canvas_div = canvas_div\n",
       "    this._canvas_extra_style(canvas_div)\n",
       "    this.root.append(canvas_div);\n",
       "\n",
       "    var canvas = $('<canvas/>');\n",
       "    canvas.addClass('mpl-canvas');\n",
       "    canvas.attr('style', \"left: 0; top: 0; z-index: 0; outline: 0\")\n",
       "\n",
       "    this.canvas = canvas[0];\n",
       "    this.context = canvas[0].getContext(\"2d\");\n",
       "\n",
       "    var backingStore = this.context.backingStorePixelRatio ||\n",
       "\tthis.context.webkitBackingStorePixelRatio ||\n",
       "\tthis.context.mozBackingStorePixelRatio ||\n",
       "\tthis.context.msBackingStorePixelRatio ||\n",
       "\tthis.context.oBackingStorePixelRatio ||\n",
       "\tthis.context.backingStorePixelRatio || 1;\n",
       "\n",
       "    mpl.ratio = (window.devicePixelRatio || 1) / backingStore;\n",
       "\n",
       "    var rubberband = $('<canvas/>');\n",
       "    rubberband.attr('style', \"position: absolute; left: 0; top: 0; z-index: 1;\")\n",
       "\n",
       "    var pass_mouse_events = true;\n",
       "\n",
       "    canvas_div.resizable({\n",
       "        start: function(event, ui) {\n",
       "            pass_mouse_events = false;\n",
       "        },\n",
       "        resize: function(event, ui) {\n",
       "            fig.request_resize(ui.size.width, ui.size.height);\n",
       "        },\n",
       "        stop: function(event, ui) {\n",
       "            pass_mouse_events = true;\n",
       "            fig.request_resize(ui.size.width, ui.size.height);\n",
       "        },\n",
       "    });\n",
       "\n",
       "    function mouse_event_fn(event) {\n",
       "        if (pass_mouse_events)\n",
       "            return fig.mouse_event(event, event['data']);\n",
       "    }\n",
       "\n",
       "    rubberband.mousedown('button_press', mouse_event_fn);\n",
       "    rubberband.mouseup('button_release', mouse_event_fn);\n",
       "    // Throttle sequential mouse events to 1 every 20ms.\n",
       "    rubberband.mousemove('motion_notify', mouse_event_fn);\n",
       "\n",
       "    rubberband.mouseenter('figure_enter', mouse_event_fn);\n",
       "    rubberband.mouseleave('figure_leave', mouse_event_fn);\n",
       "\n",
       "    canvas_div.on(\"wheel\", function (event) {\n",
       "        event = event.originalEvent;\n",
       "        event['data'] = 'scroll'\n",
       "        if (event.deltaY < 0) {\n",
       "            event.step = 1;\n",
       "        } else {\n",
       "            event.step = -1;\n",
       "        }\n",
       "        mouse_event_fn(event);\n",
       "    });\n",
       "\n",
       "    canvas_div.append(canvas);\n",
       "    canvas_div.append(rubberband);\n",
       "\n",
       "    this.rubberband = rubberband;\n",
       "    this.rubberband_canvas = rubberband[0];\n",
       "    this.rubberband_context = rubberband[0].getContext(\"2d\");\n",
       "    this.rubberband_context.strokeStyle = \"#000000\";\n",
       "\n",
       "    this._resize_canvas = function(width, height) {\n",
       "        // Keep the size of the canvas, canvas container, and rubber band\n",
       "        // canvas in synch.\n",
       "        canvas_div.css('width', width)\n",
       "        canvas_div.css('height', height)\n",
       "\n",
       "        canvas.attr('width', width * mpl.ratio);\n",
       "        canvas.attr('height', height * mpl.ratio);\n",
       "        canvas.attr('style', 'width: ' + width + 'px; height: ' + height + 'px;');\n",
       "\n",
       "        rubberband.attr('width', width);\n",
       "        rubberband.attr('height', height);\n",
       "    }\n",
       "\n",
       "    // Set the figure to an initial 600x600px, this will subsequently be updated\n",
       "    // upon first draw.\n",
       "    this._resize_canvas(600, 600);\n",
       "\n",
       "    // Disable right mouse context menu.\n",
       "    $(this.rubberband_canvas).bind(\"contextmenu\",function(e){\n",
       "        return false;\n",
       "    });\n",
       "\n",
       "    function set_focus () {\n",
       "        canvas.focus();\n",
       "        canvas_div.focus();\n",
       "    }\n",
       "\n",
       "    window.setTimeout(set_focus, 100);\n",
       "}\n",
       "\n",
       "mpl.figure.prototype._init_toolbar = function() {\n",
       "    var fig = this;\n",
       "\n",
       "    var nav_element = $('<div/>')\n",
       "    nav_element.attr('style', 'width: 100%');\n",
       "    this.root.append(nav_element);\n",
       "\n",
       "    // Define a callback function for later on.\n",
       "    function toolbar_event(event) {\n",
       "        return fig.toolbar_button_onclick(event['data']);\n",
       "    }\n",
       "    function toolbar_mouse_event(event) {\n",
       "        return fig.toolbar_button_onmouseover(event['data']);\n",
       "    }\n",
       "\n",
       "    for(var toolbar_ind in mpl.toolbar_items) {\n",
       "        var name = mpl.toolbar_items[toolbar_ind][0];\n",
       "        var tooltip = mpl.toolbar_items[toolbar_ind][1];\n",
       "        var image = mpl.toolbar_items[toolbar_ind][2];\n",
       "        var method_name = mpl.toolbar_items[toolbar_ind][3];\n",
       "\n",
       "        if (!name) {\n",
       "            // put a spacer in here.\n",
       "            continue;\n",
       "        }\n",
       "        var button = $('<button/>');\n",
       "        button.addClass('ui-button ui-widget ui-state-default ui-corner-all ' +\n",
       "                        'ui-button-icon-only');\n",
       "        button.attr('role', 'button');\n",
       "        button.attr('aria-disabled', 'false');\n",
       "        button.click(method_name, toolbar_event);\n",
       "        button.mouseover(tooltip, toolbar_mouse_event);\n",
       "\n",
       "        var icon_img = $('<span/>');\n",
       "        icon_img.addClass('ui-button-icon-primary ui-icon');\n",
       "        icon_img.addClass(image);\n",
       "        icon_img.addClass('ui-corner-all');\n",
       "\n",
       "        var tooltip_span = $('<span/>');\n",
       "        tooltip_span.addClass('ui-button-text');\n",
       "        tooltip_span.html(tooltip);\n",
       "\n",
       "        button.append(icon_img);\n",
       "        button.append(tooltip_span);\n",
       "\n",
       "        nav_element.append(button);\n",
       "    }\n",
       "\n",
       "    var fmt_picker_span = $('<span/>');\n",
       "\n",
       "    var fmt_picker = $('<select/>');\n",
       "    fmt_picker.addClass('mpl-toolbar-option ui-widget ui-widget-content');\n",
       "    fmt_picker_span.append(fmt_picker);\n",
       "    nav_element.append(fmt_picker_span);\n",
       "    this.format_dropdown = fmt_picker[0];\n",
       "\n",
       "    for (var ind in mpl.extensions) {\n",
       "        var fmt = mpl.extensions[ind];\n",
       "        var option = $(\n",
       "            '<option/>', {selected: fmt === mpl.default_extension}).html(fmt);\n",
       "        fmt_picker.append(option)\n",
       "    }\n",
       "\n",
       "    // Add hover states to the ui-buttons\n",
       "    $( \".ui-button\" ).hover(\n",
       "        function() { $(this).addClass(\"ui-state-hover\");},\n",
       "        function() { $(this).removeClass(\"ui-state-hover\");}\n",
       "    );\n",
       "\n",
       "    var status_bar = $('<span class=\"mpl-message\"/>');\n",
       "    nav_element.append(status_bar);\n",
       "    this.message = status_bar[0];\n",
       "}\n",
       "\n",
       "mpl.figure.prototype.request_resize = function(x_pixels, y_pixels) {\n",
       "    // Request matplotlib to resize the figure. Matplotlib will then trigger a resize in the client,\n",
       "    // which will in turn request a refresh of the image.\n",
       "    this.send_message('resize', {'width': x_pixels, 'height': y_pixels});\n",
       "}\n",
       "\n",
       "mpl.figure.prototype.send_message = function(type, properties) {\n",
       "    properties['type'] = type;\n",
       "    properties['figure_id'] = this.id;\n",
       "    this.ws.send(JSON.stringify(properties));\n",
       "}\n",
       "\n",
       "mpl.figure.prototype.send_draw_message = function() {\n",
       "    if (!this.waiting) {\n",
       "        this.waiting = true;\n",
       "        this.ws.send(JSON.stringify({type: \"draw\", figure_id: this.id}));\n",
       "    }\n",
       "}\n",
       "\n",
       "\n",
       "mpl.figure.prototype.handle_save = function(fig, msg) {\n",
       "    var format_dropdown = fig.format_dropdown;\n",
       "    var format = format_dropdown.options[format_dropdown.selectedIndex].value;\n",
       "    fig.ondownload(fig, format);\n",
       "}\n",
       "\n",
       "\n",
       "mpl.figure.prototype.handle_resize = function(fig, msg) {\n",
       "    var size = msg['size'];\n",
       "    if (size[0] != fig.canvas.width || size[1] != fig.canvas.height) {\n",
       "        fig._resize_canvas(size[0], size[1]);\n",
       "        fig.send_message(\"refresh\", {});\n",
       "    };\n",
       "}\n",
       "\n",
       "mpl.figure.prototype.handle_rubberband = function(fig, msg) {\n",
       "    var x0 = msg['x0'] / mpl.ratio;\n",
       "    var y0 = (fig.canvas.height - msg['y0']) / mpl.ratio;\n",
       "    var x1 = msg['x1'] / mpl.ratio;\n",
       "    var y1 = (fig.canvas.height - msg['y1']) / mpl.ratio;\n",
       "    x0 = Math.floor(x0) + 0.5;\n",
       "    y0 = Math.floor(y0) + 0.5;\n",
       "    x1 = Math.floor(x1) + 0.5;\n",
       "    y1 = Math.floor(y1) + 0.5;\n",
       "    var min_x = Math.min(x0, x1);\n",
       "    var min_y = Math.min(y0, y1);\n",
       "    var width = Math.abs(x1 - x0);\n",
       "    var height = Math.abs(y1 - y0);\n",
       "\n",
       "    fig.rubberband_context.clearRect(\n",
       "        0, 0, fig.canvas.width, fig.canvas.height);\n",
       "\n",
       "    fig.rubberband_context.strokeRect(min_x, min_y, width, height);\n",
       "}\n",
       "\n",
       "mpl.figure.prototype.handle_figure_label = function(fig, msg) {\n",
       "    // Updates the figure title.\n",
       "    fig.header.textContent = msg['label'];\n",
       "}\n",
       "\n",
       "mpl.figure.prototype.handle_cursor = function(fig, msg) {\n",
       "    var cursor = msg['cursor'];\n",
       "    switch(cursor)\n",
       "    {\n",
       "    case 0:\n",
       "        cursor = 'pointer';\n",
       "        break;\n",
       "    case 1:\n",
       "        cursor = 'default';\n",
       "        break;\n",
       "    case 2:\n",
       "        cursor = 'crosshair';\n",
       "        break;\n",
       "    case 3:\n",
       "        cursor = 'move';\n",
       "        break;\n",
       "    }\n",
       "    fig.rubberband_canvas.style.cursor = cursor;\n",
       "}\n",
       "\n",
       "mpl.figure.prototype.handle_message = function(fig, msg) {\n",
       "    fig.message.textContent = msg['message'];\n",
       "}\n",
       "\n",
       "mpl.figure.prototype.handle_draw = function(fig, msg) {\n",
       "    // Request the server to send over a new figure.\n",
       "    fig.send_draw_message();\n",
       "}\n",
       "\n",
       "mpl.figure.prototype.handle_image_mode = function(fig, msg) {\n",
       "    fig.image_mode = msg['mode'];\n",
       "}\n",
       "\n",
       "mpl.figure.prototype.updated_canvas_event = function() {\n",
       "    // Called whenever the canvas gets updated.\n",
       "    this.send_message(\"ack\", {});\n",
       "}\n",
       "\n",
       "// A function to construct a web socket function for onmessage handling.\n",
       "// Called in the figure constructor.\n",
       "mpl.figure.prototype._make_on_message_function = function(fig) {\n",
       "    return function socket_on_message(evt) {\n",
       "        if (evt.data instanceof Blob) {\n",
       "            /* FIXME: We get \"Resource interpreted as Image but\n",
       "             * transferred with MIME type text/plain:\" errors on\n",
       "             * Chrome.  But how to set the MIME type?  It doesn't seem\n",
       "             * to be part of the websocket stream */\n",
       "            evt.data.type = \"image/png\";\n",
       "\n",
       "            /* Free the memory for the previous frames */\n",
       "            if (fig.imageObj.src) {\n",
       "                (window.URL || window.webkitURL).revokeObjectURL(\n",
       "                    fig.imageObj.src);\n",
       "            }\n",
       "\n",
       "            fig.imageObj.src = (window.URL || window.webkitURL).createObjectURL(\n",
       "                evt.data);\n",
       "            fig.updated_canvas_event();\n",
       "            fig.waiting = false;\n",
       "            return;\n",
       "        }\n",
       "        else if (typeof evt.data === 'string' && evt.data.slice(0, 21) == \"data:image/png;base64\") {\n",
       "            fig.imageObj.src = evt.data;\n",
       "            fig.updated_canvas_event();\n",
       "            fig.waiting = false;\n",
       "            return;\n",
       "        }\n",
       "\n",
       "        var msg = JSON.parse(evt.data);\n",
       "        var msg_type = msg['type'];\n",
       "\n",
       "        // Call the  \"handle_{type}\" callback, which takes\n",
       "        // the figure and JSON message as its only arguments.\n",
       "        try {\n",
       "            var callback = fig[\"handle_\" + msg_type];\n",
       "        } catch (e) {\n",
       "            console.log(\"No handler for the '\" + msg_type + \"' message type: \", msg);\n",
       "            return;\n",
       "        }\n",
       "\n",
       "        if (callback) {\n",
       "            try {\n",
       "                // console.log(\"Handling '\" + msg_type + \"' message: \", msg);\n",
       "                callback(fig, msg);\n",
       "            } catch (e) {\n",
       "                console.log(\"Exception inside the 'handler_\" + msg_type + \"' callback:\", e, e.stack, msg);\n",
       "            }\n",
       "        }\n",
       "    };\n",
       "}\n",
       "\n",
       "// from http://stackoverflow.com/questions/1114465/getting-mouse-location-in-canvas\n",
       "mpl.findpos = function(e) {\n",
       "    //this section is from http://www.quirksmode.org/js/events_properties.html\n",
       "    var targ;\n",
       "    if (!e)\n",
       "        e = window.event;\n",
       "    if (e.target)\n",
       "        targ = e.target;\n",
       "    else if (e.srcElement)\n",
       "        targ = e.srcElement;\n",
       "    if (targ.nodeType == 3) // defeat Safari bug\n",
       "        targ = targ.parentNode;\n",
       "\n",
       "    // jQuery normalizes the pageX and pageY\n",
       "    // pageX,Y are the mouse positions relative to the document\n",
       "    // offset() returns the position of the element relative to the document\n",
       "    var x = e.pageX - $(targ).offset().left;\n",
       "    var y = e.pageY - $(targ).offset().top;\n",
       "\n",
       "    return {\"x\": x, \"y\": y};\n",
       "};\n",
       "\n",
       "/*\n",
       " * return a copy of an object with only non-object keys\n",
       " * we need this to avoid circular references\n",
       " * http://stackoverflow.com/a/24161582/3208463\n",
       " */\n",
       "function simpleKeys (original) {\n",
       "  return Object.keys(original).reduce(function (obj, key) {\n",
       "    if (typeof original[key] !== 'object')\n",
       "        obj[key] = original[key]\n",
       "    return obj;\n",
       "  }, {});\n",
       "}\n",
       "\n",
       "mpl.figure.prototype.mouse_event = function(event, name) {\n",
       "    var canvas_pos = mpl.findpos(event)\n",
       "\n",
       "    if (name === 'button_press')\n",
       "    {\n",
       "        this.canvas.focus();\n",
       "        this.canvas_div.focus();\n",
       "    }\n",
       "\n",
       "    var x = canvas_pos.x * mpl.ratio;\n",
       "    var y = canvas_pos.y * mpl.ratio;\n",
       "\n",
       "    this.send_message(name, {x: x, y: y, button: event.button,\n",
       "                             step: event.step,\n",
       "                             guiEvent: simpleKeys(event)});\n",
       "\n",
       "    /* This prevents the web browser from automatically changing to\n",
       "     * the text insertion cursor when the button is pressed.  We want\n",
       "     * to control all of the cursor setting manually through the\n",
       "     * 'cursor' event from matplotlib */\n",
       "    event.preventDefault();\n",
       "    return false;\n",
       "}\n",
       "\n",
       "mpl.figure.prototype._key_event_extra = function(event, name) {\n",
       "    // Handle any extra behaviour associated with a key event\n",
       "}\n",
       "\n",
       "mpl.figure.prototype.key_event = function(event, name) {\n",
       "\n",
       "    // Prevent repeat events\n",
       "    if (name == 'key_press')\n",
       "    {\n",
       "        if (event.which === this._key)\n",
       "            return;\n",
       "        else\n",
       "            this._key = event.which;\n",
       "    }\n",
       "    if (name == 'key_release')\n",
       "        this._key = null;\n",
       "\n",
       "    var value = '';\n",
       "    if (event.ctrlKey && event.which != 17)\n",
       "        value += \"ctrl+\";\n",
       "    if (event.altKey && event.which != 18)\n",
       "        value += \"alt+\";\n",
       "    if (event.shiftKey && event.which != 16)\n",
       "        value += \"shift+\";\n",
       "\n",
       "    value += 'k';\n",
       "    value += event.which.toString();\n",
       "\n",
       "    this._key_event_extra(event, name);\n",
       "\n",
       "    this.send_message(name, {key: value,\n",
       "                             guiEvent: simpleKeys(event)});\n",
       "    return false;\n",
       "}\n",
       "\n",
       "mpl.figure.prototype.toolbar_button_onclick = function(name) {\n",
       "    if (name == 'download') {\n",
       "        this.handle_save(this, null);\n",
       "    } else {\n",
       "        this.send_message(\"toolbar_button\", {name: name});\n",
       "    }\n",
       "};\n",
       "\n",
       "mpl.figure.prototype.toolbar_button_onmouseover = function(tooltip) {\n",
       "    this.message.textContent = tooltip;\n",
       "};\n",
       "mpl.toolbar_items = [[\"Home\", \"Reset original view\", \"fa fa-home icon-home\", \"home\"], [\"Back\", \"Back to  previous view\", \"fa fa-arrow-left icon-arrow-left\", \"back\"], [\"Forward\", \"Forward to next view\", \"fa fa-arrow-right icon-arrow-right\", \"forward\"], [\"\", \"\", \"\", \"\"], [\"Pan\", \"Pan axes with left mouse, zoom with right\", \"fa fa-arrows icon-move\", \"pan\"], [\"Zoom\", \"Zoom to rectangle\", \"fa fa-square-o icon-check-empty\", \"zoom\"], [\"\", \"\", \"\", \"\"], [\"Download\", \"Download plot\", \"fa fa-floppy-o icon-save\", \"download\"]];\n",
       "\n",
       "mpl.extensions = [\"eps\", \"jpeg\", \"pdf\", \"png\", \"ps\", \"raw\", \"svg\", \"tif\"];\n",
       "\n",
       "mpl.default_extension = \"png\";var comm_websocket_adapter = function(comm) {\n",
       "    // Create a \"websocket\"-like object which calls the given IPython comm\n",
       "    // object with the appropriate methods. Currently this is a non binary\n",
       "    // socket, so there is still some room for performance tuning.\n",
       "    var ws = {};\n",
       "\n",
       "    ws.close = function() {\n",
       "        comm.close()\n",
       "    };\n",
       "    ws.send = function(m) {\n",
       "        //console.log('sending', m);\n",
       "        comm.send(m);\n",
       "    };\n",
       "    // Register the callback with on_msg.\n",
       "    comm.on_msg(function(msg) {\n",
       "        //console.log('receiving', msg['content']['data'], msg);\n",
       "        // Pass the mpl event to the overridden (by mpl) onmessage function.\n",
       "        ws.onmessage(msg['content']['data'])\n",
       "    });\n",
       "    return ws;\n",
       "}\n",
       "\n",
       "mpl.mpl_figure_comm = function(comm, msg) {\n",
       "    // This is the function which gets called when the mpl process\n",
       "    // starts-up an IPython Comm through the \"matplotlib\" channel.\n",
       "\n",
       "    var id = msg.content.data.id;\n",
       "    // Get hold of the div created by the display call when the Comm\n",
       "    // socket was opened in Python.\n",
       "    var element = $(\"#\" + id);\n",
       "    var ws_proxy = comm_websocket_adapter(comm)\n",
       "\n",
       "    function ondownload(figure, format) {\n",
       "        window.open(figure.imageObj.src);\n",
       "    }\n",
       "\n",
       "    var fig = new mpl.figure(id, ws_proxy,\n",
       "                           ondownload,\n",
       "                           element.get(0));\n",
       "\n",
       "    // Call onopen now - mpl needs it, as it is assuming we've passed it a real\n",
       "    // web socket which is closed, not our websocket->open comm proxy.\n",
       "    ws_proxy.onopen();\n",
       "\n",
       "    fig.parent_element = element.get(0);\n",
       "    fig.cell_info = mpl.find_output_cell(\"<div id='\" + id + \"'></div>\");\n",
       "    if (!fig.cell_info) {\n",
       "        console.error(\"Failed to find cell for figure\", id, fig);\n",
       "        return;\n",
       "    }\n",
       "\n",
       "    var output_index = fig.cell_info[2]\n",
       "    var cell = fig.cell_info[0];\n",
       "\n",
       "};\n",
       "\n",
       "mpl.figure.prototype.handle_close = function(fig, msg) {\n",
       "    var width = fig.canvas.width/mpl.ratio\n",
       "    fig.root.unbind('remove')\n",
       "\n",
       "    // Update the output cell to use the data from the current canvas.\n",
       "    fig.push_to_output();\n",
       "    var dataURL = fig.canvas.toDataURL();\n",
       "    // Re-enable the keyboard manager in IPython - without this line, in FF,\n",
       "    // the notebook keyboard shortcuts fail.\n",
       "    IPython.keyboard_manager.enable()\n",
       "    $(fig.parent_element).html('<img src=\"' + dataURL + '\" width=\"' + width + '\">');\n",
       "    fig.close_ws(fig, msg);\n",
       "}\n",
       "\n",
       "mpl.figure.prototype.close_ws = function(fig, msg){\n",
       "    fig.send_message('closing', msg);\n",
       "    // fig.ws.close()\n",
       "}\n",
       "\n",
       "mpl.figure.prototype.push_to_output = function(remove_interactive) {\n",
       "    // Turn the data on the canvas into data in the output cell.\n",
       "    var width = this.canvas.width/mpl.ratio\n",
       "    var dataURL = this.canvas.toDataURL();\n",
       "    this.cell_info[1]['text/html'] = '<img src=\"' + dataURL + '\" width=\"' + width + '\">';\n",
       "}\n",
       "\n",
       "mpl.figure.prototype.updated_canvas_event = function() {\n",
       "    // Tell IPython that the notebook contents must change.\n",
       "    IPython.notebook.set_dirty(true);\n",
       "    this.send_message(\"ack\", {});\n",
       "    var fig = this;\n",
       "    // Wait a second, then push the new image to the DOM so\n",
       "    // that it is saved nicely (might be nice to debounce this).\n",
       "    setTimeout(function () { fig.push_to_output() }, 1000);\n",
       "}\n",
       "\n",
       "mpl.figure.prototype._init_toolbar = function() {\n",
       "    var fig = this;\n",
       "\n",
       "    var nav_element = $('<div/>')\n",
       "    nav_element.attr('style', 'width: 100%');\n",
       "    this.root.append(nav_element);\n",
       "\n",
       "    // Define a callback function for later on.\n",
       "    function toolbar_event(event) {\n",
       "        return fig.toolbar_button_onclick(event['data']);\n",
       "    }\n",
       "    function toolbar_mouse_event(event) {\n",
       "        return fig.toolbar_button_onmouseover(event['data']);\n",
       "    }\n",
       "\n",
       "    for(var toolbar_ind in mpl.toolbar_items){\n",
       "        var name = mpl.toolbar_items[toolbar_ind][0];\n",
       "        var tooltip = mpl.toolbar_items[toolbar_ind][1];\n",
       "        var image = mpl.toolbar_items[toolbar_ind][2];\n",
       "        var method_name = mpl.toolbar_items[toolbar_ind][3];\n",
       "\n",
       "        if (!name) { continue; };\n",
       "\n",
       "        var button = $('<button class=\"btn btn-default\" href=\"#\" title=\"' + name + '\"><i class=\"fa ' + image + ' fa-lg\"></i></button>');\n",
       "        button.click(method_name, toolbar_event);\n",
       "        button.mouseover(tooltip, toolbar_mouse_event);\n",
       "        nav_element.append(button);\n",
       "    }\n",
       "\n",
       "    // Add the status bar.\n",
       "    var status_bar = $('<span class=\"mpl-message\" style=\"text-align:right; float: right;\"/>');\n",
       "    nav_element.append(status_bar);\n",
       "    this.message = status_bar[0];\n",
       "\n",
       "    // Add the close button to the window.\n",
       "    var buttongrp = $('<div class=\"btn-group inline pull-right\"></div>');\n",
       "    var button = $('<button class=\"btn btn-mini btn-primary\" href=\"#\" title=\"Stop Interaction\"><i class=\"fa fa-power-off icon-remove icon-large\"></i></button>');\n",
       "    button.click(function (evt) { fig.handle_close(fig, {}); } );\n",
       "    button.mouseover('Stop Interaction', toolbar_mouse_event);\n",
       "    buttongrp.append(button);\n",
       "    var titlebar = this.root.find($('.ui-dialog-titlebar'));\n",
       "    titlebar.prepend(buttongrp);\n",
       "}\n",
       "\n",
       "mpl.figure.prototype._root_extra_style = function(el){\n",
       "    var fig = this\n",
       "    el.on(\"remove\", function(){\n",
       "\tfig.close_ws(fig, {});\n",
       "    });\n",
       "}\n",
       "\n",
       "mpl.figure.prototype._canvas_extra_style = function(el){\n",
       "    // this is important to make the div 'focusable\n",
       "    el.attr('tabindex', 0)\n",
       "    // reach out to IPython and tell the keyboard manager to turn it's self\n",
       "    // off when our div gets focus\n",
       "\n",
       "    // location in version 3\n",
       "    if (IPython.notebook.keyboard_manager) {\n",
       "        IPython.notebook.keyboard_manager.register_events(el);\n",
       "    }\n",
       "    else {\n",
       "        // location in version 2\n",
       "        IPython.keyboard_manager.register_events(el);\n",
       "    }\n",
       "\n",
       "}\n",
       "\n",
       "mpl.figure.prototype._key_event_extra = function(event, name) {\n",
       "    var manager = IPython.notebook.keyboard_manager;\n",
       "    if (!manager)\n",
       "        manager = IPython.keyboard_manager;\n",
       "\n",
       "    // Check for shift+enter\n",
       "    if (event.shiftKey && event.which == 13) {\n",
       "        this.canvas_div.blur();\n",
       "        event.shiftKey = false;\n",
       "        // Send a \"J\" for go to next cell\n",
       "        event.which = 74;\n",
       "        event.keyCode = 74;\n",
       "        manager.command_mode();\n",
       "        manager.handle_keydown(event);\n",
       "    }\n",
       "}\n",
       "\n",
       "mpl.figure.prototype.handle_save = function(fig, msg) {\n",
       "    fig.ondownload(fig, null);\n",
       "}\n",
       "\n",
       "\n",
       "mpl.find_output_cell = function(html_output) {\n",
       "    // Return the cell and output element which can be found *uniquely* in the notebook.\n",
       "    // Note - this is a bit hacky, but it is done because the \"notebook_saving.Notebook\"\n",
       "    // IPython event is triggered only after the cells have been serialised, which for\n",
       "    // our purposes (turning an active figure into a static one), is too late.\n",
       "    var cells = IPython.notebook.get_cells();\n",
       "    var ncells = cells.length;\n",
       "    for (var i=0; i<ncells; i++) {\n",
       "        var cell = cells[i];\n",
       "        if (cell.cell_type === 'code'){\n",
       "            for (var j=0; j<cell.output_area.outputs.length; j++) {\n",
       "                var data = cell.output_area.outputs[j];\n",
       "                if (data.data) {\n",
       "                    // IPython >= 3 moved mimebundle to data attribute of output\n",
       "                    data = data.data;\n",
       "                }\n",
       "                if (data['text/html'] == html_output) {\n",
       "                    return [cell, data, j];\n",
       "                }\n",
       "            }\n",
       "        }\n",
       "    }\n",
       "}\n",
       "\n",
       "// Register the function which deals with the matplotlib target/channel.\n",
       "// The kernel may be null if the page has been refreshed.\n",
       "if (IPython.notebook.kernel != null) {\n",
       "    IPython.notebook.kernel.comm_manager.register_target('matplotlib', mpl.mpl_figure_comm);\n",
       "}\n"
      ],
      "text/plain": [
       "<IPython.core.display.Javascript object>"
      ]
     },
     "metadata": {},
     "output_type": "display_data"
    },
    {
     "data": {
      "text/html": [
       "<img src=\"data:image/png;base64,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\" width=\"767.7777981169435\">"
      ],
      "text/plain": [
       "<IPython.core.display.HTML object>"
      ]
     },
     "metadata": {},
     "output_type": "display_data"
    }
   ],
   "source": [
    "%matplotlib notebook\n",
    "pw.updateplot()"
   ]
  },
  {
   "cell_type": "markdown",
   "metadata": {},
   "source": [
    "### Advanced Instructions:\n",
    "\n",
    "1. __Coordinate System__ sets the crs used in the map projection. The default value is *spherical* which uses EPSG:3857. *Geo* can also be entered for a standard mercator projection (ESPG:4326). A custom CRS can be used by entering the EPSG integer. For example, *5940* (a crs designed for Russia) can be entered to avoid having Russia wrap around the side of the map. Visit __[EPSG](https://epsg.io/3857)__ to find custom coordinate systems. *Default Value: spherical*\n",
    "\n",
    "2. __Number of Legend Columns__. *Default Value: 1*\n",
    "\n",
    "3. __Sort Legend By__ sorts the resources in the legend (not the size indicators) by either *alphabetical* or by the sum of the *capacity* of the resource for the selected country. *Default Value: capacity*\n",
    "\n",
    "4. __Zoom Level__ changes the size of the map portion of the plot. This can be useful to adjust the map for different sized screens, or to provide a bigger map for the purpose of saving. *__WARNING:__* making this value large enough to produce an image wider than the width of the console will result in erratic results! *Default Value: 1.5*\n",
    "\n",
    "5. __Island Size Thresh__ creates a minimum threshold (in km^2) for the geometry of islands to be included in the map. *largest* can also be entered to only select the largest geometry for the country. For example, plotting Canada with the default values includes a number of arctic islands that are useless for the purpose of a power plant map (sorry Baffin island). Setting __Island Size Thresh__ to either *largest* or *8000000* will only display the continental portions of Canada. *Default Value: 200 (km^2)*\n",
    "\n",
    "6. __Show Populated Places__ can be used to draw points on the map in the location of populated cities. Data is drawn from the __[Natural Earth](https://www.naturalearthdata.com/downloads/10m-cultural-vectors/10m-populated-places/)__ database of populated places which includes data for an astonishing number of locations. Additionally, arrows are drawn labeling the name of these points (*__HINT:__* these labels are draggable, although it doesn't work the best!). __Show Populated Places__ can either be *False* (i.e. off), or an integer value which sets the minimum population threshold for a city to be included on the map. *Default Value: False*\n",
    "\n",
    "7. __Bubble Opacity__ is used to change the opacity of the powerplant bubbles. Setting it lower can be useful for countries with a large number of overlapping bubbles (i.e. the United States). *Default Value: 0.5*\n",
    "\n",
    "8. __Country Precursor__ allows you to enter a word (or series of words) to appear before the country name in the title of the plot. For instance, if you entered 'Philippines' as the __Country Name__ but want the title to be 'Power Plants in The Philippines' you could enter *\"The \"* into __Country Precursor__. *Default Value: None*\n",
    "\n",
    "9. __Title On__ turns the title at the top on or off. *Default: True*\n",
    "\n",
    "10. __Source On__ turns the source at the bottom on or off. *Default: True*\n",
    "\n",
    "\n",
    "Please email me at sam.koebrich@NREL.gov with any bugs, comments, or feature requests!"
   ]
  },
  {
   "cell_type": "code",
   "execution_count": 3,
   "metadata": {
    "init_cell": true
   },
   "outputs": [
    {
     "data": {
      "application/vnd.jupyter.widget-view+json": {
       "model_id": "6d63d968a9904efb827792d72d691d76",
       "version_major": 2,
       "version_minor": 0
      },
      "text/plain": [
       "Text(value='spherical', description='Coordinate System:', placeholder='Type something', style=DescriptionStyle…"
      ]
     },
     "metadata": {},
     "output_type": "display_data"
    },
    {
     "data": {
      "application/vnd.jupyter.widget-view+json": {
       "model_id": "8b9a5ceb25e7470380fc5d9f18f5ffad",
       "version_major": 2,
       "version_minor": 0
      },
      "text/plain": [
       "IntSlider(value=1, continuous_update=False, description='Number of Legend Columns:', max=3, min=1, style=Slide…"
      ]
     },
     "metadata": {},
     "output_type": "display_data"
    },
    {
     "data": {
      "application/vnd.jupyter.widget-view+json": {
       "model_id": "656c297d135c4218a7d49cf780e6c4e5",
       "version_major": 2,
       "version_minor": 0
      },
      "text/plain": [
       "Dropdown(description='Sort Legend By:', options=('capacity', 'alphabetical'), style=DescriptionStyle(descripti…"
      ]
     },
     "metadata": {},
     "output_type": "display_data"
    },
    {
     "data": {
      "application/vnd.jupyter.widget-view+json": {
       "model_id": "8038313e06044d28b2313ace5b194d58",
       "version_major": 2,
       "version_minor": 0
      },
      "text/plain": [
       "FloatSlider(value=1.0, continuous_update=False, description='Zoom Level:', max=3.0, min=0.5, readout_format='.…"
      ]
     },
     "metadata": {},
     "output_type": "display_data"
    },
    {
     "data": {
      "application/vnd.jupyter.widget-view+json": {
       "model_id": "36035d45d24442cfb65ec7d4bcf579a3",
       "version_major": 2,
       "version_minor": 0
      },
      "text/plain": [
       "Text(value='5000', description='Island Size Thresh:', placeholder='Type a island thresh', style=DescriptionSty…"
      ]
     },
     "metadata": {},
     "output_type": "display_data"
    },
    {
     "data": {
      "application/vnd.jupyter.widget-view+json": {
       "model_id": "1c3d13db700744b0af0f3e21779a8626",
       "version_major": 2,
       "version_minor": 0
      },
      "text/plain": [
       "Text(value='False', description='Show Populated Places:', placeholder='Type something', style=DescriptionStyle…"
      ]
     },
     "metadata": {},
     "output_type": "display_data"
    },
    {
     "data": {
      "application/vnd.jupyter.widget-view+json": {
       "model_id": "22ca0dc852894eb8ad827d25b5afa613",
       "version_major": 2,
       "version_minor": 0
      },
      "text/plain": [
       "FloatSlider(value=0.5, continuous_update=False, description='Bubble Opacity:', max=1.0, readout_format='.1f', …"
      ]
     },
     "metadata": {},
     "output_type": "display_data"
    },
    {
     "data": {
      "application/vnd.jupyter.widget-view+json": {
       "model_id": "67f86609bb2046cb8e4fdf7834f35075",
       "version_major": 2,
       "version_minor": 0
      },
      "text/plain": [
       "Text(value='', description='Country Precursor:', placeholder='Precursor to Country Name', style=DescriptionSty…"
      ]
     },
     "metadata": {},
     "output_type": "display_data"
    },
    {
     "data": {
      "application/vnd.jupyter.widget-view+json": {
       "model_id": "88ab2e12f7d349ffa08526a7f89d1ff0",
       "version_major": 2,
       "version_minor": 0
      },
      "text/plain": [
       "RadioButtons(description='Title On:', options=(True, False), value=True)"
      ]
     },
     "metadata": {},
     "output_type": "display_data"
    },
    {
     "data": {
      "application/vnd.jupyter.widget-view+json": {
       "model_id": "0f2fd8accecd4f86b35f5c06523abe65",
       "version_major": 2,
       "version_minor": 0
      },
      "text/plain": [
       "RadioButtons(description='Source On:', options=(True, False), value=True)"
      ]
     },
     "metadata": {},
     "output_type": "display_data"
    }
   ],
   "source": [
    "pw.showadvancedwidgets()"
   ]
  },
  {
   "cell_type": "markdown",
   "metadata": {},
   "source": [
    "Powerplant data from: \n",
    "Global Energy Observatory, Google, KTH Royal Institute of Technology in Stockholm, Enipedia, World Resources Institute. 2018. Global Power Plant Database. Published on Resource Watch and Google Earth Engine; http://resourcewatch.org/ https://earthengine.google.com/\n",
    "\n",
    "\n",
    "Written in &#128013; with &#128149;"
   ]
  },
  {
   "cell_type": "code",
   "execution_count": null,
   "metadata": {},
   "outputs": [],
   "source": []
  }
 ],
 "metadata": {
  "celltoolbar": "Initialization Cell",
  "kernelspec": {
   "display_name": "Python 3",
   "language": "python",
   "name": "python3"
  },
  "language_info": {
   "codemirror_mode": {
    "name": "ipython",
    "version": 3
   },
   "file_extension": ".py",
   "mimetype": "text/x-python",
   "name": "python",
   "nbconvert_exporter": "python",
   "pygments_lexer": "ipython3",
   "version": "3.6.5"
  },
  "widgets": {
   "application/vnd.jupyter.widget-state+json": {
    "state": {
     "010ed1c7bf0a4848948e308eb71fc2fc": {
      "model_module": "@jupyter-widgets/base",
      "model_module_version": "1.0.0",
      "model_name": "LayoutModel",
      "state": {}
     },
     "02b8a3844d794aed9133f3180581b508": {
      "model_module": "@jupyter-widgets/base",
      "model_module_version": "1.0.0",
      "model_name": "LayoutModel",
      "state": {}
     },
     "058d54805c20450eafbc9db231c5c754": {
      "model_module": "@jupyter-widgets/controls",
      "model_module_version": "1.2.0",
      "model_name": "DescriptionStyleModel",
      "state": {
       "description_width": "initial"
      }
     },
     "05cf403f1c984ed785a57914e07b3ed4": {
      "model_module": "@jupyter-widgets/base",
      "model_module_version": "1.0.0",
      "model_name": "LayoutModel",
      "state": {
       "height": "80px",
       "width": "70%"
      }
     },
     "07d4e4a18cc346ce93b9a10849d918d9": {
      "model_module": "@jupyter-widgets/base",
      "model_module_version": "1.0.0",
      "model_name": "LayoutModel",
      "state": {
       "height": "80px",
       "width": "70%"
      }
     },
     "083a7ffeba7b4bc2931fa493aac2b9c2": {
      "model_module": "@jupyter-widgets/controls",
      "model_module_version": "1.2.0",
      "model_name": "TextModel",
      "state": {
       "description": "Coordinate System:",
       "layout": "IPY_MODEL_8e369e9e95b0412a956edc2eec5ca3ee",
       "placeholder": "Type something",
       "style": "IPY_MODEL_ed2ba2283910438e9213d39295c6c66d",
       "value": "spherical"
      }
     },
     "0a158a000eb841de97f47b8ee7f14c5a": {
      "model_module": "@jupyter-widgets/base",
      "model_module_version": "1.0.0",
      "model_name": "LayoutModel",
      "state": {}
     },
     "0b4622c9ea7d4c03874b56cacb424dcd": {
      "model_module": "@jupyter-widgets/controls",
      "model_module_version": "1.2.0",
      "model_name": "TextModel",
      "state": {
       "description": "Country Precursor:",
       "layout": "IPY_MODEL_7eebd21cecfd4f438cda8b39232357ff",
       "placeholder": "Precursor to Country Name",
       "style": "IPY_MODEL_40c9e9c61a9d49d988156905625739cc"
      }
     },
     "0beff752fed84020bc817f17c2ecaa1d": {
      "model_module": "@jupyter-widgets/base",
      "model_module_version": "1.0.0",
      "model_name": "LayoutModel",
      "state": {}
     },
     "0f486a410ccd413d903252616dc606f3": {
      "model_module": "@jupyter-widgets/controls",
      "model_module_version": "1.2.0",
      "model_name": "FloatSliderModel",
      "state": {
       "continuous_update": false,
       "description": "Bubble Opacity:",
       "layout": "IPY_MODEL_ed748724e69043e6b6b9290c21e750fc",
       "max": 1,
       "readout_format": ".1f",
       "step": 0.1,
       "style": "IPY_MODEL_1a4ed045f62748fbb73330749aa865ba",
       "value": 0.5
      }
     },
     "1038a7a79c4f4339928cf3eca426265d": {
      "model_module": "@jupyter-widgets/controls",
      "model_module_version": "1.2.0",
      "model_name": "TextModel",
      "state": {
       "description": "Show Populated Places:",
       "layout": "IPY_MODEL_893588eccb564a26b2026e0d63bb40d0",
       "placeholder": "Type something",
       "style": "IPY_MODEL_288060d3e82c4d9e995a8e6eb516dbd6",
       "value": "False"
      }
     },
     "10939cd7c0ba4b7f813bbd234f5886ca": {
      "model_module": "@jupyter-widgets/controls",
      "model_module_version": "1.2.0",
      "model_name": "DescriptionStyleModel",
      "state": {
       "description_width": "initial"
      }
     },
     "109d31f70ca84d888591250c0905c01c": {
      "model_module": "@jupyter-widgets/base",
      "model_module_version": "1.0.0",
      "model_name": "LayoutModel",
      "state": {}
     },
     "10d2814d3e2a4514be2f21a0f26f9f9a": {
      "model_module": "@jupyter-widgets/controls",
      "model_module_version": "1.2.0",
      "model_name": "ButtonStyleModel",
      "state": {}
     },
     "12b8b3adb0454383bb82c961e846082a": {
      "model_module": "@jupyter-widgets/controls",
      "model_module_version": "1.2.0",
      "model_name": "SliderStyleModel",
      "state": {
       "description_width": "initial"
      }
     },
     "12e0922dd6844b0badf0173a79d455ba": {
      "model_module": "@jupyter-widgets/base",
      "model_module_version": "1.0.0",
      "model_name": "LayoutModel",
      "state": {}
     },
     "13deba104b124a58808102cf5ca3385b": {
      "model_module": "@jupyter-widgets/controls",
      "model_module_version": "1.2.0",
      "model_name": "ToggleButtonsModel",
      "state": {
       "_options_labels": [
        "Simple",
        "Mixed",
        "Complex"
       ],
       "button_style": "",
       "description": "Simplification Level:",
       "icons": [],
       "index": 1,
       "layout": "IPY_MODEL_3bf6e31885ee4afeafec97f2f5f3953e",
       "style": "IPY_MODEL_34e9edea2dff4ec7b7718a1e90f3e475",
       "tooltips": [
        "Renewables, Fossil, and Nuclear",
        "Solar, Wind, Hydro, Geothermal,Biomass, Wave and Tidal,\n Storage, Fossil, Nuclear",
        "Solar, Wind, Hydro, Geothermal,Biomass, Wave and Tidal,\n Storage, Fossil, Nuclear, Coal, Gas, Oil, Waste, Cogeneration"
       ]
      }
     },
     "14e316bba7b646ec8d29b2f2b9376a70": {
      "model_module": "@jupyter-widgets/controls",
      "model_module_version": "1.2.0",
      "model_name": "DropdownModel",
      "state": {
       "_options_labels": [
        "capacity",
        "alphabetical"
       ],
       "description": "Sort Legend By:",
       "index": 0,
       "layout": "IPY_MODEL_40d16b65d8df44c4b895c47fa60b5ba9",
       "style": "IPY_MODEL_7b7d7fa6e7a34a5daa8b2d4705aa3538"
      }
     },
     "16b0c417099e4e1fb9797faaf460cdab": {
      "model_module": "@jupyter-widgets/controls",
      "model_module_version": "1.2.0",
      "model_name": "DescriptionStyleModel",
      "state": {
       "description_width": "initial"
      }
     },
     "17001cca00194e0cafdee261752dbcdd": {
      "model_module": "@jupyter-widgets/base",
      "model_module_version": "1.0.0",
      "model_name": "LayoutModel",
      "state": {}
     },
     "18e37dd631e84d1c8a1572e0227ca2f5": {
      "model_module": "@jupyter-widgets/base",
      "model_module_version": "1.0.0",
      "model_name": "LayoutModel",
      "state": {}
     },
     "1a4944b730414972b8e78ccc5f174728": {
      "model_module": "@jupyter-widgets/controls",
      "model_module_version": "1.2.0",
      "model_name": "SliderStyleModel",
      "state": {
       "description_width": "initial"
      }
     },
     "1a4ed045f62748fbb73330749aa865ba": {
      "model_module": "@jupyter-widgets/controls",
      "model_module_version": "1.2.0",
      "model_name": "SliderStyleModel",
      "state": {
       "description_width": "initial"
      }
     },
     "1b0ea0b2b7464ed1b8cbe979839ced9b": {
      "model_module": "@jupyter-widgets/base",
      "model_module_version": "1.0.0",
      "model_name": "LayoutModel",
      "state": {}
     },
     "1b1af95fda874a35830da77937472a16": {
      "model_module": "@jupyter-widgets/controls",
      "model_module_version": "1.2.0",
      "model_name": "DescriptionStyleModel",
      "state": {
       "description_width": "initial"
      }
     },
     "1f0ee5c34001498fbcde7e7ca6c8f9e5": {
      "model_module": "@jupyter-widgets/base",
      "model_module_version": "1.0.0",
      "model_name": "LayoutModel",
      "state": {}
     },
     "1fabb84a19d34e9db16d7f6fafc80d51": {
      "model_module": "@jupyter-widgets/controls",
      "model_module_version": "1.2.0",
      "model_name": "ButtonModel",
      "state": {
       "description": "Update Plot",
       "icon": "check",
       "layout": "IPY_MODEL_7f9bf6dbe7e14010b2690230fa643a59",
       "style": "IPY_MODEL_94a880a70bfd4aacb4ba03bf1d59ae92",
       "tooltip": "Update Plot"
      }
     },
     "23326e45c0584ff49f26ca3405dc269c": {
      "model_module": "@jupyter-widgets/controls",
      "model_module_version": "1.2.0",
      "model_name": "DescriptionStyleModel",
      "state": {
       "description_width": "initial"
      }
     },
     "2744a9a4245e4ce392b7da3458773886": {
      "model_module": "@jupyter-widgets/base",
      "model_module_version": "1.0.0",
      "model_name": "LayoutModel",
      "state": {
       "height": "80px",
       "width": "70%"
      }
     },
     "27923732d28842fb833d024bd04ffcef": {
      "model_module": "@jupyter-widgets/controls",
      "model_module_version": "1.2.0",
      "model_name": "ToggleButtonsStyleModel",
      "state": {
       "button_width": "",
       "description_width": "initial"
      }
     },
     "288060d3e82c4d9e995a8e6eb516dbd6": {
      "model_module": "@jupyter-widgets/controls",
      "model_module_version": "1.2.0",
      "model_name": "DescriptionStyleModel",
      "state": {
       "description_width": "initial"
      }
     },
     "29add54988604a7999b603dd9cb7d054": {
      "model_module": "@jupyter-widgets/controls",
      "model_module_version": "1.2.0",
      "model_name": "TextModel",
      "state": {
       "description": "Country Name:",
       "layout": "IPY_MODEL_12e0922dd6844b0badf0173a79d455ba",
       "placeholder": "Type a country name",
       "style": "IPY_MODEL_a93b116b59be4920bb2e511b49aa7f77",
       "value": "India"
      }
     },
     "2a3164795ea544ecb3999fe612ee5414": {
      "model_module": "@jupyter-widgets/base",
      "model_module_version": "1.0.0",
      "model_name": "LayoutModel",
      "state": {
       "height": "80px",
       "width": "70%"
      }
     },
     "2bafa6351b9045a2a9bf212871912c7e": {
      "model_module": "@jupyter-widgets/controls",
      "model_module_version": "1.2.0",
      "model_name": "IntSliderModel",
      "state": {
       "continuous_update": false,
       "description": "Number of Legend Columns:",
       "layout": "IPY_MODEL_73c61e62236546379381715c89153640",
       "max": 3,
       "min": 1,
       "style": "IPY_MODEL_a8af5a4db811411db959cbfd18d59ad6",
       "value": 1
      }
     },
     "2d8014c48b5a4740b47b895f621dc9a1": {
      "model_module": "@jupyter-widgets/controls",
      "model_module_version": "1.2.0",
      "model_name": "ButtonStyleModel",
      "state": {}
     },
     "2f6629529078457db334226140d36d61": {
      "model_module": "@jupyter-widgets/base",
      "model_module_version": "1.0.0",
      "model_name": "LayoutModel",
      "state": {}
     },
     "2fe415dc7de54d6190176de0a7175b33": {
      "model_module": "@jupyter-widgets/controls",
      "model_module_version": "1.2.0",
      "model_name": "DescriptionStyleModel",
      "state": {
       "description_width": "initial"
      }
     },
     "30d6471269fc40a1a4f860fdfc8b610e": {
      "model_module": "@jupyter-widgets/base",
      "model_module_version": "1.0.0",
      "model_name": "LayoutModel",
      "state": {}
     },
     "3125f5cd27a7450c98c9f988dd85cb7f": {
      "model_module": "@jupyter-widgets/controls",
      "model_module_version": "1.2.0",
      "model_name": "DropdownModel",
      "state": {
       "_options_labels": [
        "capacity",
        "alphabetical"
       ],
       "description": "Sort Legend By:",
       "index": 0,
       "layout": "IPY_MODEL_49bd67dc24854b889918a23b15b00f85",
       "style": "IPY_MODEL_a750b2ac585544419b8e637c8e885f82"
      }
     },
     "31350430751643e5814fc8980af761cc": {
      "model_module": "@jupyter-widgets/controls",
      "model_module_version": "1.2.0",
      "model_name": "TextModel",
      "state": {
       "description": "Coordinate System:",
       "layout": "IPY_MODEL_53d81026ac3646c2814129596f41f012",
       "placeholder": "Type something",
       "style": "IPY_MODEL_ef32c488276b4ee49436f14c7eb80224",
       "value": "spherical"
      }
     },
     "3393bdca9acd4a3aa9db45edbc8da76e": {
      "model_module": "@jupyter-widgets/controls",
      "model_module_version": "1.2.0",
      "model_name": "TextModel",
      "state": {
       "description": "Country Name:",
       "layout": "IPY_MODEL_18e37dd631e84d1c8a1572e0227ca2f5",
       "placeholder": "Type a country name",
       "style": "IPY_MODEL_537f1bd0e2ad45e9b841ecf61c980f2f",
       "value": "India"
      }
     },
     "339ee14ddd864efabafa4777e196b00d": {
      "model_module": "@jupyter-widgets/controls",
      "model_module_version": "1.2.0",
      "model_name": "DescriptionStyleModel",
      "state": {
       "description_width": "initial"
      }
     },
     "34014df9fcdc47df8e33f6b7b35b0974": {
      "model_module": "@jupyter-widgets/controls",
      "model_module_version": "1.2.0",
      "model_name": "TextModel",
      "state": {
       "description": "Show Populated Places:",
       "layout": "IPY_MODEL_109d31f70ca84d888591250c0905c01c",
       "placeholder": "Type something",
       "style": "IPY_MODEL_16b0c417099e4e1fb9797faaf460cdab",
       "value": "False"
      }
     },
     "34e9edea2dff4ec7b7718a1e90f3e475": {
      "model_module": "@jupyter-widgets/controls",
      "model_module_version": "1.2.0",
      "model_name": "ToggleButtonsStyleModel",
      "state": {
       "button_width": "",
       "description_width": "initial"
      }
     },
     "358b85675660437d91780d8aa0097a00": {
      "model_module": "@jupyter-widgets/base",
      "model_module_version": "1.0.0",
      "model_name": "LayoutModel",
      "state": {}
     },
     "366cec21c9064cc4b475d2ab927a07f7": {
      "model_module": "@jupyter-widgets/controls",
      "model_module_version": "1.2.0",
      "model_name": "IntSliderModel",
      "state": {
       "continuous_update": false,
       "description": "DPI (resolution):",
       "layout": "IPY_MODEL_591839c9b4f141d5a28d4cf3452b40c6",
       "max": 500,
       "min": 100,
       "style": "IPY_MODEL_9afbc86f13914158a03d293a830ee70d",
       "value": 300
      }
     },
     "36eae348f7224cb1b05bee38a1c2be8c": {
      "model_module": "@jupyter-widgets/controls",
      "model_module_version": "1.2.0",
      "model_name": "DescriptionStyleModel",
      "state": {
       "description_width": "initial"
      }
     },
     "375fcecc1872407f98f0cf7ca4cd416d": {
      "model_module": "@jupyter-widgets/controls",
      "model_module_version": "1.2.0",
      "model_name": "TextModel",
      "state": {
       "description": "Coordinate System:",
       "layout": "IPY_MODEL_e9305f35e0fd483887baf0b326df7b95",
       "placeholder": "Type something",
       "style": "IPY_MODEL_ae3b3f6fbb1a4b26b0ffe7d4b9f72de8",
       "value": "spherical"
      }
     },
     "3b02cbdca733420bb0abb22b3b073d07": {
      "model_module": "@jupyter-widgets/controls",
      "model_module_version": "1.2.0",
      "model_name": "TextModel",
      "state": {
       "description": "Show Populated Places:",
       "layout": "IPY_MODEL_d4ad19b8a2f04f589aa20a7ccc92ac75",
       "placeholder": "Type something",
       "style": "IPY_MODEL_9ab1fe573e8445949f69aa4030771271",
       "value": "False"
      }
     },
     "3bcdc2e9071e47f6b59fef3edfba57ad": {
      "model_module": "@jupyter-widgets/controls",
      "model_module_version": "1.2.0",
      "model_name": "DescriptionStyleModel",
      "state": {
       "description_width": "initial"
      }
     },
     "3bf6e31885ee4afeafec97f2f5f3953e": {
      "model_module": "@jupyter-widgets/base",
      "model_module_version": "1.0.0",
      "model_name": "LayoutModel",
      "state": {}
     },
     "3c96f40bfe404913bb8a556bc94eceb5": {
      "model_module": "@jupyter-widgets/controls",
      "model_module_version": "1.2.0",
      "model_name": "FloatSliderModel",
      "state": {
       "continuous_update": false,
       "description": "Zoom Level:",
       "layout": "IPY_MODEL_dbbfa7595efb435a920d2df2c4ed014f",
       "max": 3,
       "min": 0.5,
       "readout_format": ".1f",
       "step": 0.1,
       "style": "IPY_MODEL_d125a30ae17d43409f6d391ec5d09566",
       "value": 1.5
      }
     },
     "3ce25d4b89904195985c5a22c00a3658": {
      "model_module": "@jupyter-widgets/base",
      "model_module_version": "1.0.0",
      "model_name": "LayoutModel",
      "state": {}
     },
     "3f50e791dfe84c56971a0e3510ab2462": {
      "model_module": "@jupyter-widgets/base",
      "model_module_version": "1.0.0",
      "model_name": "LayoutModel",
      "state": {}
     },
     "40c9e9c61a9d49d988156905625739cc": {
      "model_module": "@jupyter-widgets/controls",
      "model_module_version": "1.2.0",
      "model_name": "DescriptionStyleModel",
      "state": {
       "description_width": "initial"
      }
     },
     "40d16b65d8df44c4b895c47fa60b5ba9": {
      "model_module": "@jupyter-widgets/base",
      "model_module_version": "1.0.0",
      "model_name": "LayoutModel",
      "state": {}
     },
     "432a103699904db7963d0a9bbc7e17f2": {
      "model_module": "@jupyter-widgets/controls",
      "model_module_version": "1.2.0",
      "model_name": "ButtonModel",
      "state": {
       "description": "Update Plot",
       "icon": "check",
       "layout": "IPY_MODEL_07d4e4a18cc346ce93b9a10849d918d9",
       "style": "IPY_MODEL_5db54fa15a92462eaef5fb688a8e939b",
       "tooltip": "Update Plot"
      }
     },
     "43d02a41bd7a4de4992b058737b6302f": {
      "model_module": "@jupyter-widgets/controls",
      "model_module_version": "1.2.0",
      "model_name": "TextModel",
      "state": {
       "description": "Path to save to:",
       "layout": "IPY_MODEL_7d8d5133f57346deb21974a0a242f2ee",
       "placeholder": "Type the complete path to save to",
       "style": "IPY_MODEL_a723d99706924ff7a0ca2a6ef05b9924",
       "value": "/Users/skoebric/Downloads/XYZ.png"
      }
     },
     "44db9351f5b24a118a8d9b80d4cd7037": {
      "model_module": "@jupyter-widgets/controls",
      "model_module_version": "1.2.0",
      "model_name": "DescriptionStyleModel",
      "state": {
       "description_width": "initial"
      }
     },
     "45145fd840e343269f4298bcfcaff6b5": {
      "model_module": "@jupyter-widgets/controls",
      "model_module_version": "1.2.0",
      "model_name": "ButtonStyleModel",
      "state": {}
     },
     "46278d5b091c4166b3984f0c245bad2d": {
      "model_module": "@jupyter-widgets/controls",
      "model_module_version": "1.2.0",
      "model_name": "TextModel",
      "state": {
       "description": "Path to save to:",
       "layout": "IPY_MODEL_7ddc92e61fbc4f82990fbe5d0bb632c6",
       "placeholder": "Type the complete path to save to",
       "style": "IPY_MODEL_a0167f6a4d574f0ab63d52658e485f1d",
       "value": "/Users/skoebric/Downloads/XYZ.png"
      }
     },
     "46834292510b46f3a806a189b6851cfd": {
      "model_module": "@jupyter-widgets/base",
      "model_module_version": "1.0.0",
      "model_name": "LayoutModel",
      "state": {}
     },
     "46ae4478c31f4e94b1935ac9d06f4320": {
      "model_module": "@jupyter-widgets/controls",
      "model_module_version": "1.2.0",
      "model_name": "TextModel",
      "state": {
       "description": "Island Size Thresh:",
       "layout": "IPY_MODEL_0a158a000eb841de97f47b8ee7f14c5a",
       "placeholder": "Type a island thresh",
       "style": "IPY_MODEL_c17885a9718b4721bbbfab07543fd658",
       "value": "200"
      }
     },
     "49b6b75d5bd347c89286ebffd49e3f9a": {
      "model_module": "@jupyter-widgets/controls",
      "model_module_version": "1.2.0",
      "model_name": "ButtonModel",
      "state": {
       "description": "Update Plot",
       "icon": "check",
       "layout": "IPY_MODEL_a22c4e081b5f414d878555709e742130",
       "style": "IPY_MODEL_63188a9729fe43bfbf3d484000133813",
       "tooltip": "Update Plot"
      }
     },
     "49bd67dc24854b889918a23b15b00f85": {
      "model_module": "@jupyter-widgets/base",
      "model_module_version": "1.0.0",
      "model_name": "LayoutModel",
      "state": {}
     },
     "4ab81f5bc0784995b4845a8d39b21895": {
      "model_module": "@jupyter-widgets/controls",
      "model_module_version": "1.2.0",
      "model_name": "ToggleButtonsStyleModel",
      "state": {
       "button_width": "",
       "description_width": "initial"
      }
     },
     "4ec3e174451741f9b57b5e2bfa9fa7e4": {
      "model_module": "@jupyter-widgets/base",
      "model_module_version": "1.0.0",
      "model_name": "LayoutModel",
      "state": {}
     },
     "4f257e99d3e949af99805896f656097d": {
      "model_module": "@jupyter-widgets/base",
      "model_module_version": "1.0.0",
      "model_name": "LayoutModel",
      "state": {}
     },
     "4f67f5e54e9848f2a29055f2338e10eb": {
      "model_module": "@jupyter-widgets/controls",
      "model_module_version": "1.2.0",
      "model_name": "ButtonModel",
      "state": {
       "description": "Update Plot",
       "icon": "check",
       "layout": "IPY_MODEL_b02c35743def4136a7294be2dd34fb32",
       "style": "IPY_MODEL_9a93d7bdd7c94b129d96672b4b55ee04",
       "tooltip": "Update Plot"
      }
     },
     "51014d006bb84891bead873351ff1d01": {
      "model_module": "@jupyter-widgets/controls",
      "model_module_version": "1.2.0",
      "model_name": "DropdownModel",
      "state": {
       "_options_labels": [
        "capacity",
        "alphabetical"
       ],
       "description": "Sort Legend By:",
       "index": 0,
       "layout": "IPY_MODEL_80a60a4f0d544959bb6b9dbda2230dc4",
       "style": "IPY_MODEL_a605d0d3081642aeb98a5b8209c792d3"
      }
     },
     "51d5c7003f234b8c910c7f5b0492c377": {
      "model_module": "@jupyter-widgets/controls",
      "model_module_version": "1.2.0",
      "model_name": "FloatSliderModel",
      "state": {
       "continuous_update": false,
       "description": "Bubble Opacity:",
       "layout": "IPY_MODEL_010ed1c7bf0a4848948e308eb71fc2fc",
       "max": 1,
       "readout_format": ".1f",
       "step": 0.1,
       "style": "IPY_MODEL_f5a0a62cb8df476c8ffc4110bc5cd6cb",
       "value": 0.5
      }
     },
     "5221a1a38da04a329dd1d360ddc1ec4d": {
      "model_module": "@jupyter-widgets/controls",
      "model_module_version": "1.2.0",
      "model_name": "SliderStyleModel",
      "state": {
       "description_width": "initial"
      }
     },
     "537f1bd0e2ad45e9b841ecf61c980f2f": {
      "model_module": "@jupyter-widgets/controls",
      "model_module_version": "1.2.0",
      "model_name": "DescriptionStyleModel",
      "state": {
       "description_width": "initial"
      }
     },
     "53d81026ac3646c2814129596f41f012": {
      "model_module": "@jupyter-widgets/base",
      "model_module_version": "1.0.0",
      "model_name": "LayoutModel",
      "state": {}
     },
     "57f98d81985943ebb9233853dd4a23f0": {
      "model_module": "@jupyter-widgets/controls",
      "model_module_version": "1.2.0",
      "model_name": "ToggleButtonsStyleModel",
      "state": {
       "button_width": "",
       "description_width": "initial"
      }
     },
     "5907fb5ea9804f719263c7fd2887a7d4": {
      "model_module": "@jupyter-widgets/base",
      "model_module_version": "1.0.0",
      "model_name": "LayoutModel",
      "state": {}
     },
     "591839c9b4f141d5a28d4cf3452b40c6": {
      "model_module": "@jupyter-widgets/base",
      "model_module_version": "1.0.0",
      "model_name": "LayoutModel",
      "state": {}
     },
     "59420138f5c443688f9971e1e65bcff6": {
      "model_module": "@jupyter-widgets/controls",
      "model_module_version": "1.2.0",
      "model_name": "DescriptionStyleModel",
      "state": {
       "description_width": "initial"
      }
     },
     "59a4ff60ebaa4d40af2dd5a5325f89c1": {
      "model_module": "@jupyter-widgets/base",
      "model_module_version": "1.0.0",
      "model_name": "LayoutModel",
      "state": {}
     },
     "5b233d34e9214b0fb7e071a0f56f354f": {
      "model_module": "@jupyter-widgets/controls",
      "model_module_version": "1.2.0",
      "model_name": "DescriptionStyleModel",
      "state": {
       "description_width": "initial"
      }
     },
     "5b7ce13e79aa4ab0b9b4c5f6bfd15ec3": {
      "model_module": "@jupyter-widgets/controls",
      "model_module_version": "1.2.0",
      "model_name": "FloatSliderModel",
      "state": {
       "continuous_update": false,
       "description": "Zoom Level:",
       "layout": "IPY_MODEL_86180b5f6c09448e9405b0dd50cb83be",
       "max": 3,
       "min": 0.5,
       "readout_format": ".1f",
       "step": 0.1,
       "style": "IPY_MODEL_c1761a83c028452db93416353cb004ba",
       "value": 1.3
      }
     },
     "5b819e0b42f34b1e9730fbd28fe6d8d1": {
      "model_module": "@jupyter-widgets/controls",
      "model_module_version": "1.2.0",
      "model_name": "TextModel",
      "state": {
       "description": "Island Size Thresh:",
       "layout": "IPY_MODEL_c870c16b581947f49459fff4f5bcad37",
       "placeholder": "Type a island thresh",
       "style": "IPY_MODEL_f3b74ccd814b427fb5383b5f00c6e23d",
       "value": "200"
      }
     },
     "5d5c70c261a14357b167e42fc1d21d6f": {
      "model_module": "@jupyter-widgets/controls",
      "model_module_version": "1.2.0",
      "model_name": "ButtonStyleModel",
      "state": {}
     },
     "5d7a958c50e648eb89e831310f889020": {
      "model_module": "@jupyter-widgets/controls",
      "model_module_version": "1.2.0",
      "model_name": "TextModel",
      "state": {
       "description": "Path to save to:",
       "layout": "IPY_MODEL_1f0ee5c34001498fbcde7e7ca6c8f9e5",
       "placeholder": "Type the complete path to save to",
       "style": "IPY_MODEL_6af47c5cf079478dab6b79b1a0a6afa1",
       "value": "/Users/skoebric/Downloads/XYZ.png"
      }
     },
     "5d8481f9b3834ec3afe531a153110000": {
      "model_module": "@jupyter-widgets/base",
      "model_module_version": "1.0.0",
      "model_name": "LayoutModel",
      "state": {
       "height": "80px",
       "width": "70%"
      }
     },
     "5db54fa15a92462eaef5fb688a8e939b": {
      "model_module": "@jupyter-widgets/controls",
      "model_module_version": "1.2.0",
      "model_name": "ButtonStyleModel",
      "state": {}
     },
     "5dc99c4918fa40c5bbd1ee3d60fc3644": {
      "model_module": "@jupyter-widgets/base",
      "model_module_version": "1.0.0",
      "model_name": "LayoutModel",
      "state": {}
     },
     "5fcb70cac1cf48d3a57d9f2586e10033": {
      "model_module": "@jupyter-widgets/base",
      "model_module_version": "1.0.0",
      "model_name": "LayoutModel",
      "state": {
       "height": "80px",
       "width": "70%"
      }
     },
     "607a6e59d9804276aa154647bd4e2501": {
      "model_module": "@jupyter-widgets/base",
      "model_module_version": "1.0.0",
      "model_name": "LayoutModel",
      "state": {}
     },
     "6224455a541843b1b4fd0ad4e24a5e86": {
      "model_module": "@jupyter-widgets/controls",
      "model_module_version": "1.2.0",
      "model_name": "IntSliderModel",
      "state": {
       "continuous_update": false,
       "description": "DPI (resolution):",
       "layout": "IPY_MODEL_59a4ff60ebaa4d40af2dd5a5325f89c1",
       "max": 500,
       "min": 100,
       "style": "IPY_MODEL_a863b76fab18496c98933ccd4bac1142",
       "value": 300
      }
     },
     "63188a9729fe43bfbf3d484000133813": {
      "model_module": "@jupyter-widgets/controls",
      "model_module_version": "1.2.0",
      "model_name": "ButtonStyleModel",
      "state": {}
     },
     "636f64dbb9194f27a7fcae8b377fedce": {
      "model_module": "@jupyter-widgets/controls",
      "model_module_version": "1.2.0",
      "model_name": "TextModel",
      "state": {
       "description": "Path to save to:",
       "layout": "IPY_MODEL_f1717553bcf44eeea4ad9964d002a26a",
       "placeholder": "Type the complete path to save to",
       "style": "IPY_MODEL_36eae348f7224cb1b05bee38a1c2be8c",
       "value": "/Users/skoebric/Downloads/XYZ.png"
      }
     },
     "64dea73eab154db69b1fb677d91c449f": {
      "model_module": "@jupyter-widgets/controls",
      "model_module_version": "1.2.0",
      "model_name": "FloatSliderModel",
      "state": {
       "continuous_update": false,
       "description": "Bubble Opacity:",
       "layout": "IPY_MODEL_46834292510b46f3a806a189b6851cfd",
       "max": 1,
       "readout_format": ".1f",
       "step": 0.1,
       "style": "IPY_MODEL_a9c8648bf0244eb8968597be79d0b4d7",
       "value": 0.5
      }
     },
     "65ef3fe9c86d4f409473ed7b0b488939": {
      "model_module": "@jupyter-widgets/base",
      "model_module_version": "1.0.0",
      "model_name": "LayoutModel",
      "state": {}
     },
     "66b7077707ed4605ba53941fe63ef0d6": {
      "model_module": "@jupyter-widgets/controls",
      "model_module_version": "1.2.0",
      "model_name": "SliderStyleModel",
      "state": {
       "description_width": "initial"
      }
     },
     "671feb368ed64d689200326fc1bca844": {
      "model_module": "@jupyter-widgets/controls",
      "model_module_version": "1.2.0",
      "model_name": "TextModel",
      "state": {
       "description": "Island Size Thresh:",
       "layout": "IPY_MODEL_5dc99c4918fa40c5bbd1ee3d60fc3644",
       "placeholder": "Type a island thresh",
       "style": "IPY_MODEL_d5db70abe66a463cbcbc4c14ffeb3fbe",
       "value": "200"
      }
     },
     "69a2869d50cc4cb2a41eafc70b4f41d2": {
      "model_module": "@jupyter-widgets/controls",
      "model_module_version": "1.2.0",
      "model_name": "TextModel",
      "state": {
       "description": "Country Name:",
       "layout": "IPY_MODEL_ee930139d1f047a8a177b19da9b7eaae",
       "placeholder": "Type a country name",
       "style": "IPY_MODEL_23326e45c0584ff49f26ca3405dc269c",
       "value": "India"
      }
     },
     "6a24a82825eb4236aa0bb3cd20d4809e": {
      "model_module": "@jupyter-widgets/controls",
      "model_module_version": "1.2.0",
      "model_name": "ButtonModel",
      "state": {
       "description": "Update Plot",
       "icon": "check",
       "layout": "IPY_MODEL_2a3164795ea544ecb3999fe612ee5414",
       "style": "IPY_MODEL_eab0ba454c37404891d7818f67598e53",
       "tooltip": "Update Plot"
      }
     },
     "6af47c5cf079478dab6b79b1a0a6afa1": {
      "model_module": "@jupyter-widgets/controls",
      "model_module_version": "1.2.0",
      "model_name": "DescriptionStyleModel",
      "state": {
       "description_width": "initial"
      }
     },
     "6b9437aecae346fd88c73379052f7c40": {
      "model_module": "@jupyter-widgets/controls",
      "model_module_version": "1.2.0",
      "model_name": "ButtonStyleModel",
      "state": {}
     },
     "6e3350ca5e2d45e7b9d802a4b277076e": {
      "model_module": "@jupyter-widgets/controls",
      "model_module_version": "1.2.0",
      "model_name": "IntSliderModel",
      "state": {
       "continuous_update": false,
       "description": "DPI (resolution):",
       "layout": "IPY_MODEL_5907fb5ea9804f719263c7fd2887a7d4",
       "max": 500,
       "min": 100,
       "style": "IPY_MODEL_883cf5e88f4c44329bdce1e336a39253",
       "value": 300
      }
     },
     "6e5bca7f6dbb46a1a4dd72e0e5c4adb7": {
      "model_module": "@jupyter-widgets/controls",
      "model_module_version": "1.2.0",
      "model_name": "DescriptionStyleModel",
      "state": {
       "description_width": "initial"
      }
     },
     "71dc84637a1a4a5fa09721663c609035": {
      "model_module": "@jupyter-widgets/controls",
      "model_module_version": "1.2.0",
      "model_name": "IntSliderModel",
      "state": {
       "continuous_update": false,
       "description": "Number of Legend Columns:",
       "layout": "IPY_MODEL_8a792adcdcd24b42baa0d3518b64bb69",
       "max": 3,
       "min": 1,
       "style": "IPY_MODEL_5221a1a38da04a329dd1d360ddc1ec4d",
       "value": 1
      }
     },
     "72e371d069bb4da9a2dbc7143650aec3": {
      "model_module": "@jupyter-widgets/controls",
      "model_module_version": "1.2.0",
      "model_name": "ButtonModel",
      "state": {
       "description": "Update Plot",
       "icon": "check",
       "layout": "IPY_MODEL_d95b60d2d0bb496fb9de8de820725ea7",
       "style": "IPY_MODEL_ade1275f884b4e1da9e7f726b20d9fbe",
       "tooltip": "Update Plot"
      }
     },
     "73c61e62236546379381715c89153640": {
      "model_module": "@jupyter-widgets/base",
      "model_module_version": "1.0.0",
      "model_name": "LayoutModel",
      "state": {}
     },
     "74ac13abc0a746b88d82ff69f483e592": {
      "model_module": "@jupyter-widgets/controls",
      "model_module_version": "1.2.0",
      "model_name": "ToggleButtonsModel",
      "state": {
       "_options_labels": [
        "Simple",
        "Mixed",
        "Complex"
       ],
       "button_style": "",
       "description": "Simplification Level:",
       "icons": [],
       "index": 1,
       "layout": "IPY_MODEL_358b85675660437d91780d8aa0097a00",
       "style": "IPY_MODEL_c44f3f66ec554097bfc60ee48f027378",
       "tooltips": [
        "Renewables, Fossil, and Nuclear",
        "Solar, Wind, Hydro, Geothermal,Biomass, Wave and Tidal,\n Storage, Fossil, Nuclear",
        "Solar, Wind, Hydro, Geothermal,Biomass, Wave and Tidal,\n Storage, Fossil, Nuclear, Coal, Gas, Oil, Waste, Cogeneration"
       ]
      }
     },
     "74ae4d6a8e554dd495161472cefba67f": {
      "model_module": "@jupyter-widgets/controls",
      "model_module_version": "1.2.0",
      "model_name": "IntSliderModel",
      "state": {
       "continuous_update": false,
       "description": "Number of Legend Columns:",
       "layout": "IPY_MODEL_e939a14180474b2782bf7f2024bc33aa",
       "max": 3,
       "min": 1,
       "style": "IPY_MODEL_cebc6e0301c447b5a6980e762b8105cb",
       "value": 1
      }
     },
     "755d0b3f7812438aa5c260b54cf52caa": {
      "model_module": "@jupyter-widgets/controls",
      "model_module_version": "1.2.0",
      "model_name": "DropdownModel",
      "state": {
       "_options_labels": [
        "capacity",
        "alphabetical"
       ],
       "description": "Sort Legend By:",
       "index": 0,
       "layout": "IPY_MODEL_607a6e59d9804276aa154647bd4e2501",
       "style": "IPY_MODEL_b6e9fac3fc5c4d488529e69839187160"
      }
     },
     "75d38b2429324837a69e0a1ce0e2e67e": {
      "model_module": "@jupyter-widgets/controls",
      "model_module_version": "1.2.0",
      "model_name": "DescriptionStyleModel",
      "state": {
       "description_width": "initial"
      }
     },
     "7618737d939c4e36b0b4f5b7bb048297": {
      "model_module": "@jupyter-widgets/controls",
      "model_module_version": "1.2.0",
      "model_name": "SliderStyleModel",
      "state": {
       "description_width": "initial"
      }
     },
     "78e38ab79c874a74ab8522fd282f67fc": {
      "model_module": "@jupyter-widgets/base",
      "model_module_version": "1.0.0",
      "model_name": "LayoutModel",
      "state": {}
     },
     "7b690176320b4de4b69756517fcedee1": {
      "model_module": "@jupyter-widgets/controls",
      "model_module_version": "1.2.0",
      "model_name": "ButtonStyleModel",
      "state": {}
     },
     "7b7d7fa6e7a34a5daa8b2d4705aa3538": {
      "model_module": "@jupyter-widgets/controls",
      "model_module_version": "1.2.0",
      "model_name": "DescriptionStyleModel",
      "state": {
       "description_width": "initial"
      }
     },
     "7d20ae9a5a024904b73d29284e391e86": {
      "model_module": "@jupyter-widgets/controls",
      "model_module_version": "1.2.0",
      "model_name": "FloatSliderModel",
      "state": {
       "continuous_update": false,
       "description": "Zoom Level:",
       "layout": "IPY_MODEL_0beff752fed84020bc817f17c2ecaa1d",
       "max": 3,
       "min": 0.5,
       "readout_format": ".1f",
       "step": 0.1,
       "style": "IPY_MODEL_a2aeac8fd2a44505a83688aa0828e4ef",
       "value": 1.5
      }
     },
     "7d8d5133f57346deb21974a0a242f2ee": {
      "model_module": "@jupyter-widgets/base",
      "model_module_version": "1.0.0",
      "model_name": "LayoutModel",
      "state": {}
     },
     "7da1bcbd095e4333bd52e2821c255a5a": {
      "model_module": "@jupyter-widgets/base",
      "model_module_version": "1.0.0",
      "model_name": "LayoutModel",
      "state": {}
     },
     "7ddc92e61fbc4f82990fbe5d0bb632c6": {
      "model_module": "@jupyter-widgets/base",
      "model_module_version": "1.0.0",
      "model_name": "LayoutModel",
      "state": {}
     },
     "7e549bbdcc914a5dbb2f4f73a7501483": {
      "model_module": "@jupyter-widgets/controls",
      "model_module_version": "1.2.0",
      "model_name": "ButtonModel",
      "state": {
       "description": "Update Plot",
       "icon": "check",
       "layout": "IPY_MODEL_05cf403f1c984ed785a57914e07b3ed4",
       "style": "IPY_MODEL_5d5c70c261a14357b167e42fc1d21d6f",
       "tooltip": "Update Plot"
      }
     },
     "7eebd21cecfd4f438cda8b39232357ff": {
      "model_module": "@jupyter-widgets/base",
      "model_module_version": "1.0.0",
      "model_name": "LayoutModel",
      "state": {}
     },
     "7f9bf6dbe7e14010b2690230fa643a59": {
      "model_module": "@jupyter-widgets/base",
      "model_module_version": "1.0.0",
      "model_name": "LayoutModel",
      "state": {
       "height": "80px",
       "width": "70%"
      }
     },
     "7fd399169c1b4b78953e4883039d919b": {
      "model_module": "@jupyter-widgets/controls",
      "model_module_version": "1.2.0",
      "model_name": "ButtonModel",
      "state": {
       "description": "Save Plot",
       "icon": "check",
       "layout": "IPY_MODEL_5fcb70cac1cf48d3a57d9f2586e10033",
       "style": "IPY_MODEL_2d8014c48b5a4740b47b895f621dc9a1",
       "tooltip": "Save Plot"
      }
     },
     "80584b831d434dbdbc7e902b8b24dae2": {
      "model_module": "@jupyter-widgets/controls",
      "model_module_version": "1.2.0",
      "model_name": "TextModel",
      "state": {
       "description": "Country Name:",
       "layout": "IPY_MODEL_c9d409efbcc64adfb585a74f16d55f1a",
       "placeholder": "Type a country name",
       "style": "IPY_MODEL_f0fce0215ce14a779d1d1b189dcd5b9b",
       "value": "India"
      }
     },
     "80a60a4f0d544959bb6b9dbda2230dc4": {
      "model_module": "@jupyter-widgets/base",
      "model_module_version": "1.0.0",
      "model_name": "LayoutModel",
      "state": {}
     },
     "846435c573dd4e8eabd4a80c555fb8fe": {
      "model_module": "@jupyter-widgets/controls",
      "model_module_version": "1.2.0",
      "model_name": "FloatSliderModel",
      "state": {
       "continuous_update": false,
       "description": "Zoom Level:",
       "layout": "IPY_MODEL_a9e64cc6a4e84f83b4a59dcb79cba70e",
       "max": 3,
       "min": 0.5,
       "readout_format": ".1f",
       "step": 0.1,
       "style": "IPY_MODEL_f5e200ea06ab4c90b79f56a68abc7ab3",
       "value": 1.5
      }
     },
     "848d71a376ff4d83a09b5f7f5c18dee7": {
      "model_module": "@jupyter-widgets/controls",
      "model_module_version": "1.2.0",
      "model_name": "FloatSliderModel",
      "state": {
       "continuous_update": false,
       "description": "Bubble Opacity:",
       "layout": "IPY_MODEL_8638caa2ac804152b752288b6fe7990e",
       "max": 1,
       "readout_format": ".1f",
       "step": 0.1,
       "style": "IPY_MODEL_12b8b3adb0454383bb82c961e846082a",
       "value": 0.5
      }
     },
     "86180b5f6c09448e9405b0dd50cb83be": {
      "model_module": "@jupyter-widgets/base",
      "model_module_version": "1.0.0",
      "model_name": "LayoutModel",
      "state": {}
     },
     "8638caa2ac804152b752288b6fe7990e": {
      "model_module": "@jupyter-widgets/base",
      "model_module_version": "1.0.0",
      "model_name": "LayoutModel",
      "state": {}
     },
     "8836b2a3d8a34e60946bc10cd65210f2": {
      "model_module": "@jupyter-widgets/controls",
      "model_module_version": "1.2.0",
      "model_name": "ButtonModel",
      "state": {
       "description": "Save Plot",
       "icon": "check",
       "layout": "IPY_MODEL_a44dd498dc6747bd86857fb7d5f9df5b",
       "style": "IPY_MODEL_10d2814d3e2a4514be2f21a0f26f9f9a",
       "tooltip": "Save Plot"
      }
     },
     "883cf5e88f4c44329bdce1e336a39253": {
      "model_module": "@jupyter-widgets/controls",
      "model_module_version": "1.2.0",
      "model_name": "SliderStyleModel",
      "state": {
       "description_width": "initial"
      }
     },
     "893588eccb564a26b2026e0d63bb40d0": {
      "model_module": "@jupyter-widgets/base",
      "model_module_version": "1.0.0",
      "model_name": "LayoutModel",
      "state": {}
     },
     "89ae9a7c40b34c319da0d0a71b1cf288": {
      "model_module": "@jupyter-widgets/controls",
      "model_module_version": "1.2.0",
      "model_name": "ButtonModel",
      "state": {
       "description": "Update Plot",
       "icon": "check",
       "layout": "IPY_MODEL_5d8481f9b3834ec3afe531a153110000",
       "style": "IPY_MODEL_7b690176320b4de4b69756517fcedee1",
       "tooltip": "Update Plot"
      }
     },
     "8a792adcdcd24b42baa0d3518b64bb69": {
      "model_module": "@jupyter-widgets/base",
      "model_module_version": "1.0.0",
      "model_name": "LayoutModel",
      "state": {}
     },
     "8e369e9e95b0412a956edc2eec5ca3ee": {
      "model_module": "@jupyter-widgets/base",
      "model_module_version": "1.0.0",
      "model_name": "LayoutModel",
      "state": {}
     },
     "8e46a15b7e9248189c4bb5ecc5556f95": {
      "model_module": "@jupyter-widgets/controls",
      "model_module_version": "1.2.0",
      "model_name": "SliderStyleModel",
      "state": {
       "description_width": "initial"
      }
     },
     "94041037c4984306a39e2e3c519602e6": {
      "model_module": "@jupyter-widgets/base",
      "model_module_version": "1.0.0",
      "model_name": "LayoutModel",
      "state": {}
     },
     "94a880a70bfd4aacb4ba03bf1d59ae92": {
      "model_module": "@jupyter-widgets/controls",
      "model_module_version": "1.2.0",
      "model_name": "ButtonStyleModel",
      "state": {}
     },
     "969b72f9f7d64ad4b854e9a4fe99223a": {
      "model_module": "@jupyter-widgets/controls",
      "model_module_version": "1.2.0",
      "model_name": "DropdownModel",
      "state": {
       "_options_labels": [
        "capacity",
        "alphabetical"
       ],
       "description": "Sort Legend By:",
       "index": 0,
       "layout": "IPY_MODEL_bf2f14644d2d4417ba9ed3b44c01d22f",
       "style": "IPY_MODEL_59420138f5c443688f9971e1e65bcff6"
      }
     },
     "97389ded853a41938f1ce898908aee11": {
      "model_module": "@jupyter-widgets/controls",
      "model_module_version": "1.2.0",
      "model_name": "IntSliderModel",
      "state": {
       "continuous_update": false,
       "description": "DPI (resolution):",
       "layout": "IPY_MODEL_7da1bcbd095e4333bd52e2821c255a5a",
       "max": 500,
       "min": 100,
       "style": "IPY_MODEL_8e46a15b7e9248189c4bb5ecc5556f95",
       "value": 300
      }
     },
     "98b3e8a75cb244b1a50b5bff1eb0aff1": {
      "model_module": "@jupyter-widgets/base",
      "model_module_version": "1.0.0",
      "model_name": "LayoutModel",
      "state": {}
     },
     "98c2a89be7a043c4b91ced5cf7d22f51": {
      "model_module": "@jupyter-widgets/base",
      "model_module_version": "1.0.0",
      "model_name": "LayoutModel",
      "state": {
       "height": "80px",
       "width": "70%"
      }
     },
     "99a64a9c93d84a17a5c1384644a1ecc3": {
      "model_module": "@jupyter-widgets/controls",
      "model_module_version": "1.2.0",
      "model_name": "ButtonModel",
      "state": {
       "description": "Update Plot",
       "icon": "check",
       "layout": "IPY_MODEL_b9c568d290684f7aa4671947d77f8e21",
       "style": "IPY_MODEL_feb06c0c3e894536819e43823020e7db",
       "tooltip": "Update Plot"
      }
     },
     "9a93d7bdd7c94b129d96672b4b55ee04": {
      "model_module": "@jupyter-widgets/controls",
      "model_module_version": "1.2.0",
      "model_name": "ButtonStyleModel",
      "state": {}
     },
     "9ab1fe573e8445949f69aa4030771271": {
      "model_module": "@jupyter-widgets/controls",
      "model_module_version": "1.2.0",
      "model_name": "DescriptionStyleModel",
      "state": {
       "description_width": "initial"
      }
     },
     "9afbc86f13914158a03d293a830ee70d": {
      "model_module": "@jupyter-widgets/controls",
      "model_module_version": "1.2.0",
      "model_name": "SliderStyleModel",
      "state": {
       "description_width": "initial"
      }
     },
     "9b904e2e6e9342e2852f6de2aa4f9ebb": {
      "model_module": "@jupyter-widgets/controls",
      "model_module_version": "1.2.0",
      "model_name": "FloatSliderModel",
      "state": {
       "continuous_update": false,
       "description": "Bubble Opacity:",
       "layout": "IPY_MODEL_02b8a3844d794aed9133f3180581b508",
       "max": 1,
       "readout_format": ".1f",
       "step": 0.1,
       "style": "IPY_MODEL_9c7c305d475e478ebea7ac75a3f593ba",
       "value": 0.5
      }
     },
     "9c60bee8798a4e7f8c90d24960124e3c": {
      "model_module": "@jupyter-widgets/base",
      "model_module_version": "1.0.0",
      "model_name": "LayoutModel",
      "state": {}
     },
     "9c7c305d475e478ebea7ac75a3f593ba": {
      "model_module": "@jupyter-widgets/controls",
      "model_module_version": "1.2.0",
      "model_name": "SliderStyleModel",
      "state": {
       "description_width": "initial"
      }
     },
     "9c802342e3ef40c588c6d3260b452777": {
      "model_module": "@jupyter-widgets/controls",
      "model_module_version": "1.2.0",
      "model_name": "ToggleButtonsModel",
      "state": {
       "_options_labels": [
        "Simple",
        "Mixed",
        "Complex"
       ],
       "button_style": "",
       "description": "Simplification Level:",
       "icons": [],
       "index": 1,
       "layout": "IPY_MODEL_9c60bee8798a4e7f8c90d24960124e3c",
       "style": "IPY_MODEL_e783fc82ca5b4b76b58945a2eb559b84",
       "tooltips": [
        "Renewables, Fossil, and Nuclear",
        "Solar, Wind, Hydro, Geothermal,Biomass, Wave and Tidal,\n Storage, Fossil, Nuclear",
        "Solar, Wind, Hydro, Geothermal,Biomass, Wave and Tidal,\n Storage, Fossil, Nuclear, Coal, Gas, Oil, Waste, Cogeneration"
       ]
      }
     },
     "9da689946cf74d4bba483f5465628bd3": {
      "model_module": "@jupyter-widgets/controls",
      "model_module_version": "1.2.0",
      "model_name": "DescriptionStyleModel",
      "state": {
       "description_width": "initial"
      }
     },
     "a0167f6a4d574f0ab63d52658e485f1d": {
      "model_module": "@jupyter-widgets/controls",
      "model_module_version": "1.2.0",
      "model_name": "DescriptionStyleModel",
      "state": {
       "description_width": "initial"
      }
     },
     "a1eb4647c3c04621a1f88dd90de401be": {
      "model_module": "@jupyter-widgets/controls",
      "model_module_version": "1.2.0",
      "model_name": "DescriptionStyleModel",
      "state": {
       "description_width": "initial"
      }
     },
     "a22c4e081b5f414d878555709e742130": {
      "model_module": "@jupyter-widgets/base",
      "model_module_version": "1.0.0",
      "model_name": "LayoutModel",
      "state": {
       "height": "80px",
       "width": "70%"
      }
     },
     "a2aeac8fd2a44505a83688aa0828e4ef": {
      "model_module": "@jupyter-widgets/controls",
      "model_module_version": "1.2.0",
      "model_name": "SliderStyleModel",
      "state": {
       "description_width": "initial"
      }
     },
     "a43deb5f4ea34220bc499ac5398b8bea": {
      "model_module": "@jupyter-widgets/controls",
      "model_module_version": "1.2.0",
      "model_name": "SliderStyleModel",
      "state": {
       "description_width": "initial"
      }
     },
     "a44dd498dc6747bd86857fb7d5f9df5b": {
      "model_module": "@jupyter-widgets/base",
      "model_module_version": "1.0.0",
      "model_name": "LayoutModel",
      "state": {
       "height": "80px",
       "width": "70%"
      }
     },
     "a4ccc02fce1a4f9f9d81d431a50a657c": {
      "model_module": "@jupyter-widgets/base",
      "model_module_version": "1.0.0",
      "model_name": "LayoutModel",
      "state": {
       "height": "80px",
       "width": "70%"
      }
     },
     "a4e48d1735f14553afb9748d3959d7c5": {
      "model_module": "@jupyter-widgets/controls",
      "model_module_version": "1.2.0",
      "model_name": "DescriptionStyleModel",
      "state": {
       "description_width": "initial"
      }
     },
     "a5b2b01196fc4b0a9dcf4b8f0cd41b48": {
      "model_module": "@jupyter-widgets/controls",
      "model_module_version": "1.2.0",
      "model_name": "DescriptionStyleModel",
      "state": {
       "description_width": "initial"
      }
     },
     "a605d0d3081642aeb98a5b8209c792d3": {
      "model_module": "@jupyter-widgets/controls",
      "model_module_version": "1.2.0",
      "model_name": "DescriptionStyleModel",
      "state": {
       "description_width": "initial"
      }
     },
     "a723d99706924ff7a0ca2a6ef05b9924": {
      "model_module": "@jupyter-widgets/controls",
      "model_module_version": "1.2.0",
      "model_name": "DescriptionStyleModel",
      "state": {
       "description_width": "initial"
      }
     },
     "a73447805f734cf69b11ffd71d5f0eb7": {
      "model_module": "@jupyter-widgets/base",
      "model_module_version": "1.0.0",
      "model_name": "LayoutModel",
      "state": {}
     },
     "a750b2ac585544419b8e637c8e885f82": {
      "model_module": "@jupyter-widgets/controls",
      "model_module_version": "1.2.0",
      "model_name": "DescriptionStyleModel",
      "state": {
       "description_width": "initial"
      }
     },
     "a863b76fab18496c98933ccd4bac1142": {
      "model_module": "@jupyter-widgets/controls",
      "model_module_version": "1.2.0",
      "model_name": "SliderStyleModel",
      "state": {
       "description_width": "initial"
      }
     },
     "a8711251c9d046a1ab72f2245c881504": {
      "model_module": "@jupyter-widgets/controls",
      "model_module_version": "1.2.0",
      "model_name": "TextModel",
      "state": {
       "description": "Show Populated Places:",
       "layout": "IPY_MODEL_da6cb41089c14cb089304d41439efd82",
       "placeholder": "Type something",
       "style": "IPY_MODEL_44db9351f5b24a118a8d9b80d4cd7037",
       "value": "False"
      }
     },
     "a8af5a4db811411db959cbfd18d59ad6": {
      "model_module": "@jupyter-widgets/controls",
      "model_module_version": "1.2.0",
      "model_name": "SliderStyleModel",
      "state": {
       "description_width": "initial"
      }
     },
     "a930678d8e454f079abfebc16a36c414": {
      "model_module": "@jupyter-widgets/controls",
      "model_module_version": "1.2.0",
      "model_name": "FloatSliderModel",
      "state": {
       "continuous_update": false,
       "description": "Zoom Level:",
       "layout": "IPY_MODEL_ef9a73385d5e44f98d5b834775056728",
       "max": 3,
       "min": 0.5,
       "readout_format": ".1f",
       "step": 0.1,
       "style": "IPY_MODEL_fee5a3a78cf5455abb69bd438fb5452d",
       "value": 1.5
      }
     },
     "a93b116b59be4920bb2e511b49aa7f77": {
      "model_module": "@jupyter-widgets/controls",
      "model_module_version": "1.2.0",
      "model_name": "DescriptionStyleModel",
      "state": {
       "description_width": "initial"
      }
     },
     "a9c8648bf0244eb8968597be79d0b4d7": {
      "model_module": "@jupyter-widgets/controls",
      "model_module_version": "1.2.0",
      "model_name": "SliderStyleModel",
      "state": {
       "description_width": "initial"
      }
     },
     "a9e64cc6a4e84f83b4a59dcb79cba70e": {
      "model_module": "@jupyter-widgets/base",
      "model_module_version": "1.0.0",
      "model_name": "LayoutModel",
      "state": {}
     },
     "ab6b047ec91946468db30ab6bd90b8d9": {
      "model_module": "@jupyter-widgets/controls",
      "model_module_version": "1.2.0",
      "model_name": "FloatSliderModel",
      "state": {
       "continuous_update": false,
       "description": "Bubble Opacity:",
       "layout": "IPY_MODEL_e6c3ac873f0846c19ca55edff40cdcf0",
       "max": 1,
       "readout_format": ".1f",
       "step": 0.1,
       "style": "IPY_MODEL_7618737d939c4e36b0b4f5b7bb048297",
       "value": 0.5
      }
     },
     "add5aca5680448eaaf7390da7e82d6ad": {
      "model_module": "@jupyter-widgets/controls",
      "model_module_version": "1.2.0",
      "model_name": "IntSliderModel",
      "state": {
       "continuous_update": false,
       "description": "Number of Legend Columns:",
       "layout": "IPY_MODEL_de2ffcf7a6554d4bb99b5b968ea338f0",
       "max": 3,
       "min": 1,
       "style": "IPY_MODEL_1a4944b730414972b8e78ccc5f174728",
       "value": 1
      }
     },
     "ade1275f884b4e1da9e7f726b20d9fbe": {
      "model_module": "@jupyter-widgets/controls",
      "model_module_version": "1.2.0",
      "model_name": "ButtonStyleModel",
      "state": {}
     },
     "ae3b3f6fbb1a4b26b0ffe7d4b9f72de8": {
      "model_module": "@jupyter-widgets/controls",
      "model_module_version": "1.2.0",
      "model_name": "DescriptionStyleModel",
      "state": {
       "description_width": "initial"
      }
     },
     "af3518d1dce044eeba6b79026046f753": {
      "model_module": "@jupyter-widgets/base",
      "model_module_version": "1.0.0",
      "model_name": "LayoutModel",
      "state": {}
     },
     "af380b0320c64e7ea2166fb8973ac6e4": {
      "model_module": "@jupyter-widgets/controls",
      "model_module_version": "1.2.0",
      "model_name": "ToggleButtonsModel",
      "state": {
       "_options_labels": [
        "Simple",
        "Mixed",
        "Complex"
       ],
       "button_style": "",
       "description": "Simplification Level:",
       "icons": [],
       "index": 1,
       "layout": "IPY_MODEL_af3518d1dce044eeba6b79026046f753",
       "style": "IPY_MODEL_4ab81f5bc0784995b4845a8d39b21895",
       "tooltips": [
        "Renewables, Fossil, and Nuclear",
        "Solar, Wind, Hydro, Geothermal,Biomass, Wave and Tidal,\n Storage, Fossil, Nuclear",
        "Solar, Wind, Hydro, Geothermal,Biomass, Wave and Tidal,\n Storage, Fossil, Nuclear, Coal, Gas, Oil, Waste, Cogeneration"
       ]
      }
     },
     "b02c35743def4136a7294be2dd34fb32": {
      "model_module": "@jupyter-widgets/base",
      "model_module_version": "1.0.0",
      "model_name": "LayoutModel",
      "state": {
       "height": "80px",
       "width": "70%"
      }
     },
     "b08ced56b4954f1cb7bbabd23749f4f0": {
      "model_module": "@jupyter-widgets/controls",
      "model_module_version": "1.2.0",
      "model_name": "SliderStyleModel",
      "state": {
       "description_width": "initial"
      }
     },
     "b1433046e48245baa42f8d7468e62276": {
      "model_module": "@jupyter-widgets/controls",
      "model_module_version": "1.2.0",
      "model_name": "TextModel",
      "state": {
       "description": "Country Name:",
       "layout": "IPY_MODEL_beb52625b9d14e66987e5e618a9500d8",
       "placeholder": "Type a country name",
       "style": "IPY_MODEL_75d38b2429324837a69e0a1ce0e2e67e",
       "value": "India"
      }
     },
     "b1f880ae0bfc46d0a77a3bdc3778a66f": {
      "model_module": "@jupyter-widgets/controls",
      "model_module_version": "1.2.0",
      "model_name": "TextModel",
      "state": {
       "description": "Path to save to:",
       "layout": "IPY_MODEL_ffd8beec813f443c97b3b531e32b7276",
       "placeholder": "Type the complete path to save to",
       "style": "IPY_MODEL_bb732c95c6634e479dfba3e651852210",
       "value": "/Users/skoebric/Downloads/XYZ.png"
      }
     },
     "b23296a9a88b43d4a4362728a2e5e7d4": {
      "model_module": "@jupyter-widgets/base",
      "model_module_version": "1.0.0",
      "model_name": "LayoutModel",
      "state": {}
     },
     "b6834b9c61d04288a1fbe38a0249b998": {
      "model_module": "@jupyter-widgets/controls",
      "model_module_version": "1.2.0",
      "model_name": "TextModel",
      "state": {
       "description": "Country Precursor:",
       "layout": "IPY_MODEL_bc82f7b6521445e68c98ca812655c854",
       "placeholder": "Precursor to Country Name",
       "style": "IPY_MODEL_e6074492c7cc4040ad3cb358ae512305"
      }
     },
     "b6e9fac3fc5c4d488529e69839187160": {
      "model_module": "@jupyter-widgets/controls",
      "model_module_version": "1.2.0",
      "model_name": "DescriptionStyleModel",
      "state": {
       "description_width": "initial"
      }
     },
     "b707193cffa84ab5a91b3283acbd194d": {
      "model_module": "@jupyter-widgets/base",
      "model_module_version": "1.0.0",
      "model_name": "LayoutModel",
      "state": {}
     },
     "b75f567f81954bcfa937171f697a5784": {
      "model_module": "@jupyter-widgets/controls",
      "model_module_version": "1.2.0",
      "model_name": "ButtonModel",
      "state": {
       "description": "Update Plot",
       "icon": "check",
       "layout": "IPY_MODEL_98c2a89be7a043c4b91ced5cf7d22f51",
       "style": "IPY_MODEL_6b9437aecae346fd88c73379052f7c40",
       "tooltip": "Update Plot"
      }
     },
     "b93174ef329240a3844b300d0b2f8103": {
      "model_module": "@jupyter-widgets/controls",
      "model_module_version": "1.2.0",
      "model_name": "TextModel",
      "state": {
       "description": "Show Populated Places:",
       "layout": "IPY_MODEL_4f257e99d3e949af99805896f656097d",
       "placeholder": "Type something",
       "style": "IPY_MODEL_6e5bca7f6dbb46a1a4dd72e0e5c4adb7",
       "value": "False"
      }
     },
     "b9c568d290684f7aa4671947d77f8e21": {
      "model_module": "@jupyter-widgets/base",
      "model_module_version": "1.0.0",
      "model_name": "LayoutModel",
      "state": {
       "height": "80px",
       "width": "70%"
      }
     },
     "bb04d6ef5455490f964556cd53d1d61d": {
      "model_module": "@jupyter-widgets/controls",
      "model_module_version": "1.2.0",
      "model_name": "TextModel",
      "state": {
       "description": "Island Size Thresh:",
       "layout": "IPY_MODEL_fc0bab5a38904c1fba240e51d9566eab",
       "placeholder": "Type a island thresh",
       "style": "IPY_MODEL_5b233d34e9214b0fb7e071a0f56f354f",
       "value": "200"
      }
     },
     "bb732c95c6634e479dfba3e651852210": {
      "model_module": "@jupyter-widgets/controls",
      "model_module_version": "1.2.0",
      "model_name": "DescriptionStyleModel",
      "state": {
       "description_width": "initial"
      }
     },
     "bc82f7b6521445e68c98ca812655c854": {
      "model_module": "@jupyter-widgets/base",
      "model_module_version": "1.0.0",
      "model_name": "LayoutModel",
      "state": {}
     },
     "be41e91c77bb4843a619e3aabfaf5a9d": {
      "model_module": "@jupyter-widgets/controls",
      "model_module_version": "1.2.0",
      "model_name": "TextModel",
      "state": {
       "description": "Country Name:",
       "layout": "IPY_MODEL_78e38ab79c874a74ab8522fd282f67fc",
       "placeholder": "Type a country name",
       "style": "IPY_MODEL_a5b2b01196fc4b0a9dcf4b8f0cd41b48",
       "value": "India"
      }
     },
     "beb52625b9d14e66987e5e618a9500d8": {
      "model_module": "@jupyter-widgets/base",
      "model_module_version": "1.0.0",
      "model_name": "LayoutModel",
      "state": {}
     },
     "bf2f14644d2d4417ba9ed3b44c01d22f": {
      "model_module": "@jupyter-widgets/base",
      "model_module_version": "1.0.0",
      "model_name": "LayoutModel",
      "state": {}
     },
     "bf5a328e8a704319bafb1457c661a492": {
      "model_module": "@jupyter-widgets/controls",
      "model_module_version": "1.2.0",
      "model_name": "SliderStyleModel",
      "state": {
       "description_width": "initial"
      }
     },
     "c014af86e5ab4e8e8de3a1f4b82c887e": {
      "model_module": "@jupyter-widgets/controls",
      "model_module_version": "1.2.0",
      "model_name": "TextModel",
      "state": {
       "description": "Coordinate System:",
       "layout": "IPY_MODEL_4ec3e174451741f9b57b5e2bfa9fa7e4",
       "placeholder": "Type something",
       "style": "IPY_MODEL_cb1767cf107d458ab310d045850c5180",
       "value": "spherical"
      }
     },
     "c091215079a84417b98e38fc7b6ff03c": {
      "model_module": "@jupyter-widgets/controls",
      "model_module_version": "1.2.0",
      "model_name": "ButtonModel",
      "state": {
       "description": "Update Plot",
       "icon": "check",
       "layout": "IPY_MODEL_a4ccc02fce1a4f9f9d81d431a50a657c",
       "style": "IPY_MODEL_c0debf8a615b489f8cf8ea23cad747da",
       "tooltip": "Update Plot"
      }
     },
     "c0debf8a615b489f8cf8ea23cad747da": {
      "model_module": "@jupyter-widgets/controls",
      "model_module_version": "1.2.0",
      "model_name": "ButtonStyleModel",
      "state": {}
     },
     "c0ed58f44e1d402c80383dfffc184066": {
      "model_module": "@jupyter-widgets/base",
      "model_module_version": "1.0.0",
      "model_name": "LayoutModel",
      "state": {
       "height": "80px",
       "width": "70%"
      }
     },
     "c1761a83c028452db93416353cb004ba": {
      "model_module": "@jupyter-widgets/controls",
      "model_module_version": "1.2.0",
      "model_name": "SliderStyleModel",
      "state": {
       "description_width": "initial"
      }
     },
     "c17885a9718b4721bbbfab07543fd658": {
      "model_module": "@jupyter-widgets/controls",
      "model_module_version": "1.2.0",
      "model_name": "DescriptionStyleModel",
      "state": {
       "description_width": "initial"
      }
     },
     "c3582214d48a4b49957cf8c6cef38759": {
      "model_module": "@jupyter-widgets/base",
      "model_module_version": "1.0.0",
      "model_name": "LayoutModel",
      "state": {}
     },
     "c44f3f66ec554097bfc60ee48f027378": {
      "model_module": "@jupyter-widgets/controls",
      "model_module_version": "1.2.0",
      "model_name": "ToggleButtonsStyleModel",
      "state": {
       "button_width": "",
       "description_width": "initial"
      }
     },
     "c475c73739194fb39810694e9a0b9ab4": {
      "model_module": "@jupyter-widgets/controls",
      "model_module_version": "1.2.0",
      "model_name": "IntSliderModel",
      "state": {
       "continuous_update": false,
       "description": "DPI (resolution):",
       "layout": "IPY_MODEL_98b3e8a75cb244b1a50b5bff1eb0aff1",
       "max": 500,
       "min": 100,
       "style": "IPY_MODEL_b08ced56b4954f1cb7bbabd23749f4f0",
       "value": 300
      }
     },
     "c488274fbc0247cebba7ab09422e9738": {
      "model_module": "@jupyter-widgets/controls",
      "model_module_version": "1.2.0",
      "model_name": "DescriptionStyleModel",
      "state": {
       "description_width": "initial"
      }
     },
     "c69a7fe9e3df4e139592191dd8193870": {
      "model_module": "@jupyter-widgets/controls",
      "model_module_version": "1.2.0",
      "model_name": "DescriptionStyleModel",
      "state": {
       "description_width": "initial"
      }
     },
     "c70d18a2b4a5490681d273f2113fd1b2": {
      "model_module": "@jupyter-widgets/controls",
      "model_module_version": "1.2.0",
      "model_name": "DropdownModel",
      "state": {
       "_options_labels": [
        "capacity",
        "alphabetical"
       ],
       "description": "Sort Legend By:",
       "index": 0,
       "layout": "IPY_MODEL_c3582214d48a4b49957cf8c6cef38759",
       "style": "IPY_MODEL_2fe415dc7de54d6190176de0a7175b33"
      }
     },
     "c870c16b581947f49459fff4f5bcad37": {
      "model_module": "@jupyter-widgets/base",
      "model_module_version": "1.0.0",
      "model_name": "LayoutModel",
      "state": {}
     },
     "c9d409efbcc64adfb585a74f16d55f1a": {
      "model_module": "@jupyter-widgets/base",
      "model_module_version": "1.0.0",
      "model_name": "LayoutModel",
      "state": {}
     },
     "cb1767cf107d458ab310d045850c5180": {
      "model_module": "@jupyter-widgets/controls",
      "model_module_version": "1.2.0",
      "model_name": "DescriptionStyleModel",
      "state": {
       "description_width": "initial"
      }
     },
     "ce054e897c6d4e9c9cd4f9964a2a7958": {
      "model_module": "@jupyter-widgets/controls",
      "model_module_version": "1.2.0",
      "model_name": "TextModel",
      "state": {
       "description": "Country Precursor:",
       "layout": "IPY_MODEL_30d6471269fc40a1a4f860fdfc8b610e",
       "placeholder": "Precursor to Country Name",
       "style": "IPY_MODEL_1b1af95fda874a35830da77937472a16"
      }
     },
     "ce7dc05fbc8c40f1bc26ba28f039c6f1": {
      "model_module": "@jupyter-widgets/base",
      "model_module_version": "1.0.0",
      "model_name": "LayoutModel",
      "state": {}
     },
     "cebc6e0301c447b5a6980e762b8105cb": {
      "model_module": "@jupyter-widgets/controls",
      "model_module_version": "1.2.0",
      "model_name": "SliderStyleModel",
      "state": {
       "description_width": "initial"
      }
     },
     "d027039d36254a32a84ab027a4e0ae04": {
      "model_module": "@jupyter-widgets/base",
      "model_module_version": "1.0.0",
      "model_name": "LayoutModel",
      "state": {}
     },
     "d06ee01a6e0d4615b441d45812ffbc5c": {
      "model_module": "@jupyter-widgets/controls",
      "model_module_version": "1.2.0",
      "model_name": "IntSliderModel",
      "state": {
       "continuous_update": false,
       "description": "Number of Legend Columns:",
       "layout": "IPY_MODEL_b23296a9a88b43d4a4362728a2e5e7d4",
       "max": 3,
       "min": 1,
       "style": "IPY_MODEL_66b7077707ed4605ba53941fe63ef0d6",
       "value": 1
      }
     },
     "d0807774317c4aff80725f88f053f4ab": {
      "model_module": "@jupyter-widgets/controls",
      "model_module_version": "1.2.0",
      "model_name": "TextModel",
      "state": {
       "description": "Island Size Thresh:",
       "layout": "IPY_MODEL_a73447805f734cf69b11ffd71d5f0eb7",
       "placeholder": "Type a island thresh",
       "style": "IPY_MODEL_058d54805c20450eafbc9db231c5c754",
       "value": "200"
      }
     },
     "d125a30ae17d43409f6d391ec5d09566": {
      "model_module": "@jupyter-widgets/controls",
      "model_module_version": "1.2.0",
      "model_name": "SliderStyleModel",
      "state": {
       "description_width": "initial"
      }
     },
     "d4ad19b8a2f04f589aa20a7ccc92ac75": {
      "model_module": "@jupyter-widgets/base",
      "model_module_version": "1.0.0",
      "model_name": "LayoutModel",
      "state": {}
     },
     "d5db70abe66a463cbcbc4c14ffeb3fbe": {
      "model_module": "@jupyter-widgets/controls",
      "model_module_version": "1.2.0",
      "model_name": "DescriptionStyleModel",
      "state": {
       "description_width": "initial"
      }
     },
     "d95b60d2d0bb496fb9de8de820725ea7": {
      "model_module": "@jupyter-widgets/base",
      "model_module_version": "1.0.0",
      "model_name": "LayoutModel",
      "state": {
       "height": "80px",
       "width": "70%"
      }
     },
     "da6cb41089c14cb089304d41439efd82": {
      "model_module": "@jupyter-widgets/base",
      "model_module_version": "1.0.0",
      "model_name": "LayoutModel",
      "state": {}
     },
     "da725c0ce721436eb070073810e930d1": {
      "model_module": "@jupyter-widgets/controls",
      "model_module_version": "1.2.0",
      "model_name": "ButtonStyleModel",
      "state": {}
     },
     "daa92050d52f433eb3e34b0085216e51": {
      "model_module": "@jupyter-widgets/controls",
      "model_module_version": "1.2.0",
      "model_name": "TextModel",
      "state": {
       "description": "Show Populated Places:",
       "layout": "IPY_MODEL_e86e01961d5245b18ac7ecabee6ba5ff",
       "placeholder": "Type something",
       "style": "IPY_MODEL_339ee14ddd864efabafa4777e196b00d",
       "value": "False"
      }
     },
     "dbbfa7595efb435a920d2df2c4ed014f": {
      "model_module": "@jupyter-widgets/base",
      "model_module_version": "1.0.0",
      "model_name": "LayoutModel",
      "state": {}
     },
     "dcd971f3c86845d7abc50517182b2279": {
      "model_module": "@jupyter-widgets/controls",
      "model_module_version": "1.2.0",
      "model_name": "ButtonModel",
      "state": {
       "description": "Update Plot",
       "icon": "check",
       "layout": "IPY_MODEL_c0ed58f44e1d402c80383dfffc184066",
       "style": "IPY_MODEL_da725c0ce721436eb070073810e930d1",
       "tooltip": "Update Plot"
      }
     },
     "de2ffcf7a6554d4bb99b5b968ea338f0": {
      "model_module": "@jupyter-widgets/base",
      "model_module_version": "1.0.0",
      "model_name": "LayoutModel",
      "state": {}
     },
     "df992bf53a8c43c993d946a0cc9536be": {
      "model_module": "@jupyter-widgets/controls",
      "model_module_version": "1.2.0",
      "model_name": "TextModel",
      "state": {
       "description": "Coordinate System:",
       "layout": "IPY_MODEL_17001cca00194e0cafdee261752dbcdd",
       "placeholder": "Type something",
       "style": "IPY_MODEL_c69a7fe9e3df4e139592191dd8193870",
       "value": "spherical"
      }
     },
     "e024971a6e9a4d508ea10edeb09bc6dc": {
      "model_module": "@jupyter-widgets/controls",
      "model_module_version": "1.2.0",
      "model_name": "TextModel",
      "state": {
       "description": "Coordinate System:",
       "layout": "IPY_MODEL_b707193cffa84ab5a91b3283acbd194d",
       "placeholder": "Type something",
       "style": "IPY_MODEL_3bcdc2e9071e47f6b59fef3edfba57ad",
       "value": "spherical"
      }
     },
     "e08ea0eab730462a9bb6383a04478810": {
      "model_module": "@jupyter-widgets/controls",
      "model_module_version": "1.2.0",
      "model_name": "ButtonModel",
      "state": {
       "description": "Update Plot",
       "icon": "check",
       "layout": "IPY_MODEL_2744a9a4245e4ce392b7da3458773886",
       "style": "IPY_MODEL_45145fd840e343269f4298bcfcaff6b5",
       "tooltip": "Update Plot"
      }
     },
     "e142632e0a214f2697b5fc6a87c92d7a": {
      "model_module": "@jupyter-widgets/controls",
      "model_module_version": "1.2.0",
      "model_name": "ToggleButtonsModel",
      "state": {
       "_options_labels": [
        "Simple",
        "Mixed",
        "Complex"
       ],
       "button_style": "",
       "description": "Simplification Level:",
       "icons": [],
       "index": 1,
       "layout": "IPY_MODEL_e4e6a9a6d70540e6ab3457e791574c0c",
       "style": "IPY_MODEL_27923732d28842fb833d024bd04ffcef",
       "tooltips": [
        "Renewables, Fossil, and Nuclear",
        "Solar, Wind, Hydro, Geothermal,Biomass, Wave and Tidal,\n Storage, Fossil, Nuclear",
        "Solar, Wind, Hydro, Geothermal,Biomass, Wave and Tidal,\n Storage, Fossil, Nuclear, Coal, Gas, Oil, Waste, Cogeneration"
       ]
      }
     },
     "e4e6a9a6d70540e6ab3457e791574c0c": {
      "model_module": "@jupyter-widgets/base",
      "model_module_version": "1.0.0",
      "model_name": "LayoutModel",
      "state": {}
     },
     "e5faefe0b30d45f1af15b942dea19f88": {
      "model_module": "@jupyter-widgets/controls",
      "model_module_version": "1.2.0",
      "model_name": "IntSliderModel",
      "state": {
       "continuous_update": false,
       "description": "DPI (resolution):",
       "layout": "IPY_MODEL_ce7dc05fbc8c40f1bc26ba28f039c6f1",
       "max": 500,
       "min": 100,
       "style": "IPY_MODEL_a43deb5f4ea34220bc499ac5398b8bea",
       "value": 300
      }
     },
     "e6074492c7cc4040ad3cb358ae512305": {
      "model_module": "@jupyter-widgets/controls",
      "model_module_version": "1.2.0",
      "model_name": "DescriptionStyleModel",
      "state": {
       "description_width": "initial"
      }
     },
     "e6c3ac873f0846c19ca55edff40cdcf0": {
      "model_module": "@jupyter-widgets/base",
      "model_module_version": "1.0.0",
      "model_name": "LayoutModel",
      "state": {}
     },
     "e704d73ab28844d186beb1674b1d799f": {
      "model_module": "@jupyter-widgets/controls",
      "model_module_version": "1.2.0",
      "model_name": "FloatSliderModel",
      "state": {
       "continuous_update": false,
       "description": "Zoom Level:",
       "layout": "IPY_MODEL_1b0ea0b2b7464ed1b8cbe979839ced9b",
       "max": 3,
       "min": 0.5,
       "readout_format": ".1f",
       "step": 0.1,
       "style": "IPY_MODEL_eea700f97181487ea917fd969e471d34",
       "value": 1.5
      }
     },
     "e783fc82ca5b4b76b58945a2eb559b84": {
      "model_module": "@jupyter-widgets/controls",
      "model_module_version": "1.2.0",
      "model_name": "ToggleButtonsStyleModel",
      "state": {
       "button_width": "",
       "description_width": "initial"
      }
     },
     "e7db3021d8e2438995a7b2bca3f7ac56": {
      "model_module": "@jupyter-widgets/controls",
      "model_module_version": "1.2.0",
      "model_name": "TextModel",
      "state": {
       "description": "Path to save to:",
       "layout": "IPY_MODEL_2f6629529078457db334226140d36d61",
       "placeholder": "Type the complete path to save to",
       "style": "IPY_MODEL_a1eb4647c3c04621a1f88dd90de401be",
       "value": "/Users/skoebric/Downloads/XYZ.png"
      }
     },
     "e86e01961d5245b18ac7ecabee6ba5ff": {
      "model_module": "@jupyter-widgets/base",
      "model_module_version": "1.0.0",
      "model_name": "LayoutModel",
      "state": {}
     },
     "e9305f35e0fd483887baf0b326df7b95": {
      "model_module": "@jupyter-widgets/base",
      "model_module_version": "1.0.0",
      "model_name": "LayoutModel",
      "state": {}
     },
     "e939a14180474b2782bf7f2024bc33aa": {
      "model_module": "@jupyter-widgets/base",
      "model_module_version": "1.0.0",
      "model_name": "LayoutModel",
      "state": {}
     },
     "eaaa258b500643d5b63dd2ce87ec6295": {
      "model_module": "@jupyter-widgets/controls",
      "model_module_version": "1.2.0",
      "model_name": "TextModel",
      "state": {
       "description": "Country Precursor:",
       "layout": "IPY_MODEL_3ce25d4b89904195985c5a22c00a3658",
       "placeholder": "Precursor to Country Name",
       "style": "IPY_MODEL_10939cd7c0ba4b7f813bbd234f5886ca"
      }
     },
     "eab0ba454c37404891d7818f67598e53": {
      "model_module": "@jupyter-widgets/controls",
      "model_module_version": "1.2.0",
      "model_name": "ButtonStyleModel",
      "state": {}
     },
     "eb4a7c8efa2240e3a70085ebfc72ef16": {
      "model_module": "@jupyter-widgets/controls",
      "model_module_version": "1.2.0",
      "model_name": "TextModel",
      "state": {
       "description": "Country Precursor:",
       "layout": "IPY_MODEL_d027039d36254a32a84ab027a4e0ae04",
       "placeholder": "Precursor to Country Name",
       "style": "IPY_MODEL_a4e48d1735f14553afb9748d3959d7c5"
      }
     },
     "ebdd9bf153cc4acb9fab678bc8bd23f2": {
      "model_module": "@jupyter-widgets/controls",
      "model_module_version": "1.2.0",
      "model_name": "TextModel",
      "state": {
       "description": "Island Size Thresh:",
       "layout": "IPY_MODEL_65ef3fe9c86d4f409473ed7b0b488939",
       "placeholder": "Type a island thresh",
       "style": "IPY_MODEL_9da689946cf74d4bba483f5465628bd3",
       "value": "200"
      }
     },
     "ec321d96197542c989738ad79586ac96": {
      "model_module": "@jupyter-widgets/base",
      "model_module_version": "1.0.0",
      "model_name": "LayoutModel",
      "state": {}
     },
     "ec57aafcb73d4ffc9f7633acb55f6683": {
      "model_module": "@jupyter-widgets/controls",
      "model_module_version": "1.2.0",
      "model_name": "TextModel",
      "state": {
       "description": "Country Precursor:",
       "layout": "IPY_MODEL_3f50e791dfe84c56971a0e3510ab2462",
       "placeholder": "Precursor to Country Name",
       "style": "IPY_MODEL_c488274fbc0247cebba7ab09422e9738"
      }
     },
     "ed2ba2283910438e9213d39295c6c66d": {
      "model_module": "@jupyter-widgets/controls",
      "model_module_version": "1.2.0",
      "model_name": "DescriptionStyleModel",
      "state": {
       "description_width": "initial"
      }
     },
     "ed748724e69043e6b6b9290c21e750fc": {
      "model_module": "@jupyter-widgets/base",
      "model_module_version": "1.0.0",
      "model_name": "LayoutModel",
      "state": {}
     },
     "ee930139d1f047a8a177b19da9b7eaae": {
      "model_module": "@jupyter-widgets/base",
      "model_module_version": "1.0.0",
      "model_name": "LayoutModel",
      "state": {}
     },
     "eea700f97181487ea917fd969e471d34": {
      "model_module": "@jupyter-widgets/controls",
      "model_module_version": "1.2.0",
      "model_name": "SliderStyleModel",
      "state": {
       "description_width": "initial"
      }
     },
     "ef32c488276b4ee49436f14c7eb80224": {
      "model_module": "@jupyter-widgets/controls",
      "model_module_version": "1.2.0",
      "model_name": "DescriptionStyleModel",
      "state": {
       "description_width": "initial"
      }
     },
     "ef9a73385d5e44f98d5b834775056728": {
      "model_module": "@jupyter-widgets/base",
      "model_module_version": "1.0.0",
      "model_name": "LayoutModel",
      "state": {}
     },
     "f0fce0215ce14a779d1d1b189dcd5b9b": {
      "model_module": "@jupyter-widgets/controls",
      "model_module_version": "1.2.0",
      "model_name": "DescriptionStyleModel",
      "state": {
       "description_width": "initial"
      }
     },
     "f1717553bcf44eeea4ad9964d002a26a": {
      "model_module": "@jupyter-widgets/base",
      "model_module_version": "1.0.0",
      "model_name": "LayoutModel",
      "state": {}
     },
     "f3b74ccd814b427fb5383b5f00c6e23d": {
      "model_module": "@jupyter-widgets/controls",
      "model_module_version": "1.2.0",
      "model_name": "DescriptionStyleModel",
      "state": {
       "description_width": "initial"
      }
     },
     "f5a0a62cb8df476c8ffc4110bc5cd6cb": {
      "model_module": "@jupyter-widgets/controls",
      "model_module_version": "1.2.0",
      "model_name": "SliderStyleModel",
      "state": {
       "description_width": "initial"
      }
     },
     "f5e200ea06ab4c90b79f56a68abc7ab3": {
      "model_module": "@jupyter-widgets/controls",
      "model_module_version": "1.2.0",
      "model_name": "SliderStyleModel",
      "state": {
       "description_width": "initial"
      }
     },
     "f7883f05ac4446c1a8b08651285e5252": {
      "model_module": "@jupyter-widgets/controls",
      "model_module_version": "1.2.0",
      "model_name": "ToggleButtonsModel",
      "state": {
       "_options_labels": [
        "Simple",
        "Mixed",
        "Complex"
       ],
       "button_style": "",
       "description": "Simplification Level:",
       "icons": [],
       "index": 1,
       "layout": "IPY_MODEL_94041037c4984306a39e2e3c519602e6",
       "style": "IPY_MODEL_57f98d81985943ebb9233853dd4a23f0",
       "tooltips": [
        "Renewables, Fossil, and Nuclear",
        "Solar, Wind, Hydro, Geothermal,Biomass, Wave and Tidal,\n Storage, Fossil, Nuclear",
        "Solar, Wind, Hydro, Geothermal,Biomass, Wave and Tidal,\n Storage, Fossil, Nuclear, Coal, Gas, Oil, Waste, Cogeneration"
       ]
      }
     },
     "fc0bab5a38904c1fba240e51d9566eab": {
      "model_module": "@jupyter-widgets/base",
      "model_module_version": "1.0.0",
      "model_name": "LayoutModel",
      "state": {}
     },
     "fe13b2fd3268453896c9eb11d4c06fd5": {
      "model_module": "@jupyter-widgets/controls",
      "model_module_version": "1.2.0",
      "model_name": "IntSliderModel",
      "state": {
       "continuous_update": false,
       "description": "Number of Legend Columns:",
       "layout": "IPY_MODEL_ec321d96197542c989738ad79586ac96",
       "max": 3,
       "min": 1,
       "style": "IPY_MODEL_bf5a328e8a704319bafb1457c661a492",
       "value": 1
      }
     },
     "feb06c0c3e894536819e43823020e7db": {
      "model_module": "@jupyter-widgets/controls",
      "model_module_version": "1.2.0",
      "model_name": "ButtonStyleModel",
      "state": {}
     },
     "fee5a3a78cf5455abb69bd438fb5452d": {
      "model_module": "@jupyter-widgets/controls",
      "model_module_version": "1.2.0",
      "model_name": "SliderStyleModel",
      "state": {
       "description_width": "initial"
      }
     },
     "ffd8beec813f443c97b3b531e32b7276": {
      "model_module": "@jupyter-widgets/base",
      "model_module_version": "1.0.0",
      "model_name": "LayoutModel",
      "state": {}
     }
    },
    "version_major": 2,
    "version_minor": 0
   }
  }
 },
 "nbformat": 4,
 "nbformat_minor": 2
}
